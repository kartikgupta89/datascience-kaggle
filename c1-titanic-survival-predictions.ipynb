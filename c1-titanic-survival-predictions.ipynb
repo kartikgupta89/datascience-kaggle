{
 "cells": [
  {
   "cell_type": "code",
   "execution_count": 1,
   "id": "4b9507f4",
   "metadata": {
    "_cell_guid": "b1076dfc-b9ad-4769-8c92-a6c4dae69d19",
    "_uuid": "8f2839f25d086af736a60e9eeb907d3b93b6e0e5",
    "execution": {
     "iopub.execute_input": "2023-03-15T09:59:51.559262Z",
     "iopub.status.busy": "2023-03-15T09:59:51.558639Z",
     "iopub.status.idle": "2023-03-15T09:59:51.573449Z",
     "shell.execute_reply": "2023-03-15T09:59:51.572467Z"
    },
    "papermill": {
     "duration": 0.027854,
     "end_time": "2023-03-15T09:59:51.575557",
     "exception": false,
     "start_time": "2023-03-15T09:59:51.547703",
     "status": "completed"
    },
    "tags": []
   },
   "outputs": [
    {
     "name": "stdout",
     "output_type": "stream",
     "text": [
      "/kaggle/input/titanic/train.csv\n",
      "/kaggle/input/titanic/test.csv\n",
      "/kaggle/input/titanic/gender_submission.csv\n"
     ]
    }
   ],
   "source": [
    "# This Python 3 environment comes with many helpful analytics libraries installed\n",
    "# It is defined by the kaggle/python Docker image: https://github.com/kaggle/docker-python\n",
    "# For example, here's several helpful packages to load\n",
    "\n",
    "import numpy as np # linear algebra\n",
    "import pandas as pd # data processing, CSV file I/O (e.g. pd.read_csv)\n",
    "\n",
    "# Input data files are available in the read-only \"../input/\" directory\n",
    "# For example, running this (by clicking run or pressing Shift+Enter) will list all files under the input directory\n",
    "\n",
    "import os\n",
    "for dirname, _, filenames in os.walk('/kaggle/input'):\n",
    "    for filename in filenames:\n",
    "        print(os.path.join(dirname, filename))\n",
    "\n",
    "# You can write up to 20GB to the current directory (/kaggle/working/) that gets preserved as output when you create a version using \"Save & Run All\" \n",
    "# You can also write temporary files to /kaggle/temp/, but they won't be saved outside of the current session"
   ]
  },
  {
   "cell_type": "code",
   "execution_count": 2,
   "id": "26f44889",
   "metadata": {
    "execution": {
     "iopub.execute_input": "2023-03-15T09:59:51.593522Z",
     "iopub.status.busy": "2023-03-15T09:59:51.592674Z",
     "iopub.status.idle": "2023-03-15T09:59:52.657708Z",
     "shell.execute_reply": "2023-03-15T09:59:52.656669Z"
    },
    "papermill": {
     "duration": 1.076865,
     "end_time": "2023-03-15T09:59:52.660476",
     "exception": false,
     "start_time": "2023-03-15T09:59:51.583611",
     "status": "completed"
    },
    "tags": []
   },
   "outputs": [],
   "source": [
    "from sklearn.metrics import mean_absolute_error"
   ]
  },
  {
   "cell_type": "code",
   "execution_count": 3,
   "id": "7ce984d3",
   "metadata": {
    "execution": {
     "iopub.execute_input": "2023-03-15T09:59:52.677585Z",
     "iopub.status.busy": "2023-03-15T09:59:52.677148Z",
     "iopub.status.idle": "2023-03-15T09:59:52.715875Z",
     "shell.execute_reply": "2023-03-15T09:59:52.714734Z"
    },
    "papermill": {
     "duration": 0.050738,
     "end_time": "2023-03-15T09:59:52.719093",
     "exception": false,
     "start_time": "2023-03-15T09:59:52.668355",
     "status": "completed"
    },
    "tags": []
   },
   "outputs": [
    {
     "data": {
      "text/html": [
       "<div>\n",
       "<style scoped>\n",
       "    .dataframe tbody tr th:only-of-type {\n",
       "        vertical-align: middle;\n",
       "    }\n",
       "\n",
       "    .dataframe tbody tr th {\n",
       "        vertical-align: top;\n",
       "    }\n",
       "\n",
       "    .dataframe thead th {\n",
       "        text-align: right;\n",
       "    }\n",
       "</style>\n",
       "<table border=\"1\" class=\"dataframe\">\n",
       "  <thead>\n",
       "    <tr style=\"text-align: right;\">\n",
       "      <th></th>\n",
       "      <th>PassengerId</th>\n",
       "      <th>Survived</th>\n",
       "      <th>Pclass</th>\n",
       "      <th>Name</th>\n",
       "      <th>Sex</th>\n",
       "      <th>Age</th>\n",
       "      <th>SibSp</th>\n",
       "      <th>Parch</th>\n",
       "      <th>Ticket</th>\n",
       "      <th>Fare</th>\n",
       "      <th>Cabin</th>\n",
       "      <th>Embarked</th>\n",
       "    </tr>\n",
       "  </thead>\n",
       "  <tbody>\n",
       "    <tr>\n",
       "      <th>0</th>\n",
       "      <td>1</td>\n",
       "      <td>0</td>\n",
       "      <td>3</td>\n",
       "      <td>Braund, Mr. Owen Harris</td>\n",
       "      <td>male</td>\n",
       "      <td>22.0</td>\n",
       "      <td>1</td>\n",
       "      <td>0</td>\n",
       "      <td>A/5 21171</td>\n",
       "      <td>7.2500</td>\n",
       "      <td>NaN</td>\n",
       "      <td>S</td>\n",
       "    </tr>\n",
       "    <tr>\n",
       "      <th>1</th>\n",
       "      <td>2</td>\n",
       "      <td>1</td>\n",
       "      <td>1</td>\n",
       "      <td>Cumings, Mrs. John Bradley (Florence Briggs Th...</td>\n",
       "      <td>female</td>\n",
       "      <td>38.0</td>\n",
       "      <td>1</td>\n",
       "      <td>0</td>\n",
       "      <td>PC 17599</td>\n",
       "      <td>71.2833</td>\n",
       "      <td>C85</td>\n",
       "      <td>C</td>\n",
       "    </tr>\n",
       "    <tr>\n",
       "      <th>2</th>\n",
       "      <td>3</td>\n",
       "      <td>1</td>\n",
       "      <td>3</td>\n",
       "      <td>Heikkinen, Miss. Laina</td>\n",
       "      <td>female</td>\n",
       "      <td>26.0</td>\n",
       "      <td>0</td>\n",
       "      <td>0</td>\n",
       "      <td>STON/O2. 3101282</td>\n",
       "      <td>7.9250</td>\n",
       "      <td>NaN</td>\n",
       "      <td>S</td>\n",
       "    </tr>\n",
       "    <tr>\n",
       "      <th>3</th>\n",
       "      <td>4</td>\n",
       "      <td>1</td>\n",
       "      <td>1</td>\n",
       "      <td>Futrelle, Mrs. Jacques Heath (Lily May Peel)</td>\n",
       "      <td>female</td>\n",
       "      <td>35.0</td>\n",
       "      <td>1</td>\n",
       "      <td>0</td>\n",
       "      <td>113803</td>\n",
       "      <td>53.1000</td>\n",
       "      <td>C123</td>\n",
       "      <td>S</td>\n",
       "    </tr>\n",
       "    <tr>\n",
       "      <th>4</th>\n",
       "      <td>5</td>\n",
       "      <td>0</td>\n",
       "      <td>3</td>\n",
       "      <td>Allen, Mr. William Henry</td>\n",
       "      <td>male</td>\n",
       "      <td>35.0</td>\n",
       "      <td>0</td>\n",
       "      <td>0</td>\n",
       "      <td>373450</td>\n",
       "      <td>8.0500</td>\n",
       "      <td>NaN</td>\n",
       "      <td>S</td>\n",
       "    </tr>\n",
       "  </tbody>\n",
       "</table>\n",
       "</div>"
      ],
      "text/plain": [
       "   PassengerId  Survived  Pclass  \\\n",
       "0            1         0       3   \n",
       "1            2         1       1   \n",
       "2            3         1       3   \n",
       "3            4         1       1   \n",
       "4            5         0       3   \n",
       "\n",
       "                                                Name     Sex   Age  SibSp  \\\n",
       "0                            Braund, Mr. Owen Harris    male  22.0      1   \n",
       "1  Cumings, Mrs. John Bradley (Florence Briggs Th...  female  38.0      1   \n",
       "2                             Heikkinen, Miss. Laina  female  26.0      0   \n",
       "3       Futrelle, Mrs. Jacques Heath (Lily May Peel)  female  35.0      1   \n",
       "4                           Allen, Mr. William Henry    male  35.0      0   \n",
       "\n",
       "   Parch            Ticket     Fare Cabin Embarked  \n",
       "0      0         A/5 21171   7.2500   NaN        S  \n",
       "1      0          PC 17599  71.2833   C85        C  \n",
       "2      0  STON/O2. 3101282   7.9250   NaN        S  \n",
       "3      0            113803  53.1000  C123        S  \n",
       "4      0            373450   8.0500   NaN        S  "
      ]
     },
     "execution_count": 3,
     "metadata": {},
     "output_type": "execute_result"
    }
   ],
   "source": [
    "train_data = pd.read_csv(\"/kaggle/input/titanic/train.csv\")\n",
    "train_data.head()"
   ]
  },
  {
   "cell_type": "code",
   "execution_count": 4,
   "id": "478813d3",
   "metadata": {
    "execution": {
     "iopub.execute_input": "2023-03-15T09:59:52.737314Z",
     "iopub.status.busy": "2023-03-15T09:59:52.736884Z",
     "iopub.status.idle": "2023-03-15T09:59:52.778841Z",
     "shell.execute_reply": "2023-03-15T09:59:52.778044Z"
    },
    "papermill": {
     "duration": 0.053442,
     "end_time": "2023-03-15T09:59:52.781035",
     "exception": false,
     "start_time": "2023-03-15T09:59:52.727593",
     "status": "completed"
    },
    "tags": []
   },
   "outputs": [
    {
     "data": {
      "text/html": [
       "<div>\n",
       "<style scoped>\n",
       "    .dataframe tbody tr th:only-of-type {\n",
       "        vertical-align: middle;\n",
       "    }\n",
       "\n",
       "    .dataframe tbody tr th {\n",
       "        vertical-align: top;\n",
       "    }\n",
       "\n",
       "    .dataframe thead th {\n",
       "        text-align: right;\n",
       "    }\n",
       "</style>\n",
       "<table border=\"1\" class=\"dataframe\">\n",
       "  <thead>\n",
       "    <tr style=\"text-align: right;\">\n",
       "      <th></th>\n",
       "      <th>PassengerId</th>\n",
       "      <th>Survived</th>\n",
       "      <th>Pclass</th>\n",
       "      <th>Age</th>\n",
       "      <th>SibSp</th>\n",
       "      <th>Parch</th>\n",
       "      <th>Fare</th>\n",
       "    </tr>\n",
       "  </thead>\n",
       "  <tbody>\n",
       "    <tr>\n",
       "      <th>count</th>\n",
       "      <td>891.000000</td>\n",
       "      <td>891.000000</td>\n",
       "      <td>891.000000</td>\n",
       "      <td>714.000000</td>\n",
       "      <td>891.000000</td>\n",
       "      <td>891.000000</td>\n",
       "      <td>891.000000</td>\n",
       "    </tr>\n",
       "    <tr>\n",
       "      <th>mean</th>\n",
       "      <td>446.000000</td>\n",
       "      <td>0.383838</td>\n",
       "      <td>2.308642</td>\n",
       "      <td>29.699118</td>\n",
       "      <td>0.523008</td>\n",
       "      <td>0.381594</td>\n",
       "      <td>32.204208</td>\n",
       "    </tr>\n",
       "    <tr>\n",
       "      <th>std</th>\n",
       "      <td>257.353842</td>\n",
       "      <td>0.486592</td>\n",
       "      <td>0.836071</td>\n",
       "      <td>14.526497</td>\n",
       "      <td>1.102743</td>\n",
       "      <td>0.806057</td>\n",
       "      <td>49.693429</td>\n",
       "    </tr>\n",
       "    <tr>\n",
       "      <th>min</th>\n",
       "      <td>1.000000</td>\n",
       "      <td>0.000000</td>\n",
       "      <td>1.000000</td>\n",
       "      <td>0.420000</td>\n",
       "      <td>0.000000</td>\n",
       "      <td>0.000000</td>\n",
       "      <td>0.000000</td>\n",
       "    </tr>\n",
       "    <tr>\n",
       "      <th>25%</th>\n",
       "      <td>223.500000</td>\n",
       "      <td>0.000000</td>\n",
       "      <td>2.000000</td>\n",
       "      <td>20.125000</td>\n",
       "      <td>0.000000</td>\n",
       "      <td>0.000000</td>\n",
       "      <td>7.910400</td>\n",
       "    </tr>\n",
       "    <tr>\n",
       "      <th>50%</th>\n",
       "      <td>446.000000</td>\n",
       "      <td>0.000000</td>\n",
       "      <td>3.000000</td>\n",
       "      <td>28.000000</td>\n",
       "      <td>0.000000</td>\n",
       "      <td>0.000000</td>\n",
       "      <td>14.454200</td>\n",
       "    </tr>\n",
       "    <tr>\n",
       "      <th>75%</th>\n",
       "      <td>668.500000</td>\n",
       "      <td>1.000000</td>\n",
       "      <td>3.000000</td>\n",
       "      <td>38.000000</td>\n",
       "      <td>1.000000</td>\n",
       "      <td>0.000000</td>\n",
       "      <td>31.000000</td>\n",
       "    </tr>\n",
       "    <tr>\n",
       "      <th>max</th>\n",
       "      <td>891.000000</td>\n",
       "      <td>1.000000</td>\n",
       "      <td>3.000000</td>\n",
       "      <td>80.000000</td>\n",
       "      <td>8.000000</td>\n",
       "      <td>6.000000</td>\n",
       "      <td>512.329200</td>\n",
       "    </tr>\n",
       "  </tbody>\n",
       "</table>\n",
       "</div>"
      ],
      "text/plain": [
       "       PassengerId    Survived      Pclass         Age       SibSp  \\\n",
       "count   891.000000  891.000000  891.000000  714.000000  891.000000   \n",
       "mean    446.000000    0.383838    2.308642   29.699118    0.523008   \n",
       "std     257.353842    0.486592    0.836071   14.526497    1.102743   \n",
       "min       1.000000    0.000000    1.000000    0.420000    0.000000   \n",
       "25%     223.500000    0.000000    2.000000   20.125000    0.000000   \n",
       "50%     446.000000    0.000000    3.000000   28.000000    0.000000   \n",
       "75%     668.500000    1.000000    3.000000   38.000000    1.000000   \n",
       "max     891.000000    1.000000    3.000000   80.000000    8.000000   \n",
       "\n",
       "            Parch        Fare  \n",
       "count  891.000000  891.000000  \n",
       "mean     0.381594   32.204208  \n",
       "std      0.806057   49.693429  \n",
       "min      0.000000    0.000000  \n",
       "25%      0.000000    7.910400  \n",
       "50%      0.000000   14.454200  \n",
       "75%      0.000000   31.000000  \n",
       "max      6.000000  512.329200  "
      ]
     },
     "execution_count": 4,
     "metadata": {},
     "output_type": "execute_result"
    }
   ],
   "source": [
    "train_data.describe()"
   ]
  },
  {
   "cell_type": "code",
   "execution_count": 5,
   "id": "9875132a",
   "metadata": {
    "execution": {
     "iopub.execute_input": "2023-03-15T09:59:52.799088Z",
     "iopub.status.busy": "2023-03-15T09:59:52.798659Z",
     "iopub.status.idle": "2023-03-15T09:59:52.822691Z",
     "shell.execute_reply": "2023-03-15T09:59:52.821597Z"
    },
    "papermill": {
     "duration": 0.035675,
     "end_time": "2023-03-15T09:59:52.825000",
     "exception": false,
     "start_time": "2023-03-15T09:59:52.789325",
     "status": "completed"
    },
    "tags": []
   },
   "outputs": [
    {
     "data": {
      "text/html": [
       "<div>\n",
       "<style scoped>\n",
       "    .dataframe tbody tr th:only-of-type {\n",
       "        vertical-align: middle;\n",
       "    }\n",
       "\n",
       "    .dataframe tbody tr th {\n",
       "        vertical-align: top;\n",
       "    }\n",
       "\n",
       "    .dataframe thead th {\n",
       "        text-align: right;\n",
       "    }\n",
       "</style>\n",
       "<table border=\"1\" class=\"dataframe\">\n",
       "  <thead>\n",
       "    <tr style=\"text-align: right;\">\n",
       "      <th></th>\n",
       "      <th>PassengerId</th>\n",
       "      <th>Pclass</th>\n",
       "      <th>Name</th>\n",
       "      <th>Sex</th>\n",
       "      <th>Age</th>\n",
       "      <th>SibSp</th>\n",
       "      <th>Parch</th>\n",
       "      <th>Ticket</th>\n",
       "      <th>Fare</th>\n",
       "      <th>Cabin</th>\n",
       "      <th>Embarked</th>\n",
       "    </tr>\n",
       "  </thead>\n",
       "  <tbody>\n",
       "    <tr>\n",
       "      <th>0</th>\n",
       "      <td>892</td>\n",
       "      <td>3</td>\n",
       "      <td>Kelly, Mr. James</td>\n",
       "      <td>male</td>\n",
       "      <td>34.5</td>\n",
       "      <td>0</td>\n",
       "      <td>0</td>\n",
       "      <td>330911</td>\n",
       "      <td>7.8292</td>\n",
       "      <td>NaN</td>\n",
       "      <td>Q</td>\n",
       "    </tr>\n",
       "    <tr>\n",
       "      <th>1</th>\n",
       "      <td>893</td>\n",
       "      <td>3</td>\n",
       "      <td>Wilkes, Mrs. James (Ellen Needs)</td>\n",
       "      <td>female</td>\n",
       "      <td>47.0</td>\n",
       "      <td>1</td>\n",
       "      <td>0</td>\n",
       "      <td>363272</td>\n",
       "      <td>7.0000</td>\n",
       "      <td>NaN</td>\n",
       "      <td>S</td>\n",
       "    </tr>\n",
       "    <tr>\n",
       "      <th>2</th>\n",
       "      <td>894</td>\n",
       "      <td>2</td>\n",
       "      <td>Myles, Mr. Thomas Francis</td>\n",
       "      <td>male</td>\n",
       "      <td>62.0</td>\n",
       "      <td>0</td>\n",
       "      <td>0</td>\n",
       "      <td>240276</td>\n",
       "      <td>9.6875</td>\n",
       "      <td>NaN</td>\n",
       "      <td>Q</td>\n",
       "    </tr>\n",
       "    <tr>\n",
       "      <th>3</th>\n",
       "      <td>895</td>\n",
       "      <td>3</td>\n",
       "      <td>Wirz, Mr. Albert</td>\n",
       "      <td>male</td>\n",
       "      <td>27.0</td>\n",
       "      <td>0</td>\n",
       "      <td>0</td>\n",
       "      <td>315154</td>\n",
       "      <td>8.6625</td>\n",
       "      <td>NaN</td>\n",
       "      <td>S</td>\n",
       "    </tr>\n",
       "    <tr>\n",
       "      <th>4</th>\n",
       "      <td>896</td>\n",
       "      <td>3</td>\n",
       "      <td>Hirvonen, Mrs. Alexander (Helga E Lindqvist)</td>\n",
       "      <td>female</td>\n",
       "      <td>22.0</td>\n",
       "      <td>1</td>\n",
       "      <td>1</td>\n",
       "      <td>3101298</td>\n",
       "      <td>12.2875</td>\n",
       "      <td>NaN</td>\n",
       "      <td>S</td>\n",
       "    </tr>\n",
       "  </tbody>\n",
       "</table>\n",
       "</div>"
      ],
      "text/plain": [
       "   PassengerId  Pclass                                          Name     Sex  \\\n",
       "0          892       3                              Kelly, Mr. James    male   \n",
       "1          893       3              Wilkes, Mrs. James (Ellen Needs)  female   \n",
       "2          894       2                     Myles, Mr. Thomas Francis    male   \n",
       "3          895       3                              Wirz, Mr. Albert    male   \n",
       "4          896       3  Hirvonen, Mrs. Alexander (Helga E Lindqvist)  female   \n",
       "\n",
       "    Age  SibSp  Parch   Ticket     Fare Cabin Embarked  \n",
       "0  34.5      0      0   330911   7.8292   NaN        Q  \n",
       "1  47.0      1      0   363272   7.0000   NaN        S  \n",
       "2  62.0      0      0   240276   9.6875   NaN        Q  \n",
       "3  27.0      0      0   315154   8.6625   NaN        S  \n",
       "4  22.0      1      1  3101298  12.2875   NaN        S  "
      ]
     },
     "execution_count": 5,
     "metadata": {},
     "output_type": "execute_result"
    }
   ],
   "source": [
    "test_data = pd.read_csv(\"/kaggle/input/titanic/test.csv\")\n",
    "test_data.head()"
   ]
  },
  {
   "cell_type": "code",
   "execution_count": 6,
   "id": "1c010ccd",
   "metadata": {
    "execution": {
     "iopub.execute_input": "2023-03-15T09:59:52.844315Z",
     "iopub.status.busy": "2023-03-15T09:59:52.843782Z",
     "iopub.status.idle": "2023-03-15T09:59:52.873423Z",
     "shell.execute_reply": "2023-03-15T09:59:52.872086Z"
    },
    "papermill": {
     "duration": 0.041969,
     "end_time": "2023-03-15T09:59:52.875831",
     "exception": false,
     "start_time": "2023-03-15T09:59:52.833862",
     "status": "completed"
    },
    "tags": []
   },
   "outputs": [
    {
     "data": {
      "text/html": [
       "<div>\n",
       "<style scoped>\n",
       "    .dataframe tbody tr th:only-of-type {\n",
       "        vertical-align: middle;\n",
       "    }\n",
       "\n",
       "    .dataframe tbody tr th {\n",
       "        vertical-align: top;\n",
       "    }\n",
       "\n",
       "    .dataframe thead th {\n",
       "        text-align: right;\n",
       "    }\n",
       "</style>\n",
       "<table border=\"1\" class=\"dataframe\">\n",
       "  <thead>\n",
       "    <tr style=\"text-align: right;\">\n",
       "      <th></th>\n",
       "      <th>PassengerId</th>\n",
       "      <th>Pclass</th>\n",
       "      <th>Age</th>\n",
       "      <th>SibSp</th>\n",
       "      <th>Parch</th>\n",
       "      <th>Fare</th>\n",
       "    </tr>\n",
       "  </thead>\n",
       "  <tbody>\n",
       "    <tr>\n",
       "      <th>count</th>\n",
       "      <td>418.000000</td>\n",
       "      <td>418.000000</td>\n",
       "      <td>332.000000</td>\n",
       "      <td>418.000000</td>\n",
       "      <td>418.000000</td>\n",
       "      <td>417.000000</td>\n",
       "    </tr>\n",
       "    <tr>\n",
       "      <th>mean</th>\n",
       "      <td>1100.500000</td>\n",
       "      <td>2.265550</td>\n",
       "      <td>30.272590</td>\n",
       "      <td>0.447368</td>\n",
       "      <td>0.392344</td>\n",
       "      <td>35.627188</td>\n",
       "    </tr>\n",
       "    <tr>\n",
       "      <th>std</th>\n",
       "      <td>120.810458</td>\n",
       "      <td>0.841838</td>\n",
       "      <td>14.181209</td>\n",
       "      <td>0.896760</td>\n",
       "      <td>0.981429</td>\n",
       "      <td>55.907576</td>\n",
       "    </tr>\n",
       "    <tr>\n",
       "      <th>min</th>\n",
       "      <td>892.000000</td>\n",
       "      <td>1.000000</td>\n",
       "      <td>0.170000</td>\n",
       "      <td>0.000000</td>\n",
       "      <td>0.000000</td>\n",
       "      <td>0.000000</td>\n",
       "    </tr>\n",
       "    <tr>\n",
       "      <th>25%</th>\n",
       "      <td>996.250000</td>\n",
       "      <td>1.000000</td>\n",
       "      <td>21.000000</td>\n",
       "      <td>0.000000</td>\n",
       "      <td>0.000000</td>\n",
       "      <td>7.895800</td>\n",
       "    </tr>\n",
       "    <tr>\n",
       "      <th>50%</th>\n",
       "      <td>1100.500000</td>\n",
       "      <td>3.000000</td>\n",
       "      <td>27.000000</td>\n",
       "      <td>0.000000</td>\n",
       "      <td>0.000000</td>\n",
       "      <td>14.454200</td>\n",
       "    </tr>\n",
       "    <tr>\n",
       "      <th>75%</th>\n",
       "      <td>1204.750000</td>\n",
       "      <td>3.000000</td>\n",
       "      <td>39.000000</td>\n",
       "      <td>1.000000</td>\n",
       "      <td>0.000000</td>\n",
       "      <td>31.500000</td>\n",
       "    </tr>\n",
       "    <tr>\n",
       "      <th>max</th>\n",
       "      <td>1309.000000</td>\n",
       "      <td>3.000000</td>\n",
       "      <td>76.000000</td>\n",
       "      <td>8.000000</td>\n",
       "      <td>9.000000</td>\n",
       "      <td>512.329200</td>\n",
       "    </tr>\n",
       "  </tbody>\n",
       "</table>\n",
       "</div>"
      ],
      "text/plain": [
       "       PassengerId      Pclass         Age       SibSp       Parch        Fare\n",
       "count   418.000000  418.000000  332.000000  418.000000  418.000000  417.000000\n",
       "mean   1100.500000    2.265550   30.272590    0.447368    0.392344   35.627188\n",
       "std     120.810458    0.841838   14.181209    0.896760    0.981429   55.907576\n",
       "min     892.000000    1.000000    0.170000    0.000000    0.000000    0.000000\n",
       "25%     996.250000    1.000000   21.000000    0.000000    0.000000    7.895800\n",
       "50%    1100.500000    3.000000   27.000000    0.000000    0.000000   14.454200\n",
       "75%    1204.750000    3.000000   39.000000    1.000000    0.000000   31.500000\n",
       "max    1309.000000    3.000000   76.000000    8.000000    9.000000  512.329200"
      ]
     },
     "execution_count": 6,
     "metadata": {},
     "output_type": "execute_result"
    }
   ],
   "source": [
    "test_data.describe()"
   ]
  },
  {
   "cell_type": "code",
   "execution_count": 7,
   "id": "d9cc0123",
   "metadata": {
    "execution": {
     "iopub.execute_input": "2023-03-15T09:59:52.895546Z",
     "iopub.status.busy": "2023-03-15T09:59:52.895080Z",
     "iopub.status.idle": "2023-03-15T09:59:52.902734Z",
     "shell.execute_reply": "2023-03-15T09:59:52.901703Z"
    },
    "papermill": {
     "duration": 0.019928,
     "end_time": "2023-03-15T09:59:52.904655",
     "exception": false,
     "start_time": "2023-03-15T09:59:52.884727",
     "status": "completed"
    },
    "tags": []
   },
   "outputs": [
    {
     "data": {
      "text/plain": [
       "Index(['PassengerId', 'Survived', 'Pclass', 'Name', 'Sex', 'Age', 'SibSp',\n",
       "       'Parch', 'Ticket', 'Fare', 'Cabin', 'Embarked'],\n",
       "      dtype='object')"
      ]
     },
     "execution_count": 7,
     "metadata": {},
     "output_type": "execute_result"
    }
   ],
   "source": [
    "train_data.columns"
   ]
  },
  {
   "cell_type": "code",
   "execution_count": 8,
   "id": "a1e94e04",
   "metadata": {
    "execution": {
     "iopub.execute_input": "2023-03-15T09:59:52.925412Z",
     "iopub.status.busy": "2023-03-15T09:59:52.924786Z",
     "iopub.status.idle": "2023-03-15T09:59:52.933880Z",
     "shell.execute_reply": "2023-03-15T09:59:52.932736Z"
    },
    "papermill": {
     "duration": 0.021712,
     "end_time": "2023-03-15T09:59:52.936051",
     "exception": false,
     "start_time": "2023-03-15T09:59:52.914339",
     "status": "completed"
    },
    "tags": []
   },
   "outputs": [
    {
     "data": {
      "text/plain": [
       "PassengerId      int64\n",
       "Survived         int64\n",
       "Pclass           int64\n",
       "Name            object\n",
       "Sex             object\n",
       "Age            float64\n",
       "SibSp            int64\n",
       "Parch            int64\n",
       "Ticket          object\n",
       "Fare           float64\n",
       "Cabin           object\n",
       "Embarked        object\n",
       "dtype: object"
      ]
     },
     "execution_count": 8,
     "metadata": {},
     "output_type": "execute_result"
    }
   ],
   "source": [
    "train_data.dtypes"
   ]
  },
  {
   "cell_type": "code",
   "execution_count": 9,
   "id": "87795f9e",
   "metadata": {
    "execution": {
     "iopub.execute_input": "2023-03-15T09:59:52.956276Z",
     "iopub.status.busy": "2023-03-15T09:59:52.955624Z",
     "iopub.status.idle": "2023-03-15T09:59:52.965693Z",
     "shell.execute_reply": "2023-03-15T09:59:52.964066Z"
    },
    "papermill": {
     "duration": 0.022896,
     "end_time": "2023-03-15T09:59:52.967946",
     "exception": false,
     "start_time": "2023-03-15T09:59:52.945050",
     "status": "completed"
    },
    "tags": []
   },
   "outputs": [
    {
     "data": {
      "text/plain": [
       "PassengerId      0\n",
       "Survived         0\n",
       "Pclass           0\n",
       "Name             0\n",
       "Sex              0\n",
       "Age            177\n",
       "SibSp            0\n",
       "Parch            0\n",
       "Ticket           0\n",
       "Fare             0\n",
       "Cabin          687\n",
       "Embarked         2\n",
       "dtype: int64"
      ]
     },
     "execution_count": 9,
     "metadata": {},
     "output_type": "execute_result"
    }
   ],
   "source": [
    "train_data.isnull().sum()"
   ]
  },
  {
   "cell_type": "code",
   "execution_count": 10,
   "id": "c611a501",
   "metadata": {
    "execution": {
     "iopub.execute_input": "2023-03-15T09:59:52.988366Z",
     "iopub.status.busy": "2023-03-15T09:59:52.987896Z",
     "iopub.status.idle": "2023-03-15T09:59:53.015004Z",
     "shell.execute_reply": "2023-03-15T09:59:53.013287Z"
    },
    "papermill": {
     "duration": 0.040246,
     "end_time": "2023-03-15T09:59:53.017586",
     "exception": false,
     "start_time": "2023-03-15T09:59:52.977340",
     "status": "completed"
    },
    "tags": []
   },
   "outputs": [
    {
     "data": {
      "text/html": [
       "<div>\n",
       "<style scoped>\n",
       "    .dataframe tbody tr th:only-of-type {\n",
       "        vertical-align: middle;\n",
       "    }\n",
       "\n",
       "    .dataframe tbody tr th {\n",
       "        vertical-align: top;\n",
       "    }\n",
       "\n",
       "    .dataframe thead th {\n",
       "        text-align: right;\n",
       "    }\n",
       "</style>\n",
       "<table border=\"1\" class=\"dataframe\">\n",
       "  <thead>\n",
       "    <tr style=\"text-align: right;\">\n",
       "      <th></th>\n",
       "      <th>PassengerId</th>\n",
       "      <th>Survived</th>\n",
       "      <th>Pclass</th>\n",
       "      <th>Name</th>\n",
       "      <th>Sex</th>\n",
       "      <th>Age</th>\n",
       "      <th>SibSp</th>\n",
       "      <th>Parch</th>\n",
       "      <th>Ticket</th>\n",
       "      <th>Fare</th>\n",
       "      <th>Cabin</th>\n",
       "      <th>Embarked</th>\n",
       "    </tr>\n",
       "  </thead>\n",
       "  <tbody>\n",
       "    <tr>\n",
       "      <th>5</th>\n",
       "      <td>6</td>\n",
       "      <td>0</td>\n",
       "      <td>3</td>\n",
       "      <td>Moran, Mr. James</td>\n",
       "      <td>male</td>\n",
       "      <td>NaN</td>\n",
       "      <td>0</td>\n",
       "      <td>0</td>\n",
       "      <td>330877</td>\n",
       "      <td>8.4583</td>\n",
       "      <td>NaN</td>\n",
       "      <td>Q</td>\n",
       "    </tr>\n",
       "    <tr>\n",
       "      <th>17</th>\n",
       "      <td>18</td>\n",
       "      <td>1</td>\n",
       "      <td>2</td>\n",
       "      <td>Williams, Mr. Charles Eugene</td>\n",
       "      <td>male</td>\n",
       "      <td>NaN</td>\n",
       "      <td>0</td>\n",
       "      <td>0</td>\n",
       "      <td>244373</td>\n",
       "      <td>13.0000</td>\n",
       "      <td>NaN</td>\n",
       "      <td>S</td>\n",
       "    </tr>\n",
       "    <tr>\n",
       "      <th>19</th>\n",
       "      <td>20</td>\n",
       "      <td>1</td>\n",
       "      <td>3</td>\n",
       "      <td>Masselmani, Mrs. Fatima</td>\n",
       "      <td>female</td>\n",
       "      <td>NaN</td>\n",
       "      <td>0</td>\n",
       "      <td>0</td>\n",
       "      <td>2649</td>\n",
       "      <td>7.2250</td>\n",
       "      <td>NaN</td>\n",
       "      <td>C</td>\n",
       "    </tr>\n",
       "    <tr>\n",
       "      <th>26</th>\n",
       "      <td>27</td>\n",
       "      <td>0</td>\n",
       "      <td>3</td>\n",
       "      <td>Emir, Mr. Farred Chehab</td>\n",
       "      <td>male</td>\n",
       "      <td>NaN</td>\n",
       "      <td>0</td>\n",
       "      <td>0</td>\n",
       "      <td>2631</td>\n",
       "      <td>7.2250</td>\n",
       "      <td>NaN</td>\n",
       "      <td>C</td>\n",
       "    </tr>\n",
       "    <tr>\n",
       "      <th>28</th>\n",
       "      <td>29</td>\n",
       "      <td>1</td>\n",
       "      <td>3</td>\n",
       "      <td>O'Dwyer, Miss. Ellen \"Nellie\"</td>\n",
       "      <td>female</td>\n",
       "      <td>NaN</td>\n",
       "      <td>0</td>\n",
       "      <td>0</td>\n",
       "      <td>330959</td>\n",
       "      <td>7.8792</td>\n",
       "      <td>NaN</td>\n",
       "      <td>Q</td>\n",
       "    </tr>\n",
       "    <tr>\n",
       "      <th>...</th>\n",
       "      <td>...</td>\n",
       "      <td>...</td>\n",
       "      <td>...</td>\n",
       "      <td>...</td>\n",
       "      <td>...</td>\n",
       "      <td>...</td>\n",
       "      <td>...</td>\n",
       "      <td>...</td>\n",
       "      <td>...</td>\n",
       "      <td>...</td>\n",
       "      <td>...</td>\n",
       "      <td>...</td>\n",
       "    </tr>\n",
       "    <tr>\n",
       "      <th>859</th>\n",
       "      <td>860</td>\n",
       "      <td>0</td>\n",
       "      <td>3</td>\n",
       "      <td>Razi, Mr. Raihed</td>\n",
       "      <td>male</td>\n",
       "      <td>NaN</td>\n",
       "      <td>0</td>\n",
       "      <td>0</td>\n",
       "      <td>2629</td>\n",
       "      <td>7.2292</td>\n",
       "      <td>NaN</td>\n",
       "      <td>C</td>\n",
       "    </tr>\n",
       "    <tr>\n",
       "      <th>863</th>\n",
       "      <td>864</td>\n",
       "      <td>0</td>\n",
       "      <td>3</td>\n",
       "      <td>Sage, Miss. Dorothy Edith \"Dolly\"</td>\n",
       "      <td>female</td>\n",
       "      <td>NaN</td>\n",
       "      <td>8</td>\n",
       "      <td>2</td>\n",
       "      <td>CA. 2343</td>\n",
       "      <td>69.5500</td>\n",
       "      <td>NaN</td>\n",
       "      <td>S</td>\n",
       "    </tr>\n",
       "    <tr>\n",
       "      <th>868</th>\n",
       "      <td>869</td>\n",
       "      <td>0</td>\n",
       "      <td>3</td>\n",
       "      <td>van Melkebeke, Mr. Philemon</td>\n",
       "      <td>male</td>\n",
       "      <td>NaN</td>\n",
       "      <td>0</td>\n",
       "      <td>0</td>\n",
       "      <td>345777</td>\n",
       "      <td>9.5000</td>\n",
       "      <td>NaN</td>\n",
       "      <td>S</td>\n",
       "    </tr>\n",
       "    <tr>\n",
       "      <th>878</th>\n",
       "      <td>879</td>\n",
       "      <td>0</td>\n",
       "      <td>3</td>\n",
       "      <td>Laleff, Mr. Kristo</td>\n",
       "      <td>male</td>\n",
       "      <td>NaN</td>\n",
       "      <td>0</td>\n",
       "      <td>0</td>\n",
       "      <td>349217</td>\n",
       "      <td>7.8958</td>\n",
       "      <td>NaN</td>\n",
       "      <td>S</td>\n",
       "    </tr>\n",
       "    <tr>\n",
       "      <th>888</th>\n",
       "      <td>889</td>\n",
       "      <td>0</td>\n",
       "      <td>3</td>\n",
       "      <td>Johnston, Miss. Catherine Helen \"Carrie\"</td>\n",
       "      <td>female</td>\n",
       "      <td>NaN</td>\n",
       "      <td>1</td>\n",
       "      <td>2</td>\n",
       "      <td>W./C. 6607</td>\n",
       "      <td>23.4500</td>\n",
       "      <td>NaN</td>\n",
       "      <td>S</td>\n",
       "    </tr>\n",
       "  </tbody>\n",
       "</table>\n",
       "<p>177 rows × 12 columns</p>\n",
       "</div>"
      ],
      "text/plain": [
       "     PassengerId  Survived  Pclass                                      Name  \\\n",
       "5              6         0       3                          Moran, Mr. James   \n",
       "17            18         1       2              Williams, Mr. Charles Eugene   \n",
       "19            20         1       3                   Masselmani, Mrs. Fatima   \n",
       "26            27         0       3                   Emir, Mr. Farred Chehab   \n",
       "28            29         1       3             O'Dwyer, Miss. Ellen \"Nellie\"   \n",
       "..           ...       ...     ...                                       ...   \n",
       "859          860         0       3                          Razi, Mr. Raihed   \n",
       "863          864         0       3         Sage, Miss. Dorothy Edith \"Dolly\"   \n",
       "868          869         0       3               van Melkebeke, Mr. Philemon   \n",
       "878          879         0       3                        Laleff, Mr. Kristo   \n",
       "888          889         0       3  Johnston, Miss. Catherine Helen \"Carrie\"   \n",
       "\n",
       "        Sex  Age  SibSp  Parch      Ticket     Fare Cabin Embarked  \n",
       "5      male  NaN      0      0      330877   8.4583   NaN        Q  \n",
       "17     male  NaN      0      0      244373  13.0000   NaN        S  \n",
       "19   female  NaN      0      0        2649   7.2250   NaN        C  \n",
       "26     male  NaN      0      0        2631   7.2250   NaN        C  \n",
       "28   female  NaN      0      0      330959   7.8792   NaN        Q  \n",
       "..      ...  ...    ...    ...         ...      ...   ...      ...  \n",
       "859    male  NaN      0      0        2629   7.2292   NaN        C  \n",
       "863  female  NaN      8      2    CA. 2343  69.5500   NaN        S  \n",
       "868    male  NaN      0      0      345777   9.5000   NaN        S  \n",
       "878    male  NaN      0      0      349217   7.8958   NaN        S  \n",
       "888  female  NaN      1      2  W./C. 6607  23.4500   NaN        S  \n",
       "\n",
       "[177 rows x 12 columns]"
      ]
     },
     "execution_count": 10,
     "metadata": {},
     "output_type": "execute_result"
    }
   ],
   "source": [
    "train_data[train_data.Age.isna()]"
   ]
  },
  {
   "cell_type": "code",
   "execution_count": 11,
   "id": "5ec84b5c",
   "metadata": {
    "execution": {
     "iopub.execute_input": "2023-03-15T09:59:53.038628Z",
     "iopub.status.busy": "2023-03-15T09:59:53.038241Z",
     "iopub.status.idle": "2023-03-15T09:59:53.050644Z",
     "shell.execute_reply": "2023-03-15T09:59:53.049530Z"
    },
    "papermill": {
     "duration": 0.025029,
     "end_time": "2023-03-15T09:59:53.052752",
     "exception": false,
     "start_time": "2023-03-15T09:59:53.027723",
     "status": "completed"
    },
    "tags": []
   },
   "outputs": [
    {
     "data": {
      "text/plain": [
       "Pclass\n",
       "1    38.233441\n",
       "2    29.877630\n",
       "3    25.140620\n",
       "Name: Age, dtype: float64"
      ]
     },
     "execution_count": 11,
     "metadata": {},
     "output_type": "execute_result"
    }
   ],
   "source": [
    "train_data.groupby('Pclass').mean()['Age']"
   ]
  },
  {
   "cell_type": "code",
   "execution_count": 12,
   "id": "e098e10a",
   "metadata": {
    "execution": {
     "iopub.execute_input": "2023-03-15T09:59:53.074044Z",
     "iopub.status.busy": "2023-03-15T09:59:53.073634Z",
     "iopub.status.idle": "2023-03-15T09:59:53.084143Z",
     "shell.execute_reply": "2023-03-15T09:59:53.082740Z"
    },
    "papermill": {
     "duration": 0.02393,
     "end_time": "2023-03-15T09:59:53.086388",
     "exception": false,
     "start_time": "2023-03-15T09:59:53.062458",
     "status": "completed"
    },
    "tags": []
   },
   "outputs": [
    {
     "data": {
      "text/plain": [
       "25.14061971830986"
      ]
     },
     "execution_count": 12,
     "metadata": {},
     "output_type": "execute_result"
    }
   ],
   "source": [
    "train_data.groupby('Pclass').mean()['Age'][3]"
   ]
  },
  {
   "cell_type": "code",
   "execution_count": 13,
   "id": "4580140c",
   "metadata": {
    "execution": {
     "iopub.execute_input": "2023-03-15T09:59:53.107511Z",
     "iopub.status.busy": "2023-03-15T09:59:53.107013Z",
     "iopub.status.idle": "2023-03-15T09:59:53.113983Z",
     "shell.execute_reply": "2023-03-15T09:59:53.112631Z"
    },
    "papermill": {
     "duration": 0.019833,
     "end_time": "2023-03-15T09:59:53.116319",
     "exception": false,
     "start_time": "2023-03-15T09:59:53.096486",
     "status": "completed"
    },
    "tags": []
   },
   "outputs": [],
   "source": [
    "def age_approx(cols):\n",
    "    Age = cols[0]\n",
    "    Pclass = cols[1]\n",
    "    if pd.isnull(Age):\n",
    "        return train_data.groupby('Pclass').mean()['Age'][Pclass]\n",
    "    else: \n",
    "        return Age"
   ]
  },
  {
   "cell_type": "code",
   "execution_count": 14,
   "id": "2d7e7771",
   "metadata": {
    "execution": {
     "iopub.execute_input": "2023-03-15T09:59:53.137054Z",
     "iopub.status.busy": "2023-03-15T09:59:53.136095Z",
     "iopub.status.idle": "2023-03-15T09:59:53.484839Z",
     "shell.execute_reply": "2023-03-15T09:59:53.484095Z"
    },
    "papermill": {
     "duration": 0.361818,
     "end_time": "2023-03-15T09:59:53.487448",
     "exception": false,
     "start_time": "2023-03-15T09:59:53.125630",
     "status": "completed"
    },
    "tags": []
   },
   "outputs": [],
   "source": [
    "train_data['Age'] = train_data[['Age','Pclass']].apply(age_approx, axis=1)\n",
    "test_data['Age'] = test_data[['Age','Pclass']].apply(age_approx, axis=1)"
   ]
  },
  {
   "cell_type": "code",
   "execution_count": 15,
   "id": "03dfac8b",
   "metadata": {
    "execution": {
     "iopub.execute_input": "2023-03-15T09:59:53.508666Z",
     "iopub.status.busy": "2023-03-15T09:59:53.507449Z",
     "iopub.status.idle": "2023-03-15T09:59:53.518050Z",
     "shell.execute_reply": "2023-03-15T09:59:53.517145Z"
    },
    "papermill": {
     "duration": 0.022991,
     "end_time": "2023-03-15T09:59:53.519968",
     "exception": false,
     "start_time": "2023-03-15T09:59:53.496977",
     "status": "completed"
    },
    "tags": []
   },
   "outputs": [
    {
     "data": {
      "text/plain": [
       "PassengerId      0\n",
       "Survived         0\n",
       "Pclass           0\n",
       "Name             0\n",
       "Sex              0\n",
       "Age              0\n",
       "SibSp            0\n",
       "Parch            0\n",
       "Ticket           0\n",
       "Fare             0\n",
       "Cabin          687\n",
       "Embarked         2\n",
       "dtype: int64"
      ]
     },
     "execution_count": 15,
     "metadata": {},
     "output_type": "execute_result"
    }
   ],
   "source": [
    "train_data.isna().sum()"
   ]
  },
  {
   "cell_type": "code",
   "execution_count": 16,
   "id": "292ac33a",
   "metadata": {
    "execution": {
     "iopub.execute_input": "2023-03-15T09:59:53.541762Z",
     "iopub.status.busy": "2023-03-15T09:59:53.540353Z",
     "iopub.status.idle": "2023-03-15T09:59:53.549225Z",
     "shell.execute_reply": "2023-03-15T09:59:53.548466Z"
    },
    "papermill": {
     "duration": 0.021312,
     "end_time": "2023-03-15T09:59:53.551040",
     "exception": false,
     "start_time": "2023-03-15T09:59:53.529728",
     "status": "completed"
    },
    "tags": []
   },
   "outputs": [
    {
     "data": {
      "text/plain": [
       "PassengerId      0\n",
       "Pclass           0\n",
       "Name             0\n",
       "Sex              0\n",
       "Age              0\n",
       "SibSp            0\n",
       "Parch            0\n",
       "Ticket           0\n",
       "Fare             1\n",
       "Cabin          327\n",
       "Embarked         0\n",
       "dtype: int64"
      ]
     },
     "execution_count": 16,
     "metadata": {},
     "output_type": "execute_result"
    }
   ],
   "source": [
    "test_data.isna().sum()"
   ]
  },
  {
   "cell_type": "code",
   "execution_count": 17,
   "id": "8973d44f",
   "metadata": {
    "execution": {
     "iopub.execute_input": "2023-03-15T09:59:53.571953Z",
     "iopub.status.busy": "2023-03-15T09:59:53.571251Z",
     "iopub.status.idle": "2023-03-15T09:59:53.578074Z",
     "shell.execute_reply": "2023-03-15T09:59:53.577227Z"
    },
    "jupyter": {
     "source_hidden": true
    },
    "papermill": {
     "duration": 0.019937,
     "end_time": "2023-03-15T09:59:53.580611",
     "exception": false,
     "start_time": "2023-03-15T09:59:53.560674",
     "status": "completed"
    },
    "tags": []
   },
   "outputs": [
    {
     "name": "stdout",
     "output_type": "stream",
     "text": [
      "% of women who survived: 0.7420382165605095\n"
     ]
    }
   ],
   "source": [
    "women = train_data.loc[train_data.Sex == 'female'][\"Survived\"]\n",
    "rate_women = sum(women)/len(women)\n",
    "\n",
    "# print(women)\n",
    "print(\"% of women who survived:\", rate_women)"
   ]
  },
  {
   "cell_type": "code",
   "execution_count": 18,
   "id": "308cb384",
   "metadata": {
    "execution": {
     "iopub.execute_input": "2023-03-15T09:59:53.602976Z",
     "iopub.status.busy": "2023-03-15T09:59:53.602551Z",
     "iopub.status.idle": "2023-03-15T09:59:53.610667Z",
     "shell.execute_reply": "2023-03-15T09:59:53.609415Z"
    },
    "jupyter": {
     "source_hidden": true
    },
    "papermill": {
     "duration": 0.021471,
     "end_time": "2023-03-15T09:59:53.613012",
     "exception": false,
     "start_time": "2023-03-15T09:59:53.591541",
     "status": "completed"
    },
    "tags": []
   },
   "outputs": [
    {
     "name": "stdout",
     "output_type": "stream",
     "text": [
      "% of men who survived: 0.18890814558058924\n"
     ]
    }
   ],
   "source": [
    "men = train_data.loc[train_data.Sex == 'male'][\"Survived\"]\n",
    "rate_men = sum(men)/len(men)\n",
    "\n",
    "# print(men)\n",
    "print(\"% of men who survived:\", rate_men)"
   ]
  },
  {
   "cell_type": "code",
   "execution_count": 19,
   "id": "5f65be5f",
   "metadata": {
    "execution": {
     "iopub.execute_input": "2023-03-15T09:59:53.636149Z",
     "iopub.status.busy": "2023-03-15T09:59:53.635553Z",
     "iopub.status.idle": "2023-03-15T09:59:53.639928Z",
     "shell.execute_reply": "2023-03-15T09:59:53.638748Z"
    },
    "papermill": {
     "duration": 0.018377,
     "end_time": "2023-03-15T09:59:53.642307",
     "exception": false,
     "start_time": "2023-03-15T09:59:53.623930",
     "status": "completed"
    },
    "tags": []
   },
   "outputs": [],
   "source": [
    "# Don't run this. Else the competition will not accept lesser predicted values.\n",
    "# test_data.dropna(subset=['Age'], axis=0, inplace=True)"
   ]
  },
  {
   "cell_type": "code",
   "execution_count": 20,
   "id": "c4615cbb",
   "metadata": {
    "execution": {
     "iopub.execute_input": "2023-03-15T09:59:53.665052Z",
     "iopub.status.busy": "2023-03-15T09:59:53.664626Z",
     "iopub.status.idle": "2023-03-15T09:59:53.678750Z",
     "shell.execute_reply": "2023-03-15T09:59:53.677626Z"
    },
    "papermill": {
     "duration": 0.028547,
     "end_time": "2023-03-15T09:59:53.681151",
     "exception": false,
     "start_time": "2023-03-15T09:59:53.652604",
     "status": "completed"
    },
    "tags": []
   },
   "outputs": [],
   "source": [
    "y = train_data[\"Survived\"]\n",
    "\n",
    "features = [\"Pclass\", \"Sex\", \"SibSp\", \"Parch\", \"Age\"]\n",
    "X = pd.get_dummies(train_data[features])\n",
    "X_test = pd.get_dummies(test_data[features])\n",
    "\n",
    "# model = RandomForestClassifier(n_estimators=100, max_depth=5, random_state=1)\n",
    "# model.fit(X, y)\n",
    "# predictions = model.predict(X_test)\n",
    "\n",
    "# output = pd.DataFrame({'PassengerId': test_data.PassengerId, 'Survived': predictions})\n",
    "# output.to_csv('submission.csv', index=False)\n",
    "# print(\"Your submission was successfully saved!\")"
   ]
  },
  {
   "cell_type": "code",
   "execution_count": 21,
   "id": "1442dea5",
   "metadata": {
    "execution": {
     "iopub.execute_input": "2023-03-15T09:59:53.702707Z",
     "iopub.status.busy": "2023-03-15T09:59:53.702229Z",
     "iopub.status.idle": "2023-03-15T09:59:53.729781Z",
     "shell.execute_reply": "2023-03-15T09:59:53.728610Z"
    },
    "papermill": {
     "duration": 0.041064,
     "end_time": "2023-03-15T09:59:53.732168",
     "exception": false,
     "start_time": "2023-03-15T09:59:53.691104",
     "status": "completed"
    },
    "tags": []
   },
   "outputs": [
    {
     "data": {
      "text/html": [
       "<div>\n",
       "<style scoped>\n",
       "    .dataframe tbody tr th:only-of-type {\n",
       "        vertical-align: middle;\n",
       "    }\n",
       "\n",
       "    .dataframe tbody tr th {\n",
       "        vertical-align: top;\n",
       "    }\n",
       "\n",
       "    .dataframe thead th {\n",
       "        text-align: right;\n",
       "    }\n",
       "</style>\n",
       "<table border=\"1\" class=\"dataframe\">\n",
       "  <thead>\n",
       "    <tr style=\"text-align: right;\">\n",
       "      <th></th>\n",
       "      <th>Pclass</th>\n",
       "      <th>SibSp</th>\n",
       "      <th>Parch</th>\n",
       "      <th>Age</th>\n",
       "      <th>Sex_female</th>\n",
       "      <th>Sex_male</th>\n",
       "    </tr>\n",
       "  </thead>\n",
       "  <tbody>\n",
       "    <tr>\n",
       "      <th>count</th>\n",
       "      <td>891.000000</td>\n",
       "      <td>891.000000</td>\n",
       "      <td>891.000000</td>\n",
       "      <td>891.000000</td>\n",
       "      <td>891.000000</td>\n",
       "      <td>891.000000</td>\n",
       "    </tr>\n",
       "    <tr>\n",
       "      <th>mean</th>\n",
       "      <td>2.308642</td>\n",
       "      <td>0.523008</td>\n",
       "      <td>0.381594</td>\n",
       "      <td>29.292875</td>\n",
       "      <td>0.352413</td>\n",
       "      <td>0.647587</td>\n",
       "    </tr>\n",
       "    <tr>\n",
       "      <th>std</th>\n",
       "      <td>0.836071</td>\n",
       "      <td>1.102743</td>\n",
       "      <td>0.806057</td>\n",
       "      <td>13.210527</td>\n",
       "      <td>0.477990</td>\n",
       "      <td>0.477990</td>\n",
       "    </tr>\n",
       "    <tr>\n",
       "      <th>min</th>\n",
       "      <td>1.000000</td>\n",
       "      <td>0.000000</td>\n",
       "      <td>0.000000</td>\n",
       "      <td>0.420000</td>\n",
       "      <td>0.000000</td>\n",
       "      <td>0.000000</td>\n",
       "    </tr>\n",
       "    <tr>\n",
       "      <th>25%</th>\n",
       "      <td>2.000000</td>\n",
       "      <td>0.000000</td>\n",
       "      <td>0.000000</td>\n",
       "      <td>22.000000</td>\n",
       "      <td>0.000000</td>\n",
       "      <td>0.000000</td>\n",
       "    </tr>\n",
       "    <tr>\n",
       "      <th>50%</th>\n",
       "      <td>3.000000</td>\n",
       "      <td>0.000000</td>\n",
       "      <td>0.000000</td>\n",
       "      <td>26.000000</td>\n",
       "      <td>0.000000</td>\n",
       "      <td>1.000000</td>\n",
       "    </tr>\n",
       "    <tr>\n",
       "      <th>75%</th>\n",
       "      <td>3.000000</td>\n",
       "      <td>1.000000</td>\n",
       "      <td>0.000000</td>\n",
       "      <td>37.000000</td>\n",
       "      <td>1.000000</td>\n",
       "      <td>1.000000</td>\n",
       "    </tr>\n",
       "    <tr>\n",
       "      <th>max</th>\n",
       "      <td>3.000000</td>\n",
       "      <td>8.000000</td>\n",
       "      <td>6.000000</td>\n",
       "      <td>80.000000</td>\n",
       "      <td>1.000000</td>\n",
       "      <td>1.000000</td>\n",
       "    </tr>\n",
       "  </tbody>\n",
       "</table>\n",
       "</div>"
      ],
      "text/plain": [
       "           Pclass       SibSp       Parch         Age  Sex_female    Sex_male\n",
       "count  891.000000  891.000000  891.000000  891.000000  891.000000  891.000000\n",
       "mean     2.308642    0.523008    0.381594   29.292875    0.352413    0.647587\n",
       "std      0.836071    1.102743    0.806057   13.210527    0.477990    0.477990\n",
       "min      1.000000    0.000000    0.000000    0.420000    0.000000    0.000000\n",
       "25%      2.000000    0.000000    0.000000   22.000000    0.000000    0.000000\n",
       "50%      3.000000    0.000000    0.000000   26.000000    0.000000    1.000000\n",
       "75%      3.000000    1.000000    0.000000   37.000000    1.000000    1.000000\n",
       "max      3.000000    8.000000    6.000000   80.000000    1.000000    1.000000"
      ]
     },
     "execution_count": 21,
     "metadata": {},
     "output_type": "execute_result"
    }
   ],
   "source": [
    "X.describe()"
   ]
  },
  {
   "cell_type": "code",
   "execution_count": 22,
   "id": "3f69f573",
   "metadata": {
    "execution": {
     "iopub.execute_input": "2023-03-15T09:59:53.755038Z",
     "iopub.status.busy": "2023-03-15T09:59:53.754277Z",
     "iopub.status.idle": "2023-03-15T09:59:53.764729Z",
     "shell.execute_reply": "2023-03-15T09:59:53.764038Z"
    },
    "papermill": {
     "duration": 0.024088,
     "end_time": "2023-03-15T09:59:53.766648",
     "exception": false,
     "start_time": "2023-03-15T09:59:53.742560",
     "status": "completed"
    },
    "tags": []
   },
   "outputs": [
    {
     "data": {
      "text/html": [
       "<div>\n",
       "<style scoped>\n",
       "    .dataframe tbody tr th:only-of-type {\n",
       "        vertical-align: middle;\n",
       "    }\n",
       "\n",
       "    .dataframe tbody tr th {\n",
       "        vertical-align: top;\n",
       "    }\n",
       "\n",
       "    .dataframe thead th {\n",
       "        text-align: right;\n",
       "    }\n",
       "</style>\n",
       "<table border=\"1\" class=\"dataframe\">\n",
       "  <thead>\n",
       "    <tr style=\"text-align: right;\">\n",
       "      <th></th>\n",
       "      <th>Pclass</th>\n",
       "      <th>SibSp</th>\n",
       "      <th>Parch</th>\n",
       "      <th>Age</th>\n",
       "      <th>Sex_female</th>\n",
       "      <th>Sex_male</th>\n",
       "    </tr>\n",
       "  </thead>\n",
       "  <tbody>\n",
       "    <tr>\n",
       "      <th>0</th>\n",
       "      <td>3</td>\n",
       "      <td>1</td>\n",
       "      <td>0</td>\n",
       "      <td>22.0</td>\n",
       "      <td>0</td>\n",
       "      <td>1</td>\n",
       "    </tr>\n",
       "    <tr>\n",
       "      <th>1</th>\n",
       "      <td>1</td>\n",
       "      <td>1</td>\n",
       "      <td>0</td>\n",
       "      <td>38.0</td>\n",
       "      <td>1</td>\n",
       "      <td>0</td>\n",
       "    </tr>\n",
       "    <tr>\n",
       "      <th>2</th>\n",
       "      <td>3</td>\n",
       "      <td>0</td>\n",
       "      <td>0</td>\n",
       "      <td>26.0</td>\n",
       "      <td>1</td>\n",
       "      <td>0</td>\n",
       "    </tr>\n",
       "    <tr>\n",
       "      <th>3</th>\n",
       "      <td>1</td>\n",
       "      <td>1</td>\n",
       "      <td>0</td>\n",
       "      <td>35.0</td>\n",
       "      <td>1</td>\n",
       "      <td>0</td>\n",
       "    </tr>\n",
       "    <tr>\n",
       "      <th>4</th>\n",
       "      <td>3</td>\n",
       "      <td>0</td>\n",
       "      <td>0</td>\n",
       "      <td>35.0</td>\n",
       "      <td>0</td>\n",
       "      <td>1</td>\n",
       "    </tr>\n",
       "  </tbody>\n",
       "</table>\n",
       "</div>"
      ],
      "text/plain": [
       "   Pclass  SibSp  Parch   Age  Sex_female  Sex_male\n",
       "0       3      1      0  22.0           0         1\n",
       "1       1      1      0  38.0           1         0\n",
       "2       3      0      0  26.0           1         0\n",
       "3       1      1      0  35.0           1         0\n",
       "4       3      0      0  35.0           0         1"
      ]
     },
     "execution_count": 22,
     "metadata": {},
     "output_type": "execute_result"
    }
   ],
   "source": [
    "X.head()"
   ]
  },
  {
   "cell_type": "code",
   "execution_count": 23,
   "id": "578b2f82",
   "metadata": {
    "execution": {
     "iopub.execute_input": "2023-03-15T09:59:53.790230Z",
     "iopub.status.busy": "2023-03-15T09:59:53.789599Z",
     "iopub.status.idle": "2023-03-15T09:59:53.797175Z",
     "shell.execute_reply": "2023-03-15T09:59:53.796219Z"
    },
    "papermill": {
     "duration": 0.023132,
     "end_time": "2023-03-15T09:59:53.800234",
     "exception": false,
     "start_time": "2023-03-15T09:59:53.777102",
     "status": "completed"
    },
    "tags": []
   },
   "outputs": [
    {
     "data": {
      "text/plain": [
       "Pclass        0\n",
       "SibSp         0\n",
       "Parch         0\n",
       "Age           0\n",
       "Sex_female    0\n",
       "Sex_male      0\n",
       "dtype: int64"
      ]
     },
     "execution_count": 23,
     "metadata": {},
     "output_type": "execute_result"
    }
   ],
   "source": [
    "X_test.isna().sum()"
   ]
  },
  {
   "cell_type": "code",
   "execution_count": 24,
   "id": "fa26a6c8",
   "metadata": {
    "execution": {
     "iopub.execute_input": "2023-03-15T09:59:53.823665Z",
     "iopub.status.busy": "2023-03-15T09:59:53.823243Z",
     "iopub.status.idle": "2023-03-15T09:59:53.827393Z",
     "shell.execute_reply": "2023-03-15T09:59:53.826428Z"
    },
    "papermill": {
     "duration": 0.019067,
     "end_time": "2023-03-15T09:59:53.830067",
     "exception": false,
     "start_time": "2023-03-15T09:59:53.811000",
     "status": "completed"
    },
    "tags": []
   },
   "outputs": [],
   "source": [
    "from sklearn.preprocessing import StandardScaler, MinMaxScaler"
   ]
  },
  {
   "cell_type": "code",
   "execution_count": 25,
   "id": "542c681c",
   "metadata": {
    "execution": {
     "iopub.execute_input": "2023-03-15T09:59:53.852777Z",
     "iopub.status.busy": "2023-03-15T09:59:53.852383Z",
     "iopub.status.idle": "2023-03-15T09:59:53.877084Z",
     "shell.execute_reply": "2023-03-15T09:59:53.874696Z"
    },
    "papermill": {
     "duration": 0.03962,
     "end_time": "2023-03-15T09:59:53.880148",
     "exception": false,
     "start_time": "2023-03-15T09:59:53.840528",
     "status": "completed"
    },
    "tags": []
   },
   "outputs": [],
   "source": [
    "from sklearn.model_selection import train_test_split\n",
    "X_train, X_valid, y_train, y_valid = train_test_split(X, y)"
   ]
  },
  {
   "cell_type": "markdown",
   "id": "73e0696e",
   "metadata": {
    "papermill": {
     "duration": 0.010187,
     "end_time": "2023-03-15T09:59:53.900970",
     "exception": false,
     "start_time": "2023-03-15T09:59:53.890783",
     "status": "completed"
    },
    "tags": []
   },
   "source": [
    "# Decision Tree"
   ]
  },
  {
   "cell_type": "code",
   "execution_count": 26,
   "id": "fd89ed0a",
   "metadata": {
    "execution": {
     "iopub.execute_input": "2023-03-15T09:59:53.924205Z",
     "iopub.status.busy": "2023-03-15T09:59:53.923753Z",
     "iopub.status.idle": "2023-03-15T09:59:54.103731Z",
     "shell.execute_reply": "2023-03-15T09:59:54.102083Z"
    },
    "jupyter": {
     "source_hidden": true
    },
    "papermill": {
     "duration": 0.194134,
     "end_time": "2023-03-15T09:59:54.105787",
     "exception": false,
     "start_time": "2023-03-15T09:59:53.911653",
     "status": "completed"
    },
    "tags": []
   },
   "outputs": [
    {
     "name": "stdout",
     "output_type": "stream",
     "text": [
      "TRAIN DATA\n",
      "MAE in Decision Tree: 0.0770\n",
      "R-Squared in Decision Tree: 0.84\n",
      "\n",
      "TEST DATA\n",
      "MAE in Decision Tree: 0.3010\n",
      "R-Squared in Decision Tree: -0.09\n"
     ]
    }
   ],
   "source": [
    "from sklearn.tree import DecisionTreeRegressor\n",
    "model_d = DecisionTreeRegressor(random_state=1)\n",
    "model_d.fit(X_train, y_train)\n",
    "\n",
    "pred_d_train = model_d.predict(X_train)\n",
    "pred_d_test = model_d.predict(X_valid)\n",
    "\n",
    "print('TRAIN DATA')\n",
    "print(\"MAE in Decision Tree: %.4f\" % mean_absolute_error(pred_d_train, y_train))\n",
    "print('R-Squared in Decision Tree: %.2f' % model_d.score(X_train, y_train))\n",
    "\n",
    "print('\\nTEST DATA')\n",
    "print('MAE in Decision Tree: %.4f' % mean_absolute_error(pred_d_test, y_valid))\n",
    "print('R-Squared in Decision Tree: %.2f' % model_d.score(X_valid, y_valid))\n"
   ]
  },
  {
   "cell_type": "markdown",
   "id": "e088c918",
   "metadata": {
    "papermill": {
     "duration": 0.009705,
     "end_time": "2023-03-15T09:59:54.126440",
     "exception": false,
     "start_time": "2023-03-15T09:59:54.116735",
     "status": "completed"
    },
    "tags": []
   },
   "source": [
    "# ****Random Forest****"
   ]
  },
  {
   "cell_type": "code",
   "execution_count": 27,
   "id": "d6edc8b0",
   "metadata": {
    "execution": {
     "iopub.execute_input": "2023-03-15T09:59:54.147897Z",
     "iopub.status.busy": "2023-03-15T09:59:54.147517Z",
     "iopub.status.idle": "2023-03-15T09:59:54.400684Z",
     "shell.execute_reply": "2023-03-15T09:59:54.399592Z"
    },
    "papermill": {
     "duration": 0.26664,
     "end_time": "2023-03-15T09:59:54.403128",
     "exception": false,
     "start_time": "2023-03-15T09:59:54.136488",
     "status": "completed"
    },
    "tags": []
   },
   "outputs": [
    {
     "name": "stdout",
     "output_type": "stream",
     "text": [
      "TRAIN DATA\n",
      "MAE in Random Forest Model: 0.1407\n",
      "R-Squared in Random Forest Model: 0.86\n",
      "\n",
      "TEST DATA\n",
      "MAE in Random Forest Model: 0.2332\n",
      "R-Squared in Random Forest Model: 0.77\n"
     ]
    }
   ],
   "source": [
    "from sklearn.ensemble import RandomForestClassifier\n",
    "model_rf = RandomForestClassifier(n_estimators=100, max_depth=5, random_state=1)\n",
    "model_rf.fit(X_train, y_train)\n",
    "\n",
    "pred_rf_train = model_rf.predict(X_train)\n",
    "pred_rf_test = model_rf.predict(X_valid)\n",
    "\n",
    "print('TRAIN DATA')\n",
    "print(\"MAE in Random Forest Model: %.4f\" % mean_absolute_error(pred_rf_train, y_train))\n",
    "print('R-Squared in Random Forest Model: %.2f' % model_rf.score(X_train, y_train))\n",
    "\n",
    "print('\\nTEST DATA')\n",
    "print('MAE in Random Forest Model: %.4f' % mean_absolute_error(pred_rf_test, y_valid))\n",
    "print('R-Squared in Random Forest Model: %.2f' % model_rf.score(X_valid, y_valid))"
   ]
  },
  {
   "cell_type": "markdown",
   "id": "8d795d59",
   "metadata": {
    "papermill": {
     "duration": 0.010476,
     "end_time": "2023-03-15T09:59:54.425154",
     "exception": false,
     "start_time": "2023-03-15T09:59:54.414678",
     "status": "completed"
    },
    "tags": []
   },
   "source": [
    "# XGB"
   ]
  },
  {
   "cell_type": "code",
   "execution_count": 28,
   "id": "c22f9755",
   "metadata": {
    "execution": {
     "iopub.execute_input": "2023-03-15T09:59:54.448697Z",
     "iopub.status.busy": "2023-03-15T09:59:54.448280Z",
     "iopub.status.idle": "2023-03-15T09:59:55.914900Z",
     "shell.execute_reply": "2023-03-15T09:59:55.914057Z"
    },
    "jupyter": {
     "source_hidden": true
    },
    "papermill": {
     "duration": 1.480963,
     "end_time": "2023-03-15T09:59:55.916976",
     "exception": false,
     "start_time": "2023-03-15T09:59:54.436013",
     "status": "completed"
    },
    "tags": []
   },
   "outputs": [
    {
     "name": "stdout",
     "output_type": "stream",
     "text": [
      "[09:59:54] WARNING: ../src/learner.cc:627: \n",
      "Parameters: { \"n_iter_no_change\" } might not be used.\n",
      "\n",
      "  This could be a false alarm, with some parameters getting used by language bindings but\n",
      "  then being mistakenly passed down to XGBoost core, or some parameter actually being used\n",
      "  but getting flagged wrongly here. Please open an issue if you find any such cases.\n",
      "\n",
      "\n",
      "TRAIN DATA\n",
      "MAE in XGB Model: 0.0796\n",
      "R-Squared in XGB Model: 0.84\n",
      "\n",
      "TEST DATA\n",
      "MAE in XGB Model: 0.3156\n",
      "R-Squared in XGB Model: 0.05\n"
     ]
    }
   ],
   "source": [
    "from xgboost import XGBRegressor\n",
    "model_xgb = XGBRegressor(n_estimators=1000, n_iter_no_change=5, learning_rate=0.5)\n",
    "\n",
    "model_xgb.fit(X_train, y_train, verbose=False)\n",
    "\n",
    "pred_xgb_train = model_xgb.predict(X_train)\n",
    "pred_xgb_test = model_xgb.predict(X_valid)\n",
    "\n",
    "print('TRAIN DATA')\n",
    "print(\"MAE in XGB Model: %.4f\" % mean_absolute_error(pred_xgb_train, y_train))\n",
    "print('R-Squared in XGB Model: %.2f' % model_xgb.score(X_train, y_train))\n",
    "\n",
    "print('\\nTEST DATA')\n",
    "print('MAE in XGB Model: %.4f' % mean_absolute_error(pred_xgb_test, y_valid))\n",
    "print('R-Squared in XGB Model: %.2f' % model_xgb.score(X_valid, y_valid))"
   ]
  },
  {
   "cell_type": "markdown",
   "id": "4092158b",
   "metadata": {
    "papermill": {
     "duration": 0.010417,
     "end_time": "2023-03-15T09:59:55.938379",
     "exception": false,
     "start_time": "2023-03-15T09:59:55.927962",
     "status": "completed"
    },
    "tags": []
   },
   "source": [
    "# Logistic Regression"
   ]
  },
  {
   "cell_type": "code",
   "execution_count": 29,
   "id": "72ad0281",
   "metadata": {
    "execution": {
     "iopub.execute_input": "2023-03-15T09:59:55.962562Z",
     "iopub.status.busy": "2023-03-15T09:59:55.962091Z",
     "iopub.status.idle": "2023-03-15T09:59:56.000297Z",
     "shell.execute_reply": "2023-03-15T09:59:55.999355Z"
    },
    "papermill": {
     "duration": 0.053027,
     "end_time": "2023-03-15T09:59:56.002467",
     "exception": false,
     "start_time": "2023-03-15T09:59:55.949440",
     "status": "completed"
    },
    "tags": []
   },
   "outputs": [
    {
     "name": "stdout",
     "output_type": "stream",
     "text": [
      "TRAIN DATA\n",
      "MAE in Logistic Regression Model: 0.1751\n",
      "R-Squared in Logistic Regression Model: 0.82\n",
      "\n",
      "TEST DATA\n",
      "MAE in Logistic Regression Model: 0.2511\n",
      "R-Squared in Logistic Regression Model: 0.75\n"
     ]
    }
   ],
   "source": [
    "from sklearn.linear_model import LogisticRegression\n",
    "model_lg = LogisticRegression(random_state=1)\n",
    "\n",
    "model_lg.fit(X_train, y_train)\n",
    "\n",
    "pred_lg_train = model_lg.predict(X_train)\n",
    "pred_lg_test = model_lg.predict(X_valid)\n",
    "\n",
    "print('TRAIN DATA')\n",
    "print(\"MAE in Logistic Regression Model: %.4f\" % mean_absolute_error(pred_lg_train, y_train))\n",
    "print('R-Squared in Logistic Regression Model: %.2f' % model_lg.score(X_train, y_train))\n",
    "\n",
    "print('\\nTEST DATA')\n",
    "print('MAE in Logistic Regression Model: %.4f' % mean_absolute_error(pred_lg_test, y_valid))\n",
    "print('R-Squared in Logistic Regression Model: %.2f' % model_lg.score(X_valid, y_valid))"
   ]
  },
  {
   "cell_type": "code",
   "execution_count": null,
   "id": "4761d2ff",
   "metadata": {
    "papermill": {
     "duration": 0.009778,
     "end_time": "2023-03-15T09:59:56.022601",
     "exception": false,
     "start_time": "2023-03-15T09:59:56.012823",
     "status": "completed"
    },
    "tags": []
   },
   "outputs": [],
   "source": []
  },
  {
   "cell_type": "markdown",
   "id": "5ac852eb",
   "metadata": {
    "papermill": {
     "duration": 0.009734,
     "end_time": "2023-03-15T09:59:56.042598",
     "exception": false,
     "start_time": "2023-03-15T09:59:56.032864",
     "status": "completed"
    },
    "tags": []
   },
   "source": [
    "# Submission"
   ]
  },
  {
   "cell_type": "code",
   "execution_count": 30,
   "id": "ab54d44a",
   "metadata": {
    "execution": {
     "iopub.execute_input": "2023-03-15T09:59:56.065516Z",
     "iopub.status.busy": "2023-03-15T09:59:56.065091Z",
     "iopub.status.idle": "2023-03-15T09:59:56.092662Z",
     "shell.execute_reply": "2023-03-15T09:59:56.091783Z"
    },
    "papermill": {
     "duration": 0.042173,
     "end_time": "2023-03-15T09:59:56.095128",
     "exception": false,
     "start_time": "2023-03-15T09:59:56.052955",
     "status": "completed"
    },
    "tags": []
   },
   "outputs": [
    {
     "name": "stdout",
     "output_type": "stream",
     "text": [
      "Your submission was successfully saved!\n"
     ]
    }
   ],
   "source": [
    "model_lg.fit(X, y)\n",
    "predictions = model_lg.predict(X_test)\n",
    "\n",
    "output = pd.DataFrame({'PassengerId': test_data.PassengerId, 'Survived': predictions})\n",
    "output.to_csv('submission.csv', index=False)\n",
    "print(\"Your submission was successfully saved!\")"
   ]
  },
  {
   "cell_type": "code",
   "execution_count": null,
   "id": "738a8c5b",
   "metadata": {
    "papermill": {
     "duration": 0.01025,
     "end_time": "2023-03-15T09:59:56.117685",
     "exception": false,
     "start_time": "2023-03-15T09:59:56.107435",
     "status": "completed"
    },
    "tags": []
   },
   "outputs": [],
   "source": []
  }
 ],
 "metadata": {
  "kernelspec": {
   "display_name": "Python 3",
   "language": "python",
   "name": "python3"
  },
  "language_info": {
   "codemirror_mode": {
    "name": "ipython",
    "version": 3
   },
   "file_extension": ".py",
   "mimetype": "text/x-python",
   "name": "python",
   "nbconvert_exporter": "python",
   "pygments_lexer": "ipython3",
   "version": "3.7.12"
  },
  "papermill": {
   "default_parameters": {},
   "duration": 14.158222,
   "end_time": "2023-03-15T09:59:56.852056",
   "environment_variables": {},
   "exception": null,
   "input_path": "__notebook__.ipynb",
   "output_path": "__notebook__.ipynb",
   "parameters": {},
   "start_time": "2023-03-15T09:59:42.693834",
   "version": "2.3.4"
  }
 },
 "nbformat": 4,
 "nbformat_minor": 5
}
