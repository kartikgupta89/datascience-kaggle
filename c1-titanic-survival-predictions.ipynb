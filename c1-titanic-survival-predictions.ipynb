{
 "cells": [
  {
   "cell_type": "code",
   "execution_count": 1,
   "id": "c4f6934e",
   "metadata": {
    "_cell_guid": "b1076dfc-b9ad-4769-8c92-a6c4dae69d19",
    "_uuid": "8f2839f25d086af736a60e9eeb907d3b93b6e0e5",
    "execution": {
     "iopub.execute_input": "2023-03-14T11:04:32.501539Z",
     "iopub.status.busy": "2023-03-14T11:04:32.500837Z",
     "iopub.status.idle": "2023-03-14T11:04:32.524207Z",
     "shell.execute_reply": "2023-03-14T11:04:32.522840Z"
    },
    "papermill": {
     "duration": 0.035878,
     "end_time": "2023-03-14T11:04:32.527721",
     "exception": false,
     "start_time": "2023-03-14T11:04:32.491843",
     "status": "completed"
    },
    "tags": []
   },
   "outputs": [
    {
     "name": "stdout",
     "output_type": "stream",
     "text": [
      "/kaggle/input/titanic/train.csv\n",
      "/kaggle/input/titanic/test.csv\n",
      "/kaggle/input/titanic/gender_submission.csv\n"
     ]
    }
   ],
   "source": [
    "# This Python 3 environment comes with many helpful analytics libraries installed\n",
    "# It is defined by the kaggle/python Docker image: https://github.com/kaggle/docker-python\n",
    "# For example, here's several helpful packages to load\n",
    "\n",
    "import numpy as np # linear algebra\n",
    "import pandas as pd # data processing, CSV file I/O (e.g. pd.read_csv)\n",
    "\n",
    "# Input data files are available in the read-only \"../input/\" directory\n",
    "# For example, running this (by clicking run or pressing Shift+Enter) will list all files under the input directory\n",
    "\n",
    "import os\n",
    "for dirname, _, filenames in os.walk('/kaggle/input'):\n",
    "    for filename in filenames:\n",
    "        print(os.path.join(dirname, filename))\n",
    "\n",
    "# You can write up to 20GB to the current directory (/kaggle/working/) that gets preserved as output when you create a version using \"Save & Run All\" \n",
    "# You can also write temporary files to /kaggle/temp/, but they won't be saved outside of the current session"
   ]
  },
  {
   "cell_type": "code",
   "execution_count": 2,
   "id": "6e64a485",
   "metadata": {
    "execution": {
     "iopub.execute_input": "2023-03-14T11:04:32.541132Z",
     "iopub.status.busy": "2023-03-14T11:04:32.540699Z",
     "iopub.status.idle": "2023-03-14T11:04:33.590975Z",
     "shell.execute_reply": "2023-03-14T11:04:33.589618Z"
    },
    "papermill": {
     "duration": 1.060299,
     "end_time": "2023-03-14T11:04:33.594110",
     "exception": false,
     "start_time": "2023-03-14T11:04:32.533811",
     "status": "completed"
    },
    "tags": []
   },
   "outputs": [],
   "source": [
    "from sklearn.metrics import mean_absolute_error"
   ]
  },
  {
   "cell_type": "code",
   "execution_count": 3,
   "id": "e01e53ad",
   "metadata": {
    "execution": {
     "iopub.execute_input": "2023-03-14T11:04:33.607444Z",
     "iopub.status.busy": "2023-03-14T11:04:33.606960Z",
     "iopub.status.idle": "2023-03-14T11:04:33.647962Z",
     "shell.execute_reply": "2023-03-14T11:04:33.646675Z"
    },
    "papermill": {
     "duration": 0.050984,
     "end_time": "2023-03-14T11:04:33.650875",
     "exception": false,
     "start_time": "2023-03-14T11:04:33.599891",
     "status": "completed"
    },
    "tags": []
   },
   "outputs": [
    {
     "data": {
      "text/html": [
       "<div>\n",
       "<style scoped>\n",
       "    .dataframe tbody tr th:only-of-type {\n",
       "        vertical-align: middle;\n",
       "    }\n",
       "\n",
       "    .dataframe tbody tr th {\n",
       "        vertical-align: top;\n",
       "    }\n",
       "\n",
       "    .dataframe thead th {\n",
       "        text-align: right;\n",
       "    }\n",
       "</style>\n",
       "<table border=\"1\" class=\"dataframe\">\n",
       "  <thead>\n",
       "    <tr style=\"text-align: right;\">\n",
       "      <th></th>\n",
       "      <th>PassengerId</th>\n",
       "      <th>Survived</th>\n",
       "      <th>Pclass</th>\n",
       "      <th>Name</th>\n",
       "      <th>Sex</th>\n",
       "      <th>Age</th>\n",
       "      <th>SibSp</th>\n",
       "      <th>Parch</th>\n",
       "      <th>Ticket</th>\n",
       "      <th>Fare</th>\n",
       "      <th>Cabin</th>\n",
       "      <th>Embarked</th>\n",
       "    </tr>\n",
       "  </thead>\n",
       "  <tbody>\n",
       "    <tr>\n",
       "      <th>0</th>\n",
       "      <td>1</td>\n",
       "      <td>0</td>\n",
       "      <td>3</td>\n",
       "      <td>Braund, Mr. Owen Harris</td>\n",
       "      <td>male</td>\n",
       "      <td>22.0</td>\n",
       "      <td>1</td>\n",
       "      <td>0</td>\n",
       "      <td>A/5 21171</td>\n",
       "      <td>7.2500</td>\n",
       "      <td>NaN</td>\n",
       "      <td>S</td>\n",
       "    </tr>\n",
       "    <tr>\n",
       "      <th>1</th>\n",
       "      <td>2</td>\n",
       "      <td>1</td>\n",
       "      <td>1</td>\n",
       "      <td>Cumings, Mrs. John Bradley (Florence Briggs Th...</td>\n",
       "      <td>female</td>\n",
       "      <td>38.0</td>\n",
       "      <td>1</td>\n",
       "      <td>0</td>\n",
       "      <td>PC 17599</td>\n",
       "      <td>71.2833</td>\n",
       "      <td>C85</td>\n",
       "      <td>C</td>\n",
       "    </tr>\n",
       "    <tr>\n",
       "      <th>2</th>\n",
       "      <td>3</td>\n",
       "      <td>1</td>\n",
       "      <td>3</td>\n",
       "      <td>Heikkinen, Miss. Laina</td>\n",
       "      <td>female</td>\n",
       "      <td>26.0</td>\n",
       "      <td>0</td>\n",
       "      <td>0</td>\n",
       "      <td>STON/O2. 3101282</td>\n",
       "      <td>7.9250</td>\n",
       "      <td>NaN</td>\n",
       "      <td>S</td>\n",
       "    </tr>\n",
       "    <tr>\n",
       "      <th>3</th>\n",
       "      <td>4</td>\n",
       "      <td>1</td>\n",
       "      <td>1</td>\n",
       "      <td>Futrelle, Mrs. Jacques Heath (Lily May Peel)</td>\n",
       "      <td>female</td>\n",
       "      <td>35.0</td>\n",
       "      <td>1</td>\n",
       "      <td>0</td>\n",
       "      <td>113803</td>\n",
       "      <td>53.1000</td>\n",
       "      <td>C123</td>\n",
       "      <td>S</td>\n",
       "    </tr>\n",
       "    <tr>\n",
       "      <th>4</th>\n",
       "      <td>5</td>\n",
       "      <td>0</td>\n",
       "      <td>3</td>\n",
       "      <td>Allen, Mr. William Henry</td>\n",
       "      <td>male</td>\n",
       "      <td>35.0</td>\n",
       "      <td>0</td>\n",
       "      <td>0</td>\n",
       "      <td>373450</td>\n",
       "      <td>8.0500</td>\n",
       "      <td>NaN</td>\n",
       "      <td>S</td>\n",
       "    </tr>\n",
       "  </tbody>\n",
       "</table>\n",
       "</div>"
      ],
      "text/plain": [
       "   PassengerId  Survived  Pclass  \\\n",
       "0            1         0       3   \n",
       "1            2         1       1   \n",
       "2            3         1       3   \n",
       "3            4         1       1   \n",
       "4            5         0       3   \n",
       "\n",
       "                                                Name     Sex   Age  SibSp  \\\n",
       "0                            Braund, Mr. Owen Harris    male  22.0      1   \n",
       "1  Cumings, Mrs. John Bradley (Florence Briggs Th...  female  38.0      1   \n",
       "2                             Heikkinen, Miss. Laina  female  26.0      0   \n",
       "3       Futrelle, Mrs. Jacques Heath (Lily May Peel)  female  35.0      1   \n",
       "4                           Allen, Mr. William Henry    male  35.0      0   \n",
       "\n",
       "   Parch            Ticket     Fare Cabin Embarked  \n",
       "0      0         A/5 21171   7.2500   NaN        S  \n",
       "1      0          PC 17599  71.2833   C85        C  \n",
       "2      0  STON/O2. 3101282   7.9250   NaN        S  \n",
       "3      0            113803  53.1000  C123        S  \n",
       "4      0            373450   8.0500   NaN        S  "
      ]
     },
     "execution_count": 3,
     "metadata": {},
     "output_type": "execute_result"
    }
   ],
   "source": [
    "train_data = pd.read_csv(\"/kaggle/input/titanic/train.csv\")\n",
    "train_data.head()"
   ]
  },
  {
   "cell_type": "code",
   "execution_count": 4,
   "id": "d735539f",
   "metadata": {
    "execution": {
     "iopub.execute_input": "2023-03-14T11:04:33.665534Z",
     "iopub.status.busy": "2023-03-14T11:04:33.664767Z",
     "iopub.status.idle": "2023-03-14T11:04:33.707176Z",
     "shell.execute_reply": "2023-03-14T11:04:33.705898Z"
    },
    "papermill": {
     "duration": 0.05285,
     "end_time": "2023-03-14T11:04:33.709686",
     "exception": false,
     "start_time": "2023-03-14T11:04:33.656836",
     "status": "completed"
    },
    "tags": []
   },
   "outputs": [
    {
     "data": {
      "text/html": [
       "<div>\n",
       "<style scoped>\n",
       "    .dataframe tbody tr th:only-of-type {\n",
       "        vertical-align: middle;\n",
       "    }\n",
       "\n",
       "    .dataframe tbody tr th {\n",
       "        vertical-align: top;\n",
       "    }\n",
       "\n",
       "    .dataframe thead th {\n",
       "        text-align: right;\n",
       "    }\n",
       "</style>\n",
       "<table border=\"1\" class=\"dataframe\">\n",
       "  <thead>\n",
       "    <tr style=\"text-align: right;\">\n",
       "      <th></th>\n",
       "      <th>PassengerId</th>\n",
       "      <th>Survived</th>\n",
       "      <th>Pclass</th>\n",
       "      <th>Age</th>\n",
       "      <th>SibSp</th>\n",
       "      <th>Parch</th>\n",
       "      <th>Fare</th>\n",
       "    </tr>\n",
       "  </thead>\n",
       "  <tbody>\n",
       "    <tr>\n",
       "      <th>count</th>\n",
       "      <td>891.000000</td>\n",
       "      <td>891.000000</td>\n",
       "      <td>891.000000</td>\n",
       "      <td>714.000000</td>\n",
       "      <td>891.000000</td>\n",
       "      <td>891.000000</td>\n",
       "      <td>891.000000</td>\n",
       "    </tr>\n",
       "    <tr>\n",
       "      <th>mean</th>\n",
       "      <td>446.000000</td>\n",
       "      <td>0.383838</td>\n",
       "      <td>2.308642</td>\n",
       "      <td>29.699118</td>\n",
       "      <td>0.523008</td>\n",
       "      <td>0.381594</td>\n",
       "      <td>32.204208</td>\n",
       "    </tr>\n",
       "    <tr>\n",
       "      <th>std</th>\n",
       "      <td>257.353842</td>\n",
       "      <td>0.486592</td>\n",
       "      <td>0.836071</td>\n",
       "      <td>14.526497</td>\n",
       "      <td>1.102743</td>\n",
       "      <td>0.806057</td>\n",
       "      <td>49.693429</td>\n",
       "    </tr>\n",
       "    <tr>\n",
       "      <th>min</th>\n",
       "      <td>1.000000</td>\n",
       "      <td>0.000000</td>\n",
       "      <td>1.000000</td>\n",
       "      <td>0.420000</td>\n",
       "      <td>0.000000</td>\n",
       "      <td>0.000000</td>\n",
       "      <td>0.000000</td>\n",
       "    </tr>\n",
       "    <tr>\n",
       "      <th>25%</th>\n",
       "      <td>223.500000</td>\n",
       "      <td>0.000000</td>\n",
       "      <td>2.000000</td>\n",
       "      <td>20.125000</td>\n",
       "      <td>0.000000</td>\n",
       "      <td>0.000000</td>\n",
       "      <td>7.910400</td>\n",
       "    </tr>\n",
       "    <tr>\n",
       "      <th>50%</th>\n",
       "      <td>446.000000</td>\n",
       "      <td>0.000000</td>\n",
       "      <td>3.000000</td>\n",
       "      <td>28.000000</td>\n",
       "      <td>0.000000</td>\n",
       "      <td>0.000000</td>\n",
       "      <td>14.454200</td>\n",
       "    </tr>\n",
       "    <tr>\n",
       "      <th>75%</th>\n",
       "      <td>668.500000</td>\n",
       "      <td>1.000000</td>\n",
       "      <td>3.000000</td>\n",
       "      <td>38.000000</td>\n",
       "      <td>1.000000</td>\n",
       "      <td>0.000000</td>\n",
       "      <td>31.000000</td>\n",
       "    </tr>\n",
       "    <tr>\n",
       "      <th>max</th>\n",
       "      <td>891.000000</td>\n",
       "      <td>1.000000</td>\n",
       "      <td>3.000000</td>\n",
       "      <td>80.000000</td>\n",
       "      <td>8.000000</td>\n",
       "      <td>6.000000</td>\n",
       "      <td>512.329200</td>\n",
       "    </tr>\n",
       "  </tbody>\n",
       "</table>\n",
       "</div>"
      ],
      "text/plain": [
       "       PassengerId    Survived      Pclass         Age       SibSp  \\\n",
       "count   891.000000  891.000000  891.000000  714.000000  891.000000   \n",
       "mean    446.000000    0.383838    2.308642   29.699118    0.523008   \n",
       "std     257.353842    0.486592    0.836071   14.526497    1.102743   \n",
       "min       1.000000    0.000000    1.000000    0.420000    0.000000   \n",
       "25%     223.500000    0.000000    2.000000   20.125000    0.000000   \n",
       "50%     446.000000    0.000000    3.000000   28.000000    0.000000   \n",
       "75%     668.500000    1.000000    3.000000   38.000000    1.000000   \n",
       "max     891.000000    1.000000    3.000000   80.000000    8.000000   \n",
       "\n",
       "            Parch        Fare  \n",
       "count  891.000000  891.000000  \n",
       "mean     0.381594   32.204208  \n",
       "std      0.806057   49.693429  \n",
       "min      0.000000    0.000000  \n",
       "25%      0.000000    7.910400  \n",
       "50%      0.000000   14.454200  \n",
       "75%      0.000000   31.000000  \n",
       "max      6.000000  512.329200  "
      ]
     },
     "execution_count": 4,
     "metadata": {},
     "output_type": "execute_result"
    }
   ],
   "source": [
    "train_data.describe()"
   ]
  },
  {
   "cell_type": "code",
   "execution_count": 5,
   "id": "9a06276d",
   "metadata": {
    "execution": {
     "iopub.execute_input": "2023-03-14T11:04:33.724652Z",
     "iopub.status.busy": "2023-03-14T11:04:33.723883Z",
     "iopub.status.idle": "2023-03-14T11:04:33.750367Z",
     "shell.execute_reply": "2023-03-14T11:04:33.748721Z"
    },
    "papermill": {
     "duration": 0.037042,
     "end_time": "2023-03-14T11:04:33.752972",
     "exception": false,
     "start_time": "2023-03-14T11:04:33.715930",
     "status": "completed"
    },
    "tags": []
   },
   "outputs": [
    {
     "data": {
      "text/html": [
       "<div>\n",
       "<style scoped>\n",
       "    .dataframe tbody tr th:only-of-type {\n",
       "        vertical-align: middle;\n",
       "    }\n",
       "\n",
       "    .dataframe tbody tr th {\n",
       "        vertical-align: top;\n",
       "    }\n",
       "\n",
       "    .dataframe thead th {\n",
       "        text-align: right;\n",
       "    }\n",
       "</style>\n",
       "<table border=\"1\" class=\"dataframe\">\n",
       "  <thead>\n",
       "    <tr style=\"text-align: right;\">\n",
       "      <th></th>\n",
       "      <th>PassengerId</th>\n",
       "      <th>Pclass</th>\n",
       "      <th>Name</th>\n",
       "      <th>Sex</th>\n",
       "      <th>Age</th>\n",
       "      <th>SibSp</th>\n",
       "      <th>Parch</th>\n",
       "      <th>Ticket</th>\n",
       "      <th>Fare</th>\n",
       "      <th>Cabin</th>\n",
       "      <th>Embarked</th>\n",
       "    </tr>\n",
       "  </thead>\n",
       "  <tbody>\n",
       "    <tr>\n",
       "      <th>0</th>\n",
       "      <td>892</td>\n",
       "      <td>3</td>\n",
       "      <td>Kelly, Mr. James</td>\n",
       "      <td>male</td>\n",
       "      <td>34.5</td>\n",
       "      <td>0</td>\n",
       "      <td>0</td>\n",
       "      <td>330911</td>\n",
       "      <td>7.8292</td>\n",
       "      <td>NaN</td>\n",
       "      <td>Q</td>\n",
       "    </tr>\n",
       "    <tr>\n",
       "      <th>1</th>\n",
       "      <td>893</td>\n",
       "      <td>3</td>\n",
       "      <td>Wilkes, Mrs. James (Ellen Needs)</td>\n",
       "      <td>female</td>\n",
       "      <td>47.0</td>\n",
       "      <td>1</td>\n",
       "      <td>0</td>\n",
       "      <td>363272</td>\n",
       "      <td>7.0000</td>\n",
       "      <td>NaN</td>\n",
       "      <td>S</td>\n",
       "    </tr>\n",
       "    <tr>\n",
       "      <th>2</th>\n",
       "      <td>894</td>\n",
       "      <td>2</td>\n",
       "      <td>Myles, Mr. Thomas Francis</td>\n",
       "      <td>male</td>\n",
       "      <td>62.0</td>\n",
       "      <td>0</td>\n",
       "      <td>0</td>\n",
       "      <td>240276</td>\n",
       "      <td>9.6875</td>\n",
       "      <td>NaN</td>\n",
       "      <td>Q</td>\n",
       "    </tr>\n",
       "    <tr>\n",
       "      <th>3</th>\n",
       "      <td>895</td>\n",
       "      <td>3</td>\n",
       "      <td>Wirz, Mr. Albert</td>\n",
       "      <td>male</td>\n",
       "      <td>27.0</td>\n",
       "      <td>0</td>\n",
       "      <td>0</td>\n",
       "      <td>315154</td>\n",
       "      <td>8.6625</td>\n",
       "      <td>NaN</td>\n",
       "      <td>S</td>\n",
       "    </tr>\n",
       "    <tr>\n",
       "      <th>4</th>\n",
       "      <td>896</td>\n",
       "      <td>3</td>\n",
       "      <td>Hirvonen, Mrs. Alexander (Helga E Lindqvist)</td>\n",
       "      <td>female</td>\n",
       "      <td>22.0</td>\n",
       "      <td>1</td>\n",
       "      <td>1</td>\n",
       "      <td>3101298</td>\n",
       "      <td>12.2875</td>\n",
       "      <td>NaN</td>\n",
       "      <td>S</td>\n",
       "    </tr>\n",
       "  </tbody>\n",
       "</table>\n",
       "</div>"
      ],
      "text/plain": [
       "   PassengerId  Pclass                                          Name     Sex  \\\n",
       "0          892       3                              Kelly, Mr. James    male   \n",
       "1          893       3              Wilkes, Mrs. James (Ellen Needs)  female   \n",
       "2          894       2                     Myles, Mr. Thomas Francis    male   \n",
       "3          895       3                              Wirz, Mr. Albert    male   \n",
       "4          896       3  Hirvonen, Mrs. Alexander (Helga E Lindqvist)  female   \n",
       "\n",
       "    Age  SibSp  Parch   Ticket     Fare Cabin Embarked  \n",
       "0  34.5      0      0   330911   7.8292   NaN        Q  \n",
       "1  47.0      1      0   363272   7.0000   NaN        S  \n",
       "2  62.0      0      0   240276   9.6875   NaN        Q  \n",
       "3  27.0      0      0   315154   8.6625   NaN        S  \n",
       "4  22.0      1      1  3101298  12.2875   NaN        S  "
      ]
     },
     "execution_count": 5,
     "metadata": {},
     "output_type": "execute_result"
    }
   ],
   "source": [
    "test_data = pd.read_csv(\"/kaggle/input/titanic/test.csv\")\n",
    "test_data.head()"
   ]
  },
  {
   "cell_type": "code",
   "execution_count": 6,
   "id": "5e878ef2",
   "metadata": {
    "execution": {
     "iopub.execute_input": "2023-03-14T11:04:33.768985Z",
     "iopub.status.busy": "2023-03-14T11:04:33.768145Z",
     "iopub.status.idle": "2023-03-14T11:04:33.776531Z",
     "shell.execute_reply": "2023-03-14T11:04:33.774884Z"
    },
    "papermill": {
     "duration": 0.019542,
     "end_time": "2023-03-14T11:04:33.779062",
     "exception": false,
     "start_time": "2023-03-14T11:04:33.759520",
     "status": "completed"
    },
    "tags": []
   },
   "outputs": [
    {
     "name": "stdout",
     "output_type": "stream",
     "text": [
      "% of women who survived: 0.7420382165605095\n"
     ]
    }
   ],
   "source": [
    "women = train_data.loc[train_data.Sex == 'female'][\"Survived\"]\n",
    "rate_women = sum(women)/len(women)\n",
    "\n",
    "# print(women)\n",
    "print(\"% of women who survived:\", rate_women)"
   ]
  },
  {
   "cell_type": "code",
   "execution_count": 7,
   "id": "82497b7a",
   "metadata": {
    "execution": {
     "iopub.execute_input": "2023-03-14T11:04:33.794532Z",
     "iopub.status.busy": "2023-03-14T11:04:33.793710Z",
     "iopub.status.idle": "2023-03-14T11:04:33.801827Z",
     "shell.execute_reply": "2023-03-14T11:04:33.800227Z"
    },
    "papermill": {
     "duration": 0.018901,
     "end_time": "2023-03-14T11:04:33.804496",
     "exception": false,
     "start_time": "2023-03-14T11:04:33.785595",
     "status": "completed"
    },
    "tags": []
   },
   "outputs": [
    {
     "name": "stdout",
     "output_type": "stream",
     "text": [
      "% of men who survived: 0.18890814558058924\n"
     ]
    }
   ],
   "source": [
    "men = train_data.loc[train_data.Sex == 'male'][\"Survived\"]\n",
    "rate_men = sum(men)/len(men)\n",
    "\n",
    "# print(men)\n",
    "print(\"% of men who survived:\", rate_men)"
   ]
  },
  {
   "cell_type": "code",
   "execution_count": 8,
   "id": "9fcbfda7",
   "metadata": {
    "execution": {
     "iopub.execute_input": "2023-03-14T11:04:33.819500Z",
     "iopub.status.busy": "2023-03-14T11:04:33.818766Z",
     "iopub.status.idle": "2023-03-14T11:04:33.834714Z",
     "shell.execute_reply": "2023-03-14T11:04:33.833329Z"
    },
    "papermill": {
     "duration": 0.026593,
     "end_time": "2023-03-14T11:04:33.837535",
     "exception": false,
     "start_time": "2023-03-14T11:04:33.810942",
     "status": "completed"
    },
    "tags": []
   },
   "outputs": [],
   "source": [
    "y = train_data[\"Survived\"]\n",
    "\n",
    "features = [\"Pclass\", \"Sex\", \"SibSp\", \"Parch\"]\n",
    "X = pd.get_dummies(train_data[features])\n",
    "X_test = pd.get_dummies(test_data[features])\n",
    "\n",
    "# model = RandomForestClassifier(n_estimators=100, max_depth=5, random_state=1)\n",
    "# model.fit(X, y)\n",
    "# predictions = model.predict(X_test)\n",
    "\n",
    "# output = pd.DataFrame({'PassengerId': test_data.PassengerId, 'Survived': predictions})\n",
    "# output.to_csv('submission.csv', index=False)\n",
    "# print(\"Your submission was successfully saved!\")"
   ]
  },
  {
   "cell_type": "code",
   "execution_count": 9,
   "id": "b5dd9fd9",
   "metadata": {
    "execution": {
     "iopub.execute_input": "2023-03-14T11:04:33.851983Z",
     "iopub.status.busy": "2023-03-14T11:04:33.851425Z",
     "iopub.status.idle": "2023-03-14T11:04:33.866419Z",
     "shell.execute_reply": "2023-03-14T11:04:33.865105Z"
    },
    "papermill": {
     "duration": 0.025116,
     "end_time": "2023-03-14T11:04:33.869008",
     "exception": false,
     "start_time": "2023-03-14T11:04:33.843892",
     "status": "completed"
    },
    "tags": []
   },
   "outputs": [
    {
     "data": {
      "text/plain": [
       "Pclass        3\n",
       "SibSp         7\n",
       "Parch         7\n",
       "Sex_female    2\n",
       "Sex_male      2\n",
       "dtype: int64"
      ]
     },
     "execution_count": 9,
     "metadata": {},
     "output_type": "execute_result"
    }
   ],
   "source": [
    "X.nunique()"
   ]
  },
  {
   "cell_type": "code",
   "execution_count": 10,
   "id": "0f820720",
   "metadata": {
    "execution": {
     "iopub.execute_input": "2023-03-14T11:04:33.883613Z",
     "iopub.status.busy": "2023-03-14T11:04:33.883138Z",
     "iopub.status.idle": "2023-03-14T11:04:33.902151Z",
     "shell.execute_reply": "2023-03-14T11:04:33.901167Z"
    },
    "papermill": {
     "duration": 0.02913,
     "end_time": "2023-03-14T11:04:33.904636",
     "exception": false,
     "start_time": "2023-03-14T11:04:33.875506",
     "status": "completed"
    },
    "tags": []
   },
   "outputs": [],
   "source": [
    "from sklearn.model_selection import train_test_split\n",
    "X_train, X_valid, y_train, y_valid = train_test_split(X, y)"
   ]
  },
  {
   "cell_type": "markdown",
   "id": "41fac8ba",
   "metadata": {
    "papermill": {
     "duration": 0.006102,
     "end_time": "2023-03-14T11:04:33.917214",
     "exception": false,
     "start_time": "2023-03-14T11:04:33.911112",
     "status": "completed"
    },
    "tags": []
   },
   "source": [
    "# Decision Tree"
   ]
  },
  {
   "cell_type": "code",
   "execution_count": 11,
   "id": "921d8cef",
   "metadata": {
    "execution": {
     "iopub.execute_input": "2023-03-14T11:04:33.932247Z",
     "iopub.status.busy": "2023-03-14T11:04:33.931450Z",
     "iopub.status.idle": "2023-03-14T11:04:34.091420Z",
     "shell.execute_reply": "2023-03-14T11:04:34.089697Z"
    },
    "papermill": {
     "duration": 0.170594,
     "end_time": "2023-03-14T11:04:34.094175",
     "exception": false,
     "start_time": "2023-03-14T11:04:33.923581",
     "status": "completed"
    },
    "tags": []
   },
   "outputs": [
    {
     "name": "stdout",
     "output_type": "stream",
     "text": [
      "TRAIN DATA\n",
      "MAE in Random Forest Model: 0.2401\n",
      "R-Squared in Random Forest Model: 0.49\n",
      "\n",
      "TEST DATA\n",
      "MAE in Random Forest Model: 0.2722\n",
      "R-Squared in Random Forest Model: 0.36\n"
     ]
    }
   ],
   "source": [
    "from sklearn.tree import DecisionTreeRegressor\n",
    "model_d = DecisionTreeRegressor(random_state=1)\n",
    "model_d.fit(X_train, y_train)\n",
    "\n",
    "pred_d_train = model_d.predict(X_train)\n",
    "pred_d_test = model_d.predict(X_valid)\n",
    "\n",
    "print('TRAIN DATA')\n",
    "print(\"MAE in Random Forest Model: %.4f\" % mean_absolute_error(pred_d_train, y_train))\n",
    "print('R-Squared in Random Forest Model: %.2f' % model_d.score(X_train, y_train))\n",
    "\n",
    "print('\\nTEST DATA')\n",
    "print('MAE in Random Forest Model: %.4f' % mean_absolute_error(pred_d_test, y_valid))\n",
    "print('R-Squared in Random Forest Model: %.2f' % model_d.score(X_valid, y_valid))\n"
   ]
  },
  {
   "cell_type": "markdown",
   "id": "c28eeda4",
   "metadata": {
    "papermill": {
     "duration": 0.00638,
     "end_time": "2023-03-14T11:04:34.107348",
     "exception": false,
     "start_time": "2023-03-14T11:04:34.100968",
     "status": "completed"
    },
    "tags": []
   },
   "source": [
    "# ****Random Forest****"
   ]
  },
  {
   "cell_type": "code",
   "execution_count": 12,
   "id": "70c74968",
   "metadata": {
    "execution": {
     "iopub.execute_input": "2023-03-14T11:04:34.124414Z",
     "iopub.status.busy": "2023-03-14T11:04:34.123119Z",
     "iopub.status.idle": "2023-03-14T11:04:34.413754Z",
     "shell.execute_reply": "2023-03-14T11:04:34.411575Z"
    },
    "papermill": {
     "duration": 0.30235,
     "end_time": "2023-03-14T11:04:34.417456",
     "exception": false,
     "start_time": "2023-03-14T11:04:34.115106",
     "status": "completed"
    },
    "tags": []
   },
   "outputs": [
    {
     "name": "stdout",
     "output_type": "stream",
     "text": [
      "TRAIN DATA\n",
      "MAE in Random Forest Model: 0.1751\n",
      "R-Squared in Random Forest Model: 0.82\n",
      "\n",
      "TEST DATA\n",
      "MAE in Random Forest Model: 0.2152\n",
      "R-Squared in Random Forest Model: 0.78\n"
     ]
    }
   ],
   "source": [
    "from sklearn.ensemble import RandomForestClassifier\n",
    "model_rf = RandomForestClassifier(n_estimators=100, max_depth=5, random_state=1)\n",
    "model_rf.fit(X_train, y_train)\n",
    "\n",
    "pred_rf_train = model_rf.predict(X_train)\n",
    "pred_rf_test = model_rf.predict(X_valid)\n",
    "\n",
    "print('TRAIN DATA')\n",
    "print(\"MAE in Random Forest Model: %.4f\" % mean_absolute_error(pred_rf_train, y_train))\n",
    "print('R-Squared in Random Forest Model: %.2f' % model_rf.score(X_train, y_train))\n",
    "\n",
    "print('\\nTEST DATA')\n",
    "print('MAE in Random Forest Model: %.4f' % mean_absolute_error(pred_rf_test, y_valid))\n",
    "print('R-Squared in Random Forest Model: %.2f' % model_rf.score(X_valid, y_valid))"
   ]
  },
  {
   "cell_type": "markdown",
   "id": "71fe52d8",
   "metadata": {
    "papermill": {
     "duration": 0.006347,
     "end_time": "2023-03-14T11:04:34.430636",
     "exception": false,
     "start_time": "2023-03-14T11:04:34.424289",
     "status": "completed"
    },
    "tags": []
   },
   "source": [
    "# XGB"
   ]
  },
  {
   "cell_type": "code",
   "execution_count": 13,
   "id": "9460a56b",
   "metadata": {
    "execution": {
     "iopub.execute_input": "2023-03-14T11:04:34.446615Z",
     "iopub.status.busy": "2023-03-14T11:04:34.445145Z",
     "iopub.status.idle": "2023-03-14T11:04:36.754323Z",
     "shell.execute_reply": "2023-03-14T11:04:36.753222Z"
    },
    "papermill": {
     "duration": 2.319861,
     "end_time": "2023-03-14T11:04:36.757064",
     "exception": false,
     "start_time": "2023-03-14T11:04:34.437203",
     "status": "completed"
    },
    "tags": []
   },
   "outputs": [
    {
     "name": "stdout",
     "output_type": "stream",
     "text": [
      "[11:04:34] WARNING: ../src/learner.cc:627: \n",
      "Parameters: { \"n_iter_no_change\" } might not be used.\n",
      "\n",
      "  This could be a false alarm, with some parameters getting used by language bindings but\n",
      "  then being mistakenly passed down to XGBoost core, or some parameter actually being used\n",
      "  but getting flagged wrongly here. Please open an issue if you find any such cases.\n",
      "\n",
      "\n",
      "TRAIN DATA\n",
      "MAE in Random Forest Model: 0.2406\n",
      "R-Squared in Random Forest Model: 0.49\n",
      "\n",
      "TEST DATA\n",
      "MAE in Random Forest Model: 0.2744\n",
      "R-Squared in Random Forest Model: 0.35\n"
     ]
    }
   ],
   "source": [
    "from xgboost import XGBRegressor\n",
    "model_xgb = XGBRegressor(n_estimators=1000, n_iter_no_change=5, learning_rate=0.5)\n",
    "\n",
    "model_xgb.fit(X_train, y_train, verbose=False)\n",
    "\n",
    "pred_xgb_train = model_xgb.predict(X_train)\n",
    "pred_xgb_test = model_xgb.predict(X_valid)\n",
    "\n",
    "print('TRAIN DATA')\n",
    "print(\"MAE in Random Forest Model: %.4f\" % mean_absolute_error(pred_xgb_train, y_train))\n",
    "print('R-Squared in Random Forest Model: %.2f' % model_xgb.score(X_train, y_train))\n",
    "\n",
    "print('\\nTEST DATA')\n",
    "print('MAE in Random Forest Model: %.4f' % mean_absolute_error(pred_xgb_test, y_valid))\n",
    "print('R-Squared in Random Forest Model: %.2f' % model_xgb.score(X_valid, y_valid))"
   ]
  },
  {
   "cell_type": "markdown",
   "id": "9dd798e8",
   "metadata": {
    "papermill": {
     "duration": 0.006429,
     "end_time": "2023-03-14T11:04:36.771150",
     "exception": false,
     "start_time": "2023-03-14T11:04:36.764721",
     "status": "completed"
    },
    "tags": []
   },
   "source": [
    "# Logistic Regression"
   ]
  },
  {
   "cell_type": "code",
   "execution_count": 14,
   "id": "16808ad5",
   "metadata": {
    "execution": {
     "iopub.execute_input": "2023-03-14T11:04:36.786965Z",
     "iopub.status.busy": "2023-03-14T11:04:36.785790Z",
     "iopub.status.idle": "2023-03-14T11:04:36.816740Z",
     "shell.execute_reply": "2023-03-14T11:04:36.815490Z"
    },
    "papermill": {
     "duration": 0.041989,
     "end_time": "2023-03-14T11:04:36.819789",
     "exception": false,
     "start_time": "2023-03-14T11:04:36.777800",
     "status": "completed"
    },
    "tags": []
   },
   "outputs": [
    {
     "name": "stdout",
     "output_type": "stream",
     "text": [
      "TRAIN DATA\n",
      "MAE in Logistic Regression Model: 0.1991\n",
      "R-Squared in Logistic Regression Model: 0.80\n",
      "\n",
      "TEST DATA\n",
      "MAE in Logistic Regression Model: 0.2197\n",
      "R-Squared in Logistic Regression Model: 0.78\n"
     ]
    }
   ],
   "source": [
    "from sklearn.linear_model import LogisticRegression\n",
    "model_lg = LogisticRegression(random_state=1)\n",
    "\n",
    "model_lg.fit(X_train, y_train)\n",
    "\n",
    "pred_lg_train = model_lg.predict(X_train)\n",
    "pred_lg_test = model_lg.predict(X_valid)\n",
    "\n",
    "print('TRAIN DATA')\n",
    "print(\"MAE in Logistic Regression Model: %.4f\" % mean_absolute_error(pred_lg_train, y_train))\n",
    "print('R-Squared in Logistic Regression Model: %.2f' % model_lg.score(X_train, y_train))\n",
    "\n",
    "print('\\nTEST DATA')\n",
    "print('MAE in Logistic Regression Model: %.4f' % mean_absolute_error(pred_lg_test, y_valid))\n",
    "print('R-Squared in Logistic Regression Model: %.2f' % model_lg.score(X_valid, y_valid))"
   ]
  },
  {
   "cell_type": "markdown",
   "id": "880df3c8",
   "metadata": {
    "papermill": {
     "duration": 0.006422,
     "end_time": "2023-03-14T11:04:36.833233",
     "exception": false,
     "start_time": "2023-03-14T11:04:36.826811",
     "status": "completed"
    },
    "tags": []
   },
   "source": [
    "# Submission"
   ]
  },
  {
   "cell_type": "code",
   "execution_count": 15,
   "id": "d7d3f3c1",
   "metadata": {
    "execution": {
     "iopub.execute_input": "2023-03-14T11:04:36.849477Z",
     "iopub.status.busy": "2023-03-14T11:04:36.848712Z",
     "iopub.status.idle": "2023-03-14T11:04:36.871489Z",
     "shell.execute_reply": "2023-03-14T11:04:36.870017Z"
    },
    "papermill": {
     "duration": 0.034016,
     "end_time": "2023-03-14T11:04:36.874089",
     "exception": false,
     "start_time": "2023-03-14T11:04:36.840073",
     "status": "completed"
    },
    "tags": []
   },
   "outputs": [
    {
     "name": "stdout",
     "output_type": "stream",
     "text": [
      "Your submission was successfully saved!\n"
     ]
    }
   ],
   "source": [
    "model_lg.fit(X, y)\n",
    "predictions = model_lg.predict(X_test)\n",
    "\n",
    "output = pd.DataFrame({'PassengerId': test_data.PassengerId, 'Survived': predictions})\n",
    "output.to_csv('submission.csv', index=False)\n",
    "print(\"Your submission was successfully saved!\")"
   ]
  },
  {
   "cell_type": "markdown",
   "id": "7c821e05",
   "metadata": {
    "papermill": {
     "duration": 0.006555,
     "end_time": "2023-03-14T11:04:36.887621",
     "exception": false,
     "start_time": "2023-03-14T11:04:36.881066",
     "status": "completed"
    },
    "tags": []
   },
   "source": []
  }
 ],
 "metadata": {
  "kernelspec": {
   "display_name": "Python 3",
   "language": "python",
   "name": "python3"
  },
  "language_info": {
   "codemirror_mode": {
    "name": "ipython",
    "version": 3
   },
   "file_extension": ".py",
   "mimetype": "text/x-python",
   "name": "python",
   "nbconvert_exporter": "python",
   "pygments_lexer": "ipython3",
   "version": "3.7.12"
  },
  "papermill": {
   "default_parameters": {},
   "duration": 15.252797,
   "end_time": "2023-03-14T11:04:37.717465",
   "environment_variables": {},
   "exception": null,
   "input_path": "__notebook__.ipynb",
   "output_path": "__notebook__.ipynb",
   "parameters": {},
   "start_time": "2023-03-14T11:04:22.464668",
   "version": "2.3.4"
  }
 },
 "nbformat": 4,
 "nbformat_minor": 5
}
