{
 "cells": [
  {
   "cell_type": "code",
   "execution_count": 1,
   "id": "c54c8154",
   "metadata": {
    "_cell_guid": "b1076dfc-b9ad-4769-8c92-a6c4dae69d19",
    "_uuid": "8f2839f25d086af736a60e9eeb907d3b93b6e0e5",
    "execution": {
     "iopub.execute_input": "2023-03-16T10:17:35.386710Z",
     "iopub.status.busy": "2023-03-16T10:17:35.385579Z",
     "iopub.status.idle": "2023-03-16T10:17:35.401209Z",
     "shell.execute_reply": "2023-03-16T10:17:35.399936Z"
    },
    "papermill": {
     "duration": 0.036797,
     "end_time": "2023-03-16T10:17:35.404223",
     "exception": false,
     "start_time": "2023-03-16T10:17:35.367426",
     "status": "completed"
    },
    "tags": []
   },
   "outputs": [
    {
     "name": "stdout",
     "output_type": "stream",
     "text": [
      "/kaggle/input/titanic/train.csv\n",
      "/kaggle/input/titanic/test.csv\n",
      "/kaggle/input/titanic/gender_submission.csv\n"
     ]
    }
   ],
   "source": [
    "# This Python 3 environment comes with many helpful analytics libraries installed\n",
    "# It is defined by the kaggle/python Docker image: https://github.com/kaggle/docker-python\n",
    "# For example, here's several helpful packages to load\n",
    "\n",
    "import numpy as np # linear algebra\n",
    "import pandas as pd # data processing, CSV file I/O (e.g. pd.read_csv)\n",
    "\n",
    "# Input data files are available in the read-only \"../input/\" directory\n",
    "# For example, running this (by clicking run or pressing Shift+Enter) will list all files under the input directory\n",
    "\n",
    "import os\n",
    "for dirname, _, filenames in os.walk('/kaggle/input'):\n",
    "    for filename in filenames:\n",
    "        print(os.path.join(dirname, filename))\n",
    "\n",
    "# You can write up to 20GB to the current directory (/kaggle/working/) that gets preserved as output when you create a version using \"Save & Run All\" \n",
    "# You can also write temporary files to /kaggle/temp/, but they won't be saved outside of the current session"
   ]
  },
  {
   "cell_type": "code",
   "execution_count": 2,
   "id": "be0cfa70",
   "metadata": {
    "execution": {
     "iopub.execute_input": "2023-03-16T10:17:35.437874Z",
     "iopub.status.busy": "2023-03-16T10:17:35.437479Z",
     "iopub.status.idle": "2023-03-16T10:17:36.431773Z",
     "shell.execute_reply": "2023-03-16T10:17:36.430812Z"
    },
    "papermill": {
     "duration": 1.015172,
     "end_time": "2023-03-16T10:17:36.434609",
     "exception": false,
     "start_time": "2023-03-16T10:17:35.419437",
     "status": "completed"
    },
    "tags": []
   },
   "outputs": [],
   "source": [
    "from sklearn.metrics import mean_absolute_error"
   ]
  },
  {
   "cell_type": "code",
   "execution_count": 3,
   "id": "5ce7df4e",
   "metadata": {
    "execution": {
     "iopub.execute_input": "2023-03-16T10:17:36.467471Z",
     "iopub.status.busy": "2023-03-16T10:17:36.466319Z",
     "iopub.status.idle": "2023-03-16T10:17:36.506168Z",
     "shell.execute_reply": "2023-03-16T10:17:36.505106Z"
    },
    "papermill": {
     "duration": 0.058567,
     "end_time": "2023-03-16T10:17:36.508680",
     "exception": false,
     "start_time": "2023-03-16T10:17:36.450113",
     "status": "completed"
    },
    "tags": []
   },
   "outputs": [
    {
     "data": {
      "text/html": [
       "<div>\n",
       "<style scoped>\n",
       "    .dataframe tbody tr th:only-of-type {\n",
       "        vertical-align: middle;\n",
       "    }\n",
       "\n",
       "    .dataframe tbody tr th {\n",
       "        vertical-align: top;\n",
       "    }\n",
       "\n",
       "    .dataframe thead th {\n",
       "        text-align: right;\n",
       "    }\n",
       "</style>\n",
       "<table border=\"1\" class=\"dataframe\">\n",
       "  <thead>\n",
       "    <tr style=\"text-align: right;\">\n",
       "      <th></th>\n",
       "      <th>PassengerId</th>\n",
       "      <th>Survived</th>\n",
       "      <th>Pclass</th>\n",
       "      <th>Name</th>\n",
       "      <th>Sex</th>\n",
       "      <th>Age</th>\n",
       "      <th>SibSp</th>\n",
       "      <th>Parch</th>\n",
       "      <th>Ticket</th>\n",
       "      <th>Fare</th>\n",
       "      <th>Cabin</th>\n",
       "      <th>Embarked</th>\n",
       "    </tr>\n",
       "  </thead>\n",
       "  <tbody>\n",
       "    <tr>\n",
       "      <th>0</th>\n",
       "      <td>1</td>\n",
       "      <td>0</td>\n",
       "      <td>3</td>\n",
       "      <td>Braund, Mr. Owen Harris</td>\n",
       "      <td>male</td>\n",
       "      <td>22.0</td>\n",
       "      <td>1</td>\n",
       "      <td>0</td>\n",
       "      <td>A/5 21171</td>\n",
       "      <td>7.2500</td>\n",
       "      <td>NaN</td>\n",
       "      <td>S</td>\n",
       "    </tr>\n",
       "    <tr>\n",
       "      <th>1</th>\n",
       "      <td>2</td>\n",
       "      <td>1</td>\n",
       "      <td>1</td>\n",
       "      <td>Cumings, Mrs. John Bradley (Florence Briggs Th...</td>\n",
       "      <td>female</td>\n",
       "      <td>38.0</td>\n",
       "      <td>1</td>\n",
       "      <td>0</td>\n",
       "      <td>PC 17599</td>\n",
       "      <td>71.2833</td>\n",
       "      <td>C85</td>\n",
       "      <td>C</td>\n",
       "    </tr>\n",
       "    <tr>\n",
       "      <th>2</th>\n",
       "      <td>3</td>\n",
       "      <td>1</td>\n",
       "      <td>3</td>\n",
       "      <td>Heikkinen, Miss. Laina</td>\n",
       "      <td>female</td>\n",
       "      <td>26.0</td>\n",
       "      <td>0</td>\n",
       "      <td>0</td>\n",
       "      <td>STON/O2. 3101282</td>\n",
       "      <td>7.9250</td>\n",
       "      <td>NaN</td>\n",
       "      <td>S</td>\n",
       "    </tr>\n",
       "    <tr>\n",
       "      <th>3</th>\n",
       "      <td>4</td>\n",
       "      <td>1</td>\n",
       "      <td>1</td>\n",
       "      <td>Futrelle, Mrs. Jacques Heath (Lily May Peel)</td>\n",
       "      <td>female</td>\n",
       "      <td>35.0</td>\n",
       "      <td>1</td>\n",
       "      <td>0</td>\n",
       "      <td>113803</td>\n",
       "      <td>53.1000</td>\n",
       "      <td>C123</td>\n",
       "      <td>S</td>\n",
       "    </tr>\n",
       "    <tr>\n",
       "      <th>4</th>\n",
       "      <td>5</td>\n",
       "      <td>0</td>\n",
       "      <td>3</td>\n",
       "      <td>Allen, Mr. William Henry</td>\n",
       "      <td>male</td>\n",
       "      <td>35.0</td>\n",
       "      <td>0</td>\n",
       "      <td>0</td>\n",
       "      <td>373450</td>\n",
       "      <td>8.0500</td>\n",
       "      <td>NaN</td>\n",
       "      <td>S</td>\n",
       "    </tr>\n",
       "  </tbody>\n",
       "</table>\n",
       "</div>"
      ],
      "text/plain": [
       "   PassengerId  Survived  Pclass  \\\n",
       "0            1         0       3   \n",
       "1            2         1       1   \n",
       "2            3         1       3   \n",
       "3            4         1       1   \n",
       "4            5         0       3   \n",
       "\n",
       "                                                Name     Sex   Age  SibSp  \\\n",
       "0                            Braund, Mr. Owen Harris    male  22.0      1   \n",
       "1  Cumings, Mrs. John Bradley (Florence Briggs Th...  female  38.0      1   \n",
       "2                             Heikkinen, Miss. Laina  female  26.0      0   \n",
       "3       Futrelle, Mrs. Jacques Heath (Lily May Peel)  female  35.0      1   \n",
       "4                           Allen, Mr. William Henry    male  35.0      0   \n",
       "\n",
       "   Parch            Ticket     Fare Cabin Embarked  \n",
       "0      0         A/5 21171   7.2500   NaN        S  \n",
       "1      0          PC 17599  71.2833   C85        C  \n",
       "2      0  STON/O2. 3101282   7.9250   NaN        S  \n",
       "3      0            113803  53.1000  C123        S  \n",
       "4      0            373450   8.0500   NaN        S  "
      ]
     },
     "execution_count": 3,
     "metadata": {},
     "output_type": "execute_result"
    }
   ],
   "source": [
    "train_data = pd.read_csv(\"/kaggle/input/titanic/train.csv\")\n",
    "train_data.head()"
   ]
  },
  {
   "cell_type": "code",
   "execution_count": 4,
   "id": "e620e64b",
   "metadata": {
    "execution": {
     "iopub.execute_input": "2023-03-16T10:17:36.542568Z",
     "iopub.status.busy": "2023-03-16T10:17:36.541651Z",
     "iopub.status.idle": "2023-03-16T10:17:36.583134Z",
     "shell.execute_reply": "2023-03-16T10:17:36.581865Z"
    },
    "papermill": {
     "duration": 0.060435,
     "end_time": "2023-03-16T10:17:36.585464",
     "exception": false,
     "start_time": "2023-03-16T10:17:36.525029",
     "status": "completed"
    },
    "tags": []
   },
   "outputs": [
    {
     "data": {
      "text/html": [
       "<div>\n",
       "<style scoped>\n",
       "    .dataframe tbody tr th:only-of-type {\n",
       "        vertical-align: middle;\n",
       "    }\n",
       "\n",
       "    .dataframe tbody tr th {\n",
       "        vertical-align: top;\n",
       "    }\n",
       "\n",
       "    .dataframe thead th {\n",
       "        text-align: right;\n",
       "    }\n",
       "</style>\n",
       "<table border=\"1\" class=\"dataframe\">\n",
       "  <thead>\n",
       "    <tr style=\"text-align: right;\">\n",
       "      <th></th>\n",
       "      <th>PassengerId</th>\n",
       "      <th>Survived</th>\n",
       "      <th>Pclass</th>\n",
       "      <th>Age</th>\n",
       "      <th>SibSp</th>\n",
       "      <th>Parch</th>\n",
       "      <th>Fare</th>\n",
       "    </tr>\n",
       "  </thead>\n",
       "  <tbody>\n",
       "    <tr>\n",
       "      <th>count</th>\n",
       "      <td>891.000000</td>\n",
       "      <td>891.000000</td>\n",
       "      <td>891.000000</td>\n",
       "      <td>714.000000</td>\n",
       "      <td>891.000000</td>\n",
       "      <td>891.000000</td>\n",
       "      <td>891.000000</td>\n",
       "    </tr>\n",
       "    <tr>\n",
       "      <th>mean</th>\n",
       "      <td>446.000000</td>\n",
       "      <td>0.383838</td>\n",
       "      <td>2.308642</td>\n",
       "      <td>29.699118</td>\n",
       "      <td>0.523008</td>\n",
       "      <td>0.381594</td>\n",
       "      <td>32.204208</td>\n",
       "    </tr>\n",
       "    <tr>\n",
       "      <th>std</th>\n",
       "      <td>257.353842</td>\n",
       "      <td>0.486592</td>\n",
       "      <td>0.836071</td>\n",
       "      <td>14.526497</td>\n",
       "      <td>1.102743</td>\n",
       "      <td>0.806057</td>\n",
       "      <td>49.693429</td>\n",
       "    </tr>\n",
       "    <tr>\n",
       "      <th>min</th>\n",
       "      <td>1.000000</td>\n",
       "      <td>0.000000</td>\n",
       "      <td>1.000000</td>\n",
       "      <td>0.420000</td>\n",
       "      <td>0.000000</td>\n",
       "      <td>0.000000</td>\n",
       "      <td>0.000000</td>\n",
       "    </tr>\n",
       "    <tr>\n",
       "      <th>25%</th>\n",
       "      <td>223.500000</td>\n",
       "      <td>0.000000</td>\n",
       "      <td>2.000000</td>\n",
       "      <td>20.125000</td>\n",
       "      <td>0.000000</td>\n",
       "      <td>0.000000</td>\n",
       "      <td>7.910400</td>\n",
       "    </tr>\n",
       "    <tr>\n",
       "      <th>50%</th>\n",
       "      <td>446.000000</td>\n",
       "      <td>0.000000</td>\n",
       "      <td>3.000000</td>\n",
       "      <td>28.000000</td>\n",
       "      <td>0.000000</td>\n",
       "      <td>0.000000</td>\n",
       "      <td>14.454200</td>\n",
       "    </tr>\n",
       "    <tr>\n",
       "      <th>75%</th>\n",
       "      <td>668.500000</td>\n",
       "      <td>1.000000</td>\n",
       "      <td>3.000000</td>\n",
       "      <td>38.000000</td>\n",
       "      <td>1.000000</td>\n",
       "      <td>0.000000</td>\n",
       "      <td>31.000000</td>\n",
       "    </tr>\n",
       "    <tr>\n",
       "      <th>max</th>\n",
       "      <td>891.000000</td>\n",
       "      <td>1.000000</td>\n",
       "      <td>3.000000</td>\n",
       "      <td>80.000000</td>\n",
       "      <td>8.000000</td>\n",
       "      <td>6.000000</td>\n",
       "      <td>512.329200</td>\n",
       "    </tr>\n",
       "  </tbody>\n",
       "</table>\n",
       "</div>"
      ],
      "text/plain": [
       "       PassengerId    Survived      Pclass         Age       SibSp  \\\n",
       "count   891.000000  891.000000  891.000000  714.000000  891.000000   \n",
       "mean    446.000000    0.383838    2.308642   29.699118    0.523008   \n",
       "std     257.353842    0.486592    0.836071   14.526497    1.102743   \n",
       "min       1.000000    0.000000    1.000000    0.420000    0.000000   \n",
       "25%     223.500000    0.000000    2.000000   20.125000    0.000000   \n",
       "50%     446.000000    0.000000    3.000000   28.000000    0.000000   \n",
       "75%     668.500000    1.000000    3.000000   38.000000    1.000000   \n",
       "max     891.000000    1.000000    3.000000   80.000000    8.000000   \n",
       "\n",
       "            Parch        Fare  \n",
       "count  891.000000  891.000000  \n",
       "mean     0.381594   32.204208  \n",
       "std      0.806057   49.693429  \n",
       "min      0.000000    0.000000  \n",
       "25%      0.000000    7.910400  \n",
       "50%      0.000000   14.454200  \n",
       "75%      0.000000   31.000000  \n",
       "max      6.000000  512.329200  "
      ]
     },
     "execution_count": 4,
     "metadata": {},
     "output_type": "execute_result"
    }
   ],
   "source": [
    "train_data.describe()"
   ]
  },
  {
   "cell_type": "code",
   "execution_count": 5,
   "id": "47a97021",
   "metadata": {
    "execution": {
     "iopub.execute_input": "2023-03-16T10:17:36.618130Z",
     "iopub.status.busy": "2023-03-16T10:17:36.617274Z",
     "iopub.status.idle": "2023-03-16T10:17:36.640843Z",
     "shell.execute_reply": "2023-03-16T10:17:36.639703Z"
    },
    "papermill": {
     "duration": 0.042603,
     "end_time": "2023-03-16T10:17:36.643364",
     "exception": false,
     "start_time": "2023-03-16T10:17:36.600761",
     "status": "completed"
    },
    "tags": []
   },
   "outputs": [
    {
     "data": {
      "text/html": [
       "<div>\n",
       "<style scoped>\n",
       "    .dataframe tbody tr th:only-of-type {\n",
       "        vertical-align: middle;\n",
       "    }\n",
       "\n",
       "    .dataframe tbody tr th {\n",
       "        vertical-align: top;\n",
       "    }\n",
       "\n",
       "    .dataframe thead th {\n",
       "        text-align: right;\n",
       "    }\n",
       "</style>\n",
       "<table border=\"1\" class=\"dataframe\">\n",
       "  <thead>\n",
       "    <tr style=\"text-align: right;\">\n",
       "      <th></th>\n",
       "      <th>PassengerId</th>\n",
       "      <th>Pclass</th>\n",
       "      <th>Name</th>\n",
       "      <th>Sex</th>\n",
       "      <th>Age</th>\n",
       "      <th>SibSp</th>\n",
       "      <th>Parch</th>\n",
       "      <th>Ticket</th>\n",
       "      <th>Fare</th>\n",
       "      <th>Cabin</th>\n",
       "      <th>Embarked</th>\n",
       "    </tr>\n",
       "  </thead>\n",
       "  <tbody>\n",
       "    <tr>\n",
       "      <th>0</th>\n",
       "      <td>892</td>\n",
       "      <td>3</td>\n",
       "      <td>Kelly, Mr. James</td>\n",
       "      <td>male</td>\n",
       "      <td>34.5</td>\n",
       "      <td>0</td>\n",
       "      <td>0</td>\n",
       "      <td>330911</td>\n",
       "      <td>7.8292</td>\n",
       "      <td>NaN</td>\n",
       "      <td>Q</td>\n",
       "    </tr>\n",
       "    <tr>\n",
       "      <th>1</th>\n",
       "      <td>893</td>\n",
       "      <td>3</td>\n",
       "      <td>Wilkes, Mrs. James (Ellen Needs)</td>\n",
       "      <td>female</td>\n",
       "      <td>47.0</td>\n",
       "      <td>1</td>\n",
       "      <td>0</td>\n",
       "      <td>363272</td>\n",
       "      <td>7.0000</td>\n",
       "      <td>NaN</td>\n",
       "      <td>S</td>\n",
       "    </tr>\n",
       "    <tr>\n",
       "      <th>2</th>\n",
       "      <td>894</td>\n",
       "      <td>2</td>\n",
       "      <td>Myles, Mr. Thomas Francis</td>\n",
       "      <td>male</td>\n",
       "      <td>62.0</td>\n",
       "      <td>0</td>\n",
       "      <td>0</td>\n",
       "      <td>240276</td>\n",
       "      <td>9.6875</td>\n",
       "      <td>NaN</td>\n",
       "      <td>Q</td>\n",
       "    </tr>\n",
       "    <tr>\n",
       "      <th>3</th>\n",
       "      <td>895</td>\n",
       "      <td>3</td>\n",
       "      <td>Wirz, Mr. Albert</td>\n",
       "      <td>male</td>\n",
       "      <td>27.0</td>\n",
       "      <td>0</td>\n",
       "      <td>0</td>\n",
       "      <td>315154</td>\n",
       "      <td>8.6625</td>\n",
       "      <td>NaN</td>\n",
       "      <td>S</td>\n",
       "    </tr>\n",
       "    <tr>\n",
       "      <th>4</th>\n",
       "      <td>896</td>\n",
       "      <td>3</td>\n",
       "      <td>Hirvonen, Mrs. Alexander (Helga E Lindqvist)</td>\n",
       "      <td>female</td>\n",
       "      <td>22.0</td>\n",
       "      <td>1</td>\n",
       "      <td>1</td>\n",
       "      <td>3101298</td>\n",
       "      <td>12.2875</td>\n",
       "      <td>NaN</td>\n",
       "      <td>S</td>\n",
       "    </tr>\n",
       "  </tbody>\n",
       "</table>\n",
       "</div>"
      ],
      "text/plain": [
       "   PassengerId  Pclass                                          Name     Sex  \\\n",
       "0          892       3                              Kelly, Mr. James    male   \n",
       "1          893       3              Wilkes, Mrs. James (Ellen Needs)  female   \n",
       "2          894       2                     Myles, Mr. Thomas Francis    male   \n",
       "3          895       3                              Wirz, Mr. Albert    male   \n",
       "4          896       3  Hirvonen, Mrs. Alexander (Helga E Lindqvist)  female   \n",
       "\n",
       "    Age  SibSp  Parch   Ticket     Fare Cabin Embarked  \n",
       "0  34.5      0      0   330911   7.8292   NaN        Q  \n",
       "1  47.0      1      0   363272   7.0000   NaN        S  \n",
       "2  62.0      0      0   240276   9.6875   NaN        Q  \n",
       "3  27.0      0      0   315154   8.6625   NaN        S  \n",
       "4  22.0      1      1  3101298  12.2875   NaN        S  "
      ]
     },
     "execution_count": 5,
     "metadata": {},
     "output_type": "execute_result"
    }
   ],
   "source": [
    "test_data_init = pd.read_csv(\"/kaggle/input/titanic/test.csv\")\n",
    "test_data_init.head()"
   ]
  },
  {
   "cell_type": "code",
   "execution_count": 6,
   "id": "105b6252",
   "metadata": {
    "execution": {
     "iopub.execute_input": "2023-03-16T10:17:36.676494Z",
     "iopub.status.busy": "2023-03-16T10:17:36.676076Z",
     "iopub.status.idle": "2023-03-16T10:17:36.706745Z",
     "shell.execute_reply": "2023-03-16T10:17:36.705627Z"
    },
    "papermill": {
     "duration": 0.049984,
     "end_time": "2023-03-16T10:17:36.709162",
     "exception": false,
     "start_time": "2023-03-16T10:17:36.659178",
     "status": "completed"
    },
    "tags": []
   },
   "outputs": [
    {
     "data": {
      "text/html": [
       "<div>\n",
       "<style scoped>\n",
       "    .dataframe tbody tr th:only-of-type {\n",
       "        vertical-align: middle;\n",
       "    }\n",
       "\n",
       "    .dataframe tbody tr th {\n",
       "        vertical-align: top;\n",
       "    }\n",
       "\n",
       "    .dataframe thead th {\n",
       "        text-align: right;\n",
       "    }\n",
       "</style>\n",
       "<table border=\"1\" class=\"dataframe\">\n",
       "  <thead>\n",
       "    <tr style=\"text-align: right;\">\n",
       "      <th></th>\n",
       "      <th>PassengerId</th>\n",
       "      <th>Pclass</th>\n",
       "      <th>Age</th>\n",
       "      <th>SibSp</th>\n",
       "      <th>Parch</th>\n",
       "      <th>Fare</th>\n",
       "    </tr>\n",
       "  </thead>\n",
       "  <tbody>\n",
       "    <tr>\n",
       "      <th>count</th>\n",
       "      <td>418.000000</td>\n",
       "      <td>418.000000</td>\n",
       "      <td>332.000000</td>\n",
       "      <td>418.000000</td>\n",
       "      <td>418.000000</td>\n",
       "      <td>417.000000</td>\n",
       "    </tr>\n",
       "    <tr>\n",
       "      <th>mean</th>\n",
       "      <td>1100.500000</td>\n",
       "      <td>2.265550</td>\n",
       "      <td>30.272590</td>\n",
       "      <td>0.447368</td>\n",
       "      <td>0.392344</td>\n",
       "      <td>35.627188</td>\n",
       "    </tr>\n",
       "    <tr>\n",
       "      <th>std</th>\n",
       "      <td>120.810458</td>\n",
       "      <td>0.841838</td>\n",
       "      <td>14.181209</td>\n",
       "      <td>0.896760</td>\n",
       "      <td>0.981429</td>\n",
       "      <td>55.907576</td>\n",
       "    </tr>\n",
       "    <tr>\n",
       "      <th>min</th>\n",
       "      <td>892.000000</td>\n",
       "      <td>1.000000</td>\n",
       "      <td>0.170000</td>\n",
       "      <td>0.000000</td>\n",
       "      <td>0.000000</td>\n",
       "      <td>0.000000</td>\n",
       "    </tr>\n",
       "    <tr>\n",
       "      <th>25%</th>\n",
       "      <td>996.250000</td>\n",
       "      <td>1.000000</td>\n",
       "      <td>21.000000</td>\n",
       "      <td>0.000000</td>\n",
       "      <td>0.000000</td>\n",
       "      <td>7.895800</td>\n",
       "    </tr>\n",
       "    <tr>\n",
       "      <th>50%</th>\n",
       "      <td>1100.500000</td>\n",
       "      <td>3.000000</td>\n",
       "      <td>27.000000</td>\n",
       "      <td>0.000000</td>\n",
       "      <td>0.000000</td>\n",
       "      <td>14.454200</td>\n",
       "    </tr>\n",
       "    <tr>\n",
       "      <th>75%</th>\n",
       "      <td>1204.750000</td>\n",
       "      <td>3.000000</td>\n",
       "      <td>39.000000</td>\n",
       "      <td>1.000000</td>\n",
       "      <td>0.000000</td>\n",
       "      <td>31.500000</td>\n",
       "    </tr>\n",
       "    <tr>\n",
       "      <th>max</th>\n",
       "      <td>1309.000000</td>\n",
       "      <td>3.000000</td>\n",
       "      <td>76.000000</td>\n",
       "      <td>8.000000</td>\n",
       "      <td>9.000000</td>\n",
       "      <td>512.329200</td>\n",
       "    </tr>\n",
       "  </tbody>\n",
       "</table>\n",
       "</div>"
      ],
      "text/plain": [
       "       PassengerId      Pclass         Age       SibSp       Parch        Fare\n",
       "count   418.000000  418.000000  332.000000  418.000000  418.000000  417.000000\n",
       "mean   1100.500000    2.265550   30.272590    0.447368    0.392344   35.627188\n",
       "std     120.810458    0.841838   14.181209    0.896760    0.981429   55.907576\n",
       "min     892.000000    1.000000    0.170000    0.000000    0.000000    0.000000\n",
       "25%     996.250000    1.000000   21.000000    0.000000    0.000000    7.895800\n",
       "50%    1100.500000    3.000000   27.000000    0.000000    0.000000   14.454200\n",
       "75%    1204.750000    3.000000   39.000000    1.000000    0.000000   31.500000\n",
       "max    1309.000000    3.000000   76.000000    8.000000    9.000000  512.329200"
      ]
     },
     "execution_count": 6,
     "metadata": {},
     "output_type": "execute_result"
    }
   ],
   "source": [
    "test_data_init.describe()"
   ]
  },
  {
   "cell_type": "code",
   "execution_count": 7,
   "id": "86e65f24",
   "metadata": {
    "execution": {
     "iopub.execute_input": "2023-03-16T10:17:36.743076Z",
     "iopub.status.busy": "2023-03-16T10:17:36.742601Z",
     "iopub.status.idle": "2023-03-16T10:17:36.753831Z",
     "shell.execute_reply": "2023-03-16T10:17:36.752509Z"
    },
    "papermill": {
     "duration": 0.031247,
     "end_time": "2023-03-16T10:17:36.756585",
     "exception": false,
     "start_time": "2023-03-16T10:17:36.725338",
     "status": "completed"
    },
    "tags": []
   },
   "outputs": [
    {
     "data": {
      "text/plain": [
       "PassengerId      0\n",
       "Pclass           0\n",
       "Name             0\n",
       "Sex              0\n",
       "Age             86\n",
       "SibSp            0\n",
       "Parch            0\n",
       "Ticket           0\n",
       "Fare             1\n",
       "Cabin          327\n",
       "Embarked         0\n",
       "dtype: int64"
      ]
     },
     "execution_count": 7,
     "metadata": {},
     "output_type": "execute_result"
    }
   ],
   "source": [
    "test_data_init.isna().sum()"
   ]
  },
  {
   "cell_type": "code",
   "execution_count": 8,
   "id": "f646cd57",
   "metadata": {
    "execution": {
     "iopub.execute_input": "2023-03-16T10:17:36.791145Z",
     "iopub.status.busy": "2023-03-16T10:17:36.789937Z",
     "iopub.status.idle": "2023-03-16T10:17:36.806728Z",
     "shell.execute_reply": "2023-03-16T10:17:36.805647Z"
    },
    "papermill": {
     "duration": 0.036382,
     "end_time": "2023-03-16T10:17:36.809004",
     "exception": false,
     "start_time": "2023-03-16T10:17:36.772622",
     "status": "completed"
    },
    "tags": []
   },
   "outputs": [
    {
     "data": {
      "text/html": [
       "<div>\n",
       "<style scoped>\n",
       "    .dataframe tbody tr th:only-of-type {\n",
       "        vertical-align: middle;\n",
       "    }\n",
       "\n",
       "    .dataframe tbody tr th {\n",
       "        vertical-align: top;\n",
       "    }\n",
       "\n",
       "    .dataframe thead th {\n",
       "        text-align: right;\n",
       "    }\n",
       "</style>\n",
       "<table border=\"1\" class=\"dataframe\">\n",
       "  <thead>\n",
       "    <tr style=\"text-align: right;\">\n",
       "      <th></th>\n",
       "      <th>PassengerId</th>\n",
       "      <th>Pclass</th>\n",
       "      <th>Name</th>\n",
       "      <th>Sex</th>\n",
       "      <th>Age</th>\n",
       "      <th>SibSp</th>\n",
       "      <th>Parch</th>\n",
       "      <th>Ticket</th>\n",
       "      <th>Fare</th>\n",
       "      <th>Cabin</th>\n",
       "      <th>Embarked</th>\n",
       "    </tr>\n",
       "  </thead>\n",
       "  <tbody>\n",
       "    <tr>\n",
       "      <th>152</th>\n",
       "      <td>1044</td>\n",
       "      <td>3</td>\n",
       "      <td>Storey, Mr. Thomas</td>\n",
       "      <td>male</td>\n",
       "      <td>60.5</td>\n",
       "      <td>0</td>\n",
       "      <td>0</td>\n",
       "      <td>3701</td>\n",
       "      <td>NaN</td>\n",
       "      <td>NaN</td>\n",
       "      <td>S</td>\n",
       "    </tr>\n",
       "  </tbody>\n",
       "</table>\n",
       "</div>"
      ],
      "text/plain": [
       "     PassengerId  Pclass                Name   Sex   Age  SibSp  Parch Ticket  \\\n",
       "152         1044       3  Storey, Mr. Thomas  male  60.5      0      0   3701   \n",
       "\n",
       "     Fare Cabin Embarked  \n",
       "152   NaN   NaN        S  "
      ]
     },
     "execution_count": 8,
     "metadata": {},
     "output_type": "execute_result"
    }
   ],
   "source": [
    "test_data_init[test_data_init['Fare'].isna()]"
   ]
  },
  {
   "cell_type": "code",
   "execution_count": 9,
   "id": "c6e76277",
   "metadata": {
    "execution": {
     "iopub.execute_input": "2023-03-16T10:17:36.842780Z",
     "iopub.status.busy": "2023-03-16T10:17:36.842366Z",
     "iopub.status.idle": "2023-03-16T10:17:36.859651Z",
     "shell.execute_reply": "2023-03-16T10:17:36.858422Z"
    },
    "papermill": {
     "duration": 0.037059,
     "end_time": "2023-03-16T10:17:36.862088",
     "exception": false,
     "start_time": "2023-03-16T10:17:36.825029",
     "status": "completed"
    },
    "tags": []
   },
   "outputs": [
    {
     "name": "stdout",
     "output_type": "stream",
     "text": [
      "        PassengerId        Age     SibSp     Parch       Fare\n",
      "Pclass                                                       \n",
      "1       1098.224299  40.918367  0.476636  0.383178  94.280297\n",
      "2       1117.935484  28.777500  0.376344  0.344086  22.202104\n",
      "3       1094.178899  24.027945  0.463303  0.417431  12.459678\n",
      "12.45967788018433\n"
     ]
    }
   ],
   "source": [
    "print(test_data_init.groupby('Pclass').mean())\n",
    "print(test_data_init.groupby('Pclass').mean()['Fare'][3])"
   ]
  },
  {
   "cell_type": "code",
   "execution_count": 10,
   "id": "16907bf0",
   "metadata": {
    "execution": {
     "iopub.execute_input": "2023-03-16T10:17:36.896705Z",
     "iopub.status.busy": "2023-03-16T10:17:36.896323Z",
     "iopub.status.idle": "2023-03-16T10:17:36.906044Z",
     "shell.execute_reply": "2023-03-16T10:17:36.905199Z"
    },
    "papermill": {
     "duration": 0.030558,
     "end_time": "2023-03-16T10:17:36.909060",
     "exception": false,
     "start_time": "2023-03-16T10:17:36.878502",
     "status": "completed"
    },
    "tags": []
   },
   "outputs": [
    {
     "name": "stdout",
     "output_type": "stream",
     "text": [
      "3 12.45967788018433\n"
     ]
    }
   ],
   "source": [
    "#Imputing missing value of fare in test data based on passenger class\n",
    "missing_pclass = test_data_init[test_data_init['Fare'].isna()].iloc[0,:].loc['Pclass']\n",
    "imputed_fare = test_data_init.groupby('Pclass').mean().loc[missing_pclass].loc['Fare']\n",
    "print(missing_pclass, imputed_fare)"
   ]
  },
  {
   "cell_type": "code",
   "execution_count": 11,
   "id": "deb066d3",
   "metadata": {
    "execution": {
     "iopub.execute_input": "2023-03-16T10:17:36.944127Z",
     "iopub.status.busy": "2023-03-16T10:17:36.943201Z",
     "iopub.status.idle": "2023-03-16T10:17:36.950076Z",
     "shell.execute_reply": "2023-03-16T10:17:36.948950Z"
    },
    "papermill": {
     "duration": 0.027038,
     "end_time": "2023-03-16T10:17:36.952483",
     "exception": false,
     "start_time": "2023-03-16T10:17:36.925445",
     "status": "completed"
    },
    "tags": []
   },
   "outputs": [],
   "source": [
    "test_data = test_data_init.copy()\n",
    "test_data['Fare'] = test_data_init['Fare'].fillna(imputed_fare)"
   ]
  },
  {
   "cell_type": "code",
   "execution_count": 12,
   "id": "9af60d9d",
   "metadata": {
    "execution": {
     "iopub.execute_input": "2023-03-16T10:17:36.987914Z",
     "iopub.status.busy": "2023-03-16T10:17:36.987543Z",
     "iopub.status.idle": "2023-03-16T10:17:36.997080Z",
     "shell.execute_reply": "2023-03-16T10:17:36.995871Z"
    },
    "papermill": {
     "duration": 0.030459,
     "end_time": "2023-03-16T10:17:36.999552",
     "exception": false,
     "start_time": "2023-03-16T10:17:36.969093",
     "status": "completed"
    },
    "tags": []
   },
   "outputs": [
    {
     "data": {
      "text/plain": [
       "PassengerId      0\n",
       "Pclass           0\n",
       "Name             0\n",
       "Sex              0\n",
       "Age             86\n",
       "SibSp            0\n",
       "Parch            0\n",
       "Ticket           0\n",
       "Fare             0\n",
       "Cabin          327\n",
       "Embarked         0\n",
       "dtype: int64"
      ]
     },
     "execution_count": 12,
     "metadata": {},
     "output_type": "execute_result"
    }
   ],
   "source": [
    "test_data.isna().sum()"
   ]
  },
  {
   "cell_type": "code",
   "execution_count": 13,
   "id": "5a3f326d",
   "metadata": {
    "execution": {
     "iopub.execute_input": "2023-03-16T10:17:37.034528Z",
     "iopub.status.busy": "2023-03-16T10:17:37.034134Z",
     "iopub.status.idle": "2023-03-16T10:17:37.041063Z",
     "shell.execute_reply": "2023-03-16T10:17:37.039839Z"
    },
    "papermill": {
     "duration": 0.027354,
     "end_time": "2023-03-16T10:17:37.043309",
     "exception": false,
     "start_time": "2023-03-16T10:17:37.015955",
     "status": "completed"
    },
    "tags": []
   },
   "outputs": [
    {
     "data": {
      "text/plain": [
       "Index(['PassengerId', 'Survived', 'Pclass', 'Name', 'Sex', 'Age', 'SibSp',\n",
       "       'Parch', 'Ticket', 'Fare', 'Cabin', 'Embarked'],\n",
       "      dtype='object')"
      ]
     },
     "execution_count": 13,
     "metadata": {},
     "output_type": "execute_result"
    }
   ],
   "source": [
    "train_data.columns"
   ]
  },
  {
   "cell_type": "code",
   "execution_count": 14,
   "id": "c85f855a",
   "metadata": {
    "execution": {
     "iopub.execute_input": "2023-03-16T10:17:37.078862Z",
     "iopub.status.busy": "2023-03-16T10:17:37.078447Z",
     "iopub.status.idle": "2023-03-16T10:17:37.086746Z",
     "shell.execute_reply": "2023-03-16T10:17:37.085614Z"
    },
    "papermill": {
     "duration": 0.028897,
     "end_time": "2023-03-16T10:17:37.089014",
     "exception": false,
     "start_time": "2023-03-16T10:17:37.060117",
     "status": "completed"
    },
    "tags": []
   },
   "outputs": [
    {
     "data": {
      "text/plain": [
       "PassengerId      int64\n",
       "Survived         int64\n",
       "Pclass           int64\n",
       "Name            object\n",
       "Sex             object\n",
       "Age            float64\n",
       "SibSp            int64\n",
       "Parch            int64\n",
       "Ticket          object\n",
       "Fare           float64\n",
       "Cabin           object\n",
       "Embarked        object\n",
       "dtype: object"
      ]
     },
     "execution_count": 14,
     "metadata": {},
     "output_type": "execute_result"
    }
   ],
   "source": [
    "train_data.dtypes"
   ]
  },
  {
   "cell_type": "code",
   "execution_count": 15,
   "id": "66fb1726",
   "metadata": {
    "execution": {
     "iopub.execute_input": "2023-03-16T10:17:37.124399Z",
     "iopub.status.busy": "2023-03-16T10:17:37.123984Z",
     "iopub.status.idle": "2023-03-16T10:17:37.134183Z",
     "shell.execute_reply": "2023-03-16T10:17:37.133073Z"
    },
    "papermill": {
     "duration": 0.030746,
     "end_time": "2023-03-16T10:17:37.136530",
     "exception": false,
     "start_time": "2023-03-16T10:17:37.105784",
     "status": "completed"
    },
    "tags": []
   },
   "outputs": [
    {
     "data": {
      "text/plain": [
       "PassengerId      0\n",
       "Survived         0\n",
       "Pclass           0\n",
       "Name             0\n",
       "Sex              0\n",
       "Age            177\n",
       "SibSp            0\n",
       "Parch            0\n",
       "Ticket           0\n",
       "Fare             0\n",
       "Cabin          687\n",
       "Embarked         2\n",
       "dtype: int64"
      ]
     },
     "execution_count": 15,
     "metadata": {},
     "output_type": "execute_result"
    }
   ],
   "source": [
    "train_data.isnull().sum()"
   ]
  },
  {
   "cell_type": "code",
   "execution_count": 16,
   "id": "f26c5c15",
   "metadata": {
    "execution": {
     "iopub.execute_input": "2023-03-16T10:17:37.172854Z",
     "iopub.status.busy": "2023-03-16T10:17:37.171577Z",
     "iopub.status.idle": "2023-03-16T10:17:37.196808Z",
     "shell.execute_reply": "2023-03-16T10:17:37.195937Z"
    },
    "papermill": {
     "duration": 0.045784,
     "end_time": "2023-03-16T10:17:37.199041",
     "exception": false,
     "start_time": "2023-03-16T10:17:37.153257",
     "status": "completed"
    },
    "tags": []
   },
   "outputs": [
    {
     "data": {
      "text/html": [
       "<div>\n",
       "<style scoped>\n",
       "    .dataframe tbody tr th:only-of-type {\n",
       "        vertical-align: middle;\n",
       "    }\n",
       "\n",
       "    .dataframe tbody tr th {\n",
       "        vertical-align: top;\n",
       "    }\n",
       "\n",
       "    .dataframe thead th {\n",
       "        text-align: right;\n",
       "    }\n",
       "</style>\n",
       "<table border=\"1\" class=\"dataframe\">\n",
       "  <thead>\n",
       "    <tr style=\"text-align: right;\">\n",
       "      <th></th>\n",
       "      <th>PassengerId</th>\n",
       "      <th>Survived</th>\n",
       "      <th>Pclass</th>\n",
       "      <th>Name</th>\n",
       "      <th>Sex</th>\n",
       "      <th>Age</th>\n",
       "      <th>SibSp</th>\n",
       "      <th>Parch</th>\n",
       "      <th>Ticket</th>\n",
       "      <th>Fare</th>\n",
       "      <th>Cabin</th>\n",
       "      <th>Embarked</th>\n",
       "    </tr>\n",
       "  </thead>\n",
       "  <tbody>\n",
       "    <tr>\n",
       "      <th>5</th>\n",
       "      <td>6</td>\n",
       "      <td>0</td>\n",
       "      <td>3</td>\n",
       "      <td>Moran, Mr. James</td>\n",
       "      <td>male</td>\n",
       "      <td>NaN</td>\n",
       "      <td>0</td>\n",
       "      <td>0</td>\n",
       "      <td>330877</td>\n",
       "      <td>8.4583</td>\n",
       "      <td>NaN</td>\n",
       "      <td>Q</td>\n",
       "    </tr>\n",
       "    <tr>\n",
       "      <th>17</th>\n",
       "      <td>18</td>\n",
       "      <td>1</td>\n",
       "      <td>2</td>\n",
       "      <td>Williams, Mr. Charles Eugene</td>\n",
       "      <td>male</td>\n",
       "      <td>NaN</td>\n",
       "      <td>0</td>\n",
       "      <td>0</td>\n",
       "      <td>244373</td>\n",
       "      <td>13.0000</td>\n",
       "      <td>NaN</td>\n",
       "      <td>S</td>\n",
       "    </tr>\n",
       "    <tr>\n",
       "      <th>19</th>\n",
       "      <td>20</td>\n",
       "      <td>1</td>\n",
       "      <td>3</td>\n",
       "      <td>Masselmani, Mrs. Fatima</td>\n",
       "      <td>female</td>\n",
       "      <td>NaN</td>\n",
       "      <td>0</td>\n",
       "      <td>0</td>\n",
       "      <td>2649</td>\n",
       "      <td>7.2250</td>\n",
       "      <td>NaN</td>\n",
       "      <td>C</td>\n",
       "    </tr>\n",
       "    <tr>\n",
       "      <th>26</th>\n",
       "      <td>27</td>\n",
       "      <td>0</td>\n",
       "      <td>3</td>\n",
       "      <td>Emir, Mr. Farred Chehab</td>\n",
       "      <td>male</td>\n",
       "      <td>NaN</td>\n",
       "      <td>0</td>\n",
       "      <td>0</td>\n",
       "      <td>2631</td>\n",
       "      <td>7.2250</td>\n",
       "      <td>NaN</td>\n",
       "      <td>C</td>\n",
       "    </tr>\n",
       "    <tr>\n",
       "      <th>28</th>\n",
       "      <td>29</td>\n",
       "      <td>1</td>\n",
       "      <td>3</td>\n",
       "      <td>O'Dwyer, Miss. Ellen \"Nellie\"</td>\n",
       "      <td>female</td>\n",
       "      <td>NaN</td>\n",
       "      <td>0</td>\n",
       "      <td>0</td>\n",
       "      <td>330959</td>\n",
       "      <td>7.8792</td>\n",
       "      <td>NaN</td>\n",
       "      <td>Q</td>\n",
       "    </tr>\n",
       "    <tr>\n",
       "      <th>...</th>\n",
       "      <td>...</td>\n",
       "      <td>...</td>\n",
       "      <td>...</td>\n",
       "      <td>...</td>\n",
       "      <td>...</td>\n",
       "      <td>...</td>\n",
       "      <td>...</td>\n",
       "      <td>...</td>\n",
       "      <td>...</td>\n",
       "      <td>...</td>\n",
       "      <td>...</td>\n",
       "      <td>...</td>\n",
       "    </tr>\n",
       "    <tr>\n",
       "      <th>859</th>\n",
       "      <td>860</td>\n",
       "      <td>0</td>\n",
       "      <td>3</td>\n",
       "      <td>Razi, Mr. Raihed</td>\n",
       "      <td>male</td>\n",
       "      <td>NaN</td>\n",
       "      <td>0</td>\n",
       "      <td>0</td>\n",
       "      <td>2629</td>\n",
       "      <td>7.2292</td>\n",
       "      <td>NaN</td>\n",
       "      <td>C</td>\n",
       "    </tr>\n",
       "    <tr>\n",
       "      <th>863</th>\n",
       "      <td>864</td>\n",
       "      <td>0</td>\n",
       "      <td>3</td>\n",
       "      <td>Sage, Miss. Dorothy Edith \"Dolly\"</td>\n",
       "      <td>female</td>\n",
       "      <td>NaN</td>\n",
       "      <td>8</td>\n",
       "      <td>2</td>\n",
       "      <td>CA. 2343</td>\n",
       "      <td>69.5500</td>\n",
       "      <td>NaN</td>\n",
       "      <td>S</td>\n",
       "    </tr>\n",
       "    <tr>\n",
       "      <th>868</th>\n",
       "      <td>869</td>\n",
       "      <td>0</td>\n",
       "      <td>3</td>\n",
       "      <td>van Melkebeke, Mr. Philemon</td>\n",
       "      <td>male</td>\n",
       "      <td>NaN</td>\n",
       "      <td>0</td>\n",
       "      <td>0</td>\n",
       "      <td>345777</td>\n",
       "      <td>9.5000</td>\n",
       "      <td>NaN</td>\n",
       "      <td>S</td>\n",
       "    </tr>\n",
       "    <tr>\n",
       "      <th>878</th>\n",
       "      <td>879</td>\n",
       "      <td>0</td>\n",
       "      <td>3</td>\n",
       "      <td>Laleff, Mr. Kristo</td>\n",
       "      <td>male</td>\n",
       "      <td>NaN</td>\n",
       "      <td>0</td>\n",
       "      <td>0</td>\n",
       "      <td>349217</td>\n",
       "      <td>7.8958</td>\n",
       "      <td>NaN</td>\n",
       "      <td>S</td>\n",
       "    </tr>\n",
       "    <tr>\n",
       "      <th>888</th>\n",
       "      <td>889</td>\n",
       "      <td>0</td>\n",
       "      <td>3</td>\n",
       "      <td>Johnston, Miss. Catherine Helen \"Carrie\"</td>\n",
       "      <td>female</td>\n",
       "      <td>NaN</td>\n",
       "      <td>1</td>\n",
       "      <td>2</td>\n",
       "      <td>W./C. 6607</td>\n",
       "      <td>23.4500</td>\n",
       "      <td>NaN</td>\n",
       "      <td>S</td>\n",
       "    </tr>\n",
       "  </tbody>\n",
       "</table>\n",
       "<p>177 rows × 12 columns</p>\n",
       "</div>"
      ],
      "text/plain": [
       "     PassengerId  Survived  Pclass                                      Name  \\\n",
       "5              6         0       3                          Moran, Mr. James   \n",
       "17            18         1       2              Williams, Mr. Charles Eugene   \n",
       "19            20         1       3                   Masselmani, Mrs. Fatima   \n",
       "26            27         0       3                   Emir, Mr. Farred Chehab   \n",
       "28            29         1       3             O'Dwyer, Miss. Ellen \"Nellie\"   \n",
       "..           ...       ...     ...                                       ...   \n",
       "859          860         0       3                          Razi, Mr. Raihed   \n",
       "863          864         0       3         Sage, Miss. Dorothy Edith \"Dolly\"   \n",
       "868          869         0       3               van Melkebeke, Mr. Philemon   \n",
       "878          879         0       3                        Laleff, Mr. Kristo   \n",
       "888          889         0       3  Johnston, Miss. Catherine Helen \"Carrie\"   \n",
       "\n",
       "        Sex  Age  SibSp  Parch      Ticket     Fare Cabin Embarked  \n",
       "5      male  NaN      0      0      330877   8.4583   NaN        Q  \n",
       "17     male  NaN      0      0      244373  13.0000   NaN        S  \n",
       "19   female  NaN      0      0        2649   7.2250   NaN        C  \n",
       "26     male  NaN      0      0        2631   7.2250   NaN        C  \n",
       "28   female  NaN      0      0      330959   7.8792   NaN        Q  \n",
       "..      ...  ...    ...    ...         ...      ...   ...      ...  \n",
       "859    male  NaN      0      0        2629   7.2292   NaN        C  \n",
       "863  female  NaN      8      2    CA. 2343  69.5500   NaN        S  \n",
       "868    male  NaN      0      0      345777   9.5000   NaN        S  \n",
       "878    male  NaN      0      0      349217   7.8958   NaN        S  \n",
       "888  female  NaN      1      2  W./C. 6607  23.4500   NaN        S  \n",
       "\n",
       "[177 rows x 12 columns]"
      ]
     },
     "execution_count": 16,
     "metadata": {},
     "output_type": "execute_result"
    }
   ],
   "source": [
    "train_data[train_data.Age.isna()]"
   ]
  },
  {
   "cell_type": "code",
   "execution_count": 17,
   "id": "b67c524f",
   "metadata": {
    "execution": {
     "iopub.execute_input": "2023-03-16T10:17:37.236144Z",
     "iopub.status.busy": "2023-03-16T10:17:37.235161Z",
     "iopub.status.idle": "2023-03-16T10:17:44.311580Z",
     "shell.execute_reply": "2023-03-16T10:17:44.310381Z"
    },
    "papermill": {
     "duration": 7.099435,
     "end_time": "2023-03-16T10:17:44.315821",
     "exception": false,
     "start_time": "2023-03-16T10:17:37.216386",
     "status": "completed"
    },
    "tags": []
   },
   "outputs": [
    {
     "data": {
      "text/plain": [
       "<seaborn.axisgrid.PairGrid at 0x7ff91f73dc50>"
      ]
     },
     "execution_count": 17,
     "metadata": {},
     "output_type": "execute_result"
    },
    {
     "data": {
      "image/png": "[encoded data removed]",
      "text/plain": [
       "<Figure size 951.875x900 with 30 Axes>"
      ]
     },
     "metadata": {
      "needs_background": "light"
     },
     "output_type": "display_data"
    }
   ],
   "source": [
    "import seaborn as sns\n",
    "sns.pairplot(train_data[['Pclass','SibSp','Parch','Age','Fare','Survived']], hue='Survived')"
   ]
  },
  {
   "cell_type": "code",
   "execution_count": 18,
   "id": "02ebd762",
   "metadata": {
    "execution": {
     "iopub.execute_input": "2023-03-16T10:17:44.362708Z",
     "iopub.status.busy": "2023-03-16T10:17:44.362255Z",
     "iopub.status.idle": "2023-03-16T10:17:44.381071Z",
     "shell.execute_reply": "2023-03-16T10:17:44.379467Z"
    },
    "papermill": {
     "duration": 0.043929,
     "end_time": "2023-03-16T10:17:44.383714",
     "exception": false,
     "start_time": "2023-03-16T10:17:44.339785",
     "status": "completed"
    },
    "tags": []
   },
   "outputs": [
    {
     "name": "stdout",
     "output_type": "stream",
     "text": [
      "        PassengerId  Survived        Age     SibSp     Parch       Fare\n",
      "Pclass                                                                 \n",
      "1        461.597222  0.629630  38.233441  0.416667  0.356481  84.154687\n",
      "2        445.956522  0.472826  29.877630  0.402174  0.380435  20.662183\n",
      "3        439.154786  0.242363  25.140620  0.615071  0.393075  13.675550\n",
      "Pclass\n",
      "1    38.233441\n",
      "2    29.877630\n",
      "3    25.140620\n",
      "Name: Age, dtype: float64\n",
      "25.14061971830986\n"
     ]
    }
   ],
   "source": [
    "print(train_data.groupby('Pclass').mean())\n",
    "print(train_data.groupby('Pclass').mean()['Age'])\n",
    "print(train_data.groupby('Pclass').mean()['Age'][3])"
   ]
  },
  {
   "cell_type": "code",
   "execution_count": 19,
   "id": "7b5163b0",
   "metadata": {
    "execution": {
     "iopub.execute_input": "2023-03-16T10:17:44.426917Z",
     "iopub.status.busy": "2023-03-16T10:17:44.426536Z",
     "iopub.status.idle": "2023-03-16T10:17:44.432434Z",
     "shell.execute_reply": "2023-03-16T10:17:44.431369Z"
    },
    "papermill": {
     "duration": 0.030368,
     "end_time": "2023-03-16T10:17:44.434693",
     "exception": false,
     "start_time": "2023-03-16T10:17:44.404325",
     "status": "completed"
    },
    "tags": []
   },
   "outputs": [],
   "source": [
    "def age_approx(cols):\n",
    "    Age = cols[0]\n",
    "    Pclass = cols[1]\n",
    "    if pd.isnull(Age):\n",
    "        return train_data.groupby('Pclass').mean()['Age'][Pclass]\n",
    "    else: \n",
    "        return Age"
   ]
  },
  {
   "cell_type": "code",
   "execution_count": 20,
   "id": "a0de96cb",
   "metadata": {
    "execution": {
     "iopub.execute_input": "2023-03-16T10:17:44.478589Z",
     "iopub.status.busy": "2023-03-16T10:17:44.477538Z",
     "iopub.status.idle": "2023-03-16T10:17:44.483283Z",
     "shell.execute_reply": "2023-03-16T10:17:44.482298Z"
    },
    "papermill": {
     "duration": 0.029871,
     "end_time": "2023-03-16T10:17:44.485609",
     "exception": false,
     "start_time": "2023-03-16T10:17:44.455738",
     "status": "completed"
    },
    "tags": []
   },
   "outputs": [],
   "source": [
    "def age_approx_test(cols):\n",
    "    Age = cols[0]\n",
    "    Pclass = cols[1]\n",
    "    if pd.isnull(Age):\n",
    "        return test_data.groupby('Pclass').mean()['Age'][Pclass]\n",
    "    else: \n",
    "        return Age"
   ]
  },
  {
   "cell_type": "code",
   "execution_count": 21,
   "id": "6e550c02",
   "metadata": {
    "execution": {
     "iopub.execute_input": "2023-03-16T10:17:44.529631Z",
     "iopub.status.busy": "2023-03-16T10:17:44.529182Z",
     "iopub.status.idle": "2023-03-16T10:17:45.001190Z",
     "shell.execute_reply": "2023-03-16T10:17:44.999858Z"
    },
    "papermill": {
     "duration": 0.497392,
     "end_time": "2023-03-16T10:17:45.003928",
     "exception": false,
     "start_time": "2023-03-16T10:17:44.506536",
     "status": "completed"
    },
    "tags": []
   },
   "outputs": [],
   "source": [
    "train_data['Age'] = train_data[['Age','Pclass']].apply(age_approx, axis=1)\n",
    "test_data['Age'] = test_data[['Age','Pclass']].apply(age_approx_test, axis=1)"
   ]
  },
  {
   "cell_type": "code",
   "execution_count": 22,
   "id": "e5a7834d",
   "metadata": {
    "execution": {
     "iopub.execute_input": "2023-03-16T10:17:45.047249Z",
     "iopub.status.busy": "2023-03-16T10:17:45.046580Z",
     "iopub.status.idle": "2023-03-16T10:17:45.057436Z",
     "shell.execute_reply": "2023-03-16T10:17:45.056365Z"
    },
    "papermill": {
     "duration": 0.034706,
     "end_time": "2023-03-16T10:17:45.059660",
     "exception": false,
     "start_time": "2023-03-16T10:17:45.024954",
     "status": "completed"
    },
    "tags": []
   },
   "outputs": [
    {
     "data": {
      "text/plain": [
       "PassengerId      0\n",
       "Survived         0\n",
       "Pclass           0\n",
       "Name             0\n",
       "Sex              0\n",
       "Age              0\n",
       "SibSp            0\n",
       "Parch            0\n",
       "Ticket           0\n",
       "Fare             0\n",
       "Cabin          687\n",
       "Embarked         2\n",
       "dtype: int64"
      ]
     },
     "execution_count": 22,
     "metadata": {},
     "output_type": "execute_result"
    }
   ],
   "source": [
    "train_data.isna().sum()"
   ]
  },
  {
   "cell_type": "code",
   "execution_count": 23,
   "id": "70e51056",
   "metadata": {
    "execution": {
     "iopub.execute_input": "2023-03-16T10:17:45.102767Z",
     "iopub.status.busy": "2023-03-16T10:17:45.102076Z",
     "iopub.status.idle": "2023-03-16T10:17:45.112029Z",
     "shell.execute_reply": "2023-03-16T10:17:45.110952Z"
    },
    "papermill": {
     "duration": 0.034218,
     "end_time": "2023-03-16T10:17:45.114399",
     "exception": false,
     "start_time": "2023-03-16T10:17:45.080181",
     "status": "completed"
    },
    "tags": []
   },
   "outputs": [
    {
     "data": {
      "text/plain": [
       "PassengerId      0\n",
       "Pclass           0\n",
       "Name             0\n",
       "Sex              0\n",
       "Age              0\n",
       "SibSp            0\n",
       "Parch            0\n",
       "Ticket           0\n",
       "Fare             0\n",
       "Cabin          327\n",
       "Embarked         0\n",
       "dtype: int64"
      ]
     },
     "execution_count": 23,
     "metadata": {},
     "output_type": "execute_result"
    }
   ],
   "source": [
    "test_data.isna().sum()"
   ]
  },
  {
   "cell_type": "code",
   "execution_count": 24,
   "id": "0087265d",
   "metadata": {
    "execution": {
     "iopub.execute_input": "2023-03-16T10:17:45.157231Z",
     "iopub.status.busy": "2023-03-16T10:17:45.156796Z",
     "iopub.status.idle": "2023-03-16T10:17:45.165306Z",
     "shell.execute_reply": "2023-03-16T10:17:45.163771Z"
    },
    "papermill": {
     "duration": 0.032786,
     "end_time": "2023-03-16T10:17:45.167630",
     "exception": false,
     "start_time": "2023-03-16T10:17:45.134844",
     "status": "completed"
    },
    "tags": []
   },
   "outputs": [
    {
     "name": "stdout",
     "output_type": "stream",
     "text": [
      "% of women who survived: 0.7420382165605095\n"
     ]
    }
   ],
   "source": [
    "women = train_data.loc[train_data.Sex == 'female'][\"Survived\"]\n",
    "rate_women = sum(women)/len(women)\n",
    "\n",
    "# print(women)\n",
    "print(\"% of women who survived:\", rate_women)"
   ]
  },
  {
   "cell_type": "code",
   "execution_count": 25,
   "id": "99bedb9a",
   "metadata": {
    "execution": {
     "iopub.execute_input": "2023-03-16T10:17:45.210821Z",
     "iopub.status.busy": "2023-03-16T10:17:45.210375Z",
     "iopub.status.idle": "2023-03-16T10:17:45.218667Z",
     "shell.execute_reply": "2023-03-16T10:17:45.217278Z"
    },
    "papermill": {
     "duration": 0.033019,
     "end_time": "2023-03-16T10:17:45.221284",
     "exception": false,
     "start_time": "2023-03-16T10:17:45.188265",
     "status": "completed"
    },
    "tags": []
   },
   "outputs": [
    {
     "name": "stdout",
     "output_type": "stream",
     "text": [
      "% of men who survived: 0.18890814558058924\n"
     ]
    }
   ],
   "source": [
    "men = train_data.loc[train_data.Sex == 'male'][\"Survived\"]\n",
    "rate_men = sum(men)/len(men)\n",
    "\n",
    "# print(men)\n",
    "print(\"% of men who survived:\", rate_men)"
   ]
  },
  {
   "cell_type": "code",
   "execution_count": 26,
   "id": "6297cc9a",
   "metadata": {
    "execution": {
     "iopub.execute_input": "2023-03-16T10:17:45.263958Z",
     "iopub.status.busy": "2023-03-16T10:17:45.263565Z",
     "iopub.status.idle": "2023-03-16T10:17:45.268114Z",
     "shell.execute_reply": "2023-03-16T10:17:45.266898Z"
    },
    "papermill": {
     "duration": 0.028508,
     "end_time": "2023-03-16T10:17:45.270360",
     "exception": false,
     "start_time": "2023-03-16T10:17:45.241852",
     "status": "completed"
    },
    "tags": []
   },
   "outputs": [],
   "source": [
    "# Don't run this. Else the competition will not accept lesser predicted values.\n",
    "# test_data.dropna(subset=['Age'], axis=0, inplace=True)"
   ]
  },
  {
   "cell_type": "code",
   "execution_count": 27,
   "id": "f0434da3",
   "metadata": {
    "execution": {
     "iopub.execute_input": "2023-03-16T10:17:45.314068Z",
     "iopub.status.busy": "2023-03-16T10:17:45.312897Z",
     "iopub.status.idle": "2023-03-16T10:17:45.318165Z",
     "shell.execute_reply": "2023-03-16T10:17:45.317330Z"
    },
    "papermill": {
     "duration": 0.028983,
     "end_time": "2023-03-16T10:17:45.320239",
     "exception": false,
     "start_time": "2023-03-16T10:17:45.291256",
     "status": "completed"
    },
    "tags": []
   },
   "outputs": [],
   "source": [
    "from sklearn.preprocessing import StandardScaler, MinMaxScaler\n",
    "mm = MinMaxScaler()\n",
    "ss = StandardScaler()\n",
    "\n",
    "# train_data['Age'] = ss.fit_transform(train_data[['Age']])\n",
    "# test_data['Age'] = ss.fit_transform(test_data[['Age']])"
   ]
  },
  {
   "cell_type": "code",
   "execution_count": 28,
   "id": "fb1a2edb",
   "metadata": {
    "execution": {
     "iopub.execute_input": "2023-03-16T10:17:45.363173Z",
     "iopub.status.busy": "2023-03-16T10:17:45.362708Z",
     "iopub.status.idle": "2023-03-16T10:17:45.380032Z",
     "shell.execute_reply": "2023-03-16T10:17:45.378950Z"
    },
    "papermill": {
     "duration": 0.041884,
     "end_time": "2023-03-16T10:17:45.382519",
     "exception": false,
     "start_time": "2023-03-16T10:17:45.340635",
     "status": "completed"
    },
    "tags": []
   },
   "outputs": [],
   "source": [
    "y = train_data[\"Survived\"]\n",
    "features = [\"Pclass\", \"Sex\", \"SibSp\", \"Parch\", \"Fare\", \"Age\"]\n",
    "\n",
    "X = pd.get_dummies(train_data[features])\n",
    "X_test = pd.get_dummies(test_data[features])\n",
    "\n",
    "# model = RandomForestClassifier(n_estimators=100, max_depth=5, random_state=1)\n",
    "# model.fit(X, y)\n",
    "# predictions = model.predict(X_test)\n",
    "\n",
    "# output = pd.DataFrame({'PassengerId': test_data.PassengerId, 'Survived': predictions})\n",
    "# output.to_csv('submission.csv', index=False)\n",
    "# print(\"Your submission was successfully saved!\")"
   ]
  },
  {
   "cell_type": "code",
   "execution_count": 29,
   "id": "a0d1b981",
   "metadata": {
    "execution": {
     "iopub.execute_input": "2023-03-16T10:17:45.425872Z",
     "iopub.status.busy": "2023-03-16T10:17:45.425438Z",
     "iopub.status.idle": "2023-03-16T10:17:45.459121Z",
     "shell.execute_reply": "2023-03-16T10:17:45.457995Z"
    },
    "papermill": {
     "duration": 0.058182,
     "end_time": "2023-03-16T10:17:45.461286",
     "exception": false,
     "start_time": "2023-03-16T10:17:45.403104",
     "status": "completed"
    },
    "tags": []
   },
   "outputs": [
    {
     "data": {
      "text/html": [
       "<div>\n",
       "<style scoped>\n",
       "    .dataframe tbody tr th:only-of-type {\n",
       "        vertical-align: middle;\n",
       "    }\n",
       "\n",
       "    .dataframe tbody tr th {\n",
       "        vertical-align: top;\n",
       "    }\n",
       "\n",
       "    .dataframe thead th {\n",
       "        text-align: right;\n",
       "    }\n",
       "</style>\n",
       "<table border=\"1\" class=\"dataframe\">\n",
       "  <thead>\n",
       "    <tr style=\"text-align: right;\">\n",
       "      <th></th>\n",
       "      <th>Pclass</th>\n",
       "      <th>SibSp</th>\n",
       "      <th>Parch</th>\n",
       "      <th>Fare</th>\n",
       "      <th>Age</th>\n",
       "      <th>Sex_female</th>\n",
       "      <th>Sex_male</th>\n",
       "    </tr>\n",
       "  </thead>\n",
       "  <tbody>\n",
       "    <tr>\n",
       "      <th>count</th>\n",
       "      <td>891.000000</td>\n",
       "      <td>891.000000</td>\n",
       "      <td>891.000000</td>\n",
       "      <td>891.000000</td>\n",
       "      <td>891.000000</td>\n",
       "      <td>891.000000</td>\n",
       "      <td>891.000000</td>\n",
       "    </tr>\n",
       "    <tr>\n",
       "      <th>mean</th>\n",
       "      <td>2.308642</td>\n",
       "      <td>0.523008</td>\n",
       "      <td>0.381594</td>\n",
       "      <td>32.204208</td>\n",
       "      <td>29.292875</td>\n",
       "      <td>0.352413</td>\n",
       "      <td>0.647587</td>\n",
       "    </tr>\n",
       "    <tr>\n",
       "      <th>std</th>\n",
       "      <td>0.836071</td>\n",
       "      <td>1.102743</td>\n",
       "      <td>0.806057</td>\n",
       "      <td>49.693429</td>\n",
       "      <td>13.210527</td>\n",
       "      <td>0.477990</td>\n",
       "      <td>0.477990</td>\n",
       "    </tr>\n",
       "    <tr>\n",
       "      <th>min</th>\n",
       "      <td>1.000000</td>\n",
       "      <td>0.000000</td>\n",
       "      <td>0.000000</td>\n",
       "      <td>0.000000</td>\n",
       "      <td>0.420000</td>\n",
       "      <td>0.000000</td>\n",
       "      <td>0.000000</td>\n",
       "    </tr>\n",
       "    <tr>\n",
       "      <th>25%</th>\n",
       "      <td>2.000000</td>\n",
       "      <td>0.000000</td>\n",
       "      <td>0.000000</td>\n",
       "      <td>7.910400</td>\n",
       "      <td>22.000000</td>\n",
       "      <td>0.000000</td>\n",
       "      <td>0.000000</td>\n",
       "    </tr>\n",
       "    <tr>\n",
       "      <th>50%</th>\n",
       "      <td>3.000000</td>\n",
       "      <td>0.000000</td>\n",
       "      <td>0.000000</td>\n",
       "      <td>14.454200</td>\n",
       "      <td>26.000000</td>\n",
       "      <td>0.000000</td>\n",
       "      <td>1.000000</td>\n",
       "    </tr>\n",
       "    <tr>\n",
       "      <th>75%</th>\n",
       "      <td>3.000000</td>\n",
       "      <td>1.000000</td>\n",
       "      <td>0.000000</td>\n",
       "      <td>31.000000</td>\n",
       "      <td>37.000000</td>\n",
       "      <td>1.000000</td>\n",
       "      <td>1.000000</td>\n",
       "    </tr>\n",
       "    <tr>\n",
       "      <th>max</th>\n",
       "      <td>3.000000</td>\n",
       "      <td>8.000000</td>\n",
       "      <td>6.000000</td>\n",
       "      <td>512.329200</td>\n",
       "      <td>80.000000</td>\n",
       "      <td>1.000000</td>\n",
       "      <td>1.000000</td>\n",
       "    </tr>\n",
       "  </tbody>\n",
       "</table>\n",
       "</div>"
      ],
      "text/plain": [
       "           Pclass       SibSp       Parch        Fare         Age  Sex_female  \\\n",
       "count  891.000000  891.000000  891.000000  891.000000  891.000000  891.000000   \n",
       "mean     2.308642    0.523008    0.381594   32.204208   29.292875    0.352413   \n",
       "std      0.836071    1.102743    0.806057   49.693429   13.210527    0.477990   \n",
       "min      1.000000    0.000000    0.000000    0.000000    0.420000    0.000000   \n",
       "25%      2.000000    0.000000    0.000000    7.910400   22.000000    0.000000   \n",
       "50%      3.000000    0.000000    0.000000   14.454200   26.000000    0.000000   \n",
       "75%      3.000000    1.000000    0.000000   31.000000   37.000000    1.000000   \n",
       "max      3.000000    8.000000    6.000000  512.329200   80.000000    1.000000   \n",
       "\n",
       "         Sex_male  \n",
       "count  891.000000  \n",
       "mean     0.647587  \n",
       "std      0.477990  \n",
       "min      0.000000  \n",
       "25%      0.000000  \n",
       "50%      1.000000  \n",
       "75%      1.000000  \n",
       "max      1.000000  "
      ]
     },
     "execution_count": 29,
     "metadata": {},
     "output_type": "execute_result"
    }
   ],
   "source": [
    "X.describe()"
   ]
  },
  {
   "cell_type": "code",
   "execution_count": 30,
   "id": "d104ca5c",
   "metadata": {
    "execution": {
     "iopub.execute_input": "2023-03-16T10:17:45.505212Z",
     "iopub.status.busy": "2023-03-16T10:17:45.504583Z",
     "iopub.status.idle": "2023-03-16T10:17:45.518091Z",
     "shell.execute_reply": "2023-03-16T10:17:45.517221Z"
    },
    "papermill": {
     "duration": 0.037957,
     "end_time": "2023-03-16T10:17:45.520309",
     "exception": false,
     "start_time": "2023-03-16T10:17:45.482352",
     "status": "completed"
    },
    "tags": []
   },
   "outputs": [
    {
     "data": {
      "text/html": [
       "<div>\n",
       "<style scoped>\n",
       "    .dataframe tbody tr th:only-of-type {\n",
       "        vertical-align: middle;\n",
       "    }\n",
       "\n",
       "    .dataframe tbody tr th {\n",
       "        vertical-align: top;\n",
       "    }\n",
       "\n",
       "    .dataframe thead th {\n",
       "        text-align: right;\n",
       "    }\n",
       "</style>\n",
       "<table border=\"1\" class=\"dataframe\">\n",
       "  <thead>\n",
       "    <tr style=\"text-align: right;\">\n",
       "      <th></th>\n",
       "      <th>Pclass</th>\n",
       "      <th>SibSp</th>\n",
       "      <th>Parch</th>\n",
       "      <th>Fare</th>\n",
       "      <th>Age</th>\n",
       "      <th>Sex_female</th>\n",
       "      <th>Sex_male</th>\n",
       "    </tr>\n",
       "  </thead>\n",
       "  <tbody>\n",
       "    <tr>\n",
       "      <th>0</th>\n",
       "      <td>3</td>\n",
       "      <td>1</td>\n",
       "      <td>0</td>\n",
       "      <td>7.2500</td>\n",
       "      <td>22.0</td>\n",
       "      <td>0</td>\n",
       "      <td>1</td>\n",
       "    </tr>\n",
       "    <tr>\n",
       "      <th>1</th>\n",
       "      <td>1</td>\n",
       "      <td>1</td>\n",
       "      <td>0</td>\n",
       "      <td>71.2833</td>\n",
       "      <td>38.0</td>\n",
       "      <td>1</td>\n",
       "      <td>0</td>\n",
       "    </tr>\n",
       "    <tr>\n",
       "      <th>2</th>\n",
       "      <td>3</td>\n",
       "      <td>0</td>\n",
       "      <td>0</td>\n",
       "      <td>7.9250</td>\n",
       "      <td>26.0</td>\n",
       "      <td>1</td>\n",
       "      <td>0</td>\n",
       "    </tr>\n",
       "    <tr>\n",
       "      <th>3</th>\n",
       "      <td>1</td>\n",
       "      <td>1</td>\n",
       "      <td>0</td>\n",
       "      <td>53.1000</td>\n",
       "      <td>35.0</td>\n",
       "      <td>1</td>\n",
       "      <td>0</td>\n",
       "    </tr>\n",
       "    <tr>\n",
       "      <th>4</th>\n",
       "      <td>3</td>\n",
       "      <td>0</td>\n",
       "      <td>0</td>\n",
       "      <td>8.0500</td>\n",
       "      <td>35.0</td>\n",
       "      <td>0</td>\n",
       "      <td>1</td>\n",
       "    </tr>\n",
       "  </tbody>\n",
       "</table>\n",
       "</div>"
      ],
      "text/plain": [
       "   Pclass  SibSp  Parch     Fare   Age  Sex_female  Sex_male\n",
       "0       3      1      0   7.2500  22.0           0         1\n",
       "1       1      1      0  71.2833  38.0           1         0\n",
       "2       3      0      0   7.9250  26.0           1         0\n",
       "3       1      1      0  53.1000  35.0           1         0\n",
       "4       3      0      0   8.0500  35.0           0         1"
      ]
     },
     "execution_count": 30,
     "metadata": {},
     "output_type": "execute_result"
    }
   ],
   "source": [
    "X.head()"
   ]
  },
  {
   "cell_type": "code",
   "execution_count": 31,
   "id": "ce2ca862",
   "metadata": {
    "execution": {
     "iopub.execute_input": "2023-03-16T10:17:45.565379Z",
     "iopub.status.busy": "2023-03-16T10:17:45.564523Z",
     "iopub.status.idle": "2023-03-16T10:17:45.572955Z",
     "shell.execute_reply": "2023-03-16T10:17:45.572021Z"
    },
    "papermill": {
     "duration": 0.032943,
     "end_time": "2023-03-16T10:17:45.575112",
     "exception": false,
     "start_time": "2023-03-16T10:17:45.542169",
     "status": "completed"
    },
    "tags": []
   },
   "outputs": [
    {
     "data": {
      "text/plain": [
       "Pclass        0\n",
       "SibSp         0\n",
       "Parch         0\n",
       "Fare          0\n",
       "Age           0\n",
       "Sex_female    0\n",
       "Sex_male      0\n",
       "dtype: int64"
      ]
     },
     "execution_count": 31,
     "metadata": {},
     "output_type": "execute_result"
    }
   ],
   "source": [
    "X_test.isna().sum()"
   ]
  },
  {
   "cell_type": "code",
   "execution_count": 32,
   "id": "8bc1a389",
   "metadata": {
    "execution": {
     "iopub.execute_input": "2023-03-16T10:17:45.619651Z",
     "iopub.status.busy": "2023-03-16T10:17:45.618461Z",
     "iopub.status.idle": "2023-03-16T10:17:45.631495Z",
     "shell.execute_reply": "2023-03-16T10:17:45.630650Z"
    },
    "papermill": {
     "duration": 0.037927,
     "end_time": "2023-03-16T10:17:45.633926",
     "exception": false,
     "start_time": "2023-03-16T10:17:45.595999",
     "status": "completed"
    },
    "tags": []
   },
   "outputs": [],
   "source": [
    "X = ss.fit_transform(X)\n",
    "# X_valid['Age'] = ss.fit_transform(X_valid[['Age']])\n",
    "X_test = ss.fit_transform(X_test)"
   ]
  },
  {
   "cell_type": "code",
   "execution_count": 33,
   "id": "c95e7912",
   "metadata": {
    "execution": {
     "iopub.execute_input": "2023-03-16T10:17:45.678103Z",
     "iopub.status.busy": "2023-03-16T10:17:45.677317Z",
     "iopub.status.idle": "2023-03-16T10:17:45.696834Z",
     "shell.execute_reply": "2023-03-16T10:17:45.695777Z"
    },
    "papermill": {
     "duration": 0.044665,
     "end_time": "2023-03-16T10:17:45.699516",
     "exception": false,
     "start_time": "2023-03-16T10:17:45.654851",
     "status": "completed"
    },
    "tags": []
   },
   "outputs": [],
   "source": [
    "from sklearn.model_selection import train_test_split\n",
    "X_train, X_valid, y_train, y_valid = train_test_split(X, y, train_size=0.8, random_state=1)"
   ]
  },
  {
   "cell_type": "code",
   "execution_count": 34,
   "id": "a5721f19",
   "metadata": {
    "execution": {
     "iopub.execute_input": "2023-03-16T10:17:45.744961Z",
     "iopub.status.busy": "2023-03-16T10:17:45.744187Z",
     "iopub.status.idle": "2023-03-16T10:17:45.749001Z",
     "shell.execute_reply": "2023-03-16T10:17:45.748209Z"
    },
    "papermill": {
     "duration": 0.030355,
     "end_time": "2023-03-16T10:17:45.751375",
     "exception": false,
     "start_time": "2023-03-16T10:17:45.721020",
     "status": "completed"
    },
    "tags": []
   },
   "outputs": [],
   "source": [
    "#transform Age before splitting X"
   ]
  },
  {
   "cell_type": "code",
   "execution_count": 35,
   "id": "4ad482a3",
   "metadata": {
    "execution": {
     "iopub.execute_input": "2023-03-16T10:17:45.797001Z",
     "iopub.status.busy": "2023-03-16T10:17:45.796209Z",
     "iopub.status.idle": "2023-03-16T10:17:45.803619Z",
     "shell.execute_reply": "2023-03-16T10:17:45.802756Z"
    },
    "papermill": {
     "duration": 0.033224,
     "end_time": "2023-03-16T10:17:45.805655",
     "exception": false,
     "start_time": "2023-03-16T10:17:45.772431",
     "status": "completed"
    },
    "tags": []
   },
   "outputs": [
    {
     "data": {
      "text/plain": [
       "array([[ 0.82737724,  0.43279337, -0.47367361, ..., -0.55236029,\n",
       "        -0.73769513,  0.73769513],\n",
       "       [-1.56610693,  0.43279337, -0.47367361, ...,  0.65947522,\n",
       "         1.35557354, -1.35557354],\n",
       "       [ 0.82737724, -0.4745452 , -0.47367361, ..., -0.24940141,\n",
       "         1.35557354, -1.35557354],\n",
       "       ...,\n",
       "       [ 0.82737724,  0.43279337,  2.00893337, ..., -0.31449064,\n",
       "         1.35557354, -1.35557354],\n",
       "       [-1.56610693, -0.4745452 , -0.47367361, ..., -0.24940141,\n",
       "        -0.73769513,  0.73769513],\n",
       "       [ 0.82737724, -0.4745452 , -0.47367361, ...,  0.20503691,\n",
       "        -0.73769513,  0.73769513]])"
      ]
     },
     "execution_count": 35,
     "metadata": {},
     "output_type": "execute_result"
    }
   ],
   "source": [
    "X"
   ]
  },
  {
   "cell_type": "code",
   "execution_count": 36,
   "id": "0578171b",
   "metadata": {
    "execution": {
     "iopub.execute_input": "2023-03-16T10:17:45.851069Z",
     "iopub.status.busy": "2023-03-16T10:17:45.849917Z",
     "iopub.status.idle": "2023-03-16T10:17:45.857235Z",
     "shell.execute_reply": "2023-03-16T10:17:45.856291Z"
    },
    "papermill": {
     "duration": 0.032527,
     "end_time": "2023-03-16T10:17:45.859486",
     "exception": false,
     "start_time": "2023-03-16T10:17:45.826959",
     "status": "completed"
    },
    "tags": []
   },
   "outputs": [
    {
     "data": {
      "text/plain": [
       "array([[ 0.87348191, -0.49947002, -0.4002477 , ...,  0.39320118,\n",
       "        -0.75592895,  0.75592895],\n",
       "       [ 0.87348191,  0.61699237, -0.4002477 , ...,  1.35849848,\n",
       "         1.32287566, -1.32287566],\n",
       "       [-0.31581919, -0.49947002, -0.4002477 , ...,  2.51685524,\n",
       "        -0.75592895,  0.75592895],\n",
       "       ...,\n",
       "       [ 0.87348191, -0.49947002, -0.4002477 , ...,  0.70209632,\n",
       "        -0.75592895,  0.75592895],\n",
       "       [ 0.87348191, -0.49947002, -0.4002477 , ..., -0.41549052,\n",
       "        -0.75592895,  0.75592895],\n",
       "       [ 0.87348191,  0.61699237,  0.61989583, ..., -0.41549052,\n",
       "        -0.75592895,  0.75592895]])"
      ]
     },
     "execution_count": 36,
     "metadata": {},
     "output_type": "execute_result"
    }
   ],
   "source": [
    "X_test"
   ]
  },
  {
   "cell_type": "code",
   "execution_count": 37,
   "id": "cec86870",
   "metadata": {
    "execution": {
     "iopub.execute_input": "2023-03-16T10:17:45.903301Z",
     "iopub.status.busy": "2023-03-16T10:17:45.902832Z",
     "iopub.status.idle": "2023-03-16T10:17:45.907223Z",
     "shell.execute_reply": "2023-03-16T10:17:45.906152Z"
    },
    "papermill": {
     "duration": 0.029298,
     "end_time": "2023-03-16T10:17:45.909766",
     "exception": false,
     "start_time": "2023-03-16T10:17:45.880468",
     "status": "completed"
    },
    "tags": []
   },
   "outputs": [],
   "source": [
    "#Function to generate model scores\n",
    "##Ignore. Model also needs to be passed."
   ]
  },
  {
   "cell_type": "code",
   "execution_count": 38,
   "id": "70500837",
   "metadata": {
    "execution": {
     "iopub.execute_input": "2023-03-16T10:17:45.953766Z",
     "iopub.status.busy": "2023-03-16T10:17:45.953340Z",
     "iopub.status.idle": "2023-03-16T10:17:45.958034Z",
     "shell.execute_reply": "2023-03-16T10:17:45.956796Z"
    },
    "papermill": {
     "duration": 0.029117,
     "end_time": "2023-03-16T10:17:45.960074",
     "exception": false,
     "start_time": "2023-03-16T10:17:45.930957",
     "status": "completed"
    },
    "tags": []
   },
   "outputs": [],
   "source": [
    "# def print_scores(pred_y, given_x, given_y):\n",
    "#     print(\"\\nMAE: %.4f\" % mean_absolute_error(pred_y, given_y))\n",
    "#     print('R-Squared: %.2f' % model_d.score(given_x, given_y))\n",
    "#     from sklearn import metrics\n",
    "#     print(metrics.classification_report(given_y, pred_y))"
   ]
  },
  {
   "cell_type": "markdown",
   "id": "89f1acbb",
   "metadata": {
    "papermill": {
     "duration": 0.020977,
     "end_time": "2023-03-16T10:17:46.002265",
     "exception": false,
     "start_time": "2023-03-16T10:17:45.981288",
     "status": "completed"
    },
    "tags": []
   },
   "source": [
    "# Decision Tree"
   ]
  },
  {
   "cell_type": "code",
   "execution_count": 39,
   "id": "80084885",
   "metadata": {
    "execution": {
     "iopub.execute_input": "2023-03-16T10:17:46.046822Z",
     "iopub.status.busy": "2023-03-16T10:17:46.046285Z",
     "iopub.status.idle": "2023-03-16T10:17:46.200713Z",
     "shell.execute_reply": "2023-03-16T10:17:46.199295Z"
    },
    "jupyter": {
     "source_hidden": true
    },
    "papermill": {
     "duration": 0.179816,
     "end_time": "2023-03-16T10:17:46.203392",
     "exception": false,
     "start_time": "2023-03-16T10:17:46.023576",
     "status": "completed"
    },
    "tags": []
   },
   "outputs": [
    {
     "name": "stdout",
     "output_type": "stream",
     "text": [
      "TRAIN DATA\n",
      "MAE in Decision Tree: 0.0149\n",
      "R-Squared in Decision Tree: 0.97\n",
      "\n",
      "TEST DATA\n",
      "MAE in Decision Tree: 0.2544\n",
      "R-Squared in Decision Tree: -0.03\n"
     ]
    }
   ],
   "source": [
    "from sklearn.tree import DecisionTreeRegressor\n",
    "model_d = DecisionTreeRegressor(random_state=1)\n",
    "model_d.fit(X_train, y_train)\n",
    "\n",
    "pred_d_train = model_d.predict(X_train)\n",
    "pred_d_test = model_d.predict(X_valid)\n",
    "\n",
    "print('TRAIN DATA')\n",
    "print(\"MAE in Decision Tree: %.4f\" % mean_absolute_error(pred_d_train, y_train))\n",
    "print('R-Squared in Decision Tree: %.2f' % model_d.score(X_train, y_train))\n",
    "\n",
    "print('\\nTEST DATA')\n",
    "print('MAE in Decision Tree: %.4f' % mean_absolute_error(pred_d_test, y_valid))\n",
    "print('R-Squared in Decision Tree: %.2f' % model_d.score(X_valid, y_valid))"
   ]
  },
  {
   "cell_type": "code",
   "execution_count": 40,
   "id": "f817b52d",
   "metadata": {
    "execution": {
     "iopub.execute_input": "2023-03-16T10:17:46.248961Z",
     "iopub.status.busy": "2023-03-16T10:17:46.248207Z",
     "iopub.status.idle": "2023-03-16T10:17:46.255913Z",
     "shell.execute_reply": "2023-03-16T10:17:46.255022Z"
    },
    "jupyter": {
     "source_hidden": true
    },
    "papermill": {
     "duration": 0.032648,
     "end_time": "2023-03-16T10:17:46.258012",
     "exception": false,
     "start_time": "2023-03-16T10:17:46.225364",
     "status": "completed"
    },
    "tags": []
   },
   "outputs": [
    {
     "data": {
      "text/plain": [
       "array([1.        , 0.        , 1.        , 0.        , 1.        ,\n",
       "       0.        , 0.        , 1.        , 0.        , 1.        ,\n",
       "       0.        , 0.        , 0.        , 1.        , 0.83333333,\n",
       "       1.        , 0.        , 0.        , 0.        , 0.        ,\n",
       "       0.5       , 0.        , 1.        , 0.        , 0.        ,\n",
       "       0.        , 1.        , 1.        , 0.        , 1.        ,\n",
       "       0.        , 1.        , 1.        , 0.        , 0.        ,\n",
       "       0.        , 1.        , 0.        , 1.        , 0.        ,\n",
       "       0.        , 1.        , 1.        , 0.        , 1.        ,\n",
       "       0.        , 0.        , 0.        , 1.        , 1.        ,\n",
       "       1.        , 1.        , 1.        , 0.        , 1.        ,\n",
       "       1.        , 1.        , 0.        , 0.        , 0.        ,\n",
       "       0.        , 0.2       , 0.        , 0.        , 1.        ,\n",
       "       0.        , 0.        , 0.        , 1.        , 0.        ,\n",
       "       1.        , 0.        , 0.        , 0.        , 1.        ,\n",
       "       0.        , 1.        , 0.        , 0.        , 1.        ,\n",
       "       0.        , 0.        , 0.        , 0.        , 1.        ,\n",
       "       1.        , 0.        , 0.        , 0.        , 0.        ,\n",
       "       0.        , 0.        , 0.        , 0.83333333, 0.        ,\n",
       "       0.        , 0.        , 1.        , 0.        , 0.        ,\n",
       "       0.        , 0.        , 1.        , 0.        , 1.        ,\n",
       "       0.        , 1.        , 1.        , 0.        , 0.5       ,\n",
       "       0.        , 1.        , 0.        , 0.        , 0.        ,\n",
       "       0.        , 0.        , 0.        , 1.        , 0.        ,\n",
       "       1.        , 1.        , 0.        , 0.        , 1.        ,\n",
       "       1.        , 1.        , 0.        , 0.        , 0.        ,\n",
       "       0.        , 0.        , 1.        , 0.        , 0.        ,\n",
       "       1.        , 1.        , 0.        , 0.        , 0.        ,\n",
       "       1.        , 0.        , 1.        , 0.        , 0.        ,\n",
       "       1.        , 0.        , 0.        , 1.        , 0.        ,\n",
       "       1.        , 0.        , 0.        , 1.        , 0.        ,\n",
       "       1.        , 0.        , 0.        , 0.        , 0.        ,\n",
       "       0.        , 0.        , 0.        , 1.        , 0.        ,\n",
       "       0.        , 1.        , 0.        , 1.        , 0.        ,\n",
       "       1.        , 0.        , 1.        , 0.        , 1.        ,\n",
       "       0.        , 0.        , 0.        , 1.        ])"
      ]
     },
     "execution_count": 40,
     "metadata": {},
     "output_type": "execute_result"
    }
   ],
   "source": [
    "pred_d_test\n",
    "#Decision Tree generates continuous values for y"
   ]
  },
  {
   "cell_type": "markdown",
   "id": "958368f3",
   "metadata": {
    "papermill": {
     "duration": 0.021086,
     "end_time": "2023-03-16T10:17:46.300727",
     "exception": false,
     "start_time": "2023-03-16T10:17:46.279641",
     "status": "completed"
    },
    "tags": []
   },
   "source": [
    "# ****Random Forest****"
   ]
  },
  {
   "cell_type": "code",
   "execution_count": 41,
   "id": "0ca35fe0",
   "metadata": {
    "execution": {
     "iopub.execute_input": "2023-03-16T10:17:46.347626Z",
     "iopub.status.busy": "2023-03-16T10:17:46.347226Z",
     "iopub.status.idle": "2023-03-16T10:17:47.592119Z",
     "shell.execute_reply": "2023-03-16T10:17:47.591150Z"
    },
    "papermill": {
     "duration": 1.272194,
     "end_time": "2023-03-16T10:17:47.594937",
     "exception": false,
     "start_time": "2023-03-16T10:17:46.322743",
     "status": "completed"
    },
    "tags": []
   },
   "outputs": [
    {
     "name": "stdout",
     "output_type": "stream",
     "text": [
      "TRAIN DATA\n",
      "MAE in Random Forest Model: 0.1362\n",
      "R-Squared in Random Forest Model: 0.86\n",
      "\n",
      "TEST DATA\n",
      "MAE in Random Forest Model: 0.2123\n",
      "R-Squared in Random Forest Model: 0.79\n"
     ]
    }
   ],
   "source": [
    "from sklearn.ensemble import RandomForestClassifier\n",
    "model_rf = RandomForestClassifier(n_estimators=500, max_depth=5, random_state=1)\n",
    "model_rf.fit(X_train, y_train)\n",
    "\n",
    "pred_rf_train = model_rf.predict(X_train)\n",
    "pred_rf_test = model_rf.predict(X_valid)\n",
    "\n",
    "print('TRAIN DATA')\n",
    "print(\"MAE in Random Forest Model: %.4f\" % mean_absolute_error(pred_rf_train, y_train))\n",
    "print('R-Squared in Random Forest Model: %.2f' % model_rf.score(X_train, y_train))\n",
    "\n",
    "print('\\nTEST DATA')\n",
    "print('MAE in Random Forest Model: %.4f' % mean_absolute_error(pred_rf_test, y_valid))\n",
    "print('R-Squared in Random Forest Model: %.2f' % model_rf.score(X_valid, y_valid))\n",
    "\n",
    "# print_scores(pred_rf_train, X_train, y_train)\n",
    "# print_scores(pred_rf_test, X_valid, y_valid)"
   ]
  },
  {
   "cell_type": "code",
   "execution_count": 42,
   "id": "afc1273b",
   "metadata": {
    "execution": {
     "iopub.execute_input": "2023-03-16T10:17:47.640938Z",
     "iopub.status.busy": "2023-03-16T10:17:47.640543Z",
     "iopub.status.idle": "2023-03-16T10:17:47.644425Z",
     "shell.execute_reply": "2023-03-16T10:17:47.643579Z"
    },
    "papermill": {
     "duration": 0.029776,
     "end_time": "2023-03-16T10:17:47.646701",
     "exception": false,
     "start_time": "2023-03-16T10:17:47.616925",
     "status": "completed"
    },
    "tags": []
   },
   "outputs": [],
   "source": [
    "# pred_rf_train"
   ]
  },
  {
   "cell_type": "code",
   "execution_count": 43,
   "id": "e935dc8c",
   "metadata": {
    "execution": {
     "iopub.execute_input": "2023-03-16T10:17:47.692877Z",
     "iopub.status.busy": "2023-03-16T10:17:47.691783Z",
     "iopub.status.idle": "2023-03-16T10:17:47.708553Z",
     "shell.execute_reply": "2023-03-16T10:17:47.706923Z"
    },
    "papermill": {
     "duration": 0.042385,
     "end_time": "2023-03-16T10:17:47.711073",
     "exception": false,
     "start_time": "2023-03-16T10:17:47.668688",
     "status": "completed"
    },
    "tags": []
   },
   "outputs": [
    {
     "name": "stdout",
     "output_type": "stream",
     "text": [
      "              precision    recall  f1-score   support\n",
      "\n",
      "           0       0.86      0.94      0.90       443\n",
      "           1       0.88      0.74      0.80       269\n",
      "\n",
      "    accuracy                           0.86       712\n",
      "   macro avg       0.87      0.84      0.85       712\n",
      "weighted avg       0.86      0.86      0.86       712\n",
      "\n",
      "              precision    recall  f1-score   support\n",
      "\n",
      "           0       0.78      0.90      0.83       106\n",
      "           1       0.81      0.63      0.71        73\n",
      "\n",
      "    accuracy                           0.79       179\n",
      "   macro avg       0.79      0.76      0.77       179\n",
      "weighted avg       0.79      0.79      0.78       179\n",
      "\n"
     ]
    }
   ],
   "source": [
    "from sklearn import metrics\n",
    "print(metrics.classification_report(y_train, pred_rf_train))\n",
    "print(metrics.classification_report(y_valid, pred_rf_test))"
   ]
  },
  {
   "cell_type": "markdown",
   "id": "02bdc3cc",
   "metadata": {
    "papermill": {
     "duration": 0.021622,
     "end_time": "2023-03-16T10:17:47.754585",
     "exception": false,
     "start_time": "2023-03-16T10:17:47.732963",
     "status": "completed"
    },
    "tags": []
   },
   "source": [
    "# XGB"
   ]
  },
  {
   "cell_type": "code",
   "execution_count": 44,
   "id": "c667fa21",
   "metadata": {
    "execution": {
     "iopub.execute_input": "2023-03-16T10:17:47.800832Z",
     "iopub.status.busy": "2023-03-16T10:17:47.799851Z",
     "iopub.status.idle": "2023-03-16T10:17:51.398646Z",
     "shell.execute_reply": "2023-03-16T10:17:51.397430Z"
    },
    "papermill": {
     "duration": 3.624983,
     "end_time": "2023-03-16T10:17:51.401671",
     "exception": false,
     "start_time": "2023-03-16T10:17:47.776688",
     "status": "completed"
    },
    "tags": []
   },
   "outputs": [
    {
     "name": "stdout",
     "output_type": "stream",
     "text": [
      "[10:17:47] WARNING: ../src/learner.cc:627: \n",
      "Parameters: { \"n_iter_no_change\" } might not be used.\n",
      "\n",
      "  This could be a false alarm, with some parameters getting used by language bindings but\n",
      "  then being mistakenly passed down to XGBoost core, or some parameter actually being used\n",
      "  but getting flagged wrongly here. Please open an issue if you find any such cases.\n",
      "\n",
      "\n",
      "TRAIN DATA\n",
      "MAE in XGB Model: 0.0170\n",
      "R-Squared in XGB Model: 0.97\n",
      "\n",
      "TEST DATA\n",
      "MAE in XGB Model: 0.3030\n",
      "R-Squared in XGB Model: 0.06\n"
     ]
    }
   ],
   "source": [
    "from xgboost import XGBRegressor\n",
    "model_xgb = XGBRegressor(n_estimators=1000, n_iter_no_change=5, learning_rate=0.5)\n",
    "\n",
    "model_xgb.fit(X_train, y_train, verbose=False)\n",
    "\n",
    "pred_xgb_train = model_xgb.predict(X_train)\n",
    "pred_xgb_test = model_xgb.predict(X_valid)\n",
    "\n",
    "print('TRAIN DATA')\n",
    "print(\"MAE in XGB Model: %.4f\" % mean_absolute_error(pred_xgb_train, y_train))\n",
    "print('R-Squared in XGB Model: %.2f' % model_xgb.score(X_train, y_train))\n",
    "\n",
    "print('\\nTEST DATA')\n",
    "print('MAE in XGB Model: %.4f' % mean_absolute_error(pred_xgb_test, y_valid))\n",
    "print('R-Squared in XGB Model: %.2f' % model_xgb.score(X_valid, y_valid))"
   ]
  },
  {
   "cell_type": "markdown",
   "id": "4a461783",
   "metadata": {
    "papermill": {
     "duration": 0.021671,
     "end_time": "2023-03-16T10:17:51.446633",
     "exception": false,
     "start_time": "2023-03-16T10:17:51.424962",
     "status": "completed"
    },
    "tags": []
   },
   "source": [
    "# Logistic Regression"
   ]
  },
  {
   "cell_type": "code",
   "execution_count": 45,
   "id": "d4cf9a3e",
   "metadata": {
    "execution": {
     "iopub.execute_input": "2023-03-16T10:17:51.492695Z",
     "iopub.status.busy": "2023-03-16T10:17:51.491650Z",
     "iopub.status.idle": "2023-03-16T10:17:51.508364Z",
     "shell.execute_reply": "2023-03-16T10:17:51.507247Z"
    },
    "papermill": {
     "duration": 0.042472,
     "end_time": "2023-03-16T10:17:51.511001",
     "exception": false,
     "start_time": "2023-03-16T10:17:51.468529",
     "status": "completed"
    },
    "tags": []
   },
   "outputs": [
    {
     "name": "stdout",
     "output_type": "stream",
     "text": [
      "TRAIN DATA\n",
      "MAE in Logistic Regression Model: 0.1924\n",
      "R-Squared in Logistic Regression Model: 0.81\n",
      "\n",
      "TEST DATA\n",
      "MAE in Logistic Regression Model: 0.1844\n",
      "R-Squared in Logistic Regression Model: 0.82\n"
     ]
    }
   ],
   "source": [
    "from sklearn.linear_model import LogisticRegression\n",
    "model_lg = LogisticRegression(random_state=1)\n",
    "\n",
    "model_lg.fit(X_train, y_train)\n",
    "\n",
    "pred_lg_train = model_lg.predict(X_train)\n",
    "pred_lg_test = model_lg.predict(X_valid)\n",
    "\n",
    "print('TRAIN DATA')\n",
    "print(\"MAE in Logistic Regression Model: %.4f\" % mean_absolute_error(pred_lg_train, y_train))\n",
    "print('R-Squared in Logistic Regression Model: %.2f' % model_lg.score(X_train, y_train))\n",
    "\n",
    "print('\\nTEST DATA')\n",
    "print('MAE in Logistic Regression Model: %.4f' % mean_absolute_error(pred_lg_test, y_valid))\n",
    "print('R-Squared in Logistic Regression Model: %.2f' % model_lg.score(X_valid, y_valid))"
   ]
  },
  {
   "cell_type": "code",
   "execution_count": 46,
   "id": "0944f93e",
   "metadata": {
    "execution": {
     "iopub.execute_input": "2023-03-16T10:17:51.558978Z",
     "iopub.status.busy": "2023-03-16T10:17:51.558539Z",
     "iopub.status.idle": "2023-03-16T10:17:51.567153Z",
     "shell.execute_reply": "2023-03-16T10:17:51.565917Z"
    },
    "papermill": {
     "duration": 0.035621,
     "end_time": "2023-03-16T10:17:51.569567",
     "exception": false,
     "start_time": "2023-03-16T10:17:51.533946",
     "status": "completed"
    },
    "tags": []
   },
   "outputs": [
    {
     "data": {
      "text/plain": [
       "0.8075842696629213"
      ]
     },
     "execution_count": 46,
     "metadata": {},
     "output_type": "execute_result"
    }
   ],
   "source": [
    "metrics.accuracy_score(y_train, pred_lg_train)"
   ]
  },
  {
   "cell_type": "code",
   "execution_count": 47,
   "id": "c4b52ac9",
   "metadata": {
    "execution": {
     "iopub.execute_input": "2023-03-16T10:17:51.615297Z",
     "iopub.status.busy": "2023-03-16T10:17:51.614536Z",
     "iopub.status.idle": "2023-03-16T10:17:51.622142Z",
     "shell.execute_reply": "2023-03-16T10:17:51.621196Z"
    },
    "papermill": {
     "duration": 0.032947,
     "end_time": "2023-03-16T10:17:51.624335",
     "exception": false,
     "start_time": "2023-03-16T10:17:51.591388",
     "status": "completed"
    },
    "tags": []
   },
   "outputs": [
    {
     "data": {
      "text/plain": [
       "0.8156424581005587"
      ]
     },
     "execution_count": 47,
     "metadata": {},
     "output_type": "execute_result"
    }
   ],
   "source": [
    "metrics.accuracy_score(y_valid, pred_lg_test)"
   ]
  },
  {
   "cell_type": "code",
   "execution_count": 48,
   "id": "b85c2511",
   "metadata": {
    "execution": {
     "iopub.execute_input": "2023-03-16T10:17:51.670263Z",
     "iopub.status.busy": "2023-03-16T10:17:51.669578Z",
     "iopub.status.idle": "2023-03-16T10:17:51.685220Z",
     "shell.execute_reply": "2023-03-16T10:17:51.683601Z"
    },
    "papermill": {
     "duration": 0.042305,
     "end_time": "2023-03-16T10:17:51.688629",
     "exception": false,
     "start_time": "2023-03-16T10:17:51.646324",
     "status": "completed"
    },
    "tags": []
   },
   "outputs": [
    {
     "name": "stdout",
     "output_type": "stream",
     "text": [
      "              precision    recall  f1-score   support\n",
      "\n",
      "           0       0.83      0.87      0.85       443\n",
      "           1       0.77      0.70      0.73       269\n",
      "\n",
      "    accuracy                           0.81       712\n",
      "   macro avg       0.80      0.79      0.79       712\n",
      "weighted avg       0.81      0.81      0.81       712\n",
      "\n",
      "              precision    recall  f1-score   support\n",
      "\n",
      "           0       0.82      0.88      0.85       106\n",
      "           1       0.80      0.73      0.76        73\n",
      "\n",
      "    accuracy                           0.82       179\n",
      "   macro avg       0.81      0.80      0.81       179\n",
      "weighted avg       0.81      0.82      0.81       179\n",
      "\n"
     ]
    }
   ],
   "source": [
    "print(metrics.classification_report(y_train, pred_lg_train))\n",
    "print(metrics.classification_report(y_valid, pred_lg_test))"
   ]
  },
  {
   "cell_type": "code",
   "execution_count": 49,
   "id": "00d3e1da",
   "metadata": {
    "execution": {
     "iopub.execute_input": "2023-03-16T10:17:51.735541Z",
     "iopub.status.busy": "2023-03-16T10:17:51.735153Z",
     "iopub.status.idle": "2023-03-16T10:17:51.739671Z",
     "shell.execute_reply": "2023-03-16T10:17:51.738404Z"
    },
    "papermill": {
     "duration": 0.030679,
     "end_time": "2023-03-16T10:17:51.741889",
     "exception": false,
     "start_time": "2023-03-16T10:17:51.711210",
     "status": "completed"
    },
    "tags": []
   },
   "outputs": [],
   "source": [
    "# pred_lg_train"
   ]
  },
  {
   "cell_type": "code",
   "execution_count": 50,
   "id": "9967e3b9",
   "metadata": {
    "execution": {
     "iopub.execute_input": "2023-03-16T10:17:51.787328Z",
     "iopub.status.busy": "2023-03-16T10:17:51.786895Z",
     "iopub.status.idle": "2023-03-16T10:17:51.791872Z",
     "shell.execute_reply": "2023-03-16T10:17:51.790583Z"
    },
    "papermill": {
     "duration": 0.030425,
     "end_time": "2023-03-16T10:17:51.794099",
     "exception": false,
     "start_time": "2023-03-16T10:17:51.763674",
     "status": "completed"
    },
    "tags": []
   },
   "outputs": [],
   "source": [
    "# pred_lg_test"
   ]
  },
  {
   "cell_type": "markdown",
   "id": "900a9a5f",
   "metadata": {
    "papermill": {
     "duration": 0.021963,
     "end_time": "2023-03-16T10:17:51.838211",
     "exception": false,
     "start_time": "2023-03-16T10:17:51.816248",
     "status": "completed"
    },
    "tags": []
   },
   "source": [
    "# SVM"
   ]
  },
  {
   "cell_type": "code",
   "execution_count": 51,
   "id": "01c51ca0",
   "metadata": {
    "execution": {
     "iopub.execute_input": "2023-03-16T10:17:51.884809Z",
     "iopub.status.busy": "2023-03-16T10:17:51.883850Z",
     "iopub.status.idle": "2023-03-16T10:17:51.922425Z",
     "shell.execute_reply": "2023-03-16T10:17:51.921527Z"
    },
    "papermill": {
     "duration": 0.064797,
     "end_time": "2023-03-16T10:17:51.924982",
     "exception": false,
     "start_time": "2023-03-16T10:17:51.860185",
     "status": "completed"
    },
    "tags": []
   },
   "outputs": [],
   "source": [
    "from sklearn.svm import SVC\n",
    "model_svc = SVC()\n",
    "\n",
    "model_svc.fit(X_train, y_train)\n",
    "pred_svc_train = model_svc.predict(X_train)\n",
    "pred_svc = model_svc.predict(X_valid)"
   ]
  },
  {
   "cell_type": "code",
   "execution_count": 52,
   "id": "c47b7500",
   "metadata": {
    "execution": {
     "iopub.execute_input": "2023-03-16T10:17:51.972468Z",
     "iopub.status.busy": "2023-03-16T10:17:51.971332Z",
     "iopub.status.idle": "2023-03-16T10:17:51.979335Z",
     "shell.execute_reply": "2023-03-16T10:17:51.977961Z"
    },
    "papermill": {
     "duration": 0.034994,
     "end_time": "2023-03-16T10:17:51.982900",
     "exception": false,
     "start_time": "2023-03-16T10:17:51.947906",
     "status": "completed"
    },
    "tags": []
   },
   "outputs": [
    {
     "name": "stdout",
     "output_type": "stream",
     "text": [
      "0.8455056179775281\n",
      "0.776536312849162\n"
     ]
    }
   ],
   "source": [
    "print(metrics.accuracy_score(y_train, pred_svc_train))\n",
    "print(metrics.accuracy_score(y_valid, pred_svc))"
   ]
  },
  {
   "cell_type": "code",
   "execution_count": 53,
   "id": "16afd9d8",
   "metadata": {
    "execution": {
     "iopub.execute_input": "2023-03-16T10:17:52.031077Z",
     "iopub.status.busy": "2023-03-16T10:17:52.029600Z",
     "iopub.status.idle": "2023-03-16T10:17:52.047583Z",
     "shell.execute_reply": "2023-03-16T10:17:52.046254Z"
    },
    "papermill": {
     "duration": 0.044389,
     "end_time": "2023-03-16T10:17:52.050548",
     "exception": false,
     "start_time": "2023-03-16T10:17:52.006159",
     "status": "completed"
    },
    "tags": []
   },
   "outputs": [
    {
     "name": "stdout",
     "output_type": "stream",
     "text": [
      "              precision    recall  f1-score   support\n",
      "\n",
      "           0       0.85      0.91      0.88       443\n",
      "           1       0.84      0.74      0.78       269\n",
      "\n",
      "    accuracy                           0.85       712\n",
      "   macro avg       0.84      0.82      0.83       712\n",
      "weighted avg       0.84      0.85      0.84       712\n",
      "\n",
      "              precision    recall  f1-score   support\n",
      "\n",
      "           0       0.77      0.90      0.83       106\n",
      "           1       0.80      0.60      0.69        73\n",
      "\n",
      "    accuracy                           0.78       179\n",
      "   macro avg       0.78      0.75      0.76       179\n",
      "weighted avg       0.78      0.78      0.77       179\n",
      "\n"
     ]
    }
   ],
   "source": [
    "print(metrics.classification_report(y_train, pred_svc_train))\n",
    "print(metrics.classification_report(y_valid, pred_svc))"
   ]
  },
  {
   "cell_type": "code",
   "execution_count": 54,
   "id": "1817b713",
   "metadata": {
    "execution": {
     "iopub.execute_input": "2023-03-16T10:17:52.098350Z",
     "iopub.status.busy": "2023-03-16T10:17:52.097846Z",
     "iopub.status.idle": "2023-03-16T10:17:52.103297Z",
     "shell.execute_reply": "2023-03-16T10:17:52.102031Z"
    },
    "papermill": {
     "duration": 0.031943,
     "end_time": "2023-03-16T10:17:52.105581",
     "exception": false,
     "start_time": "2023-03-16T10:17:52.073638",
     "status": "completed"
    },
    "tags": []
   },
   "outputs": [],
   "source": [
    "from sklearn.model_selection import GridSearchCV\n",
    "param_grid = {'C':[0.1,1,10,100], 'kernel':['poly','linear','rbf','sigmoid']}"
   ]
  },
  {
   "cell_type": "code",
   "execution_count": 55,
   "id": "2dad225d",
   "metadata": {
    "execution": {
     "iopub.execute_input": "2023-03-16T10:17:52.151652Z",
     "iopub.status.busy": "2023-03-16T10:17:52.151261Z",
     "iopub.status.idle": "2023-03-16T10:17:54.885407Z",
     "shell.execute_reply": "2023-03-16T10:17:54.884276Z"
    },
    "papermill": {
     "duration": 2.760457,
     "end_time": "2023-03-16T10:17:54.888143",
     "exception": false,
     "start_time": "2023-03-16T10:17:52.127686",
     "status": "completed"
    },
    "tags": []
   },
   "outputs": [
    {
     "data": {
      "text/plain": [
       "GridSearchCV(estimator=SVC(),\n",
       "             param_grid={'C': [0.1, 1, 10, 100],\n",
       "                         'kernel': ['poly', 'linear', 'rbf', 'sigmoid']})"
      ]
     },
     "execution_count": 55,
     "metadata": {},
     "output_type": "execute_result"
    }
   ],
   "source": [
    "grid = GridSearchCV(SVC(),param_grid)\n",
    "grid.fit(X_train,y_train)"
   ]
  },
  {
   "cell_type": "code",
   "execution_count": 56,
   "id": "e2c0ab47",
   "metadata": {
    "execution": {
     "iopub.execute_input": "2023-03-16T10:17:54.935307Z",
     "iopub.status.busy": "2023-03-16T10:17:54.934614Z",
     "iopub.status.idle": "2023-03-16T10:17:54.941602Z",
     "shell.execute_reply": "2023-03-16T10:17:54.940580Z"
    },
    "papermill": {
     "duration": 0.032949,
     "end_time": "2023-03-16T10:17:54.943728",
     "exception": false,
     "start_time": "2023-03-16T10:17:54.910779",
     "status": "completed"
    },
    "tags": []
   },
   "outputs": [
    {
     "data": {
      "text/plain": [
       "{'C': 1, 'kernel': 'rbf'}"
      ]
     },
     "execution_count": 56,
     "metadata": {},
     "output_type": "execute_result"
    }
   ],
   "source": [
    "grid.best_params_"
   ]
  },
  {
   "cell_type": "code",
   "execution_count": 57,
   "id": "8d7bf627",
   "metadata": {
    "execution": {
     "iopub.execute_input": "2023-03-16T10:17:54.991226Z",
     "iopub.status.busy": "2023-03-16T10:17:54.990775Z",
     "iopub.status.idle": "2023-03-16T10:17:55.957060Z",
     "shell.execute_reply": "2023-03-16T10:17:55.955864Z"
    },
    "papermill": {
     "duration": 0.993336,
     "end_time": "2023-03-16T10:17:55.959909",
     "exception": false,
     "start_time": "2023-03-16T10:17:54.966573",
     "status": "completed"
    },
    "tags": []
   },
   "outputs": [],
   "source": [
    "model_rf.fit(X,y)\n",
    "pred_y = model_rf.predict(X)"
   ]
  },
  {
   "cell_type": "code",
   "execution_count": 58,
   "id": "58db7e44",
   "metadata": {
    "execution": {
     "iopub.execute_input": "2023-03-16T10:17:56.006871Z",
     "iopub.status.busy": "2023-03-16T10:17:56.006458Z",
     "iopub.status.idle": "2023-03-16T10:17:56.013732Z",
     "shell.execute_reply": "2023-03-16T10:17:56.012952Z"
    },
    "jupyter": {
     "source_hidden": true
    },
    "papermill": {
     "duration": 0.03316,
     "end_time": "2023-03-16T10:17:56.015736",
     "exception": false,
     "start_time": "2023-03-16T10:17:55.982576",
     "status": "completed"
    },
    "tags": []
   },
   "outputs": [
    {
     "data": {
      "text/plain": [
       "array([[ 0.82737724,  0.43279337, -0.47367361, ..., -0.55236029,\n",
       "        -0.73769513,  0.73769513],\n",
       "       [-1.56610693,  0.43279337, -0.47367361, ...,  0.65947522,\n",
       "         1.35557354, -1.35557354],\n",
       "       [ 0.82737724, -0.4745452 , -0.47367361, ..., -0.24940141,\n",
       "         1.35557354, -1.35557354],\n",
       "       ...,\n",
       "       [ 0.82737724,  0.43279337,  2.00893337, ..., -0.31449064,\n",
       "         1.35557354, -1.35557354],\n",
       "       [-1.56610693, -0.4745452 , -0.47367361, ..., -0.24940141,\n",
       "        -0.73769513,  0.73769513],\n",
       "       [ 0.82737724, -0.4745452 , -0.47367361, ...,  0.20503691,\n",
       "        -0.73769513,  0.73769513]])"
      ]
     },
     "execution_count": 58,
     "metadata": {},
     "output_type": "execute_result"
    }
   ],
   "source": [
    "X"
   ]
  },
  {
   "cell_type": "code",
   "execution_count": 59,
   "id": "d8f698c8",
   "metadata": {
    "execution": {
     "iopub.execute_input": "2023-03-16T10:17:56.063373Z",
     "iopub.status.busy": "2023-03-16T10:17:56.062893Z",
     "iopub.status.idle": "2023-03-16T10:17:56.072152Z",
     "shell.execute_reply": "2023-03-16T10:17:56.070932Z"
    },
    "jupyter": {
     "source_hidden": true
    },
    "papermill": {
     "duration": 0.036178,
     "end_time": "2023-03-16T10:17:56.074507",
     "exception": false,
     "start_time": "2023-03-16T10:17:56.038329",
     "status": "completed"
    },
    "tags": []
   },
   "outputs": [
    {
     "data": {
      "text/plain": [
       "0      0\n",
       "1      1\n",
       "2      1\n",
       "3      1\n",
       "4      0\n",
       "      ..\n",
       "886    0\n",
       "887    1\n",
       "888    0\n",
       "889    1\n",
       "890    0\n",
       "Name: Survived, Length: 891, dtype: int64"
      ]
     },
     "execution_count": 59,
     "metadata": {},
     "output_type": "execute_result"
    }
   ],
   "source": [
    "y"
   ]
  },
  {
   "cell_type": "code",
   "execution_count": 60,
   "id": "4dc3420a",
   "metadata": {
    "execution": {
     "iopub.execute_input": "2023-03-16T10:17:56.123574Z",
     "iopub.status.busy": "2023-03-16T10:17:56.122469Z",
     "iopub.status.idle": "2023-03-16T10:17:56.131881Z",
     "shell.execute_reply": "2023-03-16T10:17:56.130933Z"
    },
    "jupyter": {
     "source_hidden": true
    },
    "papermill": {
     "duration": 0.036367,
     "end_time": "2023-03-16T10:17:56.133922",
     "exception": false,
     "start_time": "2023-03-16T10:17:56.097555",
     "status": "completed"
    },
    "tags": []
   },
   "outputs": [
    {
     "data": {
      "text/plain": [
       "array([0, 1, 1, 1, 0, 0, 0, 0, 1, 1, 1, 1, 0, 0, 1, 1, 0, 0, 1, 1, 0, 0,\n",
       "       1, 0, 0, 0, 0, 0, 1, 0, 0, 1, 1, 0, 0, 0, 0, 0, 1, 1, 0, 1, 0, 1,\n",
       "       1, 0, 0, 1, 0, 1, 0, 0, 1, 1, 0, 0, 1, 0, 1, 0, 0, 1, 0, 0, 0, 0,\n",
       "       1, 0, 1, 0, 0, 0, 0, 0, 0, 0, 0, 0, 1, 1, 0, 0, 1, 0, 1, 1, 0, 0,\n",
       "       1, 0, 0, 0, 0, 0, 0, 0, 0, 0, 1, 0, 1, 0, 0, 0, 0, 0, 1, 0, 0, 1,\n",
       "       0, 1, 0, 0, 1, 0, 0, 0, 0, 0, 0, 0, 0, 1, 0, 0, 0, 0, 1, 0, 0, 0,\n",
       "       0, 1, 0, 0, 1, 0, 0, 0, 1, 1, 1, 0, 0, 0, 0, 0, 0, 0, 0, 1, 0, 0,\n",
       "       0, 0, 1, 0, 0, 0, 0, 1, 0, 0, 0, 0, 1, 0, 0, 0, 0, 0, 1, 0, 0, 0,\n",
       "       0, 1, 0, 0, 0, 0, 0, 1, 1, 0, 1, 0, 0, 0, 1, 0, 1, 1, 1, 1, 0, 0,\n",
       "       1, 1, 0, 0, 0, 0, 0, 1, 0, 0, 1, 0, 0, 1, 0, 0, 0, 1, 1, 0, 1, 0,\n",
       "       0, 0, 0, 0, 0, 0, 0, 0, 0, 0, 1, 0, 0, 0, 0, 1, 0, 1, 0, 0, 1, 1,\n",
       "       0, 0, 0, 0, 1, 1, 0, 0, 0, 0, 0, 0, 0, 1, 1, 1, 1, 1, 0, 0, 0, 0,\n",
       "       1, 0, 0, 0, 1, 1, 0, 0, 1, 0, 1, 1, 0, 0, 0, 1, 0, 0, 0, 0, 0, 0,\n",
       "       0, 0, 0, 1, 1, 1, 0, 1, 0, 0, 0, 1, 0, 1, 1, 0, 0, 1, 0, 1, 1, 1,\n",
       "       0, 1, 1, 1, 1, 0, 0, 1, 1, 0, 1, 1, 0, 0, 1, 1, 0, 1, 0, 1, 1, 1,\n",
       "       1, 0, 0, 0, 1, 0, 0, 1, 0, 0, 1, 1, 0, 0, 0, 1, 1, 1, 1, 0, 0, 0,\n",
       "       0, 0, 0, 0, 1, 1, 1, 1, 0, 0, 0, 0, 0, 0, 1, 1, 1, 1, 0, 0, 0, 0,\n",
       "       0, 1, 1, 0, 0, 0, 1, 1, 0, 1, 0, 0, 0, 1, 0, 1, 0, 0, 0, 1, 1, 0,\n",
       "       1, 0, 0, 1, 0, 0, 0, 0, 1, 0, 0, 1, 0, 0, 0, 0, 1, 0, 0, 1, 1, 1,\n",
       "       0, 0, 0, 0, 0, 1, 0, 0, 1, 1, 0, 0, 0, 1, 1, 0, 0, 1, 0, 1, 0, 0,\n",
       "       1, 0, 0, 1, 0, 1, 1, 0, 1, 0, 0, 0, 0, 0, 0, 0, 0, 1, 1, 0, 0, 0,\n",
       "       0, 0, 0, 0, 0, 0, 0, 1, 0, 0, 1, 1, 1, 0, 0, 0, 0, 1, 0, 0, 0, 1,\n",
       "       0, 0, 1, 0, 0, 1, 0, 0, 0, 0, 0, 0, 1, 0, 1, 0, 0, 1, 1, 0, 1, 0,\n",
       "       1, 0, 0, 0, 0, 0, 0, 1, 0, 0, 1, 0, 1, 0, 1, 0, 0, 1, 0, 0, 1, 0,\n",
       "       0, 0, 1, 0, 0, 1, 0, 1, 0, 1, 0, 1, 1, 0, 0, 0, 0, 0, 1, 0, 0, 1,\n",
       "       1, 0, 0, 0, 1, 0, 1, 0, 1, 1, 0, 0, 0, 0, 1, 0, 0, 0, 0, 0, 0, 1,\n",
       "       0, 1, 0, 0, 1, 1, 1, 0, 1, 1, 0, 0, 0, 1, 0, 0, 0, 0, 0, 1, 0, 1,\n",
       "       0, 0, 1, 0, 0, 0, 1, 0, 0, 0, 0, 0, 0, 0, 1, 1, 0, 0, 1, 0, 0, 1,\n",
       "       0, 1, 1, 0, 0, 0, 0, 0, 0, 0, 0, 1, 0, 0, 0, 0, 0, 0, 0, 1, 0, 0,\n",
       "       0, 0, 0, 1, 0, 0, 1, 0, 0, 0, 0, 1, 0, 1, 0, 1, 1, 0, 0, 1, 0, 0,\n",
       "       0, 0, 0, 0, 0, 0, 0, 0, 0, 1, 1, 0, 0, 0, 0, 0, 0, 1, 0, 0, 1, 0,\n",
       "       0, 0, 0, 0, 0, 0, 0, 1, 0, 1, 0, 0, 0, 0, 0, 1, 0, 0, 1, 0, 1, 0,\n",
       "       0, 0, 1, 0, 1, 0, 1, 0, 0, 0, 0, 0, 1, 1, 0, 0, 1, 0, 0, 0, 0, 0,\n",
       "       1, 1, 0, 1, 1, 0, 0, 0, 0, 0, 0, 0, 0, 0, 0, 0, 1, 0, 0, 0, 0, 1,\n",
       "       0, 0, 1, 1, 0, 0, 1, 1, 0, 0, 0, 1, 0, 0, 0, 1, 0, 1, 0, 1, 0, 0,\n",
       "       0, 0, 1, 0, 1, 0, 0, 1, 0, 1, 1, 1, 0, 0, 0, 0, 1, 0, 1, 0, 0, 0,\n",
       "       0, 0, 0, 0, 1, 0, 0, 0, 0, 1, 1, 1, 0, 0, 0, 1, 0, 1, 0, 0, 0, 0,\n",
       "       0, 0, 1, 0, 0, 0, 1, 0, 0, 1, 0, 0, 0, 1, 0, 1, 1, 1, 0, 0, 0, 1,\n",
       "       0, 0, 0, 0, 0, 0, 1, 0, 0, 0, 0, 0, 0, 1, 0, 0, 1, 1, 1, 1, 1, 0,\n",
       "       1, 0, 0, 0, 1, 0, 0, 1, 1, 0, 0, 1, 0, 1, 0, 0, 1, 1, 0, 0, 0, 1,\n",
       "       1, 0, 1, 0, 0, 0, 0, 1, 0, 0, 0])"
      ]
     },
     "execution_count": 60,
     "metadata": {},
     "output_type": "execute_result"
    }
   ],
   "source": [
    "pred_y"
   ]
  },
  {
   "cell_type": "code",
   "execution_count": 61,
   "id": "48af6c8a",
   "metadata": {
    "execution": {
     "iopub.execute_input": "2023-03-16T10:17:56.181438Z",
     "iopub.status.busy": "2023-03-16T10:17:56.181064Z",
     "iopub.status.idle": "2023-03-16T10:17:56.192705Z",
     "shell.execute_reply": "2023-03-16T10:17:56.191170Z"
    },
    "papermill": {
     "duration": 0.038549,
     "end_time": "2023-03-16T10:17:56.195357",
     "exception": false,
     "start_time": "2023-03-16T10:17:56.156808",
     "status": "completed"
    },
    "tags": []
   },
   "outputs": [
    {
     "name": "stdout",
     "output_type": "stream",
     "text": [
      "              precision    recall  f1-score   support\n",
      "\n",
      "           0       0.92      0.84      0.88       598\n",
      "           1       0.73      0.85      0.78       293\n",
      "\n",
      "    accuracy                           0.85       891\n",
      "   macro avg       0.82      0.85      0.83       891\n",
      "weighted avg       0.86      0.85      0.85       891\n",
      "\n"
     ]
    }
   ],
   "source": [
    "print(metrics.classification_report(pred_y, y))"
   ]
  },
  {
   "cell_type": "markdown",
   "id": "48101aa9",
   "metadata": {
    "papermill": {
     "duration": 0.022191,
     "end_time": "2023-03-16T10:17:56.240287",
     "exception": false,
     "start_time": "2023-03-16T10:17:56.218096",
     "status": "completed"
    },
    "tags": []
   },
   "source": [
    "\n",
    "\n",
    "# Submission"
   ]
  },
  {
   "cell_type": "code",
   "execution_count": 62,
   "id": "879bfe2f",
   "metadata": {
    "execution": {
     "iopub.execute_input": "2023-03-16T10:17:56.287569Z",
     "iopub.status.busy": "2023-03-16T10:17:56.287141Z",
     "iopub.status.idle": "2023-03-16T10:17:56.378954Z",
     "shell.execute_reply": "2023-03-16T10:17:56.377622Z"
    },
    "papermill": {
     "duration": 0.118662,
     "end_time": "2023-03-16T10:17:56.381566",
     "exception": false,
     "start_time": "2023-03-16T10:17:56.262904",
     "status": "completed"
    },
    "tags": []
   },
   "outputs": [
    {
     "name": "stdout",
     "output_type": "stream",
     "text": [
      "Your submission was successfully saved!\n"
     ]
    }
   ],
   "source": [
    "# model_rf.fit(X, y)\n",
    "predictions = model_rf.predict(X_test)\n",
    "\n",
    "output = pd.DataFrame({'PassengerId': test_data.PassengerId, 'Survived': predictions})\n",
    "output.to_csv('submission.csv', index=False)\n",
    "print(\"Your submission was successfully saved!\")"
   ]
  },
  {
   "cell_type": "code",
   "execution_count": null,
   "id": "c9ac118f",
   "metadata": {
    "papermill": {
     "duration": 0.024957,
     "end_time": "2023-03-16T10:17:56.429841",
     "exception": false,
     "start_time": "2023-03-16T10:17:56.404884",
     "status": "completed"
    },
    "tags": []
   },
   "outputs": [],
   "source": []
  }
 ],
 "metadata": {
  "kernelspec": {
   "display_name": "Python 3",
   "language": "python",
   "name": "python3"
  },
  "language_info": {
   "codemirror_mode": {
    "name": "ipython",
    "version": 3
   },
   "file_extension": ".py",
   "mimetype": "text/x-python",
   "name": "python",
   "nbconvert_exporter": "python",
   "pygments_lexer": "ipython3",
   "version": "3.7.12"
  },
  "papermill": {
   "default_parameters": {},
   "duration": 31.347073,
   "end_time": "2023-03-16T10:17:57.376551",
   "environment_variables": {},
   "exception": null,
   "input_path": "__notebook__.ipynb",
   "output_path": "__notebook__.ipynb",
   "parameters": {},
   "start_time": "2023-03-16T10:17:26.029478",
   "version": "2.3.4"
  }
 },
 "nbformat": 4,
 "nbformat_minor": 5
}
