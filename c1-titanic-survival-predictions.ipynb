{
 "cells": [
  {
   "cell_type": "code",
   "execution_count": 1,
   "id": "3cb3dd01",
   "metadata": {
    "_cell_guid": "b1076dfc-b9ad-4769-8c92-a6c4dae69d19",
    "_uuid": "8f2839f25d086af736a60e9eeb907d3b93b6e0e5",
    "execution": {
     "iopub.execute_input": "2023-03-16T08:29:20.405005Z",
     "iopub.status.busy": "2023-03-16T08:29:20.403969Z",
     "iopub.status.idle": "2023-03-16T08:29:20.421485Z",
     "shell.execute_reply": "2023-03-16T08:29:20.419924Z"
    },
    "papermill": {
     "duration": 0.042986,
     "end_time": "2023-03-16T08:29:20.427797",
     "exception": false,
     "start_time": "2023-03-16T08:29:20.384811",
     "status": "completed"
    },
    "tags": []
   },
   "outputs": [
    {
     "name": "stdout",
     "output_type": "stream",
     "text": [
      "/kaggle/input/titanic/train.csv\n",
      "/kaggle/input/titanic/test.csv\n",
      "/kaggle/input/titanic/gender_submission.csv\n"
     ]
    }
   ],
   "source": [
    "# This Python 3 environment comes with many helpful analytics libraries installed\n",
    "# It is defined by the kaggle/python Docker image: https://github.com/kaggle/docker-python\n",
    "# For example, here's several helpful packages to load\n",
    "\n",
    "import numpy as np # linear algebra\n",
    "import pandas as pd # data processing, CSV file I/O (e.g. pd.read_csv)\n",
    "\n",
    "# Input data files are available in the read-only \"../input/\" directory\n",
    "# For example, running this (by clicking run or pressing Shift+Enter) will list all files under the input directory\n",
    "\n",
    "import os\n",
    "for dirname, _, filenames in os.walk('/kaggle/input'):\n",
    "    for filename in filenames:\n",
    "        print(os.path.join(dirname, filename))\n",
    "\n",
    "# You can write up to 20GB to the current directory (/kaggle/working/) that gets preserved as output when you create a version using \"Save & Run All\" \n",
    "# You can also write temporary files to /kaggle/temp/, but they won't be saved outside of the current session"
   ]
  },
  {
   "cell_type": "code",
   "execution_count": 2,
   "id": "c63f819a",
   "metadata": {
    "execution": {
     "iopub.execute_input": "2023-03-16T08:29:20.461241Z",
     "iopub.status.busy": "2023-03-16T08:29:20.460691Z",
     "iopub.status.idle": "2023-03-16T08:29:21.686078Z",
     "shell.execute_reply": "2023-03-16T08:29:21.684647Z"
    },
    "papermill": {
     "duration": 1.245686,
     "end_time": "2023-03-16T08:29:21.689259",
     "exception": false,
     "start_time": "2023-03-16T08:29:20.443573",
     "status": "completed"
    },
    "tags": []
   },
   "outputs": [],
   "source": [
    "from sklearn.metrics import mean_absolute_error"
   ]
  },
  {
   "cell_type": "code",
   "execution_count": 3,
   "id": "279156a8",
   "metadata": {
    "execution": {
     "iopub.execute_input": "2023-03-16T08:29:21.722863Z",
     "iopub.status.busy": "2023-03-16T08:29:21.722413Z",
     "iopub.status.idle": "2023-03-16T08:29:21.768105Z",
     "shell.execute_reply": "2023-03-16T08:29:21.767054Z"
    },
    "papermill": {
     "duration": 0.064569,
     "end_time": "2023-03-16T08:29:21.770630",
     "exception": false,
     "start_time": "2023-03-16T08:29:21.706061",
     "status": "completed"
    },
    "tags": []
   },
   "outputs": [
    {
     "data": {
      "text/html": [
       "<div>\n",
       "<style scoped>\n",
       "    .dataframe tbody tr th:only-of-type {\n",
       "        vertical-align: middle;\n",
       "    }\n",
       "\n",
       "    .dataframe tbody tr th {\n",
       "        vertical-align: top;\n",
       "    }\n",
       "\n",
       "    .dataframe thead th {\n",
       "        text-align: right;\n",
       "    }\n",
       "</style>\n",
       "<table border=\"1\" class=\"dataframe\">\n",
       "  <thead>\n",
       "    <tr style=\"text-align: right;\">\n",
       "      <th></th>\n",
       "      <th>PassengerId</th>\n",
       "      <th>Survived</th>\n",
       "      <th>Pclass</th>\n",
       "      <th>Name</th>\n",
       "      <th>Sex</th>\n",
       "      <th>Age</th>\n",
       "      <th>SibSp</th>\n",
       "      <th>Parch</th>\n",
       "      <th>Ticket</th>\n",
       "      <th>Fare</th>\n",
       "      <th>Cabin</th>\n",
       "      <th>Embarked</th>\n",
       "    </tr>\n",
       "  </thead>\n",
       "  <tbody>\n",
       "    <tr>\n",
       "      <th>0</th>\n",
       "      <td>1</td>\n",
       "      <td>0</td>\n",
       "      <td>3</td>\n",
       "      <td>Braund, Mr. Owen Harris</td>\n",
       "      <td>male</td>\n",
       "      <td>22.0</td>\n",
       "      <td>1</td>\n",
       "      <td>0</td>\n",
       "      <td>A/5 21171</td>\n",
       "      <td>7.2500</td>\n",
       "      <td>NaN</td>\n",
       "      <td>S</td>\n",
       "    </tr>\n",
       "    <tr>\n",
       "      <th>1</th>\n",
       "      <td>2</td>\n",
       "      <td>1</td>\n",
       "      <td>1</td>\n",
       "      <td>Cumings, Mrs. John Bradley (Florence Briggs Th...</td>\n",
       "      <td>female</td>\n",
       "      <td>38.0</td>\n",
       "      <td>1</td>\n",
       "      <td>0</td>\n",
       "      <td>PC 17599</td>\n",
       "      <td>71.2833</td>\n",
       "      <td>C85</td>\n",
       "      <td>C</td>\n",
       "    </tr>\n",
       "    <tr>\n",
       "      <th>2</th>\n",
       "      <td>3</td>\n",
       "      <td>1</td>\n",
       "      <td>3</td>\n",
       "      <td>Heikkinen, Miss. Laina</td>\n",
       "      <td>female</td>\n",
       "      <td>26.0</td>\n",
       "      <td>0</td>\n",
       "      <td>0</td>\n",
       "      <td>STON/O2. 3101282</td>\n",
       "      <td>7.9250</td>\n",
       "      <td>NaN</td>\n",
       "      <td>S</td>\n",
       "    </tr>\n",
       "    <tr>\n",
       "      <th>3</th>\n",
       "      <td>4</td>\n",
       "      <td>1</td>\n",
       "      <td>1</td>\n",
       "      <td>Futrelle, Mrs. Jacques Heath (Lily May Peel)</td>\n",
       "      <td>female</td>\n",
       "      <td>35.0</td>\n",
       "      <td>1</td>\n",
       "      <td>0</td>\n",
       "      <td>113803</td>\n",
       "      <td>53.1000</td>\n",
       "      <td>C123</td>\n",
       "      <td>S</td>\n",
       "    </tr>\n",
       "    <tr>\n",
       "      <th>4</th>\n",
       "      <td>5</td>\n",
       "      <td>0</td>\n",
       "      <td>3</td>\n",
       "      <td>Allen, Mr. William Henry</td>\n",
       "      <td>male</td>\n",
       "      <td>35.0</td>\n",
       "      <td>0</td>\n",
       "      <td>0</td>\n",
       "      <td>373450</td>\n",
       "      <td>8.0500</td>\n",
       "      <td>NaN</td>\n",
       "      <td>S</td>\n",
       "    </tr>\n",
       "  </tbody>\n",
       "</table>\n",
       "</div>"
      ],
      "text/plain": [
       "   PassengerId  Survived  Pclass  \\\n",
       "0            1         0       3   \n",
       "1            2         1       1   \n",
       "2            3         1       3   \n",
       "3            4         1       1   \n",
       "4            5         0       3   \n",
       "\n",
       "                                                Name     Sex   Age  SibSp  \\\n",
       "0                            Braund, Mr. Owen Harris    male  22.0      1   \n",
       "1  Cumings, Mrs. John Bradley (Florence Briggs Th...  female  38.0      1   \n",
       "2                             Heikkinen, Miss. Laina  female  26.0      0   \n",
       "3       Futrelle, Mrs. Jacques Heath (Lily May Peel)  female  35.0      1   \n",
       "4                           Allen, Mr. William Henry    male  35.0      0   \n",
       "\n",
       "   Parch            Ticket     Fare Cabin Embarked  \n",
       "0      0         A/5 21171   7.2500   NaN        S  \n",
       "1      0          PC 17599  71.2833   C85        C  \n",
       "2      0  STON/O2. 3101282   7.9250   NaN        S  \n",
       "3      0            113803  53.1000  C123        S  \n",
       "4      0            373450   8.0500   NaN        S  "
      ]
     },
     "execution_count": 3,
     "metadata": {},
     "output_type": "execute_result"
    }
   ],
   "source": [
    "train_data = pd.read_csv(\"/kaggle/input/titanic/train.csv\")\n",
    "train_data.head()"
   ]
  },
  {
   "cell_type": "code",
   "execution_count": 4,
   "id": "9d6cd624",
   "metadata": {
    "execution": {
     "iopub.execute_input": "2023-03-16T08:29:21.803796Z",
     "iopub.status.busy": "2023-03-16T08:29:21.802871Z",
     "iopub.status.idle": "2023-03-16T08:29:21.852440Z",
     "shell.execute_reply": "2023-03-16T08:29:21.851032Z"
    },
    "papermill": {
     "duration": 0.069444,
     "end_time": "2023-03-16T08:29:21.855333",
     "exception": false,
     "start_time": "2023-03-16T08:29:21.785889",
     "status": "completed"
    },
    "tags": []
   },
   "outputs": [
    {
     "data": {
      "text/html": [
       "<div>\n",
       "<style scoped>\n",
       "    .dataframe tbody tr th:only-of-type {\n",
       "        vertical-align: middle;\n",
       "    }\n",
       "\n",
       "    .dataframe tbody tr th {\n",
       "        vertical-align: top;\n",
       "    }\n",
       "\n",
       "    .dataframe thead th {\n",
       "        text-align: right;\n",
       "    }\n",
       "</style>\n",
       "<table border=\"1\" class=\"dataframe\">\n",
       "  <thead>\n",
       "    <tr style=\"text-align: right;\">\n",
       "      <th></th>\n",
       "      <th>PassengerId</th>\n",
       "      <th>Survived</th>\n",
       "      <th>Pclass</th>\n",
       "      <th>Age</th>\n",
       "      <th>SibSp</th>\n",
       "      <th>Parch</th>\n",
       "      <th>Fare</th>\n",
       "    </tr>\n",
       "  </thead>\n",
       "  <tbody>\n",
       "    <tr>\n",
       "      <th>count</th>\n",
       "      <td>891.000000</td>\n",
       "      <td>891.000000</td>\n",
       "      <td>891.000000</td>\n",
       "      <td>714.000000</td>\n",
       "      <td>891.000000</td>\n",
       "      <td>891.000000</td>\n",
       "      <td>891.000000</td>\n",
       "    </tr>\n",
       "    <tr>\n",
       "      <th>mean</th>\n",
       "      <td>446.000000</td>\n",
       "      <td>0.383838</td>\n",
       "      <td>2.308642</td>\n",
       "      <td>29.699118</td>\n",
       "      <td>0.523008</td>\n",
       "      <td>0.381594</td>\n",
       "      <td>32.204208</td>\n",
       "    </tr>\n",
       "    <tr>\n",
       "      <th>std</th>\n",
       "      <td>257.353842</td>\n",
       "      <td>0.486592</td>\n",
       "      <td>0.836071</td>\n",
       "      <td>14.526497</td>\n",
       "      <td>1.102743</td>\n",
       "      <td>0.806057</td>\n",
       "      <td>49.693429</td>\n",
       "    </tr>\n",
       "    <tr>\n",
       "      <th>min</th>\n",
       "      <td>1.000000</td>\n",
       "      <td>0.000000</td>\n",
       "      <td>1.000000</td>\n",
       "      <td>0.420000</td>\n",
       "      <td>0.000000</td>\n",
       "      <td>0.000000</td>\n",
       "      <td>0.000000</td>\n",
       "    </tr>\n",
       "    <tr>\n",
       "      <th>25%</th>\n",
       "      <td>223.500000</td>\n",
       "      <td>0.000000</td>\n",
       "      <td>2.000000</td>\n",
       "      <td>20.125000</td>\n",
       "      <td>0.000000</td>\n",
       "      <td>0.000000</td>\n",
       "      <td>7.910400</td>\n",
       "    </tr>\n",
       "    <tr>\n",
       "      <th>50%</th>\n",
       "      <td>446.000000</td>\n",
       "      <td>0.000000</td>\n",
       "      <td>3.000000</td>\n",
       "      <td>28.000000</td>\n",
       "      <td>0.000000</td>\n",
       "      <td>0.000000</td>\n",
       "      <td>14.454200</td>\n",
       "    </tr>\n",
       "    <tr>\n",
       "      <th>75%</th>\n",
       "      <td>668.500000</td>\n",
       "      <td>1.000000</td>\n",
       "      <td>3.000000</td>\n",
       "      <td>38.000000</td>\n",
       "      <td>1.000000</td>\n",
       "      <td>0.000000</td>\n",
       "      <td>31.000000</td>\n",
       "    </tr>\n",
       "    <tr>\n",
       "      <th>max</th>\n",
       "      <td>891.000000</td>\n",
       "      <td>1.000000</td>\n",
       "      <td>3.000000</td>\n",
       "      <td>80.000000</td>\n",
       "      <td>8.000000</td>\n",
       "      <td>6.000000</td>\n",
       "      <td>512.329200</td>\n",
       "    </tr>\n",
       "  </tbody>\n",
       "</table>\n",
       "</div>"
      ],
      "text/plain": [
       "       PassengerId    Survived      Pclass         Age       SibSp  \\\n",
       "count   891.000000  891.000000  891.000000  714.000000  891.000000   \n",
       "mean    446.000000    0.383838    2.308642   29.699118    0.523008   \n",
       "std     257.353842    0.486592    0.836071   14.526497    1.102743   \n",
       "min       1.000000    0.000000    1.000000    0.420000    0.000000   \n",
       "25%     223.500000    0.000000    2.000000   20.125000    0.000000   \n",
       "50%     446.000000    0.000000    3.000000   28.000000    0.000000   \n",
       "75%     668.500000    1.000000    3.000000   38.000000    1.000000   \n",
       "max     891.000000    1.000000    3.000000   80.000000    8.000000   \n",
       "\n",
       "            Parch        Fare  \n",
       "count  891.000000  891.000000  \n",
       "mean     0.381594   32.204208  \n",
       "std      0.806057   49.693429  \n",
       "min      0.000000    0.000000  \n",
       "25%      0.000000    7.910400  \n",
       "50%      0.000000   14.454200  \n",
       "75%      0.000000   31.000000  \n",
       "max      6.000000  512.329200  "
      ]
     },
     "execution_count": 4,
     "metadata": {},
     "output_type": "execute_result"
    }
   ],
   "source": [
    "train_data.describe()"
   ]
  },
  {
   "cell_type": "code",
   "execution_count": 5,
   "id": "66d15906",
   "metadata": {
    "execution": {
     "iopub.execute_input": "2023-03-16T08:29:21.889416Z",
     "iopub.status.busy": "2023-03-16T08:29:21.888546Z",
     "iopub.status.idle": "2023-03-16T08:29:21.914579Z",
     "shell.execute_reply": "2023-03-16T08:29:21.913122Z"
    },
    "papermill": {
     "duration": 0.045855,
     "end_time": "2023-03-16T08:29:21.917585",
     "exception": false,
     "start_time": "2023-03-16T08:29:21.871730",
     "status": "completed"
    },
    "tags": []
   },
   "outputs": [
    {
     "data": {
      "text/html": [
       "<div>\n",
       "<style scoped>\n",
       "    .dataframe tbody tr th:only-of-type {\n",
       "        vertical-align: middle;\n",
       "    }\n",
       "\n",
       "    .dataframe tbody tr th {\n",
       "        vertical-align: top;\n",
       "    }\n",
       "\n",
       "    .dataframe thead th {\n",
       "        text-align: right;\n",
       "    }\n",
       "</style>\n",
       "<table border=\"1\" class=\"dataframe\">\n",
       "  <thead>\n",
       "    <tr style=\"text-align: right;\">\n",
       "      <th></th>\n",
       "      <th>PassengerId</th>\n",
       "      <th>Pclass</th>\n",
       "      <th>Name</th>\n",
       "      <th>Sex</th>\n",
       "      <th>Age</th>\n",
       "      <th>SibSp</th>\n",
       "      <th>Parch</th>\n",
       "      <th>Ticket</th>\n",
       "      <th>Fare</th>\n",
       "      <th>Cabin</th>\n",
       "      <th>Embarked</th>\n",
       "    </tr>\n",
       "  </thead>\n",
       "  <tbody>\n",
       "    <tr>\n",
       "      <th>0</th>\n",
       "      <td>892</td>\n",
       "      <td>3</td>\n",
       "      <td>Kelly, Mr. James</td>\n",
       "      <td>male</td>\n",
       "      <td>34.5</td>\n",
       "      <td>0</td>\n",
       "      <td>0</td>\n",
       "      <td>330911</td>\n",
       "      <td>7.8292</td>\n",
       "      <td>NaN</td>\n",
       "      <td>Q</td>\n",
       "    </tr>\n",
       "    <tr>\n",
       "      <th>1</th>\n",
       "      <td>893</td>\n",
       "      <td>3</td>\n",
       "      <td>Wilkes, Mrs. James (Ellen Needs)</td>\n",
       "      <td>female</td>\n",
       "      <td>47.0</td>\n",
       "      <td>1</td>\n",
       "      <td>0</td>\n",
       "      <td>363272</td>\n",
       "      <td>7.0000</td>\n",
       "      <td>NaN</td>\n",
       "      <td>S</td>\n",
       "    </tr>\n",
       "    <tr>\n",
       "      <th>2</th>\n",
       "      <td>894</td>\n",
       "      <td>2</td>\n",
       "      <td>Myles, Mr. Thomas Francis</td>\n",
       "      <td>male</td>\n",
       "      <td>62.0</td>\n",
       "      <td>0</td>\n",
       "      <td>0</td>\n",
       "      <td>240276</td>\n",
       "      <td>9.6875</td>\n",
       "      <td>NaN</td>\n",
       "      <td>Q</td>\n",
       "    </tr>\n",
       "    <tr>\n",
       "      <th>3</th>\n",
       "      <td>895</td>\n",
       "      <td>3</td>\n",
       "      <td>Wirz, Mr. Albert</td>\n",
       "      <td>male</td>\n",
       "      <td>27.0</td>\n",
       "      <td>0</td>\n",
       "      <td>0</td>\n",
       "      <td>315154</td>\n",
       "      <td>8.6625</td>\n",
       "      <td>NaN</td>\n",
       "      <td>S</td>\n",
       "    </tr>\n",
       "    <tr>\n",
       "      <th>4</th>\n",
       "      <td>896</td>\n",
       "      <td>3</td>\n",
       "      <td>Hirvonen, Mrs. Alexander (Helga E Lindqvist)</td>\n",
       "      <td>female</td>\n",
       "      <td>22.0</td>\n",
       "      <td>1</td>\n",
       "      <td>1</td>\n",
       "      <td>3101298</td>\n",
       "      <td>12.2875</td>\n",
       "      <td>NaN</td>\n",
       "      <td>S</td>\n",
       "    </tr>\n",
       "  </tbody>\n",
       "</table>\n",
       "</div>"
      ],
      "text/plain": [
       "   PassengerId  Pclass                                          Name     Sex  \\\n",
       "0          892       3                              Kelly, Mr. James    male   \n",
       "1          893       3              Wilkes, Mrs. James (Ellen Needs)  female   \n",
       "2          894       2                     Myles, Mr. Thomas Francis    male   \n",
       "3          895       3                              Wirz, Mr. Albert    male   \n",
       "4          896       3  Hirvonen, Mrs. Alexander (Helga E Lindqvist)  female   \n",
       "\n",
       "    Age  SibSp  Parch   Ticket     Fare Cabin Embarked  \n",
       "0  34.5      0      0   330911   7.8292   NaN        Q  \n",
       "1  47.0      1      0   363272   7.0000   NaN        S  \n",
       "2  62.0      0      0   240276   9.6875   NaN        Q  \n",
       "3  27.0      0      0   315154   8.6625   NaN        S  \n",
       "4  22.0      1      1  3101298  12.2875   NaN        S  "
      ]
     },
     "execution_count": 5,
     "metadata": {},
     "output_type": "execute_result"
    }
   ],
   "source": [
    "test_data = pd.read_csv(\"/kaggle/input/titanic/test.csv\")\n",
    "test_data.head()"
   ]
  },
  {
   "cell_type": "code",
   "execution_count": 6,
   "id": "9246c82a",
   "metadata": {
    "execution": {
     "iopub.execute_input": "2023-03-16T08:29:21.951560Z",
     "iopub.status.busy": "2023-03-16T08:29:21.950539Z",
     "iopub.status.idle": "2023-03-16T08:29:21.983977Z",
     "shell.execute_reply": "2023-03-16T08:29:21.982813Z"
    },
    "papermill": {
     "duration": 0.05245,
     "end_time": "2023-03-16T08:29:21.986477",
     "exception": false,
     "start_time": "2023-03-16T08:29:21.934027",
     "status": "completed"
    },
    "tags": []
   },
   "outputs": [
    {
     "data": {
      "text/html": [
       "<div>\n",
       "<style scoped>\n",
       "    .dataframe tbody tr th:only-of-type {\n",
       "        vertical-align: middle;\n",
       "    }\n",
       "\n",
       "    .dataframe tbody tr th {\n",
       "        vertical-align: top;\n",
       "    }\n",
       "\n",
       "    .dataframe thead th {\n",
       "        text-align: right;\n",
       "    }\n",
       "</style>\n",
       "<table border=\"1\" class=\"dataframe\">\n",
       "  <thead>\n",
       "    <tr style=\"text-align: right;\">\n",
       "      <th></th>\n",
       "      <th>PassengerId</th>\n",
       "      <th>Pclass</th>\n",
       "      <th>Age</th>\n",
       "      <th>SibSp</th>\n",
       "      <th>Parch</th>\n",
       "      <th>Fare</th>\n",
       "    </tr>\n",
       "  </thead>\n",
       "  <tbody>\n",
       "    <tr>\n",
       "      <th>count</th>\n",
       "      <td>418.000000</td>\n",
       "      <td>418.000000</td>\n",
       "      <td>332.000000</td>\n",
       "      <td>418.000000</td>\n",
       "      <td>418.000000</td>\n",
       "      <td>417.000000</td>\n",
       "    </tr>\n",
       "    <tr>\n",
       "      <th>mean</th>\n",
       "      <td>1100.500000</td>\n",
       "      <td>2.265550</td>\n",
       "      <td>30.272590</td>\n",
       "      <td>0.447368</td>\n",
       "      <td>0.392344</td>\n",
       "      <td>35.627188</td>\n",
       "    </tr>\n",
       "    <tr>\n",
       "      <th>std</th>\n",
       "      <td>120.810458</td>\n",
       "      <td>0.841838</td>\n",
       "      <td>14.181209</td>\n",
       "      <td>0.896760</td>\n",
       "      <td>0.981429</td>\n",
       "      <td>55.907576</td>\n",
       "    </tr>\n",
       "    <tr>\n",
       "      <th>min</th>\n",
       "      <td>892.000000</td>\n",
       "      <td>1.000000</td>\n",
       "      <td>0.170000</td>\n",
       "      <td>0.000000</td>\n",
       "      <td>0.000000</td>\n",
       "      <td>0.000000</td>\n",
       "    </tr>\n",
       "    <tr>\n",
       "      <th>25%</th>\n",
       "      <td>996.250000</td>\n",
       "      <td>1.000000</td>\n",
       "      <td>21.000000</td>\n",
       "      <td>0.000000</td>\n",
       "      <td>0.000000</td>\n",
       "      <td>7.895800</td>\n",
       "    </tr>\n",
       "    <tr>\n",
       "      <th>50%</th>\n",
       "      <td>1100.500000</td>\n",
       "      <td>3.000000</td>\n",
       "      <td>27.000000</td>\n",
       "      <td>0.000000</td>\n",
       "      <td>0.000000</td>\n",
       "      <td>14.454200</td>\n",
       "    </tr>\n",
       "    <tr>\n",
       "      <th>75%</th>\n",
       "      <td>1204.750000</td>\n",
       "      <td>3.000000</td>\n",
       "      <td>39.000000</td>\n",
       "      <td>1.000000</td>\n",
       "      <td>0.000000</td>\n",
       "      <td>31.500000</td>\n",
       "    </tr>\n",
       "    <tr>\n",
       "      <th>max</th>\n",
       "      <td>1309.000000</td>\n",
       "      <td>3.000000</td>\n",
       "      <td>76.000000</td>\n",
       "      <td>8.000000</td>\n",
       "      <td>9.000000</td>\n",
       "      <td>512.329200</td>\n",
       "    </tr>\n",
       "  </tbody>\n",
       "</table>\n",
       "</div>"
      ],
      "text/plain": [
       "       PassengerId      Pclass         Age       SibSp       Parch        Fare\n",
       "count   418.000000  418.000000  332.000000  418.000000  418.000000  417.000000\n",
       "mean   1100.500000    2.265550   30.272590    0.447368    0.392344   35.627188\n",
       "std     120.810458    0.841838   14.181209    0.896760    0.981429   55.907576\n",
       "min     892.000000    1.000000    0.170000    0.000000    0.000000    0.000000\n",
       "25%     996.250000    1.000000   21.000000    0.000000    0.000000    7.895800\n",
       "50%    1100.500000    3.000000   27.000000    0.000000    0.000000   14.454200\n",
       "75%    1204.750000    3.000000   39.000000    1.000000    0.000000   31.500000\n",
       "max    1309.000000    3.000000   76.000000    8.000000    9.000000  512.329200"
      ]
     },
     "execution_count": 6,
     "metadata": {},
     "output_type": "execute_result"
    }
   ],
   "source": [
    "test_data.describe()"
   ]
  },
  {
   "cell_type": "code",
   "execution_count": 7,
   "id": "36440a39",
   "metadata": {
    "execution": {
     "iopub.execute_input": "2023-03-16T08:29:22.020386Z",
     "iopub.status.busy": "2023-03-16T08:29:22.019561Z",
     "iopub.status.idle": "2023-03-16T08:29:22.027002Z",
     "shell.execute_reply": "2023-03-16T08:29:22.025797Z"
    },
    "papermill": {
     "duration": 0.027861,
     "end_time": "2023-03-16T08:29:22.029612",
     "exception": false,
     "start_time": "2023-03-16T08:29:22.001751",
     "status": "completed"
    },
    "tags": []
   },
   "outputs": [
    {
     "data": {
      "text/plain": [
       "Index(['PassengerId', 'Survived', 'Pclass', 'Name', 'Sex', 'Age', 'SibSp',\n",
       "       'Parch', 'Ticket', 'Fare', 'Cabin', 'Embarked'],\n",
       "      dtype='object')"
      ]
     },
     "execution_count": 7,
     "metadata": {},
     "output_type": "execute_result"
    }
   ],
   "source": [
    "train_data.columns"
   ]
  },
  {
   "cell_type": "code",
   "execution_count": 8,
   "id": "7873c09a",
   "metadata": {
    "execution": {
     "iopub.execute_input": "2023-03-16T08:29:22.068056Z",
     "iopub.status.busy": "2023-03-16T08:29:22.067501Z",
     "iopub.status.idle": "2023-03-16T08:29:22.078062Z",
     "shell.execute_reply": "2023-03-16T08:29:22.076807Z"
    },
    "papermill": {
     "duration": 0.031702,
     "end_time": "2023-03-16T08:29:22.080778",
     "exception": false,
     "start_time": "2023-03-16T08:29:22.049076",
     "status": "completed"
    },
    "tags": []
   },
   "outputs": [
    {
     "data": {
      "text/plain": [
       "PassengerId      int64\n",
       "Survived         int64\n",
       "Pclass           int64\n",
       "Name            object\n",
       "Sex             object\n",
       "Age            float64\n",
       "SibSp            int64\n",
       "Parch            int64\n",
       "Ticket          object\n",
       "Fare           float64\n",
       "Cabin           object\n",
       "Embarked        object\n",
       "dtype: object"
      ]
     },
     "execution_count": 8,
     "metadata": {},
     "output_type": "execute_result"
    }
   ],
   "source": [
    "train_data.dtypes"
   ]
  },
  {
   "cell_type": "code",
   "execution_count": 9,
   "id": "915f0920",
   "metadata": {
    "execution": {
     "iopub.execute_input": "2023-03-16T08:29:22.114925Z",
     "iopub.status.busy": "2023-03-16T08:29:22.114461Z",
     "iopub.status.idle": "2023-03-16T08:29:22.127163Z",
     "shell.execute_reply": "2023-03-16T08:29:22.125661Z"
    },
    "papermill": {
     "duration": 0.033024,
     "end_time": "2023-03-16T08:29:22.130017",
     "exception": false,
     "start_time": "2023-03-16T08:29:22.096993",
     "status": "completed"
    },
    "tags": []
   },
   "outputs": [
    {
     "data": {
      "text/plain": [
       "PassengerId      0\n",
       "Survived         0\n",
       "Pclass           0\n",
       "Name             0\n",
       "Sex              0\n",
       "Age            177\n",
       "SibSp            0\n",
       "Parch            0\n",
       "Ticket           0\n",
       "Fare             0\n",
       "Cabin          687\n",
       "Embarked         2\n",
       "dtype: int64"
      ]
     },
     "execution_count": 9,
     "metadata": {},
     "output_type": "execute_result"
    }
   ],
   "source": [
    "train_data.isnull().sum()"
   ]
  },
  {
   "cell_type": "code",
   "execution_count": 10,
   "id": "449eb538",
   "metadata": {
    "execution": {
     "iopub.execute_input": "2023-03-16T08:29:22.164949Z",
     "iopub.status.busy": "2023-03-16T08:29:22.164033Z",
     "iopub.status.idle": "2023-03-16T08:29:22.193026Z",
     "shell.execute_reply": "2023-03-16T08:29:22.191744Z"
    },
    "papermill": {
     "duration": 0.049706,
     "end_time": "2023-03-16T08:29:22.196002",
     "exception": false,
     "start_time": "2023-03-16T08:29:22.146296",
     "status": "completed"
    },
    "tags": []
   },
   "outputs": [
    {
     "data": {
      "text/html": [
       "<div>\n",
       "<style scoped>\n",
       "    .dataframe tbody tr th:only-of-type {\n",
       "        vertical-align: middle;\n",
       "    }\n",
       "\n",
       "    .dataframe tbody tr th {\n",
       "        vertical-align: top;\n",
       "    }\n",
       "\n",
       "    .dataframe thead th {\n",
       "        text-align: right;\n",
       "    }\n",
       "</style>\n",
       "<table border=\"1\" class=\"dataframe\">\n",
       "  <thead>\n",
       "    <tr style=\"text-align: right;\">\n",
       "      <th></th>\n",
       "      <th>PassengerId</th>\n",
       "      <th>Survived</th>\n",
       "      <th>Pclass</th>\n",
       "      <th>Name</th>\n",
       "      <th>Sex</th>\n",
       "      <th>Age</th>\n",
       "      <th>SibSp</th>\n",
       "      <th>Parch</th>\n",
       "      <th>Ticket</th>\n",
       "      <th>Fare</th>\n",
       "      <th>Cabin</th>\n",
       "      <th>Embarked</th>\n",
       "    </tr>\n",
       "  </thead>\n",
       "  <tbody>\n",
       "    <tr>\n",
       "      <th>5</th>\n",
       "      <td>6</td>\n",
       "      <td>0</td>\n",
       "      <td>3</td>\n",
       "      <td>Moran, Mr. James</td>\n",
       "      <td>male</td>\n",
       "      <td>NaN</td>\n",
       "      <td>0</td>\n",
       "      <td>0</td>\n",
       "      <td>330877</td>\n",
       "      <td>8.4583</td>\n",
       "      <td>NaN</td>\n",
       "      <td>Q</td>\n",
       "    </tr>\n",
       "    <tr>\n",
       "      <th>17</th>\n",
       "      <td>18</td>\n",
       "      <td>1</td>\n",
       "      <td>2</td>\n",
       "      <td>Williams, Mr. Charles Eugene</td>\n",
       "      <td>male</td>\n",
       "      <td>NaN</td>\n",
       "      <td>0</td>\n",
       "      <td>0</td>\n",
       "      <td>244373</td>\n",
       "      <td>13.0000</td>\n",
       "      <td>NaN</td>\n",
       "      <td>S</td>\n",
       "    </tr>\n",
       "    <tr>\n",
       "      <th>19</th>\n",
       "      <td>20</td>\n",
       "      <td>1</td>\n",
       "      <td>3</td>\n",
       "      <td>Masselmani, Mrs. Fatima</td>\n",
       "      <td>female</td>\n",
       "      <td>NaN</td>\n",
       "      <td>0</td>\n",
       "      <td>0</td>\n",
       "      <td>2649</td>\n",
       "      <td>7.2250</td>\n",
       "      <td>NaN</td>\n",
       "      <td>C</td>\n",
       "    </tr>\n",
       "    <tr>\n",
       "      <th>26</th>\n",
       "      <td>27</td>\n",
       "      <td>0</td>\n",
       "      <td>3</td>\n",
       "      <td>Emir, Mr. Farred Chehab</td>\n",
       "      <td>male</td>\n",
       "      <td>NaN</td>\n",
       "      <td>0</td>\n",
       "      <td>0</td>\n",
       "      <td>2631</td>\n",
       "      <td>7.2250</td>\n",
       "      <td>NaN</td>\n",
       "      <td>C</td>\n",
       "    </tr>\n",
       "    <tr>\n",
       "      <th>28</th>\n",
       "      <td>29</td>\n",
       "      <td>1</td>\n",
       "      <td>3</td>\n",
       "      <td>O'Dwyer, Miss. Ellen \"Nellie\"</td>\n",
       "      <td>female</td>\n",
       "      <td>NaN</td>\n",
       "      <td>0</td>\n",
       "      <td>0</td>\n",
       "      <td>330959</td>\n",
       "      <td>7.8792</td>\n",
       "      <td>NaN</td>\n",
       "      <td>Q</td>\n",
       "    </tr>\n",
       "    <tr>\n",
       "      <th>...</th>\n",
       "      <td>...</td>\n",
       "      <td>...</td>\n",
       "      <td>...</td>\n",
       "      <td>...</td>\n",
       "      <td>...</td>\n",
       "      <td>...</td>\n",
       "      <td>...</td>\n",
       "      <td>...</td>\n",
       "      <td>...</td>\n",
       "      <td>...</td>\n",
       "      <td>...</td>\n",
       "      <td>...</td>\n",
       "    </tr>\n",
       "    <tr>\n",
       "      <th>859</th>\n",
       "      <td>860</td>\n",
       "      <td>0</td>\n",
       "      <td>3</td>\n",
       "      <td>Razi, Mr. Raihed</td>\n",
       "      <td>male</td>\n",
       "      <td>NaN</td>\n",
       "      <td>0</td>\n",
       "      <td>0</td>\n",
       "      <td>2629</td>\n",
       "      <td>7.2292</td>\n",
       "      <td>NaN</td>\n",
       "      <td>C</td>\n",
       "    </tr>\n",
       "    <tr>\n",
       "      <th>863</th>\n",
       "      <td>864</td>\n",
       "      <td>0</td>\n",
       "      <td>3</td>\n",
       "      <td>Sage, Miss. Dorothy Edith \"Dolly\"</td>\n",
       "      <td>female</td>\n",
       "      <td>NaN</td>\n",
       "      <td>8</td>\n",
       "      <td>2</td>\n",
       "      <td>CA. 2343</td>\n",
       "      <td>69.5500</td>\n",
       "      <td>NaN</td>\n",
       "      <td>S</td>\n",
       "    </tr>\n",
       "    <tr>\n",
       "      <th>868</th>\n",
       "      <td>869</td>\n",
       "      <td>0</td>\n",
       "      <td>3</td>\n",
       "      <td>van Melkebeke, Mr. Philemon</td>\n",
       "      <td>male</td>\n",
       "      <td>NaN</td>\n",
       "      <td>0</td>\n",
       "      <td>0</td>\n",
       "      <td>345777</td>\n",
       "      <td>9.5000</td>\n",
       "      <td>NaN</td>\n",
       "      <td>S</td>\n",
       "    </tr>\n",
       "    <tr>\n",
       "      <th>878</th>\n",
       "      <td>879</td>\n",
       "      <td>0</td>\n",
       "      <td>3</td>\n",
       "      <td>Laleff, Mr. Kristo</td>\n",
       "      <td>male</td>\n",
       "      <td>NaN</td>\n",
       "      <td>0</td>\n",
       "      <td>0</td>\n",
       "      <td>349217</td>\n",
       "      <td>7.8958</td>\n",
       "      <td>NaN</td>\n",
       "      <td>S</td>\n",
       "    </tr>\n",
       "    <tr>\n",
       "      <th>888</th>\n",
       "      <td>889</td>\n",
       "      <td>0</td>\n",
       "      <td>3</td>\n",
       "      <td>Johnston, Miss. Catherine Helen \"Carrie\"</td>\n",
       "      <td>female</td>\n",
       "      <td>NaN</td>\n",
       "      <td>1</td>\n",
       "      <td>2</td>\n",
       "      <td>W./C. 6607</td>\n",
       "      <td>23.4500</td>\n",
       "      <td>NaN</td>\n",
       "      <td>S</td>\n",
       "    </tr>\n",
       "  </tbody>\n",
       "</table>\n",
       "<p>177 rows × 12 columns</p>\n",
       "</div>"
      ],
      "text/plain": [
       "     PassengerId  Survived  Pclass                                      Name  \\\n",
       "5              6         0       3                          Moran, Mr. James   \n",
       "17            18         1       2              Williams, Mr. Charles Eugene   \n",
       "19            20         1       3                   Masselmani, Mrs. Fatima   \n",
       "26            27         0       3                   Emir, Mr. Farred Chehab   \n",
       "28            29         1       3             O'Dwyer, Miss. Ellen \"Nellie\"   \n",
       "..           ...       ...     ...                                       ...   \n",
       "859          860         0       3                          Razi, Mr. Raihed   \n",
       "863          864         0       3         Sage, Miss. Dorothy Edith \"Dolly\"   \n",
       "868          869         0       3               van Melkebeke, Mr. Philemon   \n",
       "878          879         0       3                        Laleff, Mr. Kristo   \n",
       "888          889         0       3  Johnston, Miss. Catherine Helen \"Carrie\"   \n",
       "\n",
       "        Sex  Age  SibSp  Parch      Ticket     Fare Cabin Embarked  \n",
       "5      male  NaN      0      0      330877   8.4583   NaN        Q  \n",
       "17     male  NaN      0      0      244373  13.0000   NaN        S  \n",
       "19   female  NaN      0      0        2649   7.2250   NaN        C  \n",
       "26     male  NaN      0      0        2631   7.2250   NaN        C  \n",
       "28   female  NaN      0      0      330959   7.8792   NaN        Q  \n",
       "..      ...  ...    ...    ...         ...      ...   ...      ...  \n",
       "859    male  NaN      0      0        2629   7.2292   NaN        C  \n",
       "863  female  NaN      8      2    CA. 2343  69.5500   NaN        S  \n",
       "868    male  NaN      0      0      345777   9.5000   NaN        S  \n",
       "878    male  NaN      0      0      349217   7.8958   NaN        S  \n",
       "888  female  NaN      1      2  W./C. 6607  23.4500   NaN        S  \n",
       "\n",
       "[177 rows x 12 columns]"
      ]
     },
     "execution_count": 10,
     "metadata": {},
     "output_type": "execute_result"
    }
   ],
   "source": [
    "train_data[train_data.Age.isna()]"
   ]
  },
  {
   "cell_type": "code",
   "execution_count": 11,
   "id": "a71e11c6",
   "metadata": {
    "execution": {
     "iopub.execute_input": "2023-03-16T08:29:22.230839Z",
     "iopub.status.busy": "2023-03-16T08:29:22.230405Z",
     "iopub.status.idle": "2023-03-16T08:29:27.603261Z",
     "shell.execute_reply": "2023-03-16T08:29:27.602313Z"
    },
    "papermill": {
     "duration": 5.397421,
     "end_time": "2023-03-16T08:29:27.610252",
     "exception": false,
     "start_time": "2023-03-16T08:29:22.212831",
     "status": "completed"
    },
    "tags": []
   },
   "outputs": [
    {
     "data": {
      "text/plain": [
       "<seaborn.axisgrid.PairGrid at 0x7efc762499d0>"
      ]
     },
     "execution_count": 11,
     "metadata": {},
     "output_type": "execute_result"
    },
    {
     "data": {
      "image/png": "[encoded data removed]",
      "text/plain": [
       "<Figure size 771.875x720 with 20 Axes>"
      ]
     },
     "metadata": {
      "needs_background": "light"
     },
     "output_type": "display_data"
    }
   ],
   "source": [
    "import seaborn as sns\n",
    "sns.pairplot(train_data[['Pclass','SibSp','Parch','Age','Survived']], hue='Survived')"
   ]
  },
  {
   "cell_type": "code",
   "execution_count": 12,
   "id": "ca5466ce",
   "metadata": {
    "execution": {
     "iopub.execute_input": "2023-03-16T08:29:27.657180Z",
     "iopub.status.busy": "2023-03-16T08:29:27.656770Z",
     "iopub.status.idle": "2023-03-16T08:29:27.672268Z",
     "shell.execute_reply": "2023-03-16T08:29:27.670818Z"
    },
    "papermill": {
     "duration": 0.040842,
     "end_time": "2023-03-16T08:29:27.675171",
     "exception": false,
     "start_time": "2023-03-16T08:29:27.634329",
     "status": "completed"
    },
    "tags": []
   },
   "outputs": [
    {
     "data": {
      "text/plain": [
       "Pclass\n",
       "1    38.233441\n",
       "2    29.877630\n",
       "3    25.140620\n",
       "Name: Age, dtype: float64"
      ]
     },
     "execution_count": 12,
     "metadata": {},
     "output_type": "execute_result"
    }
   ],
   "source": [
    "train_data.groupby('Pclass').mean()['Age']"
   ]
  },
  {
   "cell_type": "code",
   "execution_count": 13,
   "id": "c2df9e50",
   "metadata": {
    "execution": {
     "iopub.execute_input": "2023-03-16T08:29:27.716195Z",
     "iopub.status.busy": "2023-03-16T08:29:27.715237Z",
     "iopub.status.idle": "2023-03-16T08:29:27.726674Z",
     "shell.execute_reply": "2023-03-16T08:29:27.725324Z"
    },
    "papermill": {
     "duration": 0.034807,
     "end_time": "2023-03-16T08:29:27.729529",
     "exception": false,
     "start_time": "2023-03-16T08:29:27.694722",
     "status": "completed"
    },
    "tags": []
   },
   "outputs": [
    {
     "data": {
      "text/plain": [
       "25.14061971830986"
      ]
     },
     "execution_count": 13,
     "metadata": {},
     "output_type": "execute_result"
    }
   ],
   "source": [
    "train_data.groupby('Pclass').mean()['Age'][3]"
   ]
  },
  {
   "cell_type": "code",
   "execution_count": 14,
   "id": "12aae1cc",
   "metadata": {
    "execution": {
     "iopub.execute_input": "2023-03-16T08:29:27.771448Z",
     "iopub.status.busy": "2023-03-16T08:29:27.770950Z",
     "iopub.status.idle": "2023-03-16T08:29:27.777683Z",
     "shell.execute_reply": "2023-03-16T08:29:27.776156Z"
    },
    "papermill": {
     "duration": 0.031951,
     "end_time": "2023-03-16T08:29:27.780919",
     "exception": false,
     "start_time": "2023-03-16T08:29:27.748968",
     "status": "completed"
    },
    "tags": []
   },
   "outputs": [],
   "source": [
    "def age_approx(cols):\n",
    "    Age = cols[0]\n",
    "    Pclass = cols[1]\n",
    "    if pd.isnull(Age):\n",
    "        return train_data.groupby('Pclass').mean()['Age'][Pclass]\n",
    "    else: \n",
    "        return Age"
   ]
  },
  {
   "cell_type": "code",
   "execution_count": 15,
   "id": "b985b03c",
   "metadata": {
    "execution": {
     "iopub.execute_input": "2023-03-16T08:29:27.825680Z",
     "iopub.status.busy": "2023-03-16T08:29:27.824718Z",
     "iopub.status.idle": "2023-03-16T08:29:27.831642Z",
     "shell.execute_reply": "2023-03-16T08:29:27.830670Z"
    },
    "papermill": {
     "duration": 0.03276,
     "end_time": "2023-03-16T08:29:27.834470",
     "exception": false,
     "start_time": "2023-03-16T08:29:27.801710",
     "status": "completed"
    },
    "tags": []
   },
   "outputs": [],
   "source": [
    "def age_approx_test(cols):\n",
    "    Age = cols[0]\n",
    "    Pclass = cols[1]\n",
    "    if pd.isnull(Age):\n",
    "        return test_data.groupby('Pclass').mean()['Age'][Pclass]\n",
    "    else: \n",
    "        return Age"
   ]
  },
  {
   "cell_type": "code",
   "execution_count": 16,
   "id": "272c18e6",
   "metadata": {
    "execution": {
     "iopub.execute_input": "2023-03-16T08:29:27.876101Z",
     "iopub.status.busy": "2023-03-16T08:29:27.875276Z",
     "iopub.status.idle": "2023-03-16T08:29:28.464118Z",
     "shell.execute_reply": "2023-03-16T08:29:28.462431Z"
    },
    "papermill": {
     "duration": 0.614315,
     "end_time": "2023-03-16T08:29:28.467888",
     "exception": false,
     "start_time": "2023-03-16T08:29:27.853573",
     "status": "completed"
    },
    "tags": []
   },
   "outputs": [],
   "source": [
    "train_data['Age'] = train_data[['Age','Pclass']].apply(age_approx, axis=1)\n",
    "test_data['Age'] = test_data[['Age','Pclass']].apply(age_approx_test, axis=1)"
   ]
  },
  {
   "cell_type": "code",
   "execution_count": 17,
   "id": "2dd24860",
   "metadata": {
    "execution": {
     "iopub.execute_input": "2023-03-16T08:29:28.508107Z",
     "iopub.status.busy": "2023-03-16T08:29:28.507541Z",
     "iopub.status.idle": "2023-03-16T08:29:28.518740Z",
     "shell.execute_reply": "2023-03-16T08:29:28.517493Z"
    },
    "papermill": {
     "duration": 0.034141,
     "end_time": "2023-03-16T08:29:28.521037",
     "exception": false,
     "start_time": "2023-03-16T08:29:28.486896",
     "status": "completed"
    },
    "tags": []
   },
   "outputs": [
    {
     "data": {
      "text/plain": [
       "PassengerId      0\n",
       "Survived         0\n",
       "Pclass           0\n",
       "Name             0\n",
       "Sex              0\n",
       "Age              0\n",
       "SibSp            0\n",
       "Parch            0\n",
       "Ticket           0\n",
       "Fare             0\n",
       "Cabin          687\n",
       "Embarked         2\n",
       "dtype: int64"
      ]
     },
     "execution_count": 17,
     "metadata": {},
     "output_type": "execute_result"
    }
   ],
   "source": [
    "train_data.isna().sum()"
   ]
  },
  {
   "cell_type": "code",
   "execution_count": 18,
   "id": "1948a171",
   "metadata": {
    "execution": {
     "iopub.execute_input": "2023-03-16T08:29:28.560907Z",
     "iopub.status.busy": "2023-03-16T08:29:28.560248Z",
     "iopub.status.idle": "2023-03-16T08:29:28.570494Z",
     "shell.execute_reply": "2023-03-16T08:29:28.569178Z"
    },
    "papermill": {
     "duration": 0.032967,
     "end_time": "2023-03-16T08:29:28.572974",
     "exception": false,
     "start_time": "2023-03-16T08:29:28.540007",
     "status": "completed"
    },
    "tags": []
   },
   "outputs": [
    {
     "data": {
      "text/plain": [
       "PassengerId      0\n",
       "Pclass           0\n",
       "Name             0\n",
       "Sex              0\n",
       "Age              0\n",
       "SibSp            0\n",
       "Parch            0\n",
       "Ticket           0\n",
       "Fare             1\n",
       "Cabin          327\n",
       "Embarked         0\n",
       "dtype: int64"
      ]
     },
     "execution_count": 18,
     "metadata": {},
     "output_type": "execute_result"
    }
   ],
   "source": [
    "test_data.isna().sum()"
   ]
  },
  {
   "cell_type": "code",
   "execution_count": 19,
   "id": "28b4abdb",
   "metadata": {
    "execution": {
     "iopub.execute_input": "2023-03-16T08:29:28.613749Z",
     "iopub.status.busy": "2023-03-16T08:29:28.613053Z",
     "iopub.status.idle": "2023-03-16T08:29:28.622461Z",
     "shell.execute_reply": "2023-03-16T08:29:28.620786Z"
    },
    "papermill": {
     "duration": 0.033594,
     "end_time": "2023-03-16T08:29:28.625498",
     "exception": false,
     "start_time": "2023-03-16T08:29:28.591904",
     "status": "completed"
    },
    "tags": []
   },
   "outputs": [
    {
     "name": "stdout",
     "output_type": "stream",
     "text": [
      "% of women who survived: 0.7420382165605095\n"
     ]
    }
   ],
   "source": [
    "women = train_data.loc[train_data.Sex == 'female'][\"Survived\"]\n",
    "rate_women = sum(women)/len(women)\n",
    "\n",
    "# print(women)\n",
    "print(\"% of women who survived:\", rate_women)"
   ]
  },
  {
   "cell_type": "code",
   "execution_count": 20,
   "id": "9f73b185",
   "metadata": {
    "execution": {
     "iopub.execute_input": "2023-03-16T08:29:28.665989Z",
     "iopub.status.busy": "2023-03-16T08:29:28.665530Z",
     "iopub.status.idle": "2023-03-16T08:29:28.674487Z",
     "shell.execute_reply": "2023-03-16T08:29:28.673195Z"
    },
    "papermill": {
     "duration": 0.032868,
     "end_time": "2023-03-16T08:29:28.677363",
     "exception": false,
     "start_time": "2023-03-16T08:29:28.644495",
     "status": "completed"
    },
    "tags": []
   },
   "outputs": [
    {
     "name": "stdout",
     "output_type": "stream",
     "text": [
      "% of men who survived: 0.18890814558058924\n"
     ]
    }
   ],
   "source": [
    "men = train_data.loc[train_data.Sex == 'male'][\"Survived\"]\n",
    "rate_men = sum(men)/len(men)\n",
    "\n",
    "# print(men)\n",
    "print(\"% of men who survived:\", rate_men)"
   ]
  },
  {
   "cell_type": "code",
   "execution_count": 21,
   "id": "2aeca54a",
   "metadata": {
    "execution": {
     "iopub.execute_input": "2023-03-16T08:29:28.719157Z",
     "iopub.status.busy": "2023-03-16T08:29:28.718681Z",
     "iopub.status.idle": "2023-03-16T08:29:28.724472Z",
     "shell.execute_reply": "2023-03-16T08:29:28.723004Z"
    },
    "papermill": {
     "duration": 0.029175,
     "end_time": "2023-03-16T08:29:28.727231",
     "exception": false,
     "start_time": "2023-03-16T08:29:28.698056",
     "status": "completed"
    },
    "tags": []
   },
   "outputs": [],
   "source": [
    "# Don't run this. Else the competition will not accept lesser predicted values.\n",
    "# test_data.dropna(subset=['Age'], axis=0, inplace=True)"
   ]
  },
  {
   "cell_type": "code",
   "execution_count": 22,
   "id": "28cdef7d",
   "metadata": {
    "execution": {
     "iopub.execute_input": "2023-03-16T08:29:28.767912Z",
     "iopub.status.busy": "2023-03-16T08:29:28.767449Z",
     "iopub.status.idle": "2023-03-16T08:29:28.773730Z",
     "shell.execute_reply": "2023-03-16T08:29:28.772241Z"
    },
    "papermill": {
     "duration": 0.03105,
     "end_time": "2023-03-16T08:29:28.776772",
     "exception": false,
     "start_time": "2023-03-16T08:29:28.745722",
     "status": "completed"
    },
    "tags": []
   },
   "outputs": [],
   "source": [
    "from sklearn.preprocessing import StandardScaler, MinMaxScaler\n",
    "mm = MinMaxScaler()\n",
    "ss = StandardScaler()\n",
    "\n",
    "# train_data['Age'] = ss.fit_transform(train_data[['Age']])\n",
    "# test_data['Age'] = ss.fit_transform(test_data[['Age']])"
   ]
  },
  {
   "cell_type": "code",
   "execution_count": 23,
   "id": "b9032fbf",
   "metadata": {
    "execution": {
     "iopub.execute_input": "2023-03-16T08:29:28.819512Z",
     "iopub.status.busy": "2023-03-16T08:29:28.818471Z",
     "iopub.status.idle": "2023-03-16T08:29:28.835640Z",
     "shell.execute_reply": "2023-03-16T08:29:28.834512Z"
    },
    "papermill": {
     "duration": 0.041182,
     "end_time": "2023-03-16T08:29:28.838611",
     "exception": false,
     "start_time": "2023-03-16T08:29:28.797429",
     "status": "completed"
    },
    "tags": []
   },
   "outputs": [],
   "source": [
    "y = train_data[\"Survived\"]\n",
    "features = [\"Pclass\", \"Sex\", \"SibSp\", \"Parch\", \"Age\"]\n",
    "\n",
    "X = pd.get_dummies(train_data[features])\n",
    "X_test = pd.get_dummies(test_data[features])\n",
    "\n",
    "# model = RandomForestClassifier(n_estimators=100, max_depth=5, random_state=1)\n",
    "# model.fit(X, y)\n",
    "# predictions = model.predict(X_test)\n",
    "\n",
    "# output = pd.DataFrame({'PassengerId': test_data.PassengerId, 'Survived': predictions})\n",
    "# output.to_csv('submission.csv', index=False)\n",
    "# print(\"Your submission was successfully saved!\")"
   ]
  },
  {
   "cell_type": "code",
   "execution_count": 24,
   "id": "6a65b2ae",
   "metadata": {
    "execution": {
     "iopub.execute_input": "2023-03-16T08:29:28.879074Z",
     "iopub.status.busy": "2023-03-16T08:29:28.878256Z",
     "iopub.status.idle": "2023-03-16T08:29:28.910849Z",
     "shell.execute_reply": "2023-03-16T08:29:28.908999Z"
    },
    "papermill": {
     "duration": 0.056661,
     "end_time": "2023-03-16T08:29:28.914373",
     "exception": false,
     "start_time": "2023-03-16T08:29:28.857712",
     "status": "completed"
    },
    "tags": []
   },
   "outputs": [
    {
     "data": {
      "text/html": [
       "<div>\n",
       "<style scoped>\n",
       "    .dataframe tbody tr th:only-of-type {\n",
       "        vertical-align: middle;\n",
       "    }\n",
       "\n",
       "    .dataframe tbody tr th {\n",
       "        vertical-align: top;\n",
       "    }\n",
       "\n",
       "    .dataframe thead th {\n",
       "        text-align: right;\n",
       "    }\n",
       "</style>\n",
       "<table border=\"1\" class=\"dataframe\">\n",
       "  <thead>\n",
       "    <tr style=\"text-align: right;\">\n",
       "      <th></th>\n",
       "      <th>Pclass</th>\n",
       "      <th>SibSp</th>\n",
       "      <th>Parch</th>\n",
       "      <th>Age</th>\n",
       "      <th>Sex_female</th>\n",
       "      <th>Sex_male</th>\n",
       "    </tr>\n",
       "  </thead>\n",
       "  <tbody>\n",
       "    <tr>\n",
       "      <th>count</th>\n",
       "      <td>891.000000</td>\n",
       "      <td>891.000000</td>\n",
       "      <td>891.000000</td>\n",
       "      <td>891.000000</td>\n",
       "      <td>891.000000</td>\n",
       "      <td>891.000000</td>\n",
       "    </tr>\n",
       "    <tr>\n",
       "      <th>mean</th>\n",
       "      <td>2.308642</td>\n",
       "      <td>0.523008</td>\n",
       "      <td>0.381594</td>\n",
       "      <td>29.292875</td>\n",
       "      <td>0.352413</td>\n",
       "      <td>0.647587</td>\n",
       "    </tr>\n",
       "    <tr>\n",
       "      <th>std</th>\n",
       "      <td>0.836071</td>\n",
       "      <td>1.102743</td>\n",
       "      <td>0.806057</td>\n",
       "      <td>13.210527</td>\n",
       "      <td>0.477990</td>\n",
       "      <td>0.477990</td>\n",
       "    </tr>\n",
       "    <tr>\n",
       "      <th>min</th>\n",
       "      <td>1.000000</td>\n",
       "      <td>0.000000</td>\n",
       "      <td>0.000000</td>\n",
       "      <td>0.420000</td>\n",
       "      <td>0.000000</td>\n",
       "      <td>0.000000</td>\n",
       "    </tr>\n",
       "    <tr>\n",
       "      <th>25%</th>\n",
       "      <td>2.000000</td>\n",
       "      <td>0.000000</td>\n",
       "      <td>0.000000</td>\n",
       "      <td>22.000000</td>\n",
       "      <td>0.000000</td>\n",
       "      <td>0.000000</td>\n",
       "    </tr>\n",
       "    <tr>\n",
       "      <th>50%</th>\n",
       "      <td>3.000000</td>\n",
       "      <td>0.000000</td>\n",
       "      <td>0.000000</td>\n",
       "      <td>26.000000</td>\n",
       "      <td>0.000000</td>\n",
       "      <td>1.000000</td>\n",
       "    </tr>\n",
       "    <tr>\n",
       "      <th>75%</th>\n",
       "      <td>3.000000</td>\n",
       "      <td>1.000000</td>\n",
       "      <td>0.000000</td>\n",
       "      <td>37.000000</td>\n",
       "      <td>1.000000</td>\n",
       "      <td>1.000000</td>\n",
       "    </tr>\n",
       "    <tr>\n",
       "      <th>max</th>\n",
       "      <td>3.000000</td>\n",
       "      <td>8.000000</td>\n",
       "      <td>6.000000</td>\n",
       "      <td>80.000000</td>\n",
       "      <td>1.000000</td>\n",
       "      <td>1.000000</td>\n",
       "    </tr>\n",
       "  </tbody>\n",
       "</table>\n",
       "</div>"
      ],
      "text/plain": [
       "           Pclass       SibSp       Parch         Age  Sex_female    Sex_male\n",
       "count  891.000000  891.000000  891.000000  891.000000  891.000000  891.000000\n",
       "mean     2.308642    0.523008    0.381594   29.292875    0.352413    0.647587\n",
       "std      0.836071    1.102743    0.806057   13.210527    0.477990    0.477990\n",
       "min      1.000000    0.000000    0.000000    0.420000    0.000000    0.000000\n",
       "25%      2.000000    0.000000    0.000000   22.000000    0.000000    0.000000\n",
       "50%      3.000000    0.000000    0.000000   26.000000    0.000000    1.000000\n",
       "75%      3.000000    1.000000    0.000000   37.000000    1.000000    1.000000\n",
       "max      3.000000    8.000000    6.000000   80.000000    1.000000    1.000000"
      ]
     },
     "execution_count": 24,
     "metadata": {},
     "output_type": "execute_result"
    }
   ],
   "source": [
    "X.describe()"
   ]
  },
  {
   "cell_type": "code",
   "execution_count": 25,
   "id": "fa22330c",
   "metadata": {
    "execution": {
     "iopub.execute_input": "2023-03-16T08:29:28.958109Z",
     "iopub.status.busy": "2023-03-16T08:29:28.957639Z",
     "iopub.status.idle": "2023-03-16T08:29:28.972035Z",
     "shell.execute_reply": "2023-03-16T08:29:28.970506Z"
    },
    "papermill": {
     "duration": 0.041007,
     "end_time": "2023-03-16T08:29:28.974948",
     "exception": false,
     "start_time": "2023-03-16T08:29:28.933941",
     "status": "completed"
    },
    "tags": []
   },
   "outputs": [
    {
     "data": {
      "text/html": [
       "<div>\n",
       "<style scoped>\n",
       "    .dataframe tbody tr th:only-of-type {\n",
       "        vertical-align: middle;\n",
       "    }\n",
       "\n",
       "    .dataframe tbody tr th {\n",
       "        vertical-align: top;\n",
       "    }\n",
       "\n",
       "    .dataframe thead th {\n",
       "        text-align: right;\n",
       "    }\n",
       "</style>\n",
       "<table border=\"1\" class=\"dataframe\">\n",
       "  <thead>\n",
       "    <tr style=\"text-align: right;\">\n",
       "      <th></th>\n",
       "      <th>Pclass</th>\n",
       "      <th>SibSp</th>\n",
       "      <th>Parch</th>\n",
       "      <th>Age</th>\n",
       "      <th>Sex_female</th>\n",
       "      <th>Sex_male</th>\n",
       "    </tr>\n",
       "  </thead>\n",
       "  <tbody>\n",
       "    <tr>\n",
       "      <th>0</th>\n",
       "      <td>3</td>\n",
       "      <td>1</td>\n",
       "      <td>0</td>\n",
       "      <td>22.0</td>\n",
       "      <td>0</td>\n",
       "      <td>1</td>\n",
       "    </tr>\n",
       "    <tr>\n",
       "      <th>1</th>\n",
       "      <td>1</td>\n",
       "      <td>1</td>\n",
       "      <td>0</td>\n",
       "      <td>38.0</td>\n",
       "      <td>1</td>\n",
       "      <td>0</td>\n",
       "    </tr>\n",
       "    <tr>\n",
       "      <th>2</th>\n",
       "      <td>3</td>\n",
       "      <td>0</td>\n",
       "      <td>0</td>\n",
       "      <td>26.0</td>\n",
       "      <td>1</td>\n",
       "      <td>0</td>\n",
       "    </tr>\n",
       "    <tr>\n",
       "      <th>3</th>\n",
       "      <td>1</td>\n",
       "      <td>1</td>\n",
       "      <td>0</td>\n",
       "      <td>35.0</td>\n",
       "      <td>1</td>\n",
       "      <td>0</td>\n",
       "    </tr>\n",
       "    <tr>\n",
       "      <th>4</th>\n",
       "      <td>3</td>\n",
       "      <td>0</td>\n",
       "      <td>0</td>\n",
       "      <td>35.0</td>\n",
       "      <td>0</td>\n",
       "      <td>1</td>\n",
       "    </tr>\n",
       "  </tbody>\n",
       "</table>\n",
       "</div>"
      ],
      "text/plain": [
       "   Pclass  SibSp  Parch   Age  Sex_female  Sex_male\n",
       "0       3      1      0  22.0           0         1\n",
       "1       1      1      0  38.0           1         0\n",
       "2       3      0      0  26.0           1         0\n",
       "3       1      1      0  35.0           1         0\n",
       "4       3      0      0  35.0           0         1"
      ]
     },
     "execution_count": 25,
     "metadata": {},
     "output_type": "execute_result"
    }
   ],
   "source": [
    "X.head()"
   ]
  },
  {
   "cell_type": "code",
   "execution_count": 26,
   "id": "37cac256",
   "metadata": {
    "execution": {
     "iopub.execute_input": "2023-03-16T08:29:29.018985Z",
     "iopub.status.busy": "2023-03-16T08:29:29.018551Z",
     "iopub.status.idle": "2023-03-16T08:29:29.031142Z",
     "shell.execute_reply": "2023-03-16T08:29:29.029620Z"
    },
    "papermill": {
     "duration": 0.038753,
     "end_time": "2023-03-16T08:29:29.034234",
     "exception": false,
     "start_time": "2023-03-16T08:29:28.995481",
     "status": "completed"
    },
    "tags": []
   },
   "outputs": [
    {
     "data": {
      "text/plain": [
       "Pclass        0\n",
       "SibSp         0\n",
       "Parch         0\n",
       "Age           0\n",
       "Sex_female    0\n",
       "Sex_male      0\n",
       "dtype: int64"
      ]
     },
     "execution_count": 26,
     "metadata": {},
     "output_type": "execute_result"
    }
   ],
   "source": [
    "X_test.isna().sum()"
   ]
  },
  {
   "cell_type": "code",
   "execution_count": 27,
   "id": "678c0cf6",
   "metadata": {
    "execution": {
     "iopub.execute_input": "2023-03-16T08:29:29.076325Z",
     "iopub.status.busy": "2023-03-16T08:29:29.075884Z",
     "iopub.status.idle": "2023-03-16T08:29:29.090296Z",
     "shell.execute_reply": "2023-03-16T08:29:29.089276Z"
    },
    "papermill": {
     "duration": 0.038262,
     "end_time": "2023-03-16T08:29:29.093093",
     "exception": false,
     "start_time": "2023-03-16T08:29:29.054831",
     "status": "completed"
    },
    "tags": []
   },
   "outputs": [],
   "source": [
    "X = ss.fit_transform(X)\n",
    "# X_valid['Age'] = ss.fit_transform(X_valid[['Age']])\n",
    "X_test = ss.fit_transform(X_test)"
   ]
  },
  {
   "cell_type": "code",
   "execution_count": 28,
   "id": "9b549a7c",
   "metadata": {
    "execution": {
     "iopub.execute_input": "2023-03-16T08:29:29.134345Z",
     "iopub.status.busy": "2023-03-16T08:29:29.133073Z",
     "iopub.status.idle": "2023-03-16T08:29:29.156096Z",
     "shell.execute_reply": "2023-03-16T08:29:29.154714Z"
    },
    "papermill": {
     "duration": 0.046445,
     "end_time": "2023-03-16T08:29:29.158900",
     "exception": false,
     "start_time": "2023-03-16T08:29:29.112455",
     "status": "completed"
    },
    "tags": []
   },
   "outputs": [],
   "source": [
    "from sklearn.model_selection import train_test_split\n",
    "X_train, X_valid, y_train, y_valid = train_test_split(X, y, train_size=0.8, random_state=1)"
   ]
  },
  {
   "cell_type": "code",
   "execution_count": 29,
   "id": "7c08c14e",
   "metadata": {
    "execution": {
     "iopub.execute_input": "2023-03-16T08:29:29.200178Z",
     "iopub.status.busy": "2023-03-16T08:29:29.199516Z",
     "iopub.status.idle": "2023-03-16T08:29:29.203911Z",
     "shell.execute_reply": "2023-03-16T08:29:29.202695Z"
    },
    "papermill": {
     "duration": 0.028161,
     "end_time": "2023-03-16T08:29:29.206693",
     "exception": false,
     "start_time": "2023-03-16T08:29:29.178532",
     "status": "completed"
    },
    "tags": []
   },
   "outputs": [],
   "source": [
    "#transform Age before splitting X"
   ]
  },
  {
   "cell_type": "code",
   "execution_count": 30,
   "id": "fec0b954",
   "metadata": {
    "execution": {
     "iopub.execute_input": "2023-03-16T08:29:29.247922Z",
     "iopub.status.busy": "2023-03-16T08:29:29.247487Z",
     "iopub.status.idle": "2023-03-16T08:29:29.255181Z",
     "shell.execute_reply": "2023-03-16T08:29:29.253746Z"
    },
    "papermill": {
     "duration": 0.03086,
     "end_time": "2023-03-16T08:29:29.257619",
     "exception": false,
     "start_time": "2023-03-16T08:29:29.226759",
     "status": "completed"
    },
    "tags": []
   },
   "outputs": [
    {
     "data": {
      "text/plain": [
       "array([[ 0.82737724,  0.43279337, -0.47367361, -0.55236029, -0.73769513,\n",
       "         0.73769513],\n",
       "       [-1.56610693,  0.43279337, -0.47367361,  0.65947522,  1.35557354,\n",
       "        -1.35557354],\n",
       "       [ 0.82737724, -0.4745452 , -0.47367361, -0.24940141,  1.35557354,\n",
       "        -1.35557354],\n",
       "       ...,\n",
       "       [ 0.82737724,  0.43279337,  2.00893337, -0.31449064,  1.35557354,\n",
       "        -1.35557354],\n",
       "       [-1.56610693, -0.4745452 , -0.47367361, -0.24940141, -0.73769513,\n",
       "         0.73769513],\n",
       "       [ 0.82737724, -0.4745452 , -0.47367361,  0.20503691, -0.73769513,\n",
       "         0.73769513]])"
      ]
     },
     "execution_count": 30,
     "metadata": {},
     "output_type": "execute_result"
    }
   ],
   "source": [
    "X"
   ]
  },
  {
   "cell_type": "code",
   "execution_count": 31,
   "id": "d084bd0a",
   "metadata": {
    "execution": {
     "iopub.execute_input": "2023-03-16T08:29:29.298329Z",
     "iopub.status.busy": "2023-03-16T08:29:29.297282Z",
     "iopub.status.idle": "2023-03-16T08:29:29.305018Z",
     "shell.execute_reply": "2023-03-16T08:29:29.304119Z"
    },
    "papermill": {
     "duration": 0.030474,
     "end_time": "2023-03-16T08:29:29.307147",
     "exception": false,
     "start_time": "2023-03-16T08:29:29.276673",
     "status": "completed"
    },
    "tags": []
   },
   "outputs": [
    {
     "data": {
      "text/plain": [
       "array([[ 0.87348191, -0.49947002, -0.4002477 ,  0.39320118, -0.75592895,\n",
       "         0.75592895],\n",
       "       [ 0.87348191,  0.61699237, -0.4002477 ,  1.35849848,  1.32287566,\n",
       "        -1.32287566],\n",
       "       [-0.31581919, -0.49947002, -0.4002477 ,  2.51685524, -0.75592895,\n",
       "         0.75592895],\n",
       "       ...,\n",
       "       [ 0.87348191, -0.49947002, -0.4002477 ,  0.70209632, -0.75592895,\n",
       "         0.75592895],\n",
       "       [ 0.87348191, -0.49947002, -0.4002477 , -0.41549052, -0.75592895,\n",
       "         0.75592895],\n",
       "       [ 0.87348191,  0.61699237,  0.61989583, -0.41549052, -0.75592895,\n",
       "         0.75592895]])"
      ]
     },
     "execution_count": 31,
     "metadata": {},
     "output_type": "execute_result"
    }
   ],
   "source": [
    "X_test"
   ]
  },
  {
   "cell_type": "code",
   "execution_count": 32,
   "id": "0eaf6f48",
   "metadata": {
    "execution": {
     "iopub.execute_input": "2023-03-16T08:29:29.347866Z",
     "iopub.status.busy": "2023-03-16T08:29:29.346858Z",
     "iopub.status.idle": "2023-03-16T08:29:29.352460Z",
     "shell.execute_reply": "2023-03-16T08:29:29.351097Z"
    },
    "papermill": {
     "duration": 0.028381,
     "end_time": "2023-03-16T08:29:29.354788",
     "exception": false,
     "start_time": "2023-03-16T08:29:29.326407",
     "status": "completed"
    },
    "tags": []
   },
   "outputs": [],
   "source": [
    "#Function to generate model scores\n",
    "##Ignore. Model also needs to be passed."
   ]
  },
  {
   "cell_type": "code",
   "execution_count": 33,
   "id": "19382fbb",
   "metadata": {
    "execution": {
     "iopub.execute_input": "2023-03-16T08:29:29.399044Z",
     "iopub.status.busy": "2023-03-16T08:29:29.398415Z",
     "iopub.status.idle": "2023-03-16T08:29:29.402879Z",
     "shell.execute_reply": "2023-03-16T08:29:29.401426Z"
    },
    "papermill": {
     "duration": 0.029097,
     "end_time": "2023-03-16T08:29:29.405647",
     "exception": false,
     "start_time": "2023-03-16T08:29:29.376550",
     "status": "completed"
    },
    "tags": []
   },
   "outputs": [],
   "source": [
    "# def print_scores(pred_y, given_x, given_y):\n",
    "#     print(\"\\nMAE: %.4f\" % mean_absolute_error(pred_y, given_y))\n",
    "#     print('R-Squared: %.2f' % model_d.score(given_x, given_y))\n",
    "#     from sklearn import metrics\n",
    "#     print(metrics.classification_report(given_y, pred_y))"
   ]
  },
  {
   "cell_type": "markdown",
   "id": "a0c59509",
   "metadata": {
    "papermill": {
     "duration": 0.02183,
     "end_time": "2023-03-16T08:29:29.446494",
     "exception": false,
     "start_time": "2023-03-16T08:29:29.424664",
     "status": "completed"
    },
    "tags": []
   },
   "source": [
    "# Decision Tree"
   ]
  },
  {
   "cell_type": "code",
   "execution_count": 34,
   "id": "446d1b78",
   "metadata": {
    "execution": {
     "iopub.execute_input": "2023-03-16T08:29:29.490160Z",
     "iopub.status.busy": "2023-03-16T08:29:29.489742Z",
     "iopub.status.idle": "2023-03-16T08:29:29.677648Z",
     "shell.execute_reply": "2023-03-16T08:29:29.676080Z"
    },
    "jupyter": {
     "source_hidden": true
    },
    "papermill": {
     "duration": 0.215067,
     "end_time": "2023-03-16T08:29:29.681984",
     "exception": false,
     "start_time": "2023-03-16T08:29:29.466917",
     "status": "completed"
    },
    "tags": []
   },
   "outputs": [
    {
     "name": "stdout",
     "output_type": "stream",
     "text": [
      "TRAIN DATA\n",
      "MAE in Decision Tree: 0.0865\n",
      "R-Squared in Decision Tree: 0.82\n",
      "\n",
      "TEST DATA\n",
      "MAE in Decision Tree: 0.2513\n",
      "R-Squared in Decision Tree: 0.16\n"
     ]
    }
   ],
   "source": [
    "from sklearn.tree import DecisionTreeRegressor\n",
    "model_d = DecisionTreeRegressor(random_state=1)\n",
    "model_d.fit(X_train, y_train)\n",
    "\n",
    "pred_d_train = model_d.predict(X_train)\n",
    "pred_d_test = model_d.predict(X_valid)\n",
    "\n",
    "print('TRAIN DATA')\n",
    "print(\"MAE in Decision Tree: %.4f\" % mean_absolute_error(pred_d_train, y_train))\n",
    "print('R-Squared in Decision Tree: %.2f' % model_d.score(X_train, y_train))\n",
    "\n",
    "print('\\nTEST DATA')\n",
    "print('MAE in Decision Tree: %.4f' % mean_absolute_error(pred_d_test, y_valid))\n",
    "print('R-Squared in Decision Tree: %.2f' % model_d.score(X_valid, y_valid))"
   ]
  },
  {
   "cell_type": "code",
   "execution_count": 35,
   "id": "81a8036c",
   "metadata": {
    "execution": {
     "iopub.execute_input": "2023-03-16T08:29:29.726998Z",
     "iopub.status.busy": "2023-03-16T08:29:29.726307Z",
     "iopub.status.idle": "2023-03-16T08:29:29.737132Z",
     "shell.execute_reply": "2023-03-16T08:29:29.735864Z"
    },
    "jupyter": {
     "source_hidden": true
    },
    "papermill": {
     "duration": 0.038326,
     "end_time": "2023-03-16T08:29:29.741168",
     "exception": false,
     "start_time": "2023-03-16T08:29:29.702842",
     "status": "completed"
    },
    "tags": []
   },
   "outputs": [
    {
     "data": {
      "text/plain": [
       "array([1.        , 0.03389831, 1.        , 0.76470588, 1.        ,\n",
       "       0.09090909, 0.        , 1.        , 0.        , 0.71428571,\n",
       "       0.16666667, 1.        , 0.        , 0.14285714, 0.76470588,\n",
       "       0.        , 0.        , 0.        , 0.        , 1.        ,\n",
       "       0.625     , 0.        , 1.        , 0.        , 1.        ,\n",
       "       0.66666667, 1.        , 1.        , 0.        , 1.        ,\n",
       "       0.66666667, 0.22222222, 1.        , 0.        , 0.        ,\n",
       "       0.        , 0.5       , 0.03389831, 1.        , 0.1       ,\n",
       "       1.        , 0.33333333, 1.        , 0.        , 1.        ,\n",
       "       0.        , 0.        , 0.        , 1.        , 0.        ,\n",
       "       0.14285714, 1.        , 0.5       , 0.        , 0.66666667,\n",
       "       0.        , 0.66666667, 0.        , 0.5       , 0.        ,\n",
       "       0.        , 0.03389831, 0.        , 0.        , 1.        ,\n",
       "       0.        , 0.        , 0.        , 1.        , 0.        ,\n",
       "       0.5       , 0.        , 0.        , 0.03389831, 1.        ,\n",
       "       0.        , 1.        , 0.03389831, 0.33333333, 1.        ,\n",
       "       0.        , 0.        , 0.03389831, 0.        , 1.        ,\n",
       "       0.66666667, 0.03389831, 0.03389831, 0.        , 1.        ,\n",
       "       0.        , 0.03389831, 0.16666667, 0.76470588, 0.03389831,\n",
       "       0.        , 0.        , 0.76470588, 0.09090909, 0.03389831,\n",
       "       0.22222222, 0.22222222, 1.        , 1.        , 1.        ,\n",
       "       0.        , 0.66666667, 0.66666667, 0.        , 0.        ,\n",
       "       1.        , 0.1       , 0.        , 0.        , 0.        ,\n",
       "       0.        , 0.        , 1.        , 1.        , 0.        ,\n",
       "       1.        , 0.        , 0.03389831, 0.        , 1.        ,\n",
       "       1.        , 1.        , 0.66666667, 0.        , 0.03389831,\n",
       "       0.16666667, 0.        , 1.        , 1.        , 0.        ,\n",
       "       1.        , 1.        , 0.        , 0.        , 0.        ,\n",
       "       1.        , 0.5       , 1.        , 0.76470588, 0.03389831,\n",
       "       0.        , 1.        , 0.03389831, 0.        , 0.1       ,\n",
       "       1.        , 0.        , 0.        , 0.66666667, 0.03389831,\n",
       "       0.625     , 0.1       , 0.        , 0.        , 0.        ,\n",
       "       0.        , 0.        , 0.        , 0.        , 0.5       ,\n",
       "       1.        , 1.        , 0.03389831, 0.25      , 0.33333333,\n",
       "       1.        , 0.        , 1.        , 0.        , 1.        ,\n",
       "       0.22222222, 0.03389831, 0.09090909, 1.        ])"
      ]
     },
     "execution_count": 35,
     "metadata": {},
     "output_type": "execute_result"
    }
   ],
   "source": [
    "pred_d_test\n",
    "#Decision Tree generates continuous values for y"
   ]
  },
  {
   "cell_type": "markdown",
   "id": "a54ec546",
   "metadata": {
    "papermill": {
     "duration": 0.022912,
     "end_time": "2023-03-16T08:29:29.784551",
     "exception": false,
     "start_time": "2023-03-16T08:29:29.761639",
     "status": "completed"
    },
    "tags": []
   },
   "source": [
    "# ****Random Forest****"
   ]
  },
  {
   "cell_type": "code",
   "execution_count": 36,
   "id": "fd5cd8b3",
   "metadata": {
    "execution": {
     "iopub.execute_input": "2023-03-16T08:29:29.829099Z",
     "iopub.status.busy": "2023-03-16T08:29:29.828625Z",
     "iopub.status.idle": "2023-03-16T08:29:31.067673Z",
     "shell.execute_reply": "2023-03-16T08:29:31.065567Z"
    },
    "papermill": {
     "duration": 1.265729,
     "end_time": "2023-03-16T08:29:31.070790",
     "exception": false,
     "start_time": "2023-03-16T08:29:29.805061",
     "status": "completed"
    },
    "tags": []
   },
   "outputs": [
    {
     "name": "stdout",
     "output_type": "stream",
     "text": [
      "TRAIN DATA\n",
      "MAE in Random Forest Model: 0.1433\n",
      "R-Squared in Random Forest Model: 0.86\n",
      "\n",
      "TEST DATA\n",
      "MAE in Random Forest Model: 0.2179\n",
      "R-Squared in Random Forest Model: 0.78\n"
     ]
    }
   ],
   "source": [
    "from sklearn.ensemble import RandomForestClassifier\n",
    "model_rf = RandomForestClassifier(n_estimators=500, max_depth=5, random_state=1)\n",
    "model_rf.fit(X_train, y_train)\n",
    "\n",
    "pred_rf_train = model_rf.predict(X_train)\n",
    "pred_rf_test = model_rf.predict(X_valid)\n",
    "\n",
    "print('TRAIN DATA')\n",
    "print(\"MAE in Random Forest Model: %.4f\" % mean_absolute_error(pred_rf_train, y_train))\n",
    "print('R-Squared in Random Forest Model: %.2f' % model_rf.score(X_train, y_train))\n",
    "\n",
    "print('\\nTEST DATA')\n",
    "print('MAE in Random Forest Model: %.4f' % mean_absolute_error(pred_rf_test, y_valid))\n",
    "print('R-Squared in Random Forest Model: %.2f' % model_rf.score(X_valid, y_valid))\n",
    "\n",
    "# print_scores(pred_rf_train, X_train, y_train)\n",
    "# print_scores(pred_rf_test, X_valid, y_valid)"
   ]
  },
  {
   "cell_type": "code",
   "execution_count": 37,
   "id": "dec851bd",
   "metadata": {
    "execution": {
     "iopub.execute_input": "2023-03-16T08:29:31.113772Z",
     "iopub.status.busy": "2023-03-16T08:29:31.113326Z",
     "iopub.status.idle": "2023-03-16T08:29:31.118528Z",
     "shell.execute_reply": "2023-03-16T08:29:31.117279Z"
    },
    "papermill": {
     "duration": 0.029687,
     "end_time": "2023-03-16T08:29:31.121139",
     "exception": false,
     "start_time": "2023-03-16T08:29:31.091452",
     "status": "completed"
    },
    "tags": []
   },
   "outputs": [],
   "source": [
    "# pred_rf_train"
   ]
  },
  {
   "cell_type": "code",
   "execution_count": 38,
   "id": "89ed7c17",
   "metadata": {
    "execution": {
     "iopub.execute_input": "2023-03-16T08:29:31.162824Z",
     "iopub.status.busy": "2023-03-16T08:29:31.162414Z",
     "iopub.status.idle": "2023-03-16T08:29:31.179192Z",
     "shell.execute_reply": "2023-03-16T08:29:31.177720Z"
    },
    "papermill": {
     "duration": 0.040966,
     "end_time": "2023-03-16T08:29:31.182317",
     "exception": false,
     "start_time": "2023-03-16T08:29:31.141351",
     "status": "completed"
    },
    "tags": []
   },
   "outputs": [
    {
     "name": "stdout",
     "output_type": "stream",
     "text": [
      "              precision    recall  f1-score   support\n",
      "\n",
      "           0       0.85      0.93      0.89       443\n",
      "           1       0.87      0.73      0.79       269\n",
      "\n",
      "    accuracy                           0.86       712\n",
      "   macro avg       0.86      0.83      0.84       712\n",
      "weighted avg       0.86      0.86      0.85       712\n",
      "\n",
      "              precision    recall  f1-score   support\n",
      "\n",
      "           0       0.77      0.90      0.83       106\n",
      "           1       0.80      0.62      0.70        73\n",
      "\n",
      "    accuracy                           0.78       179\n",
      "   macro avg       0.79      0.76      0.76       179\n",
      "weighted avg       0.79      0.78      0.78       179\n",
      "\n"
     ]
    }
   ],
   "source": [
    "from sklearn import metrics\n",
    "print(metrics.classification_report(y_train, pred_rf_train))\n",
    "print(metrics.classification_report(y_valid, pred_rf_test))"
   ]
  },
  {
   "cell_type": "markdown",
   "id": "cf337077",
   "metadata": {
    "papermill": {
     "duration": 0.01924,
     "end_time": "2023-03-16T08:29:31.221329",
     "exception": false,
     "start_time": "2023-03-16T08:29:31.202089",
     "status": "completed"
    },
    "tags": []
   },
   "source": [
    "# XGB"
   ]
  },
  {
   "cell_type": "code",
   "execution_count": 39,
   "id": "034a8e28",
   "metadata": {
    "execution": {
     "iopub.execute_input": "2023-03-16T08:29:31.263248Z",
     "iopub.status.busy": "2023-03-16T08:29:31.262822Z",
     "iopub.status.idle": "2023-03-16T08:29:35.046724Z",
     "shell.execute_reply": "2023-03-16T08:29:35.045157Z"
    },
    "papermill": {
     "duration": 3.808019,
     "end_time": "2023-03-16T08:29:35.049297",
     "exception": false,
     "start_time": "2023-03-16T08:29:31.241278",
     "status": "completed"
    },
    "tags": []
   },
   "outputs": [
    {
     "name": "stdout",
     "output_type": "stream",
     "text": [
      "[08:29:31] WARNING: ../src/learner.cc:627: \n",
      "Parameters: { \"n_iter_no_change\" } might not be used.\n",
      "\n",
      "  This could be a false alarm, with some parameters getting used by language bindings but\n",
      "  then being mistakenly passed down to XGBoost core, or some parameter actually being used\n",
      "  but getting flagged wrongly here. Please open an issue if you find any such cases.\n",
      "\n",
      "\n",
      "TRAIN DATA\n",
      "MAE in XGB Model: 0.0891\n",
      "R-Squared in XGB Model: 0.82\n",
      "\n",
      "TEST DATA\n",
      "MAE in XGB Model: 0.2817\n",
      "R-Squared in XGB Model: 0.17\n"
     ]
    }
   ],
   "source": [
    "from xgboost import XGBRegressor\n",
    "model_xgb = XGBRegressor(n_estimators=1000, n_iter_no_change=5, learning_rate=0.5)\n",
    "\n",
    "model_xgb.fit(X_train, y_train, verbose=False)\n",
    "\n",
    "pred_xgb_train = model_xgb.predict(X_train)\n",
    "pred_xgb_test = model_xgb.predict(X_valid)\n",
    "\n",
    "print('TRAIN DATA')\n",
    "print(\"MAE in XGB Model: %.4f\" % mean_absolute_error(pred_xgb_train, y_train))\n",
    "print('R-Squared in XGB Model: %.2f' % model_xgb.score(X_train, y_train))\n",
    "\n",
    "print('\\nTEST DATA')\n",
    "print('MAE in XGB Model: %.4f' % mean_absolute_error(pred_xgb_test, y_valid))\n",
    "print('R-Squared in XGB Model: %.2f' % model_xgb.score(X_valid, y_valid))"
   ]
  },
  {
   "cell_type": "markdown",
   "id": "d55a7e05",
   "metadata": {
    "papermill": {
     "duration": 0.019272,
     "end_time": "2023-03-16T08:29:35.090335",
     "exception": false,
     "start_time": "2023-03-16T08:29:35.071063",
     "status": "completed"
    },
    "tags": []
   },
   "source": [
    "# Logistic Regression"
   ]
  },
  {
   "cell_type": "code",
   "execution_count": 40,
   "id": "f6f2b588",
   "metadata": {
    "execution": {
     "iopub.execute_input": "2023-03-16T08:29:35.132032Z",
     "iopub.status.busy": "2023-03-16T08:29:35.131604Z",
     "iopub.status.idle": "2023-03-16T08:29:35.149266Z",
     "shell.execute_reply": "2023-03-16T08:29:35.147442Z"
    },
    "papermill": {
     "duration": 0.041972,
     "end_time": "2023-03-16T08:29:35.151961",
     "exception": false,
     "start_time": "2023-03-16T08:29:35.109989",
     "status": "completed"
    },
    "tags": []
   },
   "outputs": [
    {
     "name": "stdout",
     "output_type": "stream",
     "text": [
      "TRAIN DATA\n",
      "MAE in Logistic Regression Model: 0.1924\n",
      "R-Squared in Logistic Regression Model: 0.81\n",
      "\n",
      "TEST DATA\n",
      "MAE in Logistic Regression Model: 0.1955\n",
      "R-Squared in Logistic Regression Model: 0.80\n"
     ]
    }
   ],
   "source": [
    "from sklearn.linear_model import LogisticRegression\n",
    "model_lg = LogisticRegression(random_state=1)\n",
    "\n",
    "model_lg.fit(X_train, y_train)\n",
    "\n",
    "pred_lg_train = model_lg.predict(X_train)\n",
    "pred_lg_test = model_lg.predict(X_valid)\n",
    "\n",
    "print('TRAIN DATA')\n",
    "print(\"MAE in Logistic Regression Model: %.4f\" % mean_absolute_error(pred_lg_train, y_train))\n",
    "print('R-Squared in Logistic Regression Model: %.2f' % model_lg.score(X_train, y_train))\n",
    "\n",
    "print('\\nTEST DATA')\n",
    "print('MAE in Logistic Regression Model: %.4f' % mean_absolute_error(pred_lg_test, y_valid))\n",
    "print('R-Squared in Logistic Regression Model: %.2f' % model_lg.score(X_valid, y_valid))"
   ]
  },
  {
   "cell_type": "code",
   "execution_count": 41,
   "id": "f27cfdcf",
   "metadata": {
    "execution": {
     "iopub.execute_input": "2023-03-16T08:29:35.193879Z",
     "iopub.status.busy": "2023-03-16T08:29:35.193416Z",
     "iopub.status.idle": "2023-03-16T08:29:35.201768Z",
     "shell.execute_reply": "2023-03-16T08:29:35.200594Z"
    },
    "papermill": {
     "duration": 0.032011,
     "end_time": "2023-03-16T08:29:35.203973",
     "exception": false,
     "start_time": "2023-03-16T08:29:35.171962",
     "status": "completed"
    },
    "tags": []
   },
   "outputs": [
    {
     "data": {
      "text/plain": [
       "0.8075842696629213"
      ]
     },
     "execution_count": 41,
     "metadata": {},
     "output_type": "execute_result"
    }
   ],
   "source": [
    "metrics.accuracy_score(y_train, pred_lg_train)"
   ]
  },
  {
   "cell_type": "code",
   "execution_count": 42,
   "id": "41c6bfcc",
   "metadata": {
    "execution": {
     "iopub.execute_input": "2023-03-16T08:29:35.248248Z",
     "iopub.status.busy": "2023-03-16T08:29:35.247363Z",
     "iopub.status.idle": "2023-03-16T08:29:35.256061Z",
     "shell.execute_reply": "2023-03-16T08:29:35.254713Z"
    },
    "papermill": {
     "duration": 0.034234,
     "end_time": "2023-03-16T08:29:35.258849",
     "exception": false,
     "start_time": "2023-03-16T08:29:35.224615",
     "status": "completed"
    },
    "tags": []
   },
   "outputs": [
    {
     "data": {
      "text/plain": [
       "0.8044692737430168"
      ]
     },
     "execution_count": 42,
     "metadata": {},
     "output_type": "execute_result"
    }
   ],
   "source": [
    "metrics.accuracy_score(y_valid, pred_lg_test)"
   ]
  },
  {
   "cell_type": "code",
   "execution_count": 43,
   "id": "3a9cb927",
   "metadata": {
    "execution": {
     "iopub.execute_input": "2023-03-16T08:29:35.300446Z",
     "iopub.status.busy": "2023-03-16T08:29:35.299993Z",
     "iopub.status.idle": "2023-03-16T08:29:35.316948Z",
     "shell.execute_reply": "2023-03-16T08:29:35.315428Z"
    },
    "papermill": {
     "duration": 0.041599,
     "end_time": "2023-03-16T08:29:35.320483",
     "exception": false,
     "start_time": "2023-03-16T08:29:35.278884",
     "status": "completed"
    },
    "tags": []
   },
   "outputs": [
    {
     "name": "stdout",
     "output_type": "stream",
     "text": [
      "              precision    recall  f1-score   support\n",
      "\n",
      "           0       0.83      0.87      0.85       443\n",
      "           1       0.77      0.70      0.73       269\n",
      "\n",
      "    accuracy                           0.81       712\n",
      "   macro avg       0.80      0.79      0.79       712\n",
      "weighted avg       0.81      0.81      0.81       712\n",
      "\n",
      "              precision    recall  f1-score   support\n",
      "\n",
      "           0       0.81      0.87      0.84       106\n",
      "           1       0.79      0.71      0.75        73\n",
      "\n",
      "    accuracy                           0.80       179\n",
      "   macro avg       0.80      0.79      0.79       179\n",
      "weighted avg       0.80      0.80      0.80       179\n",
      "\n"
     ]
    }
   ],
   "source": [
    "print(metrics.classification_report(y_train, pred_lg_train))\n",
    "print(metrics.classification_report(y_valid, pred_lg_test))"
   ]
  },
  {
   "cell_type": "code",
   "execution_count": 44,
   "id": "76fe0a9d",
   "metadata": {
    "execution": {
     "iopub.execute_input": "2023-03-16T08:29:35.369082Z",
     "iopub.status.busy": "2023-03-16T08:29:35.368208Z",
     "iopub.status.idle": "2023-03-16T08:29:35.373417Z",
     "shell.execute_reply": "2023-03-16T08:29:35.372181Z"
    },
    "papermill": {
     "duration": 0.034101,
     "end_time": "2023-03-16T08:29:35.376246",
     "exception": false,
     "start_time": "2023-03-16T08:29:35.342145",
     "status": "completed"
    },
    "tags": []
   },
   "outputs": [],
   "source": [
    "# pred_lg_train"
   ]
  },
  {
   "cell_type": "code",
   "execution_count": 45,
   "id": "9f70d5f0",
   "metadata": {
    "execution": {
     "iopub.execute_input": "2023-03-16T08:29:35.420932Z",
     "iopub.status.busy": "2023-03-16T08:29:35.420436Z",
     "iopub.status.idle": "2023-03-16T08:29:35.426693Z",
     "shell.execute_reply": "2023-03-16T08:29:35.424698Z"
    },
    "papermill": {
     "duration": 0.031948,
     "end_time": "2023-03-16T08:29:35.429732",
     "exception": false,
     "start_time": "2023-03-16T08:29:35.397784",
     "status": "completed"
    },
    "tags": []
   },
   "outputs": [],
   "source": [
    "# pred_lg_test"
   ]
  },
  {
   "cell_type": "markdown",
   "id": "3c9a9a39",
   "metadata": {
    "papermill": {
     "duration": 0.020008,
     "end_time": "2023-03-16T08:29:35.470865",
     "exception": false,
     "start_time": "2023-03-16T08:29:35.450857",
     "status": "completed"
    },
    "tags": []
   },
   "source": [
    "# SVM"
   ]
  },
  {
   "cell_type": "code",
   "execution_count": 46,
   "id": "052b7102",
   "metadata": {
    "execution": {
     "iopub.execute_input": "2023-03-16T08:29:35.514636Z",
     "iopub.status.busy": "2023-03-16T08:29:35.514168Z",
     "iopub.status.idle": "2023-03-16T08:29:35.553172Z",
     "shell.execute_reply": "2023-03-16T08:29:35.551813Z"
    },
    "papermill": {
     "duration": 0.064636,
     "end_time": "2023-03-16T08:29:35.556496",
     "exception": false,
     "start_time": "2023-03-16T08:29:35.491860",
     "status": "completed"
    },
    "tags": []
   },
   "outputs": [],
   "source": [
    "from sklearn.svm import SVC\n",
    "model_svc = SVC()\n",
    "\n",
    "model_svc.fit(X_train, y_train)\n",
    "pred_svc_train = model_svc.predict(X_train)\n",
    "pred_svc = model_svc.predict(X_valid)"
   ]
  },
  {
   "cell_type": "code",
   "execution_count": 47,
   "id": "c818eb84",
   "metadata": {
    "execution": {
     "iopub.execute_input": "2023-03-16T08:29:35.601986Z",
     "iopub.status.busy": "2023-03-16T08:29:35.601040Z",
     "iopub.status.idle": "2023-03-16T08:29:35.610109Z",
     "shell.execute_reply": "2023-03-16T08:29:35.607798Z"
    },
    "papermill": {
     "duration": 0.036076,
     "end_time": "2023-03-16T08:29:35.613234",
     "exception": false,
     "start_time": "2023-03-16T08:29:35.577158",
     "status": "completed"
    },
    "tags": []
   },
   "outputs": [
    {
     "name": "stdout",
     "output_type": "stream",
     "text": [
      "0.8469101123595506\n",
      "0.7821229050279329\n"
     ]
    }
   ],
   "source": [
    "print(metrics.accuracy_score(y_train, pred_svc_train))\n",
    "print(metrics.accuracy_score(y_valid, pred_svc))"
   ]
  },
  {
   "cell_type": "code",
   "execution_count": 48,
   "id": "5df2729d",
   "metadata": {
    "execution": {
     "iopub.execute_input": "2023-03-16T08:29:35.659524Z",
     "iopub.status.busy": "2023-03-16T08:29:35.658598Z",
     "iopub.status.idle": "2023-03-16T08:29:35.676579Z",
     "shell.execute_reply": "2023-03-16T08:29:35.674567Z"
    },
    "papermill": {
     "duration": 0.044041,
     "end_time": "2023-03-16T08:29:35.679769",
     "exception": false,
     "start_time": "2023-03-16T08:29:35.635728",
     "status": "completed"
    },
    "tags": []
   },
   "outputs": [
    {
     "name": "stdout",
     "output_type": "stream",
     "text": [
      "              precision    recall  f1-score   support\n",
      "\n",
      "           0       0.85      0.92      0.88       443\n",
      "           1       0.85      0.72      0.78       269\n",
      "\n",
      "    accuracy                           0.85       712\n",
      "   macro avg       0.85      0.82      0.83       712\n",
      "weighted avg       0.85      0.85      0.84       712\n",
      "\n",
      "              precision    recall  f1-score   support\n",
      "\n",
      "           0       0.77      0.90      0.83       106\n",
      "           1       0.80      0.62      0.70        73\n",
      "\n",
      "    accuracy                           0.78       179\n",
      "   macro avg       0.79      0.76      0.76       179\n",
      "weighted avg       0.79      0.78      0.78       179\n",
      "\n"
     ]
    }
   ],
   "source": [
    "print(metrics.classification_report(y_train, pred_svc_train))\n",
    "print(metrics.classification_report(y_valid, pred_svc))"
   ]
  },
  {
   "cell_type": "code",
   "execution_count": 49,
   "id": "6fb2e4fd",
   "metadata": {
    "execution": {
     "iopub.execute_input": "2023-03-16T08:29:35.724121Z",
     "iopub.status.busy": "2023-03-16T08:29:35.723676Z",
     "iopub.status.idle": "2023-03-16T08:29:35.729914Z",
     "shell.execute_reply": "2023-03-16T08:29:35.728569Z"
    },
    "papermill": {
     "duration": 0.031515,
     "end_time": "2023-03-16T08:29:35.732798",
     "exception": false,
     "start_time": "2023-03-16T08:29:35.701283",
     "status": "completed"
    },
    "tags": []
   },
   "outputs": [],
   "source": [
    "from sklearn.model_selection import GridSearchCV\n",
    "param_grid = {'C':[0.1,1,10,100], 'kernel':['poly','linear','rbf','sigmoid']}"
   ]
  },
  {
   "cell_type": "code",
   "execution_count": 50,
   "id": "3771ccbb",
   "metadata": {
    "execution": {
     "iopub.execute_input": "2023-03-16T08:29:35.778057Z",
     "iopub.status.busy": "2023-03-16T08:29:35.776937Z",
     "iopub.status.idle": "2023-03-16T08:29:39.794425Z",
     "shell.execute_reply": "2023-03-16T08:29:39.793013Z"
    },
    "papermill": {
     "duration": 4.042154,
     "end_time": "2023-03-16T08:29:39.797216",
     "exception": false,
     "start_time": "2023-03-16T08:29:35.755062",
     "status": "completed"
    },
    "tags": []
   },
   "outputs": [
    {
     "data": {
      "text/plain": [
       "GridSearchCV(estimator=SVC(),\n",
       "             param_grid={'C': [0.1, 1, 10, 100],\n",
       "                         'kernel': ['poly', 'linear', 'rbf', 'sigmoid']})"
      ]
     },
     "execution_count": 50,
     "metadata": {},
     "output_type": "execute_result"
    }
   ],
   "source": [
    "grid = GridSearchCV(SVC(),param_grid)\n",
    "grid.fit(X_train,y_train)"
   ]
  },
  {
   "cell_type": "code",
   "execution_count": 51,
   "id": "a35877bc",
   "metadata": {
    "execution": {
     "iopub.execute_input": "2023-03-16T08:29:39.841201Z",
     "iopub.status.busy": "2023-03-16T08:29:39.840553Z",
     "iopub.status.idle": "2023-03-16T08:29:39.847557Z",
     "shell.execute_reply": "2023-03-16T08:29:39.846456Z"
    },
    "papermill": {
     "duration": 0.031166,
     "end_time": "2023-03-16T08:29:39.849743",
     "exception": false,
     "start_time": "2023-03-16T08:29:39.818577",
     "status": "completed"
    },
    "tags": []
   },
   "outputs": [
    {
     "data": {
      "text/plain": [
       "{'C': 1, 'kernel': 'rbf'}"
      ]
     },
     "execution_count": 51,
     "metadata": {},
     "output_type": "execute_result"
    }
   ],
   "source": [
    "grid.best_params_"
   ]
  },
  {
   "cell_type": "code",
   "execution_count": 52,
   "id": "e7dfeafc",
   "metadata": {
    "execution": {
     "iopub.execute_input": "2023-03-16T08:29:39.893871Z",
     "iopub.status.busy": "2023-03-16T08:29:39.893184Z",
     "iopub.status.idle": "2023-03-16T08:29:40.874880Z",
     "shell.execute_reply": "2023-03-16T08:29:40.873870Z"
    },
    "papermill": {
     "duration": 1.00693,
     "end_time": "2023-03-16T08:29:40.877713",
     "exception": false,
     "start_time": "2023-03-16T08:29:39.870783",
     "status": "completed"
    },
    "tags": []
   },
   "outputs": [],
   "source": [
    "model_rf.fit(X,y)\n",
    "pred_y = model_rf.predict(X)"
   ]
  },
  {
   "cell_type": "code",
   "execution_count": 53,
   "id": "21179703",
   "metadata": {
    "collapsed": true,
    "execution": {
     "iopub.execute_input": "2023-03-16T08:29:40.926676Z",
     "iopub.status.busy": "2023-03-16T08:29:40.926280Z",
     "iopub.status.idle": "2023-03-16T08:29:40.934340Z",
     "shell.execute_reply": "2023-03-16T08:29:40.933037Z"
    },
    "jupyter": {
     "outputs_hidden": true,
     "source_hidden": true
    },
    "papermill": {
     "duration": 0.036128,
     "end_time": "2023-03-16T08:29:40.936772",
     "exception": false,
     "start_time": "2023-03-16T08:29:40.900644",
     "status": "completed"
    },
    "tags": []
   },
   "outputs": [
    {
     "data": {
      "text/plain": [
       "array([[ 0.82737724,  0.43279337, -0.47367361, -0.55236029, -0.73769513,\n",
       "         0.73769513],\n",
       "       [-1.56610693,  0.43279337, -0.47367361,  0.65947522,  1.35557354,\n",
       "        -1.35557354],\n",
       "       [ 0.82737724, -0.4745452 , -0.47367361, -0.24940141,  1.35557354,\n",
       "        -1.35557354],\n",
       "       ...,\n",
       "       [ 0.82737724,  0.43279337,  2.00893337, -0.31449064,  1.35557354,\n",
       "        -1.35557354],\n",
       "       [-1.56610693, -0.4745452 , -0.47367361, -0.24940141, -0.73769513,\n",
       "         0.73769513],\n",
       "       [ 0.82737724, -0.4745452 , -0.47367361,  0.20503691, -0.73769513,\n",
       "         0.73769513]])"
      ]
     },
     "execution_count": 53,
     "metadata": {},
     "output_type": "execute_result"
    }
   ],
   "source": [
    "X"
   ]
  },
  {
   "cell_type": "code",
   "execution_count": 54,
   "id": "d753c4fc",
   "metadata": {
    "collapsed": true,
    "execution": {
     "iopub.execute_input": "2023-03-16T08:29:40.980580Z",
     "iopub.status.busy": "2023-03-16T08:29:40.980029Z",
     "iopub.status.idle": "2023-03-16T08:29:40.990713Z",
     "shell.execute_reply": "2023-03-16T08:29:40.989020Z"
    },
    "jupyter": {
     "outputs_hidden": true,
     "source_hidden": true
    },
    "papermill": {
     "duration": 0.036983,
     "end_time": "2023-03-16T08:29:40.994148",
     "exception": false,
     "start_time": "2023-03-16T08:29:40.957165",
     "status": "completed"
    },
    "tags": []
   },
   "outputs": [
    {
     "data": {
      "text/plain": [
       "0      0\n",
       "1      1\n",
       "2      1\n",
       "3      1\n",
       "4      0\n",
       "      ..\n",
       "886    0\n",
       "887    1\n",
       "888    0\n",
       "889    1\n",
       "890    0\n",
       "Name: Survived, Length: 891, dtype: int64"
      ]
     },
     "execution_count": 54,
     "metadata": {},
     "output_type": "execute_result"
    }
   ],
   "source": [
    "y"
   ]
  },
  {
   "cell_type": "code",
   "execution_count": 55,
   "id": "964e9fe9",
   "metadata": {
    "collapsed": true,
    "execution": {
     "iopub.execute_input": "2023-03-16T08:29:41.047055Z",
     "iopub.status.busy": "2023-03-16T08:29:41.046259Z",
     "iopub.status.idle": "2023-03-16T08:29:41.055287Z",
     "shell.execute_reply": "2023-03-16T08:29:41.054227Z"
    },
    "jupyter": {
     "outputs_hidden": true,
     "source_hidden": true
    },
    "papermill": {
     "duration": 0.035741,
     "end_time": "2023-03-16T08:29:41.057709",
     "exception": false,
     "start_time": "2023-03-16T08:29:41.021968",
     "status": "completed"
    },
    "tags": []
   },
   "outputs": [
    {
     "data": {
      "text/plain": [
       "array([0, 1, 1, 1, 0, 0, 0, 0, 1, 1, 1, 1, 0, 0, 1, 1, 0, 0, 1, 1, 0, 0,\n",
       "       1, 0, 0, 0, 0, 0, 1, 0, 0, 1, 1, 0, 0, 0, 0, 0, 1, 1, 0, 1, 0, 1,\n",
       "       1, 0, 0, 1, 0, 1, 0, 0, 1, 1, 0, 0, 1, 0, 1, 0, 0, 1, 0, 0, 0, 0,\n",
       "       1, 0, 0, 0, 0, 0, 0, 0, 0, 0, 0, 0, 1, 1, 0, 0, 1, 0, 1, 1, 0, 0,\n",
       "       1, 0, 0, 0, 0, 0, 0, 0, 0, 0, 1, 0, 1, 0, 0, 0, 0, 0, 1, 0, 0, 1,\n",
       "       0, 1, 0, 1, 1, 0, 0, 0, 0, 0, 0, 0, 0, 1, 0, 0, 0, 0, 1, 0, 0, 0,\n",
       "       0, 1, 0, 0, 1, 0, 0, 0, 1, 1, 1, 0, 0, 0, 0, 0, 0, 0, 0, 1, 0, 0,\n",
       "       0, 0, 1, 0, 0, 0, 0, 1, 0, 0, 0, 1, 1, 0, 0, 0, 0, 0, 1, 0, 0, 0,\n",
       "       0, 1, 0, 0, 0, 0, 0, 1, 1, 0, 1, 0, 0, 0, 1, 0, 1, 1, 1, 1, 0, 0,\n",
       "       1, 1, 0, 0, 0, 0, 0, 1, 0, 0, 1, 0, 0, 1, 0, 0, 0, 1, 1, 0, 1, 0,\n",
       "       0, 0, 0, 0, 0, 0, 0, 0, 0, 0, 1, 0, 0, 0, 0, 1, 0, 1, 0, 0, 1, 1,\n",
       "       0, 0, 0, 0, 1, 1, 0, 0, 0, 0, 0, 0, 0, 1, 1, 1, 1, 1, 0, 0, 0, 0,\n",
       "       1, 0, 0, 0, 1, 1, 0, 0, 1, 0, 1, 1, 0, 0, 0, 1, 0, 0, 0, 0, 0, 0,\n",
       "       0, 0, 0, 1, 1, 1, 0, 1, 0, 0, 0, 1, 0, 1, 1, 0, 0, 1, 0, 1, 1, 1,\n",
       "       0, 1, 1, 1, 1, 0, 0, 1, 1, 0, 1, 1, 0, 0, 1, 1, 0, 1, 0, 1, 0, 1,\n",
       "       1, 0, 0, 0, 1, 0, 0, 1, 0, 0, 1, 1, 0, 0, 0, 1, 1, 1, 1, 0, 0, 0,\n",
       "       0, 0, 0, 0, 1, 1, 1, 1, 0, 0, 0, 0, 0, 0, 1, 1, 1, 1, 0, 0, 0, 0,\n",
       "       0, 1, 1, 0, 0, 0, 1, 1, 0, 1, 0, 0, 0, 1, 0, 1, 0, 0, 0, 1, 1, 0,\n",
       "       1, 0, 0, 1, 0, 0, 1, 0, 1, 0, 0, 1, 0, 0, 0, 0, 1, 0, 0, 1, 1, 1,\n",
       "       0, 1, 0, 0, 0, 0, 0, 0, 1, 1, 0, 0, 0, 1, 1, 0, 0, 1, 0, 1, 0, 0,\n",
       "       1, 0, 0, 1, 0, 1, 1, 0, 1, 0, 0, 0, 0, 0, 0, 0, 0, 1, 1, 0, 0, 0,\n",
       "       0, 0, 0, 0, 0, 0, 0, 1, 0, 0, 1, 1, 1, 0, 0, 0, 0, 1, 0, 0, 0, 1,\n",
       "       0, 0, 1, 0, 0, 0, 0, 0, 0, 0, 0, 0, 1, 0, 1, 0, 0, 1, 1, 1, 1, 0,\n",
       "       1, 0, 0, 0, 0, 0, 0, 1, 0, 0, 1, 0, 1, 0, 1, 0, 0, 1, 0, 0, 1, 0,\n",
       "       0, 0, 1, 0, 0, 1, 1, 1, 0, 1, 0, 1, 1, 0, 0, 0, 0, 0, 1, 0, 0, 1,\n",
       "       1, 0, 0, 0, 1, 0, 1, 0, 1, 1, 0, 0, 0, 0, 1, 0, 0, 0, 0, 0, 0, 1,\n",
       "       0, 1, 0, 0, 1, 1, 1, 0, 1, 1, 0, 0, 0, 1, 0, 0, 0, 0, 0, 1, 0, 1,\n",
       "       0, 0, 1, 0, 0, 0, 1, 0, 0, 0, 0, 0, 0, 0, 1, 1, 0, 0, 1, 0, 0, 1,\n",
       "       0, 1, 1, 0, 0, 0, 0, 0, 0, 0, 0, 1, 0, 0, 0, 0, 0, 0, 0, 1, 0, 0,\n",
       "       0, 0, 0, 1, 0, 0, 1, 0, 0, 0, 0, 1, 0, 1, 0, 1, 1, 0, 0, 0, 0, 0,\n",
       "       0, 0, 0, 0, 0, 0, 0, 0, 0, 1, 1, 0, 0, 0, 0, 0, 0, 1, 0, 0, 1, 0,\n",
       "       0, 0, 0, 0, 0, 0, 0, 1, 0, 1, 0, 0, 0, 0, 0, 1, 0, 0, 1, 0, 1, 0,\n",
       "       0, 0, 1, 0, 1, 0, 1, 0, 0, 0, 0, 0, 1, 1, 0, 0, 1, 0, 0, 0, 0, 0,\n",
       "       1, 1, 0, 1, 1, 0, 0, 0, 0, 0, 0, 0, 0, 0, 0, 0, 1, 0, 0, 0, 0, 1,\n",
       "       0, 0, 1, 1, 0, 0, 1, 1, 0, 0, 0, 1, 0, 0, 0, 1, 0, 1, 0, 1, 0, 0,\n",
       "       0, 0, 1, 0, 1, 0, 0, 1, 0, 1, 1, 1, 0, 0, 0, 0, 1, 0, 1, 0, 0, 0,\n",
       "       0, 0, 0, 0, 1, 1, 0, 0, 0, 1, 1, 1, 0, 0, 0, 1, 0, 1, 0, 0, 0, 0,\n",
       "       0, 0, 1, 0, 0, 0, 1, 0, 0, 1, 0, 0, 0, 1, 0, 1, 1, 1, 0, 0, 0, 1,\n",
       "       0, 0, 0, 0, 0, 0, 1, 0, 0, 0, 0, 0, 0, 1, 0, 0, 1, 1, 1, 1, 1, 0,\n",
       "       1, 0, 0, 0, 1, 0, 0, 1, 1, 0, 0, 1, 0, 1, 0, 0, 1, 1, 0, 0, 0, 1,\n",
       "       1, 0, 1, 0, 0, 0, 0, 1, 0, 0, 0])"
      ]
     },
     "execution_count": 55,
     "metadata": {},
     "output_type": "execute_result"
    }
   ],
   "source": [
    "pred_y"
   ]
  },
  {
   "cell_type": "code",
   "execution_count": 56,
   "id": "70997994",
   "metadata": {
    "execution": {
     "iopub.execute_input": "2023-03-16T08:29:41.101924Z",
     "iopub.status.busy": "2023-03-16T08:29:41.101148Z",
     "iopub.status.idle": "2023-03-16T08:29:41.113089Z",
     "shell.execute_reply": "2023-03-16T08:29:41.111492Z"
    },
    "papermill": {
     "duration": 0.037311,
     "end_time": "2023-03-16T08:29:41.116069",
     "exception": false,
     "start_time": "2023-03-16T08:29:41.078758",
     "status": "completed"
    },
    "tags": []
   },
   "outputs": [
    {
     "name": "stdout",
     "output_type": "stream",
     "text": [
      "              precision    recall  f1-score   support\n",
      "\n",
      "           0       0.91      0.84      0.88       596\n",
      "           1       0.73      0.84      0.78       295\n",
      "\n",
      "    accuracy                           0.84       891\n",
      "   macro avg       0.82      0.84      0.83       891\n",
      "weighted avg       0.85      0.84      0.84       891\n",
      "\n"
     ]
    }
   ],
   "source": [
    "print(metrics.classification_report(pred_y, y))"
   ]
  },
  {
   "cell_type": "markdown",
   "id": "fa577e18",
   "metadata": {
    "papermill": {
     "duration": 0.020961,
     "end_time": "2023-03-16T08:29:41.158717",
     "exception": false,
     "start_time": "2023-03-16T08:29:41.137756",
     "status": "completed"
    },
    "tags": []
   },
   "source": [
    "\n",
    "\n",
    "# Submission"
   ]
  },
  {
   "cell_type": "code",
   "execution_count": 57,
   "id": "556c0551",
   "metadata": {
    "execution": {
     "iopub.execute_input": "2023-03-16T08:29:41.203919Z",
     "iopub.status.busy": "2023-03-16T08:29:41.203507Z",
     "iopub.status.idle": "2023-03-16T08:29:42.191471Z",
     "shell.execute_reply": "2023-03-16T08:29:42.190321Z"
    },
    "papermill": {
     "duration": 1.014893,
     "end_time": "2023-03-16T08:29:42.194682",
     "exception": false,
     "start_time": "2023-03-16T08:29:41.179789",
     "status": "completed"
    },
    "tags": []
   },
   "outputs": [
    {
     "name": "stdout",
     "output_type": "stream",
     "text": [
      "Your submission was successfully saved!\n"
     ]
    }
   ],
   "source": [
    "model_rf.fit(X, y)\n",
    "predictions = model_rf.predict(X_test)\n",
    "\n",
    "output = pd.DataFrame({'PassengerId': test_data.PassengerId, 'Survived': predictions})\n",
    "output.to_csv('submission.csv', index=False)\n",
    "print(\"Your submission was successfully saved!\")"
   ]
  },
  {
   "cell_type": "code",
   "execution_count": null,
   "id": "2b365120",
   "metadata": {
    "papermill": {
     "duration": 0.022949,
     "end_time": "2023-03-16T08:29:42.240082",
     "exception": false,
     "start_time": "2023-03-16T08:29:42.217133",
     "status": "completed"
    },
    "tags": []
   },
   "outputs": [],
   "source": []
  }
 ],
 "metadata": {
  "kernelspec": {
   "display_name": "Python 3",
   "language": "python",
   "name": "python3"
  },
  "language_info": {
   "codemirror_mode": {
    "name": "ipython",
    "version": 3
   },
   "file_extension": ".py",
   "mimetype": "text/x-python",
   "name": "python",
   "nbconvert_exporter": "python",
   "pygments_lexer": "ipython3",
   "version": "3.7.12"
  },
  "papermill": {
   "default_parameters": {},
   "duration": 34.86315,
   "end_time": "2023-03-16T08:29:43.287079",
   "environment_variables": {},
   "exception": null,
   "input_path": "__notebook__.ipynb",
   "output_path": "__notebook__.ipynb",
   "parameters": {},
   "start_time": "2023-03-16T08:29:08.423929",
   "version": "2.3.4"
  }
 },
 "nbformat": 4,
 "nbformat_minor": 5
}
