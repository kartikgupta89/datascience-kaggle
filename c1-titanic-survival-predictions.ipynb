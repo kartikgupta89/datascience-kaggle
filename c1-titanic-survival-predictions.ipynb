{
 "cells": [
  {
   "cell_type": "code",
   "execution_count": 1,
   "id": "46c56da9",
   "metadata": {
    "_cell_guid": "b1076dfc-b9ad-4769-8c92-a6c4dae69d19",
    "_uuid": "8f2839f25d086af736a60e9eeb907d3b93b6e0e5",
    "execution": {
     "iopub.execute_input": "2023-03-15T10:19:17.034003Z",
     "iopub.status.busy": "2023-03-15T10:19:17.033554Z",
     "iopub.status.idle": "2023-03-15T10:19:17.047925Z",
     "shell.execute_reply": "2023-03-15T10:19:17.047081Z"
    },
    "papermill": {
     "duration": 0.029378,
     "end_time": "2023-03-15T10:19:17.050717",
     "exception": false,
     "start_time": "2023-03-15T10:19:17.021339",
     "status": "completed"
    },
    "tags": []
   },
   "outputs": [
    {
     "name": "stdout",
     "output_type": "stream",
     "text": [
      "/kaggle/input/titanic/train.csv\n",
      "/kaggle/input/titanic/test.csv\n",
      "/kaggle/input/titanic/gender_submission.csv\n"
     ]
    }
   ],
   "source": [
    "# This Python 3 environment comes with many helpful analytics libraries installed\n",
    "# It is defined by the kaggle/python Docker image: https://github.com/kaggle/docker-python\n",
    "# For example, here's several helpful packages to load\n",
    "\n",
    "import numpy as np # linear algebra\n",
    "import pandas as pd # data processing, CSV file I/O (e.g. pd.read_csv)\n",
    "\n",
    "# Input data files are available in the read-only \"../input/\" directory\n",
    "# For example, running this (by clicking run or pressing Shift+Enter) will list all files under the input directory\n",
    "\n",
    "import os\n",
    "for dirname, _, filenames in os.walk('/kaggle/input'):\n",
    "    for filename in filenames:\n",
    "        print(os.path.join(dirname, filename))\n",
    "\n",
    "# You can write up to 20GB to the current directory (/kaggle/working/) that gets preserved as output when you create a version using \"Save & Run All\" \n",
    "# You can also write temporary files to /kaggle/temp/, but they won't be saved outside of the current session"
   ]
  },
  {
   "cell_type": "code",
   "execution_count": 2,
   "id": "0f8cbc4c",
   "metadata": {
    "execution": {
     "iopub.execute_input": "2023-03-15T10:19:17.071226Z",
     "iopub.status.busy": "2023-03-15T10:19:17.070833Z",
     "iopub.status.idle": "2023-03-15T10:19:18.179735Z",
     "shell.execute_reply": "2023-03-15T10:19:18.178506Z"
    },
    "papermill": {
     "duration": 1.122583,
     "end_time": "2023-03-15T10:19:18.182682",
     "exception": false,
     "start_time": "2023-03-15T10:19:17.060099",
     "status": "completed"
    },
    "tags": []
   },
   "outputs": [],
   "source": [
    "from sklearn.metrics import mean_absolute_error"
   ]
  },
  {
   "cell_type": "code",
   "execution_count": 3,
   "id": "aa6060a4",
   "metadata": {
    "execution": {
     "iopub.execute_input": "2023-03-15T10:19:18.203439Z",
     "iopub.status.busy": "2023-03-15T10:19:18.202470Z",
     "iopub.status.idle": "2023-03-15T10:19:18.246605Z",
     "shell.execute_reply": "2023-03-15T10:19:18.245438Z"
    },
    "papermill": {
     "duration": 0.057624,
     "end_time": "2023-03-15T10:19:18.249399",
     "exception": false,
     "start_time": "2023-03-15T10:19:18.191775",
     "status": "completed"
    },
    "tags": []
   },
   "outputs": [
    {
     "data": {
      "text/html": [
       "<div>\n",
       "<style scoped>\n",
       "    .dataframe tbody tr th:only-of-type {\n",
       "        vertical-align: middle;\n",
       "    }\n",
       "\n",
       "    .dataframe tbody tr th {\n",
       "        vertical-align: top;\n",
       "    }\n",
       "\n",
       "    .dataframe thead th {\n",
       "        text-align: right;\n",
       "    }\n",
       "</style>\n",
       "<table border=\"1\" class=\"dataframe\">\n",
       "  <thead>\n",
       "    <tr style=\"text-align: right;\">\n",
       "      <th></th>\n",
       "      <th>PassengerId</th>\n",
       "      <th>Survived</th>\n",
       "      <th>Pclass</th>\n",
       "      <th>Name</th>\n",
       "      <th>Sex</th>\n",
       "      <th>Age</th>\n",
       "      <th>SibSp</th>\n",
       "      <th>Parch</th>\n",
       "      <th>Ticket</th>\n",
       "      <th>Fare</th>\n",
       "      <th>Cabin</th>\n",
       "      <th>Embarked</th>\n",
       "    </tr>\n",
       "  </thead>\n",
       "  <tbody>\n",
       "    <tr>\n",
       "      <th>0</th>\n",
       "      <td>1</td>\n",
       "      <td>0</td>\n",
       "      <td>3</td>\n",
       "      <td>Braund, Mr. Owen Harris</td>\n",
       "      <td>male</td>\n",
       "      <td>22.0</td>\n",
       "      <td>1</td>\n",
       "      <td>0</td>\n",
       "      <td>A/5 21171</td>\n",
       "      <td>7.2500</td>\n",
       "      <td>NaN</td>\n",
       "      <td>S</td>\n",
       "    </tr>\n",
       "    <tr>\n",
       "      <th>1</th>\n",
       "      <td>2</td>\n",
       "      <td>1</td>\n",
       "      <td>1</td>\n",
       "      <td>Cumings, Mrs. John Bradley (Florence Briggs Th...</td>\n",
       "      <td>female</td>\n",
       "      <td>38.0</td>\n",
       "      <td>1</td>\n",
       "      <td>0</td>\n",
       "      <td>PC 17599</td>\n",
       "      <td>71.2833</td>\n",
       "      <td>C85</td>\n",
       "      <td>C</td>\n",
       "    </tr>\n",
       "    <tr>\n",
       "      <th>2</th>\n",
       "      <td>3</td>\n",
       "      <td>1</td>\n",
       "      <td>3</td>\n",
       "      <td>Heikkinen, Miss. Laina</td>\n",
       "      <td>female</td>\n",
       "      <td>26.0</td>\n",
       "      <td>0</td>\n",
       "      <td>0</td>\n",
       "      <td>STON/O2. 3101282</td>\n",
       "      <td>7.9250</td>\n",
       "      <td>NaN</td>\n",
       "      <td>S</td>\n",
       "    </tr>\n",
       "    <tr>\n",
       "      <th>3</th>\n",
       "      <td>4</td>\n",
       "      <td>1</td>\n",
       "      <td>1</td>\n",
       "      <td>Futrelle, Mrs. Jacques Heath (Lily May Peel)</td>\n",
       "      <td>female</td>\n",
       "      <td>35.0</td>\n",
       "      <td>1</td>\n",
       "      <td>0</td>\n",
       "      <td>113803</td>\n",
       "      <td>53.1000</td>\n",
       "      <td>C123</td>\n",
       "      <td>S</td>\n",
       "    </tr>\n",
       "    <tr>\n",
       "      <th>4</th>\n",
       "      <td>5</td>\n",
       "      <td>0</td>\n",
       "      <td>3</td>\n",
       "      <td>Allen, Mr. William Henry</td>\n",
       "      <td>male</td>\n",
       "      <td>35.0</td>\n",
       "      <td>0</td>\n",
       "      <td>0</td>\n",
       "      <td>373450</td>\n",
       "      <td>8.0500</td>\n",
       "      <td>NaN</td>\n",
       "      <td>S</td>\n",
       "    </tr>\n",
       "  </tbody>\n",
       "</table>\n",
       "</div>"
      ],
      "text/plain": [
       "   PassengerId  Survived  Pclass  \\\n",
       "0            1         0       3   \n",
       "1            2         1       1   \n",
       "2            3         1       3   \n",
       "3            4         1       1   \n",
       "4            5         0       3   \n",
       "\n",
       "                                                Name     Sex   Age  SibSp  \\\n",
       "0                            Braund, Mr. Owen Harris    male  22.0      1   \n",
       "1  Cumings, Mrs. John Bradley (Florence Briggs Th...  female  38.0      1   \n",
       "2                             Heikkinen, Miss. Laina  female  26.0      0   \n",
       "3       Futrelle, Mrs. Jacques Heath (Lily May Peel)  female  35.0      1   \n",
       "4                           Allen, Mr. William Henry    male  35.0      0   \n",
       "\n",
       "   Parch            Ticket     Fare Cabin Embarked  \n",
       "0      0         A/5 21171   7.2500   NaN        S  \n",
       "1      0          PC 17599  71.2833   C85        C  \n",
       "2      0  STON/O2. 3101282   7.9250   NaN        S  \n",
       "3      0            113803  53.1000  C123        S  \n",
       "4      0            373450   8.0500   NaN        S  "
      ]
     },
     "execution_count": 3,
     "metadata": {},
     "output_type": "execute_result"
    }
   ],
   "source": [
    "train_data = pd.read_csv(\"/kaggle/input/titanic/train.csv\")\n",
    "train_data.head()"
   ]
  },
  {
   "cell_type": "code",
   "execution_count": 4,
   "id": "5a9a2407",
   "metadata": {
    "execution": {
     "iopub.execute_input": "2023-03-15T10:19:18.269801Z",
     "iopub.status.busy": "2023-03-15T10:19:18.269402Z",
     "iopub.status.idle": "2023-03-15T10:19:18.312858Z",
     "shell.execute_reply": "2023-03-15T10:19:18.311812Z"
    },
    "papermill": {
     "duration": 0.056903,
     "end_time": "2023-03-15T10:19:18.315704",
     "exception": false,
     "start_time": "2023-03-15T10:19:18.258801",
     "status": "completed"
    },
    "tags": []
   },
   "outputs": [
    {
     "data": {
      "text/html": [
       "<div>\n",
       "<style scoped>\n",
       "    .dataframe tbody tr th:only-of-type {\n",
       "        vertical-align: middle;\n",
       "    }\n",
       "\n",
       "    .dataframe tbody tr th {\n",
       "        vertical-align: top;\n",
       "    }\n",
       "\n",
       "    .dataframe thead th {\n",
       "        text-align: right;\n",
       "    }\n",
       "</style>\n",
       "<table border=\"1\" class=\"dataframe\">\n",
       "  <thead>\n",
       "    <tr style=\"text-align: right;\">\n",
       "      <th></th>\n",
       "      <th>PassengerId</th>\n",
       "      <th>Survived</th>\n",
       "      <th>Pclass</th>\n",
       "      <th>Age</th>\n",
       "      <th>SibSp</th>\n",
       "      <th>Parch</th>\n",
       "      <th>Fare</th>\n",
       "    </tr>\n",
       "  </thead>\n",
       "  <tbody>\n",
       "    <tr>\n",
       "      <th>count</th>\n",
       "      <td>891.000000</td>\n",
       "      <td>891.000000</td>\n",
       "      <td>891.000000</td>\n",
       "      <td>714.000000</td>\n",
       "      <td>891.000000</td>\n",
       "      <td>891.000000</td>\n",
       "      <td>891.000000</td>\n",
       "    </tr>\n",
       "    <tr>\n",
       "      <th>mean</th>\n",
       "      <td>446.000000</td>\n",
       "      <td>0.383838</td>\n",
       "      <td>2.308642</td>\n",
       "      <td>29.699118</td>\n",
       "      <td>0.523008</td>\n",
       "      <td>0.381594</td>\n",
       "      <td>32.204208</td>\n",
       "    </tr>\n",
       "    <tr>\n",
       "      <th>std</th>\n",
       "      <td>257.353842</td>\n",
       "      <td>0.486592</td>\n",
       "      <td>0.836071</td>\n",
       "      <td>14.526497</td>\n",
       "      <td>1.102743</td>\n",
       "      <td>0.806057</td>\n",
       "      <td>49.693429</td>\n",
       "    </tr>\n",
       "    <tr>\n",
       "      <th>min</th>\n",
       "      <td>1.000000</td>\n",
       "      <td>0.000000</td>\n",
       "      <td>1.000000</td>\n",
       "      <td>0.420000</td>\n",
       "      <td>0.000000</td>\n",
       "      <td>0.000000</td>\n",
       "      <td>0.000000</td>\n",
       "    </tr>\n",
       "    <tr>\n",
       "      <th>25%</th>\n",
       "      <td>223.500000</td>\n",
       "      <td>0.000000</td>\n",
       "      <td>2.000000</td>\n",
       "      <td>20.125000</td>\n",
       "      <td>0.000000</td>\n",
       "      <td>0.000000</td>\n",
       "      <td>7.910400</td>\n",
       "    </tr>\n",
       "    <tr>\n",
       "      <th>50%</th>\n",
       "      <td>446.000000</td>\n",
       "      <td>0.000000</td>\n",
       "      <td>3.000000</td>\n",
       "      <td>28.000000</td>\n",
       "      <td>0.000000</td>\n",
       "      <td>0.000000</td>\n",
       "      <td>14.454200</td>\n",
       "    </tr>\n",
       "    <tr>\n",
       "      <th>75%</th>\n",
       "      <td>668.500000</td>\n",
       "      <td>1.000000</td>\n",
       "      <td>3.000000</td>\n",
       "      <td>38.000000</td>\n",
       "      <td>1.000000</td>\n",
       "      <td>0.000000</td>\n",
       "      <td>31.000000</td>\n",
       "    </tr>\n",
       "    <tr>\n",
       "      <th>max</th>\n",
       "      <td>891.000000</td>\n",
       "      <td>1.000000</td>\n",
       "      <td>3.000000</td>\n",
       "      <td>80.000000</td>\n",
       "      <td>8.000000</td>\n",
       "      <td>6.000000</td>\n",
       "      <td>512.329200</td>\n",
       "    </tr>\n",
       "  </tbody>\n",
       "</table>\n",
       "</div>"
      ],
      "text/plain": [
       "       PassengerId    Survived      Pclass         Age       SibSp  \\\n",
       "count   891.000000  891.000000  891.000000  714.000000  891.000000   \n",
       "mean    446.000000    0.383838    2.308642   29.699118    0.523008   \n",
       "std     257.353842    0.486592    0.836071   14.526497    1.102743   \n",
       "min       1.000000    0.000000    1.000000    0.420000    0.000000   \n",
       "25%     223.500000    0.000000    2.000000   20.125000    0.000000   \n",
       "50%     446.000000    0.000000    3.000000   28.000000    0.000000   \n",
       "75%     668.500000    1.000000    3.000000   38.000000    1.000000   \n",
       "max     891.000000    1.000000    3.000000   80.000000    8.000000   \n",
       "\n",
       "            Parch        Fare  \n",
       "count  891.000000  891.000000  \n",
       "mean     0.381594   32.204208  \n",
       "std      0.806057   49.693429  \n",
       "min      0.000000    0.000000  \n",
       "25%      0.000000    7.910400  \n",
       "50%      0.000000   14.454200  \n",
       "75%      0.000000   31.000000  \n",
       "max      6.000000  512.329200  "
      ]
     },
     "execution_count": 4,
     "metadata": {},
     "output_type": "execute_result"
    }
   ],
   "source": [
    "train_data.describe()"
   ]
  },
  {
   "cell_type": "code",
   "execution_count": 5,
   "id": "e1938fd3",
   "metadata": {
    "execution": {
     "iopub.execute_input": "2023-03-15T10:19:18.336762Z",
     "iopub.status.busy": "2023-03-15T10:19:18.336337Z",
     "iopub.status.idle": "2023-03-15T10:19:18.360392Z",
     "shell.execute_reply": "2023-03-15T10:19:18.359094Z"
    },
    "papermill": {
     "duration": 0.037756,
     "end_time": "2023-03-15T10:19:18.362945",
     "exception": false,
     "start_time": "2023-03-15T10:19:18.325189",
     "status": "completed"
    },
    "tags": []
   },
   "outputs": [
    {
     "data": {
      "text/html": [
       "<div>\n",
       "<style scoped>\n",
       "    .dataframe tbody tr th:only-of-type {\n",
       "        vertical-align: middle;\n",
       "    }\n",
       "\n",
       "    .dataframe tbody tr th {\n",
       "        vertical-align: top;\n",
       "    }\n",
       "\n",
       "    .dataframe thead th {\n",
       "        text-align: right;\n",
       "    }\n",
       "</style>\n",
       "<table border=\"1\" class=\"dataframe\">\n",
       "  <thead>\n",
       "    <tr style=\"text-align: right;\">\n",
       "      <th></th>\n",
       "      <th>PassengerId</th>\n",
       "      <th>Pclass</th>\n",
       "      <th>Name</th>\n",
       "      <th>Sex</th>\n",
       "      <th>Age</th>\n",
       "      <th>SibSp</th>\n",
       "      <th>Parch</th>\n",
       "      <th>Ticket</th>\n",
       "      <th>Fare</th>\n",
       "      <th>Cabin</th>\n",
       "      <th>Embarked</th>\n",
       "    </tr>\n",
       "  </thead>\n",
       "  <tbody>\n",
       "    <tr>\n",
       "      <th>0</th>\n",
       "      <td>892</td>\n",
       "      <td>3</td>\n",
       "      <td>Kelly, Mr. James</td>\n",
       "      <td>male</td>\n",
       "      <td>34.5</td>\n",
       "      <td>0</td>\n",
       "      <td>0</td>\n",
       "      <td>330911</td>\n",
       "      <td>7.8292</td>\n",
       "      <td>NaN</td>\n",
       "      <td>Q</td>\n",
       "    </tr>\n",
       "    <tr>\n",
       "      <th>1</th>\n",
       "      <td>893</td>\n",
       "      <td>3</td>\n",
       "      <td>Wilkes, Mrs. James (Ellen Needs)</td>\n",
       "      <td>female</td>\n",
       "      <td>47.0</td>\n",
       "      <td>1</td>\n",
       "      <td>0</td>\n",
       "      <td>363272</td>\n",
       "      <td>7.0000</td>\n",
       "      <td>NaN</td>\n",
       "      <td>S</td>\n",
       "    </tr>\n",
       "    <tr>\n",
       "      <th>2</th>\n",
       "      <td>894</td>\n",
       "      <td>2</td>\n",
       "      <td>Myles, Mr. Thomas Francis</td>\n",
       "      <td>male</td>\n",
       "      <td>62.0</td>\n",
       "      <td>0</td>\n",
       "      <td>0</td>\n",
       "      <td>240276</td>\n",
       "      <td>9.6875</td>\n",
       "      <td>NaN</td>\n",
       "      <td>Q</td>\n",
       "    </tr>\n",
       "    <tr>\n",
       "      <th>3</th>\n",
       "      <td>895</td>\n",
       "      <td>3</td>\n",
       "      <td>Wirz, Mr. Albert</td>\n",
       "      <td>male</td>\n",
       "      <td>27.0</td>\n",
       "      <td>0</td>\n",
       "      <td>0</td>\n",
       "      <td>315154</td>\n",
       "      <td>8.6625</td>\n",
       "      <td>NaN</td>\n",
       "      <td>S</td>\n",
       "    </tr>\n",
       "    <tr>\n",
       "      <th>4</th>\n",
       "      <td>896</td>\n",
       "      <td>3</td>\n",
       "      <td>Hirvonen, Mrs. Alexander (Helga E Lindqvist)</td>\n",
       "      <td>female</td>\n",
       "      <td>22.0</td>\n",
       "      <td>1</td>\n",
       "      <td>1</td>\n",
       "      <td>3101298</td>\n",
       "      <td>12.2875</td>\n",
       "      <td>NaN</td>\n",
       "      <td>S</td>\n",
       "    </tr>\n",
       "  </tbody>\n",
       "</table>\n",
       "</div>"
      ],
      "text/plain": [
       "   PassengerId  Pclass                                          Name     Sex  \\\n",
       "0          892       3                              Kelly, Mr. James    male   \n",
       "1          893       3              Wilkes, Mrs. James (Ellen Needs)  female   \n",
       "2          894       2                     Myles, Mr. Thomas Francis    male   \n",
       "3          895       3                              Wirz, Mr. Albert    male   \n",
       "4          896       3  Hirvonen, Mrs. Alexander (Helga E Lindqvist)  female   \n",
       "\n",
       "    Age  SibSp  Parch   Ticket     Fare Cabin Embarked  \n",
       "0  34.5      0      0   330911   7.8292   NaN        Q  \n",
       "1  47.0      1      0   363272   7.0000   NaN        S  \n",
       "2  62.0      0      0   240276   9.6875   NaN        Q  \n",
       "3  27.0      0      0   315154   8.6625   NaN        S  \n",
       "4  22.0      1      1  3101298  12.2875   NaN        S  "
      ]
     },
     "execution_count": 5,
     "metadata": {},
     "output_type": "execute_result"
    }
   ],
   "source": [
    "test_data = pd.read_csv(\"/kaggle/input/titanic/test.csv\")\n",
    "test_data.head()"
   ]
  },
  {
   "cell_type": "code",
   "execution_count": 6,
   "id": "3ef617d6",
   "metadata": {
    "execution": {
     "iopub.execute_input": "2023-03-15T10:19:18.384699Z",
     "iopub.status.busy": "2023-03-15T10:19:18.384314Z",
     "iopub.status.idle": "2023-03-15T10:19:18.415916Z",
     "shell.execute_reply": "2023-03-15T10:19:18.414738Z"
    },
    "papermill": {
     "duration": 0.0456,
     "end_time": "2023-03-15T10:19:18.418344",
     "exception": false,
     "start_time": "2023-03-15T10:19:18.372744",
     "status": "completed"
    },
    "tags": []
   },
   "outputs": [
    {
     "data": {
      "text/html": [
       "<div>\n",
       "<style scoped>\n",
       "    .dataframe tbody tr th:only-of-type {\n",
       "        vertical-align: middle;\n",
       "    }\n",
       "\n",
       "    .dataframe tbody tr th {\n",
       "        vertical-align: top;\n",
       "    }\n",
       "\n",
       "    .dataframe thead th {\n",
       "        text-align: right;\n",
       "    }\n",
       "</style>\n",
       "<table border=\"1\" class=\"dataframe\">\n",
       "  <thead>\n",
       "    <tr style=\"text-align: right;\">\n",
       "      <th></th>\n",
       "      <th>PassengerId</th>\n",
       "      <th>Pclass</th>\n",
       "      <th>Age</th>\n",
       "      <th>SibSp</th>\n",
       "      <th>Parch</th>\n",
       "      <th>Fare</th>\n",
       "    </tr>\n",
       "  </thead>\n",
       "  <tbody>\n",
       "    <tr>\n",
       "      <th>count</th>\n",
       "      <td>418.000000</td>\n",
       "      <td>418.000000</td>\n",
       "      <td>332.000000</td>\n",
       "      <td>418.000000</td>\n",
       "      <td>418.000000</td>\n",
       "      <td>417.000000</td>\n",
       "    </tr>\n",
       "    <tr>\n",
       "      <th>mean</th>\n",
       "      <td>1100.500000</td>\n",
       "      <td>2.265550</td>\n",
       "      <td>30.272590</td>\n",
       "      <td>0.447368</td>\n",
       "      <td>0.392344</td>\n",
       "      <td>35.627188</td>\n",
       "    </tr>\n",
       "    <tr>\n",
       "      <th>std</th>\n",
       "      <td>120.810458</td>\n",
       "      <td>0.841838</td>\n",
       "      <td>14.181209</td>\n",
       "      <td>0.896760</td>\n",
       "      <td>0.981429</td>\n",
       "      <td>55.907576</td>\n",
       "    </tr>\n",
       "    <tr>\n",
       "      <th>min</th>\n",
       "      <td>892.000000</td>\n",
       "      <td>1.000000</td>\n",
       "      <td>0.170000</td>\n",
       "      <td>0.000000</td>\n",
       "      <td>0.000000</td>\n",
       "      <td>0.000000</td>\n",
       "    </tr>\n",
       "    <tr>\n",
       "      <th>25%</th>\n",
       "      <td>996.250000</td>\n",
       "      <td>1.000000</td>\n",
       "      <td>21.000000</td>\n",
       "      <td>0.000000</td>\n",
       "      <td>0.000000</td>\n",
       "      <td>7.895800</td>\n",
       "    </tr>\n",
       "    <tr>\n",
       "      <th>50%</th>\n",
       "      <td>1100.500000</td>\n",
       "      <td>3.000000</td>\n",
       "      <td>27.000000</td>\n",
       "      <td>0.000000</td>\n",
       "      <td>0.000000</td>\n",
       "      <td>14.454200</td>\n",
       "    </tr>\n",
       "    <tr>\n",
       "      <th>75%</th>\n",
       "      <td>1204.750000</td>\n",
       "      <td>3.000000</td>\n",
       "      <td>39.000000</td>\n",
       "      <td>1.000000</td>\n",
       "      <td>0.000000</td>\n",
       "      <td>31.500000</td>\n",
       "    </tr>\n",
       "    <tr>\n",
       "      <th>max</th>\n",
       "      <td>1309.000000</td>\n",
       "      <td>3.000000</td>\n",
       "      <td>76.000000</td>\n",
       "      <td>8.000000</td>\n",
       "      <td>9.000000</td>\n",
       "      <td>512.329200</td>\n",
       "    </tr>\n",
       "  </tbody>\n",
       "</table>\n",
       "</div>"
      ],
      "text/plain": [
       "       PassengerId      Pclass         Age       SibSp       Parch        Fare\n",
       "count   418.000000  418.000000  332.000000  418.000000  418.000000  417.000000\n",
       "mean   1100.500000    2.265550   30.272590    0.447368    0.392344   35.627188\n",
       "std     120.810458    0.841838   14.181209    0.896760    0.981429   55.907576\n",
       "min     892.000000    1.000000    0.170000    0.000000    0.000000    0.000000\n",
       "25%     996.250000    1.000000   21.000000    0.000000    0.000000    7.895800\n",
       "50%    1100.500000    3.000000   27.000000    0.000000    0.000000   14.454200\n",
       "75%    1204.750000    3.000000   39.000000    1.000000    0.000000   31.500000\n",
       "max    1309.000000    3.000000   76.000000    8.000000    9.000000  512.329200"
      ]
     },
     "execution_count": 6,
     "metadata": {},
     "output_type": "execute_result"
    }
   ],
   "source": [
    "test_data.describe()"
   ]
  },
  {
   "cell_type": "code",
   "execution_count": 7,
   "id": "396708f4",
   "metadata": {
    "execution": {
     "iopub.execute_input": "2023-03-15T10:19:18.441265Z",
     "iopub.status.busy": "2023-03-15T10:19:18.440861Z",
     "iopub.status.idle": "2023-03-15T10:19:18.448261Z",
     "shell.execute_reply": "2023-03-15T10:19:18.447076Z"
    },
    "papermill": {
     "duration": 0.021056,
     "end_time": "2023-03-15T10:19:18.450507",
     "exception": false,
     "start_time": "2023-03-15T10:19:18.429451",
     "status": "completed"
    },
    "tags": []
   },
   "outputs": [
    {
     "data": {
      "text/plain": [
       "Index(['PassengerId', 'Survived', 'Pclass', 'Name', 'Sex', 'Age', 'SibSp',\n",
       "       'Parch', 'Ticket', 'Fare', 'Cabin', 'Embarked'],\n",
       "      dtype='object')"
      ]
     },
     "execution_count": 7,
     "metadata": {},
     "output_type": "execute_result"
    }
   ],
   "source": [
    "train_data.columns"
   ]
  },
  {
   "cell_type": "code",
   "execution_count": 8,
   "id": "55f562b1",
   "metadata": {
    "execution": {
     "iopub.execute_input": "2023-03-15T10:19:18.472869Z",
     "iopub.status.busy": "2023-03-15T10:19:18.472463Z",
     "iopub.status.idle": "2023-03-15T10:19:18.480257Z",
     "shell.execute_reply": "2023-03-15T10:19:18.479356Z"
    },
    "papermill": {
     "duration": 0.021441,
     "end_time": "2023-03-15T10:19:18.482231",
     "exception": false,
     "start_time": "2023-03-15T10:19:18.460790",
     "status": "completed"
    },
    "tags": []
   },
   "outputs": [
    {
     "data": {
      "text/plain": [
       "PassengerId      int64\n",
       "Survived         int64\n",
       "Pclass           int64\n",
       "Name            object\n",
       "Sex             object\n",
       "Age            float64\n",
       "SibSp            int64\n",
       "Parch            int64\n",
       "Ticket          object\n",
       "Fare           float64\n",
       "Cabin           object\n",
       "Embarked        object\n",
       "dtype: object"
      ]
     },
     "execution_count": 8,
     "metadata": {},
     "output_type": "execute_result"
    }
   ],
   "source": [
    "train_data.dtypes"
   ]
  },
  {
   "cell_type": "code",
   "execution_count": 9,
   "id": "ef4375b5",
   "metadata": {
    "execution": {
     "iopub.execute_input": "2023-03-15T10:19:18.504351Z",
     "iopub.status.busy": "2023-03-15T10:19:18.503954Z",
     "iopub.status.idle": "2023-03-15T10:19:18.513837Z",
     "shell.execute_reply": "2023-03-15T10:19:18.512722Z"
    },
    "papermill": {
     "duration": 0.023529,
     "end_time": "2023-03-15T10:19:18.516071",
     "exception": false,
     "start_time": "2023-03-15T10:19:18.492542",
     "status": "completed"
    },
    "tags": []
   },
   "outputs": [
    {
     "data": {
      "text/plain": [
       "PassengerId      0\n",
       "Survived         0\n",
       "Pclass           0\n",
       "Name             0\n",
       "Sex              0\n",
       "Age            177\n",
       "SibSp            0\n",
       "Parch            0\n",
       "Ticket           0\n",
       "Fare             0\n",
       "Cabin          687\n",
       "Embarked         2\n",
       "dtype: int64"
      ]
     },
     "execution_count": 9,
     "metadata": {},
     "output_type": "execute_result"
    }
   ],
   "source": [
    "train_data.isnull().sum()"
   ]
  },
  {
   "cell_type": "code",
   "execution_count": 10,
   "id": "0e83deb8",
   "metadata": {
    "execution": {
     "iopub.execute_input": "2023-03-15T10:19:18.538724Z",
     "iopub.status.busy": "2023-03-15T10:19:18.538303Z",
     "iopub.status.idle": "2023-03-15T10:19:18.566054Z",
     "shell.execute_reply": "2023-03-15T10:19:18.564923Z"
    },
    "papermill": {
     "duration": 0.041531,
     "end_time": "2023-03-15T10:19:18.568264",
     "exception": false,
     "start_time": "2023-03-15T10:19:18.526733",
     "status": "completed"
    },
    "tags": []
   },
   "outputs": [
    {
     "data": {
      "text/html": [
       "<div>\n",
       "<style scoped>\n",
       "    .dataframe tbody tr th:only-of-type {\n",
       "        vertical-align: middle;\n",
       "    }\n",
       "\n",
       "    .dataframe tbody tr th {\n",
       "        vertical-align: top;\n",
       "    }\n",
       "\n",
       "    .dataframe thead th {\n",
       "        text-align: right;\n",
       "    }\n",
       "</style>\n",
       "<table border=\"1\" class=\"dataframe\">\n",
       "  <thead>\n",
       "    <tr style=\"text-align: right;\">\n",
       "      <th></th>\n",
       "      <th>PassengerId</th>\n",
       "      <th>Survived</th>\n",
       "      <th>Pclass</th>\n",
       "      <th>Name</th>\n",
       "      <th>Sex</th>\n",
       "      <th>Age</th>\n",
       "      <th>SibSp</th>\n",
       "      <th>Parch</th>\n",
       "      <th>Ticket</th>\n",
       "      <th>Fare</th>\n",
       "      <th>Cabin</th>\n",
       "      <th>Embarked</th>\n",
       "    </tr>\n",
       "  </thead>\n",
       "  <tbody>\n",
       "    <tr>\n",
       "      <th>5</th>\n",
       "      <td>6</td>\n",
       "      <td>0</td>\n",
       "      <td>3</td>\n",
       "      <td>Moran, Mr. James</td>\n",
       "      <td>male</td>\n",
       "      <td>NaN</td>\n",
       "      <td>0</td>\n",
       "      <td>0</td>\n",
       "      <td>330877</td>\n",
       "      <td>8.4583</td>\n",
       "      <td>NaN</td>\n",
       "      <td>Q</td>\n",
       "    </tr>\n",
       "    <tr>\n",
       "      <th>17</th>\n",
       "      <td>18</td>\n",
       "      <td>1</td>\n",
       "      <td>2</td>\n",
       "      <td>Williams, Mr. Charles Eugene</td>\n",
       "      <td>male</td>\n",
       "      <td>NaN</td>\n",
       "      <td>0</td>\n",
       "      <td>0</td>\n",
       "      <td>244373</td>\n",
       "      <td>13.0000</td>\n",
       "      <td>NaN</td>\n",
       "      <td>S</td>\n",
       "    </tr>\n",
       "    <tr>\n",
       "      <th>19</th>\n",
       "      <td>20</td>\n",
       "      <td>1</td>\n",
       "      <td>3</td>\n",
       "      <td>Masselmani, Mrs. Fatima</td>\n",
       "      <td>female</td>\n",
       "      <td>NaN</td>\n",
       "      <td>0</td>\n",
       "      <td>0</td>\n",
       "      <td>2649</td>\n",
       "      <td>7.2250</td>\n",
       "      <td>NaN</td>\n",
       "      <td>C</td>\n",
       "    </tr>\n",
       "    <tr>\n",
       "      <th>26</th>\n",
       "      <td>27</td>\n",
       "      <td>0</td>\n",
       "      <td>3</td>\n",
       "      <td>Emir, Mr. Farred Chehab</td>\n",
       "      <td>male</td>\n",
       "      <td>NaN</td>\n",
       "      <td>0</td>\n",
       "      <td>0</td>\n",
       "      <td>2631</td>\n",
       "      <td>7.2250</td>\n",
       "      <td>NaN</td>\n",
       "      <td>C</td>\n",
       "    </tr>\n",
       "    <tr>\n",
       "      <th>28</th>\n",
       "      <td>29</td>\n",
       "      <td>1</td>\n",
       "      <td>3</td>\n",
       "      <td>O'Dwyer, Miss. Ellen \"Nellie\"</td>\n",
       "      <td>female</td>\n",
       "      <td>NaN</td>\n",
       "      <td>0</td>\n",
       "      <td>0</td>\n",
       "      <td>330959</td>\n",
       "      <td>7.8792</td>\n",
       "      <td>NaN</td>\n",
       "      <td>Q</td>\n",
       "    </tr>\n",
       "    <tr>\n",
       "      <th>...</th>\n",
       "      <td>...</td>\n",
       "      <td>...</td>\n",
       "      <td>...</td>\n",
       "      <td>...</td>\n",
       "      <td>...</td>\n",
       "      <td>...</td>\n",
       "      <td>...</td>\n",
       "      <td>...</td>\n",
       "      <td>...</td>\n",
       "      <td>...</td>\n",
       "      <td>...</td>\n",
       "      <td>...</td>\n",
       "    </tr>\n",
       "    <tr>\n",
       "      <th>859</th>\n",
       "      <td>860</td>\n",
       "      <td>0</td>\n",
       "      <td>3</td>\n",
       "      <td>Razi, Mr. Raihed</td>\n",
       "      <td>male</td>\n",
       "      <td>NaN</td>\n",
       "      <td>0</td>\n",
       "      <td>0</td>\n",
       "      <td>2629</td>\n",
       "      <td>7.2292</td>\n",
       "      <td>NaN</td>\n",
       "      <td>C</td>\n",
       "    </tr>\n",
       "    <tr>\n",
       "      <th>863</th>\n",
       "      <td>864</td>\n",
       "      <td>0</td>\n",
       "      <td>3</td>\n",
       "      <td>Sage, Miss. Dorothy Edith \"Dolly\"</td>\n",
       "      <td>female</td>\n",
       "      <td>NaN</td>\n",
       "      <td>8</td>\n",
       "      <td>2</td>\n",
       "      <td>CA. 2343</td>\n",
       "      <td>69.5500</td>\n",
       "      <td>NaN</td>\n",
       "      <td>S</td>\n",
       "    </tr>\n",
       "    <tr>\n",
       "      <th>868</th>\n",
       "      <td>869</td>\n",
       "      <td>0</td>\n",
       "      <td>3</td>\n",
       "      <td>van Melkebeke, Mr. Philemon</td>\n",
       "      <td>male</td>\n",
       "      <td>NaN</td>\n",
       "      <td>0</td>\n",
       "      <td>0</td>\n",
       "      <td>345777</td>\n",
       "      <td>9.5000</td>\n",
       "      <td>NaN</td>\n",
       "      <td>S</td>\n",
       "    </tr>\n",
       "    <tr>\n",
       "      <th>878</th>\n",
       "      <td>879</td>\n",
       "      <td>0</td>\n",
       "      <td>3</td>\n",
       "      <td>Laleff, Mr. Kristo</td>\n",
       "      <td>male</td>\n",
       "      <td>NaN</td>\n",
       "      <td>0</td>\n",
       "      <td>0</td>\n",
       "      <td>349217</td>\n",
       "      <td>7.8958</td>\n",
       "      <td>NaN</td>\n",
       "      <td>S</td>\n",
       "    </tr>\n",
       "    <tr>\n",
       "      <th>888</th>\n",
       "      <td>889</td>\n",
       "      <td>0</td>\n",
       "      <td>3</td>\n",
       "      <td>Johnston, Miss. Catherine Helen \"Carrie\"</td>\n",
       "      <td>female</td>\n",
       "      <td>NaN</td>\n",
       "      <td>1</td>\n",
       "      <td>2</td>\n",
       "      <td>W./C. 6607</td>\n",
       "      <td>23.4500</td>\n",
       "      <td>NaN</td>\n",
       "      <td>S</td>\n",
       "    </tr>\n",
       "  </tbody>\n",
       "</table>\n",
       "<p>177 rows × 12 columns</p>\n",
       "</div>"
      ],
      "text/plain": [
       "     PassengerId  Survived  Pclass                                      Name  \\\n",
       "5              6         0       3                          Moran, Mr. James   \n",
       "17            18         1       2              Williams, Mr. Charles Eugene   \n",
       "19            20         1       3                   Masselmani, Mrs. Fatima   \n",
       "26            27         0       3                   Emir, Mr. Farred Chehab   \n",
       "28            29         1       3             O'Dwyer, Miss. Ellen \"Nellie\"   \n",
       "..           ...       ...     ...                                       ...   \n",
       "859          860         0       3                          Razi, Mr. Raihed   \n",
       "863          864         0       3         Sage, Miss. Dorothy Edith \"Dolly\"   \n",
       "868          869         0       3               van Melkebeke, Mr. Philemon   \n",
       "878          879         0       3                        Laleff, Mr. Kristo   \n",
       "888          889         0       3  Johnston, Miss. Catherine Helen \"Carrie\"   \n",
       "\n",
       "        Sex  Age  SibSp  Parch      Ticket     Fare Cabin Embarked  \n",
       "5      male  NaN      0      0      330877   8.4583   NaN        Q  \n",
       "17     male  NaN      0      0      244373  13.0000   NaN        S  \n",
       "19   female  NaN      0      0        2649   7.2250   NaN        C  \n",
       "26     male  NaN      0      0        2631   7.2250   NaN        C  \n",
       "28   female  NaN      0      0      330959   7.8792   NaN        Q  \n",
       "..      ...  ...    ...    ...         ...      ...   ...      ...  \n",
       "859    male  NaN      0      0        2629   7.2292   NaN        C  \n",
       "863  female  NaN      8      2    CA. 2343  69.5500   NaN        S  \n",
       "868    male  NaN      0      0      345777   9.5000   NaN        S  \n",
       "878    male  NaN      0      0      349217   7.8958   NaN        S  \n",
       "888  female  NaN      1      2  W./C. 6607  23.4500   NaN        S  \n",
       "\n",
       "[177 rows x 12 columns]"
      ]
     },
     "execution_count": 10,
     "metadata": {},
     "output_type": "execute_result"
    }
   ],
   "source": [
    "train_data[train_data.Age.isna()]"
   ]
  },
  {
   "cell_type": "code",
   "execution_count": 11,
   "id": "bc38740f",
   "metadata": {
    "execution": {
     "iopub.execute_input": "2023-03-15T10:19:18.592652Z",
     "iopub.status.busy": "2023-03-15T10:19:18.592232Z",
     "iopub.status.idle": "2023-03-15T10:19:18.604797Z",
     "shell.execute_reply": "2023-03-15T10:19:18.603976Z"
    },
    "papermill": {
     "duration": 0.028036,
     "end_time": "2023-03-15T10:19:18.606965",
     "exception": false,
     "start_time": "2023-03-15T10:19:18.578929",
     "status": "completed"
    },
    "tags": []
   },
   "outputs": [
    {
     "data": {
      "text/plain": [
       "Pclass\n",
       "1    38.233441\n",
       "2    29.877630\n",
       "3    25.140620\n",
       "Name: Age, dtype: float64"
      ]
     },
     "execution_count": 11,
     "metadata": {},
     "output_type": "execute_result"
    }
   ],
   "source": [
    "train_data.groupby('Pclass').mean()['Age']"
   ]
  },
  {
   "cell_type": "code",
   "execution_count": 12,
   "id": "8e9b331b",
   "metadata": {
    "execution": {
     "iopub.execute_input": "2023-03-15T10:19:18.630387Z",
     "iopub.status.busy": "2023-03-15T10:19:18.630006Z",
     "iopub.status.idle": "2023-03-15T10:19:18.641178Z",
     "shell.execute_reply": "2023-03-15T10:19:18.640103Z"
    },
    "papermill": {
     "duration": 0.02594,
     "end_time": "2023-03-15T10:19:18.643518",
     "exception": false,
     "start_time": "2023-03-15T10:19:18.617578",
     "status": "completed"
    },
    "tags": []
   },
   "outputs": [
    {
     "data": {
      "text/plain": [
       "25.14061971830986"
      ]
     },
     "execution_count": 12,
     "metadata": {},
     "output_type": "execute_result"
    }
   ],
   "source": [
    "train_data.groupby('Pclass').mean()['Age'][3]"
   ]
  },
  {
   "cell_type": "code",
   "execution_count": 13,
   "id": "6339ab62",
   "metadata": {
    "execution": {
     "iopub.execute_input": "2023-03-15T10:19:18.667138Z",
     "iopub.status.busy": "2023-03-15T10:19:18.666713Z",
     "iopub.status.idle": "2023-03-15T10:19:18.672157Z",
     "shell.execute_reply": "2023-03-15T10:19:18.671022Z"
    },
    "papermill": {
     "duration": 0.01998,
     "end_time": "2023-03-15T10:19:18.674422",
     "exception": false,
     "start_time": "2023-03-15T10:19:18.654442",
     "status": "completed"
    },
    "tags": []
   },
   "outputs": [],
   "source": [
    "def age_approx(cols):\n",
    "    Age = cols[0]\n",
    "    Pclass = cols[1]\n",
    "    if pd.isnull(Age):\n",
    "        return train_data.groupby('Pclass').mean()['Age'][Pclass]\n",
    "    else: \n",
    "        return Age"
   ]
  },
  {
   "cell_type": "code",
   "execution_count": 14,
   "id": "567d541c",
   "metadata": {
    "execution": {
     "iopub.execute_input": "2023-03-15T10:19:18.698027Z",
     "iopub.status.busy": "2023-03-15T10:19:18.697606Z",
     "iopub.status.idle": "2023-03-15T10:19:19.158760Z",
     "shell.execute_reply": "2023-03-15T10:19:19.157812Z"
    },
    "papermill": {
     "duration": 0.476143,
     "end_time": "2023-03-15T10:19:19.161487",
     "exception": false,
     "start_time": "2023-03-15T10:19:18.685344",
     "status": "completed"
    },
    "tags": []
   },
   "outputs": [],
   "source": [
    "train_data['Age'] = train_data[['Age','Pclass']].apply(age_approx, axis=1)\n",
    "test_data['Age'] = test_data[['Age','Pclass']].apply(age_approx, axis=1)"
   ]
  },
  {
   "cell_type": "code",
   "execution_count": 15,
   "id": "06200d72",
   "metadata": {
    "execution": {
     "iopub.execute_input": "2023-03-15T10:19:19.185049Z",
     "iopub.status.busy": "2023-03-15T10:19:19.184622Z",
     "iopub.status.idle": "2023-03-15T10:19:19.194079Z",
     "shell.execute_reply": "2023-03-15T10:19:19.192988Z"
    },
    "papermill": {
     "duration": 0.024189,
     "end_time": "2023-03-15T10:19:19.196592",
     "exception": false,
     "start_time": "2023-03-15T10:19:19.172403",
     "status": "completed"
    },
    "tags": []
   },
   "outputs": [
    {
     "data": {
      "text/plain": [
       "PassengerId      0\n",
       "Survived         0\n",
       "Pclass           0\n",
       "Name             0\n",
       "Sex              0\n",
       "Age              0\n",
       "SibSp            0\n",
       "Parch            0\n",
       "Ticket           0\n",
       "Fare             0\n",
       "Cabin          687\n",
       "Embarked         2\n",
       "dtype: int64"
      ]
     },
     "execution_count": 15,
     "metadata": {},
     "output_type": "execute_result"
    }
   ],
   "source": [
    "train_data.isna().sum()"
   ]
  },
  {
   "cell_type": "code",
   "execution_count": 16,
   "id": "775d855e",
   "metadata": {
    "execution": {
     "iopub.execute_input": "2023-03-15T10:19:19.220697Z",
     "iopub.status.busy": "2023-03-15T10:19:19.220317Z",
     "iopub.status.idle": "2023-03-15T10:19:19.229629Z",
     "shell.execute_reply": "2023-03-15T10:19:19.228551Z"
    },
    "papermill": {
     "duration": 0.024285,
     "end_time": "2023-03-15T10:19:19.232000",
     "exception": false,
     "start_time": "2023-03-15T10:19:19.207715",
     "status": "completed"
    },
    "tags": []
   },
   "outputs": [
    {
     "data": {
      "text/plain": [
       "PassengerId      0\n",
       "Pclass           0\n",
       "Name             0\n",
       "Sex              0\n",
       "Age              0\n",
       "SibSp            0\n",
       "Parch            0\n",
       "Ticket           0\n",
       "Fare             1\n",
       "Cabin          327\n",
       "Embarked         0\n",
       "dtype: int64"
      ]
     },
     "execution_count": 16,
     "metadata": {},
     "output_type": "execute_result"
    }
   ],
   "source": [
    "test_data.isna().sum()"
   ]
  },
  {
   "cell_type": "code",
   "execution_count": 17,
   "id": "9c3fc0bd",
   "metadata": {
    "execution": {
     "iopub.execute_input": "2023-03-15T10:19:19.256035Z",
     "iopub.status.busy": "2023-03-15T10:19:19.255620Z",
     "iopub.status.idle": "2023-03-15T10:19:19.262858Z",
     "shell.execute_reply": "2023-03-15T10:19:19.261727Z"
    },
    "jupyter": {
     "source_hidden": true
    },
    "papermill": {
     "duration": 0.022471,
     "end_time": "2023-03-15T10:19:19.265659",
     "exception": false,
     "start_time": "2023-03-15T10:19:19.243188",
     "status": "completed"
    },
    "tags": []
   },
   "outputs": [
    {
     "name": "stdout",
     "output_type": "stream",
     "text": [
      "% of women who survived: 0.7420382165605095\n"
     ]
    }
   ],
   "source": [
    "women = train_data.loc[train_data.Sex == 'female'][\"Survived\"]\n",
    "rate_women = sum(women)/len(women)\n",
    "\n",
    "# print(women)\n",
    "print(\"% of women who survived:\", rate_women)"
   ]
  },
  {
   "cell_type": "code",
   "execution_count": 18,
   "id": "df81bf3d",
   "metadata": {
    "execution": {
     "iopub.execute_input": "2023-03-15T10:19:19.289875Z",
     "iopub.status.busy": "2023-03-15T10:19:19.289470Z",
     "iopub.status.idle": "2023-03-15T10:19:19.297658Z",
     "shell.execute_reply": "2023-03-15T10:19:19.295937Z"
    },
    "jupyter": {
     "source_hidden": true
    },
    "papermill": {
     "duration": 0.023435,
     "end_time": "2023-03-15T10:19:19.300391",
     "exception": false,
     "start_time": "2023-03-15T10:19:19.276956",
     "status": "completed"
    },
    "tags": []
   },
   "outputs": [
    {
     "name": "stdout",
     "output_type": "stream",
     "text": [
      "% of men who survived: 0.18890814558058924\n"
     ]
    }
   ],
   "source": [
    "men = train_data.loc[train_data.Sex == 'male'][\"Survived\"]\n",
    "rate_men = sum(men)/len(men)\n",
    "\n",
    "# print(men)\n",
    "print(\"% of men who survived:\", rate_men)"
   ]
  },
  {
   "cell_type": "code",
   "execution_count": 19,
   "id": "437e5428",
   "metadata": {
    "execution": {
     "iopub.execute_input": "2023-03-15T10:19:19.324594Z",
     "iopub.status.busy": "2023-03-15T10:19:19.324155Z",
     "iopub.status.idle": "2023-03-15T10:19:19.329000Z",
     "shell.execute_reply": "2023-03-15T10:19:19.327839Z"
    },
    "papermill": {
     "duration": 0.01963,
     "end_time": "2023-03-15T10:19:19.331405",
     "exception": false,
     "start_time": "2023-03-15T10:19:19.311775",
     "status": "completed"
    },
    "tags": []
   },
   "outputs": [],
   "source": [
    "# Don't run this. Else the competition will not accept lesser predicted values.\n",
    "# test_data.dropna(subset=['Age'], axis=0, inplace=True)"
   ]
  },
  {
   "cell_type": "code",
   "execution_count": 20,
   "id": "8e4b2f9d",
   "metadata": {
    "execution": {
     "iopub.execute_input": "2023-03-15T10:19:19.356362Z",
     "iopub.status.busy": "2023-03-15T10:19:19.355975Z",
     "iopub.status.idle": "2023-03-15T10:19:19.361576Z",
     "shell.execute_reply": "2023-03-15T10:19:19.360497Z"
    },
    "papermill": {
     "duration": 0.020764,
     "end_time": "2023-03-15T10:19:19.364047",
     "exception": false,
     "start_time": "2023-03-15T10:19:19.343283",
     "status": "completed"
    },
    "tags": []
   },
   "outputs": [],
   "source": [
    "from sklearn.preprocessing import StandardScaler, MinMaxScaler\n",
    "mm = MinMaxScaler()\n",
    "ss = StandardScaler()\n",
    "\n",
    "# train_data['Age'] = ss.fit_transform(train_data[['Age']])\n",
    "# test_data['Age'] = ss.fit_transform(test_data[['Age']])"
   ]
  },
  {
   "cell_type": "code",
   "execution_count": 21,
   "id": "41b922a6",
   "metadata": {
    "execution": {
     "iopub.execute_input": "2023-03-15T10:19:19.388468Z",
     "iopub.status.busy": "2023-03-15T10:19:19.388088Z",
     "iopub.status.idle": "2023-03-15T10:19:19.404611Z",
     "shell.execute_reply": "2023-03-15T10:19:19.403395Z"
    },
    "papermill": {
     "duration": 0.031595,
     "end_time": "2023-03-15T10:19:19.407038",
     "exception": false,
     "start_time": "2023-03-15T10:19:19.375443",
     "status": "completed"
    },
    "tags": []
   },
   "outputs": [],
   "source": [
    "y = train_data[\"Survived\"]\n",
    "features = [\"Pclass\", \"Sex\", \"SibSp\", \"Parch\", \"Age\"]\n",
    "\n",
    "X = pd.get_dummies(train_data[features])\n",
    "X_test = pd.get_dummies(test_data[features])\n",
    "\n",
    "# model = RandomForestClassifier(n_estimators=100, max_depth=5, random_state=1)\n",
    "# model.fit(X, y)\n",
    "# predictions = model.predict(X_test)\n",
    "\n",
    "# output = pd.DataFrame({'PassengerId': test_data.PassengerId, 'Survived': predictions})\n",
    "# output.to_csv('submission.csv', index=False)\n",
    "# print(\"Your submission was successfully saved!\")"
   ]
  },
  {
   "cell_type": "code",
   "execution_count": 22,
   "id": "50fc58ac",
   "metadata": {
    "execution": {
     "iopub.execute_input": "2023-03-15T10:19:19.431414Z",
     "iopub.status.busy": "2023-03-15T10:19:19.431012Z",
     "iopub.status.idle": "2023-03-15T10:19:19.464169Z",
     "shell.execute_reply": "2023-03-15T10:19:19.462847Z"
    },
    "papermill": {
     "duration": 0.048549,
     "end_time": "2023-03-15T10:19:19.466958",
     "exception": false,
     "start_time": "2023-03-15T10:19:19.418409",
     "status": "completed"
    },
    "tags": []
   },
   "outputs": [
    {
     "data": {
      "text/html": [
       "<div>\n",
       "<style scoped>\n",
       "    .dataframe tbody tr th:only-of-type {\n",
       "        vertical-align: middle;\n",
       "    }\n",
       "\n",
       "    .dataframe tbody tr th {\n",
       "        vertical-align: top;\n",
       "    }\n",
       "\n",
       "    .dataframe thead th {\n",
       "        text-align: right;\n",
       "    }\n",
       "</style>\n",
       "<table border=\"1\" class=\"dataframe\">\n",
       "  <thead>\n",
       "    <tr style=\"text-align: right;\">\n",
       "      <th></th>\n",
       "      <th>Pclass</th>\n",
       "      <th>SibSp</th>\n",
       "      <th>Parch</th>\n",
       "      <th>Age</th>\n",
       "      <th>Sex_female</th>\n",
       "      <th>Sex_male</th>\n",
       "    </tr>\n",
       "  </thead>\n",
       "  <tbody>\n",
       "    <tr>\n",
       "      <th>count</th>\n",
       "      <td>891.000000</td>\n",
       "      <td>891.000000</td>\n",
       "      <td>891.000000</td>\n",
       "      <td>891.000000</td>\n",
       "      <td>891.000000</td>\n",
       "      <td>891.000000</td>\n",
       "    </tr>\n",
       "    <tr>\n",
       "      <th>mean</th>\n",
       "      <td>2.308642</td>\n",
       "      <td>0.523008</td>\n",
       "      <td>0.381594</td>\n",
       "      <td>29.292875</td>\n",
       "      <td>0.352413</td>\n",
       "      <td>0.647587</td>\n",
       "    </tr>\n",
       "    <tr>\n",
       "      <th>std</th>\n",
       "      <td>0.836071</td>\n",
       "      <td>1.102743</td>\n",
       "      <td>0.806057</td>\n",
       "      <td>13.210527</td>\n",
       "      <td>0.477990</td>\n",
       "      <td>0.477990</td>\n",
       "    </tr>\n",
       "    <tr>\n",
       "      <th>min</th>\n",
       "      <td>1.000000</td>\n",
       "      <td>0.000000</td>\n",
       "      <td>0.000000</td>\n",
       "      <td>0.420000</td>\n",
       "      <td>0.000000</td>\n",
       "      <td>0.000000</td>\n",
       "    </tr>\n",
       "    <tr>\n",
       "      <th>25%</th>\n",
       "      <td>2.000000</td>\n",
       "      <td>0.000000</td>\n",
       "      <td>0.000000</td>\n",
       "      <td>22.000000</td>\n",
       "      <td>0.000000</td>\n",
       "      <td>0.000000</td>\n",
       "    </tr>\n",
       "    <tr>\n",
       "      <th>50%</th>\n",
       "      <td>3.000000</td>\n",
       "      <td>0.000000</td>\n",
       "      <td>0.000000</td>\n",
       "      <td>26.000000</td>\n",
       "      <td>0.000000</td>\n",
       "      <td>1.000000</td>\n",
       "    </tr>\n",
       "    <tr>\n",
       "      <th>75%</th>\n",
       "      <td>3.000000</td>\n",
       "      <td>1.000000</td>\n",
       "      <td>0.000000</td>\n",
       "      <td>37.000000</td>\n",
       "      <td>1.000000</td>\n",
       "      <td>1.000000</td>\n",
       "    </tr>\n",
       "    <tr>\n",
       "      <th>max</th>\n",
       "      <td>3.000000</td>\n",
       "      <td>8.000000</td>\n",
       "      <td>6.000000</td>\n",
       "      <td>80.000000</td>\n",
       "      <td>1.000000</td>\n",
       "      <td>1.000000</td>\n",
       "    </tr>\n",
       "  </tbody>\n",
       "</table>\n",
       "</div>"
      ],
      "text/plain": [
       "           Pclass       SibSp       Parch         Age  Sex_female    Sex_male\n",
       "count  891.000000  891.000000  891.000000  891.000000  891.000000  891.000000\n",
       "mean     2.308642    0.523008    0.381594   29.292875    0.352413    0.647587\n",
       "std      0.836071    1.102743    0.806057   13.210527    0.477990    0.477990\n",
       "min      1.000000    0.000000    0.000000    0.420000    0.000000    0.000000\n",
       "25%      2.000000    0.000000    0.000000   22.000000    0.000000    0.000000\n",
       "50%      3.000000    0.000000    0.000000   26.000000    0.000000    1.000000\n",
       "75%      3.000000    1.000000    0.000000   37.000000    1.000000    1.000000\n",
       "max      3.000000    8.000000    6.000000   80.000000    1.000000    1.000000"
      ]
     },
     "execution_count": 22,
     "metadata": {},
     "output_type": "execute_result"
    }
   ],
   "source": [
    "X.describe()"
   ]
  },
  {
   "cell_type": "code",
   "execution_count": 23,
   "id": "7557b6bc",
   "metadata": {
    "execution": {
     "iopub.execute_input": "2023-03-15T10:19:19.491521Z",
     "iopub.status.busy": "2023-03-15T10:19:19.491095Z",
     "iopub.status.idle": "2023-03-15T10:19:19.503661Z",
     "shell.execute_reply": "2023-03-15T10:19:19.502474Z"
    },
    "papermill": {
     "duration": 0.027819,
     "end_time": "2023-03-15T10:19:19.506301",
     "exception": false,
     "start_time": "2023-03-15T10:19:19.478482",
     "status": "completed"
    },
    "tags": []
   },
   "outputs": [
    {
     "data": {
      "text/html": [
       "<div>\n",
       "<style scoped>\n",
       "    .dataframe tbody tr th:only-of-type {\n",
       "        vertical-align: middle;\n",
       "    }\n",
       "\n",
       "    .dataframe tbody tr th {\n",
       "        vertical-align: top;\n",
       "    }\n",
       "\n",
       "    .dataframe thead th {\n",
       "        text-align: right;\n",
       "    }\n",
       "</style>\n",
       "<table border=\"1\" class=\"dataframe\">\n",
       "  <thead>\n",
       "    <tr style=\"text-align: right;\">\n",
       "      <th></th>\n",
       "      <th>Pclass</th>\n",
       "      <th>SibSp</th>\n",
       "      <th>Parch</th>\n",
       "      <th>Age</th>\n",
       "      <th>Sex_female</th>\n",
       "      <th>Sex_male</th>\n",
       "    </tr>\n",
       "  </thead>\n",
       "  <tbody>\n",
       "    <tr>\n",
       "      <th>0</th>\n",
       "      <td>3</td>\n",
       "      <td>1</td>\n",
       "      <td>0</td>\n",
       "      <td>22.0</td>\n",
       "      <td>0</td>\n",
       "      <td>1</td>\n",
       "    </tr>\n",
       "    <tr>\n",
       "      <th>1</th>\n",
       "      <td>1</td>\n",
       "      <td>1</td>\n",
       "      <td>0</td>\n",
       "      <td>38.0</td>\n",
       "      <td>1</td>\n",
       "      <td>0</td>\n",
       "    </tr>\n",
       "    <tr>\n",
       "      <th>2</th>\n",
       "      <td>3</td>\n",
       "      <td>0</td>\n",
       "      <td>0</td>\n",
       "      <td>26.0</td>\n",
       "      <td>1</td>\n",
       "      <td>0</td>\n",
       "    </tr>\n",
       "    <tr>\n",
       "      <th>3</th>\n",
       "      <td>1</td>\n",
       "      <td>1</td>\n",
       "      <td>0</td>\n",
       "      <td>35.0</td>\n",
       "      <td>1</td>\n",
       "      <td>0</td>\n",
       "    </tr>\n",
       "    <tr>\n",
       "      <th>4</th>\n",
       "      <td>3</td>\n",
       "      <td>0</td>\n",
       "      <td>0</td>\n",
       "      <td>35.0</td>\n",
       "      <td>0</td>\n",
       "      <td>1</td>\n",
       "    </tr>\n",
       "  </tbody>\n",
       "</table>\n",
       "</div>"
      ],
      "text/plain": [
       "   Pclass  SibSp  Parch   Age  Sex_female  Sex_male\n",
       "0       3      1      0  22.0           0         1\n",
       "1       1      1      0  38.0           1         0\n",
       "2       3      0      0  26.0           1         0\n",
       "3       1      1      0  35.0           1         0\n",
       "4       3      0      0  35.0           0         1"
      ]
     },
     "execution_count": 23,
     "metadata": {},
     "output_type": "execute_result"
    }
   ],
   "source": [
    "X.head()"
   ]
  },
  {
   "cell_type": "code",
   "execution_count": 24,
   "id": "ae46706f",
   "metadata": {
    "execution": {
     "iopub.execute_input": "2023-03-15T10:19:19.531128Z",
     "iopub.status.busy": "2023-03-15T10:19:19.530688Z",
     "iopub.status.idle": "2023-03-15T10:19:19.540154Z",
     "shell.execute_reply": "2023-03-15T10:19:19.539102Z"
    },
    "papermill": {
     "duration": 0.024532,
     "end_time": "2023-03-15T10:19:19.542502",
     "exception": false,
     "start_time": "2023-03-15T10:19:19.517970",
     "status": "completed"
    },
    "tags": []
   },
   "outputs": [
    {
     "data": {
      "text/plain": [
       "Pclass        0\n",
       "SibSp         0\n",
       "Parch         0\n",
       "Age           0\n",
       "Sex_female    0\n",
       "Sex_male      0\n",
       "dtype: int64"
      ]
     },
     "execution_count": 24,
     "metadata": {},
     "output_type": "execute_result"
    }
   ],
   "source": [
    "X_test.isna().sum()"
   ]
  },
  {
   "cell_type": "code",
   "execution_count": 25,
   "id": "057cdb2b",
   "metadata": {
    "execution": {
     "iopub.execute_input": "2023-03-15T10:19:19.567580Z",
     "iopub.status.busy": "2023-03-15T10:19:19.567142Z",
     "iopub.status.idle": "2023-03-15T10:19:19.588035Z",
     "shell.execute_reply": "2023-03-15T10:19:19.586855Z"
    },
    "papermill": {
     "duration": 0.036559,
     "end_time": "2023-03-15T10:19:19.590840",
     "exception": false,
     "start_time": "2023-03-15T10:19:19.554281",
     "status": "completed"
    },
    "tags": []
   },
   "outputs": [],
   "source": [
    "from sklearn.model_selection import train_test_split\n",
    "X_train, X_valid, y_train, y_valid = train_test_split(X, y)"
   ]
  },
  {
   "cell_type": "code",
   "execution_count": 26,
   "id": "f1b6cf73",
   "metadata": {
    "execution": {
     "iopub.execute_input": "2023-03-15T10:19:19.616483Z",
     "iopub.status.busy": "2023-03-15T10:19:19.616052Z",
     "iopub.status.idle": "2023-03-15T10:19:19.636167Z",
     "shell.execute_reply": "2023-03-15T10:19:19.635089Z"
    },
    "papermill": {
     "duration": 0.035885,
     "end_time": "2023-03-15T10:19:19.638589",
     "exception": false,
     "start_time": "2023-03-15T10:19:19.602704",
     "status": "completed"
    },
    "tags": []
   },
   "outputs": [],
   "source": [
    "X_train['Age'] = ss.fit_transform(X_train[['Age']])\n",
    "X_valid['Age'] = ss.fit_transform(X_valid[['Age']])\n",
    "X_test['Age'] = ss.fit_transform(X_test[['Age']])"
   ]
  },
  {
   "cell_type": "code",
   "execution_count": 27,
   "id": "04e40192",
   "metadata": {
    "execution": {
     "iopub.execute_input": "2023-03-15T10:19:19.664301Z",
     "iopub.status.busy": "2023-03-15T10:19:19.663503Z",
     "iopub.status.idle": "2023-03-15T10:19:19.675643Z",
     "shell.execute_reply": "2023-03-15T10:19:19.674807Z"
    },
    "papermill": {
     "duration": 0.027666,
     "end_time": "2023-03-15T10:19:19.678140",
     "exception": false,
     "start_time": "2023-03-15T10:19:19.650474",
     "status": "completed"
    },
    "tags": []
   },
   "outputs": [
    {
     "data": {
      "text/html": [
       "<div>\n",
       "<style scoped>\n",
       "    .dataframe tbody tr th:only-of-type {\n",
       "        vertical-align: middle;\n",
       "    }\n",
       "\n",
       "    .dataframe tbody tr th {\n",
       "        vertical-align: top;\n",
       "    }\n",
       "\n",
       "    .dataframe thead th {\n",
       "        text-align: right;\n",
       "    }\n",
       "</style>\n",
       "<table border=\"1\" class=\"dataframe\">\n",
       "  <thead>\n",
       "    <tr style=\"text-align: right;\">\n",
       "      <th></th>\n",
       "      <th>Pclass</th>\n",
       "      <th>SibSp</th>\n",
       "      <th>Parch</th>\n",
       "      <th>Age</th>\n",
       "      <th>Sex_female</th>\n",
       "      <th>Sex_male</th>\n",
       "    </tr>\n",
       "  </thead>\n",
       "  <tbody>\n",
       "    <tr>\n",
       "      <th>0</th>\n",
       "      <td>3</td>\n",
       "      <td>0</td>\n",
       "      <td>0</td>\n",
       "      <td>0.385368</td>\n",
       "      <td>0</td>\n",
       "      <td>1</td>\n",
       "    </tr>\n",
       "    <tr>\n",
       "      <th>1</th>\n",
       "      <td>3</td>\n",
       "      <td>1</td>\n",
       "      <td>0</td>\n",
       "      <td>1.359561</td>\n",
       "      <td>1</td>\n",
       "      <td>0</td>\n",
       "    </tr>\n",
       "    <tr>\n",
       "      <th>2</th>\n",
       "      <td>2</td>\n",
       "      <td>0</td>\n",
       "      <td>0</td>\n",
       "      <td>2.528592</td>\n",
       "      <td>0</td>\n",
       "      <td>1</td>\n",
       "    </tr>\n",
       "    <tr>\n",
       "      <th>3</th>\n",
       "      <td>3</td>\n",
       "      <td>0</td>\n",
       "      <td>0</td>\n",
       "      <td>-0.199148</td>\n",
       "      <td>0</td>\n",
       "      <td>1</td>\n",
       "    </tr>\n",
       "    <tr>\n",
       "      <th>4</th>\n",
       "      <td>3</td>\n",
       "      <td>1</td>\n",
       "      <td>1</td>\n",
       "      <td>-0.588825</td>\n",
       "      <td>1</td>\n",
       "      <td>0</td>\n",
       "    </tr>\n",
       "  </tbody>\n",
       "</table>\n",
       "</div>"
      ],
      "text/plain": [
       "   Pclass  SibSp  Parch       Age  Sex_female  Sex_male\n",
       "0       3      0      0  0.385368           0         1\n",
       "1       3      1      0  1.359561           1         0\n",
       "2       2      0      0  2.528592           0         1\n",
       "3       3      0      0 -0.199148           0         1\n",
       "4       3      1      1 -0.588825           1         0"
      ]
     },
     "execution_count": 27,
     "metadata": {},
     "output_type": "execute_result"
    }
   ],
   "source": [
    "X_test.head()"
   ]
  },
  {
   "cell_type": "markdown",
   "id": "ad4cb684",
   "metadata": {
    "papermill": {
     "duration": 0.011528,
     "end_time": "2023-03-15T10:19:19.701652",
     "exception": false,
     "start_time": "2023-03-15T10:19:19.690124",
     "status": "completed"
    },
    "tags": []
   },
   "source": [
    "# Decision Tree"
   ]
  },
  {
   "cell_type": "code",
   "execution_count": 28,
   "id": "e1231c31",
   "metadata": {
    "execution": {
     "iopub.execute_input": "2023-03-15T10:19:19.727394Z",
     "iopub.status.busy": "2023-03-15T10:19:19.727000Z",
     "iopub.status.idle": "2023-03-15T10:19:19.900580Z",
     "shell.execute_reply": "2023-03-15T10:19:19.899105Z"
    },
    "jupyter": {
     "source_hidden": true
    },
    "papermill": {
     "duration": 0.190526,
     "end_time": "2023-03-15T10:19:19.904305",
     "exception": false,
     "start_time": "2023-03-15T10:19:19.713779",
     "status": "completed"
    },
    "tags": []
   },
   "outputs": [
    {
     "name": "stdout",
     "output_type": "stream",
     "text": [
      "TRAIN DATA\n",
      "MAE in Decision Tree: 0.0884\n",
      "R-Squared in Decision Tree: 0.81\n",
      "\n",
      "TEST DATA\n",
      "MAE in Decision Tree: 0.2971\n",
      "R-Squared in Decision Tree: -0.03\n"
     ]
    }
   ],
   "source": [
    "from sklearn.tree import DecisionTreeRegressor\n",
    "model_d = DecisionTreeRegressor(random_state=1)\n",
    "model_d.fit(X_train, y_train)\n",
    "\n",
    "pred_d_train = model_d.predict(X_train)\n",
    "pred_d_test = model_d.predict(X_valid)\n",
    "\n",
    "print('TRAIN DATA')\n",
    "print(\"MAE in Decision Tree: %.4f\" % mean_absolute_error(pred_d_train, y_train))\n",
    "print('R-Squared in Decision Tree: %.2f' % model_d.score(X_train, y_train))\n",
    "\n",
    "print('\\nTEST DATA')\n",
    "print('MAE in Decision Tree: %.4f' % mean_absolute_error(pred_d_test, y_valid))\n",
    "print('R-Squared in Decision Tree: %.2f' % model_d.score(X_valid, y_valid))\n"
   ]
  },
  {
   "cell_type": "markdown",
   "id": "0df23207",
   "metadata": {
    "papermill": {
     "duration": 0.012149,
     "end_time": "2023-03-15T10:19:19.929391",
     "exception": false,
     "start_time": "2023-03-15T10:19:19.917242",
     "status": "completed"
    },
    "tags": []
   },
   "source": [
    "# ****Random Forest****"
   ]
  },
  {
   "cell_type": "code",
   "execution_count": 29,
   "id": "f0db5dca",
   "metadata": {
    "execution": {
     "iopub.execute_input": "2023-03-15T10:19:19.956033Z",
     "iopub.status.busy": "2023-03-15T10:19:19.954774Z",
     "iopub.status.idle": "2023-03-15T10:19:20.271429Z",
     "shell.execute_reply": "2023-03-15T10:19:20.269935Z"
    },
    "papermill": {
     "duration": 0.332796,
     "end_time": "2023-03-15T10:19:20.274164",
     "exception": false,
     "start_time": "2023-03-15T10:19:19.941368",
     "status": "completed"
    },
    "tags": []
   },
   "outputs": [
    {
     "name": "stdout",
     "output_type": "stream",
     "text": [
      "TRAIN DATA\n",
      "MAE in Random Forest Model: 0.1587\n",
      "R-Squared in Random Forest Model: 0.84\n",
      "\n",
      "TEST DATA\n",
      "MAE in Random Forest Model: 0.2108\n",
      "R-Squared in Random Forest Model: 0.79\n"
     ]
    }
   ],
   "source": [
    "from sklearn.ensemble import RandomForestClassifier\n",
    "model_rf = RandomForestClassifier(n_estimators=100, max_depth=5, random_state=1)\n",
    "model_rf.fit(X_train, y_train)\n",
    "\n",
    "pred_rf_train = model_rf.predict(X_train)\n",
    "pred_rf_test = model_rf.predict(X_valid)\n",
    "\n",
    "print('TRAIN DATA')\n",
    "print(\"MAE in Random Forest Model: %.4f\" % mean_absolute_error(pred_rf_train, y_train))\n",
    "print('R-Squared in Random Forest Model: %.2f' % model_rf.score(X_train, y_train))\n",
    "\n",
    "print('\\nTEST DATA')\n",
    "print('MAE in Random Forest Model: %.4f' % mean_absolute_error(pred_rf_test, y_valid))\n",
    "print('R-Squared in Random Forest Model: %.2f' % model_rf.score(X_valid, y_valid))"
   ]
  },
  {
   "cell_type": "markdown",
   "id": "55cf54cb",
   "metadata": {
    "papermill": {
     "duration": 0.011564,
     "end_time": "2023-03-15T10:19:20.297843",
     "exception": false,
     "start_time": "2023-03-15T10:19:20.286279",
     "status": "completed"
    },
    "tags": []
   },
   "source": [
    "# XGB"
   ]
  },
  {
   "cell_type": "code",
   "execution_count": 30,
   "id": "614ba5ce",
   "metadata": {
    "execution": {
     "iopub.execute_input": "2023-03-15T10:19:20.324339Z",
     "iopub.status.busy": "2023-03-15T10:19:20.323521Z",
     "iopub.status.idle": "2023-03-15T10:19:23.657383Z",
     "shell.execute_reply": "2023-03-15T10:19:23.655991Z"
    },
    "jupyter": {
     "source_hidden": true
    },
    "papermill": {
     "duration": 3.351003,
     "end_time": "2023-03-15T10:19:23.661091",
     "exception": false,
     "start_time": "2023-03-15T10:19:20.310088",
     "status": "completed"
    },
    "tags": []
   },
   "outputs": [
    {
     "name": "stdout",
     "output_type": "stream",
     "text": [
      "[10:19:20] WARNING: ../src/learner.cc:627: \n",
      "Parameters: { \"n_iter_no_change\" } might not be used.\n",
      "\n",
      "  This could be a false alarm, with some parameters getting used by language bindings but\n",
      "  then being mistakenly passed down to XGBoost core, or some parameter actually being used\n",
      "  but getting flagged wrongly here. Please open an issue if you find any such cases.\n",
      "\n",
      "\n",
      "TRAIN DATA\n",
      "MAE in XGB Model: 0.0912\n",
      "R-Squared in XGB Model: 0.81\n",
      "\n",
      "TEST DATA\n",
      "MAE in XGB Model: 0.3250\n",
      "R-Squared in XGB Model: 0.06\n"
     ]
    }
   ],
   "source": [
    "from xgboost import XGBRegressor\n",
    "model_xgb = XGBRegressor(n_estimators=1000, n_iter_no_change=5, learning_rate=0.5)\n",
    "\n",
    "model_xgb.fit(X_train, y_train, verbose=False)\n",
    "\n",
    "pred_xgb_train = model_xgb.predict(X_train)\n",
    "pred_xgb_test = model_xgb.predict(X_valid)\n",
    "\n",
    "print('TRAIN DATA')\n",
    "print(\"MAE in XGB Model: %.4f\" % mean_absolute_error(pred_xgb_train, y_train))\n",
    "print('R-Squared in XGB Model: %.2f' % model_xgb.score(X_train, y_train))\n",
    "\n",
    "print('\\nTEST DATA')\n",
    "print('MAE in XGB Model: %.4f' % mean_absolute_error(pred_xgb_test, y_valid))\n",
    "print('R-Squared in XGB Model: %.2f' % model_xgb.score(X_valid, y_valid))"
   ]
  },
  {
   "cell_type": "markdown",
   "id": "408c4eeb",
   "metadata": {
    "papermill": {
     "duration": 0.011852,
     "end_time": "2023-03-15T10:19:23.686828",
     "exception": false,
     "start_time": "2023-03-15T10:19:23.674976",
     "status": "completed"
    },
    "tags": []
   },
   "source": [
    "# Logistic Regression"
   ]
  },
  {
   "cell_type": "code",
   "execution_count": 31,
   "id": "001884a8",
   "metadata": {
    "execution": {
     "iopub.execute_input": "2023-03-15T10:19:23.712882Z",
     "iopub.status.busy": "2023-03-15T10:19:23.712465Z",
     "iopub.status.idle": "2023-03-15T10:19:23.744416Z",
     "shell.execute_reply": "2023-03-15T10:19:23.742908Z"
    },
    "papermill": {
     "duration": 0.049064,
     "end_time": "2023-03-15T10:19:23.747939",
     "exception": false,
     "start_time": "2023-03-15T10:19:23.698875",
     "status": "completed"
    },
    "tags": []
   },
   "outputs": [
    {
     "name": "stdout",
     "output_type": "stream",
     "text": [
      "TRAIN DATA\n",
      "MAE in Logistic Regression Model: 0.1901\n",
      "R-Squared in Logistic Regression Model: 0.81\n",
      "\n",
      "TEST DATA\n",
      "MAE in Logistic Regression Model: 0.2197\n",
      "R-Squared in Logistic Regression Model: 0.78\n"
     ]
    }
   ],
   "source": [
    "from sklearn.linear_model import LogisticRegression\n",
    "model_lg = LogisticRegression(random_state=1)\n",
    "\n",
    "model_lg.fit(X_train, y_train)\n",
    "\n",
    "pred_lg_train = model_lg.predict(X_train)\n",
    "pred_lg_test = model_lg.predict(X_valid)\n",
    "\n",
    "print('TRAIN DATA')\n",
    "print(\"MAE in Logistic Regression Model: %.4f\" % mean_absolute_error(pred_lg_train, y_train))\n",
    "print('R-Squared in Logistic Regression Model: %.2f' % model_lg.score(X_train, y_train))\n",
    "\n",
    "print('\\nTEST DATA')\n",
    "print('MAE in Logistic Regression Model: %.4f' % mean_absolute_error(pred_lg_test, y_valid))\n",
    "print('R-Squared in Logistic Regression Model: %.2f' % model_lg.score(X_valid, y_valid))"
   ]
  },
  {
   "cell_type": "code",
   "execution_count": null,
   "id": "9b20fb25",
   "metadata": {
    "papermill": {
     "duration": 0.011767,
     "end_time": "2023-03-15T10:19:23.772616",
     "exception": false,
     "start_time": "2023-03-15T10:19:23.760849",
     "status": "completed"
    },
    "tags": []
   },
   "outputs": [],
   "source": []
  },
  {
   "cell_type": "markdown",
   "id": "7ef0f076",
   "metadata": {
    "papermill": {
     "duration": 0.01192,
     "end_time": "2023-03-15T10:19:23.798447",
     "exception": false,
     "start_time": "2023-03-15T10:19:23.786527",
     "status": "completed"
    },
    "tags": []
   },
   "source": [
    "# Submission"
   ]
  },
  {
   "cell_type": "code",
   "execution_count": 32,
   "id": "25b7dcf0",
   "metadata": {
    "execution": {
     "iopub.execute_input": "2023-03-15T10:19:23.825615Z",
     "iopub.status.busy": "2023-03-15T10:19:23.824951Z",
     "iopub.status.idle": "2023-03-15T10:19:23.860008Z",
     "shell.execute_reply": "2023-03-15T10:19:23.858683Z"
    },
    "papermill": {
     "duration": 0.051092,
     "end_time": "2023-03-15T10:19:23.862580",
     "exception": false,
     "start_time": "2023-03-15T10:19:23.811488",
     "status": "completed"
    },
    "tags": []
   },
   "outputs": [
    {
     "name": "stdout",
     "output_type": "stream",
     "text": [
      "Your submission was successfully saved!\n"
     ]
    }
   ],
   "source": [
    "model_lg.fit(X, y)\n",
    "predictions = model_lg.predict(X_test)\n",
    "\n",
    "output = pd.DataFrame({'PassengerId': test_data.PassengerId, 'Survived': predictions})\n",
    "output.to_csv('submission.csv', index=False)\n",
    "print(\"Your submission was successfully saved!\")"
   ]
  },
  {
   "cell_type": "code",
   "execution_count": null,
   "id": "4721a15d",
   "metadata": {
    "papermill": {
     "duration": 0.01214,
     "end_time": "2023-03-15T10:19:23.888531",
     "exception": false,
     "start_time": "2023-03-15T10:19:23.876391",
     "status": "completed"
    },
    "tags": []
   },
   "outputs": [],
   "source": []
  }
 ],
 "metadata": {
  "kernelspec": {
   "display_name": "Python 3",
   "language": "python",
   "name": "python3"
  },
  "language_info": {
   "codemirror_mode": {
    "name": "ipython",
    "version": 3
   },
   "file_extension": ".py",
   "mimetype": "text/x-python",
   "name": "python",
   "nbconvert_exporter": "python",
   "pygments_lexer": "ipython3",
   "version": "3.7.12"
  },
  "papermill": {
   "default_parameters": {},
   "duration": 17.551097,
   "end_time": "2023-03-15T10:19:24.724452",
   "environment_variables": {},
   "exception": null,
   "input_path": "__notebook__.ipynb",
   "output_path": "__notebook__.ipynb",
   "parameters": {},
   "start_time": "2023-03-15T10:19:07.173355",
   "version": "2.3.4"
  }
 },
 "nbformat": 4,
 "nbformat_minor": 5
}
