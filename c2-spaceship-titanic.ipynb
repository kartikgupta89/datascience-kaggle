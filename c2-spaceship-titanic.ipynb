{
 "cells": [
  {
   "cell_type": "code",
   "execution_count": 1,
   "id": "26139df2",
   "metadata": {
    "_cell_guid": "b1076dfc-b9ad-4769-8c92-a6c4dae69d19",
    "_uuid": "8f2839f25d086af736a60e9eeb907d3b93b6e0e5",
    "execution": {
     "iopub.execute_input": "2023-03-27T14:41:27.263497Z",
     "iopub.status.busy": "2023-03-27T14:41:27.263079Z",
     "iopub.status.idle": "2023-03-27T14:41:28.610108Z",
     "shell.execute_reply": "2023-03-27T14:41:28.608883Z"
    },
    "papermill": {
     "duration": 1.373162,
     "end_time": "2023-03-27T14:41:28.612671",
     "exception": false,
     "start_time": "2023-03-27T14:41:27.239509",
     "status": "completed"
    },
    "tags": []
   },
   "outputs": [
    {
     "name": "stdout",
     "output_type": "stream",
     "text": [
      "/kaggle/input/spaceship-titanic/sample_submission.csv\n",
      "/kaggle/input/spaceship-titanic/train.csv\n",
      "/kaggle/input/spaceship-titanic/test.csv\n"
     ]
    }
   ],
   "source": [
    "# This Python 3 environment comes with many helpful analytics libraries installed\n",
    "# It is defined by the kaggle/python Docker image: https://github.com/kaggle/docker-python\n",
    "# For example, here's several helpful packages to load\n",
    "\n",
    "import numpy as np # linear algebra\n",
    "import pandas as pd # data processing, CSV file I/O (e.g. pd.read_csv)\n",
    "import matplotlib.pyplot as plt\n",
    "import seaborn as sns\n",
    "\n",
    "from sklearn.preprocessing import LabelEncoder\n",
    "from sklearn import metrics\n",
    "\n",
    "# Input data files are available in the read-only \"../input/\" directory\n",
    "# For example, running this (by clicking run or pressing Shift+Enter) will list all files under the input directory\n",
    "\n",
    "import os\n",
    "for dirname, _, filenames in os.walk('/kaggle/input'):\n",
    "    for filename in filenames:\n",
    "        print(os.path.join(dirname, filename))\n",
    "\n",
    "# You can write up to 20GB to the current directory (/kaggle/working/) that gets preserved as output when you create a version using \"Save & Run All\" \n",
    "# You can also write temporary files to /kaggle/temp/, but they won't be saved outside of the current session"
   ]
  },
  {
   "cell_type": "code",
   "execution_count": 2,
   "id": "0879da20",
   "metadata": {
    "execution": {
     "iopub.execute_input": "2023-03-27T14:41:28.643353Z",
     "iopub.status.busy": "2023-03-27T14:41:28.642617Z",
     "iopub.status.idle": "2023-03-27T14:41:28.721054Z",
     "shell.execute_reply": "2023-03-27T14:41:28.719879Z"
    },
    "papermill": {
     "duration": 0.096626,
     "end_time": "2023-03-27T14:41:28.723775",
     "exception": false,
     "start_time": "2023-03-27T14:41:28.627149",
     "status": "completed"
    },
    "tags": []
   },
   "outputs": [],
   "source": [
    "train_data = pd.read_csv('/kaggle/input/spaceship-titanic/train.csv')\n",
    "test_data = pd.read_csv('/kaggle/input/spaceship-titanic/test.csv')"
   ]
  },
  {
   "cell_type": "code",
   "execution_count": 3,
   "id": "2a2a4309",
   "metadata": {
    "execution": {
     "iopub.execute_input": "2023-03-27T14:41:28.755770Z",
     "iopub.status.busy": "2023-03-27T14:41:28.754804Z",
     "iopub.status.idle": "2023-03-27T14:41:28.795401Z",
     "shell.execute_reply": "2023-03-27T14:41:28.794147Z"
    },
    "papermill": {
     "duration": 0.060046,
     "end_time": "2023-03-27T14:41:28.798022",
     "exception": false,
     "start_time": "2023-03-27T14:41:28.737976",
     "status": "completed"
    },
    "tags": []
   },
   "outputs": [
    {
     "name": "stdout",
     "output_type": "stream",
     "text": [
      "(8693, 14)\n"
     ]
    },
    {
     "data": {
      "text/html": [
       "<div>\n",
       "<style scoped>\n",
       "    .dataframe tbody tr th:only-of-type {\n",
       "        vertical-align: middle;\n",
       "    }\n",
       "\n",
       "    .dataframe tbody tr th {\n",
       "        vertical-align: top;\n",
       "    }\n",
       "\n",
       "    .dataframe thead th {\n",
       "        text-align: right;\n",
       "    }\n",
       "</style>\n",
       "<table border=\"1\" class=\"dataframe\">\n",
       "  <thead>\n",
       "    <tr style=\"text-align: right;\">\n",
       "      <th></th>\n",
       "      <th>PassengerId</th>\n",
       "      <th>HomePlanet</th>\n",
       "      <th>CryoSleep</th>\n",
       "      <th>Cabin</th>\n",
       "      <th>Destination</th>\n",
       "      <th>Age</th>\n",
       "      <th>VIP</th>\n",
       "      <th>RoomService</th>\n",
       "      <th>FoodCourt</th>\n",
       "      <th>ShoppingMall</th>\n",
       "      <th>Spa</th>\n",
       "      <th>VRDeck</th>\n",
       "      <th>Name</th>\n",
       "      <th>Transported</th>\n",
       "    </tr>\n",
       "  </thead>\n",
       "  <tbody>\n",
       "    <tr>\n",
       "      <th>0</th>\n",
       "      <td>0001_01</td>\n",
       "      <td>Europa</td>\n",
       "      <td>False</td>\n",
       "      <td>B/0/P</td>\n",
       "      <td>TRAPPIST-1e</td>\n",
       "      <td>39.0</td>\n",
       "      <td>False</td>\n",
       "      <td>0.0</td>\n",
       "      <td>0.0</td>\n",
       "      <td>0.0</td>\n",
       "      <td>0.0</td>\n",
       "      <td>0.0</td>\n",
       "      <td>Maham Ofracculy</td>\n",
       "      <td>False</td>\n",
       "    </tr>\n",
       "    <tr>\n",
       "      <th>1</th>\n",
       "      <td>0002_01</td>\n",
       "      <td>Earth</td>\n",
       "      <td>False</td>\n",
       "      <td>F/0/S</td>\n",
       "      <td>TRAPPIST-1e</td>\n",
       "      <td>24.0</td>\n",
       "      <td>False</td>\n",
       "      <td>109.0</td>\n",
       "      <td>9.0</td>\n",
       "      <td>25.0</td>\n",
       "      <td>549.0</td>\n",
       "      <td>44.0</td>\n",
       "      <td>Juanna Vines</td>\n",
       "      <td>True</td>\n",
       "    </tr>\n",
       "    <tr>\n",
       "      <th>2</th>\n",
       "      <td>0003_01</td>\n",
       "      <td>Europa</td>\n",
       "      <td>False</td>\n",
       "      <td>A/0/S</td>\n",
       "      <td>TRAPPIST-1e</td>\n",
       "      <td>58.0</td>\n",
       "      <td>True</td>\n",
       "      <td>43.0</td>\n",
       "      <td>3576.0</td>\n",
       "      <td>0.0</td>\n",
       "      <td>6715.0</td>\n",
       "      <td>49.0</td>\n",
       "      <td>Altark Susent</td>\n",
       "      <td>False</td>\n",
       "    </tr>\n",
       "    <tr>\n",
       "      <th>3</th>\n",
       "      <td>0003_02</td>\n",
       "      <td>Europa</td>\n",
       "      <td>False</td>\n",
       "      <td>A/0/S</td>\n",
       "      <td>TRAPPIST-1e</td>\n",
       "      <td>33.0</td>\n",
       "      <td>False</td>\n",
       "      <td>0.0</td>\n",
       "      <td>1283.0</td>\n",
       "      <td>371.0</td>\n",
       "      <td>3329.0</td>\n",
       "      <td>193.0</td>\n",
       "      <td>Solam Susent</td>\n",
       "      <td>False</td>\n",
       "    </tr>\n",
       "    <tr>\n",
       "      <th>4</th>\n",
       "      <td>0004_01</td>\n",
       "      <td>Earth</td>\n",
       "      <td>False</td>\n",
       "      <td>F/1/S</td>\n",
       "      <td>TRAPPIST-1e</td>\n",
       "      <td>16.0</td>\n",
       "      <td>False</td>\n",
       "      <td>303.0</td>\n",
       "      <td>70.0</td>\n",
       "      <td>151.0</td>\n",
       "      <td>565.0</td>\n",
       "      <td>2.0</td>\n",
       "      <td>Willy Santantines</td>\n",
       "      <td>True</td>\n",
       "    </tr>\n",
       "    <tr>\n",
       "      <th>5</th>\n",
       "      <td>0005_01</td>\n",
       "      <td>Earth</td>\n",
       "      <td>False</td>\n",
       "      <td>F/0/P</td>\n",
       "      <td>PSO J318.5-22</td>\n",
       "      <td>44.0</td>\n",
       "      <td>False</td>\n",
       "      <td>0.0</td>\n",
       "      <td>483.0</td>\n",
       "      <td>0.0</td>\n",
       "      <td>291.0</td>\n",
       "      <td>0.0</td>\n",
       "      <td>Sandie Hinetthews</td>\n",
       "      <td>True</td>\n",
       "    </tr>\n",
       "    <tr>\n",
       "      <th>6</th>\n",
       "      <td>0006_01</td>\n",
       "      <td>Earth</td>\n",
       "      <td>False</td>\n",
       "      <td>F/2/S</td>\n",
       "      <td>TRAPPIST-1e</td>\n",
       "      <td>26.0</td>\n",
       "      <td>False</td>\n",
       "      <td>42.0</td>\n",
       "      <td>1539.0</td>\n",
       "      <td>3.0</td>\n",
       "      <td>0.0</td>\n",
       "      <td>0.0</td>\n",
       "      <td>Billex Jacostaffey</td>\n",
       "      <td>True</td>\n",
       "    </tr>\n",
       "    <tr>\n",
       "      <th>7</th>\n",
       "      <td>0006_02</td>\n",
       "      <td>Earth</td>\n",
       "      <td>True</td>\n",
       "      <td>G/0/S</td>\n",
       "      <td>TRAPPIST-1e</td>\n",
       "      <td>28.0</td>\n",
       "      <td>False</td>\n",
       "      <td>0.0</td>\n",
       "      <td>0.0</td>\n",
       "      <td>0.0</td>\n",
       "      <td>0.0</td>\n",
       "      <td>NaN</td>\n",
       "      <td>Candra Jacostaffey</td>\n",
       "      <td>True</td>\n",
       "    </tr>\n",
       "    <tr>\n",
       "      <th>8</th>\n",
       "      <td>0007_01</td>\n",
       "      <td>Earth</td>\n",
       "      <td>False</td>\n",
       "      <td>F/3/S</td>\n",
       "      <td>TRAPPIST-1e</td>\n",
       "      <td>35.0</td>\n",
       "      <td>False</td>\n",
       "      <td>0.0</td>\n",
       "      <td>785.0</td>\n",
       "      <td>17.0</td>\n",
       "      <td>216.0</td>\n",
       "      <td>0.0</td>\n",
       "      <td>Andona Beston</td>\n",
       "      <td>True</td>\n",
       "    </tr>\n",
       "    <tr>\n",
       "      <th>9</th>\n",
       "      <td>0008_01</td>\n",
       "      <td>Europa</td>\n",
       "      <td>True</td>\n",
       "      <td>B/1/P</td>\n",
       "      <td>55 Cancri e</td>\n",
       "      <td>14.0</td>\n",
       "      <td>False</td>\n",
       "      <td>0.0</td>\n",
       "      <td>0.0</td>\n",
       "      <td>0.0</td>\n",
       "      <td>0.0</td>\n",
       "      <td>0.0</td>\n",
       "      <td>Erraiam Flatic</td>\n",
       "      <td>True</td>\n",
       "    </tr>\n",
       "  </tbody>\n",
       "</table>\n",
       "</div>"
      ],
      "text/plain": [
       "  PassengerId HomePlanet CryoSleep  Cabin    Destination   Age    VIP  \\\n",
       "0     0001_01     Europa     False  B/0/P    TRAPPIST-1e  39.0  False   \n",
       "1     0002_01      Earth     False  F/0/S    TRAPPIST-1e  24.0  False   \n",
       "2     0003_01     Europa     False  A/0/S    TRAPPIST-1e  58.0   True   \n",
       "3     0003_02     Europa     False  A/0/S    TRAPPIST-1e  33.0  False   \n",
       "4     0004_01      Earth     False  F/1/S    TRAPPIST-1e  16.0  False   \n",
       "5     0005_01      Earth     False  F/0/P  PSO J318.5-22  44.0  False   \n",
       "6     0006_01      Earth     False  F/2/S    TRAPPIST-1e  26.0  False   \n",
       "7     0006_02      Earth      True  G/0/S    TRAPPIST-1e  28.0  False   \n",
       "8     0007_01      Earth     False  F/3/S    TRAPPIST-1e  35.0  False   \n",
       "9     0008_01     Europa      True  B/1/P    55 Cancri e  14.0  False   \n",
       "\n",
       "   RoomService  FoodCourt  ShoppingMall     Spa  VRDeck                Name  \\\n",
       "0          0.0        0.0           0.0     0.0     0.0     Maham Ofracculy   \n",
       "1        109.0        9.0          25.0   549.0    44.0        Juanna Vines   \n",
       "2         43.0     3576.0           0.0  6715.0    49.0       Altark Susent   \n",
       "3          0.0     1283.0         371.0  3329.0   193.0        Solam Susent   \n",
       "4        303.0       70.0         151.0   565.0     2.0   Willy Santantines   \n",
       "5          0.0      483.0           0.0   291.0     0.0   Sandie Hinetthews   \n",
       "6         42.0     1539.0           3.0     0.0     0.0  Billex Jacostaffey   \n",
       "7          0.0        0.0           0.0     0.0     NaN  Candra Jacostaffey   \n",
       "8          0.0      785.0          17.0   216.0     0.0       Andona Beston   \n",
       "9          0.0        0.0           0.0     0.0     0.0      Erraiam Flatic   \n",
       "\n",
       "   Transported  \n",
       "0        False  \n",
       "1         True  \n",
       "2        False  \n",
       "3        False  \n",
       "4         True  \n",
       "5         True  \n",
       "6         True  \n",
       "7         True  \n",
       "8         True  \n",
       "9         True  "
      ]
     },
     "execution_count": 3,
     "metadata": {},
     "output_type": "execute_result"
    }
   ],
   "source": [
    "print(train_data.shape)\n",
    "train_data.head(10)"
   ]
  },
  {
   "cell_type": "code",
   "execution_count": 4,
   "id": "8f60f64e",
   "metadata": {
    "execution": {
     "iopub.execute_input": "2023-03-27T14:41:28.829703Z",
     "iopub.status.busy": "2023-03-27T14:41:28.828638Z",
     "iopub.status.idle": "2023-03-27T14:41:28.857597Z",
     "shell.execute_reply": "2023-03-27T14:41:28.855867Z"
    },
    "papermill": {
     "duration": 0.047361,
     "end_time": "2023-03-27T14:41:28.860134",
     "exception": false,
     "start_time": "2023-03-27T14:41:28.812773",
     "status": "completed"
    },
    "tags": []
   },
   "outputs": [
    {
     "name": "stdout",
     "output_type": "stream",
     "text": [
      "<class 'pandas.core.frame.DataFrame'>\n",
      "RangeIndex: 8693 entries, 0 to 8692\n",
      "Data columns (total 14 columns):\n",
      " #   Column        Non-Null Count  Dtype  \n",
      "---  ------        --------------  -----  \n",
      " 0   PassengerId   8693 non-null   object \n",
      " 1   HomePlanet    8492 non-null   object \n",
      " 2   CryoSleep     8476 non-null   object \n",
      " 3   Cabin         8494 non-null   object \n",
      " 4   Destination   8511 non-null   object \n",
      " 5   Age           8514 non-null   float64\n",
      " 6   VIP           8490 non-null   object \n",
      " 7   RoomService   8512 non-null   float64\n",
      " 8   FoodCourt     8510 non-null   float64\n",
      " 9   ShoppingMall  8485 non-null   float64\n",
      " 10  Spa           8510 non-null   float64\n",
      " 11  VRDeck        8505 non-null   float64\n",
      " 12  Name          8493 non-null   object \n",
      " 13  Transported   8693 non-null   bool   \n",
      "dtypes: bool(1), float64(6), object(7)\n",
      "memory usage: 891.5+ KB\n"
     ]
    }
   ],
   "source": [
    "train_data.info()"
   ]
  },
  {
   "cell_type": "code",
   "execution_count": 5,
   "id": "c74ed127",
   "metadata": {
    "execution": {
     "iopub.execute_input": "2023-03-27T14:41:28.891452Z",
     "iopub.status.busy": "2023-03-27T14:41:28.890750Z",
     "iopub.status.idle": "2023-03-27T14:41:28.903619Z",
     "shell.execute_reply": "2023-03-27T14:41:28.902457Z"
    },
    "papermill": {
     "duration": 0.031421,
     "end_time": "2023-03-27T14:41:28.906134",
     "exception": false,
     "start_time": "2023-03-27T14:41:28.874713",
     "status": "completed"
    },
    "tags": []
   },
   "outputs": [
    {
     "data": {
      "text/plain": [
       "PassengerId       0\n",
       "HomePlanet      201\n",
       "CryoSleep       217\n",
       "Cabin           199\n",
       "Destination     182\n",
       "Age             179\n",
       "VIP             203\n",
       "RoomService     181\n",
       "FoodCourt       183\n",
       "ShoppingMall    208\n",
       "Spa             183\n",
       "VRDeck          188\n",
       "Name            200\n",
       "Transported       0\n",
       "dtype: int64"
      ]
     },
     "execution_count": 5,
     "metadata": {},
     "output_type": "execute_result"
    }
   ],
   "source": [
    "train_data.isnull().sum()"
   ]
  },
  {
   "cell_type": "code",
   "execution_count": 6,
   "id": "795adc7a",
   "metadata": {
    "execution": {
     "iopub.execute_input": "2023-03-27T14:41:28.938082Z",
     "iopub.status.busy": "2023-03-27T14:41:28.937014Z",
     "iopub.status.idle": "2023-03-27T14:41:28.953469Z",
     "shell.execute_reply": "2023-03-27T14:41:28.952208Z"
    },
    "papermill": {
     "duration": 0.035441,
     "end_time": "2023-03-27T14:41:28.956402",
     "exception": false,
     "start_time": "2023-03-27T14:41:28.920961",
     "status": "completed"
    },
    "tags": []
   },
   "outputs": [],
   "source": [
    "train_data.loc[:,['RoomService','FoodCourt','ShoppingMall','Spa','VRDeck']] = train_data.loc[:,['RoomService','FoodCourt','ShoppingMall','Spa','VRDeck']].fillna(0)\n",
    "test_data.loc[:,['RoomService','FoodCourt','ShoppingMall','Spa','VRDeck']] = test_data.loc[:,['RoomService','FoodCourt','ShoppingMall','Spa','VRDeck']].fillna(0)"
   ]
  },
  {
   "cell_type": "code",
   "execution_count": 7,
   "id": "a27caf60",
   "metadata": {
    "execution": {
     "iopub.execute_input": "2023-03-27T14:41:28.989015Z",
     "iopub.status.busy": "2023-03-27T14:41:28.988576Z",
     "iopub.status.idle": "2023-03-27T14:41:29.002166Z",
     "shell.execute_reply": "2023-03-27T14:41:29.001189Z"
    },
    "papermill": {
     "duration": 0.032881,
     "end_time": "2023-03-27T14:41:29.004352",
     "exception": false,
     "start_time": "2023-03-27T14:41:28.971471",
     "status": "completed"
    },
    "tags": []
   },
   "outputs": [
    {
     "data": {
      "text/plain": [
       "PassengerId       0\n",
       "HomePlanet      201\n",
       "CryoSleep       217\n",
       "Cabin           199\n",
       "Destination     182\n",
       "Age             179\n",
       "VIP             203\n",
       "RoomService       0\n",
       "FoodCourt         0\n",
       "ShoppingMall      0\n",
       "Spa               0\n",
       "VRDeck            0\n",
       "Name            200\n",
       "Transported       0\n",
       "dtype: int64"
      ]
     },
     "execution_count": 7,
     "metadata": {},
     "output_type": "execute_result"
    }
   ],
   "source": [
    "train_data.isnull().sum()"
   ]
  },
  {
   "cell_type": "code",
   "execution_count": 8,
   "id": "e431937c",
   "metadata": {
    "execution": {
     "iopub.execute_input": "2023-03-27T14:41:29.037445Z",
     "iopub.status.busy": "2023-03-27T14:41:29.036759Z",
     "iopub.status.idle": "2023-03-27T14:41:29.067976Z",
     "shell.execute_reply": "2023-03-27T14:41:29.066759Z"
    },
    "papermill": {
     "duration": 0.051086,
     "end_time": "2023-03-27T14:41:29.070416",
     "exception": false,
     "start_time": "2023-03-27T14:41:29.019330",
     "status": "completed"
    },
    "tags": []
   },
   "outputs": [
    {
     "data": {
      "text/html": [
       "<div>\n",
       "<style scoped>\n",
       "    .dataframe tbody tr th:only-of-type {\n",
       "        vertical-align: middle;\n",
       "    }\n",
       "\n",
       "    .dataframe tbody tr th {\n",
       "        vertical-align: top;\n",
       "    }\n",
       "\n",
       "    .dataframe thead th {\n",
       "        text-align: right;\n",
       "    }\n",
       "</style>\n",
       "<table border=\"1\" class=\"dataframe\">\n",
       "  <thead>\n",
       "    <tr style=\"text-align: right;\">\n",
       "      <th></th>\n",
       "      <th>Age</th>\n",
       "      <th>RoomService</th>\n",
       "      <th>FoodCourt</th>\n",
       "      <th>ShoppingMall</th>\n",
       "      <th>Spa</th>\n",
       "      <th>VRDeck</th>\n",
       "    </tr>\n",
       "  </thead>\n",
       "  <tbody>\n",
       "    <tr>\n",
       "      <th>count</th>\n",
       "      <td>8514.000000</td>\n",
       "      <td>8693.000000</td>\n",
       "      <td>8693.000000</td>\n",
       "      <td>8693.000000</td>\n",
       "      <td>8693.000000</td>\n",
       "      <td>8693.000000</td>\n",
       "    </tr>\n",
       "    <tr>\n",
       "      <th>mean</th>\n",
       "      <td>28.827930</td>\n",
       "      <td>220.009318</td>\n",
       "      <td>448.434027</td>\n",
       "      <td>169.572300</td>\n",
       "      <td>304.588865</td>\n",
       "      <td>298.261820</td>\n",
       "    </tr>\n",
       "    <tr>\n",
       "      <th>std</th>\n",
       "      <td>14.489021</td>\n",
       "      <td>660.519050</td>\n",
       "      <td>1595.790627</td>\n",
       "      <td>598.007164</td>\n",
       "      <td>1125.562559</td>\n",
       "      <td>1134.126417</td>\n",
       "    </tr>\n",
       "    <tr>\n",
       "      <th>min</th>\n",
       "      <td>0.000000</td>\n",
       "      <td>0.000000</td>\n",
       "      <td>0.000000</td>\n",
       "      <td>0.000000</td>\n",
       "      <td>0.000000</td>\n",
       "      <td>0.000000</td>\n",
       "    </tr>\n",
       "    <tr>\n",
       "      <th>25%</th>\n",
       "      <td>19.000000</td>\n",
       "      <td>0.000000</td>\n",
       "      <td>0.000000</td>\n",
       "      <td>0.000000</td>\n",
       "      <td>0.000000</td>\n",
       "      <td>0.000000</td>\n",
       "    </tr>\n",
       "    <tr>\n",
       "      <th>50%</th>\n",
       "      <td>27.000000</td>\n",
       "      <td>0.000000</td>\n",
       "      <td>0.000000</td>\n",
       "      <td>0.000000</td>\n",
       "      <td>0.000000</td>\n",
       "      <td>0.000000</td>\n",
       "    </tr>\n",
       "    <tr>\n",
       "      <th>75%</th>\n",
       "      <td>38.000000</td>\n",
       "      <td>41.000000</td>\n",
       "      <td>61.000000</td>\n",
       "      <td>22.000000</td>\n",
       "      <td>53.000000</td>\n",
       "      <td>40.000000</td>\n",
       "    </tr>\n",
       "    <tr>\n",
       "      <th>max</th>\n",
       "      <td>79.000000</td>\n",
       "      <td>14327.000000</td>\n",
       "      <td>29813.000000</td>\n",
       "      <td>23492.000000</td>\n",
       "      <td>22408.000000</td>\n",
       "      <td>24133.000000</td>\n",
       "    </tr>\n",
       "  </tbody>\n",
       "</table>\n",
       "</div>"
      ],
      "text/plain": [
       "               Age   RoomService     FoodCourt  ShoppingMall           Spa  \\\n",
       "count  8514.000000   8693.000000   8693.000000   8693.000000   8693.000000   \n",
       "mean     28.827930    220.009318    448.434027    169.572300    304.588865   \n",
       "std      14.489021    660.519050   1595.790627    598.007164   1125.562559   \n",
       "min       0.000000      0.000000      0.000000      0.000000      0.000000   \n",
       "25%      19.000000      0.000000      0.000000      0.000000      0.000000   \n",
       "50%      27.000000      0.000000      0.000000      0.000000      0.000000   \n",
       "75%      38.000000     41.000000     61.000000     22.000000     53.000000   \n",
       "max      79.000000  14327.000000  29813.000000  23492.000000  22408.000000   \n",
       "\n",
       "             VRDeck  \n",
       "count   8693.000000  \n",
       "mean     298.261820  \n",
       "std     1134.126417  \n",
       "min        0.000000  \n",
       "25%        0.000000  \n",
       "50%        0.000000  \n",
       "75%       40.000000  \n",
       "max    24133.000000  "
      ]
     },
     "execution_count": 8,
     "metadata": {},
     "output_type": "execute_result"
    }
   ],
   "source": [
    "train_data.describe()"
   ]
  },
  {
   "cell_type": "code",
   "execution_count": 9,
   "id": "eb5a4928",
   "metadata": {
    "execution": {
     "iopub.execute_input": "2023-03-27T14:41:29.103527Z",
     "iopub.status.busy": "2023-03-27T14:41:29.102188Z",
     "iopub.status.idle": "2023-03-27T14:41:29.132178Z",
     "shell.execute_reply": "2023-03-27T14:41:29.130891Z"
    },
    "papermill": {
     "duration": 0.049088,
     "end_time": "2023-03-27T14:41:29.134729",
     "exception": false,
     "start_time": "2023-03-27T14:41:29.085641",
     "status": "completed"
    },
    "tags": []
   },
   "outputs": [
    {
     "data": {
      "text/html": [
       "<div>\n",
       "<style scoped>\n",
       "    .dataframe tbody tr th:only-of-type {\n",
       "        vertical-align: middle;\n",
       "    }\n",
       "\n",
       "    .dataframe tbody tr th {\n",
       "        vertical-align: top;\n",
       "    }\n",
       "\n",
       "    .dataframe thead th {\n",
       "        text-align: right;\n",
       "    }\n",
       "</style>\n",
       "<table border=\"1\" class=\"dataframe\">\n",
       "  <thead>\n",
       "    <tr style=\"text-align: right;\">\n",
       "      <th></th>\n",
       "      <th>PassengerId</th>\n",
       "      <th>HomePlanet</th>\n",
       "      <th>CryoSleep</th>\n",
       "      <th>Cabin</th>\n",
       "      <th>Destination</th>\n",
       "      <th>Age</th>\n",
       "      <th>VIP</th>\n",
       "      <th>RoomService</th>\n",
       "      <th>FoodCourt</th>\n",
       "      <th>ShoppingMall</th>\n",
       "      <th>Spa</th>\n",
       "      <th>VRDeck</th>\n",
       "      <th>Name</th>\n",
       "      <th>Transported</th>\n",
       "    </tr>\n",
       "  </thead>\n",
       "  <tbody>\n",
       "  </tbody>\n",
       "</table>\n",
       "</div>"
      ],
      "text/plain": [
       "Empty DataFrame\n",
       "Columns: [PassengerId, HomePlanet, CryoSleep, Cabin, Destination, Age, VIP, RoomService, FoodCourt, ShoppingMall, Spa, VRDeck, Name, Transported]\n",
       "Index: []"
      ]
     },
     "execution_count": 9,
     "metadata": {},
     "output_type": "execute_result"
    }
   ],
   "source": [
    "train_data[train_data.duplicated()]"
   ]
  },
  {
   "cell_type": "code",
   "execution_count": 10,
   "id": "aed7c4f2",
   "metadata": {
    "execution": {
     "iopub.execute_input": "2023-03-27T14:41:29.167533Z",
     "iopub.status.busy": "2023-03-27T14:41:29.167128Z",
     "iopub.status.idle": "2023-03-27T14:41:29.785416Z",
     "shell.execute_reply": "2023-03-27T14:41:29.784329Z"
    },
    "papermill": {
     "duration": 0.637962,
     "end_time": "2023-03-27T14:41:29.788186",
     "exception": false,
     "start_time": "2023-03-27T14:41:29.150224",
     "status": "completed"
    },
    "tags": []
   },
   "outputs": [
    {
     "data": {
      "text/plain": [
       "<AxesSubplot:>"
      ]
     },
     "execution_count": 10,
     "metadata": {},
     "output_type": "execute_result"
    },
    {
     "data": {
      "image/png": "[encoded data removed]",
      "text/plain": [
       "<Figure size 640x480 with 2 Axes>"
      ]
     },
     "metadata": {},
     "output_type": "display_data"
    }
   ],
   "source": [
    "# plt.figure(figsize=(12,12))\n",
    "sns.heatmap(data=train_data.corr(), annot=True)"
   ]
  },
  {
   "cell_type": "code",
   "execution_count": 11,
   "id": "d1d339c0",
   "metadata": {
    "execution": {
     "iopub.execute_input": "2023-03-27T14:41:29.824763Z",
     "iopub.status.busy": "2023-03-27T14:41:29.823596Z",
     "iopub.status.idle": "2023-03-27T14:41:29.853685Z",
     "shell.execute_reply": "2023-03-27T14:41:29.852383Z"
    },
    "papermill": {
     "duration": 0.050856,
     "end_time": "2023-03-27T14:41:29.856449",
     "exception": false,
     "start_time": "2023-03-27T14:41:29.805593",
     "status": "completed"
    },
    "tags": []
   },
   "outputs": [
    {
     "data": {
      "text/html": [
       "<div>\n",
       "<style scoped>\n",
       "    .dataframe tbody tr th:only-of-type {\n",
       "        vertical-align: middle;\n",
       "    }\n",
       "\n",
       "    .dataframe tbody tr th {\n",
       "        vertical-align: top;\n",
       "    }\n",
       "\n",
       "    .dataframe thead th {\n",
       "        text-align: right;\n",
       "    }\n",
       "</style>\n",
       "<table border=\"1\" class=\"dataframe\">\n",
       "  <thead>\n",
       "    <tr style=\"text-align: right;\">\n",
       "      <th></th>\n",
       "      <th>PassengerId</th>\n",
       "      <th>HomePlanet</th>\n",
       "      <th>CryoSleep</th>\n",
       "      <th>Cabin</th>\n",
       "      <th>Destination</th>\n",
       "      <th>Age</th>\n",
       "      <th>VIP</th>\n",
       "      <th>RoomService</th>\n",
       "      <th>FoodCourt</th>\n",
       "      <th>ShoppingMall</th>\n",
       "      <th>Spa</th>\n",
       "      <th>VRDeck</th>\n",
       "      <th>Name</th>\n",
       "      <th>Transported</th>\n",
       "    </tr>\n",
       "  </thead>\n",
       "  <tbody>\n",
       "    <tr>\n",
       "      <th>50</th>\n",
       "      <td>0052_01</td>\n",
       "      <td>Earth</td>\n",
       "      <td>False</td>\n",
       "      <td>G/6/S</td>\n",
       "      <td>TRAPPIST-1e</td>\n",
       "      <td>NaN</td>\n",
       "      <td>False</td>\n",
       "      <td>4.0</td>\n",
       "      <td>0.0</td>\n",
       "      <td>2.0</td>\n",
       "      <td>4683.0</td>\n",
       "      <td>0.0</td>\n",
       "      <td>Elaney Hubbarton</td>\n",
       "      <td>False</td>\n",
       "    </tr>\n",
       "    <tr>\n",
       "      <th>64</th>\n",
       "      <td>0068_01</td>\n",
       "      <td>Mars</td>\n",
       "      <td>False</td>\n",
       "      <td>E/4/S</td>\n",
       "      <td>TRAPPIST-1e</td>\n",
       "      <td>NaN</td>\n",
       "      <td>False</td>\n",
       "      <td>793.0</td>\n",
       "      <td>0.0</td>\n",
       "      <td>2.0</td>\n",
       "      <td>253.0</td>\n",
       "      <td>0.0</td>\n",
       "      <td>Cinst Binie</td>\n",
       "      <td>False</td>\n",
       "    </tr>\n",
       "    <tr>\n",
       "      <th>137</th>\n",
       "      <td>0149_01</td>\n",
       "      <td>Earth</td>\n",
       "      <td>True</td>\n",
       "      <td>G/27/S</td>\n",
       "      <td>55 Cancri e</td>\n",
       "      <td>NaN</td>\n",
       "      <td>False</td>\n",
       "      <td>0.0</td>\n",
       "      <td>0.0</td>\n",
       "      <td>0.0</td>\n",
       "      <td>0.0</td>\n",
       "      <td>0.0</td>\n",
       "      <td>Billya Hubbarrison</td>\n",
       "      <td>True</td>\n",
       "    </tr>\n",
       "    <tr>\n",
       "      <th>181</th>\n",
       "      <td>0202_02</td>\n",
       "      <td>Europa</td>\n",
       "      <td>False</td>\n",
       "      <td>A/2/P</td>\n",
       "      <td>55 Cancri e</td>\n",
       "      <td>NaN</td>\n",
       "      <td>False</td>\n",
       "      <td>0.0</td>\n",
       "      <td>2433.0</td>\n",
       "      <td>0.0</td>\n",
       "      <td>878.0</td>\n",
       "      <td>443.0</td>\n",
       "      <td>Vegas Embleng</td>\n",
       "      <td>True</td>\n",
       "    </tr>\n",
       "    <tr>\n",
       "      <th>184</th>\n",
       "      <td>0206_01</td>\n",
       "      <td>Europa</td>\n",
       "      <td>False</td>\n",
       "      <td>C/9/S</td>\n",
       "      <td>55 Cancri e</td>\n",
       "      <td>NaN</td>\n",
       "      <td>False</td>\n",
       "      <td>2.0</td>\n",
       "      <td>1720.0</td>\n",
       "      <td>12.0</td>\n",
       "      <td>1125.0</td>\n",
       "      <td>122.0</td>\n",
       "      <td>Nuson Brugashed</td>\n",
       "      <td>True</td>\n",
       "    </tr>\n",
       "    <tr>\n",
       "      <th>...</th>\n",
       "      <td>...</td>\n",
       "      <td>...</td>\n",
       "      <td>...</td>\n",
       "      <td>...</td>\n",
       "      <td>...</td>\n",
       "      <td>...</td>\n",
       "      <td>...</td>\n",
       "      <td>...</td>\n",
       "      <td>...</td>\n",
       "      <td>...</td>\n",
       "      <td>...</td>\n",
       "      <td>...</td>\n",
       "      <td>...</td>\n",
       "      <td>...</td>\n",
       "    </tr>\n",
       "    <tr>\n",
       "      <th>8274</th>\n",
       "      <td>8835_01</td>\n",
       "      <td>Earth</td>\n",
       "      <td>True</td>\n",
       "      <td>G/1425/S</td>\n",
       "      <td>TRAPPIST-1e</td>\n",
       "      <td>NaN</td>\n",
       "      <td>False</td>\n",
       "      <td>0.0</td>\n",
       "      <td>0.0</td>\n",
       "      <td>0.0</td>\n",
       "      <td>0.0</td>\n",
       "      <td>0.0</td>\n",
       "      <td>Shalle Bartines</td>\n",
       "      <td>False</td>\n",
       "    </tr>\n",
       "    <tr>\n",
       "      <th>8301</th>\n",
       "      <td>8862_03</td>\n",
       "      <td>Europa</td>\n",
       "      <td>True</td>\n",
       "      <td>C/329/S</td>\n",
       "      <td>TRAPPIST-1e</td>\n",
       "      <td>NaN</td>\n",
       "      <td>False</td>\n",
       "      <td>0.0</td>\n",
       "      <td>0.0</td>\n",
       "      <td>0.0</td>\n",
       "      <td>0.0</td>\n",
       "      <td>0.0</td>\n",
       "      <td>Alchib Myling</td>\n",
       "      <td>True</td>\n",
       "    </tr>\n",
       "    <tr>\n",
       "      <th>8374</th>\n",
       "      <td>8956_04</td>\n",
       "      <td>Earth</td>\n",
       "      <td>False</td>\n",
       "      <td>G/1453/P</td>\n",
       "      <td>TRAPPIST-1e</td>\n",
       "      <td>NaN</td>\n",
       "      <td>False</td>\n",
       "      <td>194.0</td>\n",
       "      <td>1.0</td>\n",
       "      <td>10.0</td>\n",
       "      <td>629.0</td>\n",
       "      <td>0.0</td>\n",
       "      <td>Krisa Bonnondry</td>\n",
       "      <td>False</td>\n",
       "    </tr>\n",
       "    <tr>\n",
       "      <th>8407</th>\n",
       "      <td>8988_01</td>\n",
       "      <td>Earth</td>\n",
       "      <td>True</td>\n",
       "      <td>G/1448/S</td>\n",
       "      <td>TRAPPIST-1e</td>\n",
       "      <td>NaN</td>\n",
       "      <td>False</td>\n",
       "      <td>0.0</td>\n",
       "      <td>0.0</td>\n",
       "      <td>0.0</td>\n",
       "      <td>0.0</td>\n",
       "      <td>0.0</td>\n",
       "      <td>Maen Fowlesterez</td>\n",
       "      <td>True</td>\n",
       "    </tr>\n",
       "    <tr>\n",
       "      <th>8557</th>\n",
       "      <td>9136_01</td>\n",
       "      <td>Earth</td>\n",
       "      <td>False</td>\n",
       "      <td>G/1471/S</td>\n",
       "      <td>TRAPPIST-1e</td>\n",
       "      <td>NaN</td>\n",
       "      <td>False</td>\n",
       "      <td>6.0</td>\n",
       "      <td>0.0</td>\n",
       "      <td>0.0</td>\n",
       "      <td>800.0</td>\n",
       "      <td>3.0</td>\n",
       "      <td>Sall Hestes</td>\n",
       "      <td>False</td>\n",
       "    </tr>\n",
       "  </tbody>\n",
       "</table>\n",
       "<p>179 rows × 14 columns</p>\n",
       "</div>"
      ],
      "text/plain": [
       "     PassengerId HomePlanet CryoSleep     Cabin  Destination  Age    VIP  \\\n",
       "50       0052_01      Earth     False     G/6/S  TRAPPIST-1e  NaN  False   \n",
       "64       0068_01       Mars     False     E/4/S  TRAPPIST-1e  NaN  False   \n",
       "137      0149_01      Earth      True    G/27/S  55 Cancri e  NaN  False   \n",
       "181      0202_02     Europa     False     A/2/P  55 Cancri e  NaN  False   \n",
       "184      0206_01     Europa     False     C/9/S  55 Cancri e  NaN  False   \n",
       "...          ...        ...       ...       ...          ...  ...    ...   \n",
       "8274     8835_01      Earth      True  G/1425/S  TRAPPIST-1e  NaN  False   \n",
       "8301     8862_03     Europa      True   C/329/S  TRAPPIST-1e  NaN  False   \n",
       "8374     8956_04      Earth     False  G/1453/P  TRAPPIST-1e  NaN  False   \n",
       "8407     8988_01      Earth      True  G/1448/S  TRAPPIST-1e  NaN  False   \n",
       "8557     9136_01      Earth     False  G/1471/S  TRAPPIST-1e  NaN  False   \n",
       "\n",
       "      RoomService  FoodCourt  ShoppingMall     Spa  VRDeck  \\\n",
       "50            4.0        0.0           2.0  4683.0     0.0   \n",
       "64          793.0        0.0           2.0   253.0     0.0   \n",
       "137           0.0        0.0           0.0     0.0     0.0   \n",
       "181           0.0     2433.0           0.0   878.0   443.0   \n",
       "184           2.0     1720.0          12.0  1125.0   122.0   \n",
       "...           ...        ...           ...     ...     ...   \n",
       "8274          0.0        0.0           0.0     0.0     0.0   \n",
       "8301          0.0        0.0           0.0     0.0     0.0   \n",
       "8374        194.0        1.0          10.0   629.0     0.0   \n",
       "8407          0.0        0.0           0.0     0.0     0.0   \n",
       "8557          6.0        0.0           0.0   800.0     3.0   \n",
       "\n",
       "                    Name  Transported  \n",
       "50      Elaney Hubbarton        False  \n",
       "64           Cinst Binie        False  \n",
       "137   Billya Hubbarrison         True  \n",
       "181        Vegas Embleng         True  \n",
       "184      Nuson Brugashed         True  \n",
       "...                  ...          ...  \n",
       "8274     Shalle Bartines        False  \n",
       "8301       Alchib Myling         True  \n",
       "8374     Krisa Bonnondry        False  \n",
       "8407    Maen Fowlesterez         True  \n",
       "8557         Sall Hestes        False  \n",
       "\n",
       "[179 rows x 14 columns]"
      ]
     },
     "execution_count": 11,
     "metadata": {},
     "output_type": "execute_result"
    }
   ],
   "source": [
    "train_data[train_data['Age'].isna()]"
   ]
  },
  {
   "cell_type": "code",
   "execution_count": 12,
   "id": "bf98871f",
   "metadata": {
    "execution": {
     "iopub.execute_input": "2023-03-27T14:41:29.893870Z",
     "iopub.status.busy": "2023-03-27T14:41:29.893020Z",
     "iopub.status.idle": "2023-03-27T14:41:29.902521Z",
     "shell.execute_reply": "2023-03-27T14:41:29.901441Z"
    },
    "papermill": {
     "duration": 0.031101,
     "end_time": "2023-03-27T14:41:29.904922",
     "exception": false,
     "start_time": "2023-03-27T14:41:29.873821",
     "status": "completed"
    },
    "tags": []
   },
   "outputs": [
    {
     "data": {
      "text/plain": [
       "Earth     4602\n",
       "Europa    2131\n",
       "Mars      1759\n",
       "Name: HomePlanet, dtype: int64"
      ]
     },
     "execution_count": 12,
     "metadata": {},
     "output_type": "execute_result"
    }
   ],
   "source": [
    "train_data['HomePlanet'].value_counts()"
   ]
  },
  {
   "cell_type": "code",
   "execution_count": 13,
   "id": "524b9ce8",
   "metadata": {
    "execution": {
     "iopub.execute_input": "2023-03-27T14:41:29.941783Z",
     "iopub.status.busy": "2023-03-27T14:41:29.940513Z",
     "iopub.status.idle": "2023-03-27T14:41:30.096187Z",
     "shell.execute_reply": "2023-03-27T14:41:30.094750Z"
    },
    "papermill": {
     "duration": 0.177585,
     "end_time": "2023-03-27T14:41:30.099682",
     "exception": false,
     "start_time": "2023-03-27T14:41:29.922097",
     "status": "completed"
    },
    "tags": []
   },
   "outputs": [
    {
     "data": {
      "text/plain": [
       "<BarContainer object of 3 artists>"
      ]
     },
     "execution_count": 13,
     "metadata": {},
     "output_type": "execute_result"
    },
    {
     "data": {
      "image/png": "[encoded data removed]",
      "text/plain": [
       "<Figure size 300x300 with 1 Axes>"
      ]
     },
     "metadata": {},
     "output_type": "display_data"
    }
   ],
   "source": [
    "plt.figure(figsize=(3,3))\n",
    "# fig, ax = plt.subplots(figsize=(3,4))\n",
    "plt.bar(train_data['HomePlanet'].value_counts().index, train_data['HomePlanet'].value_counts().values)"
   ]
  },
  {
   "cell_type": "code",
   "execution_count": 14,
   "id": "314f8632",
   "metadata": {
    "execution": {
     "iopub.execute_input": "2023-03-27T14:41:30.137706Z",
     "iopub.status.busy": "2023-03-27T14:41:30.137225Z",
     "iopub.status.idle": "2023-03-27T14:41:30.360968Z",
     "shell.execute_reply": "2023-03-27T14:41:30.359705Z"
    },
    "papermill": {
     "duration": 0.245337,
     "end_time": "2023-03-27T14:41:30.363434",
     "exception": false,
     "start_time": "2023-03-27T14:41:30.118097",
     "status": "completed"
    },
    "tags": []
   },
   "outputs": [
    {
     "data": {
      "text/plain": [
       "<AxesSubplot:xlabel='Destination', ylabel='Count'>"
      ]
     },
     "execution_count": 14,
     "metadata": {},
     "output_type": "execute_result"
    },
    {
     "data": {
      "image/png": "[encoded data removed]",
      "text/plain": [
       "<Figure size 640x480 with 1 Axes>"
      ]
     },
     "metadata": {},
     "output_type": "display_data"
    }
   ],
   "source": [
    "# sns.set_style(rc=)\n",
    "sns.histplot(data=train_data, x='Destination')\n",
    "# plt.show()"
   ]
  },
  {
   "cell_type": "code",
   "execution_count": 15,
   "id": "e0c7b297",
   "metadata": {
    "execution": {
     "iopub.execute_input": "2023-03-27T14:41:30.401707Z",
     "iopub.status.busy": "2023-03-27T14:41:30.401246Z",
     "iopub.status.idle": "2023-03-27T14:41:30.417372Z",
     "shell.execute_reply": "2023-03-27T14:41:30.416064Z"
    },
    "papermill": {
     "duration": 0.038196,
     "end_time": "2023-03-27T14:41:30.419776",
     "exception": false,
     "start_time": "2023-03-27T14:41:30.381580",
     "status": "completed"
    },
    "tags": []
   },
   "outputs": [],
   "source": [
    "le = LabelEncoder()\n",
    "train_data['HomePlanetCode'] = le.fit_transform(train_data['HomePlanet'])\n",
    "train_data['DestinationCode'] = le.fit_transform(train_data['Destination'])\n",
    "test_data['HomePlanetCode'] = le.fit_transform(test_data['HomePlanet'])\n",
    "test_data['DestinationCode'] = le.fit_transform(test_data['Destination'])"
   ]
  },
  {
   "cell_type": "code",
   "execution_count": 16,
   "id": "5a84b422",
   "metadata": {
    "execution": {
     "iopub.execute_input": "2023-03-27T14:41:30.459058Z",
     "iopub.status.busy": "2023-03-27T14:41:30.458583Z",
     "iopub.status.idle": "2023-03-27T14:41:30.467456Z",
     "shell.execute_reply": "2023-03-27T14:41:30.466208Z"
    },
    "papermill": {
     "duration": 0.031593,
     "end_time": "2023-03-27T14:41:30.470238",
     "exception": false,
     "start_time": "2023-03-27T14:41:30.438645",
     "status": "completed"
    },
    "tags": []
   },
   "outputs": [
    {
     "data": {
      "text/plain": [
       "0    4602\n",
       "1    2131\n",
       "2    1759\n",
       "3     201\n",
       "Name: HomePlanetCode, dtype: int64"
      ]
     },
     "execution_count": 16,
     "metadata": {},
     "output_type": "execute_result"
    }
   ],
   "source": [
    "train_data['HomePlanetCode'].value_counts()"
   ]
  },
  {
   "cell_type": "code",
   "execution_count": 17,
   "id": "aeeca41e",
   "metadata": {
    "execution": {
     "iopub.execute_input": "2023-03-27T14:41:30.509576Z",
     "iopub.status.busy": "2023-03-27T14:41:30.509135Z",
     "iopub.status.idle": "2023-03-27T14:41:30.518706Z",
     "shell.execute_reply": "2023-03-27T14:41:30.517531Z"
    },
    "papermill": {
     "duration": 0.032456,
     "end_time": "2023-03-27T14:41:30.521260",
     "exception": false,
     "start_time": "2023-03-27T14:41:30.488804",
     "status": "completed"
    },
    "tags": []
   },
   "outputs": [
    {
     "data": {
      "text/plain": [
       "2    5915\n",
       "0    1800\n",
       "1     796\n",
       "3     182\n",
       "Name: DestinationCode, dtype: int64"
      ]
     },
     "execution_count": 17,
     "metadata": {},
     "output_type": "execute_result"
    }
   ],
   "source": [
    "train_data['DestinationCode'].value_counts()"
   ]
  },
  {
   "cell_type": "code",
   "execution_count": 18,
   "id": "98fd77b7",
   "metadata": {
    "execution": {
     "iopub.execute_input": "2023-03-27T14:41:30.560140Z",
     "iopub.status.busy": "2023-03-27T14:41:30.559725Z",
     "iopub.status.idle": "2023-03-27T14:41:30.578473Z",
     "shell.execute_reply": "2023-03-27T14:41:30.577245Z"
    },
    "papermill": {
     "duration": 0.041279,
     "end_time": "2023-03-27T14:41:30.581037",
     "exception": false,
     "start_time": "2023-03-27T14:41:30.539758",
     "status": "completed"
    },
    "tags": []
   },
   "outputs": [
    {
     "data": {
      "text/html": [
       "<div>\n",
       "<style scoped>\n",
       "    .dataframe tbody tr th:only-of-type {\n",
       "        vertical-align: middle;\n",
       "    }\n",
       "\n",
       "    .dataframe tbody tr th {\n",
       "        vertical-align: top;\n",
       "    }\n",
       "\n",
       "    .dataframe thead th {\n",
       "        text-align: right;\n",
       "    }\n",
       "</style>\n",
       "<table border=\"1\" class=\"dataframe\">\n",
       "  <thead>\n",
       "    <tr style=\"text-align: right;\">\n",
       "      <th></th>\n",
       "      <th>HomePlanet</th>\n",
       "      <th>Destination</th>\n",
       "      <th>Transported</th>\n",
       "    </tr>\n",
       "  </thead>\n",
       "  <tbody>\n",
       "    <tr>\n",
       "      <th>59</th>\n",
       "      <td>NaN</td>\n",
       "      <td>TRAPPIST-1e</td>\n",
       "      <td>True</td>\n",
       "    </tr>\n",
       "    <tr>\n",
       "      <th>113</th>\n",
       "      <td>NaN</td>\n",
       "      <td>TRAPPIST-1e</td>\n",
       "      <td>False</td>\n",
       "    </tr>\n",
       "    <tr>\n",
       "      <th>186</th>\n",
       "      <td>NaN</td>\n",
       "      <td>55 Cancri e</td>\n",
       "      <td>True</td>\n",
       "    </tr>\n",
       "    <tr>\n",
       "      <th>225</th>\n",
       "      <td>NaN</td>\n",
       "      <td>TRAPPIST-1e</td>\n",
       "      <td>False</td>\n",
       "    </tr>\n",
       "    <tr>\n",
       "      <th>234</th>\n",
       "      <td>NaN</td>\n",
       "      <td>55 Cancri e</td>\n",
       "      <td>True</td>\n",
       "    </tr>\n",
       "    <tr>\n",
       "      <th>...</th>\n",
       "      <td>...</td>\n",
       "      <td>...</td>\n",
       "      <td>...</td>\n",
       "    </tr>\n",
       "    <tr>\n",
       "      <th>8515</th>\n",
       "      <td>NaN</td>\n",
       "      <td>TRAPPIST-1e</td>\n",
       "      <td>False</td>\n",
       "    </tr>\n",
       "    <tr>\n",
       "      <th>8613</th>\n",
       "      <td>NaN</td>\n",
       "      <td>55 Cancri e</td>\n",
       "      <td>False</td>\n",
       "    </tr>\n",
       "    <tr>\n",
       "      <th>8666</th>\n",
       "      <td>NaN</td>\n",
       "      <td>55 Cancri e</td>\n",
       "      <td>True</td>\n",
       "    </tr>\n",
       "    <tr>\n",
       "      <th>8674</th>\n",
       "      <td>NaN</td>\n",
       "      <td>TRAPPIST-1e</td>\n",
       "      <td>False</td>\n",
       "    </tr>\n",
       "    <tr>\n",
       "      <th>8684</th>\n",
       "      <td>NaN</td>\n",
       "      <td>TRAPPIST-1e</td>\n",
       "      <td>True</td>\n",
       "    </tr>\n",
       "  </tbody>\n",
       "</table>\n",
       "<p>201 rows × 3 columns</p>\n",
       "</div>"
      ],
      "text/plain": [
       "     HomePlanet  Destination  Transported\n",
       "59          NaN  TRAPPIST-1e         True\n",
       "113         NaN  TRAPPIST-1e        False\n",
       "186         NaN  55 Cancri e         True\n",
       "225         NaN  TRAPPIST-1e        False\n",
       "234         NaN  55 Cancri e         True\n",
       "...         ...          ...          ...\n",
       "8515        NaN  TRAPPIST-1e        False\n",
       "8613        NaN  55 Cancri e        False\n",
       "8666        NaN  55 Cancri e         True\n",
       "8674        NaN  TRAPPIST-1e        False\n",
       "8684        NaN  TRAPPIST-1e         True\n",
       "\n",
       "[201 rows x 3 columns]"
      ]
     },
     "execution_count": 18,
     "metadata": {},
     "output_type": "execute_result"
    }
   ],
   "source": [
    "train_data[train_data['HomePlanet'].isna()].loc[:,['HomePlanet','Destination','Transported']]"
   ]
  },
  {
   "cell_type": "code",
   "execution_count": 19,
   "id": "edf84471",
   "metadata": {
    "execution": {
     "iopub.execute_input": "2023-03-27T14:41:30.620581Z",
     "iopub.status.busy": "2023-03-27T14:41:30.620163Z",
     "iopub.status.idle": "2023-03-27T14:41:30.637707Z",
     "shell.execute_reply": "2023-03-27T14:41:30.636349Z"
    },
    "papermill": {
     "duration": 0.040268,
     "end_time": "2023-03-27T14:41:30.640103",
     "exception": false,
     "start_time": "2023-03-27T14:41:30.599835",
     "status": "completed"
    },
    "tags": []
   },
   "outputs": [
    {
     "data": {
      "text/html": [
       "<div>\n",
       "<style scoped>\n",
       "    .dataframe tbody tr th:only-of-type {\n",
       "        vertical-align: middle;\n",
       "    }\n",
       "\n",
       "    .dataframe tbody tr th {\n",
       "        vertical-align: top;\n",
       "    }\n",
       "\n",
       "    .dataframe thead th {\n",
       "        text-align: right;\n",
       "    }\n",
       "</style>\n",
       "<table border=\"1\" class=\"dataframe\">\n",
       "  <thead>\n",
       "    <tr style=\"text-align: right;\">\n",
       "      <th></th>\n",
       "      <th>HomePlanet</th>\n",
       "      <th>Destination</th>\n",
       "      <th>Transported</th>\n",
       "    </tr>\n",
       "  </thead>\n",
       "  <tbody>\n",
       "    <tr>\n",
       "      <th>47</th>\n",
       "      <td>Mars</td>\n",
       "      <td>NaN</td>\n",
       "      <td>True</td>\n",
       "    </tr>\n",
       "    <tr>\n",
       "      <th>128</th>\n",
       "      <td>Earth</td>\n",
       "      <td>NaN</td>\n",
       "      <td>False</td>\n",
       "    </tr>\n",
       "    <tr>\n",
       "      <th>139</th>\n",
       "      <td>Earth</td>\n",
       "      <td>NaN</td>\n",
       "      <td>False</td>\n",
       "    </tr>\n",
       "    <tr>\n",
       "      <th>347</th>\n",
       "      <td>NaN</td>\n",
       "      <td>NaN</td>\n",
       "      <td>False</td>\n",
       "    </tr>\n",
       "    <tr>\n",
       "      <th>430</th>\n",
       "      <td>Earth</td>\n",
       "      <td>NaN</td>\n",
       "      <td>False</td>\n",
       "    </tr>\n",
       "    <tr>\n",
       "      <th>...</th>\n",
       "      <td>...</td>\n",
       "      <td>...</td>\n",
       "      <td>...</td>\n",
       "    </tr>\n",
       "    <tr>\n",
       "      <th>8372</th>\n",
       "      <td>Earth</td>\n",
       "      <td>NaN</td>\n",
       "      <td>True</td>\n",
       "    </tr>\n",
       "    <tr>\n",
       "      <th>8551</th>\n",
       "      <td>Mars</td>\n",
       "      <td>NaN</td>\n",
       "      <td>True</td>\n",
       "    </tr>\n",
       "    <tr>\n",
       "      <th>8616</th>\n",
       "      <td>Mars</td>\n",
       "      <td>NaN</td>\n",
       "      <td>True</td>\n",
       "    </tr>\n",
       "    <tr>\n",
       "      <th>8621</th>\n",
       "      <td>Europa</td>\n",
       "      <td>NaN</td>\n",
       "      <td>False</td>\n",
       "    </tr>\n",
       "    <tr>\n",
       "      <th>8646</th>\n",
       "      <td>Earth</td>\n",
       "      <td>NaN</td>\n",
       "      <td>False</td>\n",
       "    </tr>\n",
       "  </tbody>\n",
       "</table>\n",
       "<p>182 rows × 3 columns</p>\n",
       "</div>"
      ],
      "text/plain": [
       "     HomePlanet Destination  Transported\n",
       "47         Mars         NaN         True\n",
       "128       Earth         NaN        False\n",
       "139       Earth         NaN        False\n",
       "347         NaN         NaN        False\n",
       "430       Earth         NaN        False\n",
       "...         ...         ...          ...\n",
       "8372      Earth         NaN         True\n",
       "8551       Mars         NaN         True\n",
       "8616       Mars         NaN         True\n",
       "8621     Europa         NaN        False\n",
       "8646      Earth         NaN        False\n",
       "\n",
       "[182 rows x 3 columns]"
      ]
     },
     "execution_count": 19,
     "metadata": {},
     "output_type": "execute_result"
    }
   ],
   "source": [
    "train_data[train_data['Destination'].isna()].loc[:,['HomePlanet','Destination','Transported']]"
   ]
  },
  {
   "cell_type": "code",
   "execution_count": 20,
   "id": "cdaf024d",
   "metadata": {
    "execution": {
     "iopub.execute_input": "2023-03-27T14:41:30.680573Z",
     "iopub.status.busy": "2023-03-27T14:41:30.680104Z",
     "iopub.status.idle": "2023-03-27T14:41:30.691400Z",
     "shell.execute_reply": "2023-03-27T14:41:30.690172Z"
    },
    "papermill": {
     "duration": 0.034356,
     "end_time": "2023-03-27T14:41:30.693894",
     "exception": false,
     "start_time": "2023-03-27T14:41:30.659538",
     "status": "completed"
    },
    "tags": []
   },
   "outputs": [],
   "source": [
    "train_data['CryoSleepCode'] = le.fit_transform(train_data['CryoSleep'])\n",
    "test_data['CryoSleepCode'] = le.fit_transform(test_data['CryoSleep'])"
   ]
  },
  {
   "cell_type": "code",
   "execution_count": 21,
   "id": "a5049615",
   "metadata": {
    "execution": {
     "iopub.execute_input": "2023-03-27T14:41:30.735206Z",
     "iopub.status.busy": "2023-03-27T14:41:30.734821Z",
     "iopub.status.idle": "2023-03-27T14:41:30.761099Z",
     "shell.execute_reply": "2023-03-27T14:41:30.759737Z"
    },
    "papermill": {
     "duration": 0.049254,
     "end_time": "2023-03-27T14:41:30.763604",
     "exception": false,
     "start_time": "2023-03-27T14:41:30.714350",
     "status": "completed"
    },
    "tags": []
   },
   "outputs": [
    {
     "data": {
      "text/html": [
       "<div>\n",
       "<style scoped>\n",
       "    .dataframe tbody tr th:only-of-type {\n",
       "        vertical-align: middle;\n",
       "    }\n",
       "\n",
       "    .dataframe tbody tr th {\n",
       "        vertical-align: top;\n",
       "    }\n",
       "\n",
       "    .dataframe thead th {\n",
       "        text-align: right;\n",
       "    }\n",
       "</style>\n",
       "<table border=\"1\" class=\"dataframe\">\n",
       "  <thead>\n",
       "    <tr style=\"text-align: right;\">\n",
       "      <th></th>\n",
       "      <th>PassengerId</th>\n",
       "      <th>HomePlanet</th>\n",
       "      <th>CryoSleep</th>\n",
       "      <th>Cabin</th>\n",
       "      <th>Destination</th>\n",
       "      <th>Age</th>\n",
       "      <th>VIP</th>\n",
       "      <th>RoomService</th>\n",
       "      <th>FoodCourt</th>\n",
       "      <th>ShoppingMall</th>\n",
       "      <th>Spa</th>\n",
       "      <th>VRDeck</th>\n",
       "      <th>Name</th>\n",
       "      <th>HomePlanetCode</th>\n",
       "      <th>DestinationCode</th>\n",
       "      <th>CryoSleepCode</th>\n",
       "    </tr>\n",
       "  </thead>\n",
       "  <tbody>\n",
       "    <tr>\n",
       "      <th>0</th>\n",
       "      <td>0013_01</td>\n",
       "      <td>Earth</td>\n",
       "      <td>True</td>\n",
       "      <td>G/3/S</td>\n",
       "      <td>TRAPPIST-1e</td>\n",
       "      <td>27.0</td>\n",
       "      <td>False</td>\n",
       "      <td>0.0</td>\n",
       "      <td>0.0</td>\n",
       "      <td>0.0</td>\n",
       "      <td>0.0</td>\n",
       "      <td>0.0</td>\n",
       "      <td>Nelly Carsoning</td>\n",
       "      <td>0</td>\n",
       "      <td>2</td>\n",
       "      <td>1</td>\n",
       "    </tr>\n",
       "    <tr>\n",
       "      <th>1</th>\n",
       "      <td>0018_01</td>\n",
       "      <td>Earth</td>\n",
       "      <td>False</td>\n",
       "      <td>F/4/S</td>\n",
       "      <td>TRAPPIST-1e</td>\n",
       "      <td>19.0</td>\n",
       "      <td>False</td>\n",
       "      <td>0.0</td>\n",
       "      <td>9.0</td>\n",
       "      <td>0.0</td>\n",
       "      <td>2823.0</td>\n",
       "      <td>0.0</td>\n",
       "      <td>Lerome Peckers</td>\n",
       "      <td>0</td>\n",
       "      <td>2</td>\n",
       "      <td>0</td>\n",
       "    </tr>\n",
       "    <tr>\n",
       "      <th>2</th>\n",
       "      <td>0019_01</td>\n",
       "      <td>Europa</td>\n",
       "      <td>True</td>\n",
       "      <td>C/0/S</td>\n",
       "      <td>55 Cancri e</td>\n",
       "      <td>31.0</td>\n",
       "      <td>False</td>\n",
       "      <td>0.0</td>\n",
       "      <td>0.0</td>\n",
       "      <td>0.0</td>\n",
       "      <td>0.0</td>\n",
       "      <td>0.0</td>\n",
       "      <td>Sabih Unhearfus</td>\n",
       "      <td>1</td>\n",
       "      <td>0</td>\n",
       "      <td>1</td>\n",
       "    </tr>\n",
       "    <tr>\n",
       "      <th>3</th>\n",
       "      <td>0021_01</td>\n",
       "      <td>Europa</td>\n",
       "      <td>False</td>\n",
       "      <td>C/1/S</td>\n",
       "      <td>TRAPPIST-1e</td>\n",
       "      <td>38.0</td>\n",
       "      <td>False</td>\n",
       "      <td>0.0</td>\n",
       "      <td>6652.0</td>\n",
       "      <td>0.0</td>\n",
       "      <td>181.0</td>\n",
       "      <td>585.0</td>\n",
       "      <td>Meratz Caltilter</td>\n",
       "      <td>1</td>\n",
       "      <td>2</td>\n",
       "      <td>0</td>\n",
       "    </tr>\n",
       "    <tr>\n",
       "      <th>4</th>\n",
       "      <td>0023_01</td>\n",
       "      <td>Earth</td>\n",
       "      <td>False</td>\n",
       "      <td>F/5/S</td>\n",
       "      <td>TRAPPIST-1e</td>\n",
       "      <td>20.0</td>\n",
       "      <td>False</td>\n",
       "      <td>10.0</td>\n",
       "      <td>0.0</td>\n",
       "      <td>635.0</td>\n",
       "      <td>0.0</td>\n",
       "      <td>0.0</td>\n",
       "      <td>Brence Harperez</td>\n",
       "      <td>0</td>\n",
       "      <td>2</td>\n",
       "      <td>0</td>\n",
       "    </tr>\n",
       "    <tr>\n",
       "      <th>5</th>\n",
       "      <td>0027_01</td>\n",
       "      <td>Earth</td>\n",
       "      <td>False</td>\n",
       "      <td>F/7/P</td>\n",
       "      <td>TRAPPIST-1e</td>\n",
       "      <td>31.0</td>\n",
       "      <td>False</td>\n",
       "      <td>0.0</td>\n",
       "      <td>1615.0</td>\n",
       "      <td>263.0</td>\n",
       "      <td>113.0</td>\n",
       "      <td>60.0</td>\n",
       "      <td>Karlen Ricks</td>\n",
       "      <td>0</td>\n",
       "      <td>2</td>\n",
       "      <td>0</td>\n",
       "    </tr>\n",
       "    <tr>\n",
       "      <th>6</th>\n",
       "      <td>0029_01</td>\n",
       "      <td>Europa</td>\n",
       "      <td>True</td>\n",
       "      <td>B/2/P</td>\n",
       "      <td>55 Cancri e</td>\n",
       "      <td>21.0</td>\n",
       "      <td>False</td>\n",
       "      <td>0.0</td>\n",
       "      <td>0.0</td>\n",
       "      <td>0.0</td>\n",
       "      <td>0.0</td>\n",
       "      <td>0.0</td>\n",
       "      <td>Aldah Ainserfle</td>\n",
       "      <td>1</td>\n",
       "      <td>0</td>\n",
       "      <td>1</td>\n",
       "    </tr>\n",
       "    <tr>\n",
       "      <th>7</th>\n",
       "      <td>0032_01</td>\n",
       "      <td>Europa</td>\n",
       "      <td>True</td>\n",
       "      <td>D/0/S</td>\n",
       "      <td>TRAPPIST-1e</td>\n",
       "      <td>20.0</td>\n",
       "      <td>False</td>\n",
       "      <td>0.0</td>\n",
       "      <td>0.0</td>\n",
       "      <td>0.0</td>\n",
       "      <td>0.0</td>\n",
       "      <td>0.0</td>\n",
       "      <td>Acrabi Pringry</td>\n",
       "      <td>1</td>\n",
       "      <td>2</td>\n",
       "      <td>1</td>\n",
       "    </tr>\n",
       "    <tr>\n",
       "      <th>8</th>\n",
       "      <td>0032_02</td>\n",
       "      <td>Europa</td>\n",
       "      <td>True</td>\n",
       "      <td>D/0/S</td>\n",
       "      <td>55 Cancri e</td>\n",
       "      <td>23.0</td>\n",
       "      <td>False</td>\n",
       "      <td>0.0</td>\n",
       "      <td>0.0</td>\n",
       "      <td>0.0</td>\n",
       "      <td>0.0</td>\n",
       "      <td>0.0</td>\n",
       "      <td>Dhena Pringry</td>\n",
       "      <td>1</td>\n",
       "      <td>0</td>\n",
       "      <td>1</td>\n",
       "    </tr>\n",
       "    <tr>\n",
       "      <th>9</th>\n",
       "      <td>0033_01</td>\n",
       "      <td>Earth</td>\n",
       "      <td>False</td>\n",
       "      <td>F/7/S</td>\n",
       "      <td>55 Cancri e</td>\n",
       "      <td>24.0</td>\n",
       "      <td>False</td>\n",
       "      <td>0.0</td>\n",
       "      <td>639.0</td>\n",
       "      <td>0.0</td>\n",
       "      <td>0.0</td>\n",
       "      <td>0.0</td>\n",
       "      <td>Eliana Delazarson</td>\n",
       "      <td>0</td>\n",
       "      <td>0</td>\n",
       "      <td>0</td>\n",
       "    </tr>\n",
       "  </tbody>\n",
       "</table>\n",
       "</div>"
      ],
      "text/plain": [
       "  PassengerId HomePlanet CryoSleep  Cabin  Destination   Age    VIP  \\\n",
       "0     0013_01      Earth      True  G/3/S  TRAPPIST-1e  27.0  False   \n",
       "1     0018_01      Earth     False  F/4/S  TRAPPIST-1e  19.0  False   \n",
       "2     0019_01     Europa      True  C/0/S  55 Cancri e  31.0  False   \n",
       "3     0021_01     Europa     False  C/1/S  TRAPPIST-1e  38.0  False   \n",
       "4     0023_01      Earth     False  F/5/S  TRAPPIST-1e  20.0  False   \n",
       "5     0027_01      Earth     False  F/7/P  TRAPPIST-1e  31.0  False   \n",
       "6     0029_01     Europa      True  B/2/P  55 Cancri e  21.0  False   \n",
       "7     0032_01     Europa      True  D/0/S  TRAPPIST-1e  20.0  False   \n",
       "8     0032_02     Europa      True  D/0/S  55 Cancri e  23.0  False   \n",
       "9     0033_01      Earth     False  F/7/S  55 Cancri e  24.0  False   \n",
       "\n",
       "   RoomService  FoodCourt  ShoppingMall     Spa  VRDeck               Name  \\\n",
       "0          0.0        0.0           0.0     0.0     0.0    Nelly Carsoning   \n",
       "1          0.0        9.0           0.0  2823.0     0.0     Lerome Peckers   \n",
       "2          0.0        0.0           0.0     0.0     0.0    Sabih Unhearfus   \n",
       "3          0.0     6652.0           0.0   181.0   585.0   Meratz Caltilter   \n",
       "4         10.0        0.0         635.0     0.0     0.0    Brence Harperez   \n",
       "5          0.0     1615.0         263.0   113.0    60.0       Karlen Ricks   \n",
       "6          0.0        0.0           0.0     0.0     0.0    Aldah Ainserfle   \n",
       "7          0.0        0.0           0.0     0.0     0.0     Acrabi Pringry   \n",
       "8          0.0        0.0           0.0     0.0     0.0      Dhena Pringry   \n",
       "9          0.0      639.0           0.0     0.0     0.0  Eliana Delazarson   \n",
       "\n",
       "   HomePlanetCode  DestinationCode  CryoSleepCode  \n",
       "0               0                2              1  \n",
       "1               0                2              0  \n",
       "2               1                0              1  \n",
       "3               1                2              0  \n",
       "4               0                2              0  \n",
       "5               0                2              0  \n",
       "6               1                0              1  \n",
       "7               1                2              1  \n",
       "8               1                0              1  \n",
       "9               0                0              0  "
      ]
     },
     "execution_count": 21,
     "metadata": {},
     "output_type": "execute_result"
    }
   ],
   "source": [
    "test_data.head(10)"
   ]
  },
  {
   "cell_type": "code",
   "execution_count": 22,
   "id": "e3c09969",
   "metadata": {
    "execution": {
     "iopub.execute_input": "2023-03-27T14:41:30.804515Z",
     "iopub.status.busy": "2023-03-27T14:41:30.804111Z",
     "iopub.status.idle": "2023-03-27T14:41:30.838358Z",
     "shell.execute_reply": "2023-03-27T14:41:30.837058Z"
    },
    "papermill": {
     "duration": 0.057977,
     "end_time": "2023-03-27T14:41:30.841251",
     "exception": false,
     "start_time": "2023-03-27T14:41:30.783274",
     "status": "completed"
    },
    "tags": []
   },
   "outputs": [],
   "source": [
    "train_data[['CabinDeck','CabinNum','CabinSide']] = train_data['Cabin'].str.split('/', expand=True)\n",
    "test_data[['CabinDeck','CabinNum','CabinSide']] = test_data['Cabin'].str.split('/', expand=True)"
   ]
  },
  {
   "cell_type": "code",
   "execution_count": 23,
   "id": "f1530a14",
   "metadata": {
    "execution": {
     "iopub.execute_input": "2023-03-27T14:41:30.882730Z",
     "iopub.status.busy": "2023-03-27T14:41:30.882306Z",
     "iopub.status.idle": "2023-03-27T14:41:30.906924Z",
     "shell.execute_reply": "2023-03-27T14:41:30.905740Z"
    },
    "papermill": {
     "duration": 0.048469,
     "end_time": "2023-03-27T14:41:30.909600",
     "exception": false,
     "start_time": "2023-03-27T14:41:30.861131",
     "status": "completed"
    },
    "tags": []
   },
   "outputs": [
    {
     "data": {
      "text/html": [
       "<div>\n",
       "<style scoped>\n",
       "    .dataframe tbody tr th:only-of-type {\n",
       "        vertical-align: middle;\n",
       "    }\n",
       "\n",
       "    .dataframe tbody tr th {\n",
       "        vertical-align: top;\n",
       "    }\n",
       "\n",
       "    .dataframe thead th {\n",
       "        text-align: right;\n",
       "    }\n",
       "</style>\n",
       "<table border=\"1\" class=\"dataframe\">\n",
       "  <thead>\n",
       "    <tr style=\"text-align: right;\">\n",
       "      <th></th>\n",
       "      <th>PassengerId</th>\n",
       "      <th>HomePlanet</th>\n",
       "      <th>CryoSleep</th>\n",
       "      <th>Cabin</th>\n",
       "      <th>Destination</th>\n",
       "      <th>Age</th>\n",
       "      <th>VIP</th>\n",
       "      <th>RoomService</th>\n",
       "      <th>FoodCourt</th>\n",
       "      <th>ShoppingMall</th>\n",
       "      <th>Spa</th>\n",
       "      <th>VRDeck</th>\n",
       "      <th>Name</th>\n",
       "      <th>Transported</th>\n",
       "      <th>HomePlanetCode</th>\n",
       "      <th>DestinationCode</th>\n",
       "      <th>CryoSleepCode</th>\n",
       "      <th>CabinDeck</th>\n",
       "      <th>CabinNum</th>\n",
       "      <th>CabinSide</th>\n",
       "    </tr>\n",
       "  </thead>\n",
       "  <tbody>\n",
       "    <tr>\n",
       "      <th>0</th>\n",
       "      <td>0001_01</td>\n",
       "      <td>Europa</td>\n",
       "      <td>False</td>\n",
       "      <td>B/0/P</td>\n",
       "      <td>TRAPPIST-1e</td>\n",
       "      <td>39.0</td>\n",
       "      <td>False</td>\n",
       "      <td>0.0</td>\n",
       "      <td>0.0</td>\n",
       "      <td>0.0</td>\n",
       "      <td>0.0</td>\n",
       "      <td>0.0</td>\n",
       "      <td>Maham Ofracculy</td>\n",
       "      <td>False</td>\n",
       "      <td>1</td>\n",
       "      <td>2</td>\n",
       "      <td>0</td>\n",
       "      <td>B</td>\n",
       "      <td>0</td>\n",
       "      <td>P</td>\n",
       "    </tr>\n",
       "    <tr>\n",
       "      <th>1</th>\n",
       "      <td>0002_01</td>\n",
       "      <td>Earth</td>\n",
       "      <td>False</td>\n",
       "      <td>F/0/S</td>\n",
       "      <td>TRAPPIST-1e</td>\n",
       "      <td>24.0</td>\n",
       "      <td>False</td>\n",
       "      <td>109.0</td>\n",
       "      <td>9.0</td>\n",
       "      <td>25.0</td>\n",
       "      <td>549.0</td>\n",
       "      <td>44.0</td>\n",
       "      <td>Juanna Vines</td>\n",
       "      <td>True</td>\n",
       "      <td>0</td>\n",
       "      <td>2</td>\n",
       "      <td>0</td>\n",
       "      <td>F</td>\n",
       "      <td>0</td>\n",
       "      <td>S</td>\n",
       "    </tr>\n",
       "    <tr>\n",
       "      <th>2</th>\n",
       "      <td>0003_01</td>\n",
       "      <td>Europa</td>\n",
       "      <td>False</td>\n",
       "      <td>A/0/S</td>\n",
       "      <td>TRAPPIST-1e</td>\n",
       "      <td>58.0</td>\n",
       "      <td>True</td>\n",
       "      <td>43.0</td>\n",
       "      <td>3576.0</td>\n",
       "      <td>0.0</td>\n",
       "      <td>6715.0</td>\n",
       "      <td>49.0</td>\n",
       "      <td>Altark Susent</td>\n",
       "      <td>False</td>\n",
       "      <td>1</td>\n",
       "      <td>2</td>\n",
       "      <td>0</td>\n",
       "      <td>A</td>\n",
       "      <td>0</td>\n",
       "      <td>S</td>\n",
       "    </tr>\n",
       "    <tr>\n",
       "      <th>3</th>\n",
       "      <td>0003_02</td>\n",
       "      <td>Europa</td>\n",
       "      <td>False</td>\n",
       "      <td>A/0/S</td>\n",
       "      <td>TRAPPIST-1e</td>\n",
       "      <td>33.0</td>\n",
       "      <td>False</td>\n",
       "      <td>0.0</td>\n",
       "      <td>1283.0</td>\n",
       "      <td>371.0</td>\n",
       "      <td>3329.0</td>\n",
       "      <td>193.0</td>\n",
       "      <td>Solam Susent</td>\n",
       "      <td>False</td>\n",
       "      <td>1</td>\n",
       "      <td>2</td>\n",
       "      <td>0</td>\n",
       "      <td>A</td>\n",
       "      <td>0</td>\n",
       "      <td>S</td>\n",
       "    </tr>\n",
       "    <tr>\n",
       "      <th>4</th>\n",
       "      <td>0004_01</td>\n",
       "      <td>Earth</td>\n",
       "      <td>False</td>\n",
       "      <td>F/1/S</td>\n",
       "      <td>TRAPPIST-1e</td>\n",
       "      <td>16.0</td>\n",
       "      <td>False</td>\n",
       "      <td>303.0</td>\n",
       "      <td>70.0</td>\n",
       "      <td>151.0</td>\n",
       "      <td>565.0</td>\n",
       "      <td>2.0</td>\n",
       "      <td>Willy Santantines</td>\n",
       "      <td>True</td>\n",
       "      <td>0</td>\n",
       "      <td>2</td>\n",
       "      <td>0</td>\n",
       "      <td>F</td>\n",
       "      <td>1</td>\n",
       "      <td>S</td>\n",
       "    </tr>\n",
       "  </tbody>\n",
       "</table>\n",
       "</div>"
      ],
      "text/plain": [
       "  PassengerId HomePlanet CryoSleep  Cabin  Destination   Age    VIP  \\\n",
       "0     0001_01     Europa     False  B/0/P  TRAPPIST-1e  39.0  False   \n",
       "1     0002_01      Earth     False  F/0/S  TRAPPIST-1e  24.0  False   \n",
       "2     0003_01     Europa     False  A/0/S  TRAPPIST-1e  58.0   True   \n",
       "3     0003_02     Europa     False  A/0/S  TRAPPIST-1e  33.0  False   \n",
       "4     0004_01      Earth     False  F/1/S  TRAPPIST-1e  16.0  False   \n",
       "\n",
       "   RoomService  FoodCourt  ShoppingMall     Spa  VRDeck               Name  \\\n",
       "0          0.0        0.0           0.0     0.0     0.0    Maham Ofracculy   \n",
       "1        109.0        9.0          25.0   549.0    44.0       Juanna Vines   \n",
       "2         43.0     3576.0           0.0  6715.0    49.0      Altark Susent   \n",
       "3          0.0     1283.0         371.0  3329.0   193.0       Solam Susent   \n",
       "4        303.0       70.0         151.0   565.0     2.0  Willy Santantines   \n",
       "\n",
       "   Transported  HomePlanetCode  DestinationCode  CryoSleepCode CabinDeck  \\\n",
       "0        False               1                2              0         B   \n",
       "1         True               0                2              0         F   \n",
       "2        False               1                2              0         A   \n",
       "3        False               1                2              0         A   \n",
       "4         True               0                2              0         F   \n",
       "\n",
       "  CabinNum CabinSide  \n",
       "0        0         P  \n",
       "1        0         S  \n",
       "2        0         S  \n",
       "3        0         S  \n",
       "4        1         S  "
      ]
     },
     "execution_count": 23,
     "metadata": {},
     "output_type": "execute_result"
    }
   ],
   "source": [
    "train_data.head()"
   ]
  },
  {
   "cell_type": "code",
   "execution_count": 24,
   "id": "3ff5060e",
   "metadata": {
    "execution": {
     "iopub.execute_input": "2023-03-27T14:41:30.951076Z",
     "iopub.status.busy": "2023-03-27T14:41:30.950398Z",
     "iopub.status.idle": "2023-03-27T14:41:30.986603Z",
     "shell.execute_reply": "2023-03-27T14:41:30.985249Z"
    },
    "papermill": {
     "duration": 0.060224,
     "end_time": "2023-03-27T14:41:30.989498",
     "exception": false,
     "start_time": "2023-03-27T14:41:30.929274",
     "status": "completed"
    },
    "tags": []
   },
   "outputs": [
    {
     "data": {
      "text/html": [
       "<div>\n",
       "<style scoped>\n",
       "    .dataframe tbody tr th:only-of-type {\n",
       "        vertical-align: middle;\n",
       "    }\n",
       "\n",
       "    .dataframe tbody tr th {\n",
       "        vertical-align: top;\n",
       "    }\n",
       "\n",
       "    .dataframe thead th {\n",
       "        text-align: right;\n",
       "    }\n",
       "</style>\n",
       "<table border=\"1\" class=\"dataframe\">\n",
       "  <thead>\n",
       "    <tr style=\"text-align: right;\">\n",
       "      <th></th>\n",
       "      <th>PassengerId</th>\n",
       "      <th>HomePlanet</th>\n",
       "      <th>CryoSleep</th>\n",
       "      <th>Cabin</th>\n",
       "      <th>Destination</th>\n",
       "      <th>Age</th>\n",
       "      <th>VIP</th>\n",
       "      <th>RoomService</th>\n",
       "      <th>FoodCourt</th>\n",
       "      <th>ShoppingMall</th>\n",
       "      <th>Spa</th>\n",
       "      <th>VRDeck</th>\n",
       "      <th>Name</th>\n",
       "      <th>Transported</th>\n",
       "      <th>HomePlanetCode</th>\n",
       "      <th>DestinationCode</th>\n",
       "      <th>CryoSleepCode</th>\n",
       "      <th>CabinDeck</th>\n",
       "      <th>CabinNum</th>\n",
       "      <th>CabinSide</th>\n",
       "    </tr>\n",
       "  </thead>\n",
       "  <tbody>\n",
       "    <tr>\n",
       "      <th>15</th>\n",
       "      <td>0012_01</td>\n",
       "      <td>Earth</td>\n",
       "      <td>False</td>\n",
       "      <td>NaN</td>\n",
       "      <td>TRAPPIST-1e</td>\n",
       "      <td>31.0</td>\n",
       "      <td>False</td>\n",
       "      <td>32.0</td>\n",
       "      <td>0.0</td>\n",
       "      <td>876.0</td>\n",
       "      <td>0.0</td>\n",
       "      <td>0.0</td>\n",
       "      <td>Justie Pooles</td>\n",
       "      <td>False</td>\n",
       "      <td>0</td>\n",
       "      <td>2</td>\n",
       "      <td>0</td>\n",
       "      <td>NaN</td>\n",
       "      <td>NaN</td>\n",
       "      <td>NaN</td>\n",
       "    </tr>\n",
       "    <tr>\n",
       "      <th>93</th>\n",
       "      <td>0101_01</td>\n",
       "      <td>Mars</td>\n",
       "      <td>True</td>\n",
       "      <td>NaN</td>\n",
       "      <td>TRAPPIST-1e</td>\n",
       "      <td>31.0</td>\n",
       "      <td>False</td>\n",
       "      <td>0.0</td>\n",
       "      <td>0.0</td>\n",
       "      <td>0.0</td>\n",
       "      <td>0.0</td>\n",
       "      <td>0.0</td>\n",
       "      <td>Book Trad</td>\n",
       "      <td>True</td>\n",
       "      <td>2</td>\n",
       "      <td>2</td>\n",
       "      <td>1</td>\n",
       "      <td>NaN</td>\n",
       "      <td>NaN</td>\n",
       "      <td>NaN</td>\n",
       "    </tr>\n",
       "    <tr>\n",
       "      <th>103</th>\n",
       "      <td>0110_01</td>\n",
       "      <td>Europa</td>\n",
       "      <td>False</td>\n",
       "      <td>NaN</td>\n",
       "      <td>TRAPPIST-1e</td>\n",
       "      <td>32.0</td>\n",
       "      <td>False</td>\n",
       "      <td>0.0</td>\n",
       "      <td>410.0</td>\n",
       "      <td>6.0</td>\n",
       "      <td>3929.0</td>\n",
       "      <td>764.0</td>\n",
       "      <td>Graviph Aloubtled</td>\n",
       "      <td>False</td>\n",
       "      <td>1</td>\n",
       "      <td>2</td>\n",
       "      <td>0</td>\n",
       "      <td>NaN</td>\n",
       "      <td>NaN</td>\n",
       "      <td>NaN</td>\n",
       "    </tr>\n",
       "    <tr>\n",
       "      <th>222</th>\n",
       "      <td>0239_01</td>\n",
       "      <td>Mars</td>\n",
       "      <td>False</td>\n",
       "      <td>NaN</td>\n",
       "      <td>TRAPPIST-1e</td>\n",
       "      <td>37.0</td>\n",
       "      <td>False</td>\n",
       "      <td>637.0</td>\n",
       "      <td>0.0</td>\n",
       "      <td>0.0</td>\n",
       "      <td>92.0</td>\n",
       "      <td>319.0</td>\n",
       "      <td>Diedow Resty</td>\n",
       "      <td>False</td>\n",
       "      <td>2</td>\n",
       "      <td>2</td>\n",
       "      <td>0</td>\n",
       "      <td>NaN</td>\n",
       "      <td>NaN</td>\n",
       "      <td>NaN</td>\n",
       "    </tr>\n",
       "    <tr>\n",
       "      <th>227</th>\n",
       "      <td>0244_01</td>\n",
       "      <td>Mars</td>\n",
       "      <td>True</td>\n",
       "      <td>NaN</td>\n",
       "      <td>TRAPPIST-1e</td>\n",
       "      <td>43.0</td>\n",
       "      <td>False</td>\n",
       "      <td>0.0</td>\n",
       "      <td>0.0</td>\n",
       "      <td>0.0</td>\n",
       "      <td>0.0</td>\n",
       "      <td>0.0</td>\n",
       "      <td>Froos Sad</td>\n",
       "      <td>True</td>\n",
       "      <td>2</td>\n",
       "      <td>2</td>\n",
       "      <td>1</td>\n",
       "      <td>NaN</td>\n",
       "      <td>NaN</td>\n",
       "      <td>NaN</td>\n",
       "    </tr>\n",
       "    <tr>\n",
       "      <th>...</th>\n",
       "      <td>...</td>\n",
       "      <td>...</td>\n",
       "      <td>...</td>\n",
       "      <td>...</td>\n",
       "      <td>...</td>\n",
       "      <td>...</td>\n",
       "      <td>...</td>\n",
       "      <td>...</td>\n",
       "      <td>...</td>\n",
       "      <td>...</td>\n",
       "      <td>...</td>\n",
       "      <td>...</td>\n",
       "      <td>...</td>\n",
       "      <td>...</td>\n",
       "      <td>...</td>\n",
       "      <td>...</td>\n",
       "      <td>...</td>\n",
       "      <td>...</td>\n",
       "      <td>...</td>\n",
       "      <td>...</td>\n",
       "    </tr>\n",
       "    <tr>\n",
       "      <th>8209</th>\n",
       "      <td>8772_02</td>\n",
       "      <td>Europa</td>\n",
       "      <td>False</td>\n",
       "      <td>NaN</td>\n",
       "      <td>55 Cancri e</td>\n",
       "      <td>53.0</td>\n",
       "      <td>False</td>\n",
       "      <td>0.0</td>\n",
       "      <td>1127.0</td>\n",
       "      <td>0.0</td>\n",
       "      <td>3939.0</td>\n",
       "      <td>0.0</td>\n",
       "      <td>Naosura Motled</td>\n",
       "      <td>False</td>\n",
       "      <td>1</td>\n",
       "      <td>0</td>\n",
       "      <td>0</td>\n",
       "      <td>NaN</td>\n",
       "      <td>NaN</td>\n",
       "      <td>NaN</td>\n",
       "    </tr>\n",
       "    <tr>\n",
       "      <th>8475</th>\n",
       "      <td>9057_01</td>\n",
       "      <td>Europa</td>\n",
       "      <td>False</td>\n",
       "      <td>NaN</td>\n",
       "      <td>55 Cancri e</td>\n",
       "      <td>36.0</td>\n",
       "      <td>True</td>\n",
       "      <td>132.0</td>\n",
       "      <td>3479.0</td>\n",
       "      <td>0.0</td>\n",
       "      <td>3786.0</td>\n",
       "      <td>0.0</td>\n",
       "      <td>Coxan Statch</td>\n",
       "      <td>False</td>\n",
       "      <td>1</td>\n",
       "      <td>0</td>\n",
       "      <td>0</td>\n",
       "      <td>NaN</td>\n",
       "      <td>NaN</td>\n",
       "      <td>NaN</td>\n",
       "    </tr>\n",
       "    <tr>\n",
       "      <th>8485</th>\n",
       "      <td>9069_03</td>\n",
       "      <td>Europa</td>\n",
       "      <td>True</td>\n",
       "      <td>NaN</td>\n",
       "      <td>55 Cancri e</td>\n",
       "      <td>25.0</td>\n",
       "      <td>False</td>\n",
       "      <td>0.0</td>\n",
       "      <td>0.0</td>\n",
       "      <td>0.0</td>\n",
       "      <td>0.0</td>\n",
       "      <td>0.0</td>\n",
       "      <td>Bath Brakeng</td>\n",
       "      <td>True</td>\n",
       "      <td>1</td>\n",
       "      <td>0</td>\n",
       "      <td>1</td>\n",
       "      <td>NaN</td>\n",
       "      <td>NaN</td>\n",
       "      <td>NaN</td>\n",
       "    </tr>\n",
       "    <tr>\n",
       "      <th>8509</th>\n",
       "      <td>9081_03</td>\n",
       "      <td>Earth</td>\n",
       "      <td>True</td>\n",
       "      <td>NaN</td>\n",
       "      <td>TRAPPIST-1e</td>\n",
       "      <td>1.0</td>\n",
       "      <td>False</td>\n",
       "      <td>0.0</td>\n",
       "      <td>0.0</td>\n",
       "      <td>0.0</td>\n",
       "      <td>0.0</td>\n",
       "      <td>0.0</td>\n",
       "      <td>Beula Clemondsey</td>\n",
       "      <td>False</td>\n",
       "      <td>0</td>\n",
       "      <td>2</td>\n",
       "      <td>1</td>\n",
       "      <td>NaN</td>\n",
       "      <td>NaN</td>\n",
       "      <td>NaN</td>\n",
       "    </tr>\n",
       "    <tr>\n",
       "      <th>8656</th>\n",
       "      <td>9233_01</td>\n",
       "      <td>Earth</td>\n",
       "      <td>False</td>\n",
       "      <td>NaN</td>\n",
       "      <td>TRAPPIST-1e</td>\n",
       "      <td>41.0</td>\n",
       "      <td>False</td>\n",
       "      <td>3.0</td>\n",
       "      <td>0.0</td>\n",
       "      <td>668.0</td>\n",
       "      <td>0.0</td>\n",
       "      <td>0.0</td>\n",
       "      <td>Royce Giller</td>\n",
       "      <td>True</td>\n",
       "      <td>0</td>\n",
       "      <td>2</td>\n",
       "      <td>0</td>\n",
       "      <td>NaN</td>\n",
       "      <td>NaN</td>\n",
       "      <td>NaN</td>\n",
       "    </tr>\n",
       "  </tbody>\n",
       "</table>\n",
       "<p>199 rows × 20 columns</p>\n",
       "</div>"
      ],
      "text/plain": [
       "     PassengerId HomePlanet CryoSleep Cabin  Destination   Age    VIP  \\\n",
       "15       0012_01      Earth     False   NaN  TRAPPIST-1e  31.0  False   \n",
       "93       0101_01       Mars      True   NaN  TRAPPIST-1e  31.0  False   \n",
       "103      0110_01     Europa     False   NaN  TRAPPIST-1e  32.0  False   \n",
       "222      0239_01       Mars     False   NaN  TRAPPIST-1e  37.0  False   \n",
       "227      0244_01       Mars      True   NaN  TRAPPIST-1e  43.0  False   \n",
       "...          ...        ...       ...   ...          ...   ...    ...   \n",
       "8209     8772_02     Europa     False   NaN  55 Cancri e  53.0  False   \n",
       "8475     9057_01     Europa     False   NaN  55 Cancri e  36.0   True   \n",
       "8485     9069_03     Europa      True   NaN  55 Cancri e  25.0  False   \n",
       "8509     9081_03      Earth      True   NaN  TRAPPIST-1e   1.0  False   \n",
       "8656     9233_01      Earth     False   NaN  TRAPPIST-1e  41.0  False   \n",
       "\n",
       "      RoomService  FoodCourt  ShoppingMall     Spa  VRDeck               Name  \\\n",
       "15           32.0        0.0         876.0     0.0     0.0      Justie Pooles   \n",
       "93            0.0        0.0           0.0     0.0     0.0          Book Trad   \n",
       "103           0.0      410.0           6.0  3929.0   764.0  Graviph Aloubtled   \n",
       "222         637.0        0.0           0.0    92.0   319.0       Diedow Resty   \n",
       "227           0.0        0.0           0.0     0.0     0.0          Froos Sad   \n",
       "...           ...        ...           ...     ...     ...                ...   \n",
       "8209          0.0     1127.0           0.0  3939.0     0.0     Naosura Motled   \n",
       "8475        132.0     3479.0           0.0  3786.0     0.0       Coxan Statch   \n",
       "8485          0.0        0.0           0.0     0.0     0.0       Bath Brakeng   \n",
       "8509          0.0        0.0           0.0     0.0     0.0   Beula Clemondsey   \n",
       "8656          3.0        0.0         668.0     0.0     0.0       Royce Giller   \n",
       "\n",
       "      Transported  HomePlanetCode  DestinationCode  CryoSleepCode CabinDeck  \\\n",
       "15          False               0                2              0       NaN   \n",
       "93           True               2                2              1       NaN   \n",
       "103         False               1                2              0       NaN   \n",
       "222         False               2                2              0       NaN   \n",
       "227          True               2                2              1       NaN   \n",
       "...           ...             ...              ...            ...       ...   \n",
       "8209        False               1                0              0       NaN   \n",
       "8475        False               1                0              0       NaN   \n",
       "8485         True               1                0              1       NaN   \n",
       "8509        False               0                2              1       NaN   \n",
       "8656         True               0                2              0       NaN   \n",
       "\n",
       "     CabinNum CabinSide  \n",
       "15        NaN       NaN  \n",
       "93        NaN       NaN  \n",
       "103       NaN       NaN  \n",
       "222       NaN       NaN  \n",
       "227       NaN       NaN  \n",
       "...       ...       ...  \n",
       "8209      NaN       NaN  \n",
       "8475      NaN       NaN  \n",
       "8485      NaN       NaN  \n",
       "8509      NaN       NaN  \n",
       "8656      NaN       NaN  \n",
       "\n",
       "[199 rows x 20 columns]"
      ]
     },
     "execution_count": 24,
     "metadata": {},
     "output_type": "execute_result"
    }
   ],
   "source": [
    "train_data[train_data.CabinDeck.isna()]"
   ]
  },
  {
   "cell_type": "code",
   "execution_count": 25,
   "id": "cd769ee8",
   "metadata": {
    "execution": {
     "iopub.execute_input": "2023-03-27T14:41:31.031844Z",
     "iopub.status.busy": "2023-03-27T14:41:31.031354Z",
     "iopub.status.idle": "2023-03-27T14:41:31.041509Z",
     "shell.execute_reply": "2023-03-27T14:41:31.040263Z"
    },
    "papermill": {
     "duration": 0.034405,
     "end_time": "2023-03-27T14:41:31.043952",
     "exception": false,
     "start_time": "2023-03-27T14:41:31.009547",
     "status": "completed"
    },
    "tags": []
   },
   "outputs": [
    {
     "data": {
      "text/plain": [
       "F    2794\n",
       "G    2559\n",
       "E     876\n",
       "B     779\n",
       "C     747\n",
       "D     478\n",
       "A     256\n",
       "T       5\n",
       "Name: CabinDeck, dtype: int64"
      ]
     },
     "execution_count": 25,
     "metadata": {},
     "output_type": "execute_result"
    }
   ],
   "source": [
    "train_data['CabinDeck'].value_counts()"
   ]
  },
  {
   "cell_type": "code",
   "execution_count": 26,
   "id": "6d2e7e6f",
   "metadata": {
    "execution": {
     "iopub.execute_input": "2023-03-27T14:41:31.087250Z",
     "iopub.status.busy": "2023-03-27T14:41:31.086096Z",
     "iopub.status.idle": "2023-03-27T14:41:31.106578Z",
     "shell.execute_reply": "2023-03-27T14:41:31.105280Z"
    },
    "papermill": {
     "duration": 0.044474,
     "end_time": "2023-03-27T14:41:31.109091",
     "exception": false,
     "start_time": "2023-03-27T14:41:31.064617",
     "status": "completed"
    },
    "tags": []
   },
   "outputs": [
    {
     "data": {
      "text/html": [
       "<div>\n",
       "<style scoped>\n",
       "    .dataframe tbody tr th:only-of-type {\n",
       "        vertical-align: middle;\n",
       "    }\n",
       "\n",
       "    .dataframe tbody tr th {\n",
       "        vertical-align: top;\n",
       "    }\n",
       "\n",
       "    .dataframe thead th {\n",
       "        text-align: right;\n",
       "    }\n",
       "</style>\n",
       "<table border=\"1\" class=\"dataframe\">\n",
       "  <thead>\n",
       "    <tr style=\"text-align: right;\">\n",
       "      <th></th>\n",
       "      <th>CabinDeck_A</th>\n",
       "      <th>CabinDeck_B</th>\n",
       "      <th>CabinDeck_C</th>\n",
       "      <th>CabinDeck_D</th>\n",
       "      <th>CabinDeck_E</th>\n",
       "      <th>CabinDeck_F</th>\n",
       "      <th>CabinDeck_G</th>\n",
       "      <th>CabinDeck_T</th>\n",
       "    </tr>\n",
       "  </thead>\n",
       "  <tbody>\n",
       "    <tr>\n",
       "      <th>0</th>\n",
       "      <td>0</td>\n",
       "      <td>1</td>\n",
       "      <td>0</td>\n",
       "      <td>0</td>\n",
       "      <td>0</td>\n",
       "      <td>0</td>\n",
       "      <td>0</td>\n",
       "      <td>0</td>\n",
       "    </tr>\n",
       "    <tr>\n",
       "      <th>1</th>\n",
       "      <td>0</td>\n",
       "      <td>0</td>\n",
       "      <td>0</td>\n",
       "      <td>0</td>\n",
       "      <td>0</td>\n",
       "      <td>1</td>\n",
       "      <td>0</td>\n",
       "      <td>0</td>\n",
       "    </tr>\n",
       "    <tr>\n",
       "      <th>2</th>\n",
       "      <td>1</td>\n",
       "      <td>0</td>\n",
       "      <td>0</td>\n",
       "      <td>0</td>\n",
       "      <td>0</td>\n",
       "      <td>0</td>\n",
       "      <td>0</td>\n",
       "      <td>0</td>\n",
       "    </tr>\n",
       "    <tr>\n",
       "      <th>3</th>\n",
       "      <td>1</td>\n",
       "      <td>0</td>\n",
       "      <td>0</td>\n",
       "      <td>0</td>\n",
       "      <td>0</td>\n",
       "      <td>0</td>\n",
       "      <td>0</td>\n",
       "      <td>0</td>\n",
       "    </tr>\n",
       "    <tr>\n",
       "      <th>4</th>\n",
       "      <td>0</td>\n",
       "      <td>0</td>\n",
       "      <td>0</td>\n",
       "      <td>0</td>\n",
       "      <td>0</td>\n",
       "      <td>1</td>\n",
       "      <td>0</td>\n",
       "      <td>0</td>\n",
       "    </tr>\n",
       "    <tr>\n",
       "      <th>...</th>\n",
       "      <td>...</td>\n",
       "      <td>...</td>\n",
       "      <td>...</td>\n",
       "      <td>...</td>\n",
       "      <td>...</td>\n",
       "      <td>...</td>\n",
       "      <td>...</td>\n",
       "      <td>...</td>\n",
       "    </tr>\n",
       "    <tr>\n",
       "      <th>8688</th>\n",
       "      <td>1</td>\n",
       "      <td>0</td>\n",
       "      <td>0</td>\n",
       "      <td>0</td>\n",
       "      <td>0</td>\n",
       "      <td>0</td>\n",
       "      <td>0</td>\n",
       "      <td>0</td>\n",
       "    </tr>\n",
       "    <tr>\n",
       "      <th>8689</th>\n",
       "      <td>0</td>\n",
       "      <td>0</td>\n",
       "      <td>0</td>\n",
       "      <td>0</td>\n",
       "      <td>0</td>\n",
       "      <td>0</td>\n",
       "      <td>1</td>\n",
       "      <td>0</td>\n",
       "    </tr>\n",
       "    <tr>\n",
       "      <th>8690</th>\n",
       "      <td>0</td>\n",
       "      <td>0</td>\n",
       "      <td>0</td>\n",
       "      <td>0</td>\n",
       "      <td>0</td>\n",
       "      <td>0</td>\n",
       "      <td>1</td>\n",
       "      <td>0</td>\n",
       "    </tr>\n",
       "    <tr>\n",
       "      <th>8691</th>\n",
       "      <td>0</td>\n",
       "      <td>0</td>\n",
       "      <td>0</td>\n",
       "      <td>0</td>\n",
       "      <td>1</td>\n",
       "      <td>0</td>\n",
       "      <td>0</td>\n",
       "      <td>0</td>\n",
       "    </tr>\n",
       "    <tr>\n",
       "      <th>8692</th>\n",
       "      <td>0</td>\n",
       "      <td>0</td>\n",
       "      <td>0</td>\n",
       "      <td>0</td>\n",
       "      <td>1</td>\n",
       "      <td>0</td>\n",
       "      <td>0</td>\n",
       "      <td>0</td>\n",
       "    </tr>\n",
       "  </tbody>\n",
       "</table>\n",
       "<p>8693 rows × 8 columns</p>\n",
       "</div>"
      ],
      "text/plain": [
       "      CabinDeck_A  CabinDeck_B  CabinDeck_C  CabinDeck_D  CabinDeck_E  \\\n",
       "0               0            1            0            0            0   \n",
       "1               0            0            0            0            0   \n",
       "2               1            0            0            0            0   \n",
       "3               1            0            0            0            0   \n",
       "4               0            0            0            0            0   \n",
       "...           ...          ...          ...          ...          ...   \n",
       "8688            1            0            0            0            0   \n",
       "8689            0            0            0            0            0   \n",
       "8690            0            0            0            0            0   \n",
       "8691            0            0            0            0            1   \n",
       "8692            0            0            0            0            1   \n",
       "\n",
       "      CabinDeck_F  CabinDeck_G  CabinDeck_T  \n",
       "0               0            0            0  \n",
       "1               1            0            0  \n",
       "2               0            0            0  \n",
       "3               0            0            0  \n",
       "4               1            0            0  \n",
       "...           ...          ...          ...  \n",
       "8688            0            0            0  \n",
       "8689            0            1            0  \n",
       "8690            0            1            0  \n",
       "8691            0            0            0  \n",
       "8692            0            0            0  \n",
       "\n",
       "[8693 rows x 8 columns]"
      ]
     },
     "execution_count": 26,
     "metadata": {},
     "output_type": "execute_result"
    }
   ],
   "source": [
    "# train_data['CabinDeckCode'] = le.fit_transform(train_data['CabinDeck'])\n",
    "# test_data['CabinDeckCode'] = le.fit_transform(test_data['CabinDeck'])\n",
    "\n",
    "train_CabinDeck_encoded = pd.get_dummies(train_data['CabinDeck'], prefix='CabinDeck')\n",
    "test_CabinDeck_encoded = pd.get_dummies(test_data['CabinDeck'], prefix='CabinDeck')\n",
    "\n",
    "train_CabinDeck_encoded\n",
    "# train_data['CabinDeckCode'].value_counts()"
   ]
  },
  {
   "cell_type": "code",
   "execution_count": 27,
   "id": "f8fe30e9",
   "metadata": {
    "execution": {
     "iopub.execute_input": "2023-03-27T14:41:31.151854Z",
     "iopub.status.busy": "2023-03-27T14:41:31.151366Z",
     "iopub.status.idle": "2023-03-27T14:41:31.165100Z",
     "shell.execute_reply": "2023-03-27T14:41:31.164224Z"
    },
    "papermill": {
     "duration": 0.03742,
     "end_time": "2023-03-27T14:41:31.167264",
     "exception": false,
     "start_time": "2023-03-27T14:41:31.129844",
     "status": "completed"
    },
    "tags": []
   },
   "outputs": [
    {
     "data": {
      "text/plain": [
       "1    4288\n",
       "0    4206\n",
       "2     199\n",
       "Name: CabinSideCode, dtype: int64"
      ]
     },
     "execution_count": 27,
     "metadata": {},
     "output_type": "execute_result"
    }
   ],
   "source": [
    "train_data['CabinSideCode'] = le.fit_transform(train_data['CabinSide'])\n",
    "test_data['CabinSideCode'] = le.fit_transform(test_data['CabinSide'])\n",
    "train_data['CabinSideCode'].value_counts()"
   ]
  },
  {
   "cell_type": "code",
   "execution_count": 28,
   "id": "7b22d7d1",
   "metadata": {
    "execution": {
     "iopub.execute_input": "2023-03-27T14:41:31.211201Z",
     "iopub.status.busy": "2023-03-27T14:41:31.210433Z",
     "iopub.status.idle": "2023-03-27T14:41:31.237077Z",
     "shell.execute_reply": "2023-03-27T14:41:31.235735Z"
    },
    "papermill": {
     "duration": 0.051306,
     "end_time": "2023-03-27T14:41:31.239533",
     "exception": false,
     "start_time": "2023-03-27T14:41:31.188227",
     "status": "completed"
    },
    "tags": []
   },
   "outputs": [
    {
     "data": {
      "text/html": [
       "<div>\n",
       "<style scoped>\n",
       "    .dataframe tbody tr th:only-of-type {\n",
       "        vertical-align: middle;\n",
       "    }\n",
       "\n",
       "    .dataframe tbody tr th {\n",
       "        vertical-align: top;\n",
       "    }\n",
       "\n",
       "    .dataframe thead th {\n",
       "        text-align: right;\n",
       "    }\n",
       "</style>\n",
       "<table border=\"1\" class=\"dataframe\">\n",
       "  <thead>\n",
       "    <tr style=\"text-align: right;\">\n",
       "      <th></th>\n",
       "      <th>PassengerId</th>\n",
       "      <th>HomePlanet</th>\n",
       "      <th>CryoSleep</th>\n",
       "      <th>Cabin</th>\n",
       "      <th>Destination</th>\n",
       "      <th>Age</th>\n",
       "      <th>VIP</th>\n",
       "      <th>RoomService</th>\n",
       "      <th>FoodCourt</th>\n",
       "      <th>ShoppingMall</th>\n",
       "      <th>Spa</th>\n",
       "      <th>VRDeck</th>\n",
       "      <th>Name</th>\n",
       "      <th>HomePlanetCode</th>\n",
       "      <th>DestinationCode</th>\n",
       "      <th>CryoSleepCode</th>\n",
       "      <th>CabinDeck</th>\n",
       "      <th>CabinNum</th>\n",
       "      <th>CabinSide</th>\n",
       "      <th>CabinSideCode</th>\n",
       "    </tr>\n",
       "  </thead>\n",
       "  <tbody>\n",
       "    <tr>\n",
       "      <th>0</th>\n",
       "      <td>0013_01</td>\n",
       "      <td>Earth</td>\n",
       "      <td>True</td>\n",
       "      <td>G/3/S</td>\n",
       "      <td>TRAPPIST-1e</td>\n",
       "      <td>27.0</td>\n",
       "      <td>False</td>\n",
       "      <td>0.0</td>\n",
       "      <td>0.0</td>\n",
       "      <td>0.0</td>\n",
       "      <td>0.0</td>\n",
       "      <td>0.0</td>\n",
       "      <td>Nelly Carsoning</td>\n",
       "      <td>0</td>\n",
       "      <td>2</td>\n",
       "      <td>1</td>\n",
       "      <td>G</td>\n",
       "      <td>3</td>\n",
       "      <td>S</td>\n",
       "      <td>1</td>\n",
       "    </tr>\n",
       "    <tr>\n",
       "      <th>1</th>\n",
       "      <td>0018_01</td>\n",
       "      <td>Earth</td>\n",
       "      <td>False</td>\n",
       "      <td>F/4/S</td>\n",
       "      <td>TRAPPIST-1e</td>\n",
       "      <td>19.0</td>\n",
       "      <td>False</td>\n",
       "      <td>0.0</td>\n",
       "      <td>9.0</td>\n",
       "      <td>0.0</td>\n",
       "      <td>2823.0</td>\n",
       "      <td>0.0</td>\n",
       "      <td>Lerome Peckers</td>\n",
       "      <td>0</td>\n",
       "      <td>2</td>\n",
       "      <td>0</td>\n",
       "      <td>F</td>\n",
       "      <td>4</td>\n",
       "      <td>S</td>\n",
       "      <td>1</td>\n",
       "    </tr>\n",
       "    <tr>\n",
       "      <th>2</th>\n",
       "      <td>0019_01</td>\n",
       "      <td>Europa</td>\n",
       "      <td>True</td>\n",
       "      <td>C/0/S</td>\n",
       "      <td>55 Cancri e</td>\n",
       "      <td>31.0</td>\n",
       "      <td>False</td>\n",
       "      <td>0.0</td>\n",
       "      <td>0.0</td>\n",
       "      <td>0.0</td>\n",
       "      <td>0.0</td>\n",
       "      <td>0.0</td>\n",
       "      <td>Sabih Unhearfus</td>\n",
       "      <td>1</td>\n",
       "      <td>0</td>\n",
       "      <td>1</td>\n",
       "      <td>C</td>\n",
       "      <td>0</td>\n",
       "      <td>S</td>\n",
       "      <td>1</td>\n",
       "    </tr>\n",
       "    <tr>\n",
       "      <th>3</th>\n",
       "      <td>0021_01</td>\n",
       "      <td>Europa</td>\n",
       "      <td>False</td>\n",
       "      <td>C/1/S</td>\n",
       "      <td>TRAPPIST-1e</td>\n",
       "      <td>38.0</td>\n",
       "      <td>False</td>\n",
       "      <td>0.0</td>\n",
       "      <td>6652.0</td>\n",
       "      <td>0.0</td>\n",
       "      <td>181.0</td>\n",
       "      <td>585.0</td>\n",
       "      <td>Meratz Caltilter</td>\n",
       "      <td>1</td>\n",
       "      <td>2</td>\n",
       "      <td>0</td>\n",
       "      <td>C</td>\n",
       "      <td>1</td>\n",
       "      <td>S</td>\n",
       "      <td>1</td>\n",
       "    </tr>\n",
       "    <tr>\n",
       "      <th>4</th>\n",
       "      <td>0023_01</td>\n",
       "      <td>Earth</td>\n",
       "      <td>False</td>\n",
       "      <td>F/5/S</td>\n",
       "      <td>TRAPPIST-1e</td>\n",
       "      <td>20.0</td>\n",
       "      <td>False</td>\n",
       "      <td>10.0</td>\n",
       "      <td>0.0</td>\n",
       "      <td>635.0</td>\n",
       "      <td>0.0</td>\n",
       "      <td>0.0</td>\n",
       "      <td>Brence Harperez</td>\n",
       "      <td>0</td>\n",
       "      <td>2</td>\n",
       "      <td>0</td>\n",
       "      <td>F</td>\n",
       "      <td>5</td>\n",
       "      <td>S</td>\n",
       "      <td>1</td>\n",
       "    </tr>\n",
       "  </tbody>\n",
       "</table>\n",
       "</div>"
      ],
      "text/plain": [
       "  PassengerId HomePlanet CryoSleep  Cabin  Destination   Age    VIP  \\\n",
       "0     0013_01      Earth      True  G/3/S  TRAPPIST-1e  27.0  False   \n",
       "1     0018_01      Earth     False  F/4/S  TRAPPIST-1e  19.0  False   \n",
       "2     0019_01     Europa      True  C/0/S  55 Cancri e  31.0  False   \n",
       "3     0021_01     Europa     False  C/1/S  TRAPPIST-1e  38.0  False   \n",
       "4     0023_01      Earth     False  F/5/S  TRAPPIST-1e  20.0  False   \n",
       "\n",
       "   RoomService  FoodCourt  ShoppingMall     Spa  VRDeck              Name  \\\n",
       "0          0.0        0.0           0.0     0.0     0.0   Nelly Carsoning   \n",
       "1          0.0        9.0           0.0  2823.0     0.0    Lerome Peckers   \n",
       "2          0.0        0.0           0.0     0.0     0.0   Sabih Unhearfus   \n",
       "3          0.0     6652.0           0.0   181.0   585.0  Meratz Caltilter   \n",
       "4         10.0        0.0         635.0     0.0     0.0   Brence Harperez   \n",
       "\n",
       "   HomePlanetCode  DestinationCode  CryoSleepCode CabinDeck CabinNum  \\\n",
       "0               0                2              1         G        3   \n",
       "1               0                2              0         F        4   \n",
       "2               1                0              1         C        0   \n",
       "3               1                2              0         C        1   \n",
       "4               0                2              0         F        5   \n",
       "\n",
       "  CabinSide  CabinSideCode  \n",
       "0         S              1  \n",
       "1         S              1  \n",
       "2         S              1  \n",
       "3         S              1  \n",
       "4         S              1  "
      ]
     },
     "execution_count": 28,
     "metadata": {},
     "output_type": "execute_result"
    }
   ],
   "source": [
    "train_data['TransportedCode'] = le.fit_transform(train_data['Transported'])\n",
    "train_data.head()\n",
    "test_data.head()"
   ]
  },
  {
   "cell_type": "code",
   "execution_count": 29,
   "id": "b672a440",
   "metadata": {
    "execution": {
     "iopub.execute_input": "2023-03-27T14:41:31.282910Z",
     "iopub.status.busy": "2023-03-27T14:41:31.282481Z",
     "iopub.status.idle": "2023-03-27T14:41:31.296245Z",
     "shell.execute_reply": "2023-03-27T14:41:31.295207Z"
    },
    "papermill": {
     "duration": 0.038054,
     "end_time": "2023-03-27T14:41:31.298394",
     "exception": false,
     "start_time": "2023-03-27T14:41:31.260340",
     "status": "completed"
    },
    "tags": []
   },
   "outputs": [
    {
     "data": {
      "text/plain": [
       "0    8291\n",
       "2     203\n",
       "1     199\n",
       "Name: VIPCode, dtype: int64"
      ]
     },
     "execution_count": 29,
     "metadata": {},
     "output_type": "execute_result"
    }
   ],
   "source": [
    "train_data['VIPCode'] = le.fit_transform(train_data['VIP'])\n",
    "test_data['VIPCode'] = le.fit_transform(test_data['VIP'])\n",
    "train_data['VIPCode'].value_counts()"
   ]
  },
  {
   "cell_type": "code",
   "execution_count": 30,
   "id": "0cf9baf9",
   "metadata": {
    "execution": {
     "iopub.execute_input": "2023-03-27T14:41:31.342523Z",
     "iopub.status.busy": "2023-03-27T14:41:31.341864Z",
     "iopub.status.idle": "2023-03-27T14:41:31.351598Z",
     "shell.execute_reply": "2023-03-27T14:41:31.350435Z"
    },
    "papermill": {
     "duration": 0.035001,
     "end_time": "2023-03-27T14:41:31.354251",
     "exception": false,
     "start_time": "2023-03-27T14:41:31.319250",
     "status": "completed"
    },
    "tags": []
   },
   "outputs": [
    {
     "data": {
      "text/plain": [
       "0"
      ]
     },
     "execution_count": 30,
     "metadata": {},
     "output_type": "execute_result"
    }
   ],
   "source": [
    "train_data.Age.fillna(train_data.Age.mean(), inplace=True)\n",
    "test_data.Age.fillna(test_data.Age.mean(), inplace=True)\n",
    "train_data.Age.isna().sum()\n",
    "test_data.Age.isna().sum()"
   ]
  },
  {
   "cell_type": "code",
   "execution_count": 31,
   "id": "ef1fcf5b",
   "metadata": {
    "execution": {
     "iopub.execute_input": "2023-03-27T14:41:31.397698Z",
     "iopub.status.busy": "2023-03-27T14:41:31.397001Z",
     "iopub.status.idle": "2023-03-27T14:41:31.895200Z",
     "shell.execute_reply": "2023-03-27T14:41:31.894011Z"
    },
    "papermill": {
     "duration": 0.522891,
     "end_time": "2023-03-27T14:41:31.897758",
     "exception": false,
     "start_time": "2023-03-27T14:41:31.374867",
     "status": "completed"
    },
    "tags": []
   },
   "outputs": [
    {
     "data": {
      "text/plain": [
       "<AxesSubplot:>"
      ]
     },
     "execution_count": 31,
     "metadata": {},
     "output_type": "execute_result"
    },
    {
     "data": {
      "image/png": "[encoded data removed]",
      "text/plain": [
       "<Figure size 640x480 with 2 Axes>"
      ]
     },
     "metadata": {},
     "output_type": "display_data"
    }
   ],
   "source": [
    "sns.heatmap(data=train_data[['Age','HomePlanetCode','DestinationCode','CryoSleepCode','CabinSideCode','TransportedCode']].corr(), annot=True)"
   ]
  },
  {
   "cell_type": "code",
   "execution_count": 32,
   "id": "fa6209c1",
   "metadata": {
    "execution": {
     "iopub.execute_input": "2023-03-27T14:41:31.944973Z",
     "iopub.status.busy": "2023-03-27T14:41:31.943901Z",
     "iopub.status.idle": "2023-03-27T14:41:32.210368Z",
     "shell.execute_reply": "2023-03-27T14:41:32.209018Z"
    },
    "papermill": {
     "duration": 0.292823,
     "end_time": "2023-03-27T14:41:32.212966",
     "exception": false,
     "start_time": "2023-03-27T14:41:31.920143",
     "status": "completed"
    },
    "tags": []
   },
   "outputs": [
    {
     "data": {
      "text/plain": [
       "<AxesSubplot:>"
      ]
     },
     "execution_count": 32,
     "metadata": {},
     "output_type": "execute_result"
    },
    {
     "data": {
      "image/png": "[encoded data removed]",
      "text/plain": [
       "<Figure size 1200x600 with 1 Axes>"
      ]
     },
     "metadata": {},
     "output_type": "display_data"
    }
   ],
   "source": [
    "plt.figure(figsize=(12,6))\n",
    "sns.boxplot(data=train_data[['HomePlanetCode','DestinationCode','CryoSleepCode','CabinSideCode','VIPCode','Age']])"
   ]
  },
  {
   "cell_type": "code",
   "execution_count": 33,
   "id": "6fdb9915",
   "metadata": {
    "execution": {
     "iopub.execute_input": "2023-03-27T14:41:32.260457Z",
     "iopub.status.busy": "2023-03-27T14:41:32.259745Z",
     "iopub.status.idle": "2023-03-27T14:41:32.397902Z",
     "shell.execute_reply": "2023-03-27T14:41:32.396716Z"
    },
    "papermill": {
     "duration": 0.165005,
     "end_time": "2023-03-27T14:41:32.400485",
     "exception": false,
     "start_time": "2023-03-27T14:41:32.235480",
     "status": "completed"
    },
    "tags": []
   },
   "outputs": [
    {
     "data": {
      "text/plain": [
       "<AxesSubplot:>"
      ]
     },
     "execution_count": 33,
     "metadata": {},
     "output_type": "execute_result"
    },
    {
     "data": {
      "image/png": "[encoded data removed]",
      "text/plain": [
       "<Figure size 640x480 with 1 Axes>"
      ]
     },
     "metadata": {},
     "output_type": "display_data"
    }
   ],
   "source": [
    "sns.boxplot(data=train_data['Age'])"
   ]
  },
  {
   "cell_type": "code",
   "execution_count": 34,
   "id": "155cb3e2",
   "metadata": {
    "execution": {
     "iopub.execute_input": "2023-03-27T14:41:32.452145Z",
     "iopub.status.busy": "2023-03-27T14:41:32.451748Z",
     "iopub.status.idle": "2023-03-27T14:41:32.461883Z",
     "shell.execute_reply": "2023-03-27T14:41:32.460861Z"
    },
    "papermill": {
     "duration": 0.039878,
     "end_time": "2023-03-27T14:41:32.464098",
     "exception": false,
     "start_time": "2023-03-27T14:41:32.424220",
     "status": "completed"
    },
    "tags": []
   },
   "outputs": [
    {
     "data": {
      "text/plain": [
       "Earth     4602\n",
       "Europa    2131\n",
       "Mars      1759\n",
       "Name: HomePlanet, dtype: int64"
      ]
     },
     "execution_count": 34,
     "metadata": {},
     "output_type": "execute_result"
    }
   ],
   "source": [
    "train_data['HomePlanet'].value_counts()"
   ]
  },
  {
   "cell_type": "code",
   "execution_count": 35,
   "id": "4e26869d",
   "metadata": {
    "execution": {
     "iopub.execute_input": "2023-03-27T14:41:32.512249Z",
     "iopub.status.busy": "2023-03-27T14:41:32.511806Z",
     "iopub.status.idle": "2023-03-27T14:41:32.686419Z",
     "shell.execute_reply": "2023-03-27T14:41:32.685175Z"
    },
    "papermill": {
     "duration": 0.202276,
     "end_time": "2023-03-27T14:41:32.689306",
     "exception": false,
     "start_time": "2023-03-27T14:41:32.487030",
     "status": "completed"
    },
    "tags": []
   },
   "outputs": [
    {
     "data": {
      "text/html": [
       "<div>\n",
       "<style scoped>\n",
       "    .dataframe tbody tr th:only-of-type {\n",
       "        vertical-align: middle;\n",
       "    }\n",
       "\n",
       "    .dataframe tbody tr th {\n",
       "        vertical-align: top;\n",
       "    }\n",
       "\n",
       "    .dataframe thead th {\n",
       "        text-align: right;\n",
       "    }\n",
       "</style>\n",
       "<table border=\"1\" class=\"dataframe\">\n",
       "  <thead>\n",
       "    <tr style=\"text-align: right;\">\n",
       "      <th></th>\n",
       "      <th>PassengerId</th>\n",
       "      <th>HomePlanet</th>\n",
       "      <th>CryoSleep</th>\n",
       "      <th>Cabin</th>\n",
       "      <th>Destination</th>\n",
       "      <th>Age</th>\n",
       "      <th>VIP</th>\n",
       "      <th>RoomService</th>\n",
       "      <th>FoodCourt</th>\n",
       "      <th>ShoppingMall</th>\n",
       "      <th>...</th>\n",
       "      <th>HomePlanetCode</th>\n",
       "      <th>DestinationCode</th>\n",
       "      <th>CryoSleepCode</th>\n",
       "      <th>CabinDeck</th>\n",
       "      <th>CabinNum</th>\n",
       "      <th>CabinSide</th>\n",
       "      <th>CabinSideCode</th>\n",
       "      <th>VIPCode</th>\n",
       "      <th>PassengerGroup</th>\n",
       "      <th>PassengerNum</th>\n",
       "    </tr>\n",
       "  </thead>\n",
       "  <tbody>\n",
       "    <tr>\n",
       "      <th>0</th>\n",
       "      <td>0013_01</td>\n",
       "      <td>Earth</td>\n",
       "      <td>True</td>\n",
       "      <td>G/3/S</td>\n",
       "      <td>TRAPPIST-1e</td>\n",
       "      <td>27.0</td>\n",
       "      <td>False</td>\n",
       "      <td>0.0</td>\n",
       "      <td>0.0</td>\n",
       "      <td>0.0</td>\n",
       "      <td>...</td>\n",
       "      <td>0</td>\n",
       "      <td>2</td>\n",
       "      <td>1</td>\n",
       "      <td>G</td>\n",
       "      <td>3</td>\n",
       "      <td>S</td>\n",
       "      <td>1</td>\n",
       "      <td>0</td>\n",
       "      <td>0013</td>\n",
       "      <td>01</td>\n",
       "    </tr>\n",
       "    <tr>\n",
       "      <th>1</th>\n",
       "      <td>0018_01</td>\n",
       "      <td>Earth</td>\n",
       "      <td>False</td>\n",
       "      <td>F/4/S</td>\n",
       "      <td>TRAPPIST-1e</td>\n",
       "      <td>19.0</td>\n",
       "      <td>False</td>\n",
       "      <td>0.0</td>\n",
       "      <td>9.0</td>\n",
       "      <td>0.0</td>\n",
       "      <td>...</td>\n",
       "      <td>0</td>\n",
       "      <td>2</td>\n",
       "      <td>0</td>\n",
       "      <td>F</td>\n",
       "      <td>4</td>\n",
       "      <td>S</td>\n",
       "      <td>1</td>\n",
       "      <td>0</td>\n",
       "      <td>0018</td>\n",
       "      <td>01</td>\n",
       "    </tr>\n",
       "    <tr>\n",
       "      <th>2</th>\n",
       "      <td>0019_01</td>\n",
       "      <td>Europa</td>\n",
       "      <td>True</td>\n",
       "      <td>C/0/S</td>\n",
       "      <td>55 Cancri e</td>\n",
       "      <td>31.0</td>\n",
       "      <td>False</td>\n",
       "      <td>0.0</td>\n",
       "      <td>0.0</td>\n",
       "      <td>0.0</td>\n",
       "      <td>...</td>\n",
       "      <td>1</td>\n",
       "      <td>0</td>\n",
       "      <td>1</td>\n",
       "      <td>C</td>\n",
       "      <td>0</td>\n",
       "      <td>S</td>\n",
       "      <td>1</td>\n",
       "      <td>0</td>\n",
       "      <td>0019</td>\n",
       "      <td>01</td>\n",
       "    </tr>\n",
       "    <tr>\n",
       "      <th>3</th>\n",
       "      <td>0021_01</td>\n",
       "      <td>Europa</td>\n",
       "      <td>False</td>\n",
       "      <td>C/1/S</td>\n",
       "      <td>TRAPPIST-1e</td>\n",
       "      <td>38.0</td>\n",
       "      <td>False</td>\n",
       "      <td>0.0</td>\n",
       "      <td>6652.0</td>\n",
       "      <td>0.0</td>\n",
       "      <td>...</td>\n",
       "      <td>1</td>\n",
       "      <td>2</td>\n",
       "      <td>0</td>\n",
       "      <td>C</td>\n",
       "      <td>1</td>\n",
       "      <td>S</td>\n",
       "      <td>1</td>\n",
       "      <td>0</td>\n",
       "      <td>0021</td>\n",
       "      <td>01</td>\n",
       "    </tr>\n",
       "    <tr>\n",
       "      <th>4</th>\n",
       "      <td>0023_01</td>\n",
       "      <td>Earth</td>\n",
       "      <td>False</td>\n",
       "      <td>F/5/S</td>\n",
       "      <td>TRAPPIST-1e</td>\n",
       "      <td>20.0</td>\n",
       "      <td>False</td>\n",
       "      <td>10.0</td>\n",
       "      <td>0.0</td>\n",
       "      <td>635.0</td>\n",
       "      <td>...</td>\n",
       "      <td>0</td>\n",
       "      <td>2</td>\n",
       "      <td>0</td>\n",
       "      <td>F</td>\n",
       "      <td>5</td>\n",
       "      <td>S</td>\n",
       "      <td>1</td>\n",
       "      <td>0</td>\n",
       "      <td>0023</td>\n",
       "      <td>01</td>\n",
       "    </tr>\n",
       "  </tbody>\n",
       "</table>\n",
       "<p>5 rows × 23 columns</p>\n",
       "</div>"
      ],
      "text/plain": [
       "  PassengerId HomePlanet CryoSleep  Cabin  Destination   Age    VIP  \\\n",
       "0     0013_01      Earth      True  G/3/S  TRAPPIST-1e  27.0  False   \n",
       "1     0018_01      Earth     False  F/4/S  TRAPPIST-1e  19.0  False   \n",
       "2     0019_01     Europa      True  C/0/S  55 Cancri e  31.0  False   \n",
       "3     0021_01     Europa     False  C/1/S  TRAPPIST-1e  38.0  False   \n",
       "4     0023_01      Earth     False  F/5/S  TRAPPIST-1e  20.0  False   \n",
       "\n",
       "   RoomService  FoodCourt  ShoppingMall  ...  HomePlanetCode  DestinationCode  \\\n",
       "0          0.0        0.0           0.0  ...               0                2   \n",
       "1          0.0        9.0           0.0  ...               0                2   \n",
       "2          0.0        0.0           0.0  ...               1                0   \n",
       "3          0.0     6652.0           0.0  ...               1                2   \n",
       "4         10.0        0.0         635.0  ...               0                2   \n",
       "\n",
       "  CryoSleepCode  CabinDeck  CabinNum  CabinSide CabinSideCode VIPCode  \\\n",
       "0             1          G         3          S             1       0   \n",
       "1             0          F         4          S             1       0   \n",
       "2             1          C         0          S             1       0   \n",
       "3             0          C         1          S             1       0   \n",
       "4             0          F         5          S             1       0   \n",
       "\n",
       "  PassengerGroup  PassengerNum  \n",
       "0           0013            01  \n",
       "1           0018            01  \n",
       "2           0019            01  \n",
       "3           0021            01  \n",
       "4           0023            01  \n",
       "\n",
       "[5 rows x 23 columns]"
      ]
     },
     "execution_count": 35,
     "metadata": {},
     "output_type": "execute_result"
    }
   ],
   "source": [
    "train_data[['PassengerGroup','PassengerNum']] = train_data['PassengerId'].str.split('_', expand = True)\n",
    "test_data[['PassengerGroup','PassengerNum']] = test_data['PassengerId'].str.split('_', expand = True)\n",
    "train_data.head()\n",
    "test_data.head()"
   ]
  },
  {
   "cell_type": "code",
   "execution_count": 36,
   "id": "96b807f6",
   "metadata": {
    "execution": {
     "iopub.execute_input": "2023-03-27T14:41:32.738767Z",
     "iopub.status.busy": "2023-03-27T14:41:32.737798Z",
     "iopub.status.idle": "2023-03-27T14:41:32.770488Z",
     "shell.execute_reply": "2023-03-27T14:41:32.769208Z"
    },
    "papermill": {
     "duration": 0.0605,
     "end_time": "2023-03-27T14:41:32.773271",
     "exception": false,
     "start_time": "2023-03-27T14:41:32.712771",
     "status": "completed"
    },
    "tags": []
   },
   "outputs": [],
   "source": [
    "train_data[['PassengerGroup','PassengerNum']] = train_data[['PassengerGroup','PassengerNum']].apply(pd.to_numeric)\n",
    "test_data[['PassengerGroup','PassengerNum']] = test_data[['PassengerGroup','PassengerNum']].apply(pd.to_numeric)"
   ]
  },
  {
   "cell_type": "code",
   "execution_count": 37,
   "id": "b7b4f770",
   "metadata": {
    "execution": {
     "iopub.execute_input": "2023-03-27T14:41:32.822686Z",
     "iopub.status.busy": "2023-03-27T14:41:32.822236Z",
     "iopub.status.idle": "2023-03-27T14:41:32.842523Z",
     "shell.execute_reply": "2023-03-27T14:41:32.840720Z"
    },
    "papermill": {
     "duration": 0.048047,
     "end_time": "2023-03-27T14:41:32.845132",
     "exception": false,
     "start_time": "2023-03-27T14:41:32.797085",
     "status": "completed"
    },
    "tags": []
   },
   "outputs": [
    {
     "name": "stdout",
     "output_type": "stream",
     "text": [
      "<class 'pandas.core.frame.DataFrame'>\n",
      "RangeIndex: 8693 entries, 0 to 8692\n",
      "Data columns (total 25 columns):\n",
      " #   Column           Non-Null Count  Dtype  \n",
      "---  ------           --------------  -----  \n",
      " 0   PassengerId      8693 non-null   object \n",
      " 1   HomePlanet       8492 non-null   object \n",
      " 2   CryoSleep        8476 non-null   object \n",
      " 3   Cabin            8494 non-null   object \n",
      " 4   Destination      8511 non-null   object \n",
      " 5   Age              8693 non-null   float64\n",
      " 6   VIP              8490 non-null   object \n",
      " 7   RoomService      8693 non-null   float64\n",
      " 8   FoodCourt        8693 non-null   float64\n",
      " 9   ShoppingMall     8693 non-null   float64\n",
      " 10  Spa              8693 non-null   float64\n",
      " 11  VRDeck           8693 non-null   float64\n",
      " 12  Name             8493 non-null   object \n",
      " 13  Transported      8693 non-null   bool   \n",
      " 14  HomePlanetCode   8693 non-null   int64  \n",
      " 15  DestinationCode  8693 non-null   int64  \n",
      " 16  CryoSleepCode    8693 non-null   int64  \n",
      " 17  CabinDeck        8494 non-null   object \n",
      " 18  CabinNum         8494 non-null   object \n",
      " 19  CabinSide        8494 non-null   object \n",
      " 20  CabinSideCode    8693 non-null   int64  \n",
      " 21  TransportedCode  8693 non-null   int64  \n",
      " 22  VIPCode          8693 non-null   int64  \n",
      " 23  PassengerGroup   8693 non-null   int64  \n",
      " 24  PassengerNum     8693 non-null   int64  \n",
      "dtypes: bool(1), float64(6), int64(8), object(10)\n",
      "memory usage: 1.6+ MB\n"
     ]
    }
   ],
   "source": [
    "train_data.info()"
   ]
  },
  {
   "cell_type": "code",
   "execution_count": 38,
   "id": "5c88d914",
   "metadata": {
    "execution": {
     "iopub.execute_input": "2023-03-27T14:41:32.894051Z",
     "iopub.status.busy": "2023-03-27T14:41:32.893601Z",
     "iopub.status.idle": "2023-03-27T14:41:33.022587Z",
     "shell.execute_reply": "2023-03-27T14:41:33.021403Z"
    },
    "papermill": {
     "duration": 0.156669,
     "end_time": "2023-03-27T14:41:33.025438",
     "exception": false,
     "start_time": "2023-03-27T14:41:32.868769",
     "status": "completed"
    },
    "tags": []
   },
   "outputs": [
    {
     "data": {
      "text/plain": [
       "<AxesSubplot:xlabel='PassengerGroup'>"
      ]
     },
     "execution_count": 38,
     "metadata": {},
     "output_type": "execute_result"
    },
    {
     "data": {
      "image/png": "[encoded data removed]",
      "text/plain": [
       "<Figure size 640x480 with 1 Axes>"
      ]
     },
     "metadata": {},
     "output_type": "display_data"
    }
   ],
   "source": [
    "sns.boxplot(data=train_data, x='PassengerGroup')"
   ]
  },
  {
   "cell_type": "code",
   "execution_count": 39,
   "id": "3fe39d06",
   "metadata": {
    "execution": {
     "iopub.execute_input": "2023-03-27T14:41:33.075773Z",
     "iopub.status.busy": "2023-03-27T14:41:33.075328Z",
     "iopub.status.idle": "2023-03-27T14:41:33.294214Z",
     "shell.execute_reply": "2023-03-27T14:41:33.292930Z"
    },
    "papermill": {
     "duration": 0.246692,
     "end_time": "2023-03-27T14:41:33.296712",
     "exception": false,
     "start_time": "2023-03-27T14:41:33.050020",
     "status": "completed"
    },
    "tags": []
   },
   "outputs": [
    {
     "data": {
      "text/plain": [
       "<AxesSubplot:xlabel='PassengerGroup', ylabel='Count'>"
      ]
     },
     "execution_count": 39,
     "metadata": {},
     "output_type": "execute_result"
    },
    {
     "data": {
      "image/png": "[encoded data removed]",
      "text/plain": [
       "<Figure size 640x480 with 1 Axes>"
      ]
     },
     "metadata": {},
     "output_type": "display_data"
    }
   ],
   "source": [
    "sns.histplot(data=train_data, x='PassengerGroup')"
   ]
  },
  {
   "cell_type": "code",
   "execution_count": 40,
   "id": "5ec777b1",
   "metadata": {
    "execution": {
     "iopub.execute_input": "2023-03-27T14:41:33.348746Z",
     "iopub.status.busy": "2023-03-27T14:41:33.347673Z",
     "iopub.status.idle": "2023-03-27T14:41:33.357895Z",
     "shell.execute_reply": "2023-03-27T14:41:33.356749Z"
    },
    "papermill": {
     "duration": 0.039105,
     "end_time": "2023-03-27T14:41:33.360349",
     "exception": false,
     "start_time": "2023-03-27T14:41:33.321244",
     "status": "completed"
    },
    "tags": []
   },
   "outputs": [
    {
     "data": {
      "text/plain": [
       "4498    8\n",
       "8168    8\n",
       "8728    8\n",
       "8796    8\n",
       "8956    8\n",
       "       ..\n",
       "3483    1\n",
       "3480    1\n",
       "3478    1\n",
       "3473    1\n",
       "4620    1\n",
       "Name: PassengerGroup, Length: 6217, dtype: int64"
      ]
     },
     "execution_count": 40,
     "metadata": {},
     "output_type": "execute_result"
    }
   ],
   "source": [
    "train_data.PassengerGroup.value_counts()"
   ]
  },
  {
   "cell_type": "code",
   "execution_count": null,
   "id": "ae09a2a0",
   "metadata": {
    "papermill": {
     "duration": 0.024074,
     "end_time": "2023-03-27T14:41:33.409063",
     "exception": false,
     "start_time": "2023-03-27T14:41:33.384989",
     "status": "completed"
    },
    "tags": []
   },
   "outputs": [],
   "source": []
  },
  {
   "cell_type": "markdown",
   "id": "9a86de51",
   "metadata": {
    "papermill": {
     "duration": 0.024331,
     "end_time": "2023-03-27T14:41:33.457837",
     "exception": false,
     "start_time": "2023-03-27T14:41:33.433506",
     "status": "completed"
    },
    "tags": []
   },
   "source": [
    "**Defining the feature set**"
   ]
  },
  {
   "cell_type": "code",
   "execution_count": 41,
   "id": "78fb8da1",
   "metadata": {
    "execution": {
     "iopub.execute_input": "2023-03-27T14:41:33.509040Z",
     "iopub.status.busy": "2023-03-27T14:41:33.508616Z",
     "iopub.status.idle": "2023-03-27T14:41:33.519445Z",
     "shell.execute_reply": "2023-03-27T14:41:33.518450Z"
    },
    "papermill": {
     "duration": 0.039529,
     "end_time": "2023-03-27T14:41:33.522035",
     "exception": false,
     "start_time": "2023-03-27T14:41:33.482506",
     "status": "completed"
    },
    "tags": []
   },
   "outputs": [],
   "source": [
    "features = ['HomePlanetCode','DestinationCode',\n",
    "            'CryoSleepCode',\n",
    "#             'CabinDeckCode',\n",
    "            'CabinSideCode',\n",
    "            'VIPCode',\n",
    "            'Age',\n",
    "#             'PassengerGroup',\n",
    "#             'PassengerNum',\n",
    "            'RoomService','FoodCourt','ShoppingMall','Spa','VRDeck'\n",
    "           ]\n",
    "\n",
    "X = pd.concat([train_data[features], train_CabinDeck_encoded], axis=1)\n",
    "y = train_data['TransportedCode']\n",
    "\n",
    "X_test = pd.concat([test_data[features], test_CabinDeck_encoded], axis=1)"
   ]
  },
  {
   "cell_type": "code",
   "execution_count": 42,
   "id": "9dc52a04",
   "metadata": {
    "execution": {
     "iopub.execute_input": "2023-03-27T14:41:33.572795Z",
     "iopub.status.busy": "2023-03-27T14:41:33.572365Z",
     "iopub.status.idle": "2023-03-27T14:41:33.594982Z",
     "shell.execute_reply": "2023-03-27T14:41:33.593649Z"
    },
    "papermill": {
     "duration": 0.051501,
     "end_time": "2023-03-27T14:41:33.597932",
     "exception": false,
     "start_time": "2023-03-27T14:41:33.546431",
     "status": "completed"
    },
    "tags": []
   },
   "outputs": [
    {
     "data": {
      "text/html": [
       "<div>\n",
       "<style scoped>\n",
       "    .dataframe tbody tr th:only-of-type {\n",
       "        vertical-align: middle;\n",
       "    }\n",
       "\n",
       "    .dataframe tbody tr th {\n",
       "        vertical-align: top;\n",
       "    }\n",
       "\n",
       "    .dataframe thead th {\n",
       "        text-align: right;\n",
       "    }\n",
       "</style>\n",
       "<table border=\"1\" class=\"dataframe\">\n",
       "  <thead>\n",
       "    <tr style=\"text-align: right;\">\n",
       "      <th></th>\n",
       "      <th>HomePlanetCode</th>\n",
       "      <th>DestinationCode</th>\n",
       "      <th>CryoSleepCode</th>\n",
       "      <th>CabinSideCode</th>\n",
       "      <th>VIPCode</th>\n",
       "      <th>Age</th>\n",
       "      <th>RoomService</th>\n",
       "      <th>FoodCourt</th>\n",
       "      <th>ShoppingMall</th>\n",
       "      <th>Spa</th>\n",
       "      <th>VRDeck</th>\n",
       "      <th>CabinDeck_A</th>\n",
       "      <th>CabinDeck_B</th>\n",
       "      <th>CabinDeck_C</th>\n",
       "      <th>CabinDeck_D</th>\n",
       "      <th>CabinDeck_E</th>\n",
       "      <th>CabinDeck_F</th>\n",
       "      <th>CabinDeck_G</th>\n",
       "      <th>CabinDeck_T</th>\n",
       "    </tr>\n",
       "  </thead>\n",
       "  <tbody>\n",
       "    <tr>\n",
       "      <th>0</th>\n",
       "      <td>1</td>\n",
       "      <td>2</td>\n",
       "      <td>0</td>\n",
       "      <td>0</td>\n",
       "      <td>0</td>\n",
       "      <td>39.0</td>\n",
       "      <td>0.0</td>\n",
       "      <td>0.0</td>\n",
       "      <td>0.0</td>\n",
       "      <td>0.0</td>\n",
       "      <td>0.0</td>\n",
       "      <td>0</td>\n",
       "      <td>1</td>\n",
       "      <td>0</td>\n",
       "      <td>0</td>\n",
       "      <td>0</td>\n",
       "      <td>0</td>\n",
       "      <td>0</td>\n",
       "      <td>0</td>\n",
       "    </tr>\n",
       "    <tr>\n",
       "      <th>1</th>\n",
       "      <td>0</td>\n",
       "      <td>2</td>\n",
       "      <td>0</td>\n",
       "      <td>1</td>\n",
       "      <td>0</td>\n",
       "      <td>24.0</td>\n",
       "      <td>109.0</td>\n",
       "      <td>9.0</td>\n",
       "      <td>25.0</td>\n",
       "      <td>549.0</td>\n",
       "      <td>44.0</td>\n",
       "      <td>0</td>\n",
       "      <td>0</td>\n",
       "      <td>0</td>\n",
       "      <td>0</td>\n",
       "      <td>0</td>\n",
       "      <td>1</td>\n",
       "      <td>0</td>\n",
       "      <td>0</td>\n",
       "    </tr>\n",
       "    <tr>\n",
       "      <th>2</th>\n",
       "      <td>1</td>\n",
       "      <td>2</td>\n",
       "      <td>0</td>\n",
       "      <td>1</td>\n",
       "      <td>1</td>\n",
       "      <td>58.0</td>\n",
       "      <td>43.0</td>\n",
       "      <td>3576.0</td>\n",
       "      <td>0.0</td>\n",
       "      <td>6715.0</td>\n",
       "      <td>49.0</td>\n",
       "      <td>1</td>\n",
       "      <td>0</td>\n",
       "      <td>0</td>\n",
       "      <td>0</td>\n",
       "      <td>0</td>\n",
       "      <td>0</td>\n",
       "      <td>0</td>\n",
       "      <td>0</td>\n",
       "    </tr>\n",
       "    <tr>\n",
       "      <th>3</th>\n",
       "      <td>1</td>\n",
       "      <td>2</td>\n",
       "      <td>0</td>\n",
       "      <td>1</td>\n",
       "      <td>0</td>\n",
       "      <td>33.0</td>\n",
       "      <td>0.0</td>\n",
       "      <td>1283.0</td>\n",
       "      <td>371.0</td>\n",
       "      <td>3329.0</td>\n",
       "      <td>193.0</td>\n",
       "      <td>1</td>\n",
       "      <td>0</td>\n",
       "      <td>0</td>\n",
       "      <td>0</td>\n",
       "      <td>0</td>\n",
       "      <td>0</td>\n",
       "      <td>0</td>\n",
       "      <td>0</td>\n",
       "    </tr>\n",
       "    <tr>\n",
       "      <th>4</th>\n",
       "      <td>0</td>\n",
       "      <td>2</td>\n",
       "      <td>0</td>\n",
       "      <td>1</td>\n",
       "      <td>0</td>\n",
       "      <td>16.0</td>\n",
       "      <td>303.0</td>\n",
       "      <td>70.0</td>\n",
       "      <td>151.0</td>\n",
       "      <td>565.0</td>\n",
       "      <td>2.0</td>\n",
       "      <td>0</td>\n",
       "      <td>0</td>\n",
       "      <td>0</td>\n",
       "      <td>0</td>\n",
       "      <td>0</td>\n",
       "      <td>1</td>\n",
       "      <td>0</td>\n",
       "      <td>0</td>\n",
       "    </tr>\n",
       "  </tbody>\n",
       "</table>\n",
       "</div>"
      ],
      "text/plain": [
       "   HomePlanetCode  DestinationCode  CryoSleepCode  CabinSideCode  VIPCode  \\\n",
       "0               1                2              0              0        0   \n",
       "1               0                2              0              1        0   \n",
       "2               1                2              0              1        1   \n",
       "3               1                2              0              1        0   \n",
       "4               0                2              0              1        0   \n",
       "\n",
       "    Age  RoomService  FoodCourt  ShoppingMall     Spa  VRDeck  CabinDeck_A  \\\n",
       "0  39.0          0.0        0.0           0.0     0.0     0.0            0   \n",
       "1  24.0        109.0        9.0          25.0   549.0    44.0            0   \n",
       "2  58.0         43.0     3576.0           0.0  6715.0    49.0            1   \n",
       "3  33.0          0.0     1283.0         371.0  3329.0   193.0            1   \n",
       "4  16.0        303.0       70.0         151.0   565.0     2.0            0   \n",
       "\n",
       "   CabinDeck_B  CabinDeck_C  CabinDeck_D  CabinDeck_E  CabinDeck_F  \\\n",
       "0            1            0            0            0            0   \n",
       "1            0            0            0            0            1   \n",
       "2            0            0            0            0            0   \n",
       "3            0            0            0            0            0   \n",
       "4            0            0            0            0            1   \n",
       "\n",
       "   CabinDeck_G  CabinDeck_T  \n",
       "0            0            0  \n",
       "1            0            0  \n",
       "2            0            0  \n",
       "3            0            0  \n",
       "4            0            0  "
      ]
     },
     "execution_count": 42,
     "metadata": {},
     "output_type": "execute_result"
    }
   ],
   "source": [
    "X.head()"
   ]
  },
  {
   "cell_type": "code",
   "execution_count": 43,
   "id": "0f46f82c",
   "metadata": {
    "execution": {
     "iopub.execute_input": "2023-03-27T14:41:33.649591Z",
     "iopub.status.busy": "2023-03-27T14:41:33.649185Z",
     "iopub.status.idle": "2023-03-27T14:41:39.973405Z",
     "shell.execute_reply": "2023-03-27T14:41:39.972123Z"
    },
    "papermill": {
     "duration": 6.353796,
     "end_time": "2023-03-27T14:41:39.976679",
     "exception": false,
     "start_time": "2023-03-27T14:41:33.622883",
     "status": "completed"
    },
    "tags": []
   },
   "outputs": [
    {
     "data": {
      "text/plain": [
       "<seaborn.axisgrid.PairGrid at 0x7fddc7de5150>"
      ]
     },
     "execution_count": 43,
     "metadata": {},
     "output_type": "execute_result"
    },
    {
     "data": {
      "image/png": "[encoded data removed]",
      "text/plain": [
       "<Figure size 879.611x750 with 12 Axes>"
      ]
     },
     "metadata": {},
     "output_type": "display_data"
    }
   ],
   "source": [
    "sns.pairplot(data=train_data[['Age','PassengerNum','VIPCode','TransportedCode']], hue='TransportedCode')"
   ]
  },
  {
   "cell_type": "code",
   "execution_count": 44,
   "id": "9d730a02",
   "metadata": {
    "execution": {
     "iopub.execute_input": "2023-03-27T14:41:40.034732Z",
     "iopub.status.busy": "2023-03-27T14:41:40.033499Z",
     "iopub.status.idle": "2023-03-27T14:41:40.039605Z",
     "shell.execute_reply": "2023-03-27T14:41:40.038502Z"
    },
    "papermill": {
     "duration": 0.037811,
     "end_time": "2023-03-27T14:41:40.042232",
     "exception": false,
     "start_time": "2023-03-27T14:41:40.004421",
     "status": "completed"
    },
    "tags": []
   },
   "outputs": [
    {
     "name": "stdout",
     "output_type": "stream",
     "text": [
      "(8693, 19)\n",
      "(8693,)\n"
     ]
    }
   ],
   "source": [
    "print(X.shape)\n",
    "print(y.shape)"
   ]
  },
  {
   "cell_type": "code",
   "execution_count": 45,
   "id": "6808be60",
   "metadata": {
    "execution": {
     "iopub.execute_input": "2023-03-27T14:41:40.100013Z",
     "iopub.status.busy": "2023-03-27T14:41:40.099326Z",
     "iopub.status.idle": "2023-03-27T14:41:40.109228Z",
     "shell.execute_reply": "2023-03-27T14:41:40.108274Z"
    },
    "papermill": {
     "duration": 0.04079,
     "end_time": "2023-03-27T14:41:40.111531",
     "exception": false,
     "start_time": "2023-03-27T14:41:40.070741",
     "status": "completed"
    },
    "tags": []
   },
   "outputs": [
    {
     "data": {
      "text/plain": [
       "HomePlanetCode     0\n",
       "DestinationCode    0\n",
       "CryoSleepCode      0\n",
       "CabinSideCode      0\n",
       "VIPCode            0\n",
       "Age                0\n",
       "RoomService        0\n",
       "FoodCourt          0\n",
       "ShoppingMall       0\n",
       "Spa                0\n",
       "VRDeck             0\n",
       "CabinDeck_A        0\n",
       "CabinDeck_B        0\n",
       "CabinDeck_C        0\n",
       "CabinDeck_D        0\n",
       "CabinDeck_E        0\n",
       "CabinDeck_F        0\n",
       "CabinDeck_G        0\n",
       "CabinDeck_T        0\n",
       "dtype: int64"
      ]
     },
     "execution_count": 45,
     "metadata": {},
     "output_type": "execute_result"
    }
   ],
   "source": [
    "X.isna().sum()"
   ]
  },
  {
   "cell_type": "code",
   "execution_count": 46,
   "id": "f1b04e01",
   "metadata": {
    "execution": {
     "iopub.execute_input": "2023-03-27T14:41:40.168484Z",
     "iopub.status.busy": "2023-03-27T14:41:40.167469Z",
     "iopub.status.idle": "2023-03-27T14:41:40.175357Z",
     "shell.execute_reply": "2023-03-27T14:41:40.174111Z"
    },
    "papermill": {
     "duration": 0.038741,
     "end_time": "2023-03-27T14:41:40.177570",
     "exception": false,
     "start_time": "2023-03-27T14:41:40.138829",
     "status": "completed"
    },
    "tags": []
   },
   "outputs": [
    {
     "data": {
      "text/plain": [
       "0"
      ]
     },
     "execution_count": 46,
     "metadata": {},
     "output_type": "execute_result"
    }
   ],
   "source": [
    "y.isna().sum()"
   ]
  },
  {
   "cell_type": "code",
   "execution_count": 47,
   "id": "624b5ae4",
   "metadata": {
    "execution": {
     "iopub.execute_input": "2023-03-27T14:41:40.234382Z",
     "iopub.status.busy": "2023-03-27T14:41:40.233956Z",
     "iopub.status.idle": "2023-03-27T14:41:40.242140Z",
     "shell.execute_reply": "2023-03-27T14:41:40.241021Z"
    },
    "papermill": {
     "duration": 0.039513,
     "end_time": "2023-03-27T14:41:40.244531",
     "exception": false,
     "start_time": "2023-03-27T14:41:40.205018",
     "status": "completed"
    },
    "tags": []
   },
   "outputs": [
    {
     "data": {
      "text/plain": [
       "1    4378\n",
       "0    4315\n",
       "Name: TransportedCode, dtype: int64"
      ]
     },
     "execution_count": 47,
     "metadata": {},
     "output_type": "execute_result"
    }
   ],
   "source": [
    "y.value_counts()"
   ]
  },
  {
   "cell_type": "code",
   "execution_count": 48,
   "id": "a0deb700",
   "metadata": {
    "execution": {
     "iopub.execute_input": "2023-03-27T14:41:40.301461Z",
     "iopub.status.busy": "2023-03-27T14:41:40.301065Z",
     "iopub.status.idle": "2023-03-27T14:41:40.322923Z",
     "shell.execute_reply": "2023-03-27T14:41:40.321980Z"
    },
    "papermill": {
     "duration": 0.053573,
     "end_time": "2023-03-27T14:41:40.325533",
     "exception": false,
     "start_time": "2023-03-27T14:41:40.271960",
     "status": "completed"
    },
    "tags": []
   },
   "outputs": [],
   "source": [
    "from sklearn.model_selection import train_test_split\n",
    "X_train, X_valid, y_train, y_valid = train_test_split(X, y, train_size=0.8, random_state=42)"
   ]
  },
  {
   "cell_type": "code",
   "execution_count": 49,
   "id": "5c49d3fe",
   "metadata": {
    "execution": {
     "iopub.execute_input": "2023-03-27T14:41:40.382982Z",
     "iopub.status.busy": "2023-03-27T14:41:40.382256Z",
     "iopub.status.idle": "2023-03-27T14:41:40.390111Z",
     "shell.execute_reply": "2023-03-27T14:41:40.388998Z"
    },
    "papermill": {
     "duration": 0.038941,
     "end_time": "2023-03-27T14:41:40.392382",
     "exception": false,
     "start_time": "2023-03-27T14:41:40.353441",
     "status": "completed"
    },
    "tags": []
   },
   "outputs": [
    {
     "data": {
      "text/plain": [
       "Index(['HomePlanetCode', 'DestinationCode', 'CryoSleepCode', 'CabinSideCode',\n",
       "       'VIPCode', 'Age', 'RoomService', 'FoodCourt', 'ShoppingMall', 'Spa',\n",
       "       'VRDeck', 'CabinDeck_A', 'CabinDeck_B', 'CabinDeck_C', 'CabinDeck_D',\n",
       "       'CabinDeck_E', 'CabinDeck_F', 'CabinDeck_G', 'CabinDeck_T'],\n",
       "      dtype='object')"
      ]
     },
     "execution_count": 49,
     "metadata": {},
     "output_type": "execute_result"
    }
   ],
   "source": [
    "X_train.columns"
   ]
  },
  {
   "cell_type": "code",
   "execution_count": 50,
   "id": "db77ccfb",
   "metadata": {
    "execution": {
     "iopub.execute_input": "2023-03-27T14:41:40.449227Z",
     "iopub.status.busy": "2023-03-27T14:41:40.448800Z",
     "iopub.status.idle": "2023-03-27T14:41:40.465069Z",
     "shell.execute_reply": "2023-03-27T14:41:40.463879Z"
    },
    "papermill": {
     "duration": 0.047874,
     "end_time": "2023-03-27T14:41:40.467747",
     "exception": false,
     "start_time": "2023-03-27T14:41:40.419873",
     "status": "completed"
    },
    "tags": []
   },
   "outputs": [],
   "source": [
    "from sklearn.preprocessing import StandardScaler, MinMaxScaler\n",
    "ss = StandardScaler()\n",
    "mm = MinMaxScaler()\n",
    "\n",
    "X_train_scaled = pd.DataFrame(mm.fit_transform(X_train), columns = X_train.columns)\n",
    "X_valid_scaled = pd.DataFrame(mm.transform(X_valid), columns = X_valid.columns)\n",
    "# y_train_scaled = pd.DataFrame(ss.transform(y_train), columns = y_train.columns)\n",
    "# y_valid_scaled = pd.DataFrame(ss.transform(y_valid), columns = y_valid.columns)\n",
    "\n",
    "X_test_scaled = pd.DataFrame(mm.transform(X_test), columns = X_test.columns)"
   ]
  },
  {
   "cell_type": "code",
   "execution_count": 51,
   "id": "77f7818b",
   "metadata": {
    "execution": {
     "iopub.execute_input": "2023-03-27T14:41:40.524617Z",
     "iopub.status.busy": "2023-03-27T14:41:40.524203Z",
     "iopub.status.idle": "2023-03-27T14:41:40.559129Z",
     "shell.execute_reply": "2023-03-27T14:41:40.557559Z"
    },
    "papermill": {
     "duration": 0.066193,
     "end_time": "2023-03-27T14:41:40.561502",
     "exception": false,
     "start_time": "2023-03-27T14:41:40.495309",
     "status": "completed"
    },
    "tags": []
   },
   "outputs": [
    {
     "data": {
      "text/html": [
       "<div>\n",
       "<style scoped>\n",
       "    .dataframe tbody tr th:only-of-type {\n",
       "        vertical-align: middle;\n",
       "    }\n",
       "\n",
       "    .dataframe tbody tr th {\n",
       "        vertical-align: top;\n",
       "    }\n",
       "\n",
       "    .dataframe thead th {\n",
       "        text-align: right;\n",
       "    }\n",
       "</style>\n",
       "<table border=\"1\" class=\"dataframe\">\n",
       "  <thead>\n",
       "    <tr style=\"text-align: right;\">\n",
       "      <th></th>\n",
       "      <th>HomePlanetCode</th>\n",
       "      <th>DestinationCode</th>\n",
       "      <th>CryoSleepCode</th>\n",
       "      <th>CabinSideCode</th>\n",
       "      <th>VIPCode</th>\n",
       "      <th>Age</th>\n",
       "      <th>RoomService</th>\n",
       "      <th>FoodCourt</th>\n",
       "      <th>ShoppingMall</th>\n",
       "      <th>Spa</th>\n",
       "      <th>VRDeck</th>\n",
       "      <th>CabinDeck_A</th>\n",
       "      <th>CabinDeck_B</th>\n",
       "      <th>CabinDeck_C</th>\n",
       "      <th>CabinDeck_D</th>\n",
       "      <th>CabinDeck_E</th>\n",
       "      <th>CabinDeck_F</th>\n",
       "      <th>CabinDeck_G</th>\n",
       "      <th>CabinDeck_T</th>\n",
       "    </tr>\n",
       "  </thead>\n",
       "  <tbody>\n",
       "    <tr>\n",
       "      <th>0</th>\n",
       "      <td>0.000000</td>\n",
       "      <td>0.666667</td>\n",
       "      <td>0.0</td>\n",
       "      <td>1.0</td>\n",
       "      <td>0.0</td>\n",
       "      <td>0.354430</td>\n",
       "      <td>0.000000</td>\n",
       "      <td>0.001984</td>\n",
       "      <td>0.000000</td>\n",
       "      <td>0.035322</td>\n",
       "      <td>0.000000</td>\n",
       "      <td>0.0</td>\n",
       "      <td>0.0</td>\n",
       "      <td>0.0</td>\n",
       "      <td>0.0</td>\n",
       "      <td>0.0</td>\n",
       "      <td>0.0</td>\n",
       "      <td>0.0</td>\n",
       "      <td>0.0</td>\n",
       "    </tr>\n",
       "    <tr>\n",
       "      <th>1</th>\n",
       "      <td>0.000000</td>\n",
       "      <td>0.666667</td>\n",
       "      <td>0.0</td>\n",
       "      <td>0.0</td>\n",
       "      <td>0.0</td>\n",
       "      <td>0.215190</td>\n",
       "      <td>0.000000</td>\n",
       "      <td>0.043105</td>\n",
       "      <td>0.001320</td>\n",
       "      <td>0.000000</td>\n",
       "      <td>0.000000</td>\n",
       "      <td>0.0</td>\n",
       "      <td>0.0</td>\n",
       "      <td>0.0</td>\n",
       "      <td>0.0</td>\n",
       "      <td>0.0</td>\n",
       "      <td>1.0</td>\n",
       "      <td>0.0</td>\n",
       "      <td>0.0</td>\n",
       "    </tr>\n",
       "    <tr>\n",
       "      <th>2</th>\n",
       "      <td>0.333333</td>\n",
       "      <td>0.000000</td>\n",
       "      <td>0.5</td>\n",
       "      <td>0.5</td>\n",
       "      <td>0.0</td>\n",
       "      <td>0.354430</td>\n",
       "      <td>0.000000</td>\n",
       "      <td>0.000000</td>\n",
       "      <td>0.000000</td>\n",
       "      <td>0.000000</td>\n",
       "      <td>0.000000</td>\n",
       "      <td>0.0</td>\n",
       "      <td>0.0</td>\n",
       "      <td>1.0</td>\n",
       "      <td>0.0</td>\n",
       "      <td>0.0</td>\n",
       "      <td>0.0</td>\n",
       "      <td>0.0</td>\n",
       "      <td>0.0</td>\n",
       "    </tr>\n",
       "    <tr>\n",
       "      <th>3</th>\n",
       "      <td>0.666667</td>\n",
       "      <td>0.666667</td>\n",
       "      <td>0.0</td>\n",
       "      <td>0.0</td>\n",
       "      <td>0.0</td>\n",
       "      <td>0.253165</td>\n",
       "      <td>0.000000</td>\n",
       "      <td>0.000072</td>\n",
       "      <td>0.012302</td>\n",
       "      <td>0.052552</td>\n",
       "      <td>0.000000</td>\n",
       "      <td>0.0</td>\n",
       "      <td>0.0</td>\n",
       "      <td>0.0</td>\n",
       "      <td>0.0</td>\n",
       "      <td>0.0</td>\n",
       "      <td>1.0</td>\n",
       "      <td>0.0</td>\n",
       "      <td>0.0</td>\n",
       "    </tr>\n",
       "    <tr>\n",
       "      <th>4</th>\n",
       "      <td>0.333333</td>\n",
       "      <td>0.000000</td>\n",
       "      <td>0.5</td>\n",
       "      <td>0.0</td>\n",
       "      <td>0.0</td>\n",
       "      <td>0.455696</td>\n",
       "      <td>0.000000</td>\n",
       "      <td>0.000000</td>\n",
       "      <td>0.000000</td>\n",
       "      <td>0.000000</td>\n",
       "      <td>0.000000</td>\n",
       "      <td>0.0</td>\n",
       "      <td>0.0</td>\n",
       "      <td>1.0</td>\n",
       "      <td>0.0</td>\n",
       "      <td>0.0</td>\n",
       "      <td>0.0</td>\n",
       "      <td>0.0</td>\n",
       "      <td>0.0</td>\n",
       "    </tr>\n",
       "    <tr>\n",
       "      <th>...</th>\n",
       "      <td>...</td>\n",
       "      <td>...</td>\n",
       "      <td>...</td>\n",
       "      <td>...</td>\n",
       "      <td>...</td>\n",
       "      <td>...</td>\n",
       "      <td>...</td>\n",
       "      <td>...</td>\n",
       "      <td>...</td>\n",
       "      <td>...</td>\n",
       "      <td>...</td>\n",
       "      <td>...</td>\n",
       "      <td>...</td>\n",
       "      <td>...</td>\n",
       "      <td>...</td>\n",
       "      <td>...</td>\n",
       "      <td>...</td>\n",
       "      <td>...</td>\n",
       "      <td>...</td>\n",
       "    </tr>\n",
       "    <tr>\n",
       "      <th>6949</th>\n",
       "      <td>0.000000</td>\n",
       "      <td>0.666667</td>\n",
       "      <td>1.0</td>\n",
       "      <td>0.5</td>\n",
       "      <td>0.0</td>\n",
       "      <td>0.227848</td>\n",
       "      <td>0.000977</td>\n",
       "      <td>0.000072</td>\n",
       "      <td>0.006130</td>\n",
       "      <td>0.032845</td>\n",
       "      <td>0.000000</td>\n",
       "      <td>0.0</td>\n",
       "      <td>0.0</td>\n",
       "      <td>0.0</td>\n",
       "      <td>0.0</td>\n",
       "      <td>0.0</td>\n",
       "      <td>0.0</td>\n",
       "      <td>1.0</td>\n",
       "      <td>0.0</td>\n",
       "    </tr>\n",
       "    <tr>\n",
       "      <th>6950</th>\n",
       "      <td>0.666667</td>\n",
       "      <td>0.666667</td>\n",
       "      <td>0.0</td>\n",
       "      <td>0.5</td>\n",
       "      <td>1.0</td>\n",
       "      <td>0.632911</td>\n",
       "      <td>0.048161</td>\n",
       "      <td>0.000000</td>\n",
       "      <td>0.001277</td>\n",
       "      <td>0.041030</td>\n",
       "      <td>0.017735</td>\n",
       "      <td>0.0</td>\n",
       "      <td>0.0</td>\n",
       "      <td>0.0</td>\n",
       "      <td>0.0</td>\n",
       "      <td>0.0</td>\n",
       "      <td>1.0</td>\n",
       "      <td>0.0</td>\n",
       "      <td>0.0</td>\n",
       "    </tr>\n",
       "    <tr>\n",
       "      <th>6951</th>\n",
       "      <td>0.000000</td>\n",
       "      <td>0.333333</td>\n",
       "      <td>0.0</td>\n",
       "      <td>0.0</td>\n",
       "      <td>0.0</td>\n",
       "      <td>0.278481</td>\n",
       "      <td>0.011028</td>\n",
       "      <td>0.000000</td>\n",
       "      <td>0.020262</td>\n",
       "      <td>0.000000</td>\n",
       "      <td>0.001077</td>\n",
       "      <td>0.0</td>\n",
       "      <td>0.0</td>\n",
       "      <td>0.0</td>\n",
       "      <td>0.0</td>\n",
       "      <td>0.0</td>\n",
       "      <td>1.0</td>\n",
       "      <td>0.0</td>\n",
       "      <td>0.0</td>\n",
       "    </tr>\n",
       "    <tr>\n",
       "      <th>6952</th>\n",
       "      <td>0.666667</td>\n",
       "      <td>0.666667</td>\n",
       "      <td>0.0</td>\n",
       "      <td>0.0</td>\n",
       "      <td>0.0</td>\n",
       "      <td>0.430380</td>\n",
       "      <td>0.026454</td>\n",
       "      <td>0.000000</td>\n",
       "      <td>0.069215</td>\n",
       "      <td>0.000000</td>\n",
       "      <td>0.000000</td>\n",
       "      <td>0.0</td>\n",
       "      <td>0.0</td>\n",
       "      <td>0.0</td>\n",
       "      <td>0.0</td>\n",
       "      <td>0.0</td>\n",
       "      <td>1.0</td>\n",
       "      <td>0.0</td>\n",
       "      <td>0.0</td>\n",
       "    </tr>\n",
       "    <tr>\n",
       "      <th>6953</th>\n",
       "      <td>0.333333</td>\n",
       "      <td>0.000000</td>\n",
       "      <td>0.0</td>\n",
       "      <td>0.0</td>\n",
       "      <td>0.0</td>\n",
       "      <td>0.354430</td>\n",
       "      <td>0.000489</td>\n",
       "      <td>0.017639</td>\n",
       "      <td>0.000000</td>\n",
       "      <td>0.000215</td>\n",
       "      <td>0.249741</td>\n",
       "      <td>0.0</td>\n",
       "      <td>0.0</td>\n",
       "      <td>1.0</td>\n",
       "      <td>0.0</td>\n",
       "      <td>0.0</td>\n",
       "      <td>0.0</td>\n",
       "      <td>0.0</td>\n",
       "      <td>0.0</td>\n",
       "    </tr>\n",
       "  </tbody>\n",
       "</table>\n",
       "<p>6954 rows × 19 columns</p>\n",
       "</div>"
      ],
      "text/plain": [
       "      HomePlanetCode  DestinationCode  CryoSleepCode  CabinSideCode  VIPCode  \\\n",
       "0           0.000000         0.666667            0.0            1.0      0.0   \n",
       "1           0.000000         0.666667            0.0            0.0      0.0   \n",
       "2           0.333333         0.000000            0.5            0.5      0.0   \n",
       "3           0.666667         0.666667            0.0            0.0      0.0   \n",
       "4           0.333333         0.000000            0.5            0.0      0.0   \n",
       "...              ...              ...            ...            ...      ...   \n",
       "6949        0.000000         0.666667            1.0            0.5      0.0   \n",
       "6950        0.666667         0.666667            0.0            0.5      1.0   \n",
       "6951        0.000000         0.333333            0.0            0.0      0.0   \n",
       "6952        0.666667         0.666667            0.0            0.0      0.0   \n",
       "6953        0.333333         0.000000            0.0            0.0      0.0   \n",
       "\n",
       "           Age  RoomService  FoodCourt  ShoppingMall       Spa    VRDeck  \\\n",
       "0     0.354430     0.000000   0.001984      0.000000  0.035322  0.000000   \n",
       "1     0.215190     0.000000   0.043105      0.001320  0.000000  0.000000   \n",
       "2     0.354430     0.000000   0.000000      0.000000  0.000000  0.000000   \n",
       "3     0.253165     0.000000   0.000072      0.012302  0.052552  0.000000   \n",
       "4     0.455696     0.000000   0.000000      0.000000  0.000000  0.000000   \n",
       "...        ...          ...        ...           ...       ...       ...   \n",
       "6949  0.227848     0.000977   0.000072      0.006130  0.032845  0.000000   \n",
       "6950  0.632911     0.048161   0.000000      0.001277  0.041030  0.017735   \n",
       "6951  0.278481     0.011028   0.000000      0.020262  0.000000  0.001077   \n",
       "6952  0.430380     0.026454   0.000000      0.069215  0.000000  0.000000   \n",
       "6953  0.354430     0.000489   0.017639      0.000000  0.000215  0.249741   \n",
       "\n",
       "      CabinDeck_A  CabinDeck_B  CabinDeck_C  CabinDeck_D  CabinDeck_E  \\\n",
       "0             0.0          0.0          0.0          0.0          0.0   \n",
       "1             0.0          0.0          0.0          0.0          0.0   \n",
       "2             0.0          0.0          1.0          0.0          0.0   \n",
       "3             0.0          0.0          0.0          0.0          0.0   \n",
       "4             0.0          0.0          1.0          0.0          0.0   \n",
       "...           ...          ...          ...          ...          ...   \n",
       "6949          0.0          0.0          0.0          0.0          0.0   \n",
       "6950          0.0          0.0          0.0          0.0          0.0   \n",
       "6951          0.0          0.0          0.0          0.0          0.0   \n",
       "6952          0.0          0.0          0.0          0.0          0.0   \n",
       "6953          0.0          0.0          1.0          0.0          0.0   \n",
       "\n",
       "      CabinDeck_F  CabinDeck_G  CabinDeck_T  \n",
       "0             0.0          0.0          0.0  \n",
       "1             1.0          0.0          0.0  \n",
       "2             0.0          0.0          0.0  \n",
       "3             1.0          0.0          0.0  \n",
       "4             0.0          0.0          0.0  \n",
       "...           ...          ...          ...  \n",
       "6949          0.0          1.0          0.0  \n",
       "6950          1.0          0.0          0.0  \n",
       "6951          1.0          0.0          0.0  \n",
       "6952          1.0          0.0          0.0  \n",
       "6953          0.0          0.0          0.0  \n",
       "\n",
       "[6954 rows x 19 columns]"
      ]
     },
     "execution_count": 51,
     "metadata": {},
     "output_type": "execute_result"
    }
   ],
   "source": [
    "X_train_scaled"
   ]
  },
  {
   "cell_type": "code",
   "execution_count": 52,
   "id": "d3079182",
   "metadata": {
    "execution": {
     "iopub.execute_input": "2023-03-27T14:41:40.619865Z",
     "iopub.status.busy": "2023-03-27T14:41:40.619441Z",
     "iopub.status.idle": "2023-03-27T14:41:40.628606Z",
     "shell.execute_reply": "2023-03-27T14:41:40.627715Z"
    },
    "papermill": {
     "duration": 0.04073,
     "end_time": "2023-03-27T14:41:40.630796",
     "exception": false,
     "start_time": "2023-03-27T14:41:40.590066",
     "status": "completed"
    },
    "tags": []
   },
   "outputs": [
    {
     "data": {
      "text/plain": [
       "HomePlanetCode     0\n",
       "DestinationCode    0\n",
       "CryoSleepCode      0\n",
       "CabinSideCode      0\n",
       "VIPCode            0\n",
       "Age                0\n",
       "RoomService        0\n",
       "FoodCourt          0\n",
       "ShoppingMall       0\n",
       "Spa                0\n",
       "VRDeck             0\n",
       "CabinDeck_A        0\n",
       "CabinDeck_B        0\n",
       "CabinDeck_C        0\n",
       "CabinDeck_D        0\n",
       "CabinDeck_E        0\n",
       "CabinDeck_F        0\n",
       "CabinDeck_G        0\n",
       "CabinDeck_T        0\n",
       "dtype: int64"
      ]
     },
     "execution_count": 52,
     "metadata": {},
     "output_type": "execute_result"
    }
   ],
   "source": [
    "X_test_scaled.isna().sum()"
   ]
  },
  {
   "cell_type": "code",
   "execution_count": 53,
   "id": "385a38ac",
   "metadata": {
    "execution": {
     "iopub.execute_input": "2023-03-27T14:41:40.689198Z",
     "iopub.status.busy": "2023-03-27T14:41:40.688767Z",
     "iopub.status.idle": "2023-03-27T14:41:47.212251Z",
     "shell.execute_reply": "2023-03-27T14:41:47.210771Z"
    },
    "papermill": {
     "duration": 6.555829,
     "end_time": "2023-03-27T14:41:47.214762",
     "exception": false,
     "start_time": "2023-03-27T14:41:40.658933",
     "status": "completed"
    },
    "tags": []
   },
   "outputs": [
    {
     "name": "stdout",
     "output_type": "stream",
     "text": [
      "MAE: 0.0453\n",
      "R2 Score 0.9547\n",
      "MAE: 0.2179\n",
      "R2 Score 0.7821\n"
     ]
    }
   ],
   "source": [
    "from sklearn.ensemble import RandomForestClassifier\n",
    "model_rf = RandomForestClassifier(n_estimators=500, random_state=42)\n",
    "model_rf.fit(X_train_scaled, y_train)\n",
    "\n",
    "pred_rf_train = model_rf.predict(X_train_scaled)\n",
    "pred_rf_valid = model_rf.predict(X_valid_scaled)\n",
    "\n",
    "print(\"MAE: %.4f\" % metrics.mean_absolute_error(pred_rf_train, y_train))\n",
    "print(\"R2 Score %.4f\" % model_rf.score(X_train_scaled, y_train))\n",
    "\n",
    "print(\"MAE: %.4f\" % metrics.mean_absolute_error(pred_rf_valid, y_valid))\n",
    "print(\"R2 Score %.4f\" % model_rf.score(X_valid_scaled, y_valid))"
   ]
  },
  {
   "cell_type": "code",
   "execution_count": 54,
   "id": "6770fff3",
   "metadata": {
    "execution": {
     "iopub.execute_input": "2023-03-27T14:41:47.275145Z",
     "iopub.status.busy": "2023-03-27T14:41:47.274425Z",
     "iopub.status.idle": "2023-03-27T14:41:47.301601Z",
     "shell.execute_reply": "2023-03-27T14:41:47.299719Z"
    },
    "papermill": {
     "duration": 0.060435,
     "end_time": "2023-03-27T14:41:47.304443",
     "exception": false,
     "start_time": "2023-03-27T14:41:47.244008",
     "status": "completed"
    },
    "tags": []
   },
   "outputs": [
    {
     "name": "stdout",
     "output_type": "stream",
     "text": [
      "              precision    recall  f1-score   support\n",
      "\n",
      "           0       0.97      0.93      0.95      3454\n",
      "           1       0.94      0.98      0.96      3500\n",
      "\n",
      "    accuracy                           0.95      6954\n",
      "   macro avg       0.96      0.95      0.95      6954\n",
      "weighted avg       0.96      0.95      0.95      6954\n",
      "\n",
      "              precision    recall  f1-score   support\n",
      "\n",
      "           0       0.77      0.80      0.78       861\n",
      "           1       0.79      0.77      0.78       878\n",
      "\n",
      "    accuracy                           0.78      1739\n",
      "   macro avg       0.78      0.78      0.78      1739\n",
      "weighted avg       0.78      0.78      0.78      1739\n",
      "\n"
     ]
    }
   ],
   "source": [
    "print(metrics.classification_report(y_train, pred_rf_train))\n",
    "print(metrics.classification_report(y_valid, pred_rf_valid))"
   ]
  },
  {
   "cell_type": "code",
   "execution_count": 55,
   "id": "f0537530",
   "metadata": {
    "execution": {
     "iopub.execute_input": "2023-03-27T14:41:47.363510Z",
     "iopub.status.busy": "2023-03-27T14:41:47.363108Z",
     "iopub.status.idle": "2023-03-27T14:41:47.367536Z",
     "shell.execute_reply": "2023-03-27T14:41:47.366591Z"
    },
    "papermill": {
     "duration": 0.036745,
     "end_time": "2023-03-27T14:41:47.369865",
     "exception": false,
     "start_time": "2023-03-27T14:41:47.333120",
     "status": "completed"
    },
    "tags": []
   },
   "outputs": [],
   "source": [
    "# X_scaled = pd.DataFrame(mm.fit_transform(X), columns = X.columns)\n",
    "# X_scaled"
   ]
  },
  {
   "cell_type": "code",
   "execution_count": 56,
   "id": "4c6ff088",
   "metadata": {
    "execution": {
     "iopub.execute_input": "2023-03-27T14:41:47.428881Z",
     "iopub.status.busy": "2023-03-27T14:41:47.428084Z",
     "iopub.status.idle": "2023-03-27T14:41:47.432407Z",
     "shell.execute_reply": "2023-03-27T14:41:47.431529Z"
    },
    "papermill": {
     "duration": 0.036416,
     "end_time": "2023-03-27T14:41:47.434624",
     "exception": false,
     "start_time": "2023-03-27T14:41:47.398208",
     "status": "completed"
    },
    "tags": []
   },
   "outputs": [],
   "source": [
    "# X_scaled.isna().sum()"
   ]
  },
  {
   "cell_type": "markdown",
   "id": "731c3944",
   "metadata": {
    "papermill": {
     "duration": 0.028169,
     "end_time": "2023-03-27T14:41:47.491429",
     "exception": false,
     "start_time": "2023-03-27T14:41:47.463260",
     "status": "completed"
    },
    "tags": []
   },
   "source": [
    "**XG Boost**"
   ]
  },
  {
   "cell_type": "code",
   "execution_count": 57,
   "id": "19fe8483",
   "metadata": {
    "execution": {
     "iopub.execute_input": "2023-03-27T14:41:47.551284Z",
     "iopub.status.busy": "2023-03-27T14:41:47.550512Z",
     "iopub.status.idle": "2023-03-27T14:41:48.427394Z",
     "shell.execute_reply": "2023-03-27T14:41:48.425792Z"
    },
    "papermill": {
     "duration": 0.910648,
     "end_time": "2023-03-27T14:41:48.430868",
     "exception": false,
     "start_time": "2023-03-27T14:41:47.520220",
     "status": "completed"
    },
    "tags": []
   },
   "outputs": [
    {
     "name": "stdout",
     "output_type": "stream",
     "text": [
      "MAE: 0.0979\n",
      "R2 Score 0.9021\n",
      "MAE: 0.2099\n",
      "R2 Score 0.7901\n"
     ]
    }
   ],
   "source": [
    "import xgboost as xgb\n",
    "xgb_classifier = xgb.XGBClassifier()\n",
    "\n",
    "xgb_classifier.fit(X_train_scaled, y_train)\n",
    "pred_xgb_train = xgb_classifier.predict(X_train_scaled)\n",
    "pred_xgb_valid = xgb_classifier.predict(X_valid_scaled)\n",
    "\n",
    "print(\"MAE: %.4f\" % metrics.mean_absolute_error(pred_xgb_train, y_train))\n",
    "print(\"R2 Score %.4f\" % xgb_classifier.score(X_train_scaled, y_train))\n",
    "\n",
    "print(\"MAE: %.4f\" % metrics.mean_absolute_error(pred_xgb_valid, y_valid))\n",
    "print(\"R2 Score %.4f\" % xgb_classifier.score(X_valid_scaled, y_valid))"
   ]
  },
  {
   "cell_type": "markdown",
   "id": "91b392b7",
   "metadata": {
    "papermill": {
     "duration": 0.028611,
     "end_time": "2023-03-27T14:41:48.488704",
     "exception": false,
     "start_time": "2023-03-27T14:41:48.460093",
     "status": "completed"
    },
    "tags": []
   },
   "source": [
    "Trying with Pipeline and Cross Validation"
   ]
  },
  {
   "cell_type": "code",
   "execution_count": 58,
   "id": "0e2084bb",
   "metadata": {
    "execution": {
     "iopub.execute_input": "2023-03-27T14:41:48.549316Z",
     "iopub.status.busy": "2023-03-27T14:41:48.547868Z",
     "iopub.status.idle": "2023-03-27T14:41:48.554150Z",
     "shell.execute_reply": "2023-03-27T14:41:48.552756Z"
    },
    "papermill": {
     "duration": 0.03926,
     "end_time": "2023-03-27T14:41:48.556750",
     "exception": false,
     "start_time": "2023-03-27T14:41:48.517490",
     "status": "completed"
    },
    "tags": []
   },
   "outputs": [],
   "source": [
    "# from sklearn.pipeline import Pipeline\n",
    "# from sklearn.impute import SimpleImputer\n",
    "\n",
    "# my_pipeline = Pipeline(steps=[('preprocessor', SimpleImputer()),\n",
    "#                               ('model', RandomForestClassifier(n_estimators=50, random_state=42))\n",
    "#                              ])\n",
    "\n",
    "# from sklearn.model_selection import cross_val_score\n",
    "# # Multiply by -1 since sklearn calculates *negative* MAE\n",
    "# scores = -1 * cross_val_score(my_pipeline, X, y, cv=5, scoring='neg_mean_absolute_error')\n",
    "\n",
    "# print(\"MAE scores:\\n\", scores)"
   ]
  },
  {
   "cell_type": "code",
   "execution_count": 59,
   "id": "3fde23f7",
   "metadata": {
    "execution": {
     "iopub.execute_input": "2023-03-27T14:41:48.616627Z",
     "iopub.status.busy": "2023-03-27T14:41:48.615588Z",
     "iopub.status.idle": "2023-03-27T14:41:48.636587Z",
     "shell.execute_reply": "2023-03-27T14:41:48.635620Z"
    },
    "papermill": {
     "duration": 0.053401,
     "end_time": "2023-03-27T14:41:48.638870",
     "exception": false,
     "start_time": "2023-03-27T14:41:48.585469",
     "status": "completed"
    },
    "tags": []
   },
   "outputs": [
    {
     "data": {
      "text/plain": [
       "array([ True, False,  True, ...,  True,  True,  True])"
      ]
     },
     "execution_count": 59,
     "metadata": {},
     "output_type": "execute_result"
    }
   ],
   "source": [
    "# model_rf.fit(X_scaled,y) \n",
    "predictions = xgb_classifier.predict(X_test_scaled)\n",
    "predictions.astype(bool)"
   ]
  },
  {
   "cell_type": "code",
   "execution_count": 60,
   "id": "3f45f4aa",
   "metadata": {
    "execution": {
     "iopub.execute_input": "2023-03-27T14:41:48.698947Z",
     "iopub.status.busy": "2023-03-27T14:41:48.698201Z",
     "iopub.status.idle": "2023-03-27T14:41:48.715757Z",
     "shell.execute_reply": "2023-03-27T14:41:48.713850Z"
    },
    "papermill": {
     "duration": 0.051471,
     "end_time": "2023-03-27T14:41:48.719230",
     "exception": false,
     "start_time": "2023-03-27T14:41:48.667759",
     "status": "completed"
    },
    "tags": []
   },
   "outputs": [
    {
     "name": "stdout",
     "output_type": "stream",
     "text": [
      "Submission saved!\n"
     ]
    }
   ],
   "source": [
    "output = pd.DataFrame({'PassengerId': test_data.PassengerId, 'Transported': predictions.astype(bool)})\n",
    "output.to_csv('submission.csv', index = False)\n",
    "print(\"Submission saved!\")"
   ]
  }
 ],
 "metadata": {
  "kernelspec": {
   "display_name": "Python 3",
   "language": "python",
   "name": "python3"
  },
  "language_info": {
   "codemirror_mode": {
    "name": "ipython",
    "version": 3
   },
   "file_extension": ".py",
   "mimetype": "text/x-python",
   "name": "python",
   "nbconvert_exporter": "python",
   "pygments_lexer": "ipython3",
   "version": "3.7.12"
  },
  "papermill": {
   "default_parameters": {},
   "duration": 32.251165,
   "end_time": "2023-03-27T14:41:49.571446",
   "environment_variables": {},
   "exception": null,
   "input_path": "__notebook__.ipynb",
   "output_path": "__notebook__.ipynb",
   "parameters": {},
   "start_time": "2023-03-27T14:41:17.320281",
   "version": "2.4.0"
  }
 },
 "nbformat": 4,
 "nbformat_minor": 5
}
