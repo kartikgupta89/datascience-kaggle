{
 "cells": [
  {
   "cell_type": "code",
   "execution_count": 1,
   "id": "9c25665c",
   "metadata": {
    "_cell_guid": "b1076dfc-b9ad-4769-8c92-a6c4dae69d19",
    "_uuid": "8f2839f25d086af736a60e9eeb907d3b93b6e0e5",
    "execution": {
     "iopub.execute_input": "2023-03-27T13:38:28.501246Z",
     "iopub.status.busy": "2023-03-27T13:38:28.500750Z",
     "iopub.status.idle": "2023-03-27T13:38:30.048720Z",
     "shell.execute_reply": "2023-03-27T13:38:30.047755Z"
    },
    "papermill": {
     "duration": 1.567296,
     "end_time": "2023-03-27T13:38:30.051766",
     "exception": false,
     "start_time": "2023-03-27T13:38:28.484470",
     "status": "completed"
    },
    "tags": []
   },
   "outputs": [
    {
     "name": "stdout",
     "output_type": "stream",
     "text": [
      "/kaggle/input/spaceship-titanic/sample_submission.csv\n",
      "/kaggle/input/spaceship-titanic/train.csv\n",
      "/kaggle/input/spaceship-titanic/test.csv\n"
     ]
    }
   ],
   "source": [
    "# This Python 3 environment comes with many helpful analytics libraries installed\n",
    "# It is defined by the kaggle/python Docker image: https://github.com/kaggle/docker-python\n",
    "# For example, here's several helpful packages to load\n",
    "\n",
    "import numpy as np # linear algebra\n",
    "import pandas as pd # data processing, CSV file I/O (e.g. pd.read_csv)\n",
    "import matplotlib.pyplot as plt\n",
    "import seaborn as sns\n",
    "\n",
    "from sklearn.preprocessing import LabelEncoder\n",
    "from sklearn import metrics\n",
    "\n",
    "# Input data files are available in the read-only \"../input/\" directory\n",
    "# For example, running this (by clicking run or pressing Shift+Enter) will list all files under the input directory\n",
    "\n",
    "import os\n",
    "for dirname, _, filenames in os.walk('/kaggle/input'):\n",
    "    for filename in filenames:\n",
    "        print(os.path.join(dirname, filename))\n",
    "\n",
    "# You can write up to 20GB to the current directory (/kaggle/working/) that gets preserved as output when you create a version using \"Save & Run All\" \n",
    "# You can also write temporary files to /kaggle/temp/, but they won't be saved outside of the current session"
   ]
  },
  {
   "cell_type": "code",
   "execution_count": 2,
   "id": "50e55546",
   "metadata": {
    "execution": {
     "iopub.execute_input": "2023-03-27T13:38:30.079936Z",
     "iopub.status.busy": "2023-03-27T13:38:30.079192Z",
     "iopub.status.idle": "2023-03-27T13:38:30.188592Z",
     "shell.execute_reply": "2023-03-27T13:38:30.187514Z"
    },
    "papermill": {
     "duration": 0.126871,
     "end_time": "2023-03-27T13:38:30.191663",
     "exception": false,
     "start_time": "2023-03-27T13:38:30.064792",
     "status": "completed"
    },
    "tags": []
   },
   "outputs": [],
   "source": [
    "train_data = pd.read_csv('/kaggle/input/spaceship-titanic/train.csv')\n",
    "test_data = pd.read_csv('/kaggle/input/spaceship-titanic/test.csv')"
   ]
  },
  {
   "cell_type": "code",
   "execution_count": 3,
   "id": "9ba8db6a",
   "metadata": {
    "execution": {
     "iopub.execute_input": "2023-03-27T13:38:30.221067Z",
     "iopub.status.busy": "2023-03-27T13:38:30.220287Z",
     "iopub.status.idle": "2023-03-27T13:38:30.267601Z",
     "shell.execute_reply": "2023-03-27T13:38:30.266197Z"
    },
    "papermill": {
     "duration": 0.065424,
     "end_time": "2023-03-27T13:38:30.270320",
     "exception": false,
     "start_time": "2023-03-27T13:38:30.204896",
     "status": "completed"
    },
    "tags": []
   },
   "outputs": [
    {
     "name": "stdout",
     "output_type": "stream",
     "text": [
      "(8693, 14)\n"
     ]
    },
    {
     "data": {
      "text/html": [
       "<div>\n",
       "<style scoped>\n",
       "    .dataframe tbody tr th:only-of-type {\n",
       "        vertical-align: middle;\n",
       "    }\n",
       "\n",
       "    .dataframe tbody tr th {\n",
       "        vertical-align: top;\n",
       "    }\n",
       "\n",
       "    .dataframe thead th {\n",
       "        text-align: right;\n",
       "    }\n",
       "</style>\n",
       "<table border=\"1\" class=\"dataframe\">\n",
       "  <thead>\n",
       "    <tr style=\"text-align: right;\">\n",
       "      <th></th>\n",
       "      <th>PassengerId</th>\n",
       "      <th>HomePlanet</th>\n",
       "      <th>CryoSleep</th>\n",
       "      <th>Cabin</th>\n",
       "      <th>Destination</th>\n",
       "      <th>Age</th>\n",
       "      <th>VIP</th>\n",
       "      <th>RoomService</th>\n",
       "      <th>FoodCourt</th>\n",
       "      <th>ShoppingMall</th>\n",
       "      <th>Spa</th>\n",
       "      <th>VRDeck</th>\n",
       "      <th>Name</th>\n",
       "      <th>Transported</th>\n",
       "    </tr>\n",
       "  </thead>\n",
       "  <tbody>\n",
       "    <tr>\n",
       "      <th>0</th>\n",
       "      <td>0001_01</td>\n",
       "      <td>Europa</td>\n",
       "      <td>False</td>\n",
       "      <td>B/0/P</td>\n",
       "      <td>TRAPPIST-1e</td>\n",
       "      <td>39.0</td>\n",
       "      <td>False</td>\n",
       "      <td>0.0</td>\n",
       "      <td>0.0</td>\n",
       "      <td>0.0</td>\n",
       "      <td>0.0</td>\n",
       "      <td>0.0</td>\n",
       "      <td>Maham Ofracculy</td>\n",
       "      <td>False</td>\n",
       "    </tr>\n",
       "    <tr>\n",
       "      <th>1</th>\n",
       "      <td>0002_01</td>\n",
       "      <td>Earth</td>\n",
       "      <td>False</td>\n",
       "      <td>F/0/S</td>\n",
       "      <td>TRAPPIST-1e</td>\n",
       "      <td>24.0</td>\n",
       "      <td>False</td>\n",
       "      <td>109.0</td>\n",
       "      <td>9.0</td>\n",
       "      <td>25.0</td>\n",
       "      <td>549.0</td>\n",
       "      <td>44.0</td>\n",
       "      <td>Juanna Vines</td>\n",
       "      <td>True</td>\n",
       "    </tr>\n",
       "    <tr>\n",
       "      <th>2</th>\n",
       "      <td>0003_01</td>\n",
       "      <td>Europa</td>\n",
       "      <td>False</td>\n",
       "      <td>A/0/S</td>\n",
       "      <td>TRAPPIST-1e</td>\n",
       "      <td>58.0</td>\n",
       "      <td>True</td>\n",
       "      <td>43.0</td>\n",
       "      <td>3576.0</td>\n",
       "      <td>0.0</td>\n",
       "      <td>6715.0</td>\n",
       "      <td>49.0</td>\n",
       "      <td>Altark Susent</td>\n",
       "      <td>False</td>\n",
       "    </tr>\n",
       "    <tr>\n",
       "      <th>3</th>\n",
       "      <td>0003_02</td>\n",
       "      <td>Europa</td>\n",
       "      <td>False</td>\n",
       "      <td>A/0/S</td>\n",
       "      <td>TRAPPIST-1e</td>\n",
       "      <td>33.0</td>\n",
       "      <td>False</td>\n",
       "      <td>0.0</td>\n",
       "      <td>1283.0</td>\n",
       "      <td>371.0</td>\n",
       "      <td>3329.0</td>\n",
       "      <td>193.0</td>\n",
       "      <td>Solam Susent</td>\n",
       "      <td>False</td>\n",
       "    </tr>\n",
       "    <tr>\n",
       "      <th>4</th>\n",
       "      <td>0004_01</td>\n",
       "      <td>Earth</td>\n",
       "      <td>False</td>\n",
       "      <td>F/1/S</td>\n",
       "      <td>TRAPPIST-1e</td>\n",
       "      <td>16.0</td>\n",
       "      <td>False</td>\n",
       "      <td>303.0</td>\n",
       "      <td>70.0</td>\n",
       "      <td>151.0</td>\n",
       "      <td>565.0</td>\n",
       "      <td>2.0</td>\n",
       "      <td>Willy Santantines</td>\n",
       "      <td>True</td>\n",
       "    </tr>\n",
       "    <tr>\n",
       "      <th>5</th>\n",
       "      <td>0005_01</td>\n",
       "      <td>Earth</td>\n",
       "      <td>False</td>\n",
       "      <td>F/0/P</td>\n",
       "      <td>PSO J318.5-22</td>\n",
       "      <td>44.0</td>\n",
       "      <td>False</td>\n",
       "      <td>0.0</td>\n",
       "      <td>483.0</td>\n",
       "      <td>0.0</td>\n",
       "      <td>291.0</td>\n",
       "      <td>0.0</td>\n",
       "      <td>Sandie Hinetthews</td>\n",
       "      <td>True</td>\n",
       "    </tr>\n",
       "    <tr>\n",
       "      <th>6</th>\n",
       "      <td>0006_01</td>\n",
       "      <td>Earth</td>\n",
       "      <td>False</td>\n",
       "      <td>F/2/S</td>\n",
       "      <td>TRAPPIST-1e</td>\n",
       "      <td>26.0</td>\n",
       "      <td>False</td>\n",
       "      <td>42.0</td>\n",
       "      <td>1539.0</td>\n",
       "      <td>3.0</td>\n",
       "      <td>0.0</td>\n",
       "      <td>0.0</td>\n",
       "      <td>Billex Jacostaffey</td>\n",
       "      <td>True</td>\n",
       "    </tr>\n",
       "    <tr>\n",
       "      <th>7</th>\n",
       "      <td>0006_02</td>\n",
       "      <td>Earth</td>\n",
       "      <td>True</td>\n",
       "      <td>G/0/S</td>\n",
       "      <td>TRAPPIST-1e</td>\n",
       "      <td>28.0</td>\n",
       "      <td>False</td>\n",
       "      <td>0.0</td>\n",
       "      <td>0.0</td>\n",
       "      <td>0.0</td>\n",
       "      <td>0.0</td>\n",
       "      <td>NaN</td>\n",
       "      <td>Candra Jacostaffey</td>\n",
       "      <td>True</td>\n",
       "    </tr>\n",
       "    <tr>\n",
       "      <th>8</th>\n",
       "      <td>0007_01</td>\n",
       "      <td>Earth</td>\n",
       "      <td>False</td>\n",
       "      <td>F/3/S</td>\n",
       "      <td>TRAPPIST-1e</td>\n",
       "      <td>35.0</td>\n",
       "      <td>False</td>\n",
       "      <td>0.0</td>\n",
       "      <td>785.0</td>\n",
       "      <td>17.0</td>\n",
       "      <td>216.0</td>\n",
       "      <td>0.0</td>\n",
       "      <td>Andona Beston</td>\n",
       "      <td>True</td>\n",
       "    </tr>\n",
       "    <tr>\n",
       "      <th>9</th>\n",
       "      <td>0008_01</td>\n",
       "      <td>Europa</td>\n",
       "      <td>True</td>\n",
       "      <td>B/1/P</td>\n",
       "      <td>55 Cancri e</td>\n",
       "      <td>14.0</td>\n",
       "      <td>False</td>\n",
       "      <td>0.0</td>\n",
       "      <td>0.0</td>\n",
       "      <td>0.0</td>\n",
       "      <td>0.0</td>\n",
       "      <td>0.0</td>\n",
       "      <td>Erraiam Flatic</td>\n",
       "      <td>True</td>\n",
       "    </tr>\n",
       "  </tbody>\n",
       "</table>\n",
       "</div>"
      ],
      "text/plain": [
       "  PassengerId HomePlanet CryoSleep  Cabin    Destination   Age    VIP  \\\n",
       "0     0001_01     Europa     False  B/0/P    TRAPPIST-1e  39.0  False   \n",
       "1     0002_01      Earth     False  F/0/S    TRAPPIST-1e  24.0  False   \n",
       "2     0003_01     Europa     False  A/0/S    TRAPPIST-1e  58.0   True   \n",
       "3     0003_02     Europa     False  A/0/S    TRAPPIST-1e  33.0  False   \n",
       "4     0004_01      Earth     False  F/1/S    TRAPPIST-1e  16.0  False   \n",
       "5     0005_01      Earth     False  F/0/P  PSO J318.5-22  44.0  False   \n",
       "6     0006_01      Earth     False  F/2/S    TRAPPIST-1e  26.0  False   \n",
       "7     0006_02      Earth      True  G/0/S    TRAPPIST-1e  28.0  False   \n",
       "8     0007_01      Earth     False  F/3/S    TRAPPIST-1e  35.0  False   \n",
       "9     0008_01     Europa      True  B/1/P    55 Cancri e  14.0  False   \n",
       "\n",
       "   RoomService  FoodCourt  ShoppingMall     Spa  VRDeck                Name  \\\n",
       "0          0.0        0.0           0.0     0.0     0.0     Maham Ofracculy   \n",
       "1        109.0        9.0          25.0   549.0    44.0        Juanna Vines   \n",
       "2         43.0     3576.0           0.0  6715.0    49.0       Altark Susent   \n",
       "3          0.0     1283.0         371.0  3329.0   193.0        Solam Susent   \n",
       "4        303.0       70.0         151.0   565.0     2.0   Willy Santantines   \n",
       "5          0.0      483.0           0.0   291.0     0.0   Sandie Hinetthews   \n",
       "6         42.0     1539.0           3.0     0.0     0.0  Billex Jacostaffey   \n",
       "7          0.0        0.0           0.0     0.0     NaN  Candra Jacostaffey   \n",
       "8          0.0      785.0          17.0   216.0     0.0       Andona Beston   \n",
       "9          0.0        0.0           0.0     0.0     0.0      Erraiam Flatic   \n",
       "\n",
       "   Transported  \n",
       "0        False  \n",
       "1         True  \n",
       "2        False  \n",
       "3        False  \n",
       "4         True  \n",
       "5         True  \n",
       "6         True  \n",
       "7         True  \n",
       "8         True  \n",
       "9         True  "
      ]
     },
     "execution_count": 3,
     "metadata": {},
     "output_type": "execute_result"
    }
   ],
   "source": [
    "print(train_data.shape)\n",
    "train_data.head(10)"
   ]
  },
  {
   "cell_type": "code",
   "execution_count": 4,
   "id": "6a78950f",
   "metadata": {
    "execution": {
     "iopub.execute_input": "2023-03-27T13:38:30.301212Z",
     "iopub.status.busy": "2023-03-27T13:38:30.300417Z",
     "iopub.status.idle": "2023-03-27T13:38:30.338319Z",
     "shell.execute_reply": "2023-03-27T13:38:30.336723Z"
    },
    "papermill": {
     "duration": 0.055983,
     "end_time": "2023-03-27T13:38:30.341316",
     "exception": false,
     "start_time": "2023-03-27T13:38:30.285333",
     "status": "completed"
    },
    "tags": []
   },
   "outputs": [
    {
     "name": "stdout",
     "output_type": "stream",
     "text": [
      "<class 'pandas.core.frame.DataFrame'>\n",
      "RangeIndex: 8693 entries, 0 to 8692\n",
      "Data columns (total 14 columns):\n",
      " #   Column        Non-Null Count  Dtype  \n",
      "---  ------        --------------  -----  \n",
      " 0   PassengerId   8693 non-null   object \n",
      " 1   HomePlanet    8492 non-null   object \n",
      " 2   CryoSleep     8476 non-null   object \n",
      " 3   Cabin         8494 non-null   object \n",
      " 4   Destination   8511 non-null   object \n",
      " 5   Age           8514 non-null   float64\n",
      " 6   VIP           8490 non-null   object \n",
      " 7   RoomService   8512 non-null   float64\n",
      " 8   FoodCourt     8510 non-null   float64\n",
      " 9   ShoppingMall  8485 non-null   float64\n",
      " 10  Spa           8510 non-null   float64\n",
      " 11  VRDeck        8505 non-null   float64\n",
      " 12  Name          8493 non-null   object \n",
      " 13  Transported   8693 non-null   bool   \n",
      "dtypes: bool(1), float64(6), object(7)\n",
      "memory usage: 891.5+ KB\n"
     ]
    }
   ],
   "source": [
    "train_data.info()"
   ]
  },
  {
   "cell_type": "code",
   "execution_count": 5,
   "id": "7247c53c",
   "metadata": {
    "execution": {
     "iopub.execute_input": "2023-03-27T13:38:30.372382Z",
     "iopub.status.busy": "2023-03-27T13:38:30.370839Z",
     "iopub.status.idle": "2023-03-27T13:38:30.385389Z",
     "shell.execute_reply": "2023-03-27T13:38:30.384058Z"
    },
    "papermill": {
     "duration": 0.033407,
     "end_time": "2023-03-27T13:38:30.388194",
     "exception": false,
     "start_time": "2023-03-27T13:38:30.354787",
     "status": "completed"
    },
    "tags": []
   },
   "outputs": [
    {
     "data": {
      "text/plain": [
       "PassengerId       0\n",
       "HomePlanet      201\n",
       "CryoSleep       217\n",
       "Cabin           199\n",
       "Destination     182\n",
       "Age             179\n",
       "VIP             203\n",
       "RoomService     181\n",
       "FoodCourt       183\n",
       "ShoppingMall    208\n",
       "Spa             183\n",
       "VRDeck          188\n",
       "Name            200\n",
       "Transported       0\n",
       "dtype: int64"
      ]
     },
     "execution_count": 5,
     "metadata": {},
     "output_type": "execute_result"
    }
   ],
   "source": [
    "train_data.isnull().sum()"
   ]
  },
  {
   "cell_type": "code",
   "execution_count": 6,
   "id": "78936e6e",
   "metadata": {
    "execution": {
     "iopub.execute_input": "2023-03-27T13:38:30.418618Z",
     "iopub.status.busy": "2023-03-27T13:38:30.418140Z",
     "iopub.status.idle": "2023-03-27T13:38:30.438094Z",
     "shell.execute_reply": "2023-03-27T13:38:30.436769Z"
    },
    "papermill": {
     "duration": 0.039337,
     "end_time": "2023-03-27T13:38:30.441307",
     "exception": false,
     "start_time": "2023-03-27T13:38:30.401970",
     "status": "completed"
    },
    "tags": []
   },
   "outputs": [],
   "source": [
    "train_data.loc[:,['RoomService','FoodCourt','ShoppingMall','Spa','VRDeck']] = train_data.loc[:,['RoomService','FoodCourt','ShoppingMall','Spa','VRDeck']].fillna(0)\n",
    "test_data.loc[:,['RoomService','FoodCourt','ShoppingMall','Spa','VRDeck']] = test_data.loc[:,['RoomService','FoodCourt','ShoppingMall','Spa','VRDeck']].fillna(0)"
   ]
  },
  {
   "cell_type": "code",
   "execution_count": 7,
   "id": "167a5674",
   "metadata": {
    "execution": {
     "iopub.execute_input": "2023-03-27T13:38:30.471196Z",
     "iopub.status.busy": "2023-03-27T13:38:30.470683Z",
     "iopub.status.idle": "2023-03-27T13:38:30.487070Z",
     "shell.execute_reply": "2023-03-27T13:38:30.485559Z"
    },
    "papermill": {
     "duration": 0.035198,
     "end_time": "2023-03-27T13:38:30.490432",
     "exception": false,
     "start_time": "2023-03-27T13:38:30.455234",
     "status": "completed"
    },
    "tags": []
   },
   "outputs": [
    {
     "data": {
      "text/plain": [
       "PassengerId       0\n",
       "HomePlanet      201\n",
       "CryoSleep       217\n",
       "Cabin           199\n",
       "Destination     182\n",
       "Age             179\n",
       "VIP             203\n",
       "RoomService       0\n",
       "FoodCourt         0\n",
       "ShoppingMall      0\n",
       "Spa               0\n",
       "VRDeck            0\n",
       "Name            200\n",
       "Transported       0\n",
       "dtype: int64"
      ]
     },
     "execution_count": 7,
     "metadata": {},
     "output_type": "execute_result"
    }
   ],
   "source": [
    "train_data.isnull().sum()"
   ]
  },
  {
   "cell_type": "code",
   "execution_count": 8,
   "id": "aced7fd6",
   "metadata": {
    "execution": {
     "iopub.execute_input": "2023-03-27T13:38:30.521765Z",
     "iopub.status.busy": "2023-03-27T13:38:30.521328Z",
     "iopub.status.idle": "2023-03-27T13:38:30.559256Z",
     "shell.execute_reply": "2023-03-27T13:38:30.557788Z"
    },
    "papermill": {
     "duration": 0.057373,
     "end_time": "2023-03-27T13:38:30.562285",
     "exception": false,
     "start_time": "2023-03-27T13:38:30.504912",
     "status": "completed"
    },
    "tags": []
   },
   "outputs": [
    {
     "data": {
      "text/html": [
       "<div>\n",
       "<style scoped>\n",
       "    .dataframe tbody tr th:only-of-type {\n",
       "        vertical-align: middle;\n",
       "    }\n",
       "\n",
       "    .dataframe tbody tr th {\n",
       "        vertical-align: top;\n",
       "    }\n",
       "\n",
       "    .dataframe thead th {\n",
       "        text-align: right;\n",
       "    }\n",
       "</style>\n",
       "<table border=\"1\" class=\"dataframe\">\n",
       "  <thead>\n",
       "    <tr style=\"text-align: right;\">\n",
       "      <th></th>\n",
       "      <th>Age</th>\n",
       "      <th>RoomService</th>\n",
       "      <th>FoodCourt</th>\n",
       "      <th>ShoppingMall</th>\n",
       "      <th>Spa</th>\n",
       "      <th>VRDeck</th>\n",
       "    </tr>\n",
       "  </thead>\n",
       "  <tbody>\n",
       "    <tr>\n",
       "      <th>count</th>\n",
       "      <td>8514.000000</td>\n",
       "      <td>8693.000000</td>\n",
       "      <td>8693.000000</td>\n",
       "      <td>8693.000000</td>\n",
       "      <td>8693.000000</td>\n",
       "      <td>8693.000000</td>\n",
       "    </tr>\n",
       "    <tr>\n",
       "      <th>mean</th>\n",
       "      <td>28.827930</td>\n",
       "      <td>220.009318</td>\n",
       "      <td>448.434027</td>\n",
       "      <td>169.572300</td>\n",
       "      <td>304.588865</td>\n",
       "      <td>298.261820</td>\n",
       "    </tr>\n",
       "    <tr>\n",
       "      <th>std</th>\n",
       "      <td>14.489021</td>\n",
       "      <td>660.519050</td>\n",
       "      <td>1595.790627</td>\n",
       "      <td>598.007164</td>\n",
       "      <td>1125.562559</td>\n",
       "      <td>1134.126417</td>\n",
       "    </tr>\n",
       "    <tr>\n",
       "      <th>min</th>\n",
       "      <td>0.000000</td>\n",
       "      <td>0.000000</td>\n",
       "      <td>0.000000</td>\n",
       "      <td>0.000000</td>\n",
       "      <td>0.000000</td>\n",
       "      <td>0.000000</td>\n",
       "    </tr>\n",
       "    <tr>\n",
       "      <th>25%</th>\n",
       "      <td>19.000000</td>\n",
       "      <td>0.000000</td>\n",
       "      <td>0.000000</td>\n",
       "      <td>0.000000</td>\n",
       "      <td>0.000000</td>\n",
       "      <td>0.000000</td>\n",
       "    </tr>\n",
       "    <tr>\n",
       "      <th>50%</th>\n",
       "      <td>27.000000</td>\n",
       "      <td>0.000000</td>\n",
       "      <td>0.000000</td>\n",
       "      <td>0.000000</td>\n",
       "      <td>0.000000</td>\n",
       "      <td>0.000000</td>\n",
       "    </tr>\n",
       "    <tr>\n",
       "      <th>75%</th>\n",
       "      <td>38.000000</td>\n",
       "      <td>41.000000</td>\n",
       "      <td>61.000000</td>\n",
       "      <td>22.000000</td>\n",
       "      <td>53.000000</td>\n",
       "      <td>40.000000</td>\n",
       "    </tr>\n",
       "    <tr>\n",
       "      <th>max</th>\n",
       "      <td>79.000000</td>\n",
       "      <td>14327.000000</td>\n",
       "      <td>29813.000000</td>\n",
       "      <td>23492.000000</td>\n",
       "      <td>22408.000000</td>\n",
       "      <td>24133.000000</td>\n",
       "    </tr>\n",
       "  </tbody>\n",
       "</table>\n",
       "</div>"
      ],
      "text/plain": [
       "               Age   RoomService     FoodCourt  ShoppingMall           Spa  \\\n",
       "count  8514.000000   8693.000000   8693.000000   8693.000000   8693.000000   \n",
       "mean     28.827930    220.009318    448.434027    169.572300    304.588865   \n",
       "std      14.489021    660.519050   1595.790627    598.007164   1125.562559   \n",
       "min       0.000000      0.000000      0.000000      0.000000      0.000000   \n",
       "25%      19.000000      0.000000      0.000000      0.000000      0.000000   \n",
       "50%      27.000000      0.000000      0.000000      0.000000      0.000000   \n",
       "75%      38.000000     41.000000     61.000000     22.000000     53.000000   \n",
       "max      79.000000  14327.000000  29813.000000  23492.000000  22408.000000   \n",
       "\n",
       "             VRDeck  \n",
       "count   8693.000000  \n",
       "mean     298.261820  \n",
       "std     1134.126417  \n",
       "min        0.000000  \n",
       "25%        0.000000  \n",
       "50%        0.000000  \n",
       "75%       40.000000  \n",
       "max    24133.000000  "
      ]
     },
     "execution_count": 8,
     "metadata": {},
     "output_type": "execute_result"
    }
   ],
   "source": [
    "train_data.describe()"
   ]
  },
  {
   "cell_type": "code",
   "execution_count": 9,
   "id": "e9963148",
   "metadata": {
    "execution": {
     "iopub.execute_input": "2023-03-27T13:38:30.593932Z",
     "iopub.status.busy": "2023-03-27T13:38:30.593138Z",
     "iopub.status.idle": "2023-03-27T13:38:30.624557Z",
     "shell.execute_reply": "2023-03-27T13:38:30.623410Z"
    },
    "papermill": {
     "duration": 0.049843,
     "end_time": "2023-03-27T13:38:30.627241",
     "exception": false,
     "start_time": "2023-03-27T13:38:30.577398",
     "status": "completed"
    },
    "tags": []
   },
   "outputs": [
    {
     "data": {
      "text/html": [
       "<div>\n",
       "<style scoped>\n",
       "    .dataframe tbody tr th:only-of-type {\n",
       "        vertical-align: middle;\n",
       "    }\n",
       "\n",
       "    .dataframe tbody tr th {\n",
       "        vertical-align: top;\n",
       "    }\n",
       "\n",
       "    .dataframe thead th {\n",
       "        text-align: right;\n",
       "    }\n",
       "</style>\n",
       "<table border=\"1\" class=\"dataframe\">\n",
       "  <thead>\n",
       "    <tr style=\"text-align: right;\">\n",
       "      <th></th>\n",
       "      <th>PassengerId</th>\n",
       "      <th>HomePlanet</th>\n",
       "      <th>CryoSleep</th>\n",
       "      <th>Cabin</th>\n",
       "      <th>Destination</th>\n",
       "      <th>Age</th>\n",
       "      <th>VIP</th>\n",
       "      <th>RoomService</th>\n",
       "      <th>FoodCourt</th>\n",
       "      <th>ShoppingMall</th>\n",
       "      <th>Spa</th>\n",
       "      <th>VRDeck</th>\n",
       "      <th>Name</th>\n",
       "      <th>Transported</th>\n",
       "    </tr>\n",
       "  </thead>\n",
       "  <tbody>\n",
       "  </tbody>\n",
       "</table>\n",
       "</div>"
      ],
      "text/plain": [
       "Empty DataFrame\n",
       "Columns: [PassengerId, HomePlanet, CryoSleep, Cabin, Destination, Age, VIP, RoomService, FoodCourt, ShoppingMall, Spa, VRDeck, Name, Transported]\n",
       "Index: []"
      ]
     },
     "execution_count": 9,
     "metadata": {},
     "output_type": "execute_result"
    }
   ],
   "source": [
    "train_data[train_data.duplicated()]"
   ]
  },
  {
   "cell_type": "code",
   "execution_count": 10,
   "id": "9d1afc48",
   "metadata": {
    "execution": {
     "iopub.execute_input": "2023-03-27T13:38:30.658222Z",
     "iopub.status.busy": "2023-03-27T13:38:30.657400Z",
     "iopub.status.idle": "2023-03-27T13:38:31.328097Z",
     "shell.execute_reply": "2023-03-27T13:38:31.326720Z"
    },
    "papermill": {
     "duration": 0.690068,
     "end_time": "2023-03-27T13:38:31.331568",
     "exception": false,
     "start_time": "2023-03-27T13:38:30.641500",
     "status": "completed"
    },
    "tags": []
   },
   "outputs": [
    {
     "data": {
      "text/plain": [
       "<AxesSubplot:>"
      ]
     },
     "execution_count": 10,
     "metadata": {},
     "output_type": "execute_result"
    },
    {
     "data": {
      "image/png": "[encoded data removed]",
      "text/plain": [
       "<Figure size 640x480 with 2 Axes>"
      ]
     },
     "metadata": {},
     "output_type": "display_data"
    }
   ],
   "source": [
    "# plt.figure(figsize=(12,12))\n",
    "sns.heatmap(data=train_data.corr(), annot=True)"
   ]
  },
  {
   "cell_type": "code",
   "execution_count": 11,
   "id": "07cf1e77",
   "metadata": {
    "execution": {
     "iopub.execute_input": "2023-03-27T13:38:31.365484Z",
     "iopub.status.busy": "2023-03-27T13:38:31.364183Z",
     "iopub.status.idle": "2023-03-27T13:38:31.396776Z",
     "shell.execute_reply": "2023-03-27T13:38:31.395365Z"
    },
    "papermill": {
     "duration": 0.052298,
     "end_time": "2023-03-27T13:38:31.399545",
     "exception": false,
     "start_time": "2023-03-27T13:38:31.347247",
     "status": "completed"
    },
    "tags": []
   },
   "outputs": [
    {
     "data": {
      "text/html": [
       "<div>\n",
       "<style scoped>\n",
       "    .dataframe tbody tr th:only-of-type {\n",
       "        vertical-align: middle;\n",
       "    }\n",
       "\n",
       "    .dataframe tbody tr th {\n",
       "        vertical-align: top;\n",
       "    }\n",
       "\n",
       "    .dataframe thead th {\n",
       "        text-align: right;\n",
       "    }\n",
       "</style>\n",
       "<table border=\"1\" class=\"dataframe\">\n",
       "  <thead>\n",
       "    <tr style=\"text-align: right;\">\n",
       "      <th></th>\n",
       "      <th>PassengerId</th>\n",
       "      <th>HomePlanet</th>\n",
       "      <th>CryoSleep</th>\n",
       "      <th>Cabin</th>\n",
       "      <th>Destination</th>\n",
       "      <th>Age</th>\n",
       "      <th>VIP</th>\n",
       "      <th>RoomService</th>\n",
       "      <th>FoodCourt</th>\n",
       "      <th>ShoppingMall</th>\n",
       "      <th>Spa</th>\n",
       "      <th>VRDeck</th>\n",
       "      <th>Name</th>\n",
       "      <th>Transported</th>\n",
       "    </tr>\n",
       "  </thead>\n",
       "  <tbody>\n",
       "    <tr>\n",
       "      <th>50</th>\n",
       "      <td>0052_01</td>\n",
       "      <td>Earth</td>\n",
       "      <td>False</td>\n",
       "      <td>G/6/S</td>\n",
       "      <td>TRAPPIST-1e</td>\n",
       "      <td>NaN</td>\n",
       "      <td>False</td>\n",
       "      <td>4.0</td>\n",
       "      <td>0.0</td>\n",
       "      <td>2.0</td>\n",
       "      <td>4683.0</td>\n",
       "      <td>0.0</td>\n",
       "      <td>Elaney Hubbarton</td>\n",
       "      <td>False</td>\n",
       "    </tr>\n",
       "    <tr>\n",
       "      <th>64</th>\n",
       "      <td>0068_01</td>\n",
       "      <td>Mars</td>\n",
       "      <td>False</td>\n",
       "      <td>E/4/S</td>\n",
       "      <td>TRAPPIST-1e</td>\n",
       "      <td>NaN</td>\n",
       "      <td>False</td>\n",
       "      <td>793.0</td>\n",
       "      <td>0.0</td>\n",
       "      <td>2.0</td>\n",
       "      <td>253.0</td>\n",
       "      <td>0.0</td>\n",
       "      <td>Cinst Binie</td>\n",
       "      <td>False</td>\n",
       "    </tr>\n",
       "    <tr>\n",
       "      <th>137</th>\n",
       "      <td>0149_01</td>\n",
       "      <td>Earth</td>\n",
       "      <td>True</td>\n",
       "      <td>G/27/S</td>\n",
       "      <td>55 Cancri e</td>\n",
       "      <td>NaN</td>\n",
       "      <td>False</td>\n",
       "      <td>0.0</td>\n",
       "      <td>0.0</td>\n",
       "      <td>0.0</td>\n",
       "      <td>0.0</td>\n",
       "      <td>0.0</td>\n",
       "      <td>Billya Hubbarrison</td>\n",
       "      <td>True</td>\n",
       "    </tr>\n",
       "    <tr>\n",
       "      <th>181</th>\n",
       "      <td>0202_02</td>\n",
       "      <td>Europa</td>\n",
       "      <td>False</td>\n",
       "      <td>A/2/P</td>\n",
       "      <td>55 Cancri e</td>\n",
       "      <td>NaN</td>\n",
       "      <td>False</td>\n",
       "      <td>0.0</td>\n",
       "      <td>2433.0</td>\n",
       "      <td>0.0</td>\n",
       "      <td>878.0</td>\n",
       "      <td>443.0</td>\n",
       "      <td>Vegas Embleng</td>\n",
       "      <td>True</td>\n",
       "    </tr>\n",
       "    <tr>\n",
       "      <th>184</th>\n",
       "      <td>0206_01</td>\n",
       "      <td>Europa</td>\n",
       "      <td>False</td>\n",
       "      <td>C/9/S</td>\n",
       "      <td>55 Cancri e</td>\n",
       "      <td>NaN</td>\n",
       "      <td>False</td>\n",
       "      <td>2.0</td>\n",
       "      <td>1720.0</td>\n",
       "      <td>12.0</td>\n",
       "      <td>1125.0</td>\n",
       "      <td>122.0</td>\n",
       "      <td>Nuson Brugashed</td>\n",
       "      <td>True</td>\n",
       "    </tr>\n",
       "    <tr>\n",
       "      <th>...</th>\n",
       "      <td>...</td>\n",
       "      <td>...</td>\n",
       "      <td>...</td>\n",
       "      <td>...</td>\n",
       "      <td>...</td>\n",
       "      <td>...</td>\n",
       "      <td>...</td>\n",
       "      <td>...</td>\n",
       "      <td>...</td>\n",
       "      <td>...</td>\n",
       "      <td>...</td>\n",
       "      <td>...</td>\n",
       "      <td>...</td>\n",
       "      <td>...</td>\n",
       "    </tr>\n",
       "    <tr>\n",
       "      <th>8274</th>\n",
       "      <td>8835_01</td>\n",
       "      <td>Earth</td>\n",
       "      <td>True</td>\n",
       "      <td>G/1425/S</td>\n",
       "      <td>TRAPPIST-1e</td>\n",
       "      <td>NaN</td>\n",
       "      <td>False</td>\n",
       "      <td>0.0</td>\n",
       "      <td>0.0</td>\n",
       "      <td>0.0</td>\n",
       "      <td>0.0</td>\n",
       "      <td>0.0</td>\n",
       "      <td>Shalle Bartines</td>\n",
       "      <td>False</td>\n",
       "    </tr>\n",
       "    <tr>\n",
       "      <th>8301</th>\n",
       "      <td>8862_03</td>\n",
       "      <td>Europa</td>\n",
       "      <td>True</td>\n",
       "      <td>C/329/S</td>\n",
       "      <td>TRAPPIST-1e</td>\n",
       "      <td>NaN</td>\n",
       "      <td>False</td>\n",
       "      <td>0.0</td>\n",
       "      <td>0.0</td>\n",
       "      <td>0.0</td>\n",
       "      <td>0.0</td>\n",
       "      <td>0.0</td>\n",
       "      <td>Alchib Myling</td>\n",
       "      <td>True</td>\n",
       "    </tr>\n",
       "    <tr>\n",
       "      <th>8374</th>\n",
       "      <td>8956_04</td>\n",
       "      <td>Earth</td>\n",
       "      <td>False</td>\n",
       "      <td>G/1453/P</td>\n",
       "      <td>TRAPPIST-1e</td>\n",
       "      <td>NaN</td>\n",
       "      <td>False</td>\n",
       "      <td>194.0</td>\n",
       "      <td>1.0</td>\n",
       "      <td>10.0</td>\n",
       "      <td>629.0</td>\n",
       "      <td>0.0</td>\n",
       "      <td>Krisa Bonnondry</td>\n",
       "      <td>False</td>\n",
       "    </tr>\n",
       "    <tr>\n",
       "      <th>8407</th>\n",
       "      <td>8988_01</td>\n",
       "      <td>Earth</td>\n",
       "      <td>True</td>\n",
       "      <td>G/1448/S</td>\n",
       "      <td>TRAPPIST-1e</td>\n",
       "      <td>NaN</td>\n",
       "      <td>False</td>\n",
       "      <td>0.0</td>\n",
       "      <td>0.0</td>\n",
       "      <td>0.0</td>\n",
       "      <td>0.0</td>\n",
       "      <td>0.0</td>\n",
       "      <td>Maen Fowlesterez</td>\n",
       "      <td>True</td>\n",
       "    </tr>\n",
       "    <tr>\n",
       "      <th>8557</th>\n",
       "      <td>9136_01</td>\n",
       "      <td>Earth</td>\n",
       "      <td>False</td>\n",
       "      <td>G/1471/S</td>\n",
       "      <td>TRAPPIST-1e</td>\n",
       "      <td>NaN</td>\n",
       "      <td>False</td>\n",
       "      <td>6.0</td>\n",
       "      <td>0.0</td>\n",
       "      <td>0.0</td>\n",
       "      <td>800.0</td>\n",
       "      <td>3.0</td>\n",
       "      <td>Sall Hestes</td>\n",
       "      <td>False</td>\n",
       "    </tr>\n",
       "  </tbody>\n",
       "</table>\n",
       "<p>179 rows × 14 columns</p>\n",
       "</div>"
      ],
      "text/plain": [
       "     PassengerId HomePlanet CryoSleep     Cabin  Destination  Age    VIP  \\\n",
       "50       0052_01      Earth     False     G/6/S  TRAPPIST-1e  NaN  False   \n",
       "64       0068_01       Mars     False     E/4/S  TRAPPIST-1e  NaN  False   \n",
       "137      0149_01      Earth      True    G/27/S  55 Cancri e  NaN  False   \n",
       "181      0202_02     Europa     False     A/2/P  55 Cancri e  NaN  False   \n",
       "184      0206_01     Europa     False     C/9/S  55 Cancri e  NaN  False   \n",
       "...          ...        ...       ...       ...          ...  ...    ...   \n",
       "8274     8835_01      Earth      True  G/1425/S  TRAPPIST-1e  NaN  False   \n",
       "8301     8862_03     Europa      True   C/329/S  TRAPPIST-1e  NaN  False   \n",
       "8374     8956_04      Earth     False  G/1453/P  TRAPPIST-1e  NaN  False   \n",
       "8407     8988_01      Earth      True  G/1448/S  TRAPPIST-1e  NaN  False   \n",
       "8557     9136_01      Earth     False  G/1471/S  TRAPPIST-1e  NaN  False   \n",
       "\n",
       "      RoomService  FoodCourt  ShoppingMall     Spa  VRDeck  \\\n",
       "50            4.0        0.0           2.0  4683.0     0.0   \n",
       "64          793.0        0.0           2.0   253.0     0.0   \n",
       "137           0.0        0.0           0.0     0.0     0.0   \n",
       "181           0.0     2433.0           0.0   878.0   443.0   \n",
       "184           2.0     1720.0          12.0  1125.0   122.0   \n",
       "...           ...        ...           ...     ...     ...   \n",
       "8274          0.0        0.0           0.0     0.0     0.0   \n",
       "8301          0.0        0.0           0.0     0.0     0.0   \n",
       "8374        194.0        1.0          10.0   629.0     0.0   \n",
       "8407          0.0        0.0           0.0     0.0     0.0   \n",
       "8557          6.0        0.0           0.0   800.0     3.0   \n",
       "\n",
       "                    Name  Transported  \n",
       "50      Elaney Hubbarton        False  \n",
       "64           Cinst Binie        False  \n",
       "137   Billya Hubbarrison         True  \n",
       "181        Vegas Embleng         True  \n",
       "184      Nuson Brugashed         True  \n",
       "...                  ...          ...  \n",
       "8274     Shalle Bartines        False  \n",
       "8301       Alchib Myling         True  \n",
       "8374     Krisa Bonnondry        False  \n",
       "8407    Maen Fowlesterez         True  \n",
       "8557         Sall Hestes        False  \n",
       "\n",
       "[179 rows x 14 columns]"
      ]
     },
     "execution_count": 11,
     "metadata": {},
     "output_type": "execute_result"
    }
   ],
   "source": [
    "train_data[train_data['Age'].isna()]"
   ]
  },
  {
   "cell_type": "code",
   "execution_count": 12,
   "id": "612a6362",
   "metadata": {
    "execution": {
     "iopub.execute_input": "2023-03-27T13:38:31.440659Z",
     "iopub.status.busy": "2023-03-27T13:38:31.439484Z",
     "iopub.status.idle": "2023-03-27T13:38:31.450089Z",
     "shell.execute_reply": "2023-03-27T13:38:31.448769Z"
    },
    "papermill": {
     "duration": 0.036427,
     "end_time": "2023-03-27T13:38:31.452678",
     "exception": false,
     "start_time": "2023-03-27T13:38:31.416251",
     "status": "completed"
    },
    "tags": []
   },
   "outputs": [
    {
     "data": {
      "text/plain": [
       "Earth     4602\n",
       "Europa    2131\n",
       "Mars      1759\n",
       "Name: HomePlanet, dtype: int64"
      ]
     },
     "execution_count": 12,
     "metadata": {},
     "output_type": "execute_result"
    }
   ],
   "source": [
    "train_data['HomePlanet'].value_counts()"
   ]
  },
  {
   "cell_type": "code",
   "execution_count": 13,
   "id": "2256aa36",
   "metadata": {
    "execution": {
     "iopub.execute_input": "2023-03-27T13:38:31.487276Z",
     "iopub.status.busy": "2023-03-27T13:38:31.486273Z",
     "iopub.status.idle": "2023-03-27T13:38:31.674517Z",
     "shell.execute_reply": "2023-03-27T13:38:31.673135Z"
    },
    "papermill": {
     "duration": 0.208331,
     "end_time": "2023-03-27T13:38:31.677102",
     "exception": false,
     "start_time": "2023-03-27T13:38:31.468771",
     "status": "completed"
    },
    "tags": []
   },
   "outputs": [
    {
     "data": {
      "text/plain": [
       "<BarContainer object of 3 artists>"
      ]
     },
     "execution_count": 13,
     "metadata": {},
     "output_type": "execute_result"
    },
    {
     "data": {
      "image/png": "[encoded data removed]",
      "text/plain": [
       "<Figure size 300x300 with 1 Axes>"
      ]
     },
     "metadata": {},
     "output_type": "display_data"
    }
   ],
   "source": [
    "plt.figure(figsize=(3,3))\n",
    "# fig, ax = plt.subplots(figsize=(3,4))\n",
    "plt.bar(train_data['HomePlanet'].value_counts().index, train_data['HomePlanet'].value_counts().values)"
   ]
  },
  {
   "cell_type": "code",
   "execution_count": 14,
   "id": "f1f19019",
   "metadata": {
    "execution": {
     "iopub.execute_input": "2023-03-27T13:38:31.714731Z",
     "iopub.status.busy": "2023-03-27T13:38:31.713362Z",
     "iopub.status.idle": "2023-03-27T13:38:31.975679Z",
     "shell.execute_reply": "2023-03-27T13:38:31.974236Z"
    },
    "papermill": {
     "duration": 0.284338,
     "end_time": "2023-03-27T13:38:31.978712",
     "exception": false,
     "start_time": "2023-03-27T13:38:31.694374",
     "status": "completed"
    },
    "tags": []
   },
   "outputs": [
    {
     "data": {
      "text/plain": [
       "<AxesSubplot:xlabel='Destination', ylabel='Count'>"
      ]
     },
     "execution_count": 14,
     "metadata": {},
     "output_type": "execute_result"
    },
    {
     "data": {
      "image/png": "[encoded data removed]",
      "text/plain": [
       "<Figure size 640x480 with 1 Axes>"
      ]
     },
     "metadata": {},
     "output_type": "display_data"
    }
   ],
   "source": [
    "# sns.set_style(rc=)\n",
    "sns.histplot(data=train_data, x='Destination')\n",
    "# plt.show()"
   ]
  },
  {
   "cell_type": "code",
   "execution_count": 15,
   "id": "be29a15a",
   "metadata": {
    "execution": {
     "iopub.execute_input": "2023-03-27T13:38:32.017102Z",
     "iopub.status.busy": "2023-03-27T13:38:32.015786Z",
     "iopub.status.idle": "2023-03-27T13:38:32.034707Z",
     "shell.execute_reply": "2023-03-27T13:38:32.033113Z"
    },
    "papermill": {
     "duration": 0.040861,
     "end_time": "2023-03-27T13:38:32.037623",
     "exception": false,
     "start_time": "2023-03-27T13:38:31.996762",
     "status": "completed"
    },
    "tags": []
   },
   "outputs": [],
   "source": [
    "le = LabelEncoder()\n",
    "train_data['HomePlanetCode'] = le.fit_transform(train_data['HomePlanet'])\n",
    "train_data['DestinationCode'] = le.fit_transform(train_data['Destination'])\n",
    "test_data['HomePlanetCode'] = le.fit_transform(test_data['HomePlanet'])\n",
    "test_data['DestinationCode'] = le.fit_transform(test_data['Destination'])"
   ]
  },
  {
   "cell_type": "code",
   "execution_count": 16,
   "id": "4bff4dfa",
   "metadata": {
    "execution": {
     "iopub.execute_input": "2023-03-27T13:38:32.073445Z",
     "iopub.status.busy": "2023-03-27T13:38:32.072959Z",
     "iopub.status.idle": "2023-03-27T13:38:32.083335Z",
     "shell.execute_reply": "2023-03-27T13:38:32.081859Z"
    },
    "papermill": {
     "duration": 0.031572,
     "end_time": "2023-03-27T13:38:32.086142",
     "exception": false,
     "start_time": "2023-03-27T13:38:32.054570",
     "status": "completed"
    },
    "tags": []
   },
   "outputs": [
    {
     "data": {
      "text/plain": [
       "0    4602\n",
       "1    2131\n",
       "2    1759\n",
       "3     201\n",
       "Name: HomePlanetCode, dtype: int64"
      ]
     },
     "execution_count": 16,
     "metadata": {},
     "output_type": "execute_result"
    }
   ],
   "source": [
    "train_data['HomePlanetCode'].value_counts()"
   ]
  },
  {
   "cell_type": "code",
   "execution_count": 17,
   "id": "6955c301",
   "metadata": {
    "execution": {
     "iopub.execute_input": "2023-03-27T13:38:32.123886Z",
     "iopub.status.busy": "2023-03-27T13:38:32.123395Z",
     "iopub.status.idle": "2023-03-27T13:38:32.136280Z",
     "shell.execute_reply": "2023-03-27T13:38:32.134523Z"
    },
    "papermill": {
     "duration": 0.035953,
     "end_time": "2023-03-27T13:38:32.139387",
     "exception": false,
     "start_time": "2023-03-27T13:38:32.103434",
     "status": "completed"
    },
    "tags": []
   },
   "outputs": [
    {
     "data": {
      "text/plain": [
       "2    5915\n",
       "0    1800\n",
       "1     796\n",
       "3     182\n",
       "Name: DestinationCode, dtype: int64"
      ]
     },
     "execution_count": 17,
     "metadata": {},
     "output_type": "execute_result"
    }
   ],
   "source": [
    "train_data['DestinationCode'].value_counts()"
   ]
  },
  {
   "cell_type": "code",
   "execution_count": 18,
   "id": "b4037562",
   "metadata": {
    "execution": {
     "iopub.execute_input": "2023-03-27T13:38:32.178984Z",
     "iopub.status.busy": "2023-03-27T13:38:32.178462Z",
     "iopub.status.idle": "2023-03-27T13:38:32.201777Z",
     "shell.execute_reply": "2023-03-27T13:38:32.200262Z"
    },
    "papermill": {
     "duration": 0.046061,
     "end_time": "2023-03-27T13:38:32.204482",
     "exception": false,
     "start_time": "2023-03-27T13:38:32.158421",
     "status": "completed"
    },
    "tags": []
   },
   "outputs": [
    {
     "data": {
      "text/html": [
       "<div>\n",
       "<style scoped>\n",
       "    .dataframe tbody tr th:only-of-type {\n",
       "        vertical-align: middle;\n",
       "    }\n",
       "\n",
       "    .dataframe tbody tr th {\n",
       "        vertical-align: top;\n",
       "    }\n",
       "\n",
       "    .dataframe thead th {\n",
       "        text-align: right;\n",
       "    }\n",
       "</style>\n",
       "<table border=\"1\" class=\"dataframe\">\n",
       "  <thead>\n",
       "    <tr style=\"text-align: right;\">\n",
       "      <th></th>\n",
       "      <th>HomePlanet</th>\n",
       "      <th>Destination</th>\n",
       "      <th>Transported</th>\n",
       "    </tr>\n",
       "  </thead>\n",
       "  <tbody>\n",
       "    <tr>\n",
       "      <th>59</th>\n",
       "      <td>NaN</td>\n",
       "      <td>TRAPPIST-1e</td>\n",
       "      <td>True</td>\n",
       "    </tr>\n",
       "    <tr>\n",
       "      <th>113</th>\n",
       "      <td>NaN</td>\n",
       "      <td>TRAPPIST-1e</td>\n",
       "      <td>False</td>\n",
       "    </tr>\n",
       "    <tr>\n",
       "      <th>186</th>\n",
       "      <td>NaN</td>\n",
       "      <td>55 Cancri e</td>\n",
       "      <td>True</td>\n",
       "    </tr>\n",
       "    <tr>\n",
       "      <th>225</th>\n",
       "      <td>NaN</td>\n",
       "      <td>TRAPPIST-1e</td>\n",
       "      <td>False</td>\n",
       "    </tr>\n",
       "    <tr>\n",
       "      <th>234</th>\n",
       "      <td>NaN</td>\n",
       "      <td>55 Cancri e</td>\n",
       "      <td>True</td>\n",
       "    </tr>\n",
       "    <tr>\n",
       "      <th>...</th>\n",
       "      <td>...</td>\n",
       "      <td>...</td>\n",
       "      <td>...</td>\n",
       "    </tr>\n",
       "    <tr>\n",
       "      <th>8515</th>\n",
       "      <td>NaN</td>\n",
       "      <td>TRAPPIST-1e</td>\n",
       "      <td>False</td>\n",
       "    </tr>\n",
       "    <tr>\n",
       "      <th>8613</th>\n",
       "      <td>NaN</td>\n",
       "      <td>55 Cancri e</td>\n",
       "      <td>False</td>\n",
       "    </tr>\n",
       "    <tr>\n",
       "      <th>8666</th>\n",
       "      <td>NaN</td>\n",
       "      <td>55 Cancri e</td>\n",
       "      <td>True</td>\n",
       "    </tr>\n",
       "    <tr>\n",
       "      <th>8674</th>\n",
       "      <td>NaN</td>\n",
       "      <td>TRAPPIST-1e</td>\n",
       "      <td>False</td>\n",
       "    </tr>\n",
       "    <tr>\n",
       "      <th>8684</th>\n",
       "      <td>NaN</td>\n",
       "      <td>TRAPPIST-1e</td>\n",
       "      <td>True</td>\n",
       "    </tr>\n",
       "  </tbody>\n",
       "</table>\n",
       "<p>201 rows × 3 columns</p>\n",
       "</div>"
      ],
      "text/plain": [
       "     HomePlanet  Destination  Transported\n",
       "59          NaN  TRAPPIST-1e         True\n",
       "113         NaN  TRAPPIST-1e        False\n",
       "186         NaN  55 Cancri e         True\n",
       "225         NaN  TRAPPIST-1e        False\n",
       "234         NaN  55 Cancri e         True\n",
       "...         ...          ...          ...\n",
       "8515        NaN  TRAPPIST-1e        False\n",
       "8613        NaN  55 Cancri e        False\n",
       "8666        NaN  55 Cancri e         True\n",
       "8674        NaN  TRAPPIST-1e        False\n",
       "8684        NaN  TRAPPIST-1e         True\n",
       "\n",
       "[201 rows x 3 columns]"
      ]
     },
     "execution_count": 18,
     "metadata": {},
     "output_type": "execute_result"
    }
   ],
   "source": [
    "train_data[train_data['HomePlanet'].isna()].loc[:,['HomePlanet','Destination','Transported']]"
   ]
  },
  {
   "cell_type": "code",
   "execution_count": 19,
   "id": "a44a2fc8",
   "metadata": {
    "execution": {
     "iopub.execute_input": "2023-03-27T13:38:32.243049Z",
     "iopub.status.busy": "2023-03-27T13:38:32.242583Z",
     "iopub.status.idle": "2023-03-27T13:38:32.262922Z",
     "shell.execute_reply": "2023-03-27T13:38:32.261260Z"
    },
    "papermill": {
     "duration": 0.043299,
     "end_time": "2023-03-27T13:38:32.266386",
     "exception": false,
     "start_time": "2023-03-27T13:38:32.223087",
     "status": "completed"
    },
    "tags": []
   },
   "outputs": [
    {
     "data": {
      "text/html": [
       "<div>\n",
       "<style scoped>\n",
       "    .dataframe tbody tr th:only-of-type {\n",
       "        vertical-align: middle;\n",
       "    }\n",
       "\n",
       "    .dataframe tbody tr th {\n",
       "        vertical-align: top;\n",
       "    }\n",
       "\n",
       "    .dataframe thead th {\n",
       "        text-align: right;\n",
       "    }\n",
       "</style>\n",
       "<table border=\"1\" class=\"dataframe\">\n",
       "  <thead>\n",
       "    <tr style=\"text-align: right;\">\n",
       "      <th></th>\n",
       "      <th>HomePlanet</th>\n",
       "      <th>Destination</th>\n",
       "      <th>Transported</th>\n",
       "    </tr>\n",
       "  </thead>\n",
       "  <tbody>\n",
       "    <tr>\n",
       "      <th>47</th>\n",
       "      <td>Mars</td>\n",
       "      <td>NaN</td>\n",
       "      <td>True</td>\n",
       "    </tr>\n",
       "    <tr>\n",
       "      <th>128</th>\n",
       "      <td>Earth</td>\n",
       "      <td>NaN</td>\n",
       "      <td>False</td>\n",
       "    </tr>\n",
       "    <tr>\n",
       "      <th>139</th>\n",
       "      <td>Earth</td>\n",
       "      <td>NaN</td>\n",
       "      <td>False</td>\n",
       "    </tr>\n",
       "    <tr>\n",
       "      <th>347</th>\n",
       "      <td>NaN</td>\n",
       "      <td>NaN</td>\n",
       "      <td>False</td>\n",
       "    </tr>\n",
       "    <tr>\n",
       "      <th>430</th>\n",
       "      <td>Earth</td>\n",
       "      <td>NaN</td>\n",
       "      <td>False</td>\n",
       "    </tr>\n",
       "    <tr>\n",
       "      <th>...</th>\n",
       "      <td>...</td>\n",
       "      <td>...</td>\n",
       "      <td>...</td>\n",
       "    </tr>\n",
       "    <tr>\n",
       "      <th>8372</th>\n",
       "      <td>Earth</td>\n",
       "      <td>NaN</td>\n",
       "      <td>True</td>\n",
       "    </tr>\n",
       "    <tr>\n",
       "      <th>8551</th>\n",
       "      <td>Mars</td>\n",
       "      <td>NaN</td>\n",
       "      <td>True</td>\n",
       "    </tr>\n",
       "    <tr>\n",
       "      <th>8616</th>\n",
       "      <td>Mars</td>\n",
       "      <td>NaN</td>\n",
       "      <td>True</td>\n",
       "    </tr>\n",
       "    <tr>\n",
       "      <th>8621</th>\n",
       "      <td>Europa</td>\n",
       "      <td>NaN</td>\n",
       "      <td>False</td>\n",
       "    </tr>\n",
       "    <tr>\n",
       "      <th>8646</th>\n",
       "      <td>Earth</td>\n",
       "      <td>NaN</td>\n",
       "      <td>False</td>\n",
       "    </tr>\n",
       "  </tbody>\n",
       "</table>\n",
       "<p>182 rows × 3 columns</p>\n",
       "</div>"
      ],
      "text/plain": [
       "     HomePlanet Destination  Transported\n",
       "47         Mars         NaN         True\n",
       "128       Earth         NaN        False\n",
       "139       Earth         NaN        False\n",
       "347         NaN         NaN        False\n",
       "430       Earth         NaN        False\n",
       "...         ...         ...          ...\n",
       "8372      Earth         NaN         True\n",
       "8551       Mars         NaN         True\n",
       "8616       Mars         NaN         True\n",
       "8621     Europa         NaN        False\n",
       "8646      Earth         NaN        False\n",
       "\n",
       "[182 rows x 3 columns]"
      ]
     },
     "execution_count": 19,
     "metadata": {},
     "output_type": "execute_result"
    }
   ],
   "source": [
    "train_data[train_data['Destination'].isna()].loc[:,['HomePlanet','Destination','Transported']]"
   ]
  },
  {
   "cell_type": "code",
   "execution_count": 20,
   "id": "8728db2f",
   "metadata": {
    "execution": {
     "iopub.execute_input": "2023-03-27T13:38:32.304234Z",
     "iopub.status.busy": "2023-03-27T13:38:32.303760Z",
     "iopub.status.idle": "2023-03-27T13:38:32.315472Z",
     "shell.execute_reply": "2023-03-27T13:38:32.313917Z"
    },
    "papermill": {
     "duration": 0.033954,
     "end_time": "2023-03-27T13:38:32.318298",
     "exception": false,
     "start_time": "2023-03-27T13:38:32.284344",
     "status": "completed"
    },
    "tags": []
   },
   "outputs": [],
   "source": [
    "train_data['CryoSleepCode'] = le.fit_transform(train_data['CryoSleep'])\n",
    "test_data['CryoSleepCode'] = le.fit_transform(test_data['CryoSleep'])"
   ]
  },
  {
   "cell_type": "code",
   "execution_count": 21,
   "id": "7ad7fde4",
   "metadata": {
    "execution": {
     "iopub.execute_input": "2023-03-27T13:38:32.357689Z",
     "iopub.status.busy": "2023-03-27T13:38:32.357269Z",
     "iopub.status.idle": "2023-03-27T13:38:32.383708Z",
     "shell.execute_reply": "2023-03-27T13:38:32.382287Z"
    },
    "papermill": {
     "duration": 0.050051,
     "end_time": "2023-03-27T13:38:32.386375",
     "exception": false,
     "start_time": "2023-03-27T13:38:32.336324",
     "status": "completed"
    },
    "tags": []
   },
   "outputs": [
    {
     "data": {
      "text/html": [
       "<div>\n",
       "<style scoped>\n",
       "    .dataframe tbody tr th:only-of-type {\n",
       "        vertical-align: middle;\n",
       "    }\n",
       "\n",
       "    .dataframe tbody tr th {\n",
       "        vertical-align: top;\n",
       "    }\n",
       "\n",
       "    .dataframe thead th {\n",
       "        text-align: right;\n",
       "    }\n",
       "</style>\n",
       "<table border=\"1\" class=\"dataframe\">\n",
       "  <thead>\n",
       "    <tr style=\"text-align: right;\">\n",
       "      <th></th>\n",
       "      <th>PassengerId</th>\n",
       "      <th>HomePlanet</th>\n",
       "      <th>CryoSleep</th>\n",
       "      <th>Cabin</th>\n",
       "      <th>Destination</th>\n",
       "      <th>Age</th>\n",
       "      <th>VIP</th>\n",
       "      <th>RoomService</th>\n",
       "      <th>FoodCourt</th>\n",
       "      <th>ShoppingMall</th>\n",
       "      <th>Spa</th>\n",
       "      <th>VRDeck</th>\n",
       "      <th>Name</th>\n",
       "      <th>HomePlanetCode</th>\n",
       "      <th>DestinationCode</th>\n",
       "      <th>CryoSleepCode</th>\n",
       "    </tr>\n",
       "  </thead>\n",
       "  <tbody>\n",
       "    <tr>\n",
       "      <th>0</th>\n",
       "      <td>0013_01</td>\n",
       "      <td>Earth</td>\n",
       "      <td>True</td>\n",
       "      <td>G/3/S</td>\n",
       "      <td>TRAPPIST-1e</td>\n",
       "      <td>27.0</td>\n",
       "      <td>False</td>\n",
       "      <td>0.0</td>\n",
       "      <td>0.0</td>\n",
       "      <td>0.0</td>\n",
       "      <td>0.0</td>\n",
       "      <td>0.0</td>\n",
       "      <td>Nelly Carsoning</td>\n",
       "      <td>0</td>\n",
       "      <td>2</td>\n",
       "      <td>1</td>\n",
       "    </tr>\n",
       "    <tr>\n",
       "      <th>1</th>\n",
       "      <td>0018_01</td>\n",
       "      <td>Earth</td>\n",
       "      <td>False</td>\n",
       "      <td>F/4/S</td>\n",
       "      <td>TRAPPIST-1e</td>\n",
       "      <td>19.0</td>\n",
       "      <td>False</td>\n",
       "      <td>0.0</td>\n",
       "      <td>9.0</td>\n",
       "      <td>0.0</td>\n",
       "      <td>2823.0</td>\n",
       "      <td>0.0</td>\n",
       "      <td>Lerome Peckers</td>\n",
       "      <td>0</td>\n",
       "      <td>2</td>\n",
       "      <td>0</td>\n",
       "    </tr>\n",
       "    <tr>\n",
       "      <th>2</th>\n",
       "      <td>0019_01</td>\n",
       "      <td>Europa</td>\n",
       "      <td>True</td>\n",
       "      <td>C/0/S</td>\n",
       "      <td>55 Cancri e</td>\n",
       "      <td>31.0</td>\n",
       "      <td>False</td>\n",
       "      <td>0.0</td>\n",
       "      <td>0.0</td>\n",
       "      <td>0.0</td>\n",
       "      <td>0.0</td>\n",
       "      <td>0.0</td>\n",
       "      <td>Sabih Unhearfus</td>\n",
       "      <td>1</td>\n",
       "      <td>0</td>\n",
       "      <td>1</td>\n",
       "    </tr>\n",
       "    <tr>\n",
       "      <th>3</th>\n",
       "      <td>0021_01</td>\n",
       "      <td>Europa</td>\n",
       "      <td>False</td>\n",
       "      <td>C/1/S</td>\n",
       "      <td>TRAPPIST-1e</td>\n",
       "      <td>38.0</td>\n",
       "      <td>False</td>\n",
       "      <td>0.0</td>\n",
       "      <td>6652.0</td>\n",
       "      <td>0.0</td>\n",
       "      <td>181.0</td>\n",
       "      <td>585.0</td>\n",
       "      <td>Meratz Caltilter</td>\n",
       "      <td>1</td>\n",
       "      <td>2</td>\n",
       "      <td>0</td>\n",
       "    </tr>\n",
       "    <tr>\n",
       "      <th>4</th>\n",
       "      <td>0023_01</td>\n",
       "      <td>Earth</td>\n",
       "      <td>False</td>\n",
       "      <td>F/5/S</td>\n",
       "      <td>TRAPPIST-1e</td>\n",
       "      <td>20.0</td>\n",
       "      <td>False</td>\n",
       "      <td>10.0</td>\n",
       "      <td>0.0</td>\n",
       "      <td>635.0</td>\n",
       "      <td>0.0</td>\n",
       "      <td>0.0</td>\n",
       "      <td>Brence Harperez</td>\n",
       "      <td>0</td>\n",
       "      <td>2</td>\n",
       "      <td>0</td>\n",
       "    </tr>\n",
       "    <tr>\n",
       "      <th>5</th>\n",
       "      <td>0027_01</td>\n",
       "      <td>Earth</td>\n",
       "      <td>False</td>\n",
       "      <td>F/7/P</td>\n",
       "      <td>TRAPPIST-1e</td>\n",
       "      <td>31.0</td>\n",
       "      <td>False</td>\n",
       "      <td>0.0</td>\n",
       "      <td>1615.0</td>\n",
       "      <td>263.0</td>\n",
       "      <td>113.0</td>\n",
       "      <td>60.0</td>\n",
       "      <td>Karlen Ricks</td>\n",
       "      <td>0</td>\n",
       "      <td>2</td>\n",
       "      <td>0</td>\n",
       "    </tr>\n",
       "    <tr>\n",
       "      <th>6</th>\n",
       "      <td>0029_01</td>\n",
       "      <td>Europa</td>\n",
       "      <td>True</td>\n",
       "      <td>B/2/P</td>\n",
       "      <td>55 Cancri e</td>\n",
       "      <td>21.0</td>\n",
       "      <td>False</td>\n",
       "      <td>0.0</td>\n",
       "      <td>0.0</td>\n",
       "      <td>0.0</td>\n",
       "      <td>0.0</td>\n",
       "      <td>0.0</td>\n",
       "      <td>Aldah Ainserfle</td>\n",
       "      <td>1</td>\n",
       "      <td>0</td>\n",
       "      <td>1</td>\n",
       "    </tr>\n",
       "    <tr>\n",
       "      <th>7</th>\n",
       "      <td>0032_01</td>\n",
       "      <td>Europa</td>\n",
       "      <td>True</td>\n",
       "      <td>D/0/S</td>\n",
       "      <td>TRAPPIST-1e</td>\n",
       "      <td>20.0</td>\n",
       "      <td>False</td>\n",
       "      <td>0.0</td>\n",
       "      <td>0.0</td>\n",
       "      <td>0.0</td>\n",
       "      <td>0.0</td>\n",
       "      <td>0.0</td>\n",
       "      <td>Acrabi Pringry</td>\n",
       "      <td>1</td>\n",
       "      <td>2</td>\n",
       "      <td>1</td>\n",
       "    </tr>\n",
       "    <tr>\n",
       "      <th>8</th>\n",
       "      <td>0032_02</td>\n",
       "      <td>Europa</td>\n",
       "      <td>True</td>\n",
       "      <td>D/0/S</td>\n",
       "      <td>55 Cancri e</td>\n",
       "      <td>23.0</td>\n",
       "      <td>False</td>\n",
       "      <td>0.0</td>\n",
       "      <td>0.0</td>\n",
       "      <td>0.0</td>\n",
       "      <td>0.0</td>\n",
       "      <td>0.0</td>\n",
       "      <td>Dhena Pringry</td>\n",
       "      <td>1</td>\n",
       "      <td>0</td>\n",
       "      <td>1</td>\n",
       "    </tr>\n",
       "    <tr>\n",
       "      <th>9</th>\n",
       "      <td>0033_01</td>\n",
       "      <td>Earth</td>\n",
       "      <td>False</td>\n",
       "      <td>F/7/S</td>\n",
       "      <td>55 Cancri e</td>\n",
       "      <td>24.0</td>\n",
       "      <td>False</td>\n",
       "      <td>0.0</td>\n",
       "      <td>639.0</td>\n",
       "      <td>0.0</td>\n",
       "      <td>0.0</td>\n",
       "      <td>0.0</td>\n",
       "      <td>Eliana Delazarson</td>\n",
       "      <td>0</td>\n",
       "      <td>0</td>\n",
       "      <td>0</td>\n",
       "    </tr>\n",
       "  </tbody>\n",
       "</table>\n",
       "</div>"
      ],
      "text/plain": [
       "  PassengerId HomePlanet CryoSleep  Cabin  Destination   Age    VIP  \\\n",
       "0     0013_01      Earth      True  G/3/S  TRAPPIST-1e  27.0  False   \n",
       "1     0018_01      Earth     False  F/4/S  TRAPPIST-1e  19.0  False   \n",
       "2     0019_01     Europa      True  C/0/S  55 Cancri e  31.0  False   \n",
       "3     0021_01     Europa     False  C/1/S  TRAPPIST-1e  38.0  False   \n",
       "4     0023_01      Earth     False  F/5/S  TRAPPIST-1e  20.0  False   \n",
       "5     0027_01      Earth     False  F/7/P  TRAPPIST-1e  31.0  False   \n",
       "6     0029_01     Europa      True  B/2/P  55 Cancri e  21.0  False   \n",
       "7     0032_01     Europa      True  D/0/S  TRAPPIST-1e  20.0  False   \n",
       "8     0032_02     Europa      True  D/0/S  55 Cancri e  23.0  False   \n",
       "9     0033_01      Earth     False  F/7/S  55 Cancri e  24.0  False   \n",
       "\n",
       "   RoomService  FoodCourt  ShoppingMall     Spa  VRDeck               Name  \\\n",
       "0          0.0        0.0           0.0     0.0     0.0    Nelly Carsoning   \n",
       "1          0.0        9.0           0.0  2823.0     0.0     Lerome Peckers   \n",
       "2          0.0        0.0           0.0     0.0     0.0    Sabih Unhearfus   \n",
       "3          0.0     6652.0           0.0   181.0   585.0   Meratz Caltilter   \n",
       "4         10.0        0.0         635.0     0.0     0.0    Brence Harperez   \n",
       "5          0.0     1615.0         263.0   113.0    60.0       Karlen Ricks   \n",
       "6          0.0        0.0           0.0     0.0     0.0    Aldah Ainserfle   \n",
       "7          0.0        0.0           0.0     0.0     0.0     Acrabi Pringry   \n",
       "8          0.0        0.0           0.0     0.0     0.0      Dhena Pringry   \n",
       "9          0.0      639.0           0.0     0.0     0.0  Eliana Delazarson   \n",
       "\n",
       "   HomePlanetCode  DestinationCode  CryoSleepCode  \n",
       "0               0                2              1  \n",
       "1               0                2              0  \n",
       "2               1                0              1  \n",
       "3               1                2              0  \n",
       "4               0                2              0  \n",
       "5               0                2              0  \n",
       "6               1                0              1  \n",
       "7               1                2              1  \n",
       "8               1                0              1  \n",
       "9               0                0              0  "
      ]
     },
     "execution_count": 21,
     "metadata": {},
     "output_type": "execute_result"
    }
   ],
   "source": [
    "test_data.head(10)"
   ]
  },
  {
   "cell_type": "code",
   "execution_count": 22,
   "id": "f3d44a3f",
   "metadata": {
    "execution": {
     "iopub.execute_input": "2023-03-27T13:38:32.425997Z",
     "iopub.status.busy": "2023-03-27T13:38:32.424419Z",
     "iopub.status.idle": "2023-03-27T13:38:32.463223Z",
     "shell.execute_reply": "2023-03-27T13:38:32.461801Z"
    },
    "papermill": {
     "duration": 0.061779,
     "end_time": "2023-03-27T13:38:32.466186",
     "exception": false,
     "start_time": "2023-03-27T13:38:32.404407",
     "status": "completed"
    },
    "tags": []
   },
   "outputs": [],
   "source": [
    "train_data[['CabinDeck','CabinNum','CabinSide']] = train_data['Cabin'].str.split('/', expand=True)\n",
    "test_data[['CabinDeck','CabinNum','CabinSide']] = test_data['Cabin'].str.split('/', expand=True)"
   ]
  },
  {
   "cell_type": "code",
   "execution_count": 23,
   "id": "90bdd597",
   "metadata": {
    "execution": {
     "iopub.execute_input": "2023-03-27T13:38:32.505102Z",
     "iopub.status.busy": "2023-03-27T13:38:32.504022Z",
     "iopub.status.idle": "2023-03-27T13:38:32.530220Z",
     "shell.execute_reply": "2023-03-27T13:38:32.528737Z"
    },
    "papermill": {
     "duration": 0.048465,
     "end_time": "2023-03-27T13:38:32.532920",
     "exception": false,
     "start_time": "2023-03-27T13:38:32.484455",
     "status": "completed"
    },
    "tags": []
   },
   "outputs": [
    {
     "data": {
      "text/html": [
       "<div>\n",
       "<style scoped>\n",
       "    .dataframe tbody tr th:only-of-type {\n",
       "        vertical-align: middle;\n",
       "    }\n",
       "\n",
       "    .dataframe tbody tr th {\n",
       "        vertical-align: top;\n",
       "    }\n",
       "\n",
       "    .dataframe thead th {\n",
       "        text-align: right;\n",
       "    }\n",
       "</style>\n",
       "<table border=\"1\" class=\"dataframe\">\n",
       "  <thead>\n",
       "    <tr style=\"text-align: right;\">\n",
       "      <th></th>\n",
       "      <th>PassengerId</th>\n",
       "      <th>HomePlanet</th>\n",
       "      <th>CryoSleep</th>\n",
       "      <th>Cabin</th>\n",
       "      <th>Destination</th>\n",
       "      <th>Age</th>\n",
       "      <th>VIP</th>\n",
       "      <th>RoomService</th>\n",
       "      <th>FoodCourt</th>\n",
       "      <th>ShoppingMall</th>\n",
       "      <th>Spa</th>\n",
       "      <th>VRDeck</th>\n",
       "      <th>Name</th>\n",
       "      <th>Transported</th>\n",
       "      <th>HomePlanetCode</th>\n",
       "      <th>DestinationCode</th>\n",
       "      <th>CryoSleepCode</th>\n",
       "      <th>CabinDeck</th>\n",
       "      <th>CabinNum</th>\n",
       "      <th>CabinSide</th>\n",
       "    </tr>\n",
       "  </thead>\n",
       "  <tbody>\n",
       "    <tr>\n",
       "      <th>0</th>\n",
       "      <td>0001_01</td>\n",
       "      <td>Europa</td>\n",
       "      <td>False</td>\n",
       "      <td>B/0/P</td>\n",
       "      <td>TRAPPIST-1e</td>\n",
       "      <td>39.0</td>\n",
       "      <td>False</td>\n",
       "      <td>0.0</td>\n",
       "      <td>0.0</td>\n",
       "      <td>0.0</td>\n",
       "      <td>0.0</td>\n",
       "      <td>0.0</td>\n",
       "      <td>Maham Ofracculy</td>\n",
       "      <td>False</td>\n",
       "      <td>1</td>\n",
       "      <td>2</td>\n",
       "      <td>0</td>\n",
       "      <td>B</td>\n",
       "      <td>0</td>\n",
       "      <td>P</td>\n",
       "    </tr>\n",
       "    <tr>\n",
       "      <th>1</th>\n",
       "      <td>0002_01</td>\n",
       "      <td>Earth</td>\n",
       "      <td>False</td>\n",
       "      <td>F/0/S</td>\n",
       "      <td>TRAPPIST-1e</td>\n",
       "      <td>24.0</td>\n",
       "      <td>False</td>\n",
       "      <td>109.0</td>\n",
       "      <td>9.0</td>\n",
       "      <td>25.0</td>\n",
       "      <td>549.0</td>\n",
       "      <td>44.0</td>\n",
       "      <td>Juanna Vines</td>\n",
       "      <td>True</td>\n",
       "      <td>0</td>\n",
       "      <td>2</td>\n",
       "      <td>0</td>\n",
       "      <td>F</td>\n",
       "      <td>0</td>\n",
       "      <td>S</td>\n",
       "    </tr>\n",
       "    <tr>\n",
       "      <th>2</th>\n",
       "      <td>0003_01</td>\n",
       "      <td>Europa</td>\n",
       "      <td>False</td>\n",
       "      <td>A/0/S</td>\n",
       "      <td>TRAPPIST-1e</td>\n",
       "      <td>58.0</td>\n",
       "      <td>True</td>\n",
       "      <td>43.0</td>\n",
       "      <td>3576.0</td>\n",
       "      <td>0.0</td>\n",
       "      <td>6715.0</td>\n",
       "      <td>49.0</td>\n",
       "      <td>Altark Susent</td>\n",
       "      <td>False</td>\n",
       "      <td>1</td>\n",
       "      <td>2</td>\n",
       "      <td>0</td>\n",
       "      <td>A</td>\n",
       "      <td>0</td>\n",
       "      <td>S</td>\n",
       "    </tr>\n",
       "    <tr>\n",
       "      <th>3</th>\n",
       "      <td>0003_02</td>\n",
       "      <td>Europa</td>\n",
       "      <td>False</td>\n",
       "      <td>A/0/S</td>\n",
       "      <td>TRAPPIST-1e</td>\n",
       "      <td>33.0</td>\n",
       "      <td>False</td>\n",
       "      <td>0.0</td>\n",
       "      <td>1283.0</td>\n",
       "      <td>371.0</td>\n",
       "      <td>3329.0</td>\n",
       "      <td>193.0</td>\n",
       "      <td>Solam Susent</td>\n",
       "      <td>False</td>\n",
       "      <td>1</td>\n",
       "      <td>2</td>\n",
       "      <td>0</td>\n",
       "      <td>A</td>\n",
       "      <td>0</td>\n",
       "      <td>S</td>\n",
       "    </tr>\n",
       "    <tr>\n",
       "      <th>4</th>\n",
       "      <td>0004_01</td>\n",
       "      <td>Earth</td>\n",
       "      <td>False</td>\n",
       "      <td>F/1/S</td>\n",
       "      <td>TRAPPIST-1e</td>\n",
       "      <td>16.0</td>\n",
       "      <td>False</td>\n",
       "      <td>303.0</td>\n",
       "      <td>70.0</td>\n",
       "      <td>151.0</td>\n",
       "      <td>565.0</td>\n",
       "      <td>2.0</td>\n",
       "      <td>Willy Santantines</td>\n",
       "      <td>True</td>\n",
       "      <td>0</td>\n",
       "      <td>2</td>\n",
       "      <td>0</td>\n",
       "      <td>F</td>\n",
       "      <td>1</td>\n",
       "      <td>S</td>\n",
       "    </tr>\n",
       "  </tbody>\n",
       "</table>\n",
       "</div>"
      ],
      "text/plain": [
       "  PassengerId HomePlanet CryoSleep  Cabin  Destination   Age    VIP  \\\n",
       "0     0001_01     Europa     False  B/0/P  TRAPPIST-1e  39.0  False   \n",
       "1     0002_01      Earth     False  F/0/S  TRAPPIST-1e  24.0  False   \n",
       "2     0003_01     Europa     False  A/0/S  TRAPPIST-1e  58.0   True   \n",
       "3     0003_02     Europa     False  A/0/S  TRAPPIST-1e  33.0  False   \n",
       "4     0004_01      Earth     False  F/1/S  TRAPPIST-1e  16.0  False   \n",
       "\n",
       "   RoomService  FoodCourt  ShoppingMall     Spa  VRDeck               Name  \\\n",
       "0          0.0        0.0           0.0     0.0     0.0    Maham Ofracculy   \n",
       "1        109.0        9.0          25.0   549.0    44.0       Juanna Vines   \n",
       "2         43.0     3576.0           0.0  6715.0    49.0      Altark Susent   \n",
       "3          0.0     1283.0         371.0  3329.0   193.0       Solam Susent   \n",
       "4        303.0       70.0         151.0   565.0     2.0  Willy Santantines   \n",
       "\n",
       "   Transported  HomePlanetCode  DestinationCode  CryoSleepCode CabinDeck  \\\n",
       "0        False               1                2              0         B   \n",
       "1         True               0                2              0         F   \n",
       "2        False               1                2              0         A   \n",
       "3        False               1                2              0         A   \n",
       "4         True               0                2              0         F   \n",
       "\n",
       "  CabinNum CabinSide  \n",
       "0        0         P  \n",
       "1        0         S  \n",
       "2        0         S  \n",
       "3        0         S  \n",
       "4        1         S  "
      ]
     },
     "execution_count": 23,
     "metadata": {},
     "output_type": "execute_result"
    }
   ],
   "source": [
    "train_data.head()"
   ]
  },
  {
   "cell_type": "code",
   "execution_count": 24,
   "id": "7b8cda60",
   "metadata": {
    "execution": {
     "iopub.execute_input": "2023-03-27T13:38:32.571155Z",
     "iopub.status.busy": "2023-03-27T13:38:32.570699Z",
     "iopub.status.idle": "2023-03-27T13:38:32.610605Z",
     "shell.execute_reply": "2023-03-27T13:38:32.609240Z"
    },
    "papermill": {
     "duration": 0.062027,
     "end_time": "2023-03-27T13:38:32.613361",
     "exception": false,
     "start_time": "2023-03-27T13:38:32.551334",
     "status": "completed"
    },
    "tags": []
   },
   "outputs": [
    {
     "data": {
      "text/html": [
       "<div>\n",
       "<style scoped>\n",
       "    .dataframe tbody tr th:only-of-type {\n",
       "        vertical-align: middle;\n",
       "    }\n",
       "\n",
       "    .dataframe tbody tr th {\n",
       "        vertical-align: top;\n",
       "    }\n",
       "\n",
       "    .dataframe thead th {\n",
       "        text-align: right;\n",
       "    }\n",
       "</style>\n",
       "<table border=\"1\" class=\"dataframe\">\n",
       "  <thead>\n",
       "    <tr style=\"text-align: right;\">\n",
       "      <th></th>\n",
       "      <th>PassengerId</th>\n",
       "      <th>HomePlanet</th>\n",
       "      <th>CryoSleep</th>\n",
       "      <th>Cabin</th>\n",
       "      <th>Destination</th>\n",
       "      <th>Age</th>\n",
       "      <th>VIP</th>\n",
       "      <th>RoomService</th>\n",
       "      <th>FoodCourt</th>\n",
       "      <th>ShoppingMall</th>\n",
       "      <th>Spa</th>\n",
       "      <th>VRDeck</th>\n",
       "      <th>Name</th>\n",
       "      <th>Transported</th>\n",
       "      <th>HomePlanetCode</th>\n",
       "      <th>DestinationCode</th>\n",
       "      <th>CryoSleepCode</th>\n",
       "      <th>CabinDeck</th>\n",
       "      <th>CabinNum</th>\n",
       "      <th>CabinSide</th>\n",
       "    </tr>\n",
       "  </thead>\n",
       "  <tbody>\n",
       "    <tr>\n",
       "      <th>15</th>\n",
       "      <td>0012_01</td>\n",
       "      <td>Earth</td>\n",
       "      <td>False</td>\n",
       "      <td>NaN</td>\n",
       "      <td>TRAPPIST-1e</td>\n",
       "      <td>31.0</td>\n",
       "      <td>False</td>\n",
       "      <td>32.0</td>\n",
       "      <td>0.0</td>\n",
       "      <td>876.0</td>\n",
       "      <td>0.0</td>\n",
       "      <td>0.0</td>\n",
       "      <td>Justie Pooles</td>\n",
       "      <td>False</td>\n",
       "      <td>0</td>\n",
       "      <td>2</td>\n",
       "      <td>0</td>\n",
       "      <td>NaN</td>\n",
       "      <td>NaN</td>\n",
       "      <td>NaN</td>\n",
       "    </tr>\n",
       "    <tr>\n",
       "      <th>93</th>\n",
       "      <td>0101_01</td>\n",
       "      <td>Mars</td>\n",
       "      <td>True</td>\n",
       "      <td>NaN</td>\n",
       "      <td>TRAPPIST-1e</td>\n",
       "      <td>31.0</td>\n",
       "      <td>False</td>\n",
       "      <td>0.0</td>\n",
       "      <td>0.0</td>\n",
       "      <td>0.0</td>\n",
       "      <td>0.0</td>\n",
       "      <td>0.0</td>\n",
       "      <td>Book Trad</td>\n",
       "      <td>True</td>\n",
       "      <td>2</td>\n",
       "      <td>2</td>\n",
       "      <td>1</td>\n",
       "      <td>NaN</td>\n",
       "      <td>NaN</td>\n",
       "      <td>NaN</td>\n",
       "    </tr>\n",
       "    <tr>\n",
       "      <th>103</th>\n",
       "      <td>0110_01</td>\n",
       "      <td>Europa</td>\n",
       "      <td>False</td>\n",
       "      <td>NaN</td>\n",
       "      <td>TRAPPIST-1e</td>\n",
       "      <td>32.0</td>\n",
       "      <td>False</td>\n",
       "      <td>0.0</td>\n",
       "      <td>410.0</td>\n",
       "      <td>6.0</td>\n",
       "      <td>3929.0</td>\n",
       "      <td>764.0</td>\n",
       "      <td>Graviph Aloubtled</td>\n",
       "      <td>False</td>\n",
       "      <td>1</td>\n",
       "      <td>2</td>\n",
       "      <td>0</td>\n",
       "      <td>NaN</td>\n",
       "      <td>NaN</td>\n",
       "      <td>NaN</td>\n",
       "    </tr>\n",
       "    <tr>\n",
       "      <th>222</th>\n",
       "      <td>0239_01</td>\n",
       "      <td>Mars</td>\n",
       "      <td>False</td>\n",
       "      <td>NaN</td>\n",
       "      <td>TRAPPIST-1e</td>\n",
       "      <td>37.0</td>\n",
       "      <td>False</td>\n",
       "      <td>637.0</td>\n",
       "      <td>0.0</td>\n",
       "      <td>0.0</td>\n",
       "      <td>92.0</td>\n",
       "      <td>319.0</td>\n",
       "      <td>Diedow Resty</td>\n",
       "      <td>False</td>\n",
       "      <td>2</td>\n",
       "      <td>2</td>\n",
       "      <td>0</td>\n",
       "      <td>NaN</td>\n",
       "      <td>NaN</td>\n",
       "      <td>NaN</td>\n",
       "    </tr>\n",
       "    <tr>\n",
       "      <th>227</th>\n",
       "      <td>0244_01</td>\n",
       "      <td>Mars</td>\n",
       "      <td>True</td>\n",
       "      <td>NaN</td>\n",
       "      <td>TRAPPIST-1e</td>\n",
       "      <td>43.0</td>\n",
       "      <td>False</td>\n",
       "      <td>0.0</td>\n",
       "      <td>0.0</td>\n",
       "      <td>0.0</td>\n",
       "      <td>0.0</td>\n",
       "      <td>0.0</td>\n",
       "      <td>Froos Sad</td>\n",
       "      <td>True</td>\n",
       "      <td>2</td>\n",
       "      <td>2</td>\n",
       "      <td>1</td>\n",
       "      <td>NaN</td>\n",
       "      <td>NaN</td>\n",
       "      <td>NaN</td>\n",
       "    </tr>\n",
       "    <tr>\n",
       "      <th>...</th>\n",
       "      <td>...</td>\n",
       "      <td>...</td>\n",
       "      <td>...</td>\n",
       "      <td>...</td>\n",
       "      <td>...</td>\n",
       "      <td>...</td>\n",
       "      <td>...</td>\n",
       "      <td>...</td>\n",
       "      <td>...</td>\n",
       "      <td>...</td>\n",
       "      <td>...</td>\n",
       "      <td>...</td>\n",
       "      <td>...</td>\n",
       "      <td>...</td>\n",
       "      <td>...</td>\n",
       "      <td>...</td>\n",
       "      <td>...</td>\n",
       "      <td>...</td>\n",
       "      <td>...</td>\n",
       "      <td>...</td>\n",
       "    </tr>\n",
       "    <tr>\n",
       "      <th>8209</th>\n",
       "      <td>8772_02</td>\n",
       "      <td>Europa</td>\n",
       "      <td>False</td>\n",
       "      <td>NaN</td>\n",
       "      <td>55 Cancri e</td>\n",
       "      <td>53.0</td>\n",
       "      <td>False</td>\n",
       "      <td>0.0</td>\n",
       "      <td>1127.0</td>\n",
       "      <td>0.0</td>\n",
       "      <td>3939.0</td>\n",
       "      <td>0.0</td>\n",
       "      <td>Naosura Motled</td>\n",
       "      <td>False</td>\n",
       "      <td>1</td>\n",
       "      <td>0</td>\n",
       "      <td>0</td>\n",
       "      <td>NaN</td>\n",
       "      <td>NaN</td>\n",
       "      <td>NaN</td>\n",
       "    </tr>\n",
       "    <tr>\n",
       "      <th>8475</th>\n",
       "      <td>9057_01</td>\n",
       "      <td>Europa</td>\n",
       "      <td>False</td>\n",
       "      <td>NaN</td>\n",
       "      <td>55 Cancri e</td>\n",
       "      <td>36.0</td>\n",
       "      <td>True</td>\n",
       "      <td>132.0</td>\n",
       "      <td>3479.0</td>\n",
       "      <td>0.0</td>\n",
       "      <td>3786.0</td>\n",
       "      <td>0.0</td>\n",
       "      <td>Coxan Statch</td>\n",
       "      <td>False</td>\n",
       "      <td>1</td>\n",
       "      <td>0</td>\n",
       "      <td>0</td>\n",
       "      <td>NaN</td>\n",
       "      <td>NaN</td>\n",
       "      <td>NaN</td>\n",
       "    </tr>\n",
       "    <tr>\n",
       "      <th>8485</th>\n",
       "      <td>9069_03</td>\n",
       "      <td>Europa</td>\n",
       "      <td>True</td>\n",
       "      <td>NaN</td>\n",
       "      <td>55 Cancri e</td>\n",
       "      <td>25.0</td>\n",
       "      <td>False</td>\n",
       "      <td>0.0</td>\n",
       "      <td>0.0</td>\n",
       "      <td>0.0</td>\n",
       "      <td>0.0</td>\n",
       "      <td>0.0</td>\n",
       "      <td>Bath Brakeng</td>\n",
       "      <td>True</td>\n",
       "      <td>1</td>\n",
       "      <td>0</td>\n",
       "      <td>1</td>\n",
       "      <td>NaN</td>\n",
       "      <td>NaN</td>\n",
       "      <td>NaN</td>\n",
       "    </tr>\n",
       "    <tr>\n",
       "      <th>8509</th>\n",
       "      <td>9081_03</td>\n",
       "      <td>Earth</td>\n",
       "      <td>True</td>\n",
       "      <td>NaN</td>\n",
       "      <td>TRAPPIST-1e</td>\n",
       "      <td>1.0</td>\n",
       "      <td>False</td>\n",
       "      <td>0.0</td>\n",
       "      <td>0.0</td>\n",
       "      <td>0.0</td>\n",
       "      <td>0.0</td>\n",
       "      <td>0.0</td>\n",
       "      <td>Beula Clemondsey</td>\n",
       "      <td>False</td>\n",
       "      <td>0</td>\n",
       "      <td>2</td>\n",
       "      <td>1</td>\n",
       "      <td>NaN</td>\n",
       "      <td>NaN</td>\n",
       "      <td>NaN</td>\n",
       "    </tr>\n",
       "    <tr>\n",
       "      <th>8656</th>\n",
       "      <td>9233_01</td>\n",
       "      <td>Earth</td>\n",
       "      <td>False</td>\n",
       "      <td>NaN</td>\n",
       "      <td>TRAPPIST-1e</td>\n",
       "      <td>41.0</td>\n",
       "      <td>False</td>\n",
       "      <td>3.0</td>\n",
       "      <td>0.0</td>\n",
       "      <td>668.0</td>\n",
       "      <td>0.0</td>\n",
       "      <td>0.0</td>\n",
       "      <td>Royce Giller</td>\n",
       "      <td>True</td>\n",
       "      <td>0</td>\n",
       "      <td>2</td>\n",
       "      <td>0</td>\n",
       "      <td>NaN</td>\n",
       "      <td>NaN</td>\n",
       "      <td>NaN</td>\n",
       "    </tr>\n",
       "  </tbody>\n",
       "</table>\n",
       "<p>199 rows × 20 columns</p>\n",
       "</div>"
      ],
      "text/plain": [
       "     PassengerId HomePlanet CryoSleep Cabin  Destination   Age    VIP  \\\n",
       "15       0012_01      Earth     False   NaN  TRAPPIST-1e  31.0  False   \n",
       "93       0101_01       Mars      True   NaN  TRAPPIST-1e  31.0  False   \n",
       "103      0110_01     Europa     False   NaN  TRAPPIST-1e  32.0  False   \n",
       "222      0239_01       Mars     False   NaN  TRAPPIST-1e  37.0  False   \n",
       "227      0244_01       Mars      True   NaN  TRAPPIST-1e  43.0  False   \n",
       "...          ...        ...       ...   ...          ...   ...    ...   \n",
       "8209     8772_02     Europa     False   NaN  55 Cancri e  53.0  False   \n",
       "8475     9057_01     Europa     False   NaN  55 Cancri e  36.0   True   \n",
       "8485     9069_03     Europa      True   NaN  55 Cancri e  25.0  False   \n",
       "8509     9081_03      Earth      True   NaN  TRAPPIST-1e   1.0  False   \n",
       "8656     9233_01      Earth     False   NaN  TRAPPIST-1e  41.0  False   \n",
       "\n",
       "      RoomService  FoodCourt  ShoppingMall     Spa  VRDeck               Name  \\\n",
       "15           32.0        0.0         876.0     0.0     0.0      Justie Pooles   \n",
       "93            0.0        0.0           0.0     0.0     0.0          Book Trad   \n",
       "103           0.0      410.0           6.0  3929.0   764.0  Graviph Aloubtled   \n",
       "222         637.0        0.0           0.0    92.0   319.0       Diedow Resty   \n",
       "227           0.0        0.0           0.0     0.0     0.0          Froos Sad   \n",
       "...           ...        ...           ...     ...     ...                ...   \n",
       "8209          0.0     1127.0           0.0  3939.0     0.0     Naosura Motled   \n",
       "8475        132.0     3479.0           0.0  3786.0     0.0       Coxan Statch   \n",
       "8485          0.0        0.0           0.0     0.0     0.0       Bath Brakeng   \n",
       "8509          0.0        0.0           0.0     0.0     0.0   Beula Clemondsey   \n",
       "8656          3.0        0.0         668.0     0.0     0.0       Royce Giller   \n",
       "\n",
       "      Transported  HomePlanetCode  DestinationCode  CryoSleepCode CabinDeck  \\\n",
       "15          False               0                2              0       NaN   \n",
       "93           True               2                2              1       NaN   \n",
       "103         False               1                2              0       NaN   \n",
       "222         False               2                2              0       NaN   \n",
       "227          True               2                2              1       NaN   \n",
       "...           ...             ...              ...            ...       ...   \n",
       "8209        False               1                0              0       NaN   \n",
       "8475        False               1                0              0       NaN   \n",
       "8485         True               1                0              1       NaN   \n",
       "8509        False               0                2              1       NaN   \n",
       "8656         True               0                2              0       NaN   \n",
       "\n",
       "     CabinNum CabinSide  \n",
       "15        NaN       NaN  \n",
       "93        NaN       NaN  \n",
       "103       NaN       NaN  \n",
       "222       NaN       NaN  \n",
       "227       NaN       NaN  \n",
       "...       ...       ...  \n",
       "8209      NaN       NaN  \n",
       "8475      NaN       NaN  \n",
       "8485      NaN       NaN  \n",
       "8509      NaN       NaN  \n",
       "8656      NaN       NaN  \n",
       "\n",
       "[199 rows x 20 columns]"
      ]
     },
     "execution_count": 24,
     "metadata": {},
     "output_type": "execute_result"
    }
   ],
   "source": [
    "train_data[train_data.CabinDeck.isna()]"
   ]
  },
  {
   "cell_type": "code",
   "execution_count": 25,
   "id": "9e19053c",
   "metadata": {
    "execution": {
     "iopub.execute_input": "2023-03-27T13:38:32.653561Z",
     "iopub.status.busy": "2023-03-27T13:38:32.653111Z",
     "iopub.status.idle": "2023-03-27T13:38:32.664292Z",
     "shell.execute_reply": "2023-03-27T13:38:32.663066Z"
    },
    "papermill": {
     "duration": 0.034455,
     "end_time": "2023-03-27T13:38:32.666826",
     "exception": false,
     "start_time": "2023-03-27T13:38:32.632371",
     "status": "completed"
    },
    "tags": []
   },
   "outputs": [
    {
     "data": {
      "text/plain": [
       "F    2794\n",
       "G    2559\n",
       "E     876\n",
       "B     779\n",
       "C     747\n",
       "D     478\n",
       "A     256\n",
       "T       5\n",
       "Name: CabinDeck, dtype: int64"
      ]
     },
     "execution_count": 25,
     "metadata": {},
     "output_type": "execute_result"
    }
   ],
   "source": [
    "train_data['CabinDeck'].value_counts()"
   ]
  },
  {
   "cell_type": "code",
   "execution_count": 26,
   "id": "bd950308",
   "metadata": {
    "execution": {
     "iopub.execute_input": "2023-03-27T13:38:32.707758Z",
     "iopub.status.busy": "2023-03-27T13:38:32.707264Z",
     "iopub.status.idle": "2023-03-27T13:38:32.723150Z",
     "shell.execute_reply": "2023-03-27T13:38:32.721788Z"
    },
    "papermill": {
     "duration": 0.038946,
     "end_time": "2023-03-27T13:38:32.725773",
     "exception": false,
     "start_time": "2023-03-27T13:38:32.686827",
     "status": "completed"
    },
    "tags": []
   },
   "outputs": [
    {
     "data": {
      "text/plain": [
       "5    2794\n",
       "6    2559\n",
       "4     876\n",
       "1     779\n",
       "2     747\n",
       "3     478\n",
       "0     256\n",
       "8     199\n",
       "7       5\n",
       "Name: CabinDeckCode, dtype: int64"
      ]
     },
     "execution_count": 26,
     "metadata": {},
     "output_type": "execute_result"
    }
   ],
   "source": [
    "train_data['CabinDeckCode'] = le.fit_transform(train_data['CabinDeck'])\n",
    "test_data['CabinDeckCode'] = le.fit_transform(test_data['CabinDeck'])\n",
    "train_data['CabinDeckCode'].value_counts()"
   ]
  },
  {
   "cell_type": "code",
   "execution_count": 27,
   "id": "f61e1c49",
   "metadata": {
    "execution": {
     "iopub.execute_input": "2023-03-27T13:38:32.768408Z",
     "iopub.status.busy": "2023-03-27T13:38:32.767168Z",
     "iopub.status.idle": "2023-03-27T13:38:32.784137Z",
     "shell.execute_reply": "2023-03-27T13:38:32.782678Z"
    },
    "papermill": {
     "duration": 0.041736,
     "end_time": "2023-03-27T13:38:32.786648",
     "exception": false,
     "start_time": "2023-03-27T13:38:32.744912",
     "status": "completed"
    },
    "tags": []
   },
   "outputs": [
    {
     "data": {
      "text/plain": [
       "1    4288\n",
       "0    4206\n",
       "2     199\n",
       "Name: CabinSideCode, dtype: int64"
      ]
     },
     "execution_count": 27,
     "metadata": {},
     "output_type": "execute_result"
    }
   ],
   "source": [
    "train_data['CabinSideCode'] = le.fit_transform(train_data['CabinSide'])\n",
    "test_data['CabinSideCode'] = le.fit_transform(test_data['CabinSide'])\n",
    "train_data['CabinSideCode'].value_counts()"
   ]
  },
  {
   "cell_type": "code",
   "execution_count": 28,
   "id": "91f256c1",
   "metadata": {
    "execution": {
     "iopub.execute_input": "2023-03-27T13:38:32.827585Z",
     "iopub.status.busy": "2023-03-27T13:38:32.827167Z",
     "iopub.status.idle": "2023-03-27T13:38:32.860204Z",
     "shell.execute_reply": "2023-03-27T13:38:32.858784Z"
    },
    "papermill": {
     "duration": 0.056909,
     "end_time": "2023-03-27T13:38:32.863182",
     "exception": false,
     "start_time": "2023-03-27T13:38:32.806273",
     "status": "completed"
    },
    "tags": []
   },
   "outputs": [
    {
     "data": {
      "text/html": [
       "<div>\n",
       "<style scoped>\n",
       "    .dataframe tbody tr th:only-of-type {\n",
       "        vertical-align: middle;\n",
       "    }\n",
       "\n",
       "    .dataframe tbody tr th {\n",
       "        vertical-align: top;\n",
       "    }\n",
       "\n",
       "    .dataframe thead th {\n",
       "        text-align: right;\n",
       "    }\n",
       "</style>\n",
       "<table border=\"1\" class=\"dataframe\">\n",
       "  <thead>\n",
       "    <tr style=\"text-align: right;\">\n",
       "      <th></th>\n",
       "      <th>PassengerId</th>\n",
       "      <th>HomePlanet</th>\n",
       "      <th>CryoSleep</th>\n",
       "      <th>Cabin</th>\n",
       "      <th>Destination</th>\n",
       "      <th>Age</th>\n",
       "      <th>VIP</th>\n",
       "      <th>RoomService</th>\n",
       "      <th>FoodCourt</th>\n",
       "      <th>ShoppingMall</th>\n",
       "      <th>...</th>\n",
       "      <th>VRDeck</th>\n",
       "      <th>Name</th>\n",
       "      <th>HomePlanetCode</th>\n",
       "      <th>DestinationCode</th>\n",
       "      <th>CryoSleepCode</th>\n",
       "      <th>CabinDeck</th>\n",
       "      <th>CabinNum</th>\n",
       "      <th>CabinSide</th>\n",
       "      <th>CabinDeckCode</th>\n",
       "      <th>CabinSideCode</th>\n",
       "    </tr>\n",
       "  </thead>\n",
       "  <tbody>\n",
       "    <tr>\n",
       "      <th>0</th>\n",
       "      <td>0013_01</td>\n",
       "      <td>Earth</td>\n",
       "      <td>True</td>\n",
       "      <td>G/3/S</td>\n",
       "      <td>TRAPPIST-1e</td>\n",
       "      <td>27.0</td>\n",
       "      <td>False</td>\n",
       "      <td>0.0</td>\n",
       "      <td>0.0</td>\n",
       "      <td>0.0</td>\n",
       "      <td>...</td>\n",
       "      <td>0.0</td>\n",
       "      <td>Nelly Carsoning</td>\n",
       "      <td>0</td>\n",
       "      <td>2</td>\n",
       "      <td>1</td>\n",
       "      <td>G</td>\n",
       "      <td>3</td>\n",
       "      <td>S</td>\n",
       "      <td>6</td>\n",
       "      <td>1</td>\n",
       "    </tr>\n",
       "    <tr>\n",
       "      <th>1</th>\n",
       "      <td>0018_01</td>\n",
       "      <td>Earth</td>\n",
       "      <td>False</td>\n",
       "      <td>F/4/S</td>\n",
       "      <td>TRAPPIST-1e</td>\n",
       "      <td>19.0</td>\n",
       "      <td>False</td>\n",
       "      <td>0.0</td>\n",
       "      <td>9.0</td>\n",
       "      <td>0.0</td>\n",
       "      <td>...</td>\n",
       "      <td>0.0</td>\n",
       "      <td>Lerome Peckers</td>\n",
       "      <td>0</td>\n",
       "      <td>2</td>\n",
       "      <td>0</td>\n",
       "      <td>F</td>\n",
       "      <td>4</td>\n",
       "      <td>S</td>\n",
       "      <td>5</td>\n",
       "      <td>1</td>\n",
       "    </tr>\n",
       "    <tr>\n",
       "      <th>2</th>\n",
       "      <td>0019_01</td>\n",
       "      <td>Europa</td>\n",
       "      <td>True</td>\n",
       "      <td>C/0/S</td>\n",
       "      <td>55 Cancri e</td>\n",
       "      <td>31.0</td>\n",
       "      <td>False</td>\n",
       "      <td>0.0</td>\n",
       "      <td>0.0</td>\n",
       "      <td>0.0</td>\n",
       "      <td>...</td>\n",
       "      <td>0.0</td>\n",
       "      <td>Sabih Unhearfus</td>\n",
       "      <td>1</td>\n",
       "      <td>0</td>\n",
       "      <td>1</td>\n",
       "      <td>C</td>\n",
       "      <td>0</td>\n",
       "      <td>S</td>\n",
       "      <td>2</td>\n",
       "      <td>1</td>\n",
       "    </tr>\n",
       "    <tr>\n",
       "      <th>3</th>\n",
       "      <td>0021_01</td>\n",
       "      <td>Europa</td>\n",
       "      <td>False</td>\n",
       "      <td>C/1/S</td>\n",
       "      <td>TRAPPIST-1e</td>\n",
       "      <td>38.0</td>\n",
       "      <td>False</td>\n",
       "      <td>0.0</td>\n",
       "      <td>6652.0</td>\n",
       "      <td>0.0</td>\n",
       "      <td>...</td>\n",
       "      <td>585.0</td>\n",
       "      <td>Meratz Caltilter</td>\n",
       "      <td>1</td>\n",
       "      <td>2</td>\n",
       "      <td>0</td>\n",
       "      <td>C</td>\n",
       "      <td>1</td>\n",
       "      <td>S</td>\n",
       "      <td>2</td>\n",
       "      <td>1</td>\n",
       "    </tr>\n",
       "    <tr>\n",
       "      <th>4</th>\n",
       "      <td>0023_01</td>\n",
       "      <td>Earth</td>\n",
       "      <td>False</td>\n",
       "      <td>F/5/S</td>\n",
       "      <td>TRAPPIST-1e</td>\n",
       "      <td>20.0</td>\n",
       "      <td>False</td>\n",
       "      <td>10.0</td>\n",
       "      <td>0.0</td>\n",
       "      <td>635.0</td>\n",
       "      <td>...</td>\n",
       "      <td>0.0</td>\n",
       "      <td>Brence Harperez</td>\n",
       "      <td>0</td>\n",
       "      <td>2</td>\n",
       "      <td>0</td>\n",
       "      <td>F</td>\n",
       "      <td>5</td>\n",
       "      <td>S</td>\n",
       "      <td>5</td>\n",
       "      <td>1</td>\n",
       "    </tr>\n",
       "  </tbody>\n",
       "</table>\n",
       "<p>5 rows × 21 columns</p>\n",
       "</div>"
      ],
      "text/plain": [
       "  PassengerId HomePlanet CryoSleep  Cabin  Destination   Age    VIP  \\\n",
       "0     0013_01      Earth      True  G/3/S  TRAPPIST-1e  27.0  False   \n",
       "1     0018_01      Earth     False  F/4/S  TRAPPIST-1e  19.0  False   \n",
       "2     0019_01     Europa      True  C/0/S  55 Cancri e  31.0  False   \n",
       "3     0021_01     Europa     False  C/1/S  TRAPPIST-1e  38.0  False   \n",
       "4     0023_01      Earth     False  F/5/S  TRAPPIST-1e  20.0  False   \n",
       "\n",
       "   RoomService  FoodCourt  ShoppingMall  ...  VRDeck              Name  \\\n",
       "0          0.0        0.0           0.0  ...     0.0   Nelly Carsoning   \n",
       "1          0.0        9.0           0.0  ...     0.0    Lerome Peckers   \n",
       "2          0.0        0.0           0.0  ...     0.0   Sabih Unhearfus   \n",
       "3          0.0     6652.0           0.0  ...   585.0  Meratz Caltilter   \n",
       "4         10.0        0.0         635.0  ...     0.0   Brence Harperez   \n",
       "\n",
       "  HomePlanetCode  DestinationCode  CryoSleepCode  CabinDeck CabinNum  \\\n",
       "0              0                2              1          G        3   \n",
       "1              0                2              0          F        4   \n",
       "2              1                0              1          C        0   \n",
       "3              1                2              0          C        1   \n",
       "4              0                2              0          F        5   \n",
       "\n",
       "  CabinSide CabinDeckCode  CabinSideCode  \n",
       "0         S             6              1  \n",
       "1         S             5              1  \n",
       "2         S             2              1  \n",
       "3         S             2              1  \n",
       "4         S             5              1  \n",
       "\n",
       "[5 rows x 21 columns]"
      ]
     },
     "execution_count": 28,
     "metadata": {},
     "output_type": "execute_result"
    }
   ],
   "source": [
    "train_data['TransportedCode'] = le.fit_transform(train_data['Transported'])\n",
    "train_data.head()\n",
    "test_data.head()"
   ]
  },
  {
   "cell_type": "code",
   "execution_count": 29,
   "id": "d732439f",
   "metadata": {
    "execution": {
     "iopub.execute_input": "2023-03-27T13:38:32.905081Z",
     "iopub.status.busy": "2023-03-27T13:38:32.904640Z",
     "iopub.status.idle": "2023-03-27T13:38:32.920007Z",
     "shell.execute_reply": "2023-03-27T13:38:32.918672Z"
    },
    "papermill": {
     "duration": 0.039137,
     "end_time": "2023-03-27T13:38:32.922542",
     "exception": false,
     "start_time": "2023-03-27T13:38:32.883405",
     "status": "completed"
    },
    "tags": []
   },
   "outputs": [
    {
     "data": {
      "text/plain": [
       "0    8291\n",
       "2     203\n",
       "1     199\n",
       "Name: VIPCode, dtype: int64"
      ]
     },
     "execution_count": 29,
     "metadata": {},
     "output_type": "execute_result"
    }
   ],
   "source": [
    "train_data['VIPCode'] = le.fit_transform(train_data['VIP'])\n",
    "test_data['VIPCode'] = le.fit_transform(test_data['VIP'])\n",
    "train_data['VIPCode'].value_counts()"
   ]
  },
  {
   "cell_type": "code",
   "execution_count": 30,
   "id": "821079e3",
   "metadata": {
    "execution": {
     "iopub.execute_input": "2023-03-27T13:38:32.964511Z",
     "iopub.status.busy": "2023-03-27T13:38:32.963631Z",
     "iopub.status.idle": "2023-03-27T13:38:32.975253Z",
     "shell.execute_reply": "2023-03-27T13:38:32.974098Z"
    },
    "papermill": {
     "duration": 0.035579,
     "end_time": "2023-03-27T13:38:32.977806",
     "exception": false,
     "start_time": "2023-03-27T13:38:32.942227",
     "status": "completed"
    },
    "tags": []
   },
   "outputs": [
    {
     "data": {
      "text/plain": [
       "0"
      ]
     },
     "execution_count": 30,
     "metadata": {},
     "output_type": "execute_result"
    }
   ],
   "source": [
    "train_data.Age.fillna(train_data.Age.mean(), inplace=True)\n",
    "test_data.Age.fillna(test_data.Age.mean(), inplace=True)\n",
    "train_data.Age.isna().sum()\n",
    "test_data.Age.isna().sum()"
   ]
  },
  {
   "cell_type": "code",
   "execution_count": 31,
   "id": "e13f975d",
   "metadata": {
    "execution": {
     "iopub.execute_input": "2023-03-27T13:38:33.021264Z",
     "iopub.status.busy": "2023-03-27T13:38:33.020784Z",
     "iopub.status.idle": "2023-03-27T13:38:33.676122Z",
     "shell.execute_reply": "2023-03-27T13:38:33.674605Z"
    },
    "papermill": {
     "duration": 0.68067,
     "end_time": "2023-03-27T13:38:33.678762",
     "exception": false,
     "start_time": "2023-03-27T13:38:32.998092",
     "status": "completed"
    },
    "tags": []
   },
   "outputs": [
    {
     "data": {
      "text/plain": [
       "<AxesSubplot:>"
      ]
     },
     "execution_count": 31,
     "metadata": {},
     "output_type": "execute_result"
    },
    {
     "data": {
      "image/png": "[encoded data removed]",
      "text/plain": [
       "<Figure size 640x480 with 2 Axes>"
      ]
     },
     "metadata": {},
     "output_type": "display_data"
    }
   ],
   "source": [
    "sns.heatmap(data=train_data[['Age','HomePlanetCode','DestinationCode','CryoSleepCode','CabinDeckCode','CabinSideCode','TransportedCode']].corr(), annot=True)"
   ]
  },
  {
   "cell_type": "code",
   "execution_count": 32,
   "id": "91c8ed8c",
   "metadata": {
    "execution": {
     "iopub.execute_input": "2023-03-27T13:38:33.723712Z",
     "iopub.status.busy": "2023-03-27T13:38:33.723277Z",
     "iopub.status.idle": "2023-03-27T13:38:34.082034Z",
     "shell.execute_reply": "2023-03-27T13:38:34.080630Z"
    },
    "papermill": {
     "duration": 0.384565,
     "end_time": "2023-03-27T13:38:34.084811",
     "exception": false,
     "start_time": "2023-03-27T13:38:33.700246",
     "status": "completed"
    },
    "tags": []
   },
   "outputs": [
    {
     "data": {
      "text/plain": [
       "<AxesSubplot:>"
      ]
     },
     "execution_count": 32,
     "metadata": {},
     "output_type": "execute_result"
    },
    {
     "data": {
      "image/png": "[encoded data removed]",
      "text/plain": [
       "<Figure size 1200x600 with 1 Axes>"
      ]
     },
     "metadata": {},
     "output_type": "display_data"
    }
   ],
   "source": [
    "plt.figure(figsize=(12,6))\n",
    "sns.boxplot(data=train_data[['HomePlanetCode','DestinationCode','CryoSleepCode','CabinDeckCode','CabinSideCode','VIPCode','Age']])"
   ]
  },
  {
   "cell_type": "code",
   "execution_count": 33,
   "id": "5d6f4e1f",
   "metadata": {
    "execution": {
     "iopub.execute_input": "2023-03-27T13:38:34.132942Z",
     "iopub.status.busy": "2023-03-27T13:38:34.131735Z",
     "iopub.status.idle": "2023-03-27T13:38:34.352458Z",
     "shell.execute_reply": "2023-03-27T13:38:34.351064Z"
    },
    "papermill": {
     "duration": 0.248387,
     "end_time": "2023-03-27T13:38:34.355282",
     "exception": false,
     "start_time": "2023-03-27T13:38:34.106895",
     "status": "completed"
    },
    "tags": []
   },
   "outputs": [
    {
     "data": {
      "text/plain": [
       "<AxesSubplot:>"
      ]
     },
     "execution_count": 33,
     "metadata": {},
     "output_type": "execute_result"
    },
    {
     "data": {
      "image/png": "[encoded data removed]",
      "text/plain": [
       "<Figure size 640x480 with 1 Axes>"
      ]
     },
     "metadata": {},
     "output_type": "display_data"
    }
   ],
   "source": [
    "sns.boxplot(data=train_data['Age'])"
   ]
  },
  {
   "cell_type": "code",
   "execution_count": 34,
   "id": "7332f02f",
   "metadata": {
    "execution": {
     "iopub.execute_input": "2023-03-27T13:38:34.401330Z",
     "iopub.status.busy": "2023-03-27T13:38:34.400866Z",
     "iopub.status.idle": "2023-03-27T13:38:34.411427Z",
     "shell.execute_reply": "2023-03-27T13:38:34.409898Z"
    },
    "papermill": {
     "duration": 0.036773,
     "end_time": "2023-03-27T13:38:34.414090",
     "exception": false,
     "start_time": "2023-03-27T13:38:34.377317",
     "status": "completed"
    },
    "tags": []
   },
   "outputs": [
    {
     "data": {
      "text/plain": [
       "Earth     4602\n",
       "Europa    2131\n",
       "Mars      1759\n",
       "Name: HomePlanet, dtype: int64"
      ]
     },
     "execution_count": 34,
     "metadata": {},
     "output_type": "execute_result"
    }
   ],
   "source": [
    "train_data['HomePlanet'].value_counts()"
   ]
  },
  {
   "cell_type": "code",
   "execution_count": 35,
   "id": "227d0778",
   "metadata": {
    "execution": {
     "iopub.execute_input": "2023-03-27T13:38:34.462199Z",
     "iopub.status.busy": "2023-03-27T13:38:34.460844Z",
     "iopub.status.idle": "2023-03-27T13:38:34.705196Z",
     "shell.execute_reply": "2023-03-27T13:38:34.703457Z"
    },
    "papermill": {
     "duration": 0.272818,
     "end_time": "2023-03-27T13:38:34.709180",
     "exception": false,
     "start_time": "2023-03-27T13:38:34.436362",
     "status": "completed"
    },
    "tags": []
   },
   "outputs": [
    {
     "data": {
      "text/html": [
       "<div>\n",
       "<style scoped>\n",
       "    .dataframe tbody tr th:only-of-type {\n",
       "        vertical-align: middle;\n",
       "    }\n",
       "\n",
       "    .dataframe tbody tr th {\n",
       "        vertical-align: top;\n",
       "    }\n",
       "\n",
       "    .dataframe thead th {\n",
       "        text-align: right;\n",
       "    }\n",
       "</style>\n",
       "<table border=\"1\" class=\"dataframe\">\n",
       "  <thead>\n",
       "    <tr style=\"text-align: right;\">\n",
       "      <th></th>\n",
       "      <th>PassengerId</th>\n",
       "      <th>HomePlanet</th>\n",
       "      <th>CryoSleep</th>\n",
       "      <th>Cabin</th>\n",
       "      <th>Destination</th>\n",
       "      <th>Age</th>\n",
       "      <th>VIP</th>\n",
       "      <th>RoomService</th>\n",
       "      <th>FoodCourt</th>\n",
       "      <th>ShoppingMall</th>\n",
       "      <th>...</th>\n",
       "      <th>DestinationCode</th>\n",
       "      <th>CryoSleepCode</th>\n",
       "      <th>CabinDeck</th>\n",
       "      <th>CabinNum</th>\n",
       "      <th>CabinSide</th>\n",
       "      <th>CabinDeckCode</th>\n",
       "      <th>CabinSideCode</th>\n",
       "      <th>VIPCode</th>\n",
       "      <th>PassengerGroup</th>\n",
       "      <th>PassengerNum</th>\n",
       "    </tr>\n",
       "  </thead>\n",
       "  <tbody>\n",
       "    <tr>\n",
       "      <th>0</th>\n",
       "      <td>0013_01</td>\n",
       "      <td>Earth</td>\n",
       "      <td>True</td>\n",
       "      <td>G/3/S</td>\n",
       "      <td>TRAPPIST-1e</td>\n",
       "      <td>27.0</td>\n",
       "      <td>False</td>\n",
       "      <td>0.0</td>\n",
       "      <td>0.0</td>\n",
       "      <td>0.0</td>\n",
       "      <td>...</td>\n",
       "      <td>2</td>\n",
       "      <td>1</td>\n",
       "      <td>G</td>\n",
       "      <td>3</td>\n",
       "      <td>S</td>\n",
       "      <td>6</td>\n",
       "      <td>1</td>\n",
       "      <td>0</td>\n",
       "      <td>0013</td>\n",
       "      <td>01</td>\n",
       "    </tr>\n",
       "    <tr>\n",
       "      <th>1</th>\n",
       "      <td>0018_01</td>\n",
       "      <td>Earth</td>\n",
       "      <td>False</td>\n",
       "      <td>F/4/S</td>\n",
       "      <td>TRAPPIST-1e</td>\n",
       "      <td>19.0</td>\n",
       "      <td>False</td>\n",
       "      <td>0.0</td>\n",
       "      <td>9.0</td>\n",
       "      <td>0.0</td>\n",
       "      <td>...</td>\n",
       "      <td>2</td>\n",
       "      <td>0</td>\n",
       "      <td>F</td>\n",
       "      <td>4</td>\n",
       "      <td>S</td>\n",
       "      <td>5</td>\n",
       "      <td>1</td>\n",
       "      <td>0</td>\n",
       "      <td>0018</td>\n",
       "      <td>01</td>\n",
       "    </tr>\n",
       "    <tr>\n",
       "      <th>2</th>\n",
       "      <td>0019_01</td>\n",
       "      <td>Europa</td>\n",
       "      <td>True</td>\n",
       "      <td>C/0/S</td>\n",
       "      <td>55 Cancri e</td>\n",
       "      <td>31.0</td>\n",
       "      <td>False</td>\n",
       "      <td>0.0</td>\n",
       "      <td>0.0</td>\n",
       "      <td>0.0</td>\n",
       "      <td>...</td>\n",
       "      <td>0</td>\n",
       "      <td>1</td>\n",
       "      <td>C</td>\n",
       "      <td>0</td>\n",
       "      <td>S</td>\n",
       "      <td>2</td>\n",
       "      <td>1</td>\n",
       "      <td>0</td>\n",
       "      <td>0019</td>\n",
       "      <td>01</td>\n",
       "    </tr>\n",
       "    <tr>\n",
       "      <th>3</th>\n",
       "      <td>0021_01</td>\n",
       "      <td>Europa</td>\n",
       "      <td>False</td>\n",
       "      <td>C/1/S</td>\n",
       "      <td>TRAPPIST-1e</td>\n",
       "      <td>38.0</td>\n",
       "      <td>False</td>\n",
       "      <td>0.0</td>\n",
       "      <td>6652.0</td>\n",
       "      <td>0.0</td>\n",
       "      <td>...</td>\n",
       "      <td>2</td>\n",
       "      <td>0</td>\n",
       "      <td>C</td>\n",
       "      <td>1</td>\n",
       "      <td>S</td>\n",
       "      <td>2</td>\n",
       "      <td>1</td>\n",
       "      <td>0</td>\n",
       "      <td>0021</td>\n",
       "      <td>01</td>\n",
       "    </tr>\n",
       "    <tr>\n",
       "      <th>4</th>\n",
       "      <td>0023_01</td>\n",
       "      <td>Earth</td>\n",
       "      <td>False</td>\n",
       "      <td>F/5/S</td>\n",
       "      <td>TRAPPIST-1e</td>\n",
       "      <td>20.0</td>\n",
       "      <td>False</td>\n",
       "      <td>10.0</td>\n",
       "      <td>0.0</td>\n",
       "      <td>635.0</td>\n",
       "      <td>...</td>\n",
       "      <td>2</td>\n",
       "      <td>0</td>\n",
       "      <td>F</td>\n",
       "      <td>5</td>\n",
       "      <td>S</td>\n",
       "      <td>5</td>\n",
       "      <td>1</td>\n",
       "      <td>0</td>\n",
       "      <td>0023</td>\n",
       "      <td>01</td>\n",
       "    </tr>\n",
       "  </tbody>\n",
       "</table>\n",
       "<p>5 rows × 24 columns</p>\n",
       "</div>"
      ],
      "text/plain": [
       "  PassengerId HomePlanet CryoSleep  Cabin  Destination   Age    VIP  \\\n",
       "0     0013_01      Earth      True  G/3/S  TRAPPIST-1e  27.0  False   \n",
       "1     0018_01      Earth     False  F/4/S  TRAPPIST-1e  19.0  False   \n",
       "2     0019_01     Europa      True  C/0/S  55 Cancri e  31.0  False   \n",
       "3     0021_01     Europa     False  C/1/S  TRAPPIST-1e  38.0  False   \n",
       "4     0023_01      Earth     False  F/5/S  TRAPPIST-1e  20.0  False   \n",
       "\n",
       "   RoomService  FoodCourt  ShoppingMall  ...  DestinationCode  CryoSleepCode  \\\n",
       "0          0.0        0.0           0.0  ...                2              1   \n",
       "1          0.0        9.0           0.0  ...                2              0   \n",
       "2          0.0        0.0           0.0  ...                0              1   \n",
       "3          0.0     6652.0           0.0  ...                2              0   \n",
       "4         10.0        0.0         635.0  ...                2              0   \n",
       "\n",
       "  CabinDeck  CabinNum  CabinSide  CabinDeckCode CabinSideCode VIPCode  \\\n",
       "0         G         3          S              6             1       0   \n",
       "1         F         4          S              5             1       0   \n",
       "2         C         0          S              2             1       0   \n",
       "3         C         1          S              2             1       0   \n",
       "4         F         5          S              5             1       0   \n",
       "\n",
       "  PassengerGroup  PassengerNum  \n",
       "0           0013            01  \n",
       "1           0018            01  \n",
       "2           0019            01  \n",
       "3           0021            01  \n",
       "4           0023            01  \n",
       "\n",
       "[5 rows x 24 columns]"
      ]
     },
     "execution_count": 35,
     "metadata": {},
     "output_type": "execute_result"
    }
   ],
   "source": [
    "train_data[['PassengerGroup','PassengerNum']] = train_data['PassengerId'].str.split('_', expand = True)\n",
    "test_data[['PassengerGroup','PassengerNum']] = test_data['PassengerId'].str.split('_', expand = True)\n",
    "train_data.head()\n",
    "test_data.head()"
   ]
  },
  {
   "cell_type": "code",
   "execution_count": 36,
   "id": "0d64ee1a",
   "metadata": {
    "execution": {
     "iopub.execute_input": "2023-03-27T13:38:34.758861Z",
     "iopub.status.busy": "2023-03-27T13:38:34.757852Z",
     "iopub.status.idle": "2023-03-27T13:38:34.794891Z",
     "shell.execute_reply": "2023-03-27T13:38:34.793114Z"
    },
    "papermill": {
     "duration": 0.065665,
     "end_time": "2023-03-27T13:38:34.798524",
     "exception": false,
     "start_time": "2023-03-27T13:38:34.732859",
     "status": "completed"
    },
    "tags": []
   },
   "outputs": [],
   "source": [
    "train_data[['PassengerGroup','PassengerNum']] = train_data[['PassengerGroup','PassengerNum']].apply(pd.to_numeric)\n",
    "test_data[['PassengerGroup','PassengerNum']] = test_data[['PassengerGroup','PassengerNum']].apply(pd.to_numeric)"
   ]
  },
  {
   "cell_type": "code",
   "execution_count": 37,
   "id": "46c49c54",
   "metadata": {
    "execution": {
     "iopub.execute_input": "2023-03-27T13:38:34.847897Z",
     "iopub.status.busy": "2023-03-27T13:38:34.847440Z",
     "iopub.status.idle": "2023-03-27T13:38:34.870122Z",
     "shell.execute_reply": "2023-03-27T13:38:34.868263Z"
    },
    "papermill": {
     "duration": 0.05183,
     "end_time": "2023-03-27T13:38:34.873257",
     "exception": false,
     "start_time": "2023-03-27T13:38:34.821427",
     "status": "completed"
    },
    "tags": []
   },
   "outputs": [
    {
     "name": "stdout",
     "output_type": "stream",
     "text": [
      "<class 'pandas.core.frame.DataFrame'>\n",
      "RangeIndex: 8693 entries, 0 to 8692\n",
      "Data columns (total 26 columns):\n",
      " #   Column           Non-Null Count  Dtype  \n",
      "---  ------           --------------  -----  \n",
      " 0   PassengerId      8693 non-null   object \n",
      " 1   HomePlanet       8492 non-null   object \n",
      " 2   CryoSleep        8476 non-null   object \n",
      " 3   Cabin            8494 non-null   object \n",
      " 4   Destination      8511 non-null   object \n",
      " 5   Age              8693 non-null   float64\n",
      " 6   VIP              8490 non-null   object \n",
      " 7   RoomService      8693 non-null   float64\n",
      " 8   FoodCourt        8693 non-null   float64\n",
      " 9   ShoppingMall     8693 non-null   float64\n",
      " 10  Spa              8693 non-null   float64\n",
      " 11  VRDeck           8693 non-null   float64\n",
      " 12  Name             8493 non-null   object \n",
      " 13  Transported      8693 non-null   bool   \n",
      " 14  HomePlanetCode   8693 non-null   int64  \n",
      " 15  DestinationCode  8693 non-null   int64  \n",
      " 16  CryoSleepCode    8693 non-null   int64  \n",
      " 17  CabinDeck        8494 non-null   object \n",
      " 18  CabinNum         8494 non-null   object \n",
      " 19  CabinSide        8494 non-null   object \n",
      " 20  CabinDeckCode    8693 non-null   int64  \n",
      " 21  CabinSideCode    8693 non-null   int64  \n",
      " 22  TransportedCode  8693 non-null   int64  \n",
      " 23  VIPCode          8693 non-null   int64  \n",
      " 24  PassengerGroup   8693 non-null   int64  \n",
      " 25  PassengerNum     8693 non-null   int64  \n",
      "dtypes: bool(1), float64(6), int64(9), object(10)\n",
      "memory usage: 1.7+ MB\n"
     ]
    }
   ],
   "source": [
    "train_data.info()"
   ]
  },
  {
   "cell_type": "code",
   "execution_count": 38,
   "id": "17bc8830",
   "metadata": {
    "execution": {
     "iopub.execute_input": "2023-03-27T13:38:34.922021Z",
     "iopub.status.busy": "2023-03-27T13:38:34.921018Z",
     "iopub.status.idle": "2023-03-27T13:38:35.067974Z",
     "shell.execute_reply": "2023-03-27T13:38:35.065882Z"
    },
    "papermill": {
     "duration": 0.17676,
     "end_time": "2023-03-27T13:38:35.073186",
     "exception": false,
     "start_time": "2023-03-27T13:38:34.896426",
     "status": "completed"
    },
    "tags": []
   },
   "outputs": [
    {
     "data": {
      "text/plain": [
       "<AxesSubplot:xlabel='PassengerGroup'>"
      ]
     },
     "execution_count": 38,
     "metadata": {},
     "output_type": "execute_result"
    },
    {
     "data": {
      "image/png": "[encoded data removed]",
      "text/plain": [
       "<Figure size 640x480 with 1 Axes>"
      ]
     },
     "metadata": {},
     "output_type": "display_data"
    }
   ],
   "source": [
    "sns.boxplot(data=train_data, x='PassengerGroup')"
   ]
  },
  {
   "cell_type": "code",
   "execution_count": 39,
   "id": "c4638cf9",
   "metadata": {
    "execution": {
     "iopub.execute_input": "2023-03-27T13:38:35.126476Z",
     "iopub.status.busy": "2023-03-27T13:38:35.125633Z",
     "iopub.status.idle": "2023-03-27T13:38:35.538299Z",
     "shell.execute_reply": "2023-03-27T13:38:35.536912Z"
    },
    "papermill": {
     "duration": 0.440729,
     "end_time": "2023-03-27T13:38:35.541104",
     "exception": false,
     "start_time": "2023-03-27T13:38:35.100375",
     "status": "completed"
    },
    "tags": []
   },
   "outputs": [
    {
     "data": {
      "text/plain": [
       "<AxesSubplot:xlabel='PassengerNum', ylabel='Count'>"
      ]
     },
     "execution_count": 39,
     "metadata": {},
     "output_type": "execute_result"
    },
    {
     "data": {
      "image/png": "[encoded data removed]",
      "text/plain": [
       "<Figure size 640x480 with 1 Axes>"
      ]
     },
     "metadata": {},
     "output_type": "display_data"
    }
   ],
   "source": [
    "sns.histplot(data=train_data, x='PassengerNum')"
   ]
  },
  {
   "cell_type": "code",
   "execution_count": 40,
   "id": "d42ea14a",
   "metadata": {
    "execution": {
     "iopub.execute_input": "2023-03-27T13:38:35.590715Z",
     "iopub.status.busy": "2023-03-27T13:38:35.589809Z",
     "iopub.status.idle": "2023-03-27T13:38:35.620332Z",
     "shell.execute_reply": "2023-03-27T13:38:35.619052Z"
    },
    "papermill": {
     "duration": 0.058733,
     "end_time": "2023-03-27T13:38:35.623196",
     "exception": false,
     "start_time": "2023-03-27T13:38:35.564463",
     "status": "completed"
    },
    "tags": []
   },
   "outputs": [
    {
     "data": {
      "text/html": [
       "<div>\n",
       "<style scoped>\n",
       "    .dataframe tbody tr th:only-of-type {\n",
       "        vertical-align: middle;\n",
       "    }\n",
       "\n",
       "    .dataframe tbody tr th {\n",
       "        vertical-align: top;\n",
       "    }\n",
       "\n",
       "    .dataframe thead th {\n",
       "        text-align: right;\n",
       "    }\n",
       "</style>\n",
       "<table border=\"1\" class=\"dataframe\">\n",
       "  <thead>\n",
       "    <tr style=\"text-align: right;\">\n",
       "      <th></th>\n",
       "      <th>PassengerId</th>\n",
       "      <th>HomePlanet</th>\n",
       "      <th>CryoSleep</th>\n",
       "      <th>Cabin</th>\n",
       "      <th>Destination</th>\n",
       "      <th>Age</th>\n",
       "      <th>VIP</th>\n",
       "      <th>RoomService</th>\n",
       "      <th>FoodCourt</th>\n",
       "      <th>ShoppingMall</th>\n",
       "      <th>...</th>\n",
       "      <th>CryoSleepCode</th>\n",
       "      <th>CabinDeck</th>\n",
       "      <th>CabinNum</th>\n",
       "      <th>CabinSide</th>\n",
       "      <th>CabinDeckCode</th>\n",
       "      <th>CabinSideCode</th>\n",
       "      <th>TransportedCode</th>\n",
       "      <th>VIPCode</th>\n",
       "      <th>PassengerGroup</th>\n",
       "      <th>PassengerNum</th>\n",
       "    </tr>\n",
       "  </thead>\n",
       "  <tbody>\n",
       "    <tr>\n",
       "      <th>0</th>\n",
       "      <td>0001_01</td>\n",
       "      <td>Europa</td>\n",
       "      <td>False</td>\n",
       "      <td>B/0/P</td>\n",
       "      <td>TRAPPIST-1e</td>\n",
       "      <td>39.0</td>\n",
       "      <td>False</td>\n",
       "      <td>0.0</td>\n",
       "      <td>0.0</td>\n",
       "      <td>0.0</td>\n",
       "      <td>...</td>\n",
       "      <td>0</td>\n",
       "      <td>B</td>\n",
       "      <td>0</td>\n",
       "      <td>P</td>\n",
       "      <td>1</td>\n",
       "      <td>0</td>\n",
       "      <td>0</td>\n",
       "      <td>0</td>\n",
       "      <td>1</td>\n",
       "      <td>1</td>\n",
       "    </tr>\n",
       "    <tr>\n",
       "      <th>1</th>\n",
       "      <td>0002_01</td>\n",
       "      <td>Earth</td>\n",
       "      <td>False</td>\n",
       "      <td>F/0/S</td>\n",
       "      <td>TRAPPIST-1e</td>\n",
       "      <td>24.0</td>\n",
       "      <td>False</td>\n",
       "      <td>109.0</td>\n",
       "      <td>9.0</td>\n",
       "      <td>25.0</td>\n",
       "      <td>...</td>\n",
       "      <td>0</td>\n",
       "      <td>F</td>\n",
       "      <td>0</td>\n",
       "      <td>S</td>\n",
       "      <td>5</td>\n",
       "      <td>1</td>\n",
       "      <td>1</td>\n",
       "      <td>0</td>\n",
       "      <td>2</td>\n",
       "      <td>1</td>\n",
       "    </tr>\n",
       "    <tr>\n",
       "      <th>2</th>\n",
       "      <td>0003_01</td>\n",
       "      <td>Europa</td>\n",
       "      <td>False</td>\n",
       "      <td>A/0/S</td>\n",
       "      <td>TRAPPIST-1e</td>\n",
       "      <td>58.0</td>\n",
       "      <td>True</td>\n",
       "      <td>43.0</td>\n",
       "      <td>3576.0</td>\n",
       "      <td>0.0</td>\n",
       "      <td>...</td>\n",
       "      <td>0</td>\n",
       "      <td>A</td>\n",
       "      <td>0</td>\n",
       "      <td>S</td>\n",
       "      <td>0</td>\n",
       "      <td>1</td>\n",
       "      <td>0</td>\n",
       "      <td>1</td>\n",
       "      <td>3</td>\n",
       "      <td>1</td>\n",
       "    </tr>\n",
       "    <tr>\n",
       "      <th>3</th>\n",
       "      <td>0003_02</td>\n",
       "      <td>Europa</td>\n",
       "      <td>False</td>\n",
       "      <td>A/0/S</td>\n",
       "      <td>TRAPPIST-1e</td>\n",
       "      <td>33.0</td>\n",
       "      <td>False</td>\n",
       "      <td>0.0</td>\n",
       "      <td>1283.0</td>\n",
       "      <td>371.0</td>\n",
       "      <td>...</td>\n",
       "      <td>0</td>\n",
       "      <td>A</td>\n",
       "      <td>0</td>\n",
       "      <td>S</td>\n",
       "      <td>0</td>\n",
       "      <td>1</td>\n",
       "      <td>0</td>\n",
       "      <td>0</td>\n",
       "      <td>3</td>\n",
       "      <td>2</td>\n",
       "    </tr>\n",
       "    <tr>\n",
       "      <th>4</th>\n",
       "      <td>0004_01</td>\n",
       "      <td>Earth</td>\n",
       "      <td>False</td>\n",
       "      <td>F/1/S</td>\n",
       "      <td>TRAPPIST-1e</td>\n",
       "      <td>16.0</td>\n",
       "      <td>False</td>\n",
       "      <td>303.0</td>\n",
       "      <td>70.0</td>\n",
       "      <td>151.0</td>\n",
       "      <td>...</td>\n",
       "      <td>0</td>\n",
       "      <td>F</td>\n",
       "      <td>1</td>\n",
       "      <td>S</td>\n",
       "      <td>5</td>\n",
       "      <td>1</td>\n",
       "      <td>1</td>\n",
       "      <td>0</td>\n",
       "      <td>4</td>\n",
       "      <td>1</td>\n",
       "    </tr>\n",
       "  </tbody>\n",
       "</table>\n",
       "<p>5 rows × 26 columns</p>\n",
       "</div>"
      ],
      "text/plain": [
       "  PassengerId HomePlanet CryoSleep  Cabin  Destination   Age    VIP  \\\n",
       "0     0001_01     Europa     False  B/0/P  TRAPPIST-1e  39.0  False   \n",
       "1     0002_01      Earth     False  F/0/S  TRAPPIST-1e  24.0  False   \n",
       "2     0003_01     Europa     False  A/0/S  TRAPPIST-1e  58.0   True   \n",
       "3     0003_02     Europa     False  A/0/S  TRAPPIST-1e  33.0  False   \n",
       "4     0004_01      Earth     False  F/1/S  TRAPPIST-1e  16.0  False   \n",
       "\n",
       "   RoomService  FoodCourt  ShoppingMall  ...  CryoSleepCode  CabinDeck  \\\n",
       "0          0.0        0.0           0.0  ...              0          B   \n",
       "1        109.0        9.0          25.0  ...              0          F   \n",
       "2         43.0     3576.0           0.0  ...              0          A   \n",
       "3          0.0     1283.0         371.0  ...              0          A   \n",
       "4        303.0       70.0         151.0  ...              0          F   \n",
       "\n",
       "  CabinNum  CabinSide  CabinDeckCode  CabinSideCode  TransportedCode VIPCode  \\\n",
       "0        0          P              1              0                0       0   \n",
       "1        0          S              5              1                1       0   \n",
       "2        0          S              0              1                0       1   \n",
       "3        0          S              0              1                0       0   \n",
       "4        1          S              5              1                1       0   \n",
       "\n",
       "  PassengerGroup PassengerNum  \n",
       "0              1            1  \n",
       "1              2            1  \n",
       "2              3            1  \n",
       "3              3            2  \n",
       "4              4            1  \n",
       "\n",
       "[5 rows x 26 columns]"
      ]
     },
     "execution_count": 40,
     "metadata": {},
     "output_type": "execute_result"
    }
   ],
   "source": [
    "train_data.head()"
   ]
  },
  {
   "cell_type": "code",
   "execution_count": 41,
   "id": "1598f6b5",
   "metadata": {
    "execution": {
     "iopub.execute_input": "2023-03-27T13:38:35.673169Z",
     "iopub.status.busy": "2023-03-27T13:38:35.672690Z",
     "iopub.status.idle": "2023-03-27T13:38:35.682716Z",
     "shell.execute_reply": "2023-03-27T13:38:35.681649Z"
    },
    "papermill": {
     "duration": 0.038957,
     "end_time": "2023-03-27T13:38:35.685641",
     "exception": false,
     "start_time": "2023-03-27T13:38:35.646684",
     "status": "completed"
    },
    "tags": []
   },
   "outputs": [],
   "source": [
    "features = ['HomePlanetCode','DestinationCode','CryoSleepCode','CabinDeckCode','CabinSideCode','VIPCode','Age','PassengerGroup','PassengerNum',\n",
    "            'RoomService','FoodCourt','ShoppingMall','Spa','VRDeck']\n",
    "\n",
    "X = train_data[features]\n",
    "y = train_data['TransportedCode']\n",
    "\n",
    "X_test = test_data[features]"
   ]
  },
  {
   "cell_type": "code",
   "execution_count": 42,
   "id": "fd1a51eb",
   "metadata": {
    "execution": {
     "iopub.execute_input": "2023-03-27T13:38:35.737445Z",
     "iopub.status.busy": "2023-03-27T13:38:35.736108Z",
     "iopub.status.idle": "2023-03-27T13:38:42.491819Z",
     "shell.execute_reply": "2023-03-27T13:38:42.490388Z"
    },
    "papermill": {
     "duration": 6.786658,
     "end_time": "2023-03-27T13:38:42.496070",
     "exception": false,
     "start_time": "2023-03-27T13:38:35.709412",
     "status": "completed"
    },
    "tags": []
   },
   "outputs": [
    {
     "data": {
      "text/plain": [
       "<seaborn.axisgrid.PairGrid at 0x7f80605497d0>"
      ]
     },
     "execution_count": 42,
     "metadata": {},
     "output_type": "execute_result"
    },
    {
     "data": {
      "image/png": "[encoded data removed]",
      "text/plain": [
       "<Figure size 879.611x750 with 12 Axes>"
      ]
     },
     "metadata": {},
     "output_type": "display_data"
    }
   ],
   "source": [
    "sns.pairplot(data=train_data[['Age','PassengerNum','VIPCode','TransportedCode']], hue='TransportedCode')"
   ]
  },
  {
   "cell_type": "code",
   "execution_count": 43,
   "id": "276d49ab",
   "metadata": {
    "execution": {
     "iopub.execute_input": "2023-03-27T13:38:42.552290Z",
     "iopub.status.busy": "2023-03-27T13:38:42.551801Z",
     "iopub.status.idle": "2023-03-27T13:38:42.560346Z",
     "shell.execute_reply": "2023-03-27T13:38:42.558629Z"
    },
    "papermill": {
     "duration": 0.040002,
     "end_time": "2023-03-27T13:38:42.563276",
     "exception": false,
     "start_time": "2023-03-27T13:38:42.523274",
     "status": "completed"
    },
    "tags": []
   },
   "outputs": [
    {
     "data": {
      "text/plain": [
       "(8693, 14)"
      ]
     },
     "execution_count": 43,
     "metadata": {},
     "output_type": "execute_result"
    }
   ],
   "source": [
    "X.shape"
   ]
  },
  {
   "cell_type": "code",
   "execution_count": 44,
   "id": "e43201ba",
   "metadata": {
    "execution": {
     "iopub.execute_input": "2023-03-27T13:38:42.618472Z",
     "iopub.status.busy": "2023-03-27T13:38:42.617582Z",
     "iopub.status.idle": "2023-03-27T13:38:42.625243Z",
     "shell.execute_reply": "2023-03-27T13:38:42.624101Z"
    },
    "papermill": {
     "duration": 0.038002,
     "end_time": "2023-03-27T13:38:42.627660",
     "exception": false,
     "start_time": "2023-03-27T13:38:42.589658",
     "status": "completed"
    },
    "tags": []
   },
   "outputs": [
    {
     "data": {
      "text/plain": [
       "(8693,)"
      ]
     },
     "execution_count": 44,
     "metadata": {},
     "output_type": "execute_result"
    }
   ],
   "source": [
    "y.shape"
   ]
  },
  {
   "cell_type": "code",
   "execution_count": 45,
   "id": "8b50166f",
   "metadata": {
    "execution": {
     "iopub.execute_input": "2023-03-27T13:38:42.683039Z",
     "iopub.status.busy": "2023-03-27T13:38:42.682223Z",
     "iopub.status.idle": "2023-03-27T13:38:42.690888Z",
     "shell.execute_reply": "2023-03-27T13:38:42.689514Z"
    },
    "papermill": {
     "duration": 0.039602,
     "end_time": "2023-03-27T13:38:42.693749",
     "exception": false,
     "start_time": "2023-03-27T13:38:42.654147",
     "status": "completed"
    },
    "tags": []
   },
   "outputs": [
    {
     "data": {
      "text/plain": [
       "0"
      ]
     },
     "execution_count": 45,
     "metadata": {},
     "output_type": "execute_result"
    }
   ],
   "source": [
    "y.isna().sum()"
   ]
  },
  {
   "cell_type": "code",
   "execution_count": 46,
   "id": "5823b0bc",
   "metadata": {
    "execution": {
     "iopub.execute_input": "2023-03-27T13:38:42.749603Z",
     "iopub.status.busy": "2023-03-27T13:38:42.749163Z",
     "iopub.status.idle": "2023-03-27T13:38:42.758438Z",
     "shell.execute_reply": "2023-03-27T13:38:42.757013Z"
    },
    "papermill": {
     "duration": 0.040223,
     "end_time": "2023-03-27T13:38:42.761185",
     "exception": false,
     "start_time": "2023-03-27T13:38:42.720962",
     "status": "completed"
    },
    "tags": []
   },
   "outputs": [
    {
     "data": {
      "text/plain": [
       "1    4378\n",
       "0    4315\n",
       "Name: TransportedCode, dtype: int64"
      ]
     },
     "execution_count": 46,
     "metadata": {},
     "output_type": "execute_result"
    }
   ],
   "source": [
    "y.value_counts()"
   ]
  },
  {
   "cell_type": "code",
   "execution_count": 47,
   "id": "eea70776",
   "metadata": {
    "execution": {
     "iopub.execute_input": "2023-03-27T13:38:42.816631Z",
     "iopub.status.busy": "2023-03-27T13:38:42.816206Z",
     "iopub.status.idle": "2023-03-27T13:38:42.845855Z",
     "shell.execute_reply": "2023-03-27T13:38:42.844477Z"
    },
    "papermill": {
     "duration": 0.060907,
     "end_time": "2023-03-27T13:38:42.848860",
     "exception": false,
     "start_time": "2023-03-27T13:38:42.787953",
     "status": "completed"
    },
    "tags": []
   },
   "outputs": [],
   "source": [
    "from sklearn.model_selection import train_test_split\n",
    "X_train, X_valid, y_train, y_valid = train_test_split(X, y, train_size=0.85, random_state=42)"
   ]
  },
  {
   "cell_type": "code",
   "execution_count": 48,
   "id": "a762dcfc",
   "metadata": {
    "execution": {
     "iopub.execute_input": "2023-03-27T13:38:42.905110Z",
     "iopub.status.busy": "2023-03-27T13:38:42.904641Z",
     "iopub.status.idle": "2023-03-27T13:38:42.914004Z",
     "shell.execute_reply": "2023-03-27T13:38:42.912655Z"
    },
    "papermill": {
     "duration": 0.04055,
     "end_time": "2023-03-27T13:38:42.916624",
     "exception": false,
     "start_time": "2023-03-27T13:38:42.876074",
     "status": "completed"
    },
    "tags": []
   },
   "outputs": [
    {
     "data": {
      "text/plain": [
       "Index(['HomePlanetCode', 'DestinationCode', 'CryoSleepCode', 'CabinDeckCode',\n",
       "       'CabinSideCode', 'VIPCode', 'Age', 'PassengerGroup', 'PassengerNum',\n",
       "       'RoomService', 'FoodCourt', 'ShoppingMall', 'Spa', 'VRDeck'],\n",
       "      dtype='object')"
      ]
     },
     "execution_count": 48,
     "metadata": {},
     "output_type": "execute_result"
    }
   ],
   "source": [
    "X_train.columns"
   ]
  },
  {
   "cell_type": "code",
   "execution_count": 49,
   "id": "bf53fbc0",
   "metadata": {
    "execution": {
     "iopub.execute_input": "2023-03-27T13:38:42.973993Z",
     "iopub.status.busy": "2023-03-27T13:38:42.973567Z",
     "iopub.status.idle": "2023-03-27T13:38:42.993093Z",
     "shell.execute_reply": "2023-03-27T13:38:42.991478Z"
    },
    "papermill": {
     "duration": 0.052473,
     "end_time": "2023-03-27T13:38:42.995863",
     "exception": false,
     "start_time": "2023-03-27T13:38:42.943390",
     "status": "completed"
    },
    "tags": []
   },
   "outputs": [],
   "source": [
    "from sklearn.preprocessing import StandardScaler, MinMaxScaler\n",
    "ss = StandardScaler()\n",
    "mm = MinMaxScaler()\n",
    "\n",
    "X_train_scaled = pd.DataFrame(mm.fit_transform(X_train), columns = X_train.columns)\n",
    "X_valid_scaled = pd.DataFrame(mm.transform(X_valid), columns = X_valid.columns)\n",
    "# y_train_scaled = pd.DataFrame(ss.transform(y_train), columns = y_train.columns)\n",
    "# y_valid_scaled = pd.DataFrame(ss.transform(y_valid), columns = y_valid.columns)\n",
    "\n",
    "X_test_scaled = pd.DataFrame(mm.transform(X_test), columns = X_test.columns)"
   ]
  },
  {
   "cell_type": "code",
   "execution_count": 50,
   "id": "28f170cb",
   "metadata": {
    "execution": {
     "iopub.execute_input": "2023-03-27T13:38:43.055884Z",
     "iopub.status.busy": "2023-03-27T13:38:43.055045Z",
     "iopub.status.idle": "2023-03-27T13:38:43.081371Z",
     "shell.execute_reply": "2023-03-27T13:38:43.080019Z"
    },
    "papermill": {
     "duration": 0.058612,
     "end_time": "2023-03-27T13:38:43.083884",
     "exception": false,
     "start_time": "2023-03-27T13:38:43.025272",
     "status": "completed"
    },
    "tags": []
   },
   "outputs": [
    {
     "data": {
      "text/html": [
       "<div>\n",
       "<style scoped>\n",
       "    .dataframe tbody tr th:only-of-type {\n",
       "        vertical-align: middle;\n",
       "    }\n",
       "\n",
       "    .dataframe tbody tr th {\n",
       "        vertical-align: top;\n",
       "    }\n",
       "\n",
       "    .dataframe thead th {\n",
       "        text-align: right;\n",
       "    }\n",
       "</style>\n",
       "<table border=\"1\" class=\"dataframe\">\n",
       "  <thead>\n",
       "    <tr style=\"text-align: right;\">\n",
       "      <th></th>\n",
       "      <th>HomePlanetCode</th>\n",
       "      <th>DestinationCode</th>\n",
       "      <th>CryoSleepCode</th>\n",
       "      <th>CabinDeckCode</th>\n",
       "      <th>CabinSideCode</th>\n",
       "      <th>VIPCode</th>\n",
       "      <th>Age</th>\n",
       "      <th>PassengerGroup</th>\n",
       "      <th>PassengerNum</th>\n",
       "      <th>RoomService</th>\n",
       "      <th>FoodCourt</th>\n",
       "      <th>ShoppingMall</th>\n",
       "      <th>Spa</th>\n",
       "      <th>VRDeck</th>\n",
       "    </tr>\n",
       "  </thead>\n",
       "  <tbody>\n",
       "    <tr>\n",
       "      <th>0</th>\n",
       "      <td>0.000000</td>\n",
       "      <td>1.000000</td>\n",
       "      <td>0.0</td>\n",
       "      <td>0.625</td>\n",
       "      <td>0.5</td>\n",
       "      <td>1.0</td>\n",
       "      <td>0.253165</td>\n",
       "      <td>0.546238</td>\n",
       "      <td>0.000000</td>\n",
       "      <td>0.037831</td>\n",
       "      <td>0.006312</td>\n",
       "      <td>0.000000</td>\n",
       "      <td>0.000223</td>\n",
       "      <td>0.000000</td>\n",
       "    </tr>\n",
       "    <tr>\n",
       "      <th>1</th>\n",
       "      <td>0.333333</td>\n",
       "      <td>0.000000</td>\n",
       "      <td>0.0</td>\n",
       "      <td>0.000</td>\n",
       "      <td>0.5</td>\n",
       "      <td>0.0</td>\n",
       "      <td>0.594937</td>\n",
       "      <td>0.541712</td>\n",
       "      <td>0.000000</td>\n",
       "      <td>0.132896</td>\n",
       "      <td>0.000649</td>\n",
       "      <td>0.000000</td>\n",
       "      <td>0.003972</td>\n",
       "      <td>0.182779</td>\n",
       "    </tr>\n",
       "    <tr>\n",
       "      <th>2</th>\n",
       "      <td>0.333333</td>\n",
       "      <td>0.000000</td>\n",
       "      <td>0.0</td>\n",
       "      <td>0.000</td>\n",
       "      <td>0.5</td>\n",
       "      <td>0.5</td>\n",
       "      <td>0.481013</td>\n",
       "      <td>0.932744</td>\n",
       "      <td>0.142857</td>\n",
       "      <td>0.000000</td>\n",
       "      <td>0.046820</td>\n",
       "      <td>0.000000</td>\n",
       "      <td>0.082158</td>\n",
       "      <td>0.064103</td>\n",
       "    </tr>\n",
       "    <tr>\n",
       "      <th>3</th>\n",
       "      <td>0.000000</td>\n",
       "      <td>0.666667</td>\n",
       "      <td>0.0</td>\n",
       "      <td>0.625</td>\n",
       "      <td>0.5</td>\n",
       "      <td>0.0</td>\n",
       "      <td>0.240506</td>\n",
       "      <td>0.887045</td>\n",
       "      <td>0.000000</td>\n",
       "      <td>0.000349</td>\n",
       "      <td>0.024023</td>\n",
       "      <td>0.000000</td>\n",
       "      <td>0.005489</td>\n",
       "      <td>0.018232</td>\n",
       "    </tr>\n",
       "    <tr>\n",
       "      <th>4</th>\n",
       "      <td>0.666667</td>\n",
       "      <td>0.666667</td>\n",
       "      <td>0.5</td>\n",
       "      <td>0.625</td>\n",
       "      <td>0.0</td>\n",
       "      <td>0.0</td>\n",
       "      <td>0.088608</td>\n",
       "      <td>0.744126</td>\n",
       "      <td>0.285714</td>\n",
       "      <td>0.000000</td>\n",
       "      <td>0.000000</td>\n",
       "      <td>0.000000</td>\n",
       "      <td>0.000000</td>\n",
       "      <td>0.000000</td>\n",
       "    </tr>\n",
       "    <tr>\n",
       "      <th>...</th>\n",
       "      <td>...</td>\n",
       "      <td>...</td>\n",
       "      <td>...</td>\n",
       "      <td>...</td>\n",
       "      <td>...</td>\n",
       "      <td>...</td>\n",
       "      <td>...</td>\n",
       "      <td>...</td>\n",
       "      <td>...</td>\n",
       "      <td>...</td>\n",
       "      <td>...</td>\n",
       "      <td>...</td>\n",
       "      <td>...</td>\n",
       "      <td>...</td>\n",
       "    </tr>\n",
       "    <tr>\n",
       "      <th>7384</th>\n",
       "      <td>0.000000</td>\n",
       "      <td>0.666667</td>\n",
       "      <td>1.0</td>\n",
       "      <td>0.750</td>\n",
       "      <td>0.5</td>\n",
       "      <td>0.0</td>\n",
       "      <td>0.227848</td>\n",
       "      <td>0.654667</td>\n",
       "      <td>0.000000</td>\n",
       "      <td>0.000977</td>\n",
       "      <td>0.000072</td>\n",
       "      <td>0.006130</td>\n",
       "      <td>0.027222</td>\n",
       "      <td>0.000000</td>\n",
       "    </tr>\n",
       "    <tr>\n",
       "      <th>7385</th>\n",
       "      <td>0.666667</td>\n",
       "      <td>0.666667</td>\n",
       "      <td>0.0</td>\n",
       "      <td>0.625</td>\n",
       "      <td>0.5</td>\n",
       "      <td>1.0</td>\n",
       "      <td>0.632911</td>\n",
       "      <td>0.596573</td>\n",
       "      <td>0.000000</td>\n",
       "      <td>0.048161</td>\n",
       "      <td>0.000000</td>\n",
       "      <td>0.001277</td>\n",
       "      <td>0.034006</td>\n",
       "      <td>0.017735</td>\n",
       "    </tr>\n",
       "    <tr>\n",
       "      <th>7386</th>\n",
       "      <td>0.000000</td>\n",
       "      <td>0.333333</td>\n",
       "      <td>0.0</td>\n",
       "      <td>0.625</td>\n",
       "      <td>0.0</td>\n",
       "      <td>0.0</td>\n",
       "      <td>0.278481</td>\n",
       "      <td>0.620177</td>\n",
       "      <td>0.714286</td>\n",
       "      <td>0.011028</td>\n",
       "      <td>0.000000</td>\n",
       "      <td>0.020262</td>\n",
       "      <td>0.000000</td>\n",
       "      <td>0.001077</td>\n",
       "    </tr>\n",
       "    <tr>\n",
       "      <th>7387</th>\n",
       "      <td>0.666667</td>\n",
       "      <td>0.666667</td>\n",
       "      <td>0.0</td>\n",
       "      <td>0.625</td>\n",
       "      <td>0.0</td>\n",
       "      <td>0.0</td>\n",
       "      <td>0.430380</td>\n",
       "      <td>0.099483</td>\n",
       "      <td>0.000000</td>\n",
       "      <td>0.026454</td>\n",
       "      <td>0.000000</td>\n",
       "      <td>0.069215</td>\n",
       "      <td>0.000000</td>\n",
       "      <td>0.000000</td>\n",
       "    </tr>\n",
       "    <tr>\n",
       "      <th>7388</th>\n",
       "      <td>0.333333</td>\n",
       "      <td>0.000000</td>\n",
       "      <td>0.0</td>\n",
       "      <td>0.250</td>\n",
       "      <td>0.0</td>\n",
       "      <td>0.0</td>\n",
       "      <td>0.354430</td>\n",
       "      <td>0.837788</td>\n",
       "      <td>0.000000</td>\n",
       "      <td>0.000489</td>\n",
       "      <td>0.017639</td>\n",
       "      <td>0.000000</td>\n",
       "      <td>0.000179</td>\n",
       "      <td>0.249741</td>\n",
       "    </tr>\n",
       "  </tbody>\n",
       "</table>\n",
       "<p>7389 rows × 14 columns</p>\n",
       "</div>"
      ],
      "text/plain": [
       "      HomePlanetCode  DestinationCode  CryoSleepCode  CabinDeckCode  \\\n",
       "0           0.000000         1.000000            0.0          0.625   \n",
       "1           0.333333         0.000000            0.0          0.000   \n",
       "2           0.333333         0.000000            0.0          0.000   \n",
       "3           0.000000         0.666667            0.0          0.625   \n",
       "4           0.666667         0.666667            0.5          0.625   \n",
       "...              ...              ...            ...            ...   \n",
       "7384        0.000000         0.666667            1.0          0.750   \n",
       "7385        0.666667         0.666667            0.0          0.625   \n",
       "7386        0.000000         0.333333            0.0          0.625   \n",
       "7387        0.666667         0.666667            0.0          0.625   \n",
       "7388        0.333333         0.000000            0.0          0.250   \n",
       "\n",
       "      CabinSideCode  VIPCode       Age  PassengerGroup  PassengerNum  \\\n",
       "0               0.5      1.0  0.253165        0.546238      0.000000   \n",
       "1               0.5      0.0  0.594937        0.541712      0.000000   \n",
       "2               0.5      0.5  0.481013        0.932744      0.142857   \n",
       "3               0.5      0.0  0.240506        0.887045      0.000000   \n",
       "4               0.0      0.0  0.088608        0.744126      0.285714   \n",
       "...             ...      ...       ...             ...           ...   \n",
       "7384            0.5      0.0  0.227848        0.654667      0.000000   \n",
       "7385            0.5      1.0  0.632911        0.596573      0.000000   \n",
       "7386            0.0      0.0  0.278481        0.620177      0.714286   \n",
       "7387            0.0      0.0  0.430380        0.099483      0.000000   \n",
       "7388            0.0      0.0  0.354430        0.837788      0.000000   \n",
       "\n",
       "      RoomService  FoodCourt  ShoppingMall       Spa    VRDeck  \n",
       "0        0.037831   0.006312      0.000000  0.000223  0.000000  \n",
       "1        0.132896   0.000649      0.000000  0.003972  0.182779  \n",
       "2        0.000000   0.046820      0.000000  0.082158  0.064103  \n",
       "3        0.000349   0.024023      0.000000  0.005489  0.018232  \n",
       "4        0.000000   0.000000      0.000000  0.000000  0.000000  \n",
       "...           ...        ...           ...       ...       ...  \n",
       "7384     0.000977   0.000072      0.006130  0.027222  0.000000  \n",
       "7385     0.048161   0.000000      0.001277  0.034006  0.017735  \n",
       "7386     0.011028   0.000000      0.020262  0.000000  0.001077  \n",
       "7387     0.026454   0.000000      0.069215  0.000000  0.000000  \n",
       "7388     0.000489   0.017639      0.000000  0.000179  0.249741  \n",
       "\n",
       "[7389 rows x 14 columns]"
      ]
     },
     "execution_count": 50,
     "metadata": {},
     "output_type": "execute_result"
    }
   ],
   "source": [
    "X_train_scaled"
   ]
  },
  {
   "cell_type": "code",
   "execution_count": 51,
   "id": "6b602725",
   "metadata": {
    "execution": {
     "iopub.execute_input": "2023-03-27T13:38:43.142365Z",
     "iopub.status.busy": "2023-03-27T13:38:43.141543Z",
     "iopub.status.idle": "2023-03-27T13:38:43.151753Z",
     "shell.execute_reply": "2023-03-27T13:38:43.150446Z"
    },
    "papermill": {
     "duration": 0.042738,
     "end_time": "2023-03-27T13:38:43.154270",
     "exception": false,
     "start_time": "2023-03-27T13:38:43.111532",
     "status": "completed"
    },
    "tags": []
   },
   "outputs": [
    {
     "data": {
      "text/plain": [
       "HomePlanetCode     0\n",
       "DestinationCode    0\n",
       "CryoSleepCode      0\n",
       "CabinDeckCode      0\n",
       "CabinSideCode      0\n",
       "VIPCode            0\n",
       "Age                0\n",
       "PassengerGroup     0\n",
       "PassengerNum       0\n",
       "RoomService        0\n",
       "FoodCourt          0\n",
       "ShoppingMall       0\n",
       "Spa                0\n",
       "VRDeck             0\n",
       "dtype: int64"
      ]
     },
     "execution_count": 51,
     "metadata": {},
     "output_type": "execute_result"
    }
   ],
   "source": [
    "X_test_scaled.isna().sum()"
   ]
  },
  {
   "cell_type": "code",
   "execution_count": 52,
   "id": "5587a362",
   "metadata": {
    "execution": {
     "iopub.execute_input": "2023-03-27T13:38:43.212155Z",
     "iopub.status.busy": "2023-03-27T13:38:43.211227Z",
     "iopub.status.idle": "2023-03-27T13:38:45.140452Z",
     "shell.execute_reply": "2023-03-27T13:38:45.138723Z"
    },
    "papermill": {
     "duration": 1.961344,
     "end_time": "2023-03-27T13:38:45.143296",
     "exception": false,
     "start_time": "2023-03-27T13:38:43.181952",
     "status": "completed"
    },
    "tags": []
   },
   "outputs": [
    {
     "name": "stdout",
     "output_type": "stream",
     "text": [
      "MAE: 0.0000\n",
      "R2 Score 1.0000\n",
      "MAE: 0.2094\n",
      "R2 Score 0.7906\n"
     ]
    }
   ],
   "source": [
    "from sklearn.ensemble import RandomForestClassifier\n",
    "model_rf = RandomForestClassifier(random_state=42)\n",
    "model_rf.fit(X_train_scaled, y_train)\n",
    "\n",
    "pred_rf_train = model_rf.predict(X_train_scaled)\n",
    "pred_rf_valid = model_rf.predict(X_valid_scaled)\n",
    "\n",
    "print(\"MAE: %.4f\" % metrics.mean_absolute_error(pred_rf_train, y_train))\n",
    "print(\"R2 Score %.4f\" % model_rf.score(X_train_scaled, y_train))\n",
    "\n",
    "print(\"MAE: %.4f\" % metrics.mean_absolute_error(pred_rf_valid, y_valid))\n",
    "print(\"R2 Score %.4f\" % model_rf.score(X_valid_scaled, y_valid))"
   ]
  },
  {
   "cell_type": "code",
   "execution_count": 53,
   "id": "6095dc46",
   "metadata": {
    "execution": {
     "iopub.execute_input": "2023-03-27T13:38:45.202894Z",
     "iopub.status.busy": "2023-03-27T13:38:45.202425Z",
     "iopub.status.idle": "2023-03-27T13:38:45.235487Z",
     "shell.execute_reply": "2023-03-27T13:38:45.233526Z"
    },
    "papermill": {
     "duration": 0.066674,
     "end_time": "2023-03-27T13:38:45.238490",
     "exception": false,
     "start_time": "2023-03-27T13:38:45.171816",
     "status": "completed"
    },
    "tags": []
   },
   "outputs": [
    {
     "name": "stdout",
     "output_type": "stream",
     "text": [
      "              precision    recall  f1-score   support\n",
      "\n",
      "           0       1.00      1.00      1.00      3658\n",
      "           1       1.00      1.00      1.00      3731\n",
      "\n",
      "    accuracy                           1.00      7389\n",
      "   macro avg       1.00      1.00      1.00      7389\n",
      "weighted avg       1.00      1.00      1.00      7389\n",
      "\n",
      "              precision    recall  f1-score   support\n",
      "\n",
      "           0       0.78      0.81      0.80       657\n",
      "           1       0.80      0.77      0.78       647\n",
      "\n",
      "    accuracy                           0.79      1304\n",
      "   macro avg       0.79      0.79      0.79      1304\n",
      "weighted avg       0.79      0.79      0.79      1304\n",
      "\n"
     ]
    }
   ],
   "source": [
    "print(metrics.classification_report(y_train, pred_rf_train))\n",
    "print(metrics.classification_report(y_valid, pred_rf_valid))"
   ]
  },
  {
   "cell_type": "code",
   "execution_count": 54,
   "id": "ce536939",
   "metadata": {
    "execution": {
     "iopub.execute_input": "2023-03-27T13:38:45.297495Z",
     "iopub.status.busy": "2023-03-27T13:38:45.296136Z",
     "iopub.status.idle": "2023-03-27T13:38:45.302093Z",
     "shell.execute_reply": "2023-03-27T13:38:45.300706Z"
    },
    "papermill": {
     "duration": 0.03845,
     "end_time": "2023-03-27T13:38:45.304855",
     "exception": false,
     "start_time": "2023-03-27T13:38:45.266405",
     "status": "completed"
    },
    "tags": []
   },
   "outputs": [],
   "source": [
    "# X_scaled = pd.DataFrame(mm.fit_transform(X), columns = X.columns)\n",
    "# X_scaled"
   ]
  },
  {
   "cell_type": "code",
   "execution_count": 55,
   "id": "38d1fc9f",
   "metadata": {
    "execution": {
     "iopub.execute_input": "2023-03-27T13:38:45.362053Z",
     "iopub.status.busy": "2023-03-27T13:38:45.361601Z",
     "iopub.status.idle": "2023-03-27T13:38:45.470522Z",
     "shell.execute_reply": "2023-03-27T13:38:45.469224Z"
    },
    "papermill": {
     "duration": 0.141376,
     "end_time": "2023-03-27T13:38:45.473607",
     "exception": false,
     "start_time": "2023-03-27T13:38:45.332231",
     "status": "completed"
    },
    "tags": []
   },
   "outputs": [
    {
     "data": {
      "text/plain": [
       "array([ True, False,  True, ...,  True,  True, False])"
      ]
     },
     "execution_count": 55,
     "metadata": {},
     "output_type": "execute_result"
    }
   ],
   "source": [
    "# model_rf.fit(X_scaled,y) \n",
    "predictions = model_rf.predict(X_test_scaled)\n",
    "predictions.astype(bool)"
   ]
  },
  {
   "cell_type": "code",
   "execution_count": 56,
   "id": "e3a2969c",
   "metadata": {
    "execution": {
     "iopub.execute_input": "2023-03-27T13:38:45.534143Z",
     "iopub.status.busy": "2023-03-27T13:38:45.532956Z",
     "iopub.status.idle": "2023-03-27T13:38:45.554384Z",
     "shell.execute_reply": "2023-03-27T13:38:45.552862Z"
    },
    "papermill": {
     "duration": 0.054848,
     "end_time": "2023-03-27T13:38:45.557804",
     "exception": false,
     "start_time": "2023-03-27T13:38:45.502956",
     "status": "completed"
    },
    "tags": []
   },
   "outputs": [
    {
     "name": "stdout",
     "output_type": "stream",
     "text": [
      "Submission saved!\n"
     ]
    }
   ],
   "source": [
    "output = pd.DataFrame({'PassengerId': test_data.PassengerId, 'Transported': predictions.astype(bool)})\n",
    "output.to_csv('submission.csv', index = False)\n",
    "print(\"Submission saved!\")"
   ]
  }
 ],
 "metadata": {
  "kernelspec": {
   "display_name": "Python 3",
   "language": "python",
   "name": "python3"
  },
  "language_info": {
   "codemirror_mode": {
    "name": "ipython",
    "version": 3
   },
   "file_extension": ".py",
   "mimetype": "text/x-python",
   "name": "python",
   "nbconvert_exporter": "python",
   "pygments_lexer": "ipython3",
   "version": "3.7.12"
  },
  "papermill": {
   "default_parameters": {},
   "duration": 30.290315,
   "end_time": "2023-03-27T13:38:46.813266",
   "environment_variables": {},
   "exception": null,
   "input_path": "__notebook__.ipynb",
   "output_path": "__notebook__.ipynb",
   "parameters": {},
   "start_time": "2023-03-27T13:38:16.522951",
   "version": "2.4.0"
  }
 },
 "nbformat": 4,
 "nbformat_minor": 5
}
