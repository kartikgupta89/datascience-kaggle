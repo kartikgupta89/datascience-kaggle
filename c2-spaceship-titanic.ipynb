{
 "cells": [
  {
   "cell_type": "code",
   "execution_count": 1,
   "id": "1c6f676c",
   "metadata": {
    "_cell_guid": "b1076dfc-b9ad-4769-8c92-a6c4dae69d19",
    "_uuid": "8f2839f25d086af736a60e9eeb907d3b93b6e0e5",
    "execution": {
     "iopub.execute_input": "2023-03-31T07:24:44.592659Z",
     "iopub.status.busy": "2023-03-31T07:24:44.591905Z",
     "iopub.status.idle": "2023-03-31T07:24:45.936672Z",
     "shell.execute_reply": "2023-03-31T07:24:45.935220Z"
    },
    "papermill": {
     "duration": 1.366639,
     "end_time": "2023-03-31T07:24:45.939555",
     "exception": false,
     "start_time": "2023-03-31T07:24:44.572916",
     "status": "completed"
    },
    "tags": []
   },
   "outputs": [
    {
     "name": "stdout",
     "output_type": "stream",
     "text": [
      "/kaggle/input/spaceship-titanic/sample_submission.csv\n",
      "/kaggle/input/spaceship-titanic/train.csv\n",
      "/kaggle/input/spaceship-titanic/test.csv\n"
     ]
    }
   ],
   "source": [
    "# This Python 3 environment comes with many helpful analytics libraries installed\n",
    "# It is defined by the kaggle/python Docker image: https://github.com/kaggle/docker-python\n",
    "# For example, here's several helpful packages to load\n",
    "\n",
    "import numpy as np # linear algebra\n",
    "import pandas as pd # data processing, CSV file I/O (e.g. pd.read_csv)\n",
    "import matplotlib.pyplot as plt\n",
    "import seaborn as sns\n",
    "\n",
    "from sklearn.preprocessing import LabelEncoder\n",
    "from sklearn import metrics\n",
    "\n",
    "# Input data files are available in the read-only \"../input/\" directory\n",
    "# For example, running this (by clicking run or pressing Shift+Enter) will list all files under the input directory\n",
    "\n",
    "import os\n",
    "for dirname, _, filenames in os.walk('/kaggle/input'):\n",
    "    for filename in filenames:\n",
    "        print(os.path.join(dirname, filename))\n",
    "\n",
    "# You can write up to 20GB to the current directory (/kaggle/working/) that gets preserved as output when you create a version using \"Save & Run All\" \n",
    "# You can also write temporary files to /kaggle/temp/, but they won't be saved outside of the current session"
   ]
  },
  {
   "cell_type": "code",
   "execution_count": 2,
   "id": "eaca9abb",
   "metadata": {
    "execution": {
     "iopub.execute_input": "2023-03-31T07:24:45.974255Z",
     "iopub.status.busy": "2023-03-31T07:24:45.973388Z",
     "iopub.status.idle": "2023-03-31T07:24:46.059175Z",
     "shell.execute_reply": "2023-03-31T07:24:46.057809Z"
    },
    "papermill": {
     "duration": 0.106817,
     "end_time": "2023-03-31T07:24:46.062355",
     "exception": false,
     "start_time": "2023-03-31T07:24:45.955538",
     "status": "completed"
    },
    "tags": []
   },
   "outputs": [],
   "source": [
    "train_data = pd.read_csv('/kaggle/input/spaceship-titanic/train.csv')\n",
    "test_data = pd.read_csv('/kaggle/input/spaceship-titanic/test.csv')"
   ]
  },
  {
   "cell_type": "code",
   "execution_count": 3,
   "id": "ff120a21",
   "metadata": {
    "execution": {
     "iopub.execute_input": "2023-03-31T07:24:46.098054Z",
     "iopub.status.busy": "2023-03-31T07:24:46.096768Z",
     "iopub.status.idle": "2023-03-31T07:24:46.138656Z",
     "shell.execute_reply": "2023-03-31T07:24:46.137237Z"
    },
    "papermill": {
     "duration": 0.064338,
     "end_time": "2023-03-31T07:24:46.142469",
     "exception": false,
     "start_time": "2023-03-31T07:24:46.078131",
     "status": "completed"
    },
    "tags": []
   },
   "outputs": [
    {
     "name": "stdout",
     "output_type": "stream",
     "text": [
      "(8693, 14)\n"
     ]
    },
    {
     "data": {
      "text/html": [
       "<div>\n",
       "<style scoped>\n",
       "    .dataframe tbody tr th:only-of-type {\n",
       "        vertical-align: middle;\n",
       "    }\n",
       "\n",
       "    .dataframe tbody tr th {\n",
       "        vertical-align: top;\n",
       "    }\n",
       "\n",
       "    .dataframe thead th {\n",
       "        text-align: right;\n",
       "    }\n",
       "</style>\n",
       "<table border=\"1\" class=\"dataframe\">\n",
       "  <thead>\n",
       "    <tr style=\"text-align: right;\">\n",
       "      <th></th>\n",
       "      <th>PassengerId</th>\n",
       "      <th>HomePlanet</th>\n",
       "      <th>CryoSleep</th>\n",
       "      <th>Cabin</th>\n",
       "      <th>Destination</th>\n",
       "      <th>Age</th>\n",
       "      <th>VIP</th>\n",
       "      <th>RoomService</th>\n",
       "      <th>FoodCourt</th>\n",
       "      <th>ShoppingMall</th>\n",
       "      <th>Spa</th>\n",
       "      <th>VRDeck</th>\n",
       "      <th>Name</th>\n",
       "      <th>Transported</th>\n",
       "    </tr>\n",
       "  </thead>\n",
       "  <tbody>\n",
       "    <tr>\n",
       "      <th>0</th>\n",
       "      <td>0001_01</td>\n",
       "      <td>Europa</td>\n",
       "      <td>False</td>\n",
       "      <td>B/0/P</td>\n",
       "      <td>TRAPPIST-1e</td>\n",
       "      <td>39.0</td>\n",
       "      <td>False</td>\n",
       "      <td>0.0</td>\n",
       "      <td>0.0</td>\n",
       "      <td>0.0</td>\n",
       "      <td>0.0</td>\n",
       "      <td>0.0</td>\n",
       "      <td>Maham Ofracculy</td>\n",
       "      <td>False</td>\n",
       "    </tr>\n",
       "    <tr>\n",
       "      <th>1</th>\n",
       "      <td>0002_01</td>\n",
       "      <td>Earth</td>\n",
       "      <td>False</td>\n",
       "      <td>F/0/S</td>\n",
       "      <td>TRAPPIST-1e</td>\n",
       "      <td>24.0</td>\n",
       "      <td>False</td>\n",
       "      <td>109.0</td>\n",
       "      <td>9.0</td>\n",
       "      <td>25.0</td>\n",
       "      <td>549.0</td>\n",
       "      <td>44.0</td>\n",
       "      <td>Juanna Vines</td>\n",
       "      <td>True</td>\n",
       "    </tr>\n",
       "    <tr>\n",
       "      <th>2</th>\n",
       "      <td>0003_01</td>\n",
       "      <td>Europa</td>\n",
       "      <td>False</td>\n",
       "      <td>A/0/S</td>\n",
       "      <td>TRAPPIST-1e</td>\n",
       "      <td>58.0</td>\n",
       "      <td>True</td>\n",
       "      <td>43.0</td>\n",
       "      <td>3576.0</td>\n",
       "      <td>0.0</td>\n",
       "      <td>6715.0</td>\n",
       "      <td>49.0</td>\n",
       "      <td>Altark Susent</td>\n",
       "      <td>False</td>\n",
       "    </tr>\n",
       "    <tr>\n",
       "      <th>3</th>\n",
       "      <td>0003_02</td>\n",
       "      <td>Europa</td>\n",
       "      <td>False</td>\n",
       "      <td>A/0/S</td>\n",
       "      <td>TRAPPIST-1e</td>\n",
       "      <td>33.0</td>\n",
       "      <td>False</td>\n",
       "      <td>0.0</td>\n",
       "      <td>1283.0</td>\n",
       "      <td>371.0</td>\n",
       "      <td>3329.0</td>\n",
       "      <td>193.0</td>\n",
       "      <td>Solam Susent</td>\n",
       "      <td>False</td>\n",
       "    </tr>\n",
       "    <tr>\n",
       "      <th>4</th>\n",
       "      <td>0004_01</td>\n",
       "      <td>Earth</td>\n",
       "      <td>False</td>\n",
       "      <td>F/1/S</td>\n",
       "      <td>TRAPPIST-1e</td>\n",
       "      <td>16.0</td>\n",
       "      <td>False</td>\n",
       "      <td>303.0</td>\n",
       "      <td>70.0</td>\n",
       "      <td>151.0</td>\n",
       "      <td>565.0</td>\n",
       "      <td>2.0</td>\n",
       "      <td>Willy Santantines</td>\n",
       "      <td>True</td>\n",
       "    </tr>\n",
       "    <tr>\n",
       "      <th>5</th>\n",
       "      <td>0005_01</td>\n",
       "      <td>Earth</td>\n",
       "      <td>False</td>\n",
       "      <td>F/0/P</td>\n",
       "      <td>PSO J318.5-22</td>\n",
       "      <td>44.0</td>\n",
       "      <td>False</td>\n",
       "      <td>0.0</td>\n",
       "      <td>483.0</td>\n",
       "      <td>0.0</td>\n",
       "      <td>291.0</td>\n",
       "      <td>0.0</td>\n",
       "      <td>Sandie Hinetthews</td>\n",
       "      <td>True</td>\n",
       "    </tr>\n",
       "    <tr>\n",
       "      <th>6</th>\n",
       "      <td>0006_01</td>\n",
       "      <td>Earth</td>\n",
       "      <td>False</td>\n",
       "      <td>F/2/S</td>\n",
       "      <td>TRAPPIST-1e</td>\n",
       "      <td>26.0</td>\n",
       "      <td>False</td>\n",
       "      <td>42.0</td>\n",
       "      <td>1539.0</td>\n",
       "      <td>3.0</td>\n",
       "      <td>0.0</td>\n",
       "      <td>0.0</td>\n",
       "      <td>Billex Jacostaffey</td>\n",
       "      <td>True</td>\n",
       "    </tr>\n",
       "    <tr>\n",
       "      <th>7</th>\n",
       "      <td>0006_02</td>\n",
       "      <td>Earth</td>\n",
       "      <td>True</td>\n",
       "      <td>G/0/S</td>\n",
       "      <td>TRAPPIST-1e</td>\n",
       "      <td>28.0</td>\n",
       "      <td>False</td>\n",
       "      <td>0.0</td>\n",
       "      <td>0.0</td>\n",
       "      <td>0.0</td>\n",
       "      <td>0.0</td>\n",
       "      <td>NaN</td>\n",
       "      <td>Candra Jacostaffey</td>\n",
       "      <td>True</td>\n",
       "    </tr>\n",
       "    <tr>\n",
       "      <th>8</th>\n",
       "      <td>0007_01</td>\n",
       "      <td>Earth</td>\n",
       "      <td>False</td>\n",
       "      <td>F/3/S</td>\n",
       "      <td>TRAPPIST-1e</td>\n",
       "      <td>35.0</td>\n",
       "      <td>False</td>\n",
       "      <td>0.0</td>\n",
       "      <td>785.0</td>\n",
       "      <td>17.0</td>\n",
       "      <td>216.0</td>\n",
       "      <td>0.0</td>\n",
       "      <td>Andona Beston</td>\n",
       "      <td>True</td>\n",
       "    </tr>\n",
       "    <tr>\n",
       "      <th>9</th>\n",
       "      <td>0008_01</td>\n",
       "      <td>Europa</td>\n",
       "      <td>True</td>\n",
       "      <td>B/1/P</td>\n",
       "      <td>55 Cancri e</td>\n",
       "      <td>14.0</td>\n",
       "      <td>False</td>\n",
       "      <td>0.0</td>\n",
       "      <td>0.0</td>\n",
       "      <td>0.0</td>\n",
       "      <td>0.0</td>\n",
       "      <td>0.0</td>\n",
       "      <td>Erraiam Flatic</td>\n",
       "      <td>True</td>\n",
       "    </tr>\n",
       "  </tbody>\n",
       "</table>\n",
       "</div>"
      ],
      "text/plain": [
       "  PassengerId HomePlanet CryoSleep  Cabin    Destination   Age    VIP  \\\n",
       "0     0001_01     Europa     False  B/0/P    TRAPPIST-1e  39.0  False   \n",
       "1     0002_01      Earth     False  F/0/S    TRAPPIST-1e  24.0  False   \n",
       "2     0003_01     Europa     False  A/0/S    TRAPPIST-1e  58.0   True   \n",
       "3     0003_02     Europa     False  A/0/S    TRAPPIST-1e  33.0  False   \n",
       "4     0004_01      Earth     False  F/1/S    TRAPPIST-1e  16.0  False   \n",
       "5     0005_01      Earth     False  F/0/P  PSO J318.5-22  44.0  False   \n",
       "6     0006_01      Earth     False  F/2/S    TRAPPIST-1e  26.0  False   \n",
       "7     0006_02      Earth      True  G/0/S    TRAPPIST-1e  28.0  False   \n",
       "8     0007_01      Earth     False  F/3/S    TRAPPIST-1e  35.0  False   \n",
       "9     0008_01     Europa      True  B/1/P    55 Cancri e  14.0  False   \n",
       "\n",
       "   RoomService  FoodCourt  ShoppingMall     Spa  VRDeck                Name  \\\n",
       "0          0.0        0.0           0.0     0.0     0.0     Maham Ofracculy   \n",
       "1        109.0        9.0          25.0   549.0    44.0        Juanna Vines   \n",
       "2         43.0     3576.0           0.0  6715.0    49.0       Altark Susent   \n",
       "3          0.0     1283.0         371.0  3329.0   193.0        Solam Susent   \n",
       "4        303.0       70.0         151.0   565.0     2.0   Willy Santantines   \n",
       "5          0.0      483.0           0.0   291.0     0.0   Sandie Hinetthews   \n",
       "6         42.0     1539.0           3.0     0.0     0.0  Billex Jacostaffey   \n",
       "7          0.0        0.0           0.0     0.0     NaN  Candra Jacostaffey   \n",
       "8          0.0      785.0          17.0   216.0     0.0       Andona Beston   \n",
       "9          0.0        0.0           0.0     0.0     0.0      Erraiam Flatic   \n",
       "\n",
       "   Transported  \n",
       "0        False  \n",
       "1         True  \n",
       "2        False  \n",
       "3        False  \n",
       "4         True  \n",
       "5         True  \n",
       "6         True  \n",
       "7         True  \n",
       "8         True  \n",
       "9         True  "
      ]
     },
     "execution_count": 3,
     "metadata": {},
     "output_type": "execute_result"
    }
   ],
   "source": [
    "print(train_data.shape)\n",
    "train_data.head(10)"
   ]
  },
  {
   "cell_type": "code",
   "execution_count": 4,
   "id": "187d6628",
   "metadata": {
    "execution": {
     "iopub.execute_input": "2023-03-31T07:24:46.176908Z",
     "iopub.status.busy": "2023-03-31T07:24:46.176497Z",
     "iopub.status.idle": "2023-03-31T07:24:46.205091Z",
     "shell.execute_reply": "2023-03-31T07:24:46.203535Z"
    },
    "papermill": {
     "duration": 0.048843,
     "end_time": "2023-03-31T07:24:46.207800",
     "exception": false,
     "start_time": "2023-03-31T07:24:46.158957",
     "status": "completed"
    },
    "tags": []
   },
   "outputs": [
    {
     "name": "stdout",
     "output_type": "stream",
     "text": [
      "<class 'pandas.core.frame.DataFrame'>\n",
      "RangeIndex: 8693 entries, 0 to 8692\n",
      "Data columns (total 14 columns):\n",
      " #   Column        Non-Null Count  Dtype  \n",
      "---  ------        --------------  -----  \n",
      " 0   PassengerId   8693 non-null   object \n",
      " 1   HomePlanet    8492 non-null   object \n",
      " 2   CryoSleep     8476 non-null   object \n",
      " 3   Cabin         8494 non-null   object \n",
      " 4   Destination   8511 non-null   object \n",
      " 5   Age           8514 non-null   float64\n",
      " 6   VIP           8490 non-null   object \n",
      " 7   RoomService   8512 non-null   float64\n",
      " 8   FoodCourt     8510 non-null   float64\n",
      " 9   ShoppingMall  8485 non-null   float64\n",
      " 10  Spa           8510 non-null   float64\n",
      " 11  VRDeck        8505 non-null   float64\n",
      " 12  Name          8493 non-null   object \n",
      " 13  Transported   8693 non-null   bool   \n",
      "dtypes: bool(1), float64(6), object(7)\n",
      "memory usage: 891.5+ KB\n"
     ]
    }
   ],
   "source": [
    "train_data.info()"
   ]
  },
  {
   "cell_type": "code",
   "execution_count": 5,
   "id": "510b7272",
   "metadata": {
    "execution": {
     "iopub.execute_input": "2023-03-31T07:24:46.242725Z",
     "iopub.status.busy": "2023-03-31T07:24:46.241817Z",
     "iopub.status.idle": "2023-03-31T07:24:46.255041Z",
     "shell.execute_reply": "2023-03-31T07:24:46.253261Z"
    },
    "papermill": {
     "duration": 0.033538,
     "end_time": "2023-03-31T07:24:46.257516",
     "exception": false,
     "start_time": "2023-03-31T07:24:46.223978",
     "status": "completed"
    },
    "tags": []
   },
   "outputs": [
    {
     "data": {
      "text/plain": [
       "PassengerId       0\n",
       "HomePlanet      201\n",
       "CryoSleep       217\n",
       "Cabin           199\n",
       "Destination     182\n",
       "Age             179\n",
       "VIP             203\n",
       "RoomService     181\n",
       "FoodCourt       183\n",
       "ShoppingMall    208\n",
       "Spa             183\n",
       "VRDeck          188\n",
       "Name            200\n",
       "Transported       0\n",
       "dtype: int64"
      ]
     },
     "execution_count": 5,
     "metadata": {},
     "output_type": "execute_result"
    }
   ],
   "source": [
    "train_data.isnull().sum()"
   ]
  },
  {
   "cell_type": "code",
   "execution_count": 6,
   "id": "c91b3b85",
   "metadata": {
    "execution": {
     "iopub.execute_input": "2023-03-31T07:24:46.293018Z",
     "iopub.status.busy": "2023-03-31T07:24:46.292042Z",
     "iopub.status.idle": "2023-03-31T07:24:46.310493Z",
     "shell.execute_reply": "2023-03-31T07:24:46.309312Z"
    },
    "papermill": {
     "duration": 0.039712,
     "end_time": "2023-03-31T07:24:46.313640",
     "exception": false,
     "start_time": "2023-03-31T07:24:46.273928",
     "status": "completed"
    },
    "tags": []
   },
   "outputs": [],
   "source": [
    "train_data.loc[:,['RoomService','FoodCourt','ShoppingMall','Spa','VRDeck']] = train_data.loc[:,['RoomService','FoodCourt','ShoppingMall','Spa','VRDeck']].fillna(0)\n",
    "test_data.loc[:,['RoomService','FoodCourt','ShoppingMall','Spa','VRDeck']] = test_data.loc[:,['RoomService','FoodCourt','ShoppingMall','Spa','VRDeck']].fillna(0)"
   ]
  },
  {
   "cell_type": "code",
   "execution_count": 7,
   "id": "4e8cc2dc",
   "metadata": {
    "execution": {
     "iopub.execute_input": "2023-03-31T07:24:46.349282Z",
     "iopub.status.busy": "2023-03-31T07:24:46.348508Z",
     "iopub.status.idle": "2023-03-31T07:24:46.359919Z",
     "shell.execute_reply": "2023-03-31T07:24:46.358790Z"
    },
    "papermill": {
     "duration": 0.032639,
     "end_time": "2023-03-31T07:24:46.362796",
     "exception": false,
     "start_time": "2023-03-31T07:24:46.330157",
     "status": "completed"
    },
    "tags": []
   },
   "outputs": [],
   "source": [
    "train_data.dropna(inplace=True)"
   ]
  },
  {
   "cell_type": "code",
   "execution_count": 8,
   "id": "1b1c6a49",
   "metadata": {
    "execution": {
     "iopub.execute_input": "2023-03-31T07:24:46.398971Z",
     "iopub.status.busy": "2023-03-31T07:24:46.398109Z",
     "iopub.status.idle": "2023-03-31T07:24:46.411432Z",
     "shell.execute_reply": "2023-03-31T07:24:46.410080Z"
    },
    "papermill": {
     "duration": 0.034069,
     "end_time": "2023-03-31T07:24:46.414022",
     "exception": false,
     "start_time": "2023-03-31T07:24:46.379953",
     "status": "completed"
    },
    "tags": []
   },
   "outputs": [
    {
     "data": {
      "text/plain": [
       "PassengerId     0\n",
       "HomePlanet      0\n",
       "CryoSleep       0\n",
       "Cabin           0\n",
       "Destination     0\n",
       "Age             0\n",
       "VIP             0\n",
       "RoomService     0\n",
       "FoodCourt       0\n",
       "ShoppingMall    0\n",
       "Spa             0\n",
       "VRDeck          0\n",
       "Name            0\n",
       "Transported     0\n",
       "dtype: int64"
      ]
     },
     "execution_count": 8,
     "metadata": {},
     "output_type": "execute_result"
    }
   ],
   "source": [
    "train_data.isnull().sum()"
   ]
  },
  {
   "cell_type": "code",
   "execution_count": 9,
   "id": "4e5ccc40",
   "metadata": {
    "execution": {
     "iopub.execute_input": "2023-03-31T07:24:46.448648Z",
     "iopub.status.busy": "2023-03-31T07:24:46.448219Z",
     "iopub.status.idle": "2023-03-31T07:24:46.480459Z",
     "shell.execute_reply": "2023-03-31T07:24:46.479297Z"
    },
    "papermill": {
     "duration": 0.052538,
     "end_time": "2023-03-31T07:24:46.483034",
     "exception": false,
     "start_time": "2023-03-31T07:24:46.430496",
     "status": "completed"
    },
    "tags": []
   },
   "outputs": [
    {
     "data": {
      "text/html": [
       "<div>\n",
       "<style scoped>\n",
       "    .dataframe tbody tr th:only-of-type {\n",
       "        vertical-align: middle;\n",
       "    }\n",
       "\n",
       "    .dataframe tbody tr th {\n",
       "        vertical-align: top;\n",
       "    }\n",
       "\n",
       "    .dataframe thead th {\n",
       "        text-align: right;\n",
       "    }\n",
       "</style>\n",
       "<table border=\"1\" class=\"dataframe\">\n",
       "  <thead>\n",
       "    <tr style=\"text-align: right;\">\n",
       "      <th></th>\n",
       "      <th>Age</th>\n",
       "      <th>RoomService</th>\n",
       "      <th>FoodCourt</th>\n",
       "      <th>ShoppingMall</th>\n",
       "      <th>Spa</th>\n",
       "      <th>VRDeck</th>\n",
       "    </tr>\n",
       "  </thead>\n",
       "  <tbody>\n",
       "    <tr>\n",
       "      <th>count</th>\n",
       "      <td>7398.000000</td>\n",
       "      <td>7398.000000</td>\n",
       "      <td>7398.000000</td>\n",
       "      <td>7398.000000</td>\n",
       "      <td>7398.000000</td>\n",
       "      <td>7398.000000</td>\n",
       "    </tr>\n",
       "    <tr>\n",
       "      <th>mean</th>\n",
       "      <td>28.846175</td>\n",
       "      <td>218.017302</td>\n",
       "      <td>455.474858</td>\n",
       "      <td>174.483644</td>\n",
       "      <td>300.306705</td>\n",
       "      <td>298.981617</td>\n",
       "    </tr>\n",
       "    <tr>\n",
       "      <th>std</th>\n",
       "      <td>14.489030</td>\n",
       "      <td>636.332116</td>\n",
       "      <td>1629.771293</td>\n",
       "      <td>566.368468</td>\n",
       "      <td>1111.190882</td>\n",
       "      <td>1121.607795</td>\n",
       "    </tr>\n",
       "    <tr>\n",
       "      <th>min</th>\n",
       "      <td>0.000000</td>\n",
       "      <td>0.000000</td>\n",
       "      <td>0.000000</td>\n",
       "      <td>0.000000</td>\n",
       "      <td>0.000000</td>\n",
       "      <td>0.000000</td>\n",
       "    </tr>\n",
       "    <tr>\n",
       "      <th>25%</th>\n",
       "      <td>19.000000</td>\n",
       "      <td>0.000000</td>\n",
       "      <td>0.000000</td>\n",
       "      <td>0.000000</td>\n",
       "      <td>0.000000</td>\n",
       "      <td>0.000000</td>\n",
       "    </tr>\n",
       "    <tr>\n",
       "      <th>50%</th>\n",
       "      <td>27.000000</td>\n",
       "      <td>0.000000</td>\n",
       "      <td>0.000000</td>\n",
       "      <td>0.000000</td>\n",
       "      <td>0.000000</td>\n",
       "      <td>0.000000</td>\n",
       "    </tr>\n",
       "    <tr>\n",
       "      <th>75%</th>\n",
       "      <td>38.000000</td>\n",
       "      <td>42.000000</td>\n",
       "      <td>65.000000</td>\n",
       "      <td>25.000000</td>\n",
       "      <td>54.000000</td>\n",
       "      <td>41.750000</td>\n",
       "    </tr>\n",
       "    <tr>\n",
       "      <th>max</th>\n",
       "      <td>79.000000</td>\n",
       "      <td>9920.000000</td>\n",
       "      <td>29813.000000</td>\n",
       "      <td>12253.000000</td>\n",
       "      <td>22408.000000</td>\n",
       "      <td>20336.000000</td>\n",
       "    </tr>\n",
       "  </tbody>\n",
       "</table>\n",
       "</div>"
      ],
      "text/plain": [
       "               Age  RoomService     FoodCourt  ShoppingMall           Spa  \\\n",
       "count  7398.000000  7398.000000   7398.000000   7398.000000   7398.000000   \n",
       "mean     28.846175   218.017302    455.474858    174.483644    300.306705   \n",
       "std      14.489030   636.332116   1629.771293    566.368468   1111.190882   \n",
       "min       0.000000     0.000000      0.000000      0.000000      0.000000   \n",
       "25%      19.000000     0.000000      0.000000      0.000000      0.000000   \n",
       "50%      27.000000     0.000000      0.000000      0.000000      0.000000   \n",
       "75%      38.000000    42.000000     65.000000     25.000000     54.000000   \n",
       "max      79.000000  9920.000000  29813.000000  12253.000000  22408.000000   \n",
       "\n",
       "             VRDeck  \n",
       "count   7398.000000  \n",
       "mean     298.981617  \n",
       "std     1121.607795  \n",
       "min        0.000000  \n",
       "25%        0.000000  \n",
       "50%        0.000000  \n",
       "75%       41.750000  \n",
       "max    20336.000000  "
      ]
     },
     "execution_count": 9,
     "metadata": {},
     "output_type": "execute_result"
    }
   ],
   "source": [
    "train_data.describe()"
   ]
  },
  {
   "cell_type": "code",
   "execution_count": 10,
   "id": "2c4296d8",
   "metadata": {
    "execution": {
     "iopub.execute_input": "2023-03-31T07:24:46.519144Z",
     "iopub.status.busy": "2023-03-31T07:24:46.518296Z",
     "iopub.status.idle": "2023-03-31T07:24:46.544602Z",
     "shell.execute_reply": "2023-03-31T07:24:46.543345Z"
    },
    "papermill": {
     "duration": 0.04723,
     "end_time": "2023-03-31T07:24:46.547172",
     "exception": false,
     "start_time": "2023-03-31T07:24:46.499942",
     "status": "completed"
    },
    "tags": []
   },
   "outputs": [
    {
     "data": {
      "text/html": [
       "<div>\n",
       "<style scoped>\n",
       "    .dataframe tbody tr th:only-of-type {\n",
       "        vertical-align: middle;\n",
       "    }\n",
       "\n",
       "    .dataframe tbody tr th {\n",
       "        vertical-align: top;\n",
       "    }\n",
       "\n",
       "    .dataframe thead th {\n",
       "        text-align: right;\n",
       "    }\n",
       "</style>\n",
       "<table border=\"1\" class=\"dataframe\">\n",
       "  <thead>\n",
       "    <tr style=\"text-align: right;\">\n",
       "      <th></th>\n",
       "      <th>PassengerId</th>\n",
       "      <th>HomePlanet</th>\n",
       "      <th>CryoSleep</th>\n",
       "      <th>Cabin</th>\n",
       "      <th>Destination</th>\n",
       "      <th>Age</th>\n",
       "      <th>VIP</th>\n",
       "      <th>RoomService</th>\n",
       "      <th>FoodCourt</th>\n",
       "      <th>ShoppingMall</th>\n",
       "      <th>Spa</th>\n",
       "      <th>VRDeck</th>\n",
       "      <th>Name</th>\n",
       "      <th>Transported</th>\n",
       "    </tr>\n",
       "  </thead>\n",
       "  <tbody>\n",
       "  </tbody>\n",
       "</table>\n",
       "</div>"
      ],
      "text/plain": [
       "Empty DataFrame\n",
       "Columns: [PassengerId, HomePlanet, CryoSleep, Cabin, Destination, Age, VIP, RoomService, FoodCourt, ShoppingMall, Spa, VRDeck, Name, Transported]\n",
       "Index: []"
      ]
     },
     "execution_count": 10,
     "metadata": {},
     "output_type": "execute_result"
    }
   ],
   "source": [
    "train_data[train_data.duplicated()]"
   ]
  },
  {
   "cell_type": "code",
   "execution_count": 11,
   "id": "9817dafe",
   "metadata": {
    "execution": {
     "iopub.execute_input": "2023-03-31T07:24:46.583041Z",
     "iopub.status.busy": "2023-03-31T07:24:46.582648Z",
     "iopub.status.idle": "2023-03-31T07:24:46.587713Z",
     "shell.execute_reply": "2023-03-31T07:24:46.586723Z"
    },
    "papermill": {
     "duration": 0.025869,
     "end_time": "2023-03-31T07:24:46.590011",
     "exception": false,
     "start_time": "2023-03-31T07:24:46.564142",
     "status": "completed"
    },
    "tags": []
   },
   "outputs": [],
   "source": [
    "# (train_data['HomePlanet'].isna() & train_data['Destination'].isna()).sum()"
   ]
  },
  {
   "cell_type": "code",
   "execution_count": 12,
   "id": "69061614",
   "metadata": {
    "execution": {
     "iopub.execute_input": "2023-03-31T07:24:46.626000Z",
     "iopub.status.busy": "2023-03-31T07:24:46.625248Z",
     "iopub.status.idle": "2023-03-31T07:24:47.252320Z",
     "shell.execute_reply": "2023-03-31T07:24:47.251399Z"
    },
    "papermill": {
     "duration": 0.647631,
     "end_time": "2023-03-31T07:24:47.254542",
     "exception": false,
     "start_time": "2023-03-31T07:24:46.606911",
     "status": "completed"
    },
    "tags": []
   },
   "outputs": [
    {
     "data": {
      "text/plain": [
       "<AxesSubplot:>"
      ]
     },
     "execution_count": 12,
     "metadata": {},
     "output_type": "execute_result"
    },
    {
     "data": {
      "image/png": "[encoded data removed]",
      "text/plain": [
       "<Figure size 640x480 with 2 Axes>"
      ]
     },
     "metadata": {},
     "output_type": "display_data"
    }
   ],
   "source": [
    "# plt.figure(figsize=(12,12))\n",
    "sns.heatmap(data=train_data.corr(), annot=True)"
   ]
  },
  {
   "cell_type": "code",
   "execution_count": 13,
   "id": "8019e690",
   "metadata": {
    "execution": {
     "iopub.execute_input": "2023-03-31T07:24:47.294342Z",
     "iopub.status.busy": "2023-03-31T07:24:47.293528Z",
     "iopub.status.idle": "2023-03-31T07:24:47.306982Z",
     "shell.execute_reply": "2023-03-31T07:24:47.305572Z"
    },
    "papermill": {
     "duration": 0.036348,
     "end_time": "2023-03-31T07:24:47.309973",
     "exception": false,
     "start_time": "2023-03-31T07:24:47.273625",
     "status": "completed"
    },
    "tags": []
   },
   "outputs": [
    {
     "data": {
      "text/html": [
       "<div>\n",
       "<style scoped>\n",
       "    .dataframe tbody tr th:only-of-type {\n",
       "        vertical-align: middle;\n",
       "    }\n",
       "\n",
       "    .dataframe tbody tr th {\n",
       "        vertical-align: top;\n",
       "    }\n",
       "\n",
       "    .dataframe thead th {\n",
       "        text-align: right;\n",
       "    }\n",
       "</style>\n",
       "<table border=\"1\" class=\"dataframe\">\n",
       "  <thead>\n",
       "    <tr style=\"text-align: right;\">\n",
       "      <th></th>\n",
       "      <th>PassengerId</th>\n",
       "      <th>HomePlanet</th>\n",
       "      <th>CryoSleep</th>\n",
       "      <th>Cabin</th>\n",
       "      <th>Destination</th>\n",
       "      <th>Age</th>\n",
       "      <th>VIP</th>\n",
       "      <th>RoomService</th>\n",
       "      <th>FoodCourt</th>\n",
       "      <th>ShoppingMall</th>\n",
       "      <th>Spa</th>\n",
       "      <th>VRDeck</th>\n",
       "      <th>Name</th>\n",
       "      <th>Transported</th>\n",
       "    </tr>\n",
       "  </thead>\n",
       "  <tbody>\n",
       "  </tbody>\n",
       "</table>\n",
       "</div>"
      ],
      "text/plain": [
       "Empty DataFrame\n",
       "Columns: [PassengerId, HomePlanet, CryoSleep, Cabin, Destination, Age, VIP, RoomService, FoodCourt, ShoppingMall, Spa, VRDeck, Name, Transported]\n",
       "Index: []"
      ]
     },
     "execution_count": 13,
     "metadata": {},
     "output_type": "execute_result"
    }
   ],
   "source": [
    "train_data[train_data['Age'].isna()]"
   ]
  },
  {
   "cell_type": "code",
   "execution_count": 14,
   "id": "4e1eb25f",
   "metadata": {
    "execution": {
     "iopub.execute_input": "2023-03-31T07:24:47.349244Z",
     "iopub.status.busy": "2023-03-31T07:24:47.348250Z",
     "iopub.status.idle": "2023-03-31T07:24:47.358164Z",
     "shell.execute_reply": "2023-03-31T07:24:47.356985Z"
    },
    "papermill": {
     "duration": 0.032393,
     "end_time": "2023-03-31T07:24:47.360670",
     "exception": false,
     "start_time": "2023-03-31T07:24:47.328277",
     "status": "completed"
    },
    "tags": []
   },
   "outputs": [
    {
     "data": {
      "text/plain": [
       "Earth     4021\n",
       "Europa    1848\n",
       "Mars      1529\n",
       "Name: HomePlanet, dtype: int64"
      ]
     },
     "execution_count": 14,
     "metadata": {},
     "output_type": "execute_result"
    }
   ],
   "source": [
    "train_data['HomePlanet'].value_counts()"
   ]
  },
  {
   "cell_type": "code",
   "execution_count": 15,
   "id": "4f9bcba9",
   "metadata": {
    "execution": {
     "iopub.execute_input": "2023-03-31T07:24:47.399904Z",
     "iopub.status.busy": "2023-03-31T07:24:47.399510Z",
     "iopub.status.idle": "2023-03-31T07:24:47.579877Z",
     "shell.execute_reply": "2023-03-31T07:24:47.578918Z"
    },
    "papermill": {
     "duration": 0.202882,
     "end_time": "2023-03-31T07:24:47.582230",
     "exception": false,
     "start_time": "2023-03-31T07:24:47.379348",
     "status": "completed"
    },
    "tags": []
   },
   "outputs": [
    {
     "data": {
      "text/plain": [
       "<BarContainer object of 3 artists>"
      ]
     },
     "execution_count": 15,
     "metadata": {},
     "output_type": "execute_result"
    },
    {
     "data": {
      "image/png": "[encoded data removed]",
      "text/plain": [
       "<Figure size 300x300 with 1 Axes>"
      ]
     },
     "metadata": {},
     "output_type": "display_data"
    }
   ],
   "source": [
    "plt.figure(figsize=(3,3))\n",
    "# fig, ax = plt.subplots(figsize=(3,4))\n",
    "plt.bar(train_data['HomePlanet'].value_counts().index, train_data['HomePlanet'].value_counts().values)"
   ]
  },
  {
   "cell_type": "code",
   "execution_count": 16,
   "id": "9912c791",
   "metadata": {
    "execution": {
     "iopub.execute_input": "2023-03-31T07:24:47.622276Z",
     "iopub.status.busy": "2023-03-31T07:24:47.621880Z",
     "iopub.status.idle": "2023-03-31T07:24:47.860229Z",
     "shell.execute_reply": "2023-03-31T07:24:47.859090Z"
    },
    "papermill": {
     "duration": 0.261526,
     "end_time": "2023-03-31T07:24:47.863041",
     "exception": false,
     "start_time": "2023-03-31T07:24:47.601515",
     "status": "completed"
    },
    "tags": []
   },
   "outputs": [
    {
     "data": {
      "text/plain": [
       "<AxesSubplot:xlabel='Destination', ylabel='Count'>"
      ]
     },
     "execution_count": 16,
     "metadata": {},
     "output_type": "execute_result"
    },
    {
     "data": {
      "image/png": "[encoded data removed]",
      "text/plain": [
       "<Figure size 640x480 with 1 Axes>"
      ]
     },
     "metadata": {},
     "output_type": "display_data"
    }
   ],
   "source": [
    "# sns.set_style(rc=)\n",
    "sns.histplot(data=train_data, x='Destination')\n",
    "# plt.show()"
   ]
  },
  {
   "cell_type": "code",
   "execution_count": 17,
   "id": "587d0ff4",
   "metadata": {
    "execution": {
     "iopub.execute_input": "2023-03-31T07:24:47.903434Z",
     "iopub.status.busy": "2023-03-31T07:24:47.903037Z",
     "iopub.status.idle": "2023-03-31T07:24:47.917896Z",
     "shell.execute_reply": "2023-03-31T07:24:47.916637Z"
    },
    "papermill": {
     "duration": 0.038416,
     "end_time": "2023-03-31T07:24:47.920698",
     "exception": false,
     "start_time": "2023-03-31T07:24:47.882282",
     "status": "completed"
    },
    "tags": []
   },
   "outputs": [],
   "source": [
    "le = LabelEncoder()\n",
    "train_data['HomePlanetCode'] = le.fit_transform(train_data['HomePlanet'])\n",
    "train_data['DestinationCode'] = le.fit_transform(train_data['Destination'])\n",
    "test_data['HomePlanetCode'] = le.fit_transform(test_data['HomePlanet'])\n",
    "test_data['DestinationCode'] = le.fit_transform(test_data['Destination'])"
   ]
  },
  {
   "cell_type": "code",
   "execution_count": 18,
   "id": "e06c72a7",
   "metadata": {
    "execution": {
     "iopub.execute_input": "2023-03-31T07:24:47.961992Z",
     "iopub.status.busy": "2023-03-31T07:24:47.961243Z",
     "iopub.status.idle": "2023-03-31T07:24:47.970614Z",
     "shell.execute_reply": "2023-03-31T07:24:47.969426Z"
    },
    "papermill": {
     "duration": 0.032851,
     "end_time": "2023-03-31T07:24:47.973018",
     "exception": false,
     "start_time": "2023-03-31T07:24:47.940167",
     "status": "completed"
    },
    "tags": []
   },
   "outputs": [
    {
     "data": {
      "text/plain": [
       "0    4021\n",
       "1    1848\n",
       "2    1529\n",
       "Name: HomePlanetCode, dtype: int64"
      ]
     },
     "execution_count": 18,
     "metadata": {},
     "output_type": "execute_result"
    }
   ],
   "source": [
    "train_data['HomePlanetCode'].value_counts()"
   ]
  },
  {
   "cell_type": "code",
   "execution_count": 19,
   "id": "98081f00",
   "metadata": {
    "execution": {
     "iopub.execute_input": "2023-03-31T07:24:48.015172Z",
     "iopub.status.busy": "2023-03-31T07:24:48.014517Z",
     "iopub.status.idle": "2023-03-31T07:24:48.023341Z",
     "shell.execute_reply": "2023-03-31T07:24:48.022150Z"
    },
    "papermill": {
     "duration": 0.032955,
     "end_time": "2023-03-31T07:24:48.025674",
     "exception": false,
     "start_time": "2023-03-31T07:24:47.992719",
     "status": "completed"
    },
    "tags": []
   },
   "outputs": [
    {
     "data": {
      "text/plain": [
       "2    5135\n",
       "0    1566\n",
       "1     697\n",
       "Name: DestinationCode, dtype: int64"
      ]
     },
     "execution_count": 19,
     "metadata": {},
     "output_type": "execute_result"
    }
   ],
   "source": [
    "train_data['DestinationCode'].value_counts()"
   ]
  },
  {
   "cell_type": "code",
   "execution_count": 20,
   "id": "d4d4730f",
   "metadata": {
    "execution": {
     "iopub.execute_input": "2023-03-31T07:24:48.069469Z",
     "iopub.status.busy": "2023-03-31T07:24:48.068760Z",
     "iopub.status.idle": "2023-03-31T07:24:48.083575Z",
     "shell.execute_reply": "2023-03-31T07:24:48.082178Z"
    },
    "papermill": {
     "duration": 0.039463,
     "end_time": "2023-03-31T07:24:48.085988",
     "exception": false,
     "start_time": "2023-03-31T07:24:48.046525",
     "status": "completed"
    },
    "tags": []
   },
   "outputs": [
    {
     "data": {
      "text/html": [
       "<div>\n",
       "<style scoped>\n",
       "    .dataframe tbody tr th:only-of-type {\n",
       "        vertical-align: middle;\n",
       "    }\n",
       "\n",
       "    .dataframe tbody tr th {\n",
       "        vertical-align: top;\n",
       "    }\n",
       "\n",
       "    .dataframe thead th {\n",
       "        text-align: right;\n",
       "    }\n",
       "</style>\n",
       "<table border=\"1\" class=\"dataframe\">\n",
       "  <thead>\n",
       "    <tr style=\"text-align: right;\">\n",
       "      <th></th>\n",
       "      <th>HomePlanet</th>\n",
       "      <th>Destination</th>\n",
       "      <th>Transported</th>\n",
       "    </tr>\n",
       "  </thead>\n",
       "  <tbody>\n",
       "  </tbody>\n",
       "</table>\n",
       "</div>"
      ],
      "text/plain": [
       "Empty DataFrame\n",
       "Columns: [HomePlanet, Destination, Transported]\n",
       "Index: []"
      ]
     },
     "execution_count": 20,
     "metadata": {},
     "output_type": "execute_result"
    }
   ],
   "source": [
    "train_data[train_data['HomePlanet'].isna()].loc[:,['HomePlanet','Destination','Transported']]"
   ]
  },
  {
   "cell_type": "code",
   "execution_count": 21,
   "id": "dba8b778",
   "metadata": {
    "execution": {
     "iopub.execute_input": "2023-03-31T07:24:48.128456Z",
     "iopub.status.busy": "2023-03-31T07:24:48.127802Z",
     "iopub.status.idle": "2023-03-31T07:24:48.139844Z",
     "shell.execute_reply": "2023-03-31T07:24:48.138641Z"
    },
    "papermill": {
     "duration": 0.035507,
     "end_time": "2023-03-31T07:24:48.142140",
     "exception": false,
     "start_time": "2023-03-31T07:24:48.106633",
     "status": "completed"
    },
    "tags": []
   },
   "outputs": [
    {
     "data": {
      "text/html": [
       "<div>\n",
       "<style scoped>\n",
       "    .dataframe tbody tr th:only-of-type {\n",
       "        vertical-align: middle;\n",
       "    }\n",
       "\n",
       "    .dataframe tbody tr th {\n",
       "        vertical-align: top;\n",
       "    }\n",
       "\n",
       "    .dataframe thead th {\n",
       "        text-align: right;\n",
       "    }\n",
       "</style>\n",
       "<table border=\"1\" class=\"dataframe\">\n",
       "  <thead>\n",
       "    <tr style=\"text-align: right;\">\n",
       "      <th></th>\n",
       "      <th>HomePlanet</th>\n",
       "      <th>Destination</th>\n",
       "      <th>Transported</th>\n",
       "    </tr>\n",
       "  </thead>\n",
       "  <tbody>\n",
       "  </tbody>\n",
       "</table>\n",
       "</div>"
      ],
      "text/plain": [
       "Empty DataFrame\n",
       "Columns: [HomePlanet, Destination, Transported]\n",
       "Index: []"
      ]
     },
     "execution_count": 21,
     "metadata": {},
     "output_type": "execute_result"
    }
   ],
   "source": [
    "train_data[train_data['Destination'].isna()].loc[:,['HomePlanet','Destination','Transported']]"
   ]
  },
  {
   "cell_type": "code",
   "execution_count": 22,
   "id": "00092724",
   "metadata": {
    "execution": {
     "iopub.execute_input": "2023-03-31T07:24:48.184397Z",
     "iopub.status.busy": "2023-03-31T07:24:48.183737Z",
     "iopub.status.idle": "2023-03-31T07:24:48.193940Z",
     "shell.execute_reply": "2023-03-31T07:24:48.193013Z"
    },
    "papermill": {
     "duration": 0.034117,
     "end_time": "2023-03-31T07:24:48.196430",
     "exception": false,
     "start_time": "2023-03-31T07:24:48.162313",
     "status": "completed"
    },
    "tags": []
   },
   "outputs": [],
   "source": [
    "train_data['CryoSleepCode'] = le.fit_transform(train_data['CryoSleep'])\n",
    "test_data['CryoSleepCode'] = le.fit_transform(test_data['CryoSleep'])"
   ]
  },
  {
   "cell_type": "code",
   "execution_count": 23,
   "id": "993fb108",
   "metadata": {
    "execution": {
     "iopub.execute_input": "2023-03-31T07:24:48.237990Z",
     "iopub.status.busy": "2023-03-31T07:24:48.237008Z",
     "iopub.status.idle": "2023-03-31T07:24:48.261641Z",
     "shell.execute_reply": "2023-03-31T07:24:48.260376Z"
    },
    "papermill": {
     "duration": 0.048475,
     "end_time": "2023-03-31T07:24:48.264405",
     "exception": false,
     "start_time": "2023-03-31T07:24:48.215930",
     "status": "completed"
    },
    "tags": []
   },
   "outputs": [
    {
     "data": {
      "text/html": [
       "<div>\n",
       "<style scoped>\n",
       "    .dataframe tbody tr th:only-of-type {\n",
       "        vertical-align: middle;\n",
       "    }\n",
       "\n",
       "    .dataframe tbody tr th {\n",
       "        vertical-align: top;\n",
       "    }\n",
       "\n",
       "    .dataframe thead th {\n",
       "        text-align: right;\n",
       "    }\n",
       "</style>\n",
       "<table border=\"1\" class=\"dataframe\">\n",
       "  <thead>\n",
       "    <tr style=\"text-align: right;\">\n",
       "      <th></th>\n",
       "      <th>PassengerId</th>\n",
       "      <th>HomePlanet</th>\n",
       "      <th>CryoSleep</th>\n",
       "      <th>Cabin</th>\n",
       "      <th>Destination</th>\n",
       "      <th>Age</th>\n",
       "      <th>VIP</th>\n",
       "      <th>RoomService</th>\n",
       "      <th>FoodCourt</th>\n",
       "      <th>ShoppingMall</th>\n",
       "      <th>Spa</th>\n",
       "      <th>VRDeck</th>\n",
       "      <th>Name</th>\n",
       "      <th>HomePlanetCode</th>\n",
       "      <th>DestinationCode</th>\n",
       "      <th>CryoSleepCode</th>\n",
       "    </tr>\n",
       "  </thead>\n",
       "  <tbody>\n",
       "    <tr>\n",
       "      <th>0</th>\n",
       "      <td>0013_01</td>\n",
       "      <td>Earth</td>\n",
       "      <td>True</td>\n",
       "      <td>G/3/S</td>\n",
       "      <td>TRAPPIST-1e</td>\n",
       "      <td>27.0</td>\n",
       "      <td>False</td>\n",
       "      <td>0.0</td>\n",
       "      <td>0.0</td>\n",
       "      <td>0.0</td>\n",
       "      <td>0.0</td>\n",
       "      <td>0.0</td>\n",
       "      <td>Nelly Carsoning</td>\n",
       "      <td>0</td>\n",
       "      <td>2</td>\n",
       "      <td>1</td>\n",
       "    </tr>\n",
       "    <tr>\n",
       "      <th>1</th>\n",
       "      <td>0018_01</td>\n",
       "      <td>Earth</td>\n",
       "      <td>False</td>\n",
       "      <td>F/4/S</td>\n",
       "      <td>TRAPPIST-1e</td>\n",
       "      <td>19.0</td>\n",
       "      <td>False</td>\n",
       "      <td>0.0</td>\n",
       "      <td>9.0</td>\n",
       "      <td>0.0</td>\n",
       "      <td>2823.0</td>\n",
       "      <td>0.0</td>\n",
       "      <td>Lerome Peckers</td>\n",
       "      <td>0</td>\n",
       "      <td>2</td>\n",
       "      <td>0</td>\n",
       "    </tr>\n",
       "    <tr>\n",
       "      <th>2</th>\n",
       "      <td>0019_01</td>\n",
       "      <td>Europa</td>\n",
       "      <td>True</td>\n",
       "      <td>C/0/S</td>\n",
       "      <td>55 Cancri e</td>\n",
       "      <td>31.0</td>\n",
       "      <td>False</td>\n",
       "      <td>0.0</td>\n",
       "      <td>0.0</td>\n",
       "      <td>0.0</td>\n",
       "      <td>0.0</td>\n",
       "      <td>0.0</td>\n",
       "      <td>Sabih Unhearfus</td>\n",
       "      <td>1</td>\n",
       "      <td>0</td>\n",
       "      <td>1</td>\n",
       "    </tr>\n",
       "    <tr>\n",
       "      <th>3</th>\n",
       "      <td>0021_01</td>\n",
       "      <td>Europa</td>\n",
       "      <td>False</td>\n",
       "      <td>C/1/S</td>\n",
       "      <td>TRAPPIST-1e</td>\n",
       "      <td>38.0</td>\n",
       "      <td>False</td>\n",
       "      <td>0.0</td>\n",
       "      <td>6652.0</td>\n",
       "      <td>0.0</td>\n",
       "      <td>181.0</td>\n",
       "      <td>585.0</td>\n",
       "      <td>Meratz Caltilter</td>\n",
       "      <td>1</td>\n",
       "      <td>2</td>\n",
       "      <td>0</td>\n",
       "    </tr>\n",
       "    <tr>\n",
       "      <th>4</th>\n",
       "      <td>0023_01</td>\n",
       "      <td>Earth</td>\n",
       "      <td>False</td>\n",
       "      <td>F/5/S</td>\n",
       "      <td>TRAPPIST-1e</td>\n",
       "      <td>20.0</td>\n",
       "      <td>False</td>\n",
       "      <td>10.0</td>\n",
       "      <td>0.0</td>\n",
       "      <td>635.0</td>\n",
       "      <td>0.0</td>\n",
       "      <td>0.0</td>\n",
       "      <td>Brence Harperez</td>\n",
       "      <td>0</td>\n",
       "      <td>2</td>\n",
       "      <td>0</td>\n",
       "    </tr>\n",
       "    <tr>\n",
       "      <th>5</th>\n",
       "      <td>0027_01</td>\n",
       "      <td>Earth</td>\n",
       "      <td>False</td>\n",
       "      <td>F/7/P</td>\n",
       "      <td>TRAPPIST-1e</td>\n",
       "      <td>31.0</td>\n",
       "      <td>False</td>\n",
       "      <td>0.0</td>\n",
       "      <td>1615.0</td>\n",
       "      <td>263.0</td>\n",
       "      <td>113.0</td>\n",
       "      <td>60.0</td>\n",
       "      <td>Karlen Ricks</td>\n",
       "      <td>0</td>\n",
       "      <td>2</td>\n",
       "      <td>0</td>\n",
       "    </tr>\n",
       "    <tr>\n",
       "      <th>6</th>\n",
       "      <td>0029_01</td>\n",
       "      <td>Europa</td>\n",
       "      <td>True</td>\n",
       "      <td>B/2/P</td>\n",
       "      <td>55 Cancri e</td>\n",
       "      <td>21.0</td>\n",
       "      <td>False</td>\n",
       "      <td>0.0</td>\n",
       "      <td>0.0</td>\n",
       "      <td>0.0</td>\n",
       "      <td>0.0</td>\n",
       "      <td>0.0</td>\n",
       "      <td>Aldah Ainserfle</td>\n",
       "      <td>1</td>\n",
       "      <td>0</td>\n",
       "      <td>1</td>\n",
       "    </tr>\n",
       "    <tr>\n",
       "      <th>7</th>\n",
       "      <td>0032_01</td>\n",
       "      <td>Europa</td>\n",
       "      <td>True</td>\n",
       "      <td>D/0/S</td>\n",
       "      <td>TRAPPIST-1e</td>\n",
       "      <td>20.0</td>\n",
       "      <td>False</td>\n",
       "      <td>0.0</td>\n",
       "      <td>0.0</td>\n",
       "      <td>0.0</td>\n",
       "      <td>0.0</td>\n",
       "      <td>0.0</td>\n",
       "      <td>Acrabi Pringry</td>\n",
       "      <td>1</td>\n",
       "      <td>2</td>\n",
       "      <td>1</td>\n",
       "    </tr>\n",
       "    <tr>\n",
       "      <th>8</th>\n",
       "      <td>0032_02</td>\n",
       "      <td>Europa</td>\n",
       "      <td>True</td>\n",
       "      <td>D/0/S</td>\n",
       "      <td>55 Cancri e</td>\n",
       "      <td>23.0</td>\n",
       "      <td>False</td>\n",
       "      <td>0.0</td>\n",
       "      <td>0.0</td>\n",
       "      <td>0.0</td>\n",
       "      <td>0.0</td>\n",
       "      <td>0.0</td>\n",
       "      <td>Dhena Pringry</td>\n",
       "      <td>1</td>\n",
       "      <td>0</td>\n",
       "      <td>1</td>\n",
       "    </tr>\n",
       "    <tr>\n",
       "      <th>9</th>\n",
       "      <td>0033_01</td>\n",
       "      <td>Earth</td>\n",
       "      <td>False</td>\n",
       "      <td>F/7/S</td>\n",
       "      <td>55 Cancri e</td>\n",
       "      <td>24.0</td>\n",
       "      <td>False</td>\n",
       "      <td>0.0</td>\n",
       "      <td>639.0</td>\n",
       "      <td>0.0</td>\n",
       "      <td>0.0</td>\n",
       "      <td>0.0</td>\n",
       "      <td>Eliana Delazarson</td>\n",
       "      <td>0</td>\n",
       "      <td>0</td>\n",
       "      <td>0</td>\n",
       "    </tr>\n",
       "  </tbody>\n",
       "</table>\n",
       "</div>"
      ],
      "text/plain": [
       "  PassengerId HomePlanet CryoSleep  Cabin  Destination   Age    VIP  \\\n",
       "0     0013_01      Earth      True  G/3/S  TRAPPIST-1e  27.0  False   \n",
       "1     0018_01      Earth     False  F/4/S  TRAPPIST-1e  19.0  False   \n",
       "2     0019_01     Europa      True  C/0/S  55 Cancri e  31.0  False   \n",
       "3     0021_01     Europa     False  C/1/S  TRAPPIST-1e  38.0  False   \n",
       "4     0023_01      Earth     False  F/5/S  TRAPPIST-1e  20.0  False   \n",
       "5     0027_01      Earth     False  F/7/P  TRAPPIST-1e  31.0  False   \n",
       "6     0029_01     Europa      True  B/2/P  55 Cancri e  21.0  False   \n",
       "7     0032_01     Europa      True  D/0/S  TRAPPIST-1e  20.0  False   \n",
       "8     0032_02     Europa      True  D/0/S  55 Cancri e  23.0  False   \n",
       "9     0033_01      Earth     False  F/7/S  55 Cancri e  24.0  False   \n",
       "\n",
       "   RoomService  FoodCourt  ShoppingMall     Spa  VRDeck               Name  \\\n",
       "0          0.0        0.0           0.0     0.0     0.0    Nelly Carsoning   \n",
       "1          0.0        9.0           0.0  2823.0     0.0     Lerome Peckers   \n",
       "2          0.0        0.0           0.0     0.0     0.0    Sabih Unhearfus   \n",
       "3          0.0     6652.0           0.0   181.0   585.0   Meratz Caltilter   \n",
       "4         10.0        0.0         635.0     0.0     0.0    Brence Harperez   \n",
       "5          0.0     1615.0         263.0   113.0    60.0       Karlen Ricks   \n",
       "6          0.0        0.0           0.0     0.0     0.0    Aldah Ainserfle   \n",
       "7          0.0        0.0           0.0     0.0     0.0     Acrabi Pringry   \n",
       "8          0.0        0.0           0.0     0.0     0.0      Dhena Pringry   \n",
       "9          0.0      639.0           0.0     0.0     0.0  Eliana Delazarson   \n",
       "\n",
       "   HomePlanetCode  DestinationCode  CryoSleepCode  \n",
       "0               0                2              1  \n",
       "1               0                2              0  \n",
       "2               1                0              1  \n",
       "3               1                2              0  \n",
       "4               0                2              0  \n",
       "5               0                2              0  \n",
       "6               1                0              1  \n",
       "7               1                2              1  \n",
       "8               1                0              1  \n",
       "9               0                0              0  "
      ]
     },
     "execution_count": 23,
     "metadata": {},
     "output_type": "execute_result"
    }
   ],
   "source": [
    "test_data.head(10)"
   ]
  },
  {
   "cell_type": "code",
   "execution_count": 24,
   "id": "d78be89b",
   "metadata": {
    "execution": {
     "iopub.execute_input": "2023-03-31T07:24:48.307655Z",
     "iopub.status.busy": "2023-03-31T07:24:48.306936Z",
     "iopub.status.idle": "2023-03-31T07:24:48.336141Z",
     "shell.execute_reply": "2023-03-31T07:24:48.335222Z"
    },
    "papermill": {
     "duration": 0.053432,
     "end_time": "2023-03-31T07:24:48.338791",
     "exception": false,
     "start_time": "2023-03-31T07:24:48.285359",
     "status": "completed"
    },
    "tags": []
   },
   "outputs": [],
   "source": [
    "train_data[['CabinDeck','CabinNum','CabinSide']] = train_data['Cabin'].str.split('/', expand=True)\n",
    "test_data[['CabinDeck','CabinNum','CabinSide']] = test_data['Cabin'].str.split('/', expand=True)"
   ]
  },
  {
   "cell_type": "code",
   "execution_count": 25,
   "id": "872a138b",
   "metadata": {
    "execution": {
     "iopub.execute_input": "2023-03-31T07:24:48.381943Z",
     "iopub.status.busy": "2023-03-31T07:24:48.381498Z",
     "iopub.status.idle": "2023-03-31T07:24:48.406147Z",
     "shell.execute_reply": "2023-03-31T07:24:48.404958Z"
    },
    "papermill": {
     "duration": 0.049949,
     "end_time": "2023-03-31T07:24:48.408790",
     "exception": false,
     "start_time": "2023-03-31T07:24:48.358841",
     "status": "completed"
    },
    "tags": []
   },
   "outputs": [
    {
     "data": {
      "text/html": [
       "<div>\n",
       "<style scoped>\n",
       "    .dataframe tbody tr th:only-of-type {\n",
       "        vertical-align: middle;\n",
       "    }\n",
       "\n",
       "    .dataframe tbody tr th {\n",
       "        vertical-align: top;\n",
       "    }\n",
       "\n",
       "    .dataframe thead th {\n",
       "        text-align: right;\n",
       "    }\n",
       "</style>\n",
       "<table border=\"1\" class=\"dataframe\">\n",
       "  <thead>\n",
       "    <tr style=\"text-align: right;\">\n",
       "      <th></th>\n",
       "      <th>PassengerId</th>\n",
       "      <th>HomePlanet</th>\n",
       "      <th>CryoSleep</th>\n",
       "      <th>Cabin</th>\n",
       "      <th>Destination</th>\n",
       "      <th>Age</th>\n",
       "      <th>VIP</th>\n",
       "      <th>RoomService</th>\n",
       "      <th>FoodCourt</th>\n",
       "      <th>ShoppingMall</th>\n",
       "      <th>Spa</th>\n",
       "      <th>VRDeck</th>\n",
       "      <th>Name</th>\n",
       "      <th>Transported</th>\n",
       "      <th>HomePlanetCode</th>\n",
       "      <th>DestinationCode</th>\n",
       "      <th>CryoSleepCode</th>\n",
       "      <th>CabinDeck</th>\n",
       "      <th>CabinNum</th>\n",
       "      <th>CabinSide</th>\n",
       "    </tr>\n",
       "  </thead>\n",
       "  <tbody>\n",
       "    <tr>\n",
       "      <th>0</th>\n",
       "      <td>0001_01</td>\n",
       "      <td>Europa</td>\n",
       "      <td>False</td>\n",
       "      <td>B/0/P</td>\n",
       "      <td>TRAPPIST-1e</td>\n",
       "      <td>39.0</td>\n",
       "      <td>False</td>\n",
       "      <td>0.0</td>\n",
       "      <td>0.0</td>\n",
       "      <td>0.0</td>\n",
       "      <td>0.0</td>\n",
       "      <td>0.0</td>\n",
       "      <td>Maham Ofracculy</td>\n",
       "      <td>False</td>\n",
       "      <td>1</td>\n",
       "      <td>2</td>\n",
       "      <td>0</td>\n",
       "      <td>B</td>\n",
       "      <td>0</td>\n",
       "      <td>P</td>\n",
       "    </tr>\n",
       "    <tr>\n",
       "      <th>1</th>\n",
       "      <td>0002_01</td>\n",
       "      <td>Earth</td>\n",
       "      <td>False</td>\n",
       "      <td>F/0/S</td>\n",
       "      <td>TRAPPIST-1e</td>\n",
       "      <td>24.0</td>\n",
       "      <td>False</td>\n",
       "      <td>109.0</td>\n",
       "      <td>9.0</td>\n",
       "      <td>25.0</td>\n",
       "      <td>549.0</td>\n",
       "      <td>44.0</td>\n",
       "      <td>Juanna Vines</td>\n",
       "      <td>True</td>\n",
       "      <td>0</td>\n",
       "      <td>2</td>\n",
       "      <td>0</td>\n",
       "      <td>F</td>\n",
       "      <td>0</td>\n",
       "      <td>S</td>\n",
       "    </tr>\n",
       "    <tr>\n",
       "      <th>2</th>\n",
       "      <td>0003_01</td>\n",
       "      <td>Europa</td>\n",
       "      <td>False</td>\n",
       "      <td>A/0/S</td>\n",
       "      <td>TRAPPIST-1e</td>\n",
       "      <td>58.0</td>\n",
       "      <td>True</td>\n",
       "      <td>43.0</td>\n",
       "      <td>3576.0</td>\n",
       "      <td>0.0</td>\n",
       "      <td>6715.0</td>\n",
       "      <td>49.0</td>\n",
       "      <td>Altark Susent</td>\n",
       "      <td>False</td>\n",
       "      <td>1</td>\n",
       "      <td>2</td>\n",
       "      <td>0</td>\n",
       "      <td>A</td>\n",
       "      <td>0</td>\n",
       "      <td>S</td>\n",
       "    </tr>\n",
       "    <tr>\n",
       "      <th>3</th>\n",
       "      <td>0003_02</td>\n",
       "      <td>Europa</td>\n",
       "      <td>False</td>\n",
       "      <td>A/0/S</td>\n",
       "      <td>TRAPPIST-1e</td>\n",
       "      <td>33.0</td>\n",
       "      <td>False</td>\n",
       "      <td>0.0</td>\n",
       "      <td>1283.0</td>\n",
       "      <td>371.0</td>\n",
       "      <td>3329.0</td>\n",
       "      <td>193.0</td>\n",
       "      <td>Solam Susent</td>\n",
       "      <td>False</td>\n",
       "      <td>1</td>\n",
       "      <td>2</td>\n",
       "      <td>0</td>\n",
       "      <td>A</td>\n",
       "      <td>0</td>\n",
       "      <td>S</td>\n",
       "    </tr>\n",
       "    <tr>\n",
       "      <th>4</th>\n",
       "      <td>0004_01</td>\n",
       "      <td>Earth</td>\n",
       "      <td>False</td>\n",
       "      <td>F/1/S</td>\n",
       "      <td>TRAPPIST-1e</td>\n",
       "      <td>16.0</td>\n",
       "      <td>False</td>\n",
       "      <td>303.0</td>\n",
       "      <td>70.0</td>\n",
       "      <td>151.0</td>\n",
       "      <td>565.0</td>\n",
       "      <td>2.0</td>\n",
       "      <td>Willy Santantines</td>\n",
       "      <td>True</td>\n",
       "      <td>0</td>\n",
       "      <td>2</td>\n",
       "      <td>0</td>\n",
       "      <td>F</td>\n",
       "      <td>1</td>\n",
       "      <td>S</td>\n",
       "    </tr>\n",
       "  </tbody>\n",
       "</table>\n",
       "</div>"
      ],
      "text/plain": [
       "  PassengerId HomePlanet CryoSleep  Cabin  Destination   Age    VIP  \\\n",
       "0     0001_01     Europa     False  B/0/P  TRAPPIST-1e  39.0  False   \n",
       "1     0002_01      Earth     False  F/0/S  TRAPPIST-1e  24.0  False   \n",
       "2     0003_01     Europa     False  A/0/S  TRAPPIST-1e  58.0   True   \n",
       "3     0003_02     Europa     False  A/0/S  TRAPPIST-1e  33.0  False   \n",
       "4     0004_01      Earth     False  F/1/S  TRAPPIST-1e  16.0  False   \n",
       "\n",
       "   RoomService  FoodCourt  ShoppingMall     Spa  VRDeck               Name  \\\n",
       "0          0.0        0.0           0.0     0.0     0.0    Maham Ofracculy   \n",
       "1        109.0        9.0          25.0   549.0    44.0       Juanna Vines   \n",
       "2         43.0     3576.0           0.0  6715.0    49.0      Altark Susent   \n",
       "3          0.0     1283.0         371.0  3329.0   193.0       Solam Susent   \n",
       "4        303.0       70.0         151.0   565.0     2.0  Willy Santantines   \n",
       "\n",
       "   Transported  HomePlanetCode  DestinationCode  CryoSleepCode CabinDeck  \\\n",
       "0        False               1                2              0         B   \n",
       "1         True               0                2              0         F   \n",
       "2        False               1                2              0         A   \n",
       "3        False               1                2              0         A   \n",
       "4         True               0                2              0         F   \n",
       "\n",
       "  CabinNum CabinSide  \n",
       "0        0         P  \n",
       "1        0         S  \n",
       "2        0         S  \n",
       "3        0         S  \n",
       "4        1         S  "
      ]
     },
     "execution_count": 25,
     "metadata": {},
     "output_type": "execute_result"
    }
   ],
   "source": [
    "train_data.head()"
   ]
  },
  {
   "cell_type": "code",
   "execution_count": 26,
   "id": "bd4f7293",
   "metadata": {
    "execution": {
     "iopub.execute_input": "2023-03-31T07:24:48.453029Z",
     "iopub.status.busy": "2023-03-31T07:24:48.451982Z",
     "iopub.status.idle": "2023-03-31T07:24:48.469945Z",
     "shell.execute_reply": "2023-03-31T07:24:48.468642Z"
    },
    "papermill": {
     "duration": 0.043163,
     "end_time": "2023-03-31T07:24:48.473128",
     "exception": false,
     "start_time": "2023-03-31T07:24:48.429965",
     "status": "completed"
    },
    "tags": []
   },
   "outputs": [
    {
     "data": {
      "text/html": [
       "<div>\n",
       "<style scoped>\n",
       "    .dataframe tbody tr th:only-of-type {\n",
       "        vertical-align: middle;\n",
       "    }\n",
       "\n",
       "    .dataframe tbody tr th {\n",
       "        vertical-align: top;\n",
       "    }\n",
       "\n",
       "    .dataframe thead th {\n",
       "        text-align: right;\n",
       "    }\n",
       "</style>\n",
       "<table border=\"1\" class=\"dataframe\">\n",
       "  <thead>\n",
       "    <tr style=\"text-align: right;\">\n",
       "      <th></th>\n",
       "      <th>PassengerId</th>\n",
       "      <th>HomePlanet</th>\n",
       "      <th>CryoSleep</th>\n",
       "      <th>Cabin</th>\n",
       "      <th>Destination</th>\n",
       "      <th>Age</th>\n",
       "      <th>VIP</th>\n",
       "      <th>RoomService</th>\n",
       "      <th>FoodCourt</th>\n",
       "      <th>ShoppingMall</th>\n",
       "      <th>Spa</th>\n",
       "      <th>VRDeck</th>\n",
       "      <th>Name</th>\n",
       "      <th>Transported</th>\n",
       "      <th>HomePlanetCode</th>\n",
       "      <th>DestinationCode</th>\n",
       "      <th>CryoSleepCode</th>\n",
       "      <th>CabinDeck</th>\n",
       "      <th>CabinNum</th>\n",
       "      <th>CabinSide</th>\n",
       "    </tr>\n",
       "  </thead>\n",
       "  <tbody>\n",
       "  </tbody>\n",
       "</table>\n",
       "</div>"
      ],
      "text/plain": [
       "Empty DataFrame\n",
       "Columns: [PassengerId, HomePlanet, CryoSleep, Cabin, Destination, Age, VIP, RoomService, FoodCourt, ShoppingMall, Spa, VRDeck, Name, Transported, HomePlanetCode, DestinationCode, CryoSleepCode, CabinDeck, CabinNum, CabinSide]\n",
       "Index: []"
      ]
     },
     "execution_count": 26,
     "metadata": {},
     "output_type": "execute_result"
    }
   ],
   "source": [
    "train_data[train_data.CabinDeck.isna()]"
   ]
  },
  {
   "cell_type": "code",
   "execution_count": 27,
   "id": "3bc16e3e",
   "metadata": {
    "execution": {
     "iopub.execute_input": "2023-03-31T07:24:48.517620Z",
     "iopub.status.busy": "2023-03-31T07:24:48.517192Z",
     "iopub.status.idle": "2023-03-31T07:24:48.526600Z",
     "shell.execute_reply": "2023-03-31T07:24:48.525426Z"
    },
    "papermill": {
     "duration": 0.034544,
     "end_time": "2023-03-31T07:24:48.529037",
     "exception": false,
     "start_time": "2023-03-31T07:24:48.494493",
     "status": "completed"
    },
    "tags": []
   },
   "outputs": [
    {
     "data": {
      "text/plain": [
       "F    2425\n",
       "G    2226\n",
       "E     758\n",
       "B     691\n",
       "C     653\n",
       "D     422\n",
       "A     221\n",
       "T       2\n",
       "Name: CabinDeck, dtype: int64"
      ]
     },
     "execution_count": 27,
     "metadata": {},
     "output_type": "execute_result"
    }
   ],
   "source": [
    "train_data['CabinDeck'].value_counts()"
   ]
  },
  {
   "cell_type": "code",
   "execution_count": 28,
   "id": "1a988fce",
   "metadata": {
    "execution": {
     "iopub.execute_input": "2023-03-31T07:24:48.572082Z",
     "iopub.status.busy": "2023-03-31T07:24:48.571662Z",
     "iopub.status.idle": "2023-03-31T07:24:48.591612Z",
     "shell.execute_reply": "2023-03-31T07:24:48.590454Z"
    },
    "papermill": {
     "duration": 0.044549,
     "end_time": "2023-03-31T07:24:48.594266",
     "exception": false,
     "start_time": "2023-03-31T07:24:48.549717",
     "status": "completed"
    },
    "tags": []
   },
   "outputs": [
    {
     "data": {
      "text/html": [
       "<div>\n",
       "<style scoped>\n",
       "    .dataframe tbody tr th:only-of-type {\n",
       "        vertical-align: middle;\n",
       "    }\n",
       "\n",
       "    .dataframe tbody tr th {\n",
       "        vertical-align: top;\n",
       "    }\n",
       "\n",
       "    .dataframe thead th {\n",
       "        text-align: right;\n",
       "    }\n",
       "</style>\n",
       "<table border=\"1\" class=\"dataframe\">\n",
       "  <thead>\n",
       "    <tr style=\"text-align: right;\">\n",
       "      <th></th>\n",
       "      <th>CabinDeck_A</th>\n",
       "      <th>CabinDeck_B</th>\n",
       "      <th>CabinDeck_C</th>\n",
       "      <th>CabinDeck_D</th>\n",
       "      <th>CabinDeck_E</th>\n",
       "      <th>CabinDeck_F</th>\n",
       "      <th>CabinDeck_G</th>\n",
       "      <th>CabinDeck_T</th>\n",
       "    </tr>\n",
       "  </thead>\n",
       "  <tbody>\n",
       "    <tr>\n",
       "      <th>0</th>\n",
       "      <td>0</td>\n",
       "      <td>1</td>\n",
       "      <td>0</td>\n",
       "      <td>0</td>\n",
       "      <td>0</td>\n",
       "      <td>0</td>\n",
       "      <td>0</td>\n",
       "      <td>0</td>\n",
       "    </tr>\n",
       "    <tr>\n",
       "      <th>1</th>\n",
       "      <td>0</td>\n",
       "      <td>0</td>\n",
       "      <td>0</td>\n",
       "      <td>0</td>\n",
       "      <td>0</td>\n",
       "      <td>1</td>\n",
       "      <td>0</td>\n",
       "      <td>0</td>\n",
       "    </tr>\n",
       "    <tr>\n",
       "      <th>2</th>\n",
       "      <td>1</td>\n",
       "      <td>0</td>\n",
       "      <td>0</td>\n",
       "      <td>0</td>\n",
       "      <td>0</td>\n",
       "      <td>0</td>\n",
       "      <td>0</td>\n",
       "      <td>0</td>\n",
       "    </tr>\n",
       "    <tr>\n",
       "      <th>3</th>\n",
       "      <td>1</td>\n",
       "      <td>0</td>\n",
       "      <td>0</td>\n",
       "      <td>0</td>\n",
       "      <td>0</td>\n",
       "      <td>0</td>\n",
       "      <td>0</td>\n",
       "      <td>0</td>\n",
       "    </tr>\n",
       "    <tr>\n",
       "      <th>4</th>\n",
       "      <td>0</td>\n",
       "      <td>0</td>\n",
       "      <td>0</td>\n",
       "      <td>0</td>\n",
       "      <td>0</td>\n",
       "      <td>1</td>\n",
       "      <td>0</td>\n",
       "      <td>0</td>\n",
       "    </tr>\n",
       "    <tr>\n",
       "      <th>...</th>\n",
       "      <td>...</td>\n",
       "      <td>...</td>\n",
       "      <td>...</td>\n",
       "      <td>...</td>\n",
       "      <td>...</td>\n",
       "      <td>...</td>\n",
       "      <td>...</td>\n",
       "      <td>...</td>\n",
       "    </tr>\n",
       "    <tr>\n",
       "      <th>8688</th>\n",
       "      <td>1</td>\n",
       "      <td>0</td>\n",
       "      <td>0</td>\n",
       "      <td>0</td>\n",
       "      <td>0</td>\n",
       "      <td>0</td>\n",
       "      <td>0</td>\n",
       "      <td>0</td>\n",
       "    </tr>\n",
       "    <tr>\n",
       "      <th>8689</th>\n",
       "      <td>0</td>\n",
       "      <td>0</td>\n",
       "      <td>0</td>\n",
       "      <td>0</td>\n",
       "      <td>0</td>\n",
       "      <td>0</td>\n",
       "      <td>1</td>\n",
       "      <td>0</td>\n",
       "    </tr>\n",
       "    <tr>\n",
       "      <th>8690</th>\n",
       "      <td>0</td>\n",
       "      <td>0</td>\n",
       "      <td>0</td>\n",
       "      <td>0</td>\n",
       "      <td>0</td>\n",
       "      <td>0</td>\n",
       "      <td>1</td>\n",
       "      <td>0</td>\n",
       "    </tr>\n",
       "    <tr>\n",
       "      <th>8691</th>\n",
       "      <td>0</td>\n",
       "      <td>0</td>\n",
       "      <td>0</td>\n",
       "      <td>0</td>\n",
       "      <td>1</td>\n",
       "      <td>0</td>\n",
       "      <td>0</td>\n",
       "      <td>0</td>\n",
       "    </tr>\n",
       "    <tr>\n",
       "      <th>8692</th>\n",
       "      <td>0</td>\n",
       "      <td>0</td>\n",
       "      <td>0</td>\n",
       "      <td>0</td>\n",
       "      <td>1</td>\n",
       "      <td>0</td>\n",
       "      <td>0</td>\n",
       "      <td>0</td>\n",
       "    </tr>\n",
       "  </tbody>\n",
       "</table>\n",
       "<p>7398 rows × 8 columns</p>\n",
       "</div>"
      ],
      "text/plain": [
       "      CabinDeck_A  CabinDeck_B  CabinDeck_C  CabinDeck_D  CabinDeck_E  \\\n",
       "0               0            1            0            0            0   \n",
       "1               0            0            0            0            0   \n",
       "2               1            0            0            0            0   \n",
       "3               1            0            0            0            0   \n",
       "4               0            0            0            0            0   \n",
       "...           ...          ...          ...          ...          ...   \n",
       "8688            1            0            0            0            0   \n",
       "8689            0            0            0            0            0   \n",
       "8690            0            0            0            0            0   \n",
       "8691            0            0            0            0            1   \n",
       "8692            0            0            0            0            1   \n",
       "\n",
       "      CabinDeck_F  CabinDeck_G  CabinDeck_T  \n",
       "0               0            0            0  \n",
       "1               1            0            0  \n",
       "2               0            0            0  \n",
       "3               0            0            0  \n",
       "4               1            0            0  \n",
       "...           ...          ...          ...  \n",
       "8688            0            0            0  \n",
       "8689            0            1            0  \n",
       "8690            0            1            0  \n",
       "8691            0            0            0  \n",
       "8692            0            0            0  \n",
       "\n",
       "[7398 rows x 8 columns]"
      ]
     },
     "execution_count": 28,
     "metadata": {},
     "output_type": "execute_result"
    }
   ],
   "source": [
    "# train_data['CabinDeckCode'] = le.fit_transform(train_data['CabinDeck'])\n",
    "# test_data['CabinDeckCode'] = le.fit_transform(test_data['CabinDeck'])\n",
    "\n",
    "train_CabinDeck_encoded = pd.get_dummies(train_data['CabinDeck'], prefix='CabinDeck')\n",
    "test_CabinDeck_encoded = pd.get_dummies(test_data['CabinDeck'], prefix='CabinDeck')\n",
    "\n",
    "train_CabinDeck_encoded\n",
    "# train_data['CabinDeckCode'].value_counts()"
   ]
  },
  {
   "cell_type": "code",
   "execution_count": 29,
   "id": "538b78b3",
   "metadata": {
    "execution": {
     "iopub.execute_input": "2023-03-31T07:24:48.639469Z",
     "iopub.status.busy": "2023-03-31T07:24:48.638290Z",
     "iopub.status.idle": "2023-03-31T07:24:48.652543Z",
     "shell.execute_reply": "2023-03-31T07:24:48.651428Z"
    },
    "papermill": {
     "duration": 0.039328,
     "end_time": "2023-03-31T07:24:48.654913",
     "exception": false,
     "start_time": "2023-03-31T07:24:48.615585",
     "status": "completed"
    },
    "tags": []
   },
   "outputs": [
    {
     "data": {
      "text/plain": [
       "1    3731\n",
       "0    3667\n",
       "Name: CabinSideCode, dtype: int64"
      ]
     },
     "execution_count": 29,
     "metadata": {},
     "output_type": "execute_result"
    }
   ],
   "source": [
    "train_data['CabinSideCode'] = le.fit_transform(train_data['CabinSide'])\n",
    "test_data['CabinSideCode'] = le.fit_transform(test_data['CabinSide'])\n",
    "train_data['CabinSideCode'].value_counts()"
   ]
  },
  {
   "cell_type": "code",
   "execution_count": 30,
   "id": "9049a2d5",
   "metadata": {
    "execution": {
     "iopub.execute_input": "2023-03-31T07:24:48.698889Z",
     "iopub.status.busy": "2023-03-31T07:24:48.698451Z",
     "iopub.status.idle": "2023-03-31T07:24:48.725715Z",
     "shell.execute_reply": "2023-03-31T07:24:48.724459Z"
    },
    "papermill": {
     "duration": 0.052175,
     "end_time": "2023-03-31T07:24:48.728362",
     "exception": false,
     "start_time": "2023-03-31T07:24:48.676187",
     "status": "completed"
    },
    "tags": []
   },
   "outputs": [
    {
     "data": {
      "text/html": [
       "<div>\n",
       "<style scoped>\n",
       "    .dataframe tbody tr th:only-of-type {\n",
       "        vertical-align: middle;\n",
       "    }\n",
       "\n",
       "    .dataframe tbody tr th {\n",
       "        vertical-align: top;\n",
       "    }\n",
       "\n",
       "    .dataframe thead th {\n",
       "        text-align: right;\n",
       "    }\n",
       "</style>\n",
       "<table border=\"1\" class=\"dataframe\">\n",
       "  <thead>\n",
       "    <tr style=\"text-align: right;\">\n",
       "      <th></th>\n",
       "      <th>PassengerId</th>\n",
       "      <th>HomePlanet</th>\n",
       "      <th>CryoSleep</th>\n",
       "      <th>Cabin</th>\n",
       "      <th>Destination</th>\n",
       "      <th>Age</th>\n",
       "      <th>VIP</th>\n",
       "      <th>RoomService</th>\n",
       "      <th>FoodCourt</th>\n",
       "      <th>ShoppingMall</th>\n",
       "      <th>Spa</th>\n",
       "      <th>VRDeck</th>\n",
       "      <th>Name</th>\n",
       "      <th>HomePlanetCode</th>\n",
       "      <th>DestinationCode</th>\n",
       "      <th>CryoSleepCode</th>\n",
       "      <th>CabinDeck</th>\n",
       "      <th>CabinNum</th>\n",
       "      <th>CabinSide</th>\n",
       "      <th>CabinSideCode</th>\n",
       "    </tr>\n",
       "  </thead>\n",
       "  <tbody>\n",
       "    <tr>\n",
       "      <th>0</th>\n",
       "      <td>0013_01</td>\n",
       "      <td>Earth</td>\n",
       "      <td>True</td>\n",
       "      <td>G/3/S</td>\n",
       "      <td>TRAPPIST-1e</td>\n",
       "      <td>27.0</td>\n",
       "      <td>False</td>\n",
       "      <td>0.0</td>\n",
       "      <td>0.0</td>\n",
       "      <td>0.0</td>\n",
       "      <td>0.0</td>\n",
       "      <td>0.0</td>\n",
       "      <td>Nelly Carsoning</td>\n",
       "      <td>0</td>\n",
       "      <td>2</td>\n",
       "      <td>1</td>\n",
       "      <td>G</td>\n",
       "      <td>3</td>\n",
       "      <td>S</td>\n",
       "      <td>1</td>\n",
       "    </tr>\n",
       "    <tr>\n",
       "      <th>1</th>\n",
       "      <td>0018_01</td>\n",
       "      <td>Earth</td>\n",
       "      <td>False</td>\n",
       "      <td>F/4/S</td>\n",
       "      <td>TRAPPIST-1e</td>\n",
       "      <td>19.0</td>\n",
       "      <td>False</td>\n",
       "      <td>0.0</td>\n",
       "      <td>9.0</td>\n",
       "      <td>0.0</td>\n",
       "      <td>2823.0</td>\n",
       "      <td>0.0</td>\n",
       "      <td>Lerome Peckers</td>\n",
       "      <td>0</td>\n",
       "      <td>2</td>\n",
       "      <td>0</td>\n",
       "      <td>F</td>\n",
       "      <td>4</td>\n",
       "      <td>S</td>\n",
       "      <td>1</td>\n",
       "    </tr>\n",
       "    <tr>\n",
       "      <th>2</th>\n",
       "      <td>0019_01</td>\n",
       "      <td>Europa</td>\n",
       "      <td>True</td>\n",
       "      <td>C/0/S</td>\n",
       "      <td>55 Cancri e</td>\n",
       "      <td>31.0</td>\n",
       "      <td>False</td>\n",
       "      <td>0.0</td>\n",
       "      <td>0.0</td>\n",
       "      <td>0.0</td>\n",
       "      <td>0.0</td>\n",
       "      <td>0.0</td>\n",
       "      <td>Sabih Unhearfus</td>\n",
       "      <td>1</td>\n",
       "      <td>0</td>\n",
       "      <td>1</td>\n",
       "      <td>C</td>\n",
       "      <td>0</td>\n",
       "      <td>S</td>\n",
       "      <td>1</td>\n",
       "    </tr>\n",
       "    <tr>\n",
       "      <th>3</th>\n",
       "      <td>0021_01</td>\n",
       "      <td>Europa</td>\n",
       "      <td>False</td>\n",
       "      <td>C/1/S</td>\n",
       "      <td>TRAPPIST-1e</td>\n",
       "      <td>38.0</td>\n",
       "      <td>False</td>\n",
       "      <td>0.0</td>\n",
       "      <td>6652.0</td>\n",
       "      <td>0.0</td>\n",
       "      <td>181.0</td>\n",
       "      <td>585.0</td>\n",
       "      <td>Meratz Caltilter</td>\n",
       "      <td>1</td>\n",
       "      <td>2</td>\n",
       "      <td>0</td>\n",
       "      <td>C</td>\n",
       "      <td>1</td>\n",
       "      <td>S</td>\n",
       "      <td>1</td>\n",
       "    </tr>\n",
       "    <tr>\n",
       "      <th>4</th>\n",
       "      <td>0023_01</td>\n",
       "      <td>Earth</td>\n",
       "      <td>False</td>\n",
       "      <td>F/5/S</td>\n",
       "      <td>TRAPPIST-1e</td>\n",
       "      <td>20.0</td>\n",
       "      <td>False</td>\n",
       "      <td>10.0</td>\n",
       "      <td>0.0</td>\n",
       "      <td>635.0</td>\n",
       "      <td>0.0</td>\n",
       "      <td>0.0</td>\n",
       "      <td>Brence Harperez</td>\n",
       "      <td>0</td>\n",
       "      <td>2</td>\n",
       "      <td>0</td>\n",
       "      <td>F</td>\n",
       "      <td>5</td>\n",
       "      <td>S</td>\n",
       "      <td>1</td>\n",
       "    </tr>\n",
       "  </tbody>\n",
       "</table>\n",
       "</div>"
      ],
      "text/plain": [
       "  PassengerId HomePlanet CryoSleep  Cabin  Destination   Age    VIP  \\\n",
       "0     0013_01      Earth      True  G/3/S  TRAPPIST-1e  27.0  False   \n",
       "1     0018_01      Earth     False  F/4/S  TRAPPIST-1e  19.0  False   \n",
       "2     0019_01     Europa      True  C/0/S  55 Cancri e  31.0  False   \n",
       "3     0021_01     Europa     False  C/1/S  TRAPPIST-1e  38.0  False   \n",
       "4     0023_01      Earth     False  F/5/S  TRAPPIST-1e  20.0  False   \n",
       "\n",
       "   RoomService  FoodCourt  ShoppingMall     Spa  VRDeck              Name  \\\n",
       "0          0.0        0.0           0.0     0.0     0.0   Nelly Carsoning   \n",
       "1          0.0        9.0           0.0  2823.0     0.0    Lerome Peckers   \n",
       "2          0.0        0.0           0.0     0.0     0.0   Sabih Unhearfus   \n",
       "3          0.0     6652.0           0.0   181.0   585.0  Meratz Caltilter   \n",
       "4         10.0        0.0         635.0     0.0     0.0   Brence Harperez   \n",
       "\n",
       "   HomePlanetCode  DestinationCode  CryoSleepCode CabinDeck CabinNum  \\\n",
       "0               0                2              1         G        3   \n",
       "1               0                2              0         F        4   \n",
       "2               1                0              1         C        0   \n",
       "3               1                2              0         C        1   \n",
       "4               0                2              0         F        5   \n",
       "\n",
       "  CabinSide  CabinSideCode  \n",
       "0         S              1  \n",
       "1         S              1  \n",
       "2         S              1  \n",
       "3         S              1  \n",
       "4         S              1  "
      ]
     },
     "execution_count": 30,
     "metadata": {},
     "output_type": "execute_result"
    }
   ],
   "source": [
    "train_data['TransportedCode'] = le.fit_transform(train_data['Transported'])\n",
    "train_data.head()\n",
    "test_data.head()"
   ]
  },
  {
   "cell_type": "code",
   "execution_count": 31,
   "id": "798a6b66",
   "metadata": {
    "execution": {
     "iopub.execute_input": "2023-03-31T07:24:48.773564Z",
     "iopub.status.busy": "2023-03-31T07:24:48.773114Z",
     "iopub.status.idle": "2023-03-31T07:24:48.787655Z",
     "shell.execute_reply": "2023-03-31T07:24:48.786461Z"
    },
    "papermill": {
     "duration": 0.040267,
     "end_time": "2023-03-31T07:24:48.790243",
     "exception": false,
     "start_time": "2023-03-31T07:24:48.749976",
     "status": "completed"
    },
    "tags": []
   },
   "outputs": [
    {
     "data": {
      "text/plain": [
       "0    7219\n",
       "1     179\n",
       "Name: VIPCode, dtype: int64"
      ]
     },
     "execution_count": 31,
     "metadata": {},
     "output_type": "execute_result"
    }
   ],
   "source": [
    "train_data['VIPCode'] = le.fit_transform(train_data['VIP'])\n",
    "test_data['VIPCode'] = le.fit_transform(test_data['VIP'])\n",
    "train_data['VIPCode'].value_counts()"
   ]
  },
  {
   "cell_type": "code",
   "execution_count": 32,
   "id": "a9f85b2c",
   "metadata": {
    "execution": {
     "iopub.execute_input": "2023-03-31T07:24:48.836181Z",
     "iopub.status.busy": "2023-03-31T07:24:48.834915Z",
     "iopub.status.idle": "2023-03-31T07:24:48.846092Z",
     "shell.execute_reply": "2023-03-31T07:24:48.845116Z"
    },
    "papermill": {
     "duration": 0.036765,
     "end_time": "2023-03-31T07:24:48.848359",
     "exception": false,
     "start_time": "2023-03-31T07:24:48.811594",
     "status": "completed"
    },
    "tags": []
   },
   "outputs": [
    {
     "data": {
      "text/plain": [
       "0"
      ]
     },
     "execution_count": 32,
     "metadata": {},
     "output_type": "execute_result"
    }
   ],
   "source": [
    "train_data.Age.fillna(train_data.Age.mean(), inplace=True)\n",
    "test_data.Age.fillna(test_data.Age.mean(), inplace=True)\n",
    "train_data.Age.isna().sum()\n",
    "test_data.Age.isna().sum()"
   ]
  },
  {
   "cell_type": "code",
   "execution_count": 33,
   "id": "629ced78",
   "metadata": {
    "execution": {
     "iopub.execute_input": "2023-03-31T07:24:48.894038Z",
     "iopub.status.busy": "2023-03-31T07:24:48.893353Z",
     "iopub.status.idle": "2023-03-31T07:24:49.439468Z",
     "shell.execute_reply": "2023-03-31T07:24:49.438231Z"
    },
    "papermill": {
     "duration": 0.571858,
     "end_time": "2023-03-31T07:24:49.441910",
     "exception": false,
     "start_time": "2023-03-31T07:24:48.870052",
     "status": "completed"
    },
    "tags": []
   },
   "outputs": [
    {
     "data": {
      "text/plain": [
       "<AxesSubplot:>"
      ]
     },
     "execution_count": 33,
     "metadata": {},
     "output_type": "execute_result"
    },
    {
     "data": {
      "image/png": "[encoded data removed]",
      "text/plain": [
       "<Figure size 640x480 with 2 Axes>"
      ]
     },
     "metadata": {},
     "output_type": "display_data"
    }
   ],
   "source": [
    "sns.heatmap(data=train_data[['Age','HomePlanetCode','DestinationCode','CryoSleepCode','CabinSideCode','TransportedCode']].corr(), annot=True)"
   ]
  },
  {
   "cell_type": "code",
   "execution_count": 34,
   "id": "f1da9ecc",
   "metadata": {
    "execution": {
     "iopub.execute_input": "2023-03-31T07:24:49.489788Z",
     "iopub.status.busy": "2023-03-31T07:24:49.489288Z",
     "iopub.status.idle": "2023-03-31T07:24:49.807954Z",
     "shell.execute_reply": "2023-03-31T07:24:49.807018Z"
    },
    "papermill": {
     "duration": 0.345209,
     "end_time": "2023-03-31T07:24:49.810261",
     "exception": false,
     "start_time": "2023-03-31T07:24:49.465052",
     "status": "completed"
    },
    "tags": []
   },
   "outputs": [
    {
     "data": {
      "text/plain": [
       "<AxesSubplot:>"
      ]
     },
     "execution_count": 34,
     "metadata": {},
     "output_type": "execute_result"
    },
    {
     "data": {
      "image/png": "[encoded data removed]",
      "text/plain": [
       "<Figure size 1200x600 with 1 Axes>"
      ]
     },
     "metadata": {},
     "output_type": "display_data"
    }
   ],
   "source": [
    "plt.figure(figsize=(12,6))\n",
    "sns.boxplot(data=train_data[['HomePlanetCode','DestinationCode','CryoSleepCode','CabinSideCode','VIPCode','Age']])"
   ]
  },
  {
   "cell_type": "code",
   "execution_count": 35,
   "id": "fb605fda",
   "metadata": {
    "execution": {
     "iopub.execute_input": "2023-03-31T07:24:49.864693Z",
     "iopub.status.busy": "2023-03-31T07:24:49.863510Z",
     "iopub.status.idle": "2023-03-31T07:24:50.066932Z",
     "shell.execute_reply": "2023-03-31T07:24:50.066030Z"
    },
    "papermill": {
     "duration": 0.234779,
     "end_time": "2023-03-31T07:24:50.069265",
     "exception": false,
     "start_time": "2023-03-31T07:24:49.834486",
     "status": "completed"
    },
    "tags": []
   },
   "outputs": [
    {
     "data": {
      "text/plain": [
       "<AxesSubplot:>"
      ]
     },
     "execution_count": 35,
     "metadata": {},
     "output_type": "execute_result"
    },
    {
     "data": {
      "image/png": "[encoded data removed]",
      "text/plain": [
       "<Figure size 640x480 with 1 Axes>"
      ]
     },
     "metadata": {},
     "output_type": "display_data"
    }
   ],
   "source": [
    "sns.boxplot(data=train_data['Age'])"
   ]
  },
  {
   "cell_type": "code",
   "execution_count": 36,
   "id": "fdca5766",
   "metadata": {
    "execution": {
     "iopub.execute_input": "2023-03-31T07:24:50.119692Z",
     "iopub.status.busy": "2023-03-31T07:24:50.118463Z",
     "iopub.status.idle": "2023-03-31T07:24:50.129659Z",
     "shell.execute_reply": "2023-03-31T07:24:50.128449Z"
    },
    "papermill": {
     "duration": 0.039063,
     "end_time": "2023-03-31T07:24:50.132149",
     "exception": false,
     "start_time": "2023-03-31T07:24:50.093086",
     "status": "completed"
    },
    "tags": []
   },
   "outputs": [
    {
     "data": {
      "text/plain": [
       "Earth     4021\n",
       "Europa    1848\n",
       "Mars      1529\n",
       "Name: HomePlanet, dtype: int64"
      ]
     },
     "execution_count": 36,
     "metadata": {},
     "output_type": "execute_result"
    }
   ],
   "source": [
    "train_data['HomePlanet'].value_counts()"
   ]
  },
  {
   "cell_type": "code",
   "execution_count": 37,
   "id": "d24d5e77",
   "metadata": {
    "execution": {
     "iopub.execute_input": "2023-03-31T07:24:50.183168Z",
     "iopub.status.busy": "2023-03-31T07:24:50.182244Z",
     "iopub.status.idle": "2023-03-31T07:24:50.233857Z",
     "shell.execute_reply": "2023-03-31T07:24:50.232440Z"
    },
    "papermill": {
     "duration": 0.080459,
     "end_time": "2023-03-31T07:24:50.236758",
     "exception": false,
     "start_time": "2023-03-31T07:24:50.156299",
     "status": "completed"
    },
    "tags": []
   },
   "outputs": [
    {
     "data": {
      "text/html": [
       "<div>\n",
       "<style scoped>\n",
       "    .dataframe tbody tr th:only-of-type {\n",
       "        vertical-align: middle;\n",
       "    }\n",
       "\n",
       "    .dataframe tbody tr th {\n",
       "        vertical-align: top;\n",
       "    }\n",
       "\n",
       "    .dataframe thead th {\n",
       "        text-align: right;\n",
       "    }\n",
       "</style>\n",
       "<table border=\"1\" class=\"dataframe\">\n",
       "  <thead>\n",
       "    <tr style=\"text-align: right;\">\n",
       "      <th></th>\n",
       "      <th>PassengerId</th>\n",
       "      <th>HomePlanet</th>\n",
       "      <th>CryoSleep</th>\n",
       "      <th>Cabin</th>\n",
       "      <th>Destination</th>\n",
       "      <th>Age</th>\n",
       "      <th>VIP</th>\n",
       "      <th>RoomService</th>\n",
       "      <th>FoodCourt</th>\n",
       "      <th>ShoppingMall</th>\n",
       "      <th>...</th>\n",
       "      <th>HomePlanetCode</th>\n",
       "      <th>DestinationCode</th>\n",
       "      <th>CryoSleepCode</th>\n",
       "      <th>CabinDeck</th>\n",
       "      <th>CabinNum</th>\n",
       "      <th>CabinSide</th>\n",
       "      <th>CabinSideCode</th>\n",
       "      <th>VIPCode</th>\n",
       "      <th>PassengerGroup</th>\n",
       "      <th>PassengerNum</th>\n",
       "    </tr>\n",
       "  </thead>\n",
       "  <tbody>\n",
       "    <tr>\n",
       "      <th>0</th>\n",
       "      <td>0013_01</td>\n",
       "      <td>Earth</td>\n",
       "      <td>True</td>\n",
       "      <td>G/3/S</td>\n",
       "      <td>TRAPPIST-1e</td>\n",
       "      <td>27.0</td>\n",
       "      <td>False</td>\n",
       "      <td>0.0</td>\n",
       "      <td>0.0</td>\n",
       "      <td>0.0</td>\n",
       "      <td>...</td>\n",
       "      <td>0</td>\n",
       "      <td>2</td>\n",
       "      <td>1</td>\n",
       "      <td>G</td>\n",
       "      <td>3</td>\n",
       "      <td>S</td>\n",
       "      <td>1</td>\n",
       "      <td>0</td>\n",
       "      <td>0013</td>\n",
       "      <td>01</td>\n",
       "    </tr>\n",
       "    <tr>\n",
       "      <th>1</th>\n",
       "      <td>0018_01</td>\n",
       "      <td>Earth</td>\n",
       "      <td>False</td>\n",
       "      <td>F/4/S</td>\n",
       "      <td>TRAPPIST-1e</td>\n",
       "      <td>19.0</td>\n",
       "      <td>False</td>\n",
       "      <td>0.0</td>\n",
       "      <td>9.0</td>\n",
       "      <td>0.0</td>\n",
       "      <td>...</td>\n",
       "      <td>0</td>\n",
       "      <td>2</td>\n",
       "      <td>0</td>\n",
       "      <td>F</td>\n",
       "      <td>4</td>\n",
       "      <td>S</td>\n",
       "      <td>1</td>\n",
       "      <td>0</td>\n",
       "      <td>0018</td>\n",
       "      <td>01</td>\n",
       "    </tr>\n",
       "    <tr>\n",
       "      <th>2</th>\n",
       "      <td>0019_01</td>\n",
       "      <td>Europa</td>\n",
       "      <td>True</td>\n",
       "      <td>C/0/S</td>\n",
       "      <td>55 Cancri e</td>\n",
       "      <td>31.0</td>\n",
       "      <td>False</td>\n",
       "      <td>0.0</td>\n",
       "      <td>0.0</td>\n",
       "      <td>0.0</td>\n",
       "      <td>...</td>\n",
       "      <td>1</td>\n",
       "      <td>0</td>\n",
       "      <td>1</td>\n",
       "      <td>C</td>\n",
       "      <td>0</td>\n",
       "      <td>S</td>\n",
       "      <td>1</td>\n",
       "      <td>0</td>\n",
       "      <td>0019</td>\n",
       "      <td>01</td>\n",
       "    </tr>\n",
       "    <tr>\n",
       "      <th>3</th>\n",
       "      <td>0021_01</td>\n",
       "      <td>Europa</td>\n",
       "      <td>False</td>\n",
       "      <td>C/1/S</td>\n",
       "      <td>TRAPPIST-1e</td>\n",
       "      <td>38.0</td>\n",
       "      <td>False</td>\n",
       "      <td>0.0</td>\n",
       "      <td>6652.0</td>\n",
       "      <td>0.0</td>\n",
       "      <td>...</td>\n",
       "      <td>1</td>\n",
       "      <td>2</td>\n",
       "      <td>0</td>\n",
       "      <td>C</td>\n",
       "      <td>1</td>\n",
       "      <td>S</td>\n",
       "      <td>1</td>\n",
       "      <td>0</td>\n",
       "      <td>0021</td>\n",
       "      <td>01</td>\n",
       "    </tr>\n",
       "    <tr>\n",
       "      <th>4</th>\n",
       "      <td>0023_01</td>\n",
       "      <td>Earth</td>\n",
       "      <td>False</td>\n",
       "      <td>F/5/S</td>\n",
       "      <td>TRAPPIST-1e</td>\n",
       "      <td>20.0</td>\n",
       "      <td>False</td>\n",
       "      <td>10.0</td>\n",
       "      <td>0.0</td>\n",
       "      <td>635.0</td>\n",
       "      <td>...</td>\n",
       "      <td>0</td>\n",
       "      <td>2</td>\n",
       "      <td>0</td>\n",
       "      <td>F</td>\n",
       "      <td>5</td>\n",
       "      <td>S</td>\n",
       "      <td>1</td>\n",
       "      <td>0</td>\n",
       "      <td>0023</td>\n",
       "      <td>01</td>\n",
       "    </tr>\n",
       "  </tbody>\n",
       "</table>\n",
       "<p>5 rows × 23 columns</p>\n",
       "</div>"
      ],
      "text/plain": [
       "  PassengerId HomePlanet CryoSleep  Cabin  Destination   Age    VIP  \\\n",
       "0     0013_01      Earth      True  G/3/S  TRAPPIST-1e  27.0  False   \n",
       "1     0018_01      Earth     False  F/4/S  TRAPPIST-1e  19.0  False   \n",
       "2     0019_01     Europa      True  C/0/S  55 Cancri e  31.0  False   \n",
       "3     0021_01     Europa     False  C/1/S  TRAPPIST-1e  38.0  False   \n",
       "4     0023_01      Earth     False  F/5/S  TRAPPIST-1e  20.0  False   \n",
       "\n",
       "   RoomService  FoodCourt  ShoppingMall  ...  HomePlanetCode  DestinationCode  \\\n",
       "0          0.0        0.0           0.0  ...               0                2   \n",
       "1          0.0        9.0           0.0  ...               0                2   \n",
       "2          0.0        0.0           0.0  ...               1                0   \n",
       "3          0.0     6652.0           0.0  ...               1                2   \n",
       "4         10.0        0.0         635.0  ...               0                2   \n",
       "\n",
       "  CryoSleepCode  CabinDeck  CabinNum  CabinSide CabinSideCode VIPCode  \\\n",
       "0             1          G         3          S             1       0   \n",
       "1             0          F         4          S             1       0   \n",
       "2             1          C         0          S             1       0   \n",
       "3             0          C         1          S             1       0   \n",
       "4             0          F         5          S             1       0   \n",
       "\n",
       "  PassengerGroup  PassengerNum  \n",
       "0           0013            01  \n",
       "1           0018            01  \n",
       "2           0019            01  \n",
       "3           0021            01  \n",
       "4           0023            01  \n",
       "\n",
       "[5 rows x 23 columns]"
      ]
     },
     "execution_count": 37,
     "metadata": {},
     "output_type": "execute_result"
    }
   ],
   "source": [
    "train_data[['PassengerGroup','PassengerNum']] = train_data['PassengerId'].str.split('_', expand = True)\n",
    "test_data[['PassengerGroup','PassengerNum']] = test_data['PassengerId'].str.split('_', expand = True)\n",
    "train_data.head()\n",
    "test_data.head()"
   ]
  },
  {
   "cell_type": "code",
   "execution_count": 38,
   "id": "1e6e86c9",
   "metadata": {
    "execution": {
     "iopub.execute_input": "2023-03-31T07:24:50.287622Z",
     "iopub.status.busy": "2023-03-31T07:24:50.287180Z",
     "iopub.status.idle": "2023-03-31T07:24:50.319230Z",
     "shell.execute_reply": "2023-03-31T07:24:50.317906Z"
    },
    "papermill": {
     "duration": 0.060859,
     "end_time": "2023-03-31T07:24:50.322175",
     "exception": false,
     "start_time": "2023-03-31T07:24:50.261316",
     "status": "completed"
    },
    "tags": []
   },
   "outputs": [],
   "source": [
    "train_data[['PassengerGroup','PassengerNum']] = train_data[['PassengerGroup','PassengerNum']].apply(pd.to_numeric)\n",
    "test_data[['PassengerGroup','PassengerNum']] = test_data[['PassengerGroup','PassengerNum']].apply(pd.to_numeric)"
   ]
  },
  {
   "cell_type": "code",
   "execution_count": 39,
   "id": "969a7229",
   "metadata": {
    "execution": {
     "iopub.execute_input": "2023-03-31T07:24:50.372740Z",
     "iopub.status.busy": "2023-03-31T07:24:50.372317Z",
     "iopub.status.idle": "2023-03-31T07:24:50.392851Z",
     "shell.execute_reply": "2023-03-31T07:24:50.390940Z"
    },
    "papermill": {
     "duration": 0.049563,
     "end_time": "2023-03-31T07:24:50.395916",
     "exception": false,
     "start_time": "2023-03-31T07:24:50.346353",
     "status": "completed"
    },
    "tags": []
   },
   "outputs": [
    {
     "name": "stdout",
     "output_type": "stream",
     "text": [
      "<class 'pandas.core.frame.DataFrame'>\n",
      "Int64Index: 7398 entries, 0 to 8692\n",
      "Data columns (total 25 columns):\n",
      " #   Column           Non-Null Count  Dtype  \n",
      "---  ------           --------------  -----  \n",
      " 0   PassengerId      7398 non-null   object \n",
      " 1   HomePlanet       7398 non-null   object \n",
      " 2   CryoSleep        7398 non-null   object \n",
      " 3   Cabin            7398 non-null   object \n",
      " 4   Destination      7398 non-null   object \n",
      " 5   Age              7398 non-null   float64\n",
      " 6   VIP              7398 non-null   object \n",
      " 7   RoomService      7398 non-null   float64\n",
      " 8   FoodCourt        7398 non-null   float64\n",
      " 9   ShoppingMall     7398 non-null   float64\n",
      " 10  Spa              7398 non-null   float64\n",
      " 11  VRDeck           7398 non-null   float64\n",
      " 12  Name             7398 non-null   object \n",
      " 13  Transported      7398 non-null   bool   \n",
      " 14  HomePlanetCode   7398 non-null   int64  \n",
      " 15  DestinationCode  7398 non-null   int64  \n",
      " 16  CryoSleepCode    7398 non-null   int64  \n",
      " 17  CabinDeck        7398 non-null   object \n",
      " 18  CabinNum         7398 non-null   object \n",
      " 19  CabinSide        7398 non-null   object \n",
      " 20  CabinSideCode    7398 non-null   int64  \n",
      " 21  TransportedCode  7398 non-null   int64  \n",
      " 22  VIPCode          7398 non-null   int64  \n",
      " 23  PassengerGroup   7398 non-null   int64  \n",
      " 24  PassengerNum     7398 non-null   int64  \n",
      "dtypes: bool(1), float64(6), int64(8), object(10)\n",
      "memory usage: 1.7+ MB\n"
     ]
    }
   ],
   "source": [
    "train_data.info()"
   ]
  },
  {
   "cell_type": "code",
   "execution_count": 40,
   "id": "3d9f813d",
   "metadata": {
    "execution": {
     "iopub.execute_input": "2023-03-31T07:24:50.447402Z",
     "iopub.status.busy": "2023-03-31T07:24:50.446760Z",
     "iopub.status.idle": "2023-03-31T07:24:50.579069Z",
     "shell.execute_reply": "2023-03-31T07:24:50.577396Z"
    },
    "papermill": {
     "duration": 0.162703,
     "end_time": "2023-03-31T07:24:50.583460",
     "exception": false,
     "start_time": "2023-03-31T07:24:50.420757",
     "status": "completed"
    },
    "tags": []
   },
   "outputs": [
    {
     "data": {
      "text/plain": [
       "<AxesSubplot:xlabel='PassengerGroup'>"
      ]
     },
     "execution_count": 40,
     "metadata": {},
     "output_type": "execute_result"
    },
    {
     "data": {
      "image/png": "[encoded data removed]",
      "text/plain": [
       "<Figure size 640x480 with 1 Axes>"
      ]
     },
     "metadata": {},
     "output_type": "display_data"
    }
   ],
   "source": [
    "sns.boxplot(data=train_data, x='PassengerGroup')"
   ]
  },
  {
   "cell_type": "code",
   "execution_count": 41,
   "id": "61c80554",
   "metadata": {
    "execution": {
     "iopub.execute_input": "2023-03-31T07:24:50.652026Z",
     "iopub.status.busy": "2023-03-31T07:24:50.651393Z",
     "iopub.status.idle": "2023-03-31T07:24:50.948984Z",
     "shell.execute_reply": "2023-03-31T07:24:50.948086Z"
    },
    "papermill": {
     "duration": 0.326754,
     "end_time": "2023-03-31T07:24:50.951272",
     "exception": false,
     "start_time": "2023-03-31T07:24:50.624518",
     "status": "completed"
    },
    "tags": []
   },
   "outputs": [
    {
     "data": {
      "text/plain": [
       "<AxesSubplot:xlabel='PassengerGroup', ylabel='Count'>"
      ]
     },
     "execution_count": 41,
     "metadata": {},
     "output_type": "execute_result"
    },
    {
     "data": {
      "image/png": "[encoded data removed]",
      "text/plain": [
       "<Figure size 640x480 with 1 Axes>"
      ]
     },
     "metadata": {},
     "output_type": "display_data"
    }
   ],
   "source": [
    "sns.histplot(data=train_data, x='PassengerGroup')"
   ]
  },
  {
   "cell_type": "code",
   "execution_count": 42,
   "id": "ae1fd360",
   "metadata": {
    "execution": {
     "iopub.execute_input": "2023-03-31T07:24:51.004977Z",
     "iopub.status.busy": "2023-03-31T07:24:51.004294Z",
     "iopub.status.idle": "2023-03-31T07:24:51.013152Z",
     "shell.execute_reply": "2023-03-31T07:24:51.011973Z"
    },
    "papermill": {
     "duration": 0.038641,
     "end_time": "2023-03-31T07:24:51.015923",
     "exception": false,
     "start_time": "2023-03-31T07:24:50.977282",
     "status": "completed"
    },
    "tags": []
   },
   "outputs": [
    {
     "data": {
      "text/plain": [
       "4256    8\n",
       "8796    8\n",
       "4498    8\n",
       "378     7\n",
       "6334    7\n",
       "       ..\n",
       "3468    1\n",
       "3467    1\n",
       "3465    1\n",
       "3461    1\n",
       "4623    1\n",
       "Name: PassengerGroup, Length: 5507, dtype: int64"
      ]
     },
     "execution_count": 42,
     "metadata": {},
     "output_type": "execute_result"
    }
   ],
   "source": [
    "train_data.PassengerGroup.value_counts()"
   ]
  },
  {
   "cell_type": "markdown",
   "id": "4911cd39",
   "metadata": {
    "papermill": {
     "duration": 0.02547,
     "end_time": "2023-03-31T07:24:51.066972",
     "exception": false,
     "start_time": "2023-03-31T07:24:51.041502",
     "status": "completed"
    },
    "tags": []
   },
   "source": [
    "**Defining the feature set**"
   ]
  },
  {
   "cell_type": "code",
   "execution_count": 43,
   "id": "cb5ec76f",
   "metadata": {
    "execution": {
     "iopub.execute_input": "2023-03-31T07:24:51.118538Z",
     "iopub.status.busy": "2023-03-31T07:24:51.118084Z",
     "iopub.status.idle": "2023-03-31T07:24:51.122810Z",
     "shell.execute_reply": "2023-03-31T07:24:51.121900Z"
    },
    "papermill": {
     "duration": 0.03299,
     "end_time": "2023-03-31T07:24:51.124866",
     "exception": false,
     "start_time": "2023-03-31T07:24:51.091876",
     "status": "completed"
    },
    "tags": []
   },
   "outputs": [],
   "source": [
    "# features = ['HomePlanetCode','DestinationCode',\n",
    "#             'CryoSleepCode',\n",
    "# #             'CabinDeckCode',\n",
    "#             'CabinSideCode',\n",
    "#             'VIPCode',\n",
    "#             'Age',\n",
    "#             'RoomService','FoodCourt','ShoppingMall','Spa','VRDeck'\n",
    "#            ]\n",
    "\n",
    "# X = pd.concat([train_data[features], train_CabinDeck_encoded], axis=1)\n",
    "# y = train_data['TransportedCode']\n",
    "\n",
    "# X_test = pd.concat([test_data[features], test_CabinDeck_encoded], axis=1)\n",
    "\n",
    "# X"
   ]
  },
  {
   "cell_type": "code",
   "execution_count": 44,
   "id": "560fdb9b",
   "metadata": {
    "execution": {
     "iopub.execute_input": "2023-03-31T07:24:51.177075Z",
     "iopub.status.busy": "2023-03-31T07:24:51.176297Z",
     "iopub.status.idle": "2023-03-31T07:24:51.226314Z",
     "shell.execute_reply": "2023-03-31T07:24:51.225065Z"
    },
    "papermill": {
     "duration": 0.079147,
     "end_time": "2023-03-31T07:24:51.229039",
     "exception": false,
     "start_time": "2023-03-31T07:24:51.149892",
     "status": "completed"
    },
    "tags": []
   },
   "outputs": [
    {
     "data": {
      "text/html": [
       "<div>\n",
       "<style scoped>\n",
       "    .dataframe tbody tr th:only-of-type {\n",
       "        vertical-align: middle;\n",
       "    }\n",
       "\n",
       "    .dataframe tbody tr th {\n",
       "        vertical-align: top;\n",
       "    }\n",
       "\n",
       "    .dataframe thead th {\n",
       "        text-align: right;\n",
       "    }\n",
       "</style>\n",
       "<table border=\"1\" class=\"dataframe\">\n",
       "  <thead>\n",
       "    <tr style=\"text-align: right;\">\n",
       "      <th></th>\n",
       "      <th>CryoSleepCode</th>\n",
       "      <th>VIPCode</th>\n",
       "      <th>Age</th>\n",
       "      <th>RoomService</th>\n",
       "      <th>FoodCourt</th>\n",
       "      <th>ShoppingMall</th>\n",
       "      <th>Spa</th>\n",
       "      <th>VRDeck</th>\n",
       "      <th>HomePlanet_Earth</th>\n",
       "      <th>HomePlanet_Europa</th>\n",
       "      <th>...</th>\n",
       "      <th>CabinDeck_A</th>\n",
       "      <th>CabinDeck_B</th>\n",
       "      <th>CabinDeck_C</th>\n",
       "      <th>CabinDeck_D</th>\n",
       "      <th>CabinDeck_E</th>\n",
       "      <th>CabinDeck_F</th>\n",
       "      <th>CabinDeck_G</th>\n",
       "      <th>CabinDeck_T</th>\n",
       "      <th>CabinSide_P</th>\n",
       "      <th>CabinSide_S</th>\n",
       "    </tr>\n",
       "  </thead>\n",
       "  <tbody>\n",
       "    <tr>\n",
       "      <th>0</th>\n",
       "      <td>1</td>\n",
       "      <td>0</td>\n",
       "      <td>27.000000</td>\n",
       "      <td>0.0</td>\n",
       "      <td>0.0</td>\n",
       "      <td>0.0</td>\n",
       "      <td>0.0</td>\n",
       "      <td>0.0</td>\n",
       "      <td>1</td>\n",
       "      <td>0</td>\n",
       "      <td>...</td>\n",
       "      <td>0</td>\n",
       "      <td>0</td>\n",
       "      <td>0</td>\n",
       "      <td>0</td>\n",
       "      <td>0</td>\n",
       "      <td>0</td>\n",
       "      <td>1</td>\n",
       "      <td>0</td>\n",
       "      <td>0</td>\n",
       "      <td>1</td>\n",
       "    </tr>\n",
       "    <tr>\n",
       "      <th>1</th>\n",
       "      <td>0</td>\n",
       "      <td>0</td>\n",
       "      <td>19.000000</td>\n",
       "      <td>0.0</td>\n",
       "      <td>9.0</td>\n",
       "      <td>0.0</td>\n",
       "      <td>2823.0</td>\n",
       "      <td>0.0</td>\n",
       "      <td>1</td>\n",
       "      <td>0</td>\n",
       "      <td>...</td>\n",
       "      <td>0</td>\n",
       "      <td>0</td>\n",
       "      <td>0</td>\n",
       "      <td>0</td>\n",
       "      <td>0</td>\n",
       "      <td>1</td>\n",
       "      <td>0</td>\n",
       "      <td>0</td>\n",
       "      <td>0</td>\n",
       "      <td>1</td>\n",
       "    </tr>\n",
       "    <tr>\n",
       "      <th>2</th>\n",
       "      <td>1</td>\n",
       "      <td>0</td>\n",
       "      <td>31.000000</td>\n",
       "      <td>0.0</td>\n",
       "      <td>0.0</td>\n",
       "      <td>0.0</td>\n",
       "      <td>0.0</td>\n",
       "      <td>0.0</td>\n",
       "      <td>0</td>\n",
       "      <td>1</td>\n",
       "      <td>...</td>\n",
       "      <td>0</td>\n",
       "      <td>0</td>\n",
       "      <td>1</td>\n",
       "      <td>0</td>\n",
       "      <td>0</td>\n",
       "      <td>0</td>\n",
       "      <td>0</td>\n",
       "      <td>0</td>\n",
       "      <td>0</td>\n",
       "      <td>1</td>\n",
       "    </tr>\n",
       "    <tr>\n",
       "      <th>3</th>\n",
       "      <td>0</td>\n",
       "      <td>0</td>\n",
       "      <td>38.000000</td>\n",
       "      <td>0.0</td>\n",
       "      <td>6652.0</td>\n",
       "      <td>0.0</td>\n",
       "      <td>181.0</td>\n",
       "      <td>585.0</td>\n",
       "      <td>0</td>\n",
       "      <td>1</td>\n",
       "      <td>...</td>\n",
       "      <td>0</td>\n",
       "      <td>0</td>\n",
       "      <td>1</td>\n",
       "      <td>0</td>\n",
       "      <td>0</td>\n",
       "      <td>0</td>\n",
       "      <td>0</td>\n",
       "      <td>0</td>\n",
       "      <td>0</td>\n",
       "      <td>1</td>\n",
       "    </tr>\n",
       "    <tr>\n",
       "      <th>4</th>\n",
       "      <td>0</td>\n",
       "      <td>0</td>\n",
       "      <td>20.000000</td>\n",
       "      <td>10.0</td>\n",
       "      <td>0.0</td>\n",
       "      <td>635.0</td>\n",
       "      <td>0.0</td>\n",
       "      <td>0.0</td>\n",
       "      <td>1</td>\n",
       "      <td>0</td>\n",
       "      <td>...</td>\n",
       "      <td>0</td>\n",
       "      <td>0</td>\n",
       "      <td>0</td>\n",
       "      <td>0</td>\n",
       "      <td>0</td>\n",
       "      <td>1</td>\n",
       "      <td>0</td>\n",
       "      <td>0</td>\n",
       "      <td>0</td>\n",
       "      <td>1</td>\n",
       "    </tr>\n",
       "    <tr>\n",
       "      <th>...</th>\n",
       "      <td>...</td>\n",
       "      <td>...</td>\n",
       "      <td>...</td>\n",
       "      <td>...</td>\n",
       "      <td>...</td>\n",
       "      <td>...</td>\n",
       "      <td>...</td>\n",
       "      <td>...</td>\n",
       "      <td>...</td>\n",
       "      <td>...</td>\n",
       "      <td>...</td>\n",
       "      <td>...</td>\n",
       "      <td>...</td>\n",
       "      <td>...</td>\n",
       "      <td>...</td>\n",
       "      <td>...</td>\n",
       "      <td>...</td>\n",
       "      <td>...</td>\n",
       "      <td>...</td>\n",
       "      <td>...</td>\n",
       "      <td>...</td>\n",
       "    </tr>\n",
       "    <tr>\n",
       "      <th>4272</th>\n",
       "      <td>1</td>\n",
       "      <td>0</td>\n",
       "      <td>34.000000</td>\n",
       "      <td>0.0</td>\n",
       "      <td>0.0</td>\n",
       "      <td>0.0</td>\n",
       "      <td>0.0</td>\n",
       "      <td>0.0</td>\n",
       "      <td>1</td>\n",
       "      <td>0</td>\n",
       "      <td>...</td>\n",
       "      <td>0</td>\n",
       "      <td>0</td>\n",
       "      <td>0</td>\n",
       "      <td>0</td>\n",
       "      <td>0</td>\n",
       "      <td>0</td>\n",
       "      <td>1</td>\n",
       "      <td>0</td>\n",
       "      <td>0</td>\n",
       "      <td>1</td>\n",
       "    </tr>\n",
       "    <tr>\n",
       "      <th>4273</th>\n",
       "      <td>0</td>\n",
       "      <td>0</td>\n",
       "      <td>42.000000</td>\n",
       "      <td>0.0</td>\n",
       "      <td>847.0</td>\n",
       "      <td>17.0</td>\n",
       "      <td>10.0</td>\n",
       "      <td>144.0</td>\n",
       "      <td>1</td>\n",
       "      <td>0</td>\n",
       "      <td>...</td>\n",
       "      <td>0</td>\n",
       "      <td>0</td>\n",
       "      <td>0</td>\n",
       "      <td>0</td>\n",
       "      <td>0</td>\n",
       "      <td>0</td>\n",
       "      <td>0</td>\n",
       "      <td>0</td>\n",
       "      <td>0</td>\n",
       "      <td>0</td>\n",
       "    </tr>\n",
       "    <tr>\n",
       "      <th>4274</th>\n",
       "      <td>1</td>\n",
       "      <td>0</td>\n",
       "      <td>28.658146</td>\n",
       "      <td>0.0</td>\n",
       "      <td>0.0</td>\n",
       "      <td>0.0</td>\n",
       "      <td>0.0</td>\n",
       "      <td>0.0</td>\n",
       "      <td>0</td>\n",
       "      <td>0</td>\n",
       "      <td>...</td>\n",
       "      <td>0</td>\n",
       "      <td>0</td>\n",
       "      <td>0</td>\n",
       "      <td>1</td>\n",
       "      <td>0</td>\n",
       "      <td>0</td>\n",
       "      <td>0</td>\n",
       "      <td>0</td>\n",
       "      <td>1</td>\n",
       "      <td>0</td>\n",
       "    </tr>\n",
       "    <tr>\n",
       "      <th>4275</th>\n",
       "      <td>0</td>\n",
       "      <td>0</td>\n",
       "      <td>28.658146</td>\n",
       "      <td>0.0</td>\n",
       "      <td>2680.0</td>\n",
       "      <td>0.0</td>\n",
       "      <td>0.0</td>\n",
       "      <td>523.0</td>\n",
       "      <td>0</td>\n",
       "      <td>1</td>\n",
       "      <td>...</td>\n",
       "      <td>0</td>\n",
       "      <td>0</td>\n",
       "      <td>0</td>\n",
       "      <td>1</td>\n",
       "      <td>0</td>\n",
       "      <td>0</td>\n",
       "      <td>0</td>\n",
       "      <td>0</td>\n",
       "      <td>1</td>\n",
       "      <td>0</td>\n",
       "    </tr>\n",
       "    <tr>\n",
       "      <th>4276</th>\n",
       "      <td>1</td>\n",
       "      <td>0</td>\n",
       "      <td>43.000000</td>\n",
       "      <td>0.0</td>\n",
       "      <td>0.0</td>\n",
       "      <td>0.0</td>\n",
       "      <td>0.0</td>\n",
       "      <td>0.0</td>\n",
       "      <td>1</td>\n",
       "      <td>0</td>\n",
       "      <td>...</td>\n",
       "      <td>0</td>\n",
       "      <td>0</td>\n",
       "      <td>0</td>\n",
       "      <td>0</td>\n",
       "      <td>0</td>\n",
       "      <td>0</td>\n",
       "      <td>1</td>\n",
       "      <td>0</td>\n",
       "      <td>0</td>\n",
       "      <td>1</td>\n",
       "    </tr>\n",
       "  </tbody>\n",
       "</table>\n",
       "<p>4277 rows × 24 columns</p>\n",
       "</div>"
      ],
      "text/plain": [
       "      CryoSleepCode  VIPCode        Age  RoomService  FoodCourt  ShoppingMall  \\\n",
       "0                 1        0  27.000000          0.0        0.0           0.0   \n",
       "1                 0        0  19.000000          0.0        9.0           0.0   \n",
       "2                 1        0  31.000000          0.0        0.0           0.0   \n",
       "3                 0        0  38.000000          0.0     6652.0           0.0   \n",
       "4                 0        0  20.000000         10.0        0.0         635.0   \n",
       "...             ...      ...        ...          ...        ...           ...   \n",
       "4272              1        0  34.000000          0.0        0.0           0.0   \n",
       "4273              0        0  42.000000          0.0      847.0          17.0   \n",
       "4274              1        0  28.658146          0.0        0.0           0.0   \n",
       "4275              0        0  28.658146          0.0     2680.0           0.0   \n",
       "4276              1        0  43.000000          0.0        0.0           0.0   \n",
       "\n",
       "         Spa  VRDeck  HomePlanet_Earth  HomePlanet_Europa  ...  CabinDeck_A  \\\n",
       "0        0.0     0.0                 1                  0  ...            0   \n",
       "1     2823.0     0.0                 1                  0  ...            0   \n",
       "2        0.0     0.0                 0                  1  ...            0   \n",
       "3      181.0   585.0                 0                  1  ...            0   \n",
       "4        0.0     0.0                 1                  0  ...            0   \n",
       "...      ...     ...               ...                ...  ...          ...   \n",
       "4272     0.0     0.0                 1                  0  ...            0   \n",
       "4273    10.0   144.0                 1                  0  ...            0   \n",
       "4274     0.0     0.0                 0                  0  ...            0   \n",
       "4275     0.0   523.0                 0                  1  ...            0   \n",
       "4276     0.0     0.0                 1                  0  ...            0   \n",
       "\n",
       "      CabinDeck_B  CabinDeck_C  CabinDeck_D  CabinDeck_E  CabinDeck_F  \\\n",
       "0               0            0            0            0            0   \n",
       "1               0            0            0            0            1   \n",
       "2               0            1            0            0            0   \n",
       "3               0            1            0            0            0   \n",
       "4               0            0            0            0            1   \n",
       "...           ...          ...          ...          ...          ...   \n",
       "4272            0            0            0            0            0   \n",
       "4273            0            0            0            0            0   \n",
       "4274            0            0            1            0            0   \n",
       "4275            0            0            1            0            0   \n",
       "4276            0            0            0            0            0   \n",
       "\n",
       "      CabinDeck_G  CabinDeck_T  CabinSide_P  CabinSide_S  \n",
       "0               1            0            0            1  \n",
       "1               0            0            0            1  \n",
       "2               0            0            0            1  \n",
       "3               0            0            0            1  \n",
       "4               0            0            0            1  \n",
       "...           ...          ...          ...          ...  \n",
       "4272            1            0            0            1  \n",
       "4273            0            0            0            0  \n",
       "4274            0            0            1            0  \n",
       "4275            0            0            1            0  \n",
       "4276            1            0            0            1  \n",
       "\n",
       "[4277 rows x 24 columns]"
      ]
     },
     "execution_count": 44,
     "metadata": {},
     "output_type": "execute_result"
    }
   ],
   "source": [
    "features = ['HomePlanet','Destination',\n",
    "            'CryoSleepCode',\n",
    "            'CabinDeck',\n",
    "            'CabinSide',\n",
    "            'VIPCode',\n",
    "            'Age',\n",
    "            'RoomService','FoodCourt','ShoppingMall','Spa','VRDeck'\n",
    "           ]\n",
    "\n",
    "X = pd.get_dummies(train_data[features])\n",
    "\n",
    "# X = pd.concat([train_data[features], train_CabinDeck_encoded], axis=1)\n",
    "y = train_data['TransportedCode']\n",
    "\n",
    "X_test = pd.get_dummies(test_data[features])\n",
    "\n",
    "X_test"
   ]
  },
  {
   "cell_type": "code",
   "execution_count": 45,
   "id": "be09a016",
   "metadata": {
    "execution": {
     "iopub.execute_input": "2023-03-31T07:24:51.282054Z",
     "iopub.status.busy": "2023-03-31T07:24:51.281636Z",
     "iopub.status.idle": "2023-03-31T07:24:51.313019Z",
     "shell.execute_reply": "2023-03-31T07:24:51.311575Z"
    },
    "papermill": {
     "duration": 0.061124,
     "end_time": "2023-03-31T07:24:51.315782",
     "exception": false,
     "start_time": "2023-03-31T07:24:51.254658",
     "status": "completed"
    },
    "tags": []
   },
   "outputs": [
    {
     "data": {
      "text/html": [
       "<div>\n",
       "<style scoped>\n",
       "    .dataframe tbody tr th:only-of-type {\n",
       "        vertical-align: middle;\n",
       "    }\n",
       "\n",
       "    .dataframe tbody tr th {\n",
       "        vertical-align: top;\n",
       "    }\n",
       "\n",
       "    .dataframe thead th {\n",
       "        text-align: right;\n",
       "    }\n",
       "</style>\n",
       "<table border=\"1\" class=\"dataframe\">\n",
       "  <thead>\n",
       "    <tr style=\"text-align: right;\">\n",
       "      <th></th>\n",
       "      <th>CryoSleepCode</th>\n",
       "      <th>VIPCode</th>\n",
       "      <th>Age</th>\n",
       "      <th>RoomService</th>\n",
       "      <th>FoodCourt</th>\n",
       "      <th>ShoppingMall</th>\n",
       "      <th>Spa</th>\n",
       "      <th>VRDeck</th>\n",
       "      <th>HomePlanet_Earth</th>\n",
       "      <th>HomePlanet_Europa</th>\n",
       "      <th>...</th>\n",
       "      <th>CabinDeck_A</th>\n",
       "      <th>CabinDeck_B</th>\n",
       "      <th>CabinDeck_C</th>\n",
       "      <th>CabinDeck_D</th>\n",
       "      <th>CabinDeck_E</th>\n",
       "      <th>CabinDeck_F</th>\n",
       "      <th>CabinDeck_G</th>\n",
       "      <th>CabinDeck_T</th>\n",
       "      <th>CabinSide_P</th>\n",
       "      <th>CabinSide_S</th>\n",
       "    </tr>\n",
       "  </thead>\n",
       "  <tbody>\n",
       "    <tr>\n",
       "      <th>0</th>\n",
       "      <td>0</td>\n",
       "      <td>0</td>\n",
       "      <td>39.0</td>\n",
       "      <td>0.0</td>\n",
       "      <td>0.0</td>\n",
       "      <td>0.0</td>\n",
       "      <td>0.0</td>\n",
       "      <td>0.0</td>\n",
       "      <td>0</td>\n",
       "      <td>1</td>\n",
       "      <td>...</td>\n",
       "      <td>0</td>\n",
       "      <td>1</td>\n",
       "      <td>0</td>\n",
       "      <td>0</td>\n",
       "      <td>0</td>\n",
       "      <td>0</td>\n",
       "      <td>0</td>\n",
       "      <td>0</td>\n",
       "      <td>1</td>\n",
       "      <td>0</td>\n",
       "    </tr>\n",
       "    <tr>\n",
       "      <th>1</th>\n",
       "      <td>0</td>\n",
       "      <td>0</td>\n",
       "      <td>24.0</td>\n",
       "      <td>109.0</td>\n",
       "      <td>9.0</td>\n",
       "      <td>25.0</td>\n",
       "      <td>549.0</td>\n",
       "      <td>44.0</td>\n",
       "      <td>1</td>\n",
       "      <td>0</td>\n",
       "      <td>...</td>\n",
       "      <td>0</td>\n",
       "      <td>0</td>\n",
       "      <td>0</td>\n",
       "      <td>0</td>\n",
       "      <td>0</td>\n",
       "      <td>1</td>\n",
       "      <td>0</td>\n",
       "      <td>0</td>\n",
       "      <td>0</td>\n",
       "      <td>1</td>\n",
       "    </tr>\n",
       "    <tr>\n",
       "      <th>2</th>\n",
       "      <td>0</td>\n",
       "      <td>1</td>\n",
       "      <td>58.0</td>\n",
       "      <td>43.0</td>\n",
       "      <td>3576.0</td>\n",
       "      <td>0.0</td>\n",
       "      <td>6715.0</td>\n",
       "      <td>49.0</td>\n",
       "      <td>0</td>\n",
       "      <td>1</td>\n",
       "      <td>...</td>\n",
       "      <td>1</td>\n",
       "      <td>0</td>\n",
       "      <td>0</td>\n",
       "      <td>0</td>\n",
       "      <td>0</td>\n",
       "      <td>0</td>\n",
       "      <td>0</td>\n",
       "      <td>0</td>\n",
       "      <td>0</td>\n",
       "      <td>1</td>\n",
       "    </tr>\n",
       "    <tr>\n",
       "      <th>3</th>\n",
       "      <td>0</td>\n",
       "      <td>0</td>\n",
       "      <td>33.0</td>\n",
       "      <td>0.0</td>\n",
       "      <td>1283.0</td>\n",
       "      <td>371.0</td>\n",
       "      <td>3329.0</td>\n",
       "      <td>193.0</td>\n",
       "      <td>0</td>\n",
       "      <td>1</td>\n",
       "      <td>...</td>\n",
       "      <td>1</td>\n",
       "      <td>0</td>\n",
       "      <td>0</td>\n",
       "      <td>0</td>\n",
       "      <td>0</td>\n",
       "      <td>0</td>\n",
       "      <td>0</td>\n",
       "      <td>0</td>\n",
       "      <td>0</td>\n",
       "      <td>1</td>\n",
       "    </tr>\n",
       "    <tr>\n",
       "      <th>4</th>\n",
       "      <td>0</td>\n",
       "      <td>0</td>\n",
       "      <td>16.0</td>\n",
       "      <td>303.0</td>\n",
       "      <td>70.0</td>\n",
       "      <td>151.0</td>\n",
       "      <td>565.0</td>\n",
       "      <td>2.0</td>\n",
       "      <td>1</td>\n",
       "      <td>0</td>\n",
       "      <td>...</td>\n",
       "      <td>0</td>\n",
       "      <td>0</td>\n",
       "      <td>0</td>\n",
       "      <td>0</td>\n",
       "      <td>0</td>\n",
       "      <td>1</td>\n",
       "      <td>0</td>\n",
       "      <td>0</td>\n",
       "      <td>0</td>\n",
       "      <td>1</td>\n",
       "    </tr>\n",
       "    <tr>\n",
       "      <th>...</th>\n",
       "      <td>...</td>\n",
       "      <td>...</td>\n",
       "      <td>...</td>\n",
       "      <td>...</td>\n",
       "      <td>...</td>\n",
       "      <td>...</td>\n",
       "      <td>...</td>\n",
       "      <td>...</td>\n",
       "      <td>...</td>\n",
       "      <td>...</td>\n",
       "      <td>...</td>\n",
       "      <td>...</td>\n",
       "      <td>...</td>\n",
       "      <td>...</td>\n",
       "      <td>...</td>\n",
       "      <td>...</td>\n",
       "      <td>...</td>\n",
       "      <td>...</td>\n",
       "      <td>...</td>\n",
       "      <td>...</td>\n",
       "      <td>...</td>\n",
       "    </tr>\n",
       "    <tr>\n",
       "      <th>8688</th>\n",
       "      <td>0</td>\n",
       "      <td>1</td>\n",
       "      <td>41.0</td>\n",
       "      <td>0.0</td>\n",
       "      <td>6819.0</td>\n",
       "      <td>0.0</td>\n",
       "      <td>1643.0</td>\n",
       "      <td>74.0</td>\n",
       "      <td>0</td>\n",
       "      <td>1</td>\n",
       "      <td>...</td>\n",
       "      <td>1</td>\n",
       "      <td>0</td>\n",
       "      <td>0</td>\n",
       "      <td>0</td>\n",
       "      <td>0</td>\n",
       "      <td>0</td>\n",
       "      <td>0</td>\n",
       "      <td>0</td>\n",
       "      <td>1</td>\n",
       "      <td>0</td>\n",
       "    </tr>\n",
       "    <tr>\n",
       "      <th>8689</th>\n",
       "      <td>1</td>\n",
       "      <td>0</td>\n",
       "      <td>18.0</td>\n",
       "      <td>0.0</td>\n",
       "      <td>0.0</td>\n",
       "      <td>0.0</td>\n",
       "      <td>0.0</td>\n",
       "      <td>0.0</td>\n",
       "      <td>1</td>\n",
       "      <td>0</td>\n",
       "      <td>...</td>\n",
       "      <td>0</td>\n",
       "      <td>0</td>\n",
       "      <td>0</td>\n",
       "      <td>0</td>\n",
       "      <td>0</td>\n",
       "      <td>0</td>\n",
       "      <td>1</td>\n",
       "      <td>0</td>\n",
       "      <td>0</td>\n",
       "      <td>1</td>\n",
       "    </tr>\n",
       "    <tr>\n",
       "      <th>8690</th>\n",
       "      <td>0</td>\n",
       "      <td>0</td>\n",
       "      <td>26.0</td>\n",
       "      <td>0.0</td>\n",
       "      <td>0.0</td>\n",
       "      <td>1872.0</td>\n",
       "      <td>1.0</td>\n",
       "      <td>0.0</td>\n",
       "      <td>1</td>\n",
       "      <td>0</td>\n",
       "      <td>...</td>\n",
       "      <td>0</td>\n",
       "      <td>0</td>\n",
       "      <td>0</td>\n",
       "      <td>0</td>\n",
       "      <td>0</td>\n",
       "      <td>0</td>\n",
       "      <td>1</td>\n",
       "      <td>0</td>\n",
       "      <td>0</td>\n",
       "      <td>1</td>\n",
       "    </tr>\n",
       "    <tr>\n",
       "      <th>8691</th>\n",
       "      <td>0</td>\n",
       "      <td>0</td>\n",
       "      <td>32.0</td>\n",
       "      <td>0.0</td>\n",
       "      <td>1049.0</td>\n",
       "      <td>0.0</td>\n",
       "      <td>353.0</td>\n",
       "      <td>3235.0</td>\n",
       "      <td>0</td>\n",
       "      <td>1</td>\n",
       "      <td>...</td>\n",
       "      <td>0</td>\n",
       "      <td>0</td>\n",
       "      <td>0</td>\n",
       "      <td>0</td>\n",
       "      <td>1</td>\n",
       "      <td>0</td>\n",
       "      <td>0</td>\n",
       "      <td>0</td>\n",
       "      <td>0</td>\n",
       "      <td>1</td>\n",
       "    </tr>\n",
       "    <tr>\n",
       "      <th>8692</th>\n",
       "      <td>0</td>\n",
       "      <td>0</td>\n",
       "      <td>44.0</td>\n",
       "      <td>126.0</td>\n",
       "      <td>4688.0</td>\n",
       "      <td>0.0</td>\n",
       "      <td>0.0</td>\n",
       "      <td>12.0</td>\n",
       "      <td>0</td>\n",
       "      <td>1</td>\n",
       "      <td>...</td>\n",
       "      <td>0</td>\n",
       "      <td>0</td>\n",
       "      <td>0</td>\n",
       "      <td>0</td>\n",
       "      <td>1</td>\n",
       "      <td>0</td>\n",
       "      <td>0</td>\n",
       "      <td>0</td>\n",
       "      <td>0</td>\n",
       "      <td>1</td>\n",
       "    </tr>\n",
       "  </tbody>\n",
       "</table>\n",
       "<p>7398 rows × 24 columns</p>\n",
       "</div>"
      ],
      "text/plain": [
       "      CryoSleepCode  VIPCode   Age  RoomService  FoodCourt  ShoppingMall  \\\n",
       "0                 0        0  39.0          0.0        0.0           0.0   \n",
       "1                 0        0  24.0        109.0        9.0          25.0   \n",
       "2                 0        1  58.0         43.0     3576.0           0.0   \n",
       "3                 0        0  33.0          0.0     1283.0         371.0   \n",
       "4                 0        0  16.0        303.0       70.0         151.0   \n",
       "...             ...      ...   ...          ...        ...           ...   \n",
       "8688              0        1  41.0          0.0     6819.0           0.0   \n",
       "8689              1        0  18.0          0.0        0.0           0.0   \n",
       "8690              0        0  26.0          0.0        0.0        1872.0   \n",
       "8691              0        0  32.0          0.0     1049.0           0.0   \n",
       "8692              0        0  44.0        126.0     4688.0           0.0   \n",
       "\n",
       "         Spa  VRDeck  HomePlanet_Earth  HomePlanet_Europa  ...  CabinDeck_A  \\\n",
       "0        0.0     0.0                 0                  1  ...            0   \n",
       "1      549.0    44.0                 1                  0  ...            0   \n",
       "2     6715.0    49.0                 0                  1  ...            1   \n",
       "3     3329.0   193.0                 0                  1  ...            1   \n",
       "4      565.0     2.0                 1                  0  ...            0   \n",
       "...      ...     ...               ...                ...  ...          ...   \n",
       "8688  1643.0    74.0                 0                  1  ...            1   \n",
       "8689     0.0     0.0                 1                  0  ...            0   \n",
       "8690     1.0     0.0                 1                  0  ...            0   \n",
       "8691   353.0  3235.0                 0                  1  ...            0   \n",
       "8692     0.0    12.0                 0                  1  ...            0   \n",
       "\n",
       "      CabinDeck_B  CabinDeck_C  CabinDeck_D  CabinDeck_E  CabinDeck_F  \\\n",
       "0               1            0            0            0            0   \n",
       "1               0            0            0            0            1   \n",
       "2               0            0            0            0            0   \n",
       "3               0            0            0            0            0   \n",
       "4               0            0            0            0            1   \n",
       "...           ...          ...          ...          ...          ...   \n",
       "8688            0            0            0            0            0   \n",
       "8689            0            0            0            0            0   \n",
       "8690            0            0            0            0            0   \n",
       "8691            0            0            0            1            0   \n",
       "8692            0            0            0            1            0   \n",
       "\n",
       "      CabinDeck_G  CabinDeck_T  CabinSide_P  CabinSide_S  \n",
       "0               0            0            1            0  \n",
       "1               0            0            0            1  \n",
       "2               0            0            0            1  \n",
       "3               0            0            0            1  \n",
       "4               0            0            0            1  \n",
       "...           ...          ...          ...          ...  \n",
       "8688            0            0            1            0  \n",
       "8689            1            0            0            1  \n",
       "8690            1            0            0            1  \n",
       "8691            0            0            0            1  \n",
       "8692            0            0            0            1  \n",
       "\n",
       "[7398 rows x 24 columns]"
      ]
     },
     "execution_count": 45,
     "metadata": {},
     "output_type": "execute_result"
    }
   ],
   "source": [
    "X"
   ]
  },
  {
   "cell_type": "code",
   "execution_count": 46,
   "id": "751ab5af",
   "metadata": {
    "execution": {
     "iopub.execute_input": "2023-03-31T07:24:51.370200Z",
     "iopub.status.busy": "2023-03-31T07:24:51.369797Z",
     "iopub.status.idle": "2023-03-31T07:24:57.444429Z",
     "shell.execute_reply": "2023-03-31T07:24:57.443153Z"
    },
    "papermill": {
     "duration": 6.106365,
     "end_time": "2023-03-31T07:24:57.448343",
     "exception": false,
     "start_time": "2023-03-31T07:24:51.341978",
     "status": "completed"
    },
    "tags": []
   },
   "outputs": [
    {
     "data": {
      "text/plain": [
       "<seaborn.axisgrid.PairGrid at 0x7f7508300150>"
      ]
     },
     "execution_count": 46,
     "metadata": {},
     "output_type": "execute_result"
    },
    {
     "data": {
      "image/png": "[encoded data removed]",
      "text/plain": [
       "<Figure size 879.611x750 with 12 Axes>"
      ]
     },
     "metadata": {},
     "output_type": "display_data"
    }
   ],
   "source": [
    "sns.pairplot(data=train_data[['Age','PassengerNum','VIPCode','TransportedCode']], hue='TransportedCode')"
   ]
  },
  {
   "cell_type": "code",
   "execution_count": 47,
   "id": "48971804",
   "metadata": {
    "execution": {
     "iopub.execute_input": "2023-03-31T07:24:57.508822Z",
     "iopub.status.busy": "2023-03-31T07:24:57.508421Z",
     "iopub.status.idle": "2023-03-31T07:24:57.514510Z",
     "shell.execute_reply": "2023-03-31T07:24:57.513189Z"
    },
    "papermill": {
     "duration": 0.039345,
     "end_time": "2023-03-31T07:24:57.517425",
     "exception": false,
     "start_time": "2023-03-31T07:24:57.478080",
     "status": "completed"
    },
    "tags": []
   },
   "outputs": [
    {
     "name": "stdout",
     "output_type": "stream",
     "text": [
      "(7398, 24)\n",
      "(7398,)\n"
     ]
    }
   ],
   "source": [
    "print(X.shape)\n",
    "print(y.shape)"
   ]
  },
  {
   "cell_type": "code",
   "execution_count": 48,
   "id": "1313589c",
   "metadata": {
    "execution": {
     "iopub.execute_input": "2023-03-31T07:24:57.577330Z",
     "iopub.status.busy": "2023-03-31T07:24:57.576693Z",
     "iopub.status.idle": "2023-03-31T07:24:57.586447Z",
     "shell.execute_reply": "2023-03-31T07:24:57.585182Z"
    },
    "papermill": {
     "duration": 0.042751,
     "end_time": "2023-03-31T07:24:57.589104",
     "exception": false,
     "start_time": "2023-03-31T07:24:57.546353",
     "status": "completed"
    },
    "tags": []
   },
   "outputs": [
    {
     "data": {
      "text/plain": [
       "CryoSleepCode                0\n",
       "VIPCode                      0\n",
       "Age                          0\n",
       "RoomService                  0\n",
       "FoodCourt                    0\n",
       "ShoppingMall                 0\n",
       "Spa                          0\n",
       "VRDeck                       0\n",
       "HomePlanet_Earth             0\n",
       "HomePlanet_Europa            0\n",
       "HomePlanet_Mars              0\n",
       "Destination_55 Cancri e      0\n",
       "Destination_PSO J318.5-22    0\n",
       "Destination_TRAPPIST-1e      0\n",
       "CabinDeck_A                  0\n",
       "CabinDeck_B                  0\n",
       "CabinDeck_C                  0\n",
       "CabinDeck_D                  0\n",
       "CabinDeck_E                  0\n",
       "CabinDeck_F                  0\n",
       "CabinDeck_G                  0\n",
       "CabinDeck_T                  0\n",
       "CabinSide_P                  0\n",
       "CabinSide_S                  0\n",
       "dtype: int64"
      ]
     },
     "execution_count": 48,
     "metadata": {},
     "output_type": "execute_result"
    }
   ],
   "source": [
    "X_test.isna().sum()"
   ]
  },
  {
   "cell_type": "code",
   "execution_count": 49,
   "id": "f433f5eb",
   "metadata": {
    "execution": {
     "iopub.execute_input": "2023-03-31T07:24:57.648019Z",
     "iopub.status.busy": "2023-03-31T07:24:57.647584Z",
     "iopub.status.idle": "2023-03-31T07:24:57.655715Z",
     "shell.execute_reply": "2023-03-31T07:24:57.654280Z"
    },
    "papermill": {
     "duration": 0.040381,
     "end_time": "2023-03-31T07:24:57.658188",
     "exception": false,
     "start_time": "2023-03-31T07:24:57.617807",
     "status": "completed"
    },
    "tags": []
   },
   "outputs": [
    {
     "data": {
      "text/plain": [
       "0"
      ]
     },
     "execution_count": 49,
     "metadata": {},
     "output_type": "execute_result"
    }
   ],
   "source": [
    "y.isna().sum()"
   ]
  },
  {
   "cell_type": "code",
   "execution_count": 50,
   "id": "74db81e5",
   "metadata": {
    "execution": {
     "iopub.execute_input": "2023-03-31T07:24:57.719327Z",
     "iopub.status.busy": "2023-03-31T07:24:57.718921Z",
     "iopub.status.idle": "2023-03-31T07:24:57.727767Z",
     "shell.execute_reply": "2023-03-31T07:24:57.726360Z"
    },
    "papermill": {
     "duration": 0.042468,
     "end_time": "2023-03-31T07:24:57.730555",
     "exception": false,
     "start_time": "2023-03-31T07:24:57.688087",
     "status": "completed"
    },
    "tags": []
   },
   "outputs": [
    {
     "data": {
      "text/plain": [
       "1    3726\n",
       "0    3672\n",
       "Name: TransportedCode, dtype: int64"
      ]
     },
     "execution_count": 50,
     "metadata": {},
     "output_type": "execute_result"
    }
   ],
   "source": [
    "y.value_counts()"
   ]
  },
  {
   "cell_type": "code",
   "execution_count": 51,
   "id": "d7c434ce",
   "metadata": {
    "execution": {
     "iopub.execute_input": "2023-03-31T07:24:57.791591Z",
     "iopub.status.busy": "2023-03-31T07:24:57.791143Z",
     "iopub.status.idle": "2023-03-31T07:24:57.813597Z",
     "shell.execute_reply": "2023-03-31T07:24:57.812668Z"
    },
    "papermill": {
     "duration": 0.056257,
     "end_time": "2023-03-31T07:24:57.816277",
     "exception": false,
     "start_time": "2023-03-31T07:24:57.760020",
     "status": "completed"
    },
    "tags": []
   },
   "outputs": [],
   "source": [
    "from sklearn.model_selection import train_test_split\n",
    "X_train, X_valid, y_train, y_valid = train_test_split(X, y, train_size=0.8, random_state=42)"
   ]
  },
  {
   "cell_type": "code",
   "execution_count": 52,
   "id": "0b7dea91",
   "metadata": {
    "execution": {
     "iopub.execute_input": "2023-03-31T07:24:57.876634Z",
     "iopub.status.busy": "2023-03-31T07:24:57.875442Z",
     "iopub.status.idle": "2023-03-31T07:24:57.882255Z",
     "shell.execute_reply": "2023-03-31T07:24:57.881441Z"
    },
    "papermill": {
     "duration": 0.03975,
     "end_time": "2023-03-31T07:24:57.884810",
     "exception": false,
     "start_time": "2023-03-31T07:24:57.845060",
     "status": "completed"
    },
    "tags": []
   },
   "outputs": [
    {
     "data": {
      "text/plain": [
       "Index(['CryoSleepCode', 'VIPCode', 'Age', 'RoomService', 'FoodCourt',\n",
       "       'ShoppingMall', 'Spa', 'VRDeck', 'HomePlanet_Earth',\n",
       "       'HomePlanet_Europa', 'HomePlanet_Mars', 'Destination_55 Cancri e',\n",
       "       'Destination_PSO J318.5-22', 'Destination_TRAPPIST-1e', 'CabinDeck_A',\n",
       "       'CabinDeck_B', 'CabinDeck_C', 'CabinDeck_D', 'CabinDeck_E',\n",
       "       'CabinDeck_F', 'CabinDeck_G', 'CabinDeck_T', 'CabinSide_P',\n",
       "       'CabinSide_S'],\n",
       "      dtype='object')"
      ]
     },
     "execution_count": 52,
     "metadata": {},
     "output_type": "execute_result"
    }
   ],
   "source": [
    "X_train.columns"
   ]
  },
  {
   "cell_type": "code",
   "execution_count": 53,
   "id": "ff4c4732",
   "metadata": {
    "execution": {
     "iopub.execute_input": "2023-03-31T07:24:57.946034Z",
     "iopub.status.busy": "2023-03-31T07:24:57.945042Z",
     "iopub.status.idle": "2023-03-31T07:24:57.962794Z",
     "shell.execute_reply": "2023-03-31T07:24:57.961531Z"
    },
    "papermill": {
     "duration": 0.051702,
     "end_time": "2023-03-31T07:24:57.965562",
     "exception": false,
     "start_time": "2023-03-31T07:24:57.913860",
     "status": "completed"
    },
    "tags": []
   },
   "outputs": [],
   "source": [
    "from sklearn.preprocessing import StandardScaler, MinMaxScaler\n",
    "ss = StandardScaler()\n",
    "mm = MinMaxScaler()\n",
    "\n",
    "X_train_scaled = pd.DataFrame(ss.fit_transform(X_train), columns = X_train.columns)\n",
    "X_valid_scaled = pd.DataFrame(ss.transform(X_valid), columns = X_valid.columns)\n",
    "# y_train_scaled = pd.DataFrame(ss.transform(y_train), columns = y_train.columns)\n",
    "# y_valid_scaled = pd.DataFrame(ss.transform(y_valid), columns = y_valid.columns)\n",
    "\n",
    "X_test_scaled = pd.DataFrame(ss.transform(X_test), columns = X_test.columns)\n",
    "\n",
    "# X_train = X_train_scaled.copy()\n",
    "# X_valid = X_valid_scaled.copy()\n",
    "# X_test = X_test_scaled.copy()"
   ]
  },
  {
   "cell_type": "code",
   "execution_count": 54,
   "id": "ae21e01d",
   "metadata": {
    "execution": {
     "iopub.execute_input": "2023-03-31T07:24:58.027335Z",
     "iopub.status.busy": "2023-03-31T07:24:58.026201Z",
     "iopub.status.idle": "2023-03-31T07:24:58.057303Z",
     "shell.execute_reply": "2023-03-31T07:24:58.055887Z"
    },
    "papermill": {
     "duration": 0.065304,
     "end_time": "2023-03-31T07:24:58.059885",
     "exception": false,
     "start_time": "2023-03-31T07:24:57.994581",
     "status": "completed"
    },
    "tags": []
   },
   "outputs": [
    {
     "data": {
      "text/html": [
       "<div>\n",
       "<style scoped>\n",
       "    .dataframe tbody tr th:only-of-type {\n",
       "        vertical-align: middle;\n",
       "    }\n",
       "\n",
       "    .dataframe tbody tr th {\n",
       "        vertical-align: top;\n",
       "    }\n",
       "\n",
       "    .dataframe thead th {\n",
       "        text-align: right;\n",
       "    }\n",
       "</style>\n",
       "<table border=\"1\" class=\"dataframe\">\n",
       "  <thead>\n",
       "    <tr style=\"text-align: right;\">\n",
       "      <th></th>\n",
       "      <th>CryoSleepCode</th>\n",
       "      <th>VIPCode</th>\n",
       "      <th>Age</th>\n",
       "      <th>RoomService</th>\n",
       "      <th>FoodCourt</th>\n",
       "      <th>ShoppingMall</th>\n",
       "      <th>Spa</th>\n",
       "      <th>VRDeck</th>\n",
       "      <th>HomePlanet_Earth</th>\n",
       "      <th>HomePlanet_Europa</th>\n",
       "      <th>...</th>\n",
       "      <th>CabinDeck_A</th>\n",
       "      <th>CabinDeck_B</th>\n",
       "      <th>CabinDeck_C</th>\n",
       "      <th>CabinDeck_D</th>\n",
       "      <th>CabinDeck_E</th>\n",
       "      <th>CabinDeck_F</th>\n",
       "      <th>CabinDeck_G</th>\n",
       "      <th>CabinDeck_T</th>\n",
       "      <th>CabinSide_P</th>\n",
       "      <th>CabinSide_S</th>\n",
       "    </tr>\n",
       "  </thead>\n",
       "  <tbody>\n",
       "    <tr>\n",
       "      <th>1324</th>\n",
       "      <td>1</td>\n",
       "      <td>0</td>\n",
       "      <td>33.0</td>\n",
       "      <td>0.0</td>\n",
       "      <td>0.0</td>\n",
       "      <td>0.0</td>\n",
       "      <td>0.0</td>\n",
       "      <td>0.0</td>\n",
       "      <td>1</td>\n",
       "      <td>0</td>\n",
       "      <td>...</td>\n",
       "      <td>0</td>\n",
       "      <td>0</td>\n",
       "      <td>0</td>\n",
       "      <td>0</td>\n",
       "      <td>0</td>\n",
       "      <td>0</td>\n",
       "      <td>1</td>\n",
       "      <td>0</td>\n",
       "      <td>0</td>\n",
       "      <td>1</td>\n",
       "    </tr>\n",
       "    <tr>\n",
       "      <th>7965</th>\n",
       "      <td>0</td>\n",
       "      <td>0</td>\n",
       "      <td>0.0</td>\n",
       "      <td>0.0</td>\n",
       "      <td>0.0</td>\n",
       "      <td>0.0</td>\n",
       "      <td>0.0</td>\n",
       "      <td>0.0</td>\n",
       "      <td>0</td>\n",
       "      <td>0</td>\n",
       "      <td>...</td>\n",
       "      <td>0</td>\n",
       "      <td>0</td>\n",
       "      <td>0</td>\n",
       "      <td>0</td>\n",
       "      <td>0</td>\n",
       "      <td>1</td>\n",
       "      <td>0</td>\n",
       "      <td>0</td>\n",
       "      <td>1</td>\n",
       "      <td>0</td>\n",
       "    </tr>\n",
       "    <tr>\n",
       "      <th>8530</th>\n",
       "      <td>1</td>\n",
       "      <td>0</td>\n",
       "      <td>44.0</td>\n",
       "      <td>0.0</td>\n",
       "      <td>0.0</td>\n",
       "      <td>0.0</td>\n",
       "      <td>0.0</td>\n",
       "      <td>0.0</td>\n",
       "      <td>1</td>\n",
       "      <td>0</td>\n",
       "      <td>...</td>\n",
       "      <td>0</td>\n",
       "      <td>0</td>\n",
       "      <td>0</td>\n",
       "      <td>0</td>\n",
       "      <td>0</td>\n",
       "      <td>0</td>\n",
       "      <td>1</td>\n",
       "      <td>0</td>\n",
       "      <td>0</td>\n",
       "      <td>1</td>\n",
       "    </tr>\n",
       "    <tr>\n",
       "      <th>8272</th>\n",
       "      <td>1</td>\n",
       "      <td>0</td>\n",
       "      <td>15.0</td>\n",
       "      <td>0.0</td>\n",
       "      <td>0.0</td>\n",
       "      <td>0.0</td>\n",
       "      <td>0.0</td>\n",
       "      <td>0.0</td>\n",
       "      <td>1</td>\n",
       "      <td>0</td>\n",
       "      <td>...</td>\n",
       "      <td>0</td>\n",
       "      <td>0</td>\n",
       "      <td>0</td>\n",
       "      <td>0</td>\n",
       "      <td>0</td>\n",
       "      <td>0</td>\n",
       "      <td>1</td>\n",
       "      <td>0</td>\n",
       "      <td>0</td>\n",
       "      <td>1</td>\n",
       "    </tr>\n",
       "    <tr>\n",
       "      <th>2330</th>\n",
       "      <td>0</td>\n",
       "      <td>0</td>\n",
       "      <td>28.0</td>\n",
       "      <td>34.0</td>\n",
       "      <td>0.0</td>\n",
       "      <td>1342.0</td>\n",
       "      <td>91.0</td>\n",
       "      <td>0.0</td>\n",
       "      <td>0</td>\n",
       "      <td>0</td>\n",
       "      <td>...</td>\n",
       "      <td>0</td>\n",
       "      <td>0</td>\n",
       "      <td>0</td>\n",
       "      <td>0</td>\n",
       "      <td>0</td>\n",
       "      <td>1</td>\n",
       "      <td>0</td>\n",
       "      <td>0</td>\n",
       "      <td>1</td>\n",
       "      <td>0</td>\n",
       "    </tr>\n",
       "    <tr>\n",
       "      <th>...</th>\n",
       "      <td>...</td>\n",
       "      <td>...</td>\n",
       "      <td>...</td>\n",
       "      <td>...</td>\n",
       "      <td>...</td>\n",
       "      <td>...</td>\n",
       "      <td>...</td>\n",
       "      <td>...</td>\n",
       "      <td>...</td>\n",
       "      <td>...</td>\n",
       "      <td>...</td>\n",
       "      <td>...</td>\n",
       "      <td>...</td>\n",
       "      <td>...</td>\n",
       "      <td>...</td>\n",
       "      <td>...</td>\n",
       "      <td>...</td>\n",
       "      <td>...</td>\n",
       "      <td>...</td>\n",
       "      <td>...</td>\n",
       "      <td>...</td>\n",
       "    </tr>\n",
       "    <tr>\n",
       "      <th>6118</th>\n",
       "      <td>0</td>\n",
       "      <td>0</td>\n",
       "      <td>26.0</td>\n",
       "      <td>0.0</td>\n",
       "      <td>3818.0</td>\n",
       "      <td>0.0</td>\n",
       "      <td>1877.0</td>\n",
       "      <td>136.0</td>\n",
       "      <td>0</td>\n",
       "      <td>1</td>\n",
       "      <td>...</td>\n",
       "      <td>0</td>\n",
       "      <td>0</td>\n",
       "      <td>0</td>\n",
       "      <td>1</td>\n",
       "      <td>0</td>\n",
       "      <td>0</td>\n",
       "      <td>0</td>\n",
       "      <td>0</td>\n",
       "      <td>1</td>\n",
       "      <td>0</td>\n",
       "    </tr>\n",
       "    <tr>\n",
       "      <th>6156</th>\n",
       "      <td>1</td>\n",
       "      <td>0</td>\n",
       "      <td>18.0</td>\n",
       "      <td>0.0</td>\n",
       "      <td>0.0</td>\n",
       "      <td>0.0</td>\n",
       "      <td>0.0</td>\n",
       "      <td>0.0</td>\n",
       "      <td>1</td>\n",
       "      <td>0</td>\n",
       "      <td>...</td>\n",
       "      <td>0</td>\n",
       "      <td>0</td>\n",
       "      <td>0</td>\n",
       "      <td>0</td>\n",
       "      <td>0</td>\n",
       "      <td>0</td>\n",
       "      <td>1</td>\n",
       "      <td>0</td>\n",
       "      <td>1</td>\n",
       "      <td>0</td>\n",
       "    </tr>\n",
       "    <tr>\n",
       "      <th>6346</th>\n",
       "      <td>0</td>\n",
       "      <td>0</td>\n",
       "      <td>24.0</td>\n",
       "      <td>700.0</td>\n",
       "      <td>0.0</td>\n",
       "      <td>0.0</td>\n",
       "      <td>0.0</td>\n",
       "      <td>0.0</td>\n",
       "      <td>1</td>\n",
       "      <td>0</td>\n",
       "      <td>...</td>\n",
       "      <td>0</td>\n",
       "      <td>0</td>\n",
       "      <td>0</td>\n",
       "      <td>0</td>\n",
       "      <td>0</td>\n",
       "      <td>1</td>\n",
       "      <td>0</td>\n",
       "      <td>0</td>\n",
       "      <td>1</td>\n",
       "      <td>0</td>\n",
       "    </tr>\n",
       "    <tr>\n",
       "      <th>1034</th>\n",
       "      <td>0</td>\n",
       "      <td>0</td>\n",
       "      <td>5.0</td>\n",
       "      <td>0.0</td>\n",
       "      <td>0.0</td>\n",
       "      <td>0.0</td>\n",
       "      <td>0.0</td>\n",
       "      <td>0.0</td>\n",
       "      <td>0</td>\n",
       "      <td>0</td>\n",
       "      <td>...</td>\n",
       "      <td>0</td>\n",
       "      <td>0</td>\n",
       "      <td>0</td>\n",
       "      <td>0</td>\n",
       "      <td>0</td>\n",
       "      <td>1</td>\n",
       "      <td>0</td>\n",
       "      <td>0</td>\n",
       "      <td>1</td>\n",
       "      <td>0</td>\n",
       "    </tr>\n",
       "    <tr>\n",
       "      <th>8541</th>\n",
       "      <td>0</td>\n",
       "      <td>0</td>\n",
       "      <td>13.0</td>\n",
       "      <td>101.0</td>\n",
       "      <td>12.0</td>\n",
       "      <td>184.0</td>\n",
       "      <td>780.0</td>\n",
       "      <td>0.0</td>\n",
       "      <td>1</td>\n",
       "      <td>0</td>\n",
       "      <td>...</td>\n",
       "      <td>0</td>\n",
       "      <td>0</td>\n",
       "      <td>0</td>\n",
       "      <td>0</td>\n",
       "      <td>0</td>\n",
       "      <td>1</td>\n",
       "      <td>0</td>\n",
       "      <td>0</td>\n",
       "      <td>0</td>\n",
       "      <td>1</td>\n",
       "    </tr>\n",
       "  </tbody>\n",
       "</table>\n",
       "<p>5918 rows × 24 columns</p>\n",
       "</div>"
      ],
      "text/plain": [
       "      CryoSleepCode  VIPCode   Age  RoomService  FoodCourt  ShoppingMall  \\\n",
       "1324              1        0  33.0          0.0        0.0           0.0   \n",
       "7965              0        0   0.0          0.0        0.0           0.0   \n",
       "8530              1        0  44.0          0.0        0.0           0.0   \n",
       "8272              1        0  15.0          0.0        0.0           0.0   \n",
       "2330              0        0  28.0         34.0        0.0        1342.0   \n",
       "...             ...      ...   ...          ...        ...           ...   \n",
       "6118              0        0  26.0          0.0     3818.0           0.0   \n",
       "6156              1        0  18.0          0.0        0.0           0.0   \n",
       "6346              0        0  24.0        700.0        0.0           0.0   \n",
       "1034              0        0   5.0          0.0        0.0           0.0   \n",
       "8541              0        0  13.0        101.0       12.0         184.0   \n",
       "\n",
       "         Spa  VRDeck  HomePlanet_Earth  HomePlanet_Europa  ...  CabinDeck_A  \\\n",
       "1324     0.0     0.0                 1                  0  ...            0   \n",
       "7965     0.0     0.0                 0                  0  ...            0   \n",
       "8530     0.0     0.0                 1                  0  ...            0   \n",
       "8272     0.0     0.0                 1                  0  ...            0   \n",
       "2330    91.0     0.0                 0                  0  ...            0   \n",
       "...      ...     ...               ...                ...  ...          ...   \n",
       "6118  1877.0   136.0                 0                  1  ...            0   \n",
       "6156     0.0     0.0                 1                  0  ...            0   \n",
       "6346     0.0     0.0                 1                  0  ...            0   \n",
       "1034     0.0     0.0                 0                  0  ...            0   \n",
       "8541   780.0     0.0                 1                  0  ...            0   \n",
       "\n",
       "      CabinDeck_B  CabinDeck_C  CabinDeck_D  CabinDeck_E  CabinDeck_F  \\\n",
       "1324            0            0            0            0            0   \n",
       "7965            0            0            0            0            1   \n",
       "8530            0            0            0            0            0   \n",
       "8272            0            0            0            0            0   \n",
       "2330            0            0            0            0            1   \n",
       "...           ...          ...          ...          ...          ...   \n",
       "6118            0            0            1            0            0   \n",
       "6156            0            0            0            0            0   \n",
       "6346            0            0            0            0            1   \n",
       "1034            0            0            0            0            1   \n",
       "8541            0            0            0            0            1   \n",
       "\n",
       "      CabinDeck_G  CabinDeck_T  CabinSide_P  CabinSide_S  \n",
       "1324            1            0            0            1  \n",
       "7965            0            0            1            0  \n",
       "8530            1            0            0            1  \n",
       "8272            1            0            0            1  \n",
       "2330            0            0            1            0  \n",
       "...           ...          ...          ...          ...  \n",
       "6118            0            0            1            0  \n",
       "6156            1            0            1            0  \n",
       "6346            0            0            1            0  \n",
       "1034            0            0            1            0  \n",
       "8541            0            0            0            1  \n",
       "\n",
       "[5918 rows x 24 columns]"
      ]
     },
     "execution_count": 54,
     "metadata": {},
     "output_type": "execute_result"
    }
   ],
   "source": [
    "X_train"
   ]
  },
  {
   "cell_type": "code",
   "execution_count": 55,
   "id": "3ab752ca",
   "metadata": {
    "execution": {
     "iopub.execute_input": "2023-03-31T07:24:58.121591Z",
     "iopub.status.busy": "2023-03-31T07:24:58.121121Z",
     "iopub.status.idle": "2023-03-31T07:24:58.132088Z",
     "shell.execute_reply": "2023-03-31T07:24:58.130550Z"
    },
    "papermill": {
     "duration": 0.045683,
     "end_time": "2023-03-31T07:24:58.135019",
     "exception": false,
     "start_time": "2023-03-31T07:24:58.089336",
     "status": "completed"
    },
    "tags": []
   },
   "outputs": [
    {
     "data": {
      "text/plain": [
       "CryoSleepCode                0\n",
       "VIPCode                      0\n",
       "Age                          0\n",
       "RoomService                  0\n",
       "FoodCourt                    0\n",
       "ShoppingMall                 0\n",
       "Spa                          0\n",
       "VRDeck                       0\n",
       "HomePlanet_Earth             0\n",
       "HomePlanet_Europa            0\n",
       "HomePlanet_Mars              0\n",
       "Destination_55 Cancri e      0\n",
       "Destination_PSO J318.5-22    0\n",
       "Destination_TRAPPIST-1e      0\n",
       "CabinDeck_A                  0\n",
       "CabinDeck_B                  0\n",
       "CabinDeck_C                  0\n",
       "CabinDeck_D                  0\n",
       "CabinDeck_E                  0\n",
       "CabinDeck_F                  0\n",
       "CabinDeck_G                  0\n",
       "CabinDeck_T                  0\n",
       "CabinSide_P                  0\n",
       "CabinSide_S                  0\n",
       "dtype: int64"
      ]
     },
     "execution_count": 55,
     "metadata": {},
     "output_type": "execute_result"
    }
   ],
   "source": [
    "X_test_scaled.isna().sum()"
   ]
  },
  {
   "cell_type": "code",
   "execution_count": 56,
   "id": "3c8ae022",
   "metadata": {
    "execution": {
     "iopub.execute_input": "2023-03-31T07:24:58.198747Z",
     "iopub.status.busy": "2023-03-31T07:24:58.197296Z",
     "iopub.status.idle": "2023-03-31T07:24:58.203124Z",
     "shell.execute_reply": "2023-03-31T07:24:58.202265Z"
    },
    "papermill": {
     "duration": 0.040018,
     "end_time": "2023-03-31T07:24:58.205697",
     "exception": false,
     "start_time": "2023-03-31T07:24:58.165679",
     "status": "completed"
    },
    "tags": []
   },
   "outputs": [],
   "source": [
    "# from sklearn.ensemble import RandomForestClassifier\n",
    "# model_rf = RandomForestClassifier(n_estimators=500, random_state=42)\n",
    "# model_rf.fit(X_train_scaled, y_train)\n",
    "\n",
    "# pred_rf_train = model_rf.predict(X_train_scaled)\n",
    "# pred_rf_valid = model_rf.predict(X_valid_scaled)\n",
    "\n",
    "# print(\"MAE: %.4f\" % metrics.mean_absolute_error(pred_rf_train, y_train))\n",
    "# print(\"R2 Score %.4f\" % model_rf.score(X_train_scaled, y_train))\n",
    "\n",
    "# print(\"MAE: %.4f\" % metrics.mean_absolute_error(pred_rf_valid, y_valid))\n",
    "# print(\"R2 Score %.4f\" % model_rf.score(X_valid_scaled, y_valid))"
   ]
  },
  {
   "cell_type": "code",
   "execution_count": 57,
   "id": "2c8427de",
   "metadata": {
    "execution": {
     "iopub.execute_input": "2023-03-31T07:24:58.267349Z",
     "iopub.status.busy": "2023-03-31T07:24:58.266141Z",
     "iopub.status.idle": "2023-03-31T07:24:58.271175Z",
     "shell.execute_reply": "2023-03-31T07:24:58.270386Z"
    },
    "papermill": {
     "duration": 0.038614,
     "end_time": "2023-03-31T07:24:58.273498",
     "exception": false,
     "start_time": "2023-03-31T07:24:58.234884",
     "status": "completed"
    },
    "tags": []
   },
   "outputs": [],
   "source": [
    "# print(metrics.classification_report(y_train, pred_rf_train))\n",
    "# print(metrics.classification_report(y_valid, pred_rf_valid))"
   ]
  },
  {
   "cell_type": "code",
   "execution_count": 58,
   "id": "42d2789a",
   "metadata": {
    "execution": {
     "iopub.execute_input": "2023-03-31T07:24:58.334463Z",
     "iopub.status.busy": "2023-03-31T07:24:58.333643Z",
     "iopub.status.idle": "2023-03-31T07:24:58.338583Z",
     "shell.execute_reply": "2023-03-31T07:24:58.337639Z"
    },
    "papermill": {
     "duration": 0.038308,
     "end_time": "2023-03-31T07:24:58.340953",
     "exception": false,
     "start_time": "2023-03-31T07:24:58.302645",
     "status": "completed"
    },
    "tags": []
   },
   "outputs": [],
   "source": [
    "# X_scaled = pd.DataFrame(mm.fit_transform(X), columns = X.columns)\n",
    "# X_scaled"
   ]
  },
  {
   "cell_type": "code",
   "execution_count": 59,
   "id": "ce8dd555",
   "metadata": {
    "execution": {
     "iopub.execute_input": "2023-03-31T07:24:58.402083Z",
     "iopub.status.busy": "2023-03-31T07:24:58.401700Z",
     "iopub.status.idle": "2023-03-31T07:24:58.406118Z",
     "shell.execute_reply": "2023-03-31T07:24:58.404888Z"
    },
    "papermill": {
     "duration": 0.038377,
     "end_time": "2023-03-31T07:24:58.408893",
     "exception": false,
     "start_time": "2023-03-31T07:24:58.370516",
     "status": "completed"
    },
    "tags": []
   },
   "outputs": [],
   "source": [
    "# X_scaled.isna().sum()"
   ]
  },
  {
   "cell_type": "markdown",
   "id": "718e2010",
   "metadata": {
    "papermill": {
     "duration": 0.029543,
     "end_time": "2023-03-31T07:24:58.468383",
     "exception": false,
     "start_time": "2023-03-31T07:24:58.438840",
     "status": "completed"
    },
    "tags": []
   },
   "source": [
    "**XG Boost**"
   ]
  },
  {
   "cell_type": "code",
   "execution_count": 60,
   "id": "aa908f00",
   "metadata": {
    "execution": {
     "iopub.execute_input": "2023-03-31T07:24:58.530338Z",
     "iopub.status.busy": "2023-03-31T07:24:58.529557Z",
     "iopub.status.idle": "2023-03-31T07:24:58.534851Z",
     "shell.execute_reply": "2023-03-31T07:24:58.533775Z"
    },
    "papermill": {
     "duration": 0.038726,
     "end_time": "2023-03-31T07:24:58.537192",
     "exception": false,
     "start_time": "2023-03-31T07:24:58.498466",
     "status": "completed"
    },
    "tags": []
   },
   "outputs": [],
   "source": [
    "import warnings\n",
    "warnings.filterwarnings('ignore')"
   ]
  },
  {
   "cell_type": "code",
   "execution_count": 61,
   "id": "1e5bb4a3",
   "metadata": {
    "execution": {
     "iopub.execute_input": "2023-03-31T07:24:58.599634Z",
     "iopub.status.busy": "2023-03-31T07:24:58.598361Z",
     "iopub.status.idle": "2023-03-31T07:24:58.687013Z",
     "shell.execute_reply": "2023-03-31T07:24:58.685708Z"
    },
    "papermill": {
     "duration": 0.123259,
     "end_time": "2023-03-31T07:24:58.690082",
     "exception": false,
     "start_time": "2023-03-31T07:24:58.566823",
     "status": "completed"
    },
    "tags": []
   },
   "outputs": [],
   "source": [
    "import xgboost as xgb\n",
    "from sklearn.model_selection import GridSearchCV"
   ]
  },
  {
   "cell_type": "code",
   "execution_count": 62,
   "id": "3bd68420",
   "metadata": {
    "execution": {
     "iopub.execute_input": "2023-03-31T07:24:58.752584Z",
     "iopub.status.busy": "2023-03-31T07:24:58.751907Z",
     "iopub.status.idle": "2023-03-31T07:25:33.257155Z",
     "shell.execute_reply": "2023-03-31T07:25:33.256240Z"
    },
    "papermill": {
     "duration": 34.570417,
     "end_time": "2023-03-31T07:25:33.290881",
     "exception": false,
     "start_time": "2023-03-31T07:24:58.720464",
     "status": "completed"
    },
    "tags": []
   },
   "outputs": [
    {
     "name": "stdout",
     "output_type": "stream",
     "text": [
      "Best parameters:  {'learning_rate': 0.1, 'max_depth': 7}\n",
      "MAE: 0.1303\n",
      "R2 Score 0.8697\n",
      "MAE: 0.1892\n",
      "R2 Score 0.8108\n",
      "              precision    recall  f1-score   support\n",
      "\n",
      "           0       0.88      0.86      0.87      2959\n",
      "           1       0.86      0.88      0.87      2959\n",
      "\n",
      "    accuracy                           0.87      5918\n",
      "   macro avg       0.87      0.87      0.87      5918\n",
      "weighted avg       0.87      0.87      0.87      5918\n",
      "\n",
      "              precision    recall  f1-score   support\n",
      "\n",
      "           0       0.80      0.80      0.80       713\n",
      "           1       0.82      0.82      0.82       767\n",
      "\n",
      "    accuracy                           0.81      1480\n",
      "   macro avg       0.81      0.81      0.81      1480\n",
      "weighted avg       0.81      0.81      0.81      1480\n",
      "\n"
     ]
    }
   ],
   "source": [
    "xgb_classifier = xgb.XGBClassifier()\n",
    "# xgb_classifier.fit(X_train, y_train)\n",
    "\n",
    "params = {\n",
    "    \"learning_rate\":[0.05,0.1,0.15],\n",
    "    \"max_depth\":[6,7,8]\n",
    "#     ,\n",
    "#     \"min_child_weight\":[1,2]\n",
    "         }\n",
    "grid_search = GridSearchCV(estimator=xgb_classifier, param_grid=params, cv=5, scoring=\"accuracy\")\n",
    "grid_search.fit(X_train, y_train)\n",
    "\n",
    "print(\"Best parameters: \", grid_search.best_params_)\n",
    "\n",
    "# pred_xgb_train = xgb_classifier.predict(X_train)\n",
    "# pred_xgb_valid = xgb_classifier.predict(X_valid)\n",
    "pred_grid_train = grid_search.predict(X_train)\n",
    "pred_grid_valid = grid_search.predict(X_valid)\n",
    "\n",
    "print(\"MAE: %.4f\" % metrics.mean_absolute_error(pred_grid_train, y_train))\n",
    "print(\"R2 Score %.4f\" % grid_search.score(X_train, y_train))\n",
    "\n",
    "print(\"MAE: %.4f\" % metrics.mean_absolute_error(pred_grid_valid, y_valid))\n",
    "print(\"R2 Score %.4f\" % grid_search.score(X_valid, y_valid))\n",
    "\n",
    "print(metrics.classification_report(y_train, pred_grid_train))\n",
    "print(metrics.classification_report(y_valid, pred_grid_valid))"
   ]
  },
  {
   "cell_type": "code",
   "execution_count": 63,
   "id": "d53894b2",
   "metadata": {
    "execution": {
     "iopub.execute_input": "2023-03-31T07:25:33.354470Z",
     "iopub.status.busy": "2023-03-31T07:25:33.354054Z",
     "iopub.status.idle": "2023-03-31T07:25:33.359843Z",
     "shell.execute_reply": "2023-03-31T07:25:33.358535Z"
    },
    "papermill": {
     "duration": 0.040805,
     "end_time": "2023-03-31T07:25:33.362560",
     "exception": false,
     "start_time": "2023-03-31T07:25:33.321755",
     "status": "completed"
    },
    "tags": []
   },
   "outputs": [],
   "source": [
    "final_model = xgb.XGBClassifier(learning_rate=0.1, max_depth=7)\n",
    "# final_model.fit(X_train, y_train)\n",
    "\n",
    "# pred_final_train = final_model.predict(X_train)\n",
    "# pred_final_valid = final_model.predict(X_valid)\n",
    "\n",
    "# print(\"MAE: %.4f\" % metrics.mean_absolute_error(pred_final_train, y_train))\n",
    "# print(\"R2 Score %.4f\" % final_model.score(X_train, y_train))\n",
    "\n",
    "# print(\"MAE: %.4f\" % metrics.mean_absolute_error(pred_final_valid, y_valid))\n",
    "# print(\"R2 Score %.4f\" % final_model.score(X_valid, y_valid))"
   ]
  },
  {
   "cell_type": "markdown",
   "id": "97bf1e56",
   "metadata": {
    "papermill": {
     "duration": 0.029724,
     "end_time": "2023-03-31T07:25:33.422393",
     "exception": false,
     "start_time": "2023-03-31T07:25:33.392669",
     "status": "completed"
    },
    "tags": []
   },
   "source": [
    "**SVM**"
   ]
  },
  {
   "cell_type": "code",
   "execution_count": 64,
   "id": "ecc6cde8",
   "metadata": {
    "execution": {
     "iopub.execute_input": "2023-03-31T07:25:33.485569Z",
     "iopub.status.busy": "2023-03-31T07:25:33.485115Z",
     "iopub.status.idle": "2023-03-31T07:25:33.489899Z",
     "shell.execute_reply": "2023-03-31T07:25:33.488496Z"
    },
    "jupyter": {
     "source_hidden": true
    },
    "papermill": {
     "duration": 0.039829,
     "end_time": "2023-03-31T07:25:33.492283",
     "exception": false,
     "start_time": "2023-03-31T07:25:33.452454",
     "status": "completed"
    },
    "tags": []
   },
   "outputs": [],
   "source": [
    "# from sklearn.svm import SVC\n",
    "# svm = SVC()\n",
    "\n",
    "# svm.fit(X_train_scaled, y_train)\n",
    "# pred_svm_train = svm.predict(X_train_scaled)\n",
    "# pred_svm_valid = svm.predict(X_valid_scaled)\n",
    "\n",
    "# print(\"MAE: %.4f\" % metrics.mean_absolute_error(pred_svm_train, y_train))\n",
    "# print(\"R2 Score %.4f\" % svm.score(X_train_scaled, y_train))\n",
    "\n",
    "# print(\"MAE: %.4f\" % metrics.mean_absolute_error(pred_svm_valid, y_valid))\n",
    "# print(\"R2 Score %.4f\" % svm.score(X_valid_scaled, y_valid))"
   ]
  },
  {
   "cell_type": "markdown",
   "id": "2416422f",
   "metadata": {
    "papermill": {
     "duration": 0.029602,
     "end_time": "2023-03-31T07:25:33.551540",
     "exception": false,
     "start_time": "2023-03-31T07:25:33.521938",
     "status": "completed"
    },
    "tags": []
   },
   "source": [
    "Trying with Pipeline and Cross Validation"
   ]
  },
  {
   "cell_type": "code",
   "execution_count": 65,
   "id": "9c1fde3d",
   "metadata": {
    "execution": {
     "iopub.execute_input": "2023-03-31T07:25:33.614978Z",
     "iopub.status.busy": "2023-03-31T07:25:33.613587Z",
     "iopub.status.idle": "2023-03-31T07:25:33.618854Z",
     "shell.execute_reply": "2023-03-31T07:25:33.617896Z"
    },
    "jupyter": {
     "source_hidden": true
    },
    "papermill": {
     "duration": 0.039666,
     "end_time": "2023-03-31T07:25:33.621252",
     "exception": false,
     "start_time": "2023-03-31T07:25:33.581586",
     "status": "completed"
    },
    "tags": []
   },
   "outputs": [],
   "source": [
    "# from sklearn.pipeline import Pipeline\n",
    "# from sklearn.impute import SimpleImputer\n",
    "\n",
    "# my_pipeline = Pipeline(steps=[('preprocessor', SimpleImputer()),\n",
    "#                               ('model', RandomForestClassifier(n_estimators=50, random_state=42))\n",
    "#                              ])\n",
    "\n",
    "# from sklearn.model_selection import cross_val_score\n",
    "# # Multiply by -1 since sklearn calculates *negative* MAE\n",
    "# scores = -1 * cross_val_score(my_pipeline, X, y, cv=5, scoring='neg_mean_absolute_error')\n",
    "\n",
    "# print(\"MAE scores:\\n\", scores)"
   ]
  },
  {
   "cell_type": "code",
   "execution_count": 66,
   "id": "ca34f3cf",
   "metadata": {
    "execution": {
     "iopub.execute_input": "2023-03-31T07:25:33.683787Z",
     "iopub.status.busy": "2023-03-31T07:25:33.683260Z",
     "iopub.status.idle": "2023-03-31T07:25:35.067468Z",
     "shell.execute_reply": "2023-03-31T07:25:35.066323Z"
    },
    "papermill": {
     "duration": 1.42003,
     "end_time": "2023-03-31T07:25:35.071168",
     "exception": false,
     "start_time": "2023-03-31T07:25:33.651138",
     "status": "completed"
    },
    "tags": []
   },
   "outputs": [
    {
     "data": {
      "text/plain": [
       "array([ True, False,  True, ...,  True,  True,  True])"
      ]
     },
     "execution_count": 66,
     "metadata": {},
     "output_type": "execute_result"
    }
   ],
   "source": [
    "# model_rf.fit(X_scaled,y) \n",
    "# final_model = xgb.XGBClassifier(learning_rate=0.1, max_depth=7, min_child_weight=1, gamma=0)\n",
    "final_model.fit(X, y)\n",
    "predictions = final_model.predict(X_test)\n",
    "predictions.astype(bool)"
   ]
  },
  {
   "cell_type": "code",
   "execution_count": 67,
   "id": "5cd373e3",
   "metadata": {
    "execution": {
     "iopub.execute_input": "2023-03-31T07:25:35.143733Z",
     "iopub.status.busy": "2023-03-31T07:25:35.142537Z",
     "iopub.status.idle": "2023-03-31T07:25:35.161123Z",
     "shell.execute_reply": "2023-03-31T07:25:35.159379Z"
    },
    "papermill": {
     "duration": 0.05365,
     "end_time": "2023-03-31T07:25:35.164422",
     "exception": false,
     "start_time": "2023-03-31T07:25:35.110772",
     "status": "completed"
    },
    "tags": []
   },
   "outputs": [
    {
     "name": "stdout",
     "output_type": "stream",
     "text": [
      "Submission saved!\n"
     ]
    }
   ],
   "source": [
    "output = pd.DataFrame({'PassengerId': test_data.PassengerId, 'Transported': predictions.astype(bool)})\n",
    "output.to_csv('submission.csv', index = False)\n",
    "print(\"Submission saved!\")"
   ]
  },
  {
   "cell_type": "code",
   "execution_count": null,
   "id": "ce11e150",
   "metadata": {
    "papermill": {
     "duration": 0.029283,
     "end_time": "2023-03-31T07:25:35.232814",
     "exception": false,
     "start_time": "2023-03-31T07:25:35.203531",
     "status": "completed"
    },
    "tags": []
   },
   "outputs": [],
   "source": []
  }
 ],
 "metadata": {
  "kernelspec": {
   "display_name": "Python 3",
   "language": "python",
   "name": "python3"
  },
  "language_info": {
   "codemirror_mode": {
    "name": "ipython",
    "version": 3
   },
   "file_extension": ".py",
   "mimetype": "text/x-python",
   "name": "python",
   "nbconvert_exporter": "python",
   "pygments_lexer": "ipython3",
   "version": "3.7.12"
  },
  "papermill": {
   "default_parameters": {},
   "duration": 61.906747,
   "end_time": "2023-03-31T07:25:36.086659",
   "environment_variables": {},
   "exception": null,
   "input_path": "__notebook__.ipynb",
   "output_path": "__notebook__.ipynb",
   "parameters": {},
   "start_time": "2023-03-31T07:24:34.179912",
   "version": "2.4.0"
  }
 },
 "nbformat": 4,
 "nbformat_minor": 5
}
