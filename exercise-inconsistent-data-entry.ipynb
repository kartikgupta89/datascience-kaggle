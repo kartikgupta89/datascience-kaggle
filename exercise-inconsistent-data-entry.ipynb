{
 "cells": [
  {
   "cell_type": "markdown",
   "id": "067e908f",
   "metadata": {
    "papermill": {
     "duration": 0.007116,
     "end_time": "2023-02-13T08:02:25.930889",
     "exception": false,
     "start_time": "2023-02-13T08:02:25.923773",
     "status": "completed"
    },
    "tags": []
   },
   "source": [
    "**This notebook is an exercise in the [Data Cleaning](https://www.kaggle.com/learn/data-cleaning) course.  You can reference the tutorial at [this link](https://www.kaggle.com/alexisbcook/inconsistent-data-entry).**\n",
    "\n",
    "---\n"
   ]
  },
  {
   "cell_type": "markdown",
   "id": "1b92dad5",
   "metadata": {
    "papermill": {
     "duration": 0.005492,
     "end_time": "2023-02-13T08:02:25.942698",
     "exception": false,
     "start_time": "2023-02-13T08:02:25.937206",
     "status": "completed"
    },
    "tags": []
   },
   "source": [
    "In this exercise, you'll apply what you learned in the **Inconsistent data entry** tutorial.\n",
    "\n",
    "# Setup\n",
    "\n",
    "The questions below will give you feedback on your work. Run the following cell to set up the feedback system."
   ]
  },
  {
   "cell_type": "code",
   "execution_count": 1,
   "id": "f2ce08c2",
   "metadata": {
    "execution": {
     "iopub.execute_input": "2023-02-13T08:02:25.956756Z",
     "iopub.status.busy": "2023-02-13T08:02:25.956048Z",
     "iopub.status.idle": "2023-02-13T08:02:26.137060Z",
     "shell.execute_reply": "2023-02-13T08:02:26.135785Z"
    },
    "papermill": {
     "duration": 0.191522,
     "end_time": "2023-02-13T08:02:26.140045",
     "exception": false,
     "start_time": "2023-02-13T08:02:25.948523",
     "status": "completed"
    },
    "tags": []
   },
   "outputs": [
    {
     "name": "stdout",
     "output_type": "stream",
     "text": [
      "Setup Complete\n"
     ]
    }
   ],
   "source": [
    "from learntools.core import binder\n",
    "binder.bind(globals())\n",
    "from learntools.data_cleaning.ex5 import *\n",
    "print(\"Setup Complete\")"
   ]
  },
  {
   "cell_type": "markdown",
   "id": "1fcafd64",
   "metadata": {
    "papermill": {
     "duration": 0.005916,
     "end_time": "2023-02-13T08:02:26.152076",
     "exception": false,
     "start_time": "2023-02-13T08:02:26.146160",
     "status": "completed"
    },
    "tags": []
   },
   "source": [
    "# Get our environment set up\n",
    "\n",
    "The first thing we'll need to do is load in the libraries and dataset we'll be using.  We use the same dataset from the tutorial."
   ]
  },
  {
   "cell_type": "code",
   "execution_count": 2,
   "id": "be3e741c",
   "metadata": {
    "execution": {
     "iopub.execute_input": "2023-02-13T08:02:26.165860Z",
     "iopub.status.busy": "2023-02-13T08:02:26.165421Z",
     "iopub.status.idle": "2023-02-13T08:02:26.182527Z",
     "shell.execute_reply": "2023-02-13T08:02:26.181512Z"
    },
    "papermill": {
     "duration": 0.027124,
     "end_time": "2023-02-13T08:02:26.185175",
     "exception": false,
     "start_time": "2023-02-13T08:02:26.158051",
     "status": "completed"
    },
    "tags": []
   },
   "outputs": [],
   "source": [
    "# modules we'll use\n",
    "import pandas as pd\n",
    "import numpy as np\n",
    "\n",
    "# helpful modules\n",
    "import fuzzywuzzy\n",
    "from fuzzywuzzy import process\n",
    "import chardet\n",
    "\n",
    "# read in all our data\n",
    "professors = pd.read_csv(\"../input/pakistan-intellectual-capital/pakistan_intellectual_capital.csv\")\n",
    "\n",
    "# set seed for reproducibility\n",
    "np.random.seed(0)"
   ]
  },
  {
   "cell_type": "code",
   "execution_count": 3,
   "id": "0414eadf",
   "metadata": {
    "execution": {
     "iopub.execute_input": "2023-02-13T08:02:26.199376Z",
     "iopub.status.busy": "2023-02-13T08:02:26.198995Z",
     "iopub.status.idle": "2023-02-13T08:02:26.210510Z",
     "shell.execute_reply": "2023-02-13T08:02:26.209366Z"
    },
    "papermill": {
     "duration": 0.021571,
     "end_time": "2023-02-13T08:02:26.212810",
     "exception": false,
     "start_time": "2023-02-13T08:02:26.191239",
     "status": "completed"
    },
    "tags": []
   },
   "outputs": [
    {
     "data": {
      "text/plain": [
       "38"
      ]
     },
     "execution_count": 3,
     "metadata": {},
     "output_type": "execute_result"
    }
   ],
   "source": [
    "professors.head()\n",
    "professors.shape\n",
    "professors['Country'].value_counts()\n",
    "professors['Country'].unique()\n",
    "professors['Country'].nunique()"
   ]
  },
  {
   "cell_type": "code",
   "execution_count": 4,
   "id": "7a4d9245",
   "metadata": {
    "execution": {
     "iopub.execute_input": "2023-02-13T08:02:26.227010Z",
     "iopub.status.busy": "2023-02-13T08:02:26.226623Z",
     "iopub.status.idle": "2023-02-13T08:02:26.241952Z",
     "shell.execute_reply": "2023-02-13T08:02:26.240537Z"
    },
    "papermill": {
     "duration": 0.025092,
     "end_time": "2023-02-13T08:02:26.244197",
     "exception": false,
     "start_time": "2023-02-13T08:02:26.219105",
     "status": "completed"
    },
    "tags": []
   },
   "outputs": [
    {
     "name": "stdout",
     "output_type": "stream",
     "text": [
      "[('south korea', 100), ('southkorea', 48), ('saudi arabia', 43), ('norway', 35), ('austria', 33), ('ireland', 33), ('pakistan', 32), ('portugal', 32), ('scotland', 32), ('australia', 30)]\n",
      "['south korea', 'southkorea']\n",
      "0       False\n",
      "1       False\n",
      "2       False\n",
      "3       False\n",
      "4       False\n",
      "        ...  \n",
      "1137     True\n",
      "1138    False\n",
      "1139    False\n",
      "1140    False\n",
      "1141     True\n",
      "Name: Country, Length: 1142, dtype: bool\n",
      "<class 'pandas.core.series.Series'>\n",
      "33       southkorea\n",
      "163      southkorea\n",
      "169      southkorea\n",
      "177      southkorea\n",
      "189      southkorea\n",
      "244      southkorea\n",
      "321      southkorea\n",
      "489     south korea\n",
      "677     south korea\n",
      "685     south korea\n",
      "764     south korea\n",
      "906     south korea\n",
      "931     south korea\n",
      "1137    south korea\n",
      "1141    south korea\n",
      "Name: Country, dtype: object\n"
     ]
    }
   ],
   "source": [
    "# convert to lower case\n",
    "professors['Country'] = professors['Country'].str.lower()\n",
    "# remove trailing white spaces\n",
    "professors['Country'] = professors['Country'].str.strip()\n",
    "\n",
    "# get the top 10 closest matches to \"south korea\"\n",
    "countries = professors['Country'].unique()\n",
    "matches = fuzzywuzzy.process.extract(\"south korea\", countries, limit=10, scorer=fuzzywuzzy.fuzz.token_sort_ratio)\n",
    "\n",
    "print(matches)\n",
    "close = [matches[0] for matches in matches if matches[1] >= 47]\n",
    "print(close)\n",
    "rows_close = professors['Country'].isin(close)\n",
    "print(rows_close)\n",
    "print(type(rows_close))\n",
    "print(professors.loc[rows_close,'Country'])"
   ]
  },
  {
   "cell_type": "markdown",
   "id": "556230d3",
   "metadata": {
    "papermill": {
     "duration": 0.005938,
     "end_time": "2023-02-13T08:02:26.256340",
     "exception": false,
     "start_time": "2023-02-13T08:02:26.250402",
     "status": "completed"
    },
    "tags": []
   },
   "source": [
    "Next, we'll redo all of the work that we did in the tutorial."
   ]
  },
  {
   "cell_type": "code",
   "execution_count": 5,
   "id": "f0a3b445",
   "metadata": {
    "execution": {
     "iopub.execute_input": "2023-02-13T08:02:26.270408Z",
     "iopub.status.busy": "2023-02-13T08:02:26.269991Z",
     "iopub.status.idle": "2023-02-13T08:02:26.289050Z",
     "shell.execute_reply": "2023-02-13T08:02:26.287076Z"
    },
    "papermill": {
     "duration": 0.028868,
     "end_time": "2023-02-13T08:02:26.291356",
     "exception": false,
     "start_time": "2023-02-13T08:02:26.262488",
     "status": "completed"
    },
    "tags": []
   },
   "outputs": [
    {
     "name": "stdout",
     "output_type": "stream",
     "text": [
      "All done!\n",
      "['thailand' 'pakistan' 'germany' 'austria' 'australia' 'uk' 'china'\n",
      " 'france' 'usofa' 'south korea' 'malaysia' 'sweden' 'italy' 'canada'\n",
      " 'norway' 'ireland' 'new zealand' 'urbana' 'portugal' 'russian federation'\n",
      " 'usa' 'finland' 'netherland' 'greece' 'turkey' 'macau' 'singapore'\n",
      " 'spain' 'japan' 'hongkong' 'saudi arabia' 'mauritius' 'scotland']\n",
      "pakistan              776\n",
      "uk                     92\n",
      "usa                    45\n",
      "malaysia               25\n",
      "france                 23\n",
      "germany                23\n",
      "austria                20\n",
      "italy                  17\n",
      "sweden                 17\n",
      "china                  16\n",
      "south korea            15\n",
      "thailand               12\n",
      "usofa                  10\n",
      "australia              10\n",
      "netherland              6\n",
      "canada                  6\n",
      "norway                  3\n",
      "ireland                 3\n",
      "japan                   3\n",
      "spain                   3\n",
      "singapore               3\n",
      "new zealand             2\n",
      "portugal                2\n",
      "finland                 1\n",
      "greece                  1\n",
      "turkey                  1\n",
      "macau                   1\n",
      "russian federation      1\n",
      "urbana                  1\n",
      "hongkong                1\n",
      "saudi arabia            1\n",
      "mauritius               1\n",
      "scotland                1\n",
      "Name: Country, dtype: int64\n",
      "33\n"
     ]
    }
   ],
   "source": [
    "# convert to lower case\n",
    "professors['Country'] = professors['Country'].str.lower()\n",
    "# remove trailing white spaces\n",
    "professors['Country'] = professors['Country'].str.strip()\n",
    "\n",
    "# get the top 10 closest matches to \"south korea\"\n",
    "countries = professors['Country'].unique()\n",
    "matches = fuzzywuzzy.process.extract(\"south korea\", countries, limit=10, scorer=fuzzywuzzy.fuzz.token_sort_ratio)\n",
    "\n",
    "# print(matches)\n",
    "# close = [matches[0] for matches in matches if matches[1] >= 47]\n",
    "# print(close)\n",
    "# rows_close = professors['Country'].isin(close)\n",
    "# print(rows_close)\n",
    "# print(type(rows_close))\n",
    "# print(professors.loc[rows_close,'Country'])\n",
    "\n",
    "def replace_matches_in_column(df, column, string_to_match, min_ratio = 47):\n",
    "    # get a list of unique strings\n",
    "    strings = df[column].unique()\n",
    "    \n",
    "    # get the top 10 closest matches to our input string\n",
    "    matches = fuzzywuzzy.process.extract(string_to_match, strings, \n",
    "                                         limit=10, scorer=fuzzywuzzy.fuzz.token_sort_ratio)\n",
    "\n",
    "    # only get matches with a ratio > 90\n",
    "    close_matches = [matches[0] for matches in matches if matches[1] >= min_ratio]\n",
    "\n",
    "    # get the rows of all the close matches in our dataframe\n",
    "    rows_with_matches = df[column].isin(close_matches)\n",
    "\n",
    "    # replace all rows with close matches with the input matches \n",
    "    df.loc[rows_with_matches, column] = string_to_match\n",
    "    \n",
    "    # let us know the function's done\n",
    "    print(\"All done!\")\n",
    "    \n",
    "replace_matches_in_column(df=professors, column='Country', string_to_match=\"south korea\")\n",
    "countries = professors['Country'].unique()\n",
    "\n",
    "print(countries)\n",
    "print(professors['Country'].value_counts())\n",
    "print(professors['Country'].nunique())"
   ]
  },
  {
   "cell_type": "markdown",
   "id": "31350cb2",
   "metadata": {
    "papermill": {
     "duration": 0.005817,
     "end_time": "2023-02-13T08:02:26.303426",
     "exception": false,
     "start_time": "2023-02-13T08:02:26.297609",
     "status": "completed"
    },
    "tags": []
   },
   "source": [
    "# 1) Examine another column\n",
    "\n",
    "Write code below to take a look at all the unique values in the \"Graduated from\" column."
   ]
  },
  {
   "cell_type": "code",
   "execution_count": 6,
   "id": "d3d7b123",
   "metadata": {
    "execution": {
     "iopub.execute_input": "2023-02-13T08:02:26.317735Z",
     "iopub.status.busy": "2023-02-13T08:02:26.317062Z",
     "iopub.status.idle": "2023-02-13T08:02:26.325784Z",
     "shell.execute_reply": "2023-02-13T08:02:26.323817Z"
    },
    "papermill": {
     "duration": 0.018994,
     "end_time": "2023-02-13T08:02:26.328515",
     "exception": false,
     "start_time": "2023-02-13T08:02:26.309521",
     "status": "completed"
    },
    "tags": []
   },
   "outputs": [
    {
     "name": "stdout",
     "output_type": "stream",
     "text": [
      "[' Columbia University' ' Delft University of Technology'\n",
      " ' Iowa State University' ' University of Central Florida'\n",
      " ' University of Innsbruck' ' University of Texas at Arlington (UTA)'\n",
      " ' University of Turin' 'Abasyn University'\n",
      " 'Abdul Wali Khan University, Mardan'\n",
      " 'Abdus Salam School of Mathematical Sciences,GC University'\n",
      " 'Agricultural University Peshawar' 'Allama Iqbal Open University'\n",
      " 'Asian Institute of Technology' 'Aston University, Birmingham'\n",
      " 'Australian National University, Caneberra' 'BUKC'\n",
      " 'Bahauddin Zakariya University' 'Bahria University'\n",
      " 'Bahria University,Islamabad'\n",
      " 'Balochistan University of Information Technology, Engineering and Management Sciences'\n",
      " 'Barani Institute of Information Technology'\n",
      " 'Beaconhouse National University' 'Beihang University'\n",
      " 'Beijing Institute of Technology'\n",
      " 'Beijing Institute of Technology Beijing'\n",
      " 'Beijing University of Posts & Telecommunications'\n",
      " 'Biztek Institute Of Business & Technology,Karachi'\n",
      " 'Blekinge Institute of Technology' 'Brock University Canada'\n",
      " 'Brunel University'\n",
      " 'CECOS University of Information Technology and Emerging Sciences,Peshawar'\n",
      " 'COMSATS Institute of Information Technology'\n",
      " 'COMSATS Institute of Information Technology,Islamabad'\n",
      " 'COMSATS Institute of Information Technology,Lahore'\n",
      " 'COMSATS Institute of Information Technology,Vehari'\n",
      " 'COMSATS Institute of Information Technology,Wah Cantt'\n",
      " 'California State University'\n",
      " 'Capital University of Science & Technology'\n",
      " 'Capital University of Science and Technology'\n",
      " 'Carnegie Mellon University, Pittsburgh'\n",
      " 'Centre for Advanced Studies in Engineering'\n",
      " 'Chalmers University of Technology' 'Chinese Academy of Sciences'\n",
      " 'Chosun University' 'City University of Science and Technology'\n",
      " 'Colorado State University' 'Colorado Technical University'\n",
      " 'Columbia University' 'Concordia University,Montreal'\n",
      " 'Coventry University' 'Cranfield University' 'DUET,Karachi'\n",
      " 'DePaul University, Chicago'\n",
      " 'Dresden University Of Technology, Dresden\\xa0'\n",
      " 'Eindhoven University of Technology (TU/e)'\n",
      " 'FAST– National University of Computer and Emerging Sciences'\n",
      " 'FAST– National University of Computer and Emerging Sciences,Chiniot-Faisalabad'\n",
      " 'FAST– National University of Computer and Emerging Sciences,Islamabad'\n",
      " 'FAST– National University of Computer and Emerging Sciences,Lahore'\n",
      " 'FAST– National University of Computer and Emerging Sciences,Peshawar'\n",
      " 'Fatima Jinnah Women University, Rawalpindi' 'Fedral Urdu University'\n",
      " 'Florida Atlantic University' 'Foundation University'\n",
      " 'Galilée - Université Paris 13' 'George Mason University'\n",
      " 'George Washington University' 'Georgetown University,DC'\n",
      " 'Ghulam Ishaq Khan Institute of Science and Technology'\n",
      " 'Gomal University' 'Government College University'\n",
      " 'Government College University, Faisalabad'\n",
      " 'Government College University,Faisalabad'\n",
      " 'Graz University of Technology' 'Grenoble' 'Griffith University'\n",
      " 'Griffith University,Nathan Campus' 'Guildford'\n",
      " 'Gwangju Institute of Science and Technology' 'HITEC University,Taxila'\n",
      " 'Hamburg University of Technology' 'Hamdard University'\n",
      " 'Hanyang University, Ansan' 'Harbin Institute of Technology'\n",
      " 'Huazhong University of Science and Technology (HUST), Wuhan'\n",
      " 'IBMS KP Agricultural University Peshawar' 'INRIA Saclay Ile-de-France'\n",
      " 'INSA de Lyon, Rhone' 'IQRA University' 'IQRA University,Islamabad'\n",
      " 'IQRA University,Karachi' 'ISRA University'\n",
      " 'Illinois Institute of Technology' 'Ilmenau University of Technology'\n",
      " 'Imperial College, University of London'\n",
      " 'Information Technology University (ITU)'\n",
      " 'Institute Of Managment Sciences, Peshawar'\n",
      " 'Institute of Business Administration'\n",
      " 'Institute of Business Administration,Karachi'\n",
      " 'Institute of Business Administration,Sukkur'\n",
      " 'Institute of Management Sciences, Peshawar'\n",
      " 'International Islamic University'\n",
      " 'International Islamic University,Islamabad'\n",
      " 'Islamia College University ' 'JKU' 'JNU' 'Jinnah University for Women'\n",
      " 'John Moorse University, Liverpool' 'Jonkoping University'\n",
      " 'KTH Royal Institute of Technology'\n",
      " 'King Abdullah University of Science and Technology'\n",
      " 'Kingston University London'\n",
      " 'Kohat University of Science & Technology, Kohat' 'Kyung Hee University'\n",
      " 'Kyungpook National University' 'Kyushu University,Fukuoka'\n",
      " 'Lahore College for Women University' 'Lahore Leads University'\n",
      " 'Lahore University of Management Sciences' 'Linköping University'\n",
      " 'Liverpool John Moores University' 'London University'\n",
      " 'Loughborough University' 'Manchester Metropolitan University'\n",
      " 'Manchester University' 'Massachusetts Institute of Technology'\n",
      " 'Max Planck Institute for Computer Science'\n",
      " 'Mehran University of Engineering & Technology' 'Mid Sweden University'\n",
      " 'Middle East Technical University' 'Middlesex University'\n",
      " 'Minhaj University Lahore' 'Mohammad Ali Jinnah University'\n",
      " 'Monash University' 'Muroran Institute of Technology,Hokkaido'\n",
      " 'Myongji University' 'NCSU'\n",
      " 'NED University of Engineering And Technology' 'Nancy 2 University'\n",
      " 'Nanyang Tech University'\n",
      " 'National College of Business Administration and Economics'\n",
      " 'National Textile University' 'National University of Modern Languages'\n",
      " 'National University of Modern Languages,Islamabad'\n",
      " 'National University of Sciences and Technology'\n",
      " 'National University of Singapore' 'New York Institute of Technology'\n",
      " 'North Dakota State University' 'Northeastern University,Boston'\n",
      " 'Norwegian University of Science and Technology (NTNU),'\n",
      " 'Nottingham Trent University' 'Oxford Brookes University'\n",
      " 'PAF-Karachi Institute of Economics and Technology'\n",
      " 'Pace University, New York'\n",
      " 'Pakistan Institute of Engineering and Applied Sciences'\n",
      " 'Paris Descartes University' 'Paris Tech University of Eurecom'\n",
      " 'Pir Mehr Ali Shah Arid Agriculture University'\n",
      " 'Pohang University of Science and Technology' 'Politecnico di Milano'\n",
      " 'Politecnico di Torino' 'Pompeu Fabra University Barcelona' 'Preston'\n",
      " 'Punjab University College of Information Technology' 'Purdue University'\n",
      " 'Quaid-e-Awam University of Engineering, Science & Technology'\n",
      " 'Quaid-i-Azam University' 'Queen Mary University of London'\n",
      " 'RWTH Aachen University'\n",
      " 'Razak School of Engineering and Advanced Technology, Universiti Teknologi Malaysia (UTM)'\n",
      " 'Riphah International University'\n",
      " 'Riphah International University,Faisalabad'\n",
      " 'Rutgers State University of New Jersey, NJ' 'SRH Hochschule Heidelberg'\n",
      " 'SSindh Agriculture University' 'Saarland University'\n",
      " 'Sapienza University of Rome' \"Sardar Bahadur Khan Women's University\"\n",
      " 'Seoul National University' 'Shah Abdul Latif University, Khairpur'\n",
      " 'Shaheed Zulfikar Ali Bhutto Institute of Science and Technology'\n",
      " 'Shaheed Zulfikar Ali Bhutto Institute of Science and Technology,Islamabad'\n",
      " 'Sindh Agriculture University' 'Sindh University'\n",
      " 'Sir Syed University of Engineering and Technology'\n",
      " 'Skolkovo Institute of Science and Technology,\\xa0'\n",
      " 'South Asian University' 'Staffordshire University' 'Stanford University'\n",
      " 'State University of New York System' 'Stockholm University'\n",
      " 'Sungkyunkwan University' 'Superior University, Lahore' 'Swansea'\n",
      " 'Swedish University of Agricultural Sciences, Uppsala'\n",
      " 'Swinburne University Of Technology' 'TU Berlin' 'TU Wien'\n",
      " 'Technical University of Braunschweig' 'Technical University of Graz'\n",
      " 'Temple University' 'The Islamia University of Bahawalpur '\n",
      " 'The Ohio State University' 'The Queens University of Belfast'\n",
      " 'The State University of New Jersey' 'The University of Auckland'\n",
      " 'The University of Birmingham' 'The University of Cambridge'\n",
      " 'The University of Leeds' 'The University of Manchester'\n",
      " 'The University of Queensland' 'The University of Texas at Austin'\n",
      " 'The University of York' 'Tilburg University'\n",
      " 'Tokyo Institute of Technology' 'Tsinghua University'\n",
      " 'United Nations University International Institute for Software Technology (UNU-IIST)'\n",
      " 'Univ of Porto/Univ of Aveiro Portugal/Uni of Minho'\n",
      " \"Universite d'Evry Val d'Essonne\" 'Universiti Putra Malaysia Putra'\n",
      " 'Universiti Technologi' 'Universiti Teknologi PETRONAS'\n",
      " 'Universiti Tun Hussein Onn Malaysia'\n",
      " 'University Institute of Information Technology' 'University Of Caen'\n",
      " 'University Of Oslo' 'University Of Salford'\n",
      " 'University Of Southern California' 'University Of Waterloo'\n",
      " 'University Paris' 'University of Abertay Dundee'\n",
      " 'University of Agriculture' 'University of Agriculture Faisalabad'\n",
      " 'University of Agriculture, Faisalabad'\n",
      " 'University of Agriculture, Faisalabad\\xa0'\n",
      " 'University of Arid Agriculture' 'University of Balochistan'\n",
      " 'University of Bath' 'University of Bayreuth'\n",
      " 'University of BedfordShire' 'University of Bedfordshire'\n",
      " 'University of Bergen' 'University of Birmingham' 'University of Bologna'\n",
      " 'University of Bonn' 'University of Bradford' 'University of Bristol'\n",
      " 'University of British Columbia' 'University of Canterbury'\n",
      " 'University of Central Florida' 'University of Central Missouri'\n",
      " 'University of Central Punjab' 'University of Colorado\\xa0'\n",
      " 'University of Dundee' 'University of Engineering & Technology'\n",
      " 'University of Engineering and Technology'\n",
      " 'University of Engineering and Technology,Peshawar'\n",
      " 'University of Engineering and Technology,Taxila' 'University of Essex'\n",
      " 'University of Florida' 'University of Freiburg' 'University of Genova'\n",
      " 'University of Glasgow' 'University of Grenoble' 'University of Gujrat'\n",
      " 'University of Huddersfield' 'University of Illinois'\n",
      " 'University of Innsbruck' 'University of Karachi' 'University of Kent'\n",
      " 'University of Konstanz' 'University of Kuala Lumpur'\n",
      " 'University of Lahore' 'University of Leeds' 'University of Leicester'\n",
      " 'University of Limerick' 'University of Liverpool' 'University of Malaga'\n",
      " 'University of Malaya' 'University of Management and Technology'\n",
      " 'University of Manchester'\n",
      " 'University of Manchester Institute of Science and Technology'\n",
      " 'University of Mississippi\\xa0' 'University of New South Wales, Sydney'\n",
      " 'University of Nice, Sophia Antipolis' 'University of Northampton'\n",
      " 'University of Notre Dame Indiana\\xa0' 'University of Orleans'\n",
      " 'University of Oviedo' 'University of Paisley' 'University of Paris'\n",
      " 'University of Paris-Est' 'University of Patras' 'University of Peshawar'\n",
      " 'University of Pittsburgh' 'University of Plymouth' 'University of Porto'\n",
      " 'University of Regina' 'University of Rochester'\n",
      " 'University of Rome Tor Vergata' 'University of Saarland'\n",
      " 'University of Salford'\n",
      " 'University of Shanghai for Science and Technology'\n",
      " 'University of South Australia' 'University of South Brittany'\n",
      " 'University of South Florida' 'University of Southampton'\n",
      " 'University of Southern California' 'University of Stirling'\n",
      " 'University of Stuttgart' 'University of Sunderland'\n",
      " 'University of Surrey' 'University of Sussex' 'University of Technology'\n",
      " 'University of Trento' 'University of Turbat' 'University of Ulm'\n",
      " 'University of Vienna' 'University of Virginia' 'University of Wales'\n",
      " 'University of Wales,Aberystwyth' 'University of Westminster'\n",
      " 'University of York' 'University of the Punjab'\n",
      " 'University of the Punjab,Gujranwala' 'University of the West Scotland'\n",
      " 'University of\\xa0Liverpool John Moores University'\n",
      " 'Universität Salzburg' 'Université Henri Poincaré, Nancy 1,'\n",
      " 'Université de la Rochelle' 'Universtiy of Karachi'\n",
      " 'Universtiy of Lahore' 'Uppsala University'\n",
      " 'Usman Institute of Technology'\n",
      " 'Usman Institute of Technology (Hamdard University)'\n",
      " 'Vienna University of Technology' 'Virtual University of Pakistan'\n",
      " 'Vrije University, Amsterdam' 'Wayne State University'\n",
      " 'Xiamen university' 'Zhejiang University' '\\xa0Boston University'\n",
      " '\\xa0Hongik University' '\\xa0Nanyang Technological University'\n",
      " '\\xa0National University of Sciences and Technology-NIIT'\n",
      " '\\xa0University of Bedfordshire' '\\xa0University of Bonn'\n",
      " '\\xa0University of Missouri, KC' '\\xa0University of Windsor'\n",
      " 'Åbo Akademi University,']\n"
     ]
    }
   ],
   "source": [
    "# TODO: Your code here\n",
    "# print(professors['Graduated from'].nunique())\n",
    "a = professors['Graduated from'].unique()\n",
    "a.sort()\n",
    "print(a)\n",
    "\n",
    "# print(type(professors['Graduated from'].unique()))\n",
    "# print(professors['Graduated from'].value_counts().sort_index().head(50))\n",
    "# print(type(professors['Graduated from'].value_counts()))"
   ]
  },
  {
   "cell_type": "markdown",
   "id": "1a897833",
   "metadata": {
    "papermill": {
     "duration": 0.006232,
     "end_time": "2023-02-13T08:02:26.341490",
     "exception": false,
     "start_time": "2023-02-13T08:02:26.335258",
     "status": "completed"
    },
    "tags": []
   },
   "source": [
    "Do you notice any inconsistencies in the data?  Can any of the inconsistencies in the data be fixed by removing white spaces at the beginning and end of cells?\n",
    "\n",
    "Once you have answered these questions, run the code cell below to get credit for your work."
   ]
  },
  {
   "cell_type": "code",
   "execution_count": 7,
   "id": "bd7666a7",
   "metadata": {
    "execution": {
     "iopub.execute_input": "2023-02-13T08:02:26.356648Z",
     "iopub.status.busy": "2023-02-13T08:02:26.355800Z",
     "iopub.status.idle": "2023-02-13T08:02:26.365956Z",
     "shell.execute_reply": "2023-02-13T08:02:26.364900Z"
    },
    "papermill": {
     "duration": 0.02014,
     "end_time": "2023-02-13T08:02:26.368106",
     "exception": false,
     "start_time": "2023-02-13T08:02:26.347966",
     "status": "completed"
    },
    "tags": []
   },
   "outputs": [
    {
     "data": {
      "application/javascript": [
       "parent.postMessage({\"jupyterEvent\": \"custom.exercise_interaction\", \"data\": {\"outcomeType\": 1, \"valueTowardsCompletion\": 0.3333333333333333, \"interactionType\": 1, \"questionType\": 4, \"questionId\": \"1_ExamineProvince\", \"learnToolsVersion\": \"0.3.4\", \"failureMessage\": \"\", \"exceptionClass\": \"\", \"trace\": \"\"}}, \"*\")"
      ],
      "text/plain": [
       "<IPython.core.display.Javascript object>"
      ]
     },
     "metadata": {},
     "output_type": "display_data"
    },
    {
     "data": {
      "text/markdown": [
       "<span style=\"color:#33cc33\">Correct:</span> \n",
       "\n",
       "There are inconsistencies that can be fixed by removing white spaces at the beginning and end of cells.  For instance, \"University of Central Florida\" and \" University of Central Florida\" both appear in the column."
      ],
      "text/plain": [
       "Correct: \n",
       "\n",
       "There are inconsistencies that can be fixed by removing white spaces at the beginning and end of cells.  For instance, \"University of Central Florida\" and \" University of Central Florida\" both appear in the column."
      ]
     },
     "metadata": {},
     "output_type": "display_data"
    }
   ],
   "source": [
    "# Check your answer (Run this code cell to receive credit!)\n",
    "q1.check()"
   ]
  },
  {
   "cell_type": "code",
   "execution_count": 8,
   "id": "82b7b8c2",
   "metadata": {
    "execution": {
     "iopub.execute_input": "2023-02-13T08:02:26.384310Z",
     "iopub.status.busy": "2023-02-13T08:02:26.383913Z",
     "iopub.status.idle": "2023-02-13T08:02:26.391876Z",
     "shell.execute_reply": "2023-02-13T08:02:26.390772Z"
    },
    "papermill": {
     "duration": 0.018571,
     "end_time": "2023-02-13T08:02:26.394188",
     "exception": false,
     "start_time": "2023-02-13T08:02:26.375617",
     "status": "completed"
    },
    "tags": []
   },
   "outputs": [
    {
     "data": {
      "application/javascript": [
       "parent.postMessage({\"jupyterEvent\": \"custom.exercise_interaction\", \"data\": {\"interactionType\": 2, \"questionType\": 4, \"questionId\": \"1_ExamineProvince\", \"learnToolsVersion\": \"0.3.4\", \"valueTowardsCompletion\": 0.0, \"failureMessage\": \"\", \"exceptionClass\": \"\", \"trace\": \"\", \"outcomeType\": 4}}, \"*\")"
      ],
      "text/plain": [
       "<IPython.core.display.Javascript object>"
      ]
     },
     "metadata": {},
     "output_type": "display_data"
    },
    {
     "data": {
      "text/markdown": [
       "<span style=\"color:#3366cc\">Hint:</span> Use `unis = professors['Graduated from'].unique()` to take a look at the unique values in the 'Graduated from' column. You may find it useful to sort the data before printing it."
      ],
      "text/plain": [
       "Hint: Use `unis = professors['Graduated from'].unique()` to take a look at the unique values in the 'Graduated from' column. You may find it useful to sort the data before printing it."
      ]
     },
     "metadata": {},
     "output_type": "display_data"
    }
   ],
   "source": [
    "# Line below will give you a hint\n",
    "q1.hint()"
   ]
  },
  {
   "cell_type": "markdown",
   "id": "c81e7103",
   "metadata": {
    "papermill": {
     "duration": 0.006841,
     "end_time": "2023-02-13T08:02:26.408227",
     "exception": false,
     "start_time": "2023-02-13T08:02:26.401386",
     "status": "completed"
    },
    "tags": []
   },
   "source": [
    "# 2) Do some text pre-processing\n",
    "\n",
    "Convert every entry in the \"Graduated from\" column in the `professors` DataFrame to remove white spaces at the beginning and end of cells."
   ]
  },
  {
   "cell_type": "code",
   "execution_count": 9,
   "id": "d8bbe985",
   "metadata": {
    "execution": {
     "iopub.execute_input": "2023-02-13T08:02:26.424137Z",
     "iopub.status.busy": "2023-02-13T08:02:26.423745Z",
     "iopub.status.idle": "2023-02-13T08:02:26.436947Z",
     "shell.execute_reply": "2023-02-13T08:02:26.435812Z"
    },
    "papermill": {
     "duration": 0.02391,
     "end_time": "2023-02-13T08:02:26.439250",
     "exception": false,
     "start_time": "2023-02-13T08:02:26.415340",
     "status": "completed"
    },
    "tags": []
   },
   "outputs": [
    {
     "data": {
      "application/javascript": [
       "parent.postMessage({\"jupyterEvent\": \"custom.exercise_interaction\", \"data\": {\"outcomeType\": 1, \"valueTowardsCompletion\": 0.3333333333333333, \"interactionType\": 1, \"questionType\": 1, \"questionId\": \"2_TextProcessing\", \"learnToolsVersion\": \"0.3.4\", \"failureMessage\": \"\", \"exceptionClass\": \"\", \"trace\": \"\"}}, \"*\")"
      ],
      "text/plain": [
       "<IPython.core.display.Javascript object>"
      ]
     },
     "metadata": {},
     "output_type": "display_data"
    },
    {
     "data": {
      "text/markdown": [
       "<span style=\"color:#33cc33\">Correct</span>"
      ],
      "text/plain": [
       "Correct"
      ]
     },
     "metadata": {},
     "output_type": "display_data"
    }
   ],
   "source": [
    "# TODO: Your code here\n",
    "professors['Graduated from'] = professors['Graduated from'].str.strip()\n",
    "\n",
    "# Check your answer\n",
    "q2.check()"
   ]
  },
  {
   "cell_type": "code",
   "execution_count": 10,
   "id": "fbaed1c3",
   "metadata": {
    "execution": {
     "iopub.execute_input": "2023-02-13T08:02:26.455788Z",
     "iopub.status.busy": "2023-02-13T08:02:26.455356Z",
     "iopub.status.idle": "2023-02-13T08:02:26.463379Z",
     "shell.execute_reply": "2023-02-13T08:02:26.462289Z"
    },
    "papermill": {
     "duration": 0.019227,
     "end_time": "2023-02-13T08:02:26.465795",
     "exception": false,
     "start_time": "2023-02-13T08:02:26.446568",
     "status": "completed"
    },
    "tags": []
   },
   "outputs": [
    {
     "data": {
      "application/javascript": [
       "parent.postMessage({\"jupyterEvent\": \"custom.exercise_interaction\", \"data\": {\"interactionType\": 3, \"questionType\": 1, \"questionId\": \"2_TextProcessing\", \"learnToolsVersion\": \"0.3.4\", \"valueTowardsCompletion\": 0.0, \"failureMessage\": \"\", \"exceptionClass\": \"\", \"trace\": \"\", \"outcomeType\": 4}}, \"*\")"
      ],
      "text/plain": [
       "<IPython.core.display.Javascript object>"
      ]
     },
     "metadata": {},
     "output_type": "display_data"
    },
    {
     "data": {
      "text/markdown": [
       "<span style=\"color:#33cc99\">Solution:</span> \n",
       "```python\n",
       "professors['Graduated from'] = professors['Graduated from'].str.strip()\n",
       "\n",
       "```"
      ],
      "text/plain": [
       "Solution: \n",
       "```python\n",
       "professors['Graduated from'] = professors['Graduated from'].str.strip()\n",
       "\n",
       "```"
      ]
     },
     "metadata": {},
     "output_type": "display_data"
    }
   ],
   "source": [
    "# Lines below will give you a hint or solution code\n",
    "#q2.hint()\n",
    "q2.solution()"
   ]
  },
  {
   "cell_type": "markdown",
   "id": "0cc25692",
   "metadata": {
    "papermill": {
     "duration": 0.007216,
     "end_time": "2023-02-13T08:02:26.480753",
     "exception": false,
     "start_time": "2023-02-13T08:02:26.473537",
     "status": "completed"
    },
    "tags": []
   },
   "source": [
    "# 3) Continue working with countries\n",
    "\n",
    "In the tutorial, we focused on cleaning up inconsistencies in the \"Country\" column.  Run the code cell below to view the list of unique values that we ended with."
   ]
  },
  {
   "cell_type": "code",
   "execution_count": 11,
   "id": "7f255ed0",
   "metadata": {
    "execution": {
     "iopub.execute_input": "2023-02-13T08:02:26.498764Z",
     "iopub.status.busy": "2023-02-13T08:02:26.497368Z",
     "iopub.status.idle": "2023-02-13T08:02:26.505340Z",
     "shell.execute_reply": "2023-02-13T08:02:26.504422Z"
    },
    "papermill": {
     "duration": 0.019173,
     "end_time": "2023-02-13T08:02:26.507376",
     "exception": false,
     "start_time": "2023-02-13T08:02:26.488203",
     "status": "completed"
    },
    "tags": []
   },
   "outputs": [
    {
     "data": {
      "text/plain": [
       "array(['australia', 'austria', 'canada', 'china', 'finland', 'france',\n",
       "       'germany', 'greece', 'hongkong', 'ireland', 'italy', 'japan',\n",
       "       'macau', 'malaysia', 'mauritius', 'netherland', 'new zealand',\n",
       "       'norway', 'pakistan', 'portugal', 'russian federation',\n",
       "       'saudi arabia', 'scotland', 'singapore', 'south korea', 'spain',\n",
       "       'sweden', 'thailand', 'turkey', 'uk', 'urbana', 'usa', 'usofa'],\n",
       "      dtype=object)"
      ]
     },
     "execution_count": 11,
     "metadata": {},
     "output_type": "execute_result"
    }
   ],
   "source": [
    "# get all the unique values in the 'City' column\n",
    "countries = professors['Country'].unique()\n",
    "\n",
    "# sort them alphabetically and then take a closer look\n",
    "countries.sort()\n",
    "countries"
   ]
  },
  {
   "cell_type": "markdown",
   "id": "0dda1aba",
   "metadata": {
    "papermill": {
     "duration": 0.00735,
     "end_time": "2023-02-13T08:02:26.522714",
     "exception": false,
     "start_time": "2023-02-13T08:02:26.515364",
     "status": "completed"
    },
    "tags": []
   },
   "source": [
    "Take another look at the \"Country\" column and see if there's any more data cleaning we need to do.\n",
    "\n",
    "It looks like 'usa' and 'usofa' should be the same country.  Correct the \"Country\" column in the dataframe to replace 'usofa' with 'usa'.\n",
    "\n",
    "**Use the most recent version of the DataFrame (with the whitespaces at the beginning and end of cells removed) from question 2.**"
   ]
  },
  {
   "cell_type": "code",
   "execution_count": 12,
   "id": "345fbda4",
   "metadata": {
    "execution": {
     "iopub.execute_input": "2023-02-13T08:02:26.540091Z",
     "iopub.status.busy": "2023-02-13T08:02:26.539584Z",
     "iopub.status.idle": "2023-02-13T08:02:26.553724Z",
     "shell.execute_reply": "2023-02-13T08:02:26.552254Z"
    },
    "papermill": {
     "duration": 0.025701,
     "end_time": "2023-02-13T08:02:26.556110",
     "exception": false,
     "start_time": "2023-02-13T08:02:26.530409",
     "status": "completed"
    },
    "tags": []
   },
   "outputs": [
    {
     "name": "stdout",
     "output_type": "stream",
     "text": [
      "<class 'pandas.core.series.Series'> \n",
      " 0       False\n",
      "1       False\n",
      "2       False\n",
      "3       False\n",
      "4       False\n",
      "        ...  \n",
      "1137    False\n",
      "1138    False\n",
      "1139    False\n",
      "1140    False\n",
      "1141    False\n",
      "Name: Country, Length: 1142, dtype: bool\n"
     ]
    },
    {
     "data": {
      "application/javascript": [
       "parent.postMessage({\"jupyterEvent\": \"custom.exercise_interaction\", \"data\": {\"outcomeType\": 1, \"valueTowardsCompletion\": 0.3333333333333333, \"interactionType\": 1, \"questionType\": 1, \"questionId\": \"3_WorkingWithCities\", \"learnToolsVersion\": \"0.3.4\", \"failureMessage\": \"\", \"exceptionClass\": \"\", \"trace\": \"\"}}, \"*\")"
      ],
      "text/plain": [
       "<IPython.core.display.Javascript object>"
      ]
     },
     "metadata": {},
     "output_type": "display_data"
    },
    {
     "data": {
      "text/markdown": [
       "<span style=\"color:#33cc33\">Correct</span>"
      ],
      "text/plain": [
       "Correct"
      ]
     },
     "metadata": {},
     "output_type": "display_data"
    }
   ],
   "source": [
    "# TODO: Your code here!\n",
    "r = professors['Country'] == 'usofa'\n",
    "print(type(r),'\\n',r)\n",
    "\n",
    "professors.loc[r,'Country'] = 'usa'\n",
    "sorted(professors['Country'].unique())\n",
    "# Check your answer\n",
    "q3.check()"
   ]
  },
  {
   "cell_type": "code",
   "execution_count": 13,
   "id": "6c94a428",
   "metadata": {
    "execution": {
     "iopub.execute_input": "2023-02-13T08:02:26.574165Z",
     "iopub.status.busy": "2023-02-13T08:02:26.573776Z",
     "iopub.status.idle": "2023-02-13T08:02:26.586655Z",
     "shell.execute_reply": "2023-02-13T08:02:26.585189Z"
    },
    "papermill": {
     "duration": 0.024929,
     "end_time": "2023-02-13T08:02:26.589241",
     "exception": false,
     "start_time": "2023-02-13T08:02:26.564312",
     "status": "completed"
    },
    "tags": []
   },
   "outputs": [
    {
     "name": "stdout",
     "output_type": "stream",
     "text": [
      "[('usa', 100), ('usofa', 75), ('austria', 60), ('australia', 50), ('spain', 50), ('urbana', 44), ('uk', 40), ('malaysia', 36), ('pakistan', 36), ('portugal', 36)]\n",
      "All done!\n",
      "['thailand' 'pakistan' 'germany' 'austria' 'australia' 'uk' 'china'\n",
      " 'france' 'usa' 'south korea' 'malaysia' 'sweden' 'italy' 'canada'\n",
      " 'norway' 'ireland' 'new zealand' 'urbana' 'portugal' 'russian federation'\n",
      " 'finland' 'netherland' 'greece' 'turkey' 'macau' 'singapore' 'spain'\n",
      " 'japan' 'hongkong' 'saudi arabia' 'mauritius' 'scotland']\n",
      "32\n",
      "pakistan              776\n",
      "uk                     92\n",
      "usa                    55\n",
      "malaysia               25\n",
      "germany                23\n",
      "france                 23\n",
      "austria                20\n",
      "sweden                 17\n",
      "italy                  17\n",
      "china                  16\n",
      "south korea            15\n",
      "thailand               12\n",
      "australia              10\n",
      "netherland              6\n",
      "canada                  6\n",
      "norway                  3\n",
      "ireland                 3\n",
      "japan                   3\n",
      "spain                   3\n",
      "singapore               3\n",
      "new zealand             2\n",
      "portugal                2\n",
      "finland                 1\n",
      "greece                  1\n",
      "turkey                  1\n",
      "macau                   1\n",
      "russian federation      1\n",
      "urbana                  1\n",
      "hongkong                1\n",
      "saudi arabia            1\n",
      "mauritius               1\n",
      "scotland                1\n",
      "Name: Country, dtype: int64\n"
     ]
    }
   ],
   "source": [
    "\n",
    "matches = fuzzywuzzy.process.extract(\"usa\",countries,limit=10,scorer=fuzzywuzzy.fuzz.token_sort_ratio)\n",
    "print(matches)\n",
    "replace_matches_in_column(professors,'Country',\"usa\",70)\n",
    "print(professors['Country'].unique())\n",
    "print(professors['Country'].nunique())\n",
    "print(professors['Country'].value_counts())"
   ]
  },
  {
   "cell_type": "code",
   "execution_count": 14,
   "id": "da4f2d73",
   "metadata": {
    "execution": {
     "iopub.execute_input": "2023-02-13T08:02:26.608171Z",
     "iopub.status.busy": "2023-02-13T08:02:26.607759Z",
     "iopub.status.idle": "2023-02-13T08:02:26.616322Z",
     "shell.execute_reply": "2023-02-13T08:02:26.615290Z"
    },
    "papermill": {
     "duration": 0.020171,
     "end_time": "2023-02-13T08:02:26.618529",
     "exception": false,
     "start_time": "2023-02-13T08:02:26.598358",
     "status": "completed"
    },
    "tags": []
   },
   "outputs": [
    {
     "data": {
      "application/javascript": [
       "parent.postMessage({\"jupyterEvent\": \"custom.exercise_interaction\", \"data\": {\"interactionType\": 3, \"questionType\": 1, \"questionId\": \"3_WorkingWithCities\", \"learnToolsVersion\": \"0.3.4\", \"valueTowardsCompletion\": 0.0, \"failureMessage\": \"\", \"exceptionClass\": \"\", \"trace\": \"\", \"outcomeType\": 4}}, \"*\")"
      ],
      "text/plain": [
       "<IPython.core.display.Javascript object>"
      ]
     },
     "metadata": {},
     "output_type": "display_data"
    },
    {
     "data": {
      "text/markdown": [
       "<span style=\"color:#33cc99\">Solution:</span> \n",
       "```python\n",
       "matches = fuzzywuzzy.process.extract(\"usa\", countries, limit=10, scorer=fuzzywuzzy.fuzz.token_sort_ratio)\n",
       "replace_matches_in_column(df=professors, column='Country', string_to_match=\"usa\", min_ratio=70)\n",
       "\n",
       "```"
      ],
      "text/plain": [
       "Solution: \n",
       "```python\n",
       "matches = fuzzywuzzy.process.extract(\"usa\", countries, limit=10, scorer=fuzzywuzzy.fuzz.token_sort_ratio)\n",
       "replace_matches_in_column(df=professors, column='Country', string_to_match=\"usa\", min_ratio=70)\n",
       "\n",
       "```"
      ]
     },
     "metadata": {},
     "output_type": "display_data"
    }
   ],
   "source": [
    "# Lines below will give you a hint or solution code\n",
    "#q3.hint()\n",
    "q3.solution()"
   ]
  },
  {
   "cell_type": "markdown",
   "id": "7c7a6d56",
   "metadata": {
    "papermill": {
     "duration": 0.008041,
     "end_time": "2023-02-13T08:02:26.634956",
     "exception": false,
     "start_time": "2023-02-13T08:02:26.626915",
     "status": "completed"
    },
    "tags": []
   },
   "source": [
    "# Congratulations!\n",
    "\n",
    "Congratulations for completing the **Data Cleaning** course on Kaggle Learn!\n",
    "\n",
    "To practice your new skills, you're encouraged to download and investigate some of [Kaggle's Datasets](https://www.kaggle.com/datasets)."
   ]
  },
  {
   "cell_type": "markdown",
   "id": "85bc3722",
   "metadata": {
    "papermill": {
     "duration": 0.008296,
     "end_time": "2023-02-13T08:02:26.651578",
     "exception": false,
     "start_time": "2023-02-13T08:02:26.643282",
     "status": "completed"
    },
    "tags": []
   },
   "source": [
    "---\n",
    "\n",
    "\n",
    "\n",
    "\n",
    "*Have questions or comments? Visit the [course discussion forum](https://www.kaggle.com/learn/data-cleaning/discussion) to chat with other learners.*"
   ]
  }
 ],
 "metadata": {
  "kernelspec": {
   "display_name": "Python 3",
   "language": "python",
   "name": "python3"
  },
  "language_info": {
   "codemirror_mode": {
    "name": "ipython",
    "version": 3
   },
   "file_extension": ".py",
   "mimetype": "text/x-python",
   "name": "python",
   "nbconvert_exporter": "python",
   "pygments_lexer": "ipython3",
   "version": "3.7.12"
  },
  "papermill": {
   "default_parameters": {},
   "duration": 9.635419,
   "end_time": "2023-02-13T08:02:27.281505",
   "environment_variables": {},
   "exception": null,
   "input_path": "__notebook__.ipynb",
   "output_path": "__notebook__.ipynb",
   "parameters": {},
   "start_time": "2023-02-13T08:02:17.646086",
   "version": "2.3.4"
  }
 },
 "nbformat": 4,
 "nbformat_minor": 5
}
